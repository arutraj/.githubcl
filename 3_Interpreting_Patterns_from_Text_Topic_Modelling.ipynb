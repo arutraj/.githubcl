{
  "nbformat": 4,
  "nbformat_minor": 0,
  "metadata": {
    "kernelspec": {
      "display_name": "Python 3",
      "language": "python",
      "name": "python3"
    },
    "language_info": {
      "codemirror_mode": {
        "name": "ipython",
        "version": 3
      },
      "file_extension": ".py",
      "mimetype": "text/x-python",
      "name": "python",
      "nbconvert_exporter": "python",
      "pygments_lexer": "ipython3",
      "version": "3.6.3"
    },
    "colab": {
      "provenance": [],
      "include_colab_link": true
    }
  },
  "cells": [
    {
      "cell_type": "markdown",
      "metadata": {
        "id": "view-in-github",
        "colab_type": "text"
      },
      "source": [
        "<a href=\"https://colab.research.google.com/github/arutraj/.githubcl/blob/main/3_Interpreting_Patterns_from_Text_Topic_Modelling.ipynb\" target=\"_parent\"><img src=\"https://colab.research.google.com/assets/colab-badge.svg\" alt=\"Open In Colab\"/></a>"
      ]
    },
    {
      "cell_type": "code",
      "source": [
        "!python --version"
      ],
      "metadata": {
        "id": "4_V9XOEwAIun",
        "colab": {
          "base_uri": "https://localhost:8080/"
        },
        "outputId": "b8f9b680-39bd-4e7d-9d71-6a2bfb00ddd2"
      },
      "execution_count": 2,
      "outputs": [
        {
          "output_type": "stream",
          "name": "stdout",
          "text": [
            "Python 3.10.12\n"
          ]
        }
      ]
    },
    {
      "cell_type": "code",
      "metadata": {
        "id": "Xfm3LGhTaVrm"
      },
      "source": [
        "from sklearn.decomposition import LatentDirichletAllocation\n",
        "from sklearn.feature_extraction.text import CountVectorizer\n",
        "import numpy as np\n",
        "\n",
        "cvectorizer = CountVectorizer()"
      ],
      "execution_count": 1,
      "outputs": []
    },
    {
      "cell_type": "code",
      "metadata": {
        "id": "fNATC-NcaVrt"
      },
      "source": [
        "corpus = [\"i love cooking\", \"I have prepared a cake today\", \"he is going to a new place\", \"he will learn cooking there\"]"
      ],
      "execution_count": 3,
      "outputs": []
    },
    {
      "cell_type": "code",
      "metadata": {
        "id": "vgjAOvoZaVr0"
      },
      "source": [
        "cvz = cvectorizer.fit_transform(corpus)"
      ],
      "execution_count": 4,
      "outputs": []
    },
    {
      "cell_type": "code",
      "metadata": {
        "id": "0ygFEWCMaVr6",
        "outputId": "0d343891-af2d-48a7-ace9-690843ecb608",
        "colab": {
          "base_uri": "https://localhost:8080/"
        }
      },
      "source": [
        "cvz"
      ],
      "execution_count": 5,
      "outputs": [
        {
          "output_type": "execute_result",
          "data": {
            "text/plain": [
              "<4x15 sparse matrix of type '<class 'numpy.int64'>'\n",
              "\twith 17 stored elements in Compressed Sparse Row format>"
            ]
          },
          "metadata": {},
          "execution_count": 5
        }
      ]
    },
    {
      "cell_type": "code",
      "metadata": {
        "id": "PmdKIbSEaVr_",
        "outputId": "a01ccc27-3344-44b8-8eb3-cf2620e1d1e3",
        "colab": {
          "base_uri": "https://localhost:8080/"
        }
      },
      "source": [
        "vocab = cvectorizer.get_feature_names_out()\n",
        "vocab"
      ],
      "execution_count": 6,
      "outputs": [
        {
          "output_type": "execute_result",
          "data": {
            "text/plain": [
              "array(['cake', 'cooking', 'going', 'have', 'he', 'is', 'learn', 'love',\n",
              "       'new', 'place', 'prepared', 'there', 'to', 'today', 'will'],\n",
              "      dtype=object)"
            ]
          },
          "metadata": {},
          "execution_count": 6
        }
      ]
    },
    {
      "cell_type": "code",
      "metadata": {
        "id": "9X5BJB_aaVsE"
      },
      "source": [
        "lda_model = LatentDirichletAllocation(n_components = 3, max_iter = 20, random_state = 20)\n",
        "X_topics = lda_model.fit_transform(cvz)\n",
        "topic_words = lda_model.components_"
      ],
      "execution_count": 13,
      "outputs": []
    },
    {
      "cell_type": "code",
      "source": [
        "X_topics"
      ],
      "metadata": {
        "colab": {
          "base_uri": "https://localhost:8080/"
        },
        "id": "FKBCIX1IruBi",
        "outputId": "67b28fb1-6597-4fc1-f355-9b67a44dec57"
      },
      "execution_count": 15,
      "outputs": [
        {
          "output_type": "execute_result",
          "data": {
            "text/plain": [
              "array([[0.77342627, 0.11172509, 0.11484864],\n",
              "       [0.0672812 , 0.86579901, 0.06691979],\n",
              "       [0.04835244, 0.04817357, 0.903474  ],\n",
              "       [0.0614754 , 0.05619798, 0.88232662]])"
            ]
          },
          "metadata": {},
          "execution_count": 15
        }
      ]
    },
    {
      "cell_type": "code",
      "source": [
        "topic_words"
      ],
      "metadata": {
        "colab": {
          "base_uri": "https://localhost:8080/"
        },
        "collapsed": true,
        "id": "54Y4GgQcrxoE",
        "outputId": "93537d1b-fc4f-4f49-fc39-2799c32654f6"
      },
      "execution_count": 16,
      "outputs": [
        {
          "output_type": "execute_result",
          "data": {
            "text/plain": [
              "array([[0.33409872, 1.3520179 , 0.33426983, 0.33409872, 0.3344864 ,\n",
              "        0.33426983, 0.33484162, 1.33184251, 0.33426983, 0.33426983,\n",
              "        0.33409872, 0.33484162, 0.33426983, 0.33409872, 0.33484162],\n",
              "       [1.33225166, 0.33510505, 0.33404224, 1.33225166, 0.33407486,\n",
              "        0.33404224, 0.33419528, 0.33426477, 0.33404224, 0.33404224,\n",
              "        1.33225166, 0.33419528, 0.33404224, 1.33225166, 0.33419528],\n",
              "       [0.33364962, 1.31287705, 1.33168793, 0.33364962, 2.33143874,\n",
              "        1.33168793, 1.33096309, 0.33389272, 1.33168793, 1.33168793,\n",
              "        0.33364962, 1.33096309, 1.33168793, 0.33364962, 1.33096309]])"
            ]
          },
          "metadata": {},
          "execution_count": 16
        }
      ]
    },
    {
      "cell_type": "code",
      "metadata": {
        "id": "H9zZ2_77aVsJ",
        "outputId": "0ecdad11-552e-4e6d-e63e-8690c65992c0",
        "colab": {
          "base_uri": "https://localhost:8080/"
        }
      },
      "source": [
        "n_top_words = 4\n",
        "\n",
        "for i, topic_dist in enumerate(topic_words):\n",
        "    sorted_topic_dist = np.argsort(topic_dist)\n",
        "    topic_words = np.array(vocab)[sorted_topic_dist]\n",
        "    topic_words = topic_words[:-n_top_words:-1]\n",
        "    print (\"Topic\", str(i+1), topic_words)"
      ],
      "execution_count": 8,
      "outputs": [
        {
          "output_type": "stream",
          "name": "stdout",
          "text": [
            "Topic 1 ['cooking' 'love' 'will']\n",
            "Topic 2 ['today' 'prepared' 'have']\n",
            "Topic 3 ['he' 'to' 'place']\n"
          ]
        }
      ]
    },
    {
      "cell_type": "code",
      "metadata": {
        "id": "-s31RUYKaVsQ",
        "outputId": "2c49034f-a1e6-4fba-da70-40355eabbe77",
        "colab": {
          "base_uri": "https://localhost:8080/"
        }
      },
      "source": [
        "doc_topic = lda_model.transform(cvz)\n",
        "for n in range(doc_topic.shape[0]):\n",
        "    topic_doc = doc_topic[n].argmax()\n",
        "    print (\"Document\", n+1, \" -- Topic:\" ,topic_doc)"
      ],
      "execution_count": 17,
      "outputs": [
        {
          "output_type": "stream",
          "name": "stdout",
          "text": [
            "Document 1  -- Topic: 0\n",
            "Document 2  -- Topic: 1\n",
            "Document 3  -- Topic: 2\n",
            "Document 4  -- Topic: 2\n"
          ]
        }
      ]
    },
    {
      "cell_type": "code",
      "metadata": {
        "id": "Al7F_REthVIB"
      },
      "source": [],
      "execution_count": null,
      "outputs": []
    }
  ]
}