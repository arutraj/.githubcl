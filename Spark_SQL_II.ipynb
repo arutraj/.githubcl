{
  "nbformat": 4,
  "nbformat_minor": 0,
  "metadata": {
    "colab": {
      "provenance": [],
      "collapsed_sections": [
        "Xu8UutdaFZjt",
        "uZ4f5KzrFeS5",
        "JIwKqkmxFgRn",
        "VpRMATadIjo9",
        "KNXwBJgqs7I7",
        "1Edom5Gnuc5Y",
        "yA5WqCWBw1-Y",
        "V_nOWS0qxm7G"
      ],
      "machine_shape": "hm",
      "gpuType": "T4",
      "include_colab_link": true
    },
    "kernelspec": {
      "name": "python3",
      "display_name": "Python 3"
    },
    "language_info": {
      "name": "python"
    },
    "accelerator": "GPU"
  },
  "cells": [
    {
      "cell_type": "markdown",
      "metadata": {
        "id": "view-in-github",
        "colab_type": "text"
      },
      "source": [
        "<a href=\"https://colab.research.google.com/github/arutraj/.githubcl/blob/main/Spark_SQL_II.ipynb\" target=\"_parent\"><img src=\"https://colab.research.google.com/assets/colab-badge.svg\" alt=\"Open In Colab\"/></a>"
      ]
    },
    {
      "cell_type": "markdown",
      "source": [
        "# Install pyspark and customize Colab configuration\n",
        "\n",
        "\n",
        "The pyspark installation will persist until the runtime is recycled."
      ],
      "metadata": {
        "id": "Xu8UutdaFZjt"
      }
    },
    {
      "cell_type": "code",
      "execution_count": 1,
      "metadata": {
        "id": "KxYHzVIJEez0",
        "outputId": "105db84a-9b9b-4eba-f5cc-3e1f1b750e58",
        "colab": {
          "base_uri": "https://localhost:8080/",
          "height": 541
        }
      },
      "outputs": [
        {
          "output_type": "stream",
          "name": "stdout",
          "text": [
            "\u001b[33m\r0% [Working]\u001b[0m\r            \rGet:1 https://cloud.r-project.org/bin/linux/ubuntu jammy-cran40/ InRelease [3,626 B]\n",
            "Get:2 https://developer.download.nvidia.com/compute/cuda/repos/ubuntu2204/x86_64  InRelease [1,581 B]\n",
            "Get:3 https://developer.download.nvidia.com/compute/cuda/repos/ubuntu2204/x86_64  Packages [1,071 kB]\n",
            "Get:4 http://security.ubuntu.com/ubuntu jammy-security InRelease [129 kB]\n",
            "Hit:5 http://archive.ubuntu.com/ubuntu jammy InRelease\n",
            "Get:6 http://archive.ubuntu.com/ubuntu jammy-updates InRelease [128 kB]\n",
            "Hit:7 https://ppa.launchpadcontent.net/deadsnakes/ppa/ubuntu jammy InRelease\n",
            "Hit:8 https://ppa.launchpadcontent.net/graphics-drivers/ppa/ubuntu jammy InRelease\n",
            "Ign:9 https://r2u.stat.illinois.edu/ubuntu jammy InRelease\n",
            "Hit:10 https://ppa.launchpadcontent.net/ubuntugis/ppa/ubuntu jammy InRelease\n",
            "Get:11 https://r2u.stat.illinois.edu/ubuntu jammy Release [5,713 B]\n",
            "Get:12 https://r2u.stat.illinois.edu/ubuntu jammy Release.gpg [793 B]\n",
            "Get:13 http://archive.ubuntu.com/ubuntu jammy-backports InRelease [127 kB]\n",
            "Get:14 http://archive.ubuntu.com/ubuntu jammy-updates/universe amd64 Packages [1,450 kB]\n",
            "Get:15 https://r2u.stat.illinois.edu/ubuntu jammy/main amd64 Packages [2,601 kB]\n",
            "Get:16 http://archive.ubuntu.com/ubuntu jammy-updates/main amd64 Packages [2,654 kB]\n",
            "Get:17 https://r2u.stat.illinois.edu/ubuntu jammy/main all Packages [8,425 kB]\n",
            "Fetched 16.6 MB in 5s (3,598 kB/s)\n",
            "Reading package lists... Done\n",
            "Building dependency tree... Done\n",
            "Reading state information... Done\n",
            "50 packages can be upgraded. Run 'apt list --upgradable' to see them.\n",
            "\u001b[1;33mW: \u001b[0mSkipping acquire of configured file 'main/source/Sources' as repository 'https://r2u.stat.illinois.edu/ubuntu jammy InRelease' does not seem to provide it (sources.list entry misspelt?)\u001b[0m\n",
            "tar: spark-3.2.1-bin-hadoop3.2.tgz: Cannot open: No such file or directory\n",
            "tar: Error is not recoverable: exiting now\n",
            "Requirement already satisfied: pyspark in /usr/local/lib/python3.10/dist-packages (3.5.3)\n",
            "Requirement already satisfied: py4j==0.10.9.7 in /usr/local/lib/python3.10/dist-packages (from pyspark) (0.10.9.7)\n",
            "Requirement already satisfied: py4j in /usr/local/lib/python3.10/dist-packages (0.10.9.7)\n"
          ]
        },
        {
          "output_type": "execute_result",
          "data": {
            "text/plain": [
              "'/usr/local/lib/python3.10/dist-packages/pyspark'"
            ],
            "application/vnd.google.colaboratory.intrinsic+json": {
              "type": "string"
            }
          },
          "metadata": {},
          "execution_count": 1
        }
      ],
      "source": [
        "!sudo apt update\n",
        "!apt-get install openjdk-8-jdk-headless -qq > /dev/null\n",
        "#Check this site for the latest download link https://www.apache.org/dyn/closer.lua/spark/spark-3.2.1/spark-3.2.1-bin-hadoop3.2.tgz\n",
        "!wget -q https://dlcdn.apache.org/spark/spark-3.2.1/spark-3.2.1-bin-hadoop3.2.tgz\n",
        "!tar xf spark-3.2.1-bin-hadoop3.2.tgz\n",
        "!pip install -q findspark\n",
        "!pip install pyspark\n",
        "!pip install py4j\n",
        "\n",
        "import os\n",
        "import sys\n",
        "# os.environ[\"JAVA_HOME\"] = \"/usr/lib/jvm/java-8-openjdk-amd64\"\n",
        "# os.environ[\"SPARK_HOME\"] = \"/content/spark-3.2.1-bin-hadoop3.2\"\n",
        "\n",
        "\n",
        "import findspark\n",
        "findspark.init()\n",
        "findspark.find()"
      ]
    },
    {
      "cell_type": "markdown",
      "source": [
        "# Initialize Spark"
      ],
      "metadata": {
        "id": "uZ4f5KzrFeS5"
      }
    },
    {
      "cell_type": "code",
      "source": [
        "import pyspark\n",
        "from pyspark import SparkContext\n",
        "\n",
        "from pyspark.sql import DataFrame, SparkSession\n",
        "from typing import List\n",
        "import pyspark.sql.types as T\n",
        "import pyspark.sql.functions as F\n",
        "\n",
        "spark= SparkSession \\\n",
        "       .builder \\\n",
        "       .appName(\"Our First Spark Example\") \\\n",
        "       .getOrCreate()\n",
        "\n",
        "sc = spark.sparkContext\n",
        "spark"
      ],
      "metadata": {
        "id": "t0Bv7bTXFZ_4",
        "outputId": "10c9e212-50fa-4206-f40c-a8e251bd4561",
        "colab": {
          "base_uri": "https://localhost:8080/",
          "height": 219
        }
      },
      "execution_count": 2,
      "outputs": [
        {
          "output_type": "execute_result",
          "data": {
            "text/plain": [
              "<pyspark.sql.session.SparkSession at 0x7b08b75a0070>"
            ],
            "text/html": [
              "\n",
              "            <div>\n",
              "                <p><b>SparkSession - in-memory</b></p>\n",
              "                \n",
              "        <div>\n",
              "            <p><b>SparkContext</b></p>\n",
              "\n",
              "            <p><a href=\"http://2b17f030ee1e:4040\">Spark UI</a></p>\n",
              "\n",
              "            <dl>\n",
              "              <dt>Version</dt>\n",
              "                <dd><code>v3.5.3</code></dd>\n",
              "              <dt>Master</dt>\n",
              "                <dd><code>local[*]</code></dd>\n",
              "              <dt>AppName</dt>\n",
              "                <dd><code>Our First Spark Example</code></dd>\n",
              "            </dl>\n",
              "        </div>\n",
              "        \n",
              "            </div>\n",
              "        "
            ]
          },
          "metadata": {},
          "execution_count": 2
        }
      ]
    },
    {
      "cell_type": "markdown",
      "source": [
        "# Load Cars Dataset"
      ],
      "metadata": {
        "id": "JIwKqkmxFgRn"
      }
    },
    {
      "cell_type": "code",
      "source": [
        "!wget https://jacobceles.github.io/knowledge_repo/colab_and_pyspark/cars.csv"
      ],
      "metadata": {
        "id": "WAUV8oBDbY8G",
        "outputId": "e37607fc-4714-4625-842e-638af37d4beb",
        "colab": {
          "base_uri": "https://localhost:8080/"
        }
      },
      "execution_count": 3,
      "outputs": [
        {
          "output_type": "stream",
          "name": "stdout",
          "text": [
            "--2024-10-27 18:33:00--  https://jacobceles.github.io/knowledge_repo/colab_and_pyspark/cars.csv\n",
            "Resolving jacobceles.github.io (jacobceles.github.io)... 185.199.108.153, 185.199.109.153, 185.199.110.153, ...\n",
            "Connecting to jacobceles.github.io (jacobceles.github.io)|185.199.108.153|:443... connected.\n",
            "HTTP request sent, awaiting response... 301 Moved Permanently\n",
            "Location: https://jacobcelestine.com/knowledge_repo/colab_and_pyspark/cars.csv [following]\n",
            "--2024-10-27 18:33:00--  https://jacobcelestine.com/knowledge_repo/colab_and_pyspark/cars.csv\n",
            "Resolving jacobcelestine.com (jacobcelestine.com)... 185.199.108.153, 185.199.109.153, 185.199.110.153, ...\n",
            "Connecting to jacobcelestine.com (jacobcelestine.com)|185.199.108.153|:443... connected.\n",
            "HTTP request sent, awaiting response... 200 OK\n",
            "Length: 22608 (22K) [text/csv]\n",
            "Saving to: ‘cars.csv’\n",
            "\n",
            "cars.csv            100%[===================>]  22.08K  --.-KB/s    in 0s      \n",
            "\n",
            "2024-10-27 18:33:00 (157 MB/s) - ‘cars.csv’ saved [22608/22608]\n",
            "\n"
          ]
        }
      ]
    },
    {
      "cell_type": "code",
      "source": [
        "# Using Apache Spark to read the CSV file into a DataFrame\n",
        "df = df = spark.read.csv('cars.csv', header=True, sep=\";\")\n",
        "df.createOrReplaceTempView(\"cars\")"
      ],
      "metadata": {
        "id": "Ujyv8nMvFfuP"
      },
      "execution_count": 4,
      "outputs": []
    },
    {
      "cell_type": "code",
      "source": [
        "df.show()"
      ],
      "metadata": {
        "id": "Y4uKoCthIneD",
        "outputId": "2889fbb8-b253-4958-94cd-7b611817de52",
        "colab": {
          "base_uri": "https://localhost:8080/"
        }
      },
      "execution_count": 5,
      "outputs": [
        {
          "output_type": "stream",
          "name": "stdout",
          "text": [
            "+--------------------+----+---------+------------+----------+------+------------+-----+------+\n",
            "|                 Car| MPG|Cylinders|Displacement|Horsepower|Weight|Acceleration|Model|Origin|\n",
            "+--------------------+----+---------+------------+----------+------+------------+-----+------+\n",
            "|Chevrolet Chevell...|18.0|        8|       307.0|     130.0| 3504.|        12.0|   70|    US|\n",
            "|   Buick Skylark 320|15.0|        8|       350.0|     165.0| 3693.|        11.5|   70|    US|\n",
            "|  Plymouth Satellite|18.0|        8|       318.0|     150.0| 3436.|        11.0|   70|    US|\n",
            "|       AMC Rebel SST|16.0|        8|       304.0|     150.0| 3433.|        12.0|   70|    US|\n",
            "|         Ford Torino|17.0|        8|       302.0|     140.0| 3449.|        10.5|   70|    US|\n",
            "|    Ford Galaxie 500|15.0|        8|       429.0|     198.0| 4341.|        10.0|   70|    US|\n",
            "|    Chevrolet Impala|14.0|        8|       454.0|     220.0| 4354.|         9.0|   70|    US|\n",
            "|   Plymouth Fury iii|14.0|        8|       440.0|     215.0| 4312.|         8.5|   70|    US|\n",
            "|    Pontiac Catalina|14.0|        8|       455.0|     225.0| 4425.|        10.0|   70|    US|\n",
            "|  AMC Ambassador DPL|15.0|        8|       390.0|     190.0| 3850.|         8.5|   70|    US|\n",
            "|Citroen DS-21 Pallas|   0|        4|       133.0|     115.0| 3090.|        17.5|   70|Europe|\n",
            "|Chevrolet Chevell...|   0|        8|       350.0|     165.0| 4142.|        11.5|   70|    US|\n",
            "|    Ford Torino (sw)|   0|        8|       351.0|     153.0| 4034.|        11.0|   70|    US|\n",
            "|Plymouth Satellit...|   0|        8|       383.0|     175.0| 4166.|        10.5|   70|    US|\n",
            "|  AMC Rebel SST (sw)|   0|        8|       360.0|     175.0| 3850.|        11.0|   70|    US|\n",
            "| Dodge Challenger SE|15.0|        8|       383.0|     170.0| 3563.|        10.0|   70|    US|\n",
            "|  Plymouth 'Cuda 340|14.0|        8|       340.0|     160.0| 3609.|         8.0|   70|    US|\n",
            "|Ford Mustang Boss...|   0|        8|       302.0|     140.0| 3353.|         8.0|   70|    US|\n",
            "|Chevrolet Monte C...|15.0|        8|       400.0|     150.0| 3761.|         9.5|   70|    US|\n",
            "|Buick Estate Wago...|14.0|        8|       455.0|     225.0| 3086.|        10.0|   70|    US|\n",
            "+--------------------+----+---------+------------+----------+------+------------+-----+------+\n",
            "only showing top 20 rows\n",
            "\n"
          ]
        }
      ]
    },
    {
      "cell_type": "markdown",
      "source": [
        "\n",
        "# Common Table Expression (CTE)\n"
      ],
      "metadata": {
        "id": "VpRMATadIjo9"
      }
    },
    {
      "cell_type": "code",
      "source": [
        "# Using CTE to filter out those cars with MPG>=15\n",
        "\n",
        "spark.sql(\"\"\"\n",
        "  WITH subset_cars AS (\n",
        "    SELECT * FROM cars WHERE MPG>=15.0\n",
        "  )\n",
        "\n",
        "  SELECT * FROM subset_cars\n",
        "\"\"\").show()"
      ],
      "metadata": {
        "id": "fPxGBPgdFmTh",
        "outputId": "1e5c2909-5a59-4aba-9294-da4b875e02e6",
        "colab": {
          "base_uri": "https://localhost:8080/"
        }
      },
      "execution_count": 6,
      "outputs": [
        {
          "output_type": "stream",
          "name": "stdout",
          "text": [
            "+--------------------+----+---------+------------+----------+------+------------+-----+------+\n",
            "|                 Car| MPG|Cylinders|Displacement|Horsepower|Weight|Acceleration|Model|Origin|\n",
            "+--------------------+----+---------+------------+----------+------+------------+-----+------+\n",
            "|Chevrolet Chevell...|18.0|        8|       307.0|     130.0| 3504.|        12.0|   70|    US|\n",
            "|   Buick Skylark 320|15.0|        8|       350.0|     165.0| 3693.|        11.5|   70|    US|\n",
            "|  Plymouth Satellite|18.0|        8|       318.0|     150.0| 3436.|        11.0|   70|    US|\n",
            "|       AMC Rebel SST|16.0|        8|       304.0|     150.0| 3433.|        12.0|   70|    US|\n",
            "|         Ford Torino|17.0|        8|       302.0|     140.0| 3449.|        10.5|   70|    US|\n",
            "|    Ford Galaxie 500|15.0|        8|       429.0|     198.0| 4341.|        10.0|   70|    US|\n",
            "|  AMC Ambassador DPL|15.0|        8|       390.0|     190.0| 3850.|         8.5|   70|    US|\n",
            "| Dodge Challenger SE|15.0|        8|       383.0|     170.0| 3563.|        10.0|   70|    US|\n",
            "|Chevrolet Monte C...|15.0|        8|       400.0|     150.0| 3761.|         9.5|   70|    US|\n",
            "|Toyota Corolla Ma...|24.0|        4|       113.0|     95.00| 2372.|        15.0|   70| Japan|\n",
            "|     Plymouth Duster|22.0|        6|       198.0|     95.00| 2833.|        15.5|   70|    US|\n",
            "|          AMC Hornet|18.0|        6|       199.0|     97.00| 2774.|        15.5|   70|    US|\n",
            "|       Ford Maverick|21.0|        6|       200.0|     85.00| 2587.|        16.0|   70|    US|\n",
            "|        Datsun PL510|27.0|        4|       97.00|     88.00| 2130.|        14.5|   70| Japan|\n",
            "|Volkswagen 1131 D...|26.0|        4|       97.00|     46.00| 1835.|        20.5|   70|Europe|\n",
            "|         Peugeot 504|25.0|        4|       110.0|     87.00| 2672.|        17.5|   70|Europe|\n",
            "|         Audi 100 LS|24.0|        4|       107.0|     90.00| 2430.|        14.5|   70|Europe|\n",
            "|            Saab 99e|25.0|        4|       104.0|     95.00| 2375.|        17.5|   70|Europe|\n",
            "|            BMW 2002|26.0|        4|       121.0|     113.0| 2234.|        12.5|   70|Europe|\n",
            "|         AMC Gremlin|21.0|        6|       199.0|     90.00| 2648.|        15.0|   70|    US|\n",
            "+--------------------+----+---------+------------+----------+------+------------+-----+------+\n",
            "only showing top 20 rows\n",
            "\n"
          ]
        }
      ]
    },
    {
      "cell_type": "code",
      "source": [
        "# subset_mpg: This CTE selects all rows from the cars table where the MPG (miles per gallon) is greater than or equal to 15.0.\n",
        "# subset_hp: This CTE selects all rows from the cars table where the Horsepower is greater than or equal to 100.0.\n",
        "# After creating these subsets, the main query then performs a UNION operation to combine the results of two separate queries:\n",
        "\n",
        "spark.sql(\"\"\"\n",
        "  WITH subset_mpg AS (\n",
        "    SELECT * FROM cars WHERE MPG>=15.0\n",
        "  ),\n",
        "\n",
        "  subset_hp AS (\n",
        "    SELECT * FROM cars WHERE Horsepower>=100.0\n",
        "  )\n",
        "\n",
        "  SELECT \"MPG>=15.0\" AS condition, COUNT(*) AS num_cars  FROM subset_mpg\n",
        "  UNION\n",
        "  SELECT \"Horsepower>=100.0\" AS condition, COUNT(*) AS num_cars FROM subset_hp\n",
        "\"\"\").show()"
      ],
      "metadata": {
        "id": "n3JQtNnQrxpO",
        "outputId": "5e4c9884-bd0b-429d-e8af-4991025b546a",
        "colab": {
          "base_uri": "https://localhost:8080/"
        }
      },
      "execution_count": 7,
      "outputs": [
        {
          "output_type": "stream",
          "name": "stdout",
          "text": [
            "+-----------------+--------+\n",
            "|        condition|num_cars|\n",
            "+-----------------+--------+\n",
            "|        MPG>=15.0|     345|\n",
            "|Horsepower>=100.0|     174|\n",
            "+-----------------+--------+\n",
            "\n"
          ]
        }
      ]
    },
    {
      "cell_type": "markdown",
      "source": [
        "# Subquery in WHERE clause"
      ],
      "metadata": {
        "id": "KNXwBJgqs7I7"
      }
    },
    {
      "cell_type": "code",
      "source": [
        "# This query retrieves rows from the cars table where the MPG value is above the average MPG value of all cars in the table.\n",
        "spark.sql(\"\"\"\n",
        "  SELECT * FROM cars WHERE MPG > (SELECT AVG(MPG) FROM cars)\n",
        "\"\"\").show()"
      ],
      "metadata": {
        "id": "EoH_ikwysYV6",
        "outputId": "28d36d12-0bad-460d-95cc-029c8c855844",
        "colab": {
          "base_uri": "https://localhost:8080/"
        }
      },
      "execution_count": 8,
      "outputs": [
        {
          "output_type": "stream",
          "name": "stdout",
          "text": [
            "+--------------------+----+---------+------------+----------+------+------------+-----+------+\n",
            "|                 Car| MPG|Cylinders|Displacement|Horsepower|Weight|Acceleration|Model|Origin|\n",
            "+--------------------+----+---------+------------+----------+------+------------+-----+------+\n",
            "|Toyota Corolla Ma...|24.0|        4|       113.0|     95.00| 2372.|        15.0|   70| Japan|\n",
            "|        Datsun PL510|27.0|        4|       97.00|     88.00| 2130.|        14.5|   70| Japan|\n",
            "|Volkswagen 1131 D...|26.0|        4|       97.00|     46.00| 1835.|        20.5|   70|Europe|\n",
            "|         Peugeot 504|25.0|        4|       110.0|     87.00| 2672.|        17.5|   70|Europe|\n",
            "|         Audi 100 LS|24.0|        4|       107.0|     90.00| 2430.|        14.5|   70|Europe|\n",
            "|            Saab 99e|25.0|        4|       104.0|     95.00| 2375.|        17.5|   70|Europe|\n",
            "|            BMW 2002|26.0|        4|       121.0|     113.0| 2234.|        12.5|   70|Europe|\n",
            "|        Datsun PL510|27.0|        4|       97.00|     88.00| 2130.|        14.5|   71| Japan|\n",
            "| Chevrolet Vega 2300|28.0|        4|       140.0|     90.00| 2264.|        15.5|   71|    US|\n",
            "|      Toyota Corolla|25.0|        4|       113.0|     95.00| 2228.|        14.0|   71| Japan|\n",
            "|          Ford Pinto|25.0|        4|       98.00|         0| 2046.|        19.0|   71|    US|\n",
            "|           Opel 1900|28.0|        4|       116.0|     90.00| 2123.|        14.0|   71|Europe|\n",
            "|         Peugeot 304|30.0|        4|       79.00|     70.00| 2074.|        19.5|   71|Europe|\n",
            "|           Fiat 124B|30.0|        4|       88.00|     76.00| 2065.|        14.5|   71|Europe|\n",
            "| Toyota Corolla 1200|31.0|        4|       71.00|     65.00| 1773.|        19.0|   71| Japan|\n",
            "|         Datsun 1200|35.0|        4|       72.00|     69.00| 1613.|        18.0|   71| Japan|\n",
            "|Volkswagen Model 111|27.0|        4|       97.00|     60.00| 1834.|        19.0|   71|Europe|\n",
            "|    Plymouth Cricket|26.0|        4|       91.00|     70.00| 1955.|        20.5|   71|    US|\n",
            "|Toyota Corolla Ha...|24.0|        4|       113.0|     95.00| 2278.|        15.5|   72| Japan|\n",
            "|  Dodge Colt Hardtop|25.0|        4|       97.50|     80.00| 2126.|        17.0|   72|    US|\n",
            "+--------------------+----+---------+------------+----------+------+------------+-----+------+\n",
            "only showing top 20 rows\n",
            "\n"
          ]
        }
      ]
    },
    {
      "cell_type": "markdown",
      "source": [
        "# Aggregate Queries"
      ],
      "metadata": {
        "id": "1Edom5Gnuc5Y"
      }
    },
    {
      "cell_type": "code",
      "source": [
        "# Using GROUP BY and MAX, AVG aggregate functions to calculate the average MPG and the maximum Horsepower for each region\n",
        "spark.sql(\"\"\"\n",
        "  SELECT Origin, ROUND(AVG(MPG), 2) AS average_mpg, MAX(Horsepower) AS max_horsepower FROM cars GROUP BY Origin\n",
        "\"\"\").show()"
      ],
      "metadata": {
        "id": "ojtkVEq0tzaV",
        "outputId": "aded02bb-32f1-4d63-e6b8-f37828d3d3ad",
        "colab": {
          "base_uri": "https://localhost:8080/"
        }
      },
      "execution_count": 9,
      "outputs": [
        {
          "output_type": "stream",
          "name": "stdout",
          "text": [
            "+------+-----------+--------------+\n",
            "|Origin|average_mpg|max_horsepower|\n",
            "+------+-----------+--------------+\n",
            "|Europe|      26.75|         98.00|\n",
            "| Japan|      30.45|         97.00|\n",
            "|    US|      19.69|         98.00|\n",
            "+------+-----------+--------------+\n",
            "\n"
          ]
        }
      ]
    },
    {
      "cell_type": "code",
      "source": [
        "# Using HAVING clause in the previous query\n",
        "spark.sql(\"\"\"\n",
        "  SELECT model, ROUND(AVG(MPG), 2) AS average_mpg, MAX(Horsepower) AS max_horsepower FROM cars GROUP BY model HAVING average_mpg>=20.0\n",
        "\"\"\").show()"
      ],
      "metadata": {
        "id": "ON9OPjmcuj-8",
        "outputId": "89bf5072-0f4c-4bd8-ed1e-e00287fd0a45",
        "colab": {
          "base_uri": "https://localhost:8080/"
        }
      },
      "execution_count": 10,
      "outputs": [
        {
          "output_type": "stream",
          "name": "stdout",
          "text": [
            "+-----+-----------+--------------+\n",
            "|model|average_mpg|max_horsepower|\n",
            "+-----+-----------+--------------+\n",
            "|   71|      20.52|         95.00|\n",
            "|   74|       22.7|         97.00|\n",
            "|   75|      20.27|         98.00|\n",
            "|   76|      21.57|         95.00|\n",
            "|   77|      23.38|         98.00|\n",
            "|   78|      24.06|         97.00|\n",
            "|   79|      25.09|         90.00|\n",
            "|   80|       33.7|         92.00|\n",
            "|   81|      29.32|         92.00|\n",
            "|   82|      31.71|         96.00|\n",
            "+-----+-----------+--------------+\n",
            "\n"
          ]
        }
      ]
    },
    {
      "cell_type": "code",
      "source": [
        "# Using ORDER BY clause in the previous query\n",
        "spark.sql(\"\"\"\n",
        "  SELECT Origin, ROUND(AVG(MPG), 2) AS average_mpg, MAX(Horsepower) AS max_horsepower FROM cars GROUP BY Origin ORDER BY average_mpg DESC\n",
        "\"\"\").show()"
      ],
      "metadata": {
        "id": "b6NS8JZYwMNe",
        "outputId": "a1fc82ac-45fd-471d-bfee-0ae26f6c3399",
        "colab": {
          "base_uri": "https://localhost:8080/"
        }
      },
      "execution_count": 11,
      "outputs": [
        {
          "output_type": "stream",
          "name": "stdout",
          "text": [
            "+------+-----------+--------------+\n",
            "|Origin|average_mpg|max_horsepower|\n",
            "+------+-----------+--------------+\n",
            "| Japan|      30.45|         97.00|\n",
            "|Europe|      26.75|         98.00|\n",
            "|    US|      19.69|         98.00|\n",
            "+------+-----------+--------------+\n",
            "\n"
          ]
        }
      ]
    },
    {
      "cell_type": "markdown",
      "source": [
        "# JOIN"
      ],
      "metadata": {
        "id": "yA5WqCWBw1-Y"
      }
    },
    {
      "cell_type": "code",
      "source": [
        "# Using INNER JOIN to filter out cars with MPG>=15.0 and Horsepower>=100.0.\n",
        "# For this we created 2 CTEs and then joined them\n",
        "\n",
        "spark.sql(\"\"\"\n",
        "  WITH subset_mpg AS (\n",
        "    SELECT * FROM cars WHERE MPG>=15.0\n",
        "  ),\n",
        "\n",
        "  subset_hp AS (\n",
        "    SELECT * FROM cars WHERE Horsepower>=100.0\n",
        "  )\n",
        "\n",
        "  SELECT DISTINCT subset_mpg.* FROM subset_mpg JOIN subset_hp ON subset_mpg.car = subset_hp.car\n",
        "\"\"\").show()"
      ],
      "metadata": {
        "id": "SpoiLEIzwbLt",
        "outputId": "4dd96fc8-e9c9-43d3-9f00-466588eca3f7",
        "colab": {
          "base_uri": "https://localhost:8080/"
        }
      },
      "execution_count": 12,
      "outputs": [
        {
          "output_type": "stream",
          "name": "stdout",
          "text": [
            "+--------------------+----+---------+------------+----------+------+------------+-----+------+\n",
            "|                 Car| MPG|Cylinders|Displacement|Horsepower|Weight|Acceleration|Model|Origin|\n",
            "+--------------------+----+---------+------------+----------+------+------------+-----+------+\n",
            "|Chevrolet Caprice...|17.0|        8|       305.0|     130.0| 3840.|        15.4|   79|    US|\n",
            "|       Buick Skylark|26.6|        4|       151.0|     84.00| 2635.|        16.4|   81|    US|\n",
            "|Chevrolet Monte C...|15.0|        8|       350.0|     145.0| 4082.|        13.0|   73|    US|\n",
            "|         AMC Matador|16.0|        6|       258.0|     110.0| 3632.|        18.0|   74|    US|\n",
            "|Mercury Cougar Br...|15.0|        8|       302.0|     130.0| 4295.|        14.9|   77|    US|\n",
            "|           Saab 99LE|25.0|        4|       121.0|     115.0| 2671.|        13.5|   75|Europe|\n",
            "|Chevrolet Chevell...|18.0|        8|       307.0|     130.0| 3504.|        12.0|   70|    US|\n",
            "|       Buick Century|22.4|        6|       231.0|     110.0| 3415.|        15.8|   81|    US|\n",
            "|      Chevrolet Nova|22.0|        6|       250.0|     105.0| 3353.|        14.5|   76|    US|\n",
            "|    Pontiac Catalina|16.0|        8|       400.0|     170.0| 4668.|        11.5|   75|    US|\n",
            "|Dodge Coronet Bro...|16.0|        8|       318.0|     150.0| 4190.|        13.0|   76|    US|\n",
            "|Plymouth Volare C...|19.0|        6|       225.0|     100.0| 3630.|        17.7|   77|    US|\n",
            "|     Ford LTD Landau|17.6|        8|       302.0|     129.0| 3725.|        13.4|   79|    US|\n",
            "|    Plymouth Valiant|18.0|        6|       225.0|     105.0| 3121.|        16.5|   73|    US|\n",
            "|         Dodge Aspen|18.6|        6|       225.0|     110.0| 3620.|        18.7|   78|    US|\n",
            "|       Datsun 280-ZX|32.7|        6|       168.0|     132.0| 2910.|        11.4|   80| Japan|\n",
            "|  Chevrolet Citation|28.0|        4|       151.0|     90.00| 2678.|        16.5|   80|    US|\n",
            "|         Ford Torino|17.0|        8|       302.0|     140.0| 3449.|        10.5|   70|    US|\n",
            "|   Pontiac Lemans V6|21.5|        6|       231.0|     115.0| 3245.|        15.4|   79|    US|\n",
            "|Chevrolet Chevell...|16.0|        6|       250.0|     100.0| 3781.|        17.0|   74|    US|\n",
            "+--------------------+----+---------+------------+----------+------+------------+-----+------+\n",
            "only showing top 20 rows\n",
            "\n"
          ]
        }
      ]
    },
    {
      "cell_type": "markdown",
      "source": [
        "# WINDOW Functions"
      ],
      "metadata": {
        "id": "V_nOWS0qxm7G"
      }
    },
    {
      "cell_type": "code",
      "source": [
        "# Using window function with AVG aggregation to find out average horsepower for each region\n",
        "\n",
        "spark.sql(\"SELECT *, ROUND(AVG(Horsepower) OVER (PARTITION BY Origin), 2) AS avg_horsepower FROM cars ORDER BY RAND()\").show()"
      ],
      "metadata": {
        "id": "ajwLcYoUxEX9",
        "outputId": "6d660054-d08b-4a85-aa0a-f055188f79a8",
        "colab": {
          "base_uri": "https://localhost:8080/"
        }
      },
      "execution_count": 13,
      "outputs": [
        {
          "output_type": "stream",
          "name": "stdout",
          "text": [
            "+--------------------+----+---------+------------+----------+------+------------+-----+------+--------------+\n",
            "|                 Car| MPG|Cylinders|Displacement|Horsepower|Weight|Acceleration|Model|Origin|avg_horsepower|\n",
            "+--------------------+----+---------+------------+----------+------+------------+-----+------+--------------+\n",
            "|         Dodge Aspen|18.6|        6|       225.0|     110.0| 3620.|        18.7|   78|    US|        118.01|\n",
            "|  Mercedes-Benz 240d|30.0|        4|       146.0|     67.00| 3250.|        21.8|   80|Europe|         78.78|\n",
            "|         Peugeot 504|27.2|        4|       141.0|     71.00| 3190.|        24.8|   79|Europe|         78.78|\n",
            "|    Ford Galaxie 500|14.0|        8|       351.0|     153.0| 4129.|        13.0|   72|    US|        118.01|\n",
            "|Peugeot 505s Turb...|28.1|        4|       141.0|     80.00| 3230.|        20.4|   81|Europe|         78.78|\n",
            "|Toyota Corolla Te...|38.1|        4|       89.00|     60.00| 1968.|        18.8|   80| Japan|         79.84|\n",
            "|    Plymouth Sapporo|23.2|        4|       156.0|     105.0| 2745.|        16.7|   78|    US|        118.01|\n",
            "|    AMC Concord DL 6|20.2|        6|       232.0|     90.00| 3265.|        18.2|   79|    US|        118.01|\n",
            "| Volkswagen Rabbit l|36.0|        4|       105.0|     74.00| 1980.|        15.3|   82|Europe|         78.78|\n",
            "|          Dodge Omni|30.9|        4|       105.0|     75.00| 2230.|        14.5|   78|    US|        118.01|\n",
            "|   Plymouth Arrow GS|25.5|        4|       122.0|     96.00| 2300.|        15.5|   77|    US|        118.01|\n",
            "|     Plymouth Volare|20.5|        6|       225.0|     100.0| 3430.|        17.2|   78|    US|        118.01|\n",
            "|  Chevrolet Concours|17.5|        6|       250.0|     110.0| 3520.|        16.4|   77|    US|        118.01|\n",
            "|  Pontiac Phoenix LJ|19.2|        6|       231.0|     105.0| 3535.|        19.2|   78|    US|        118.01|\n",
            "|            Ford LTD|13.0|        8|       351.0|     158.0| 4363.|        13.0|   73|    US|        118.01|\n",
            "|Toyota Celica GT ...|21.1|        4|       134.0|     95.00| 2515.|        14.8|   78| Japan|         79.84|\n",
            "|Pontiac Sunbird C...|24.5|        4|       151.0|     88.00| 2740.|        16.0|   77|    US|        118.01|\n",
            "| Plymouth Grand Fury|16.0|        8|       318.0|     150.0| 4498.|        14.5|   75|    US|        118.01|\n",
            "|Plymouth Fury Gra...|14.0|        8|       318.0|     150.0| 4237.|        14.5|   73|    US|        118.01|\n",
            "| Ford Pinto Runabout|21.0|        4|       122.0|     86.00| 2226.|        16.5|   72|    US|        118.01|\n",
            "+--------------------+----+---------+------------+----------+------+------------+-----+------+--------------+\n",
            "only showing top 20 rows\n",
            "\n"
          ]
        }
      ]
    },
    {
      "cell_type": "code",
      "source": [
        "# Using DENSE_RANK() to rank each car in decreasing order of Horsepower & MPG\n",
        "\n",
        "spark.sql(\"SELECT *, DENSE_RANK() OVER (ORDER BY Horsepower DESC, MPG DESC) AS rank FROM cars WHERE Horsepower>0.0\").show()"
      ],
      "metadata": {
        "id": "MvFhBDPDxGT4",
        "outputId": "ce781c89-76a6-4205-efe3-cdbed75a2d68",
        "colab": {
          "base_uri": "https://localhost:8080/"
        }
      },
      "execution_count": 14,
      "outputs": [
        {
          "output_type": "stream",
          "name": "stdout",
          "text": [
            "+--------------------+----+---------+------------+----------+------+------------+-----+------+----+\n",
            "|                 Car| MPG|Cylinders|Displacement|Horsepower|Weight|Acceleration|Model|Origin|rank|\n",
            "+--------------------+----+---------+------------+----------+------+------------+-----+------+----+\n",
            "|         Volvo 244DL|22.0|        4|       121.0|     98.00| 2945.|        14.5|   75|Europe|   1|\n",
            "|        Ford Grenada|18.5|        6|       250.0|     98.00| 3525.|        19.0|   77|    US|   2|\n",
            "|          Datsun 510|27.2|        4|       119.0|     97.00| 2300.|        14.7|   78| Japan|   3|\n",
            "|         Honda Civic|24.0|        4|       120.0|     97.00| 2489.|        15.0|   74| Japan|   4|\n",
            "|          Datsun 710|24.0|        4|       119.0|     97.00| 2545.|        17.0|   75| Japan|   4|\n",
            "|       Datsun 200-SX|23.9|        4|       119.0|     97.00| 2405.|        14.9|   78| Japan|   5|\n",
            "|Toyota Corolla Ma...|23.0|        4|       120.0|     97.00| 2506.|        14.5|   72| Japan|   6|\n",
            "|          Datsun 810|22.0|        6|       146.0|     97.00| 2815.|        14.5|   77| Japan|   7|\n",
            "|     Mazda RX2 Coupe|19.0|        3|       70.00|     97.00| 2330.|        13.5|   72| Japan|   8|\n",
            "|          AMC Hornet|18.0|        6|       199.0|     97.00| 2774.|        15.5|   70|    US|   9|\n",
            "|          Ford Pinto|18.0|        6|       171.0|     97.00| 2984.|        14.5|   75|    US|   9|\n",
            "|    Toyota Celica GT|32.0|        4|       144.0|     96.00| 2665.|        13.9|   82| Japan|  10|\n",
            "|   Plymouth Arrow GS|25.5|        4|       122.0|     96.00| 2300.|        15.5|   77|    US|  11|\n",
            "|      Toyota Corolla|24.0|        4|       134.0|     96.00| 2702.|        13.5|   75| Japan|  12|\n",
            "|      Toyota Corolla|27.5|        4|       134.0|     95.00| 2560.|        14.2|   78| Japan|  13|\n",
            "|      Toyota Corolla|25.0|        4|       113.0|     95.00| 2228.|        14.0|   71| Japan|  14|\n",
            "|            Saab 99e|25.0|        4|       104.0|     95.00| 2375.|        17.5|   70|Europe|  14|\n",
            "|Toyota Corolla Ha...|24.0|        4|       113.0|     95.00| 2278.|        15.5|   72| Japan|  15|\n",
            "|Toyota Corolla Ma...|24.0|        4|       113.0|     95.00| 2372.|        15.0|   70| Japan|  15|\n",
            "|     Plymouth Duster|23.0|        6|       198.0|     95.00| 2904.|        16.0|   73|    US|  16|\n",
            "+--------------------+----+---------+------------+----------+------+------------+-----+------+----+\n",
            "only showing top 20 rows\n",
            "\n"
          ]
        }
      ]
    },
    {
      "cell_type": "markdown",
      "source": [
        "# User Defined Functions"
      ],
      "metadata": {
        "id": "pqs7QWh-ybc9"
      }
    },
    {
      "cell_type": "code",
      "source": [
        "# Define python function to calculate power to weight ratio\n",
        "def get_power_weight_ratio(hp, weight):\n",
        "  return float(hp) / float(weight)\n",
        "\n",
        "# Register UDF to be used with SQL\n",
        "spark.udf.register(\"get_power_weight_ratio\", get_power_weight_ratio, T.DoubleType())\n",
        "\n",
        "# Using UDF to create a new column and sorting in descending orders\n",
        "spark.sql(\"SELECT *, ROUND(get_power_weight_ratio(Horsepower, Weight), 3) AS power_weight_ratio FROM cars ORDER BY power_weight_ratio DESC\").show()"
      ],
      "metadata": {
        "id": "F_gagBZsyf8M",
        "outputId": "385b167f-5986-4ca0-bd6c-42c4b364f594",
        "colab": {
          "base_uri": "https://localhost:8080/"
        }
      },
      "execution_count": 16,
      "outputs": [
        {
          "output_type": "stream",
          "name": "stdout",
          "text": [
            "+--------------------+----+---------+------------+----------+------+------------+-----+------+------------------+\n",
            "|                 Car| MPG|Cylinders|Displacement|Horsepower|Weight|Acceleration|Model|Origin|power_weight_ratio|\n",
            "+--------------------+----+---------+------------+----------+------+------------+-----+------+------------------+\n",
            "|Buick Estate Wago...|14.0|        8|       455.0|     225.0| 3086.|        10.0|   70|    US|             0.073|\n",
            "|  Pontiac Grand Prix|16.0|        8|       400.0|     230.0| 4278.|        9.50|   73|    US|             0.054|\n",
            "|    Chevrolet Impala|14.0|        8|       454.0|     220.0| 4354.|         9.0|   70|    US|             0.051|\n",
            "|    Pontiac Catalina|14.0|        8|       455.0|     225.0| 4425.|        10.0|   70|    US|             0.051|\n",
            "|            BMW 2002|26.0|        4|       121.0|     113.0| 2234.|        12.5|   70|Europe|             0.051|\n",
            "|   Plymouth Fury iii|14.0|        8|       440.0|     215.0| 4312.|         8.5|   70|    US|              0.05|\n",
            "|  AMC Ambassador DPL|15.0|        8|       390.0|     190.0| 3850.|         8.5|   70|    US|             0.049|\n",
            "|    Oldsmobile Omega|11.0|        8|       350.0|     180.0| 3664.|        11.0|   73|    US|             0.049|\n",
            "| Dodge Challenger SE|15.0|        8|       383.0|     170.0| 3563.|        10.0|   70|    US|             0.048|\n",
            "|          Dodge D200|11.0|        8|       318.0|     210.0| 4382.|        13.5|   70|    US|             0.048|\n",
            "|Buick Regal Sport...|17.7|        6|       231.0|     165.0| 3445.|        13.4|   78|    US|             0.048|\n",
            "|           Ford F250|10.0|        8|       360.0|     215.0| 4615.|        14.0|   70|    US|             0.047|\n",
            "|    Ford Galaxie 500|15.0|        8|       429.0|     198.0| 4341.|        10.0|   70|    US|             0.046|\n",
            "|           Chevy C20|10.0|        8|       307.0|     200.0| 4376.|        15.0|   70|    US|             0.046|\n",
            "|AMC Ambassador Br...|13.0|        8|       360.0|     175.0| 3821.|        11.0|   73|    US|             0.046|\n",
            "|   Buick Skylark 320|15.0|        8|       350.0|     165.0| 3693.|        11.5|   70|    US|             0.045|\n",
            "|  AMC Rebel SST (sw)|   0|        8|       360.0|     175.0| 3850.|        11.0|   70|    US|             0.045|\n",
            "|     Mercury Marquis|11.0|        8|       429.0|     208.0| 4633.|        11.0|   72|    US|             0.045|\n",
            "|Chrysler New York...|13.0|        8|       440.0|     215.0| 4735.|        11.0|   73|    US|             0.045|\n",
            "|Buick Electra 225...|12.0|        8|       455.0|     225.0| 4951.|        11.0|   73|    US|             0.045|\n",
            "+--------------------+----+---------+------------+----------+------+------------+-----+------+------------------+\n",
            "only showing top 20 rows\n",
            "\n"
          ]
        }
      ]
    },
    {
      "cell_type": "markdown",
      "source": [
        "\n",
        "\n",
        "---\n",
        "\n"
      ],
      "metadata": {
        "id": "Y9ttXLJzzvY1"
      }
    }
  ]
}