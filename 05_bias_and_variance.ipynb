{
  "nbformat": 4,
  "nbformat_minor": 0,
  "metadata": {
    "colab": {
      "provenance": [],
      "collapsed_sections": [
        "iKpBqHoOQiOa"
      ],
      "machine_shape": "hm",
      "gpuType": "T4",
      "include_colab_link": true
    },
    "kernelspec": {
      "name": "python3",
      "display_name": "Python 3"
    },
    "language_info": {
      "name": "python"
    },
    "accelerator": "GPU"
  },
  "cells": [
    {
      "cell_type": "markdown",
      "metadata": {
        "id": "view-in-github",
        "colab_type": "text"
      },
      "source": [
        "<a href=\"https://colab.research.google.com/github/arutraj/.githubcl/blob/main/05_bias_and_variance.ipynb\" target=\"_parent\"><img src=\"https://colab.research.google.com/assets/colab-badge.svg\" alt=\"Open In Colab\"/></a>"
      ]
    },
    {
      "cell_type": "code",
      "source": [
        "import numpy as np\n",
        "import pandas as pd\n",
        "import statsmodels.formula.api as smf\n",
        "import matplotlib.pyplot as plt\n",
        "\n",
        "rs = np.random.RandomState(seed=666)\n",
        "\n",
        "n = 30"
      ],
      "metadata": {
        "id": "aH4koa26Gn3Q"
      },
      "execution_count": 1,
      "outputs": []
    },
    {
      "cell_type": "markdown",
      "source": [
        "## 1. Generate `n` i.i.d values of `X1` and `X2`"
      ],
      "metadata": {
        "id": "2oDkPisvItAf"
      }
    },
    {
      "cell_type": "code",
      "source": [
        "df = pd.DataFrame(\n",
        "    {\n",
        "        \"X1\": rs.normal(size=n),\n",
        "        \"X2\": rs.normal(size=n),\n",
        "    }\n",
        ")"
      ],
      "metadata": {
        "id": "XGtWlQEaIwr1"
      },
      "execution_count": 2,
      "outputs": []
    },
    {
      "cell_type": "markdown",
      "source": [
        "## 2. Create 500 parallel universes where we \"observe\" values of `y`\n",
        "\n",
        "* Let's assume the population model is `y ~ b0 + b1 X1 + b2 X2`\n",
        "* Observations will have noise `e` ~ N(0, 1) such that we observe `y = b0 + b1 X1 + b2 X2 + e`\n",
        "* Each universe differs in the noise `e`"
      ],
      "metadata": {
        "id": "XwfdtEoAI4JV"
      }
    },
    {
      "cell_type": "code",
      "source": [
        "b0 = 1\n",
        "b1 = 1\n",
        "b2 = 1\n",
        "\n",
        "new_X1 = 1\n",
        "new_X2 = 1\n",
        "\n",
        "new_df = pd.DataFrame({\"X1\": [new_X1], \"X2\": [new_X2]})\n",
        "\n",
        "true_y = b0 + b1*new_X1 + b2*new_X2\n",
        "\n",
        "def generate_errors(formula: str, n_trials=500):\n",
        "  prediction_errors = []\n",
        "  for _ in range(n_trials):\n",
        "    e = rs.normal(size=n)\n",
        "    df_ = df.assign(y=b0 + b1*df.X1 + b2*df.X2 + e)\n",
        "    fitted_model = smf.ols(formula=formula, data=df_).fit()\n",
        "    prediction_errors.append(true_y - fitted_model.predict(new_df).item())\n",
        "\n",
        "  return prediction_errors"
      ],
      "metadata": {
        "id": "hXzBe82OI2dE"
      },
      "execution_count": 3,
      "outputs": []
    },
    {
      "cell_type": "code",
      "source": [
        "under_specified = generate_errors(\"y ~ X1\")\n",
        "population_model = generate_errors(\"y ~ X1 + X2\")"
      ],
      "metadata": {
        "id": "EbY2Sz5WLc2X"
      },
      "execution_count": 4,
      "outputs": []
    },
    {
      "cell_type": "code",
      "source": [
        "over_specified = generate_errors(\n",
        "    \"y ~ X1 + X2 \"\n",
        "    \"    + X1**2 + X2**2 \"\n",
        "    \"    + X1**3 + X2**3 \"\n",
        "    \"    + X1**4 + X2**4 \"\n",
        "    \"    + X1*X2 + X1*X2**2\")"
      ],
      "metadata": {
        "id": "sdsdEgMKPF4Q"
      },
      "execution_count": 5,
      "outputs": []
    },
    {
      "cell_type": "code",
      "source": [
        "plt.hist(under_specified, bins=20, density=True, alpha=0.5)\n",
        "plt.hist(population_model, bins=20, density=True, alpha=0.5)\n",
        "plt.hist(over_specified, bins=20, density=True, alpha=0.5)\n",
        "plt.legend([\"under_specified\",\"population_model\",\"over_specified\"])\n",
        "plt.show()"
      ],
      "metadata": {
        "colab": {
          "base_uri": "https://localhost:8080/",
          "height": 430
        },
        "id": "26TUZoUAdHNn",
        "outputId": "0aa373f8-9a6d-4bd2-c00d-2dc28f7fe365"
      },
      "execution_count": 8,
      "outputs": [
        {
          "output_type": "display_data",
          "data": {
            "text/plain": [
              "<Figure size 640x480 with 1 Axes>"
            ],
            "image/png": "[encoded data removed]"
          },
          "metadata": {}
        }
      ]
    },
    {
      "cell_type": "markdown",
      "source": [
        "Which is which?\n",
        "\n",
        "1. One is more densly centered around zero\n",
        "2. One is centered around zero, but has more variance\n",
        "3. One has lower variance, but is centered around a non-zero value"
      ],
      "metadata": {
        "id": "gcluDgtMQMUb"
      }
    },
    {
      "cell_type": "markdown",
      "source": [
        "# Answers (don't spoil!)\n",
        "\n",
        "\n",
        "< FOLD this section prior to demo >"
      ],
      "metadata": {
        "id": "iKpBqHoOQiOa"
      }
    },
    {
      "cell_type": "code",
      "source": [
        "plt.hist(under_specified, bins=20, density=True, alpha=0.5, color=\"red\")\n",
        "plt.hist(population_model, bins=20, density=True, alpha=0.5, color=\"green\")\n",
        "plt.hist(over_specified, bins=20, density=True, alpha=0.5, color=\"blue\")\n",
        "plt.legend([\"under_specified\",\"population_model\",\"over_specified\"])\n",
        "plt.show()"
      ],
      "metadata": {
        "colab": {
          "base_uri": "https://localhost:8080/",
          "height": 430
        },
        "id": "-xsK-IowQID_",
        "outputId": "6a849599-6122-4f87-c717-a5e0853b5601"
      },
      "execution_count": 9,
      "outputs": [
        {
          "output_type": "display_data",
          "data": {
            "text/plain": [
              "<Figure size 640x480 with 1 Axes>"
            ],
            "image/png": "[encoded data removed]"
          },
          "metadata": {}
        }
      ]
    },
    {
      "cell_type": "markdown",
      "source": [
        "1. One is more densly centered around zero\n",
        "  * This is the population model. The best we can hope to do (green)\n",
        "2. One is centered around zero, but has more variance\n",
        "  * This is the over-specified. Unbiased, but has high variance because it \"overfits\" to whatever the training data happened to be in a particular instance (blue)\n",
        "3. One has lower variance, but is centered around a non-zero value\n",
        "  * This is the under-specified model. Lower variance because it is more \"robust\" to randomness in the training data, but the mean is different from the population mean (red)"
      ],
      "metadata": {
        "id": "aRQzfMdzQpiL"
      }
    },
    {
      "cell_type": "code",
      "source": [],
      "metadata": {
        "id": "YMB3kTedQePy"
      },
      "execution_count": null,
      "outputs": []
    }
  ]
}