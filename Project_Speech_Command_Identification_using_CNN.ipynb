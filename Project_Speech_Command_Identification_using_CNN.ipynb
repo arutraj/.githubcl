{
  "nbformat": 4,
  "nbformat_minor": 0,
  "metadata": {
    "colab": {
      "provenance": [],
      "machine_shape": "hm",
      "gpuType": "T4",
      "include_colab_link": true
    },
    "kernelspec": {
      "name": "python3",
      "display_name": "Python 3"
    },
    "accelerator": "GPU"
  },
  "cells": [
    {
      "cell_type": "markdown",
      "metadata": {
        "id": "view-in-github",
        "colab_type": "text"
      },
      "source": [
        "<a href=\"https://colab.research.google.com/github/arutraj/.githubcl/blob/main/Project_Speech_Command_Identification_using_CNN.ipynb\" target=\"_parent\"><img src=\"https://colab.research.google.com/assets/colab-badge.svg\" alt=\"Open In Colab\"/></a>"
      ]
    },
    {
      "cell_type": "markdown",
      "metadata": {
        "id": "_s5YGfw_w5cN"
      },
      "source": [
        "## Table of Contents\n",
        "\n",
        "### 1. Data Loading and Preprocessing\n",
        "> #### 1.1 Install important libraries\n",
        "> #### 1.2 Data Exploration\n",
        "> #### 1.3 Load data using custom Data Loader\n",
        "### 2. Speech Commands Identification using CNN\n",
        "> #### 2.1 Define model architecture\n",
        "> #### 2.2 Train the model\n",
        "> #### 2.3 Get inference\n",
        "\n",
        "---"
      ]
    },
    {
      "cell_type": "markdown",
      "metadata": {
        "id": "imMS82eEyjRp"
      },
      "source": [
        "### 1. Data Loading and Preprocessing"
      ]
    },
    {
      "cell_type": "markdown",
      "metadata": {
        "id": "n5bfMOVMyjRz"
      },
      "source": [
        "#### 1.1 Install important libraries"
      ]
    },
    {
      "cell_type": "code",
      "metadata": {
        "id": "03lzOtQbyhbC",
        "colab": {
          "base_uri": "https://localhost:8080/"
        },
        "outputId": "4d83ca48-3d37-4d3e-edf6-b729378014f7"
      },
      "source": [
        "# install torchaudio and its dependencies\n",
        "!pip install soundfile\n",
        "!pip install torchaudio"
      ],
      "execution_count": 1,
      "outputs": [
        {
          "output_type": "stream",
          "name": "stdout",
          "text": [
            "Requirement already satisfied: soundfile in /usr/local/lib/python3.10/dist-packages (0.12.1)\n",
            "Requirement already satisfied: cffi>=1.0 in /usr/local/lib/python3.10/dist-packages (from soundfile) (1.17.1)\n",
            "Requirement already satisfied: pycparser in /usr/local/lib/python3.10/dist-packages (from cffi>=1.0->soundfile) (2.22)\n",
            "Requirement already satisfied: torchaudio in /usr/local/lib/python3.10/dist-packages (2.4.1+cu121)\n",
            "Requirement already satisfied: torch==2.4.1 in /usr/local/lib/python3.10/dist-packages (from torchaudio) (2.4.1+cu121)\n",
            "Requirement already satisfied: filelock in /usr/local/lib/python3.10/dist-packages (from torch==2.4.1->torchaudio) (3.16.1)\n",
            "Requirement already satisfied: typing-extensions>=4.8.0 in /usr/local/lib/python3.10/dist-packages (from torch==2.4.1->torchaudio) (4.12.2)\n",
            "Requirement already satisfied: sympy in /usr/local/lib/python3.10/dist-packages (from torch==2.4.1->torchaudio) (1.13.3)\n",
            "Requirement already satisfied: networkx in /usr/local/lib/python3.10/dist-packages (from torch==2.4.1->torchaudio) (3.4)\n",
            "Requirement already satisfied: jinja2 in /usr/local/lib/python3.10/dist-packages (from torch==2.4.1->torchaudio) (3.1.4)\n",
            "Requirement already satisfied: fsspec in /usr/local/lib/python3.10/dist-packages (from torch==2.4.1->torchaudio) (2024.6.1)\n",
            "Requirement already satisfied: MarkupSafe>=2.0 in /usr/local/lib/python3.10/dist-packages (from jinja2->torch==2.4.1->torchaudio) (3.0.1)\n",
            "Requirement already satisfied: mpmath<1.4,>=1.1.0 in /usr/local/lib/python3.10/dist-packages (from sympy->torch==2.4.1->torchaudio) (1.3.0)\n"
          ]
        }
      ]
    },
    {
      "cell_type": "code",
      "metadata": {
        "id": "ed78-hbeygli",
        "colab": {
          "base_uri": "https://localhost:8080/"
        },
        "outputId": "691cf7dd-e0e4-4220-c202-bd3d1f100c6f"
      },
      "source": [
        "# install pytorch-model-summary to print model summary\n",
        "!pip install pytorch-model-summary"
      ],
      "execution_count": 2,
      "outputs": [
        {
          "output_type": "stream",
          "name": "stdout",
          "text": [
            "Collecting pytorch-model-summary\n",
            "  Downloading pytorch_model_summary-0.1.2-py3-none-any.whl.metadata (35 kB)\n",
            "Requirement already satisfied: tqdm in /usr/local/lib/python3.10/dist-packages (from pytorch-model-summary) (4.66.5)\n",
            "Requirement already satisfied: torch in /usr/local/lib/python3.10/dist-packages (from pytorch-model-summary) (2.4.1+cu121)\n",
            "Requirement already satisfied: numpy in /usr/local/lib/python3.10/dist-packages (from pytorch-model-summary) (1.26.4)\n",
            "Requirement already satisfied: filelock in /usr/local/lib/python3.10/dist-packages (from torch->pytorch-model-summary) (3.16.1)\n",
            "Requirement already satisfied: typing-extensions>=4.8.0 in /usr/local/lib/python3.10/dist-packages (from torch->pytorch-model-summary) (4.12.2)\n",
            "Requirement already satisfied: sympy in /usr/local/lib/python3.10/dist-packages (from torch->pytorch-model-summary) (1.13.3)\n",
            "Requirement already satisfied: networkx in /usr/local/lib/python3.10/dist-packages (from torch->pytorch-model-summary) (3.4)\n",
            "Requirement already satisfied: jinja2 in /usr/local/lib/python3.10/dist-packages (from torch->pytorch-model-summary) (3.1.4)\n",
            "Requirement already satisfied: fsspec in /usr/local/lib/python3.10/dist-packages (from torch->pytorch-model-summary) (2024.6.1)\n",
            "Requirement already satisfied: MarkupSafe>=2.0 in /usr/local/lib/python3.10/dist-packages (from jinja2->torch->pytorch-model-summary) (3.0.1)\n",
            "Requirement already satisfied: mpmath<1.4,>=1.1.0 in /usr/local/lib/python3.10/dist-packages (from sympy->torch->pytorch-model-summary) (1.3.0)\n",
            "Downloading pytorch_model_summary-0.1.2-py3-none-any.whl (9.3 kB)\n",
            "Installing collected packages: pytorch-model-summary\n",
            "Successfully installed pytorch-model-summary-0.1.2\n"
          ]
        }
      ]
    },
    {
      "cell_type": "code",
      "source": [
        "from google.colab import drive\n",
        "drive.mount('/content/drive')"
      ],
      "metadata": {
        "colab": {
          "base_uri": "https://localhost:8080/"
        },
        "id": "Bsy1uHOQxbgX",
        "outputId": "50e9e05c-0529-459a-c51b-a9c060d3ac38"
      },
      "execution_count": 3,
      "outputs": [
        {
          "output_type": "stream",
          "name": "stdout",
          "text": [
            "Mounted at /content/drive\n"
          ]
        }
      ]
    },
    {
      "cell_type": "markdown",
      "metadata": {
        "id": "VkMKpc3uF4MO"
      },
      "source": [
        "#### 1.1 Load the Data"
      ]
    },
    {
      "cell_type": "code",
      "metadata": {
        "id": "mUvFcfXpy42W",
        "colab": {
          "base_uri": "https://localhost:8080/"
        },
        "outputId": "0a933170-e909-4903-be5e-3bcedf55a806"
      },
      "source": [
        "# Upload data from drive\n",
        "from google.colab import drive\n",
        "drive.mount('/content/drive')"
      ],
      "execution_count": null,
      "outputs": [
        {
          "output_type": "stream",
          "name": "stdout",
          "text": [
            "Mounted at /content/drive\n"
          ]
        }
      ]
    },
    {
      "cell_type": "code",
      "metadata": {
        "id": "-RYqVkd8z_fj",
        "colab": {
          "base_uri": "https://localhost:8080/"
        },
        "outputId": "596c1b54-f842-4ef3-c0d2-086fdddcfeef",
        "collapsed": true
      },
      "source": [
        "# extract data in folder\n",
        "#!unzip drive/My\\ Drive/dataset_commands-200904-131537.zip -d speech_commands\n",
        "#!unzip /content/speech_commands\n",
        "!ls  /content/drive/MyDrive/AnalyticsVidya/NLP_DL/down |wc -l\n",
        "!ls  /content/drive/MyDrive/AnalyticsVidya/NLP_DL/up |wc -l\n",
        "!ls  /content/drive/MyDrive/AnalyticsVidya/NLP_DL/left |wc -l\n",
        "!ls  /content/drive/MyDrive/AnalyticsVidya/NLP_DL/right |wc -l"
      ],
      "execution_count": 4,
      "outputs": [
        {
          "output_type": "stream",
          "name": "stdout",
          "text": [
            "1188\n",
            "1187\n",
            "1485\n",
            "1276\n"
          ]
        }
      ]
    },
    {
      "cell_type": "code",
      "metadata": {
        "id": "B8RQhBwzzX7a",
        "colab": {
          "base_uri": "https://localhost:8080/"
        },
        "outputId": "ff90c08c-5200-4a1a-aaaf-f3f31aa351f4"
      },
      "source": [
        "# import libraries and modules\n",
        "%matplotlib inline\n",
        "\n",
        "import os\n",
        "import librosa\n",
        "import numpy as np\n",
        "import matplotlib.pyplot as plt\n",
        "\n",
        "from random import random, choice\n",
        "from IPython.display import Audio\n",
        "\n",
        "# import pytorch related modules\n",
        "import torch\n",
        "import torchaudio\n",
        "torchaudio.set_audio_backend(\"soundfile\")\n",
        "\n",
        "from torchaudio.transforms import Resample\n",
        "from torch.nn import ConstantPad1d\n",
        "\n",
        "from torch.utils.data import Dataset, DataLoader\n",
        "\n",
        "from torch.nn import Sequential\n",
        "from torch.nn import Conv1d, ReLU, MaxPool1d, Dropout, Linear, Flatten\n",
        "\n",
        "from torch.nn import CrossEntropyLoss\n",
        "from torch.optim import Adam\n",
        "\n",
        "from pytorch_model_summary import summary"
      ],
      "execution_count": 5,
      "outputs": [
        {
          "output_type": "stream",
          "name": "stderr",
          "text": [
            "<ipython-input-5-0423ebc1c570>:15: UserWarning: torchaudio._backend.set_audio_backend has been deprecated. With dispatcher enabled, this function is no-op. You can remove the function call.\n",
            "  torchaudio.set_audio_backend(\"soundfile\")\n"
          ]
        }
      ]
    },
    {
      "cell_type": "code",
      "metadata": {
        "id": "a9tWv_lr9Nsb"
      },
      "source": [
        "# set seed\n",
        "seed = 42\n",
        "np.random.seed(seed)\n",
        "torch.manual_seed(seed);"
      ],
      "execution_count": 6,
      "outputs": []
    },
    {
      "cell_type": "code",
      "metadata": {
        "id": "0DXTqiY-1PwE",
        "colab": {
          "base_uri": "https://localhost:8080/"
        },
        "outputId": "363d906c-ab3e-4947-a9c4-bb5bd72f6b49"
      },
      "source": [
        "# print subfolders for dataset\n",
        "os.listdir('/content/drive/MyDrive/AnalyticsVidya/NLP_DL/speech_commands')"
      ],
      "execution_count": 9,
      "outputs": [
        {
          "output_type": "execute_result",
          "data": {
            "text/plain": [
              "['down', 'up', 'left', 'right']"
            ]
          },
          "metadata": {},
          "execution_count": 9
        }
      ]
    },
    {
      "cell_type": "code",
      "metadata": {
        "id": "TnrjA38M1hqi",
        "colab": {
          "base_uri": "https://localhost:8080/"
        },
        "outputId": "0b60738e-1f63-4a59-95b4-151af085b046"
      },
      "source": [
        "# check number of files in each subfolder\n",
        "for dirname in os.listdir('/content/drive/MyDrive/AnalyticsVidya/NLP_DL/speech_commands'):\n",
        "    print('Num of files in (',  dirname, ') folder is', len(os.listdir('/content/drive/MyDrive/AnalyticsVidya/NLP_DL/speech_commands/' + dirname)))"
      ],
      "execution_count": 11,
      "outputs": [
        {
          "output_type": "stream",
          "name": "stdout",
          "text": [
            "Num of files in ( down ) folder is 1188\n",
            "Num of files in ( up ) folder is 1187\n",
            "Num of files in ( left ) folder is 1485\n",
            "Num of files in ( right ) folder is 1276\n"
          ]
        }
      ]
    },
    {
      "cell_type": "markdown",
      "metadata": {
        "id": "Hk0gu7q85xUT"
      },
      "source": [
        "#### 1.2 Data Exploration"
      ]
    },
    {
      "cell_type": "code",
      "metadata": {
        "id": "CxJcCVDQ1qb5"
      },
      "source": [
        "# pick random file\n",
        "#filepath = choice(os.listdir('speech_commands/speech_commands/up'))\n",
        "filepath = choice(os.listdir('/content/drive/MyDrive/AnalyticsVidya/NLP_DL/speech_commands/up'))"
      ],
      "execution_count": 17,
      "outputs": []
    },
    {
      "cell_type": "code",
      "metadata": {
        "id": "IcppoM8p14L5"
      },
      "source": [
        "# read file using librosa  sr is sampling rate\n",
        "waveform, sample_rate = librosa.load('/content/drive/MyDrive/AnalyticsVidya/NLP_DL/speech_commands/up/' + filepath, sr = 16000)"
      ],
      "execution_count": 18,
      "outputs": []
    },
    {
      "cell_type": "code",
      "metadata": {
        "id": "kia-b2Zg17ja",
        "colab": {
          "base_uri": "https://localhost:8080/"
        },
        "outputId": "9b3bc0f1-18a1-4637-e0ae-b63a3386f08c"
      },
      "source": [
        "# print length of numpy array\n",
        "waveform.shape"
      ],
      "execution_count": 19,
      "outputs": [
        {
          "output_type": "execute_result",
          "data": {
            "text/plain": [
              "(16000,)"
            ]
          },
          "metadata": {},
          "execution_count": 19
        }
      ]
    },
    {
      "cell_type": "code",
      "metadata": {
        "id": "MujugZob18q_",
        "colab": {
          "base_uri": "https://localhost:8080/"
        },
        "outputId": "5f562c5b-942f-4308-c928-bbe574e84e0e"
      },
      "source": [
        "# print sample rate\n",
        "sample_rate"
      ],
      "execution_count": 20,
      "outputs": [
        {
          "output_type": "execute_result",
          "data": {
            "text/plain": [
              "16000"
            ]
          },
          "metadata": {},
          "execution_count": 20
        }
      ]
    },
    {
      "cell_type": "code",
      "metadata": {
        "id": "mc-Cj8QI2Hcm",
        "colab": {
          "base_uri": "https://localhost:8080/"
        },
        "outputId": "31713beb-29ff-47e0-a7f4-e5e3c2c111e4"
      },
      "source": [
        "#@title Exercise - print duration of audio file\n",
        "duration = len(waveform)/sample_rate\n",
        "duration"
      ],
      "execution_count": 21,
      "outputs": [
        {
          "output_type": "execute_result",
          "data": {
            "text/plain": [
              "1.0"
            ]
          },
          "metadata": {},
          "execution_count": 21
        }
      ]
    },
    {
      "cell_type": "code",
      "metadata": {
        "id": "uS6AILsH3l1n",
        "colab": {
          "base_uri": "https://localhost:8080/",
          "height": 382
        },
        "outputId": "56e9f1a3-a366-4703-9ccd-5e6d5011a469"
      },
      "source": [
        "# plot audio using matplotlib\n",
        "fig = plt.figure(figsize=(14, 8))\n",
        "\n",
        "ax = fig.add_subplot(211)\n",
        "ax.set_title('Raw wave of ' + filepath)\n",
        "ax.set_xlabel('time')\n",
        "ax.set_ylabel('Amplitude')\n",
        "ax.plot(np.linspace(0, duration, sample_rate), waveform)\n",
        "\n",
        "plt.show()"
      ],
      "execution_count": 22,
      "outputs": [
        {
          "output_type": "display_data",
          "data": {
            "text/plain": [
              "<Figure size 1400x800 with 1 Axes>"
            ],
            "image/png": "[encoded data removed]"
          },
          "metadata": {}
        }
      ]
    },
    {
      "cell_type": "code",
      "metadata": {
        "id": "3lcbvl4s4d2U",
        "colab": {
          "base_uri": "https://localhost:8080/",
          "height": 75
        },
        "outputId": "9e0ddaed-1ab0-4654-9437-a26fb078e6bb"
      },
      "source": [
        "# play audio inline\n",
        "Audio(waveform, rate=sample_rate)"
      ],
      "execution_count": 23,
      "outputs": [
        {
          "output_type": "execute_result",
          "data": {
            "text/plain": [
              "<IPython.lib.display.Audio object>"
            ],
            "text/html": [
              "\n",
              "                <audio  controls=\"controls\" >\n",
              "                    <source src=\"data:audio/wav;base64,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\" type=\"audio/wav\" />\n",
              "                    Your browser does not support the audio element.\n",
              "                </audio>\n",
              "              "
            ]
          },
          "metadata": {},
          "execution_count": 23
        }
      ]
    },
    {
      "cell_type": "code",
      "metadata": {
        "id": "OErPSrFz4sCy",
        "colab": {
          "base_uri": "https://localhost:8080/"
        },
        "outputId": "db1c7bfc-9e56-4340-d727-46942ac04df6"
      },
      "source": [
        "# resample audio\n",
        "prev_sampling_rate = sample_rate\n",
        "sample_rate = 8000\n",
        "\n",
        "waveform = librosa.resample(waveform, orig_sr=prev_sampling_rate, target_sr=sample_rate)\n",
        "waveform.shape"
      ],
      "execution_count": 25,
      "outputs": [
        {
          "output_type": "execute_result",
          "data": {
            "text/plain": [
              "(8000,)"
            ]
          },
          "metadata": {},
          "execution_count": 25
        }
      ]
    },
    {
      "source": [
        "# resample audio\n",
        "prev_sampling_rate = sample_rate\n",
        "sample_rate = 4000\n",
        "\n",
        "# Use keyword arguments for orig_sr and target_sr\n",
        "waveform = librosa.resample(waveform, orig_sr=prev_sampling_rate, target_sr=sample_rate)\n",
        "waveform.shape"
      ],
      "cell_type": "code",
      "metadata": {
        "colab": {
          "base_uri": "https://localhost:8080/"
        },
        "id": "VDqVqWJBlNmp",
        "outputId": "ce3a162a-6360-42d3-e703-eaf85ef6104c"
      },
      "execution_count": null,
      "outputs": [
        {
          "output_type": "execute_result",
          "data": {
            "text/plain": [
              "(8000,)"
            ]
          },
          "metadata": {},
          "execution_count": 36
        }
      ]
    },
    {
      "cell_type": "code",
      "metadata": {
        "id": "v6AchUqh5Sg5",
        "colab": {
          "base_uri": "https://localhost:8080/",
          "height": 382
        },
        "outputId": "f29210e2-4491-4563-f6d1-389207de710a"
      },
      "source": [
        "# plot audio using matplotlib\n",
        "fig = plt.figure(figsize=(14, 8))\n",
        "\n",
        "ax = fig.add_subplot(211)\n",
        "ax.set_title('Raw wave of ' + filepath)\n",
        "ax.set_xlabel('time')\n",
        "ax.set_ylabel('Amplitude')\n",
        "\n",
        "# Calculate the new duration based on the resampled waveform\n",
        "duration = len(waveform) / sample_rate\n",
        "\n",
        "ax.plot(np.linspace(0, duration, len(waveform)), waveform)\n",
        "\n",
        "plt.show()"
      ],
      "execution_count": 26,
      "outputs": [
        {
          "output_type": "display_data",
          "data": {
            "text/plain": [
              "<Figure size 1400x800 with 1 Axes>"
            ],
            "image/png": "[encoded data removed]"
          },
          "metadata": {}
        }
      ]
    },
    {
      "cell_type": "code",
      "metadata": {
        "id": "5-kFdmwb5UsL",
        "colab": {
          "base_uri": "https://localhost:8080/",
          "height": 75
        },
        "outputId": "1febacfb-9ad8-42a6-d49b-565a7d940e7c"
      },
      "source": [
        "# play audio inline\n",
        "Audio(waveform, rate=sample_rate)"
      ],
      "execution_count": 27,
      "outputs": [
        {
          "output_type": "execute_result",
          "data": {
            "text/plain": [
              "<IPython.lib.display.Audio object>"
            ],
            "text/html": [
              "\n",
              "                <audio  controls=\"controls\" >\n",
              "                    <source src=\"data:audio/wav;base64,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\" type=\"audio/wav\" />\n",
              "                    Your browser does not support the audio element.\n",
              "                </audio>\n",
              "              "
            ]
          },
          "metadata": {},
          "execution_count": 27
        }
      ]
    },
    {
      "cell_type": "code",
      "metadata": {
        "id": "DAdC_AKm5buY"
      },
      "source": [
        "# get all filepaths\n",
        "filepaths = []\n",
        "\n",
        "for dirname in os.listdir('/content/drive/MyDrive/AnalyticsVidya/NLP_DL/speech_commands/'):\n",
        "    for filename in os.listdir('/content/drive/MyDrive/AnalyticsVidya/NLP_DL/speech_commands/' + dirname):\n",
        "        if filename.endswith('.wav'):\n",
        "            filepaths.append('/content/drive/MyDrive/AnalyticsVidya/NLP_DL/speech_commands/' + dirname + '/' + filename)"
      ],
      "execution_count": 32,
      "outputs": []
    },
    {
      "cell_type": "code",
      "metadata": {
        "id": "3zz6kjtY5g3t",
        "colab": {
          "base_uri": "https://localhost:8080/"
        },
        "outputId": "d459f588-8e15-4caf-93fe-839963a12359"
      },
      "source": [
        "# print number of audio files\n",
        "len(filepaths)"
      ],
      "execution_count": 33,
      "outputs": [
        {
          "output_type": "execute_result",
          "data": {
            "text/plain": [
              "5136"
            ]
          },
          "metadata": {},
          "execution_count": 33
        }
      ]
    },
    {
      "cell_type": "code",
      "metadata": {
        "id": "BwNWlQmI5h6-",
        "colab": {
          "base_uri": "https://localhost:8080/",
          "height": 35
        },
        "outputId": "759c4afe-600e-4eeb-f78b-f6e1aaaec535"
      },
      "source": [
        "# print one filepath\n",
        "filepaths[0]"
      ],
      "execution_count": 34,
      "outputs": [
        {
          "output_type": "execute_result",
          "data": {
            "text/plain": [
              "'/content/drive/MyDrive/AnalyticsVidya/NLP_DL/speech_commands/down/1313.wav'"
            ],
            "application/vnd.google.colaboratory.intrinsic+json": {
              "type": "string"
            }
          },
          "metadata": {},
          "execution_count": 34
        }
      ]
    },
    {
      "cell_type": "code",
      "metadata": {
        "id": "XtMRclvu7CuT",
        "colab": {
          "base_uri": "https://localhost:8080/",
          "height": 35
        },
        "outputId": "af7e46ea-fd8e-47a3-baaa-f448f4b4067b"
      },
      "source": [
        "# get class\n",
        "filepaths[0].split('/')[7]"
      ],
      "execution_count": 36,
      "outputs": [
        {
          "output_type": "execute_result",
          "data": {
            "text/plain": [
              "'down'"
            ],
            "application/vnd.google.colaboratory.intrinsic+json": {
              "type": "string"
            }
          },
          "metadata": {},
          "execution_count": 36
        }
      ]
    },
    {
      "cell_type": "code",
      "metadata": {
        "id": "-4tFBaXB78j3"
      },
      "source": [
        "# load audio file using torchaudio\n",
        "waveform, sample_rate = torchaudio.load(filepaths[0])"
      ],
      "execution_count": 37,
      "outputs": []
    },
    {
      "cell_type": "code",
      "metadata": {
        "id": "-ydV5ilr8tHL",
        "colab": {
          "base_uri": "https://localhost:8080/"
        },
        "outputId": "c1eb0a52-e04a-49e3-b5bc-401c65dd5f13"
      },
      "source": [
        "# print shape and sampling rate\n",
        "waveform.shape, sample_rate"
      ],
      "execution_count": 38,
      "outputs": [
        {
          "output_type": "execute_result",
          "data": {
            "text/plain": [
              "(torch.Size([1, 16000]), 16000)"
            ]
          },
          "metadata": {},
          "execution_count": 38
        }
      ]
    },
    {
      "cell_type": "markdown",
      "metadata": {
        "id": "LNVQN7347gJb"
      },
      "source": [
        "#### 1.3 Load data using custom Dataloader"
      ]
    },
    {
      "cell_type": "code",
      "metadata": {
        "id": "1Uq8C29g7EpW"
      },
      "source": [
        "# dictionary to convert categories to numerical labels\n",
        "classes_to_labels = {\n",
        "    'up': 0,\n",
        "    'down': 1,\n",
        "    'left': 2,\n",
        "    'right': 3\n",
        "}\n",
        "\n",
        "# dictionary to convert numerical labels to categories\n",
        "labels_to_classes = {\n",
        "    0: 'up',\n",
        "    1: 'down',\n",
        "    2: 'left',\n",
        "    3: 'right'\n",
        "}\n",
        "\n",
        "# define custom dataset class\n",
        "class SpeechCommandsDataset(Dataset):\n",
        "    def __init__(self, data_dir):\n",
        "        \"\"\"Initialize dataset\"\"\"\n",
        "\n",
        "        # get all audio filepaths\n",
        "        self.filepaths = []\n",
        "        for dirname in os.listdir(data_dir):\n",
        "            for filename in os.listdir(data_dir + '/' + dirname):\n",
        "                if filename.endswith('.wav'):\n",
        "                    self.filepaths.append(data_dir + '/' + dirname + '/' + filename)\n",
        "\n",
        "    def __len__(self):\n",
        "        \"\"\"Get length of dataset\"\"\"\n",
        "        return len(self.filepaths)\n",
        "\n",
        "    def __getitem__(self, idx):\n",
        "        \"\"\"Load and preprocess individual file\"\"\"\n",
        "\n",
        "        # load audio file and the respective class\n",
        "        waveform, sample_rate = torchaudio.load(self.filepaths[idx])\n",
        "        class_name = self.filepaths[idx].split('/')[7]\n",
        "\n",
        "        # trim or pad the audio file if required\n",
        "        if waveform.shape[1] > sample_rate:\n",
        "            waveform = waveform[:, :sample_rate]\n",
        "        elif waveform.shape[1] < sample_rate:\n",
        "            pad_len = sample_rate - waveform.shape[1]\n",
        "            waveform = ConstantPad1d((0, pad_len), 0)(waveform)\n",
        "\n",
        "        # resample audio\n",
        "        waveform = Resample(orig_freq=sample_rate, new_freq=8000)(waveform)\n",
        "\n",
        "        # normalize data\n",
        "        waveform = waveform - waveform.min()\n",
        "        waveform = waveform / waveform.max()\n",
        "\n",
        "        # label encode the target variable\n",
        "        label = classes_to_labels[class_name]\n",
        "\n",
        "        return waveform, label"
      ],
      "execution_count": 40,
      "outputs": []
    },
    {
      "cell_type": "code",
      "metadata": {
        "id": "5JSUMPE7_Zw0"
      },
      "source": [
        "# create instance of custom dataset\n",
        "dataset = SpeechCommandsDataset('/content/drive/MyDrive/AnalyticsVidya/NLP_DL/speech_commands')\n",
        "\n",
        "# create dataloader\n",
        "data_loader = DataLoader(\n",
        "    dataset,\n",
        "    batch_size=128,\n",
        "    num_workers=4,\n",
        "    shuffle=True\n",
        ")"
      ],
      "execution_count": 41,
      "outputs": []
    },
    {
      "cell_type": "code",
      "metadata": {
        "id": "NCw86-KsCNCi"
      },
      "source": [
        "# check for one iteration of loop\n",
        "for batch_x, batch_y in data_loader:\n",
        "    break"
      ],
      "execution_count": 42,
      "outputs": []
    },
    {
      "cell_type": "code",
      "metadata": {
        "id": "MtkEJLFuCO99",
        "colab": {
          "base_uri": "https://localhost:8080/"
        },
        "outputId": "c093af48-e18c-4bbf-f5e8-23ed913e2d94"
      },
      "source": [
        "# get shapes of batches\n",
        "batch_x.shape, batch_y.shape"
      ],
      "execution_count": 43,
      "outputs": [
        {
          "output_type": "execute_result",
          "data": {
            "text/plain": [
              "(torch.Size([128, 1, 8000]), torch.Size([128]))"
            ]
          },
          "metadata": {},
          "execution_count": 43
        }
      ]
    },
    {
      "cell_type": "code",
      "metadata": {
        "id": "7qCnQr2LCR5K"
      },
      "source": [
        "# check data at random index\n",
        "idx = choice(range(len(batch_y)))\n",
        "\n",
        "waveform, label = batch_x[idx], batch_y[idx]"
      ],
      "execution_count": 44,
      "outputs": []
    },
    {
      "cell_type": "code",
      "metadata": {
        "id": "P8G13ocsCWZr",
        "colab": {
          "base_uri": "https://localhost:8080/"
        },
        "outputId": "a6adaa71-ac72-4144-d086-702448d1a9a3"
      },
      "source": [
        "# print shape\n",
        "waveform.shape"
      ],
      "execution_count": 45,
      "outputs": [
        {
          "output_type": "execute_result",
          "data": {
            "text/plain": [
              "torch.Size([1, 8000])"
            ]
          },
          "metadata": {},
          "execution_count": 45
        }
      ]
    },
    {
      "cell_type": "code",
      "metadata": {
        "id": "4QgyxggrCfZn",
        "colab": {
          "base_uri": "https://localhost:8080/"
        },
        "outputId": "b688ce62-412c-4c46-9ae1-c26c8dc456fd"
      },
      "source": [
        "# print min and max values of data\n",
        "waveform.min(), waveform.max()"
      ],
      "execution_count": 46,
      "outputs": [
        {
          "output_type": "execute_result",
          "data": {
            "text/plain": [
              "(tensor(0.), tensor(1.))"
            ]
          },
          "metadata": {},
          "execution_count": 46
        }
      ]
    },
    {
      "cell_type": "code",
      "metadata": {
        "id": "SxVeF52MCk93",
        "colab": {
          "base_uri": "https://localhost:8080/",
          "height": 75
        },
        "outputId": "8b4cdf88-5cdd-4075-ca9b-4a2ee4fc71a8"
      },
      "source": [
        "Audio(waveform, rate=8000)"
      ],
      "execution_count": 47,
      "outputs": [
        {
          "output_type": "execute_result",
          "data": {
            "text/plain": [
              "<IPython.lib.display.Audio object>"
            ],
            "text/html": [
              "\n",
              "                <audio  controls=\"controls\" >\n",
              "                    <source src=\"data:audio/wav;base64,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\" type=\"audio/wav\" />\n",
              "                    Your browser does not support the audio element.\n",
              "                </audio>\n",
              "              "
            ]
          },
          "metadata": {},
          "execution_count": 47
        }
      ]
    },
    {
      "cell_type": "code",
      "metadata": {
        "id": "TrythFHRCn9Y",
        "colab": {
          "base_uri": "https://localhost:8080/"
        },
        "outputId": "403ef6e2-1640-458f-c016-a9b420c222b5"
      },
      "source": [
        "# check target\n",
        "label"
      ],
      "execution_count": 48,
      "outputs": [
        {
          "output_type": "execute_result",
          "data": {
            "text/plain": [
              "tensor(1)"
            ]
          },
          "metadata": {},
          "execution_count": 48
        }
      ]
    },
    {
      "cell_type": "code",
      "metadata": {
        "id": "qkON0RRyCqdm",
        "colab": {
          "base_uri": "https://localhost:8080/",
          "height": 35
        },
        "outputId": "d5c6da5b-a2e7-4b33-941b-d1b3562454bb"
      },
      "source": [
        "# map to actual class\n",
        "labels_to_classes[int(label)]"
      ],
      "execution_count": 49,
      "outputs": [
        {
          "output_type": "execute_result",
          "data": {
            "text/plain": [
              "'down'"
            ],
            "application/vnd.google.colaboratory.intrinsic+json": {
              "type": "string"
            }
          },
          "metadata": {},
          "execution_count": 49
        }
      ]
    },
    {
      "cell_type": "markdown",
      "metadata": {
        "id": "QjVLkVanXGzV"
      },
      "source": [
        "### 2. Speech Commands Identification using CNN"
      ]
    },
    {
      "cell_type": "markdown",
      "metadata": {
        "id": "t6DGNA0a9zSZ"
      },
      "source": [
        "#### 2.1 Define model architecture"
      ]
    },
    {
      "cell_type": "code",
      "metadata": {
        "id": "oKVaNTGiC8Os"
      },
      "source": [
        "# define model architecture\n",
        "\n",
        "# Input\n",
        "\n",
        "# Conv1D(num_filters=64, filter_size=13, stride=1, activation='relu')\n",
        "# MaxPool(pool_size=3)\n",
        "# Conv1D(num_filters=64, filter_size=13, stride=1, activation='relu')\n",
        "# MaxPool(pool_size=3)\n",
        "# Conv1D(num_filters=64, filter_size=13, stride=1, activation='relu')\n",
        "# MaxPool(pool_size=3)\n",
        "# Conv1D(num_filters=64, filter_size=13, stride=1, activation='relu')\n",
        "# MaxPool(pool_size=3)\n",
        "\n",
        "# Flatten\n",
        "# Dense(num_neurons=256, activation='relu')  (floor((64- 13 + 2* 1)/ 1)+ 1)*4*4*2\n",
        "# Dropout(0.3)\n",
        "# Dense(num_neurons=32, activation='relu')\n",
        "# Dropout(0.3)\n",
        "# Dense(num_neurons=4, activation='softmax')\n",
        "\n",
        "\n",
        "model = Sequential(\n",
        "    Conv1d(in_channels=1, out_channels=64, kernel_size=13),\n",
        "    ReLU(),\n",
        "    MaxPool1d(4),\n",
        "\n",
        "    Conv1d(in_channels=64, out_channels=64, kernel_size=13),\n",
        "    ReLU(),\n",
        "    MaxPool1d(4),\n",
        "\n",
        "    Conv1d(in_channels=64, out_channels=64, kernel_size=13),\n",
        "    ReLU(),\n",
        "    MaxPool1d(4),\n",
        "\n",
        "    Conv1d(in_channels=64, out_channels=64, kernel_size=13),\n",
        "    ReLU(),\n",
        "    MaxPool1d(4),\n",
        "\n",
        "    Flatten(),\n",
        "\n",
        "    Linear(1728, 256),\n",
        "    ReLU(),\n",
        "    Dropout(0.3),\n",
        "\n",
        "    Linear(256, 32),\n",
        "    ReLU(),\n",
        "    Dropout(0.3),\n",
        "\n",
        "    Linear(32, 4)\n",
        ")"
      ],
      "execution_count": 51,
      "outputs": []
    },
    {
      "cell_type": "code",
      "metadata": {
        "id": "ZGAc6kLvKs_Z",
        "colab": {
          "base_uri": "https://localhost:8080/"
        },
        "outputId": "05983768-facd-4c27-f015-de76c1609da0"
      },
      "source": [
        "print(summary(model, batch_x[:1]))"
      ],
      "execution_count": 52,
      "outputs": [
        {
          "output_type": "stream",
          "name": "stdout",
          "text": [
            "-----------------------------------------------------------------------\n",
            "      Layer (type)        Output Shape         Param #     Tr. Param #\n",
            "=======================================================================\n",
            "          Conv1d-1       [1, 64, 7988]             896             896\n",
            "            ReLU-2       [1, 64, 7988]               0               0\n",
            "       MaxPool1d-3       [1, 64, 1997]               0               0\n",
            "          Conv1d-4       [1, 64, 1985]          53,312          53,312\n",
            "            ReLU-5       [1, 64, 1985]               0               0\n",
            "       MaxPool1d-6        [1, 64, 496]               0               0\n",
            "          Conv1d-7        [1, 64, 484]          53,312          53,312\n",
            "            ReLU-8        [1, 64, 484]               0               0\n",
            "       MaxPool1d-9        [1, 64, 121]               0               0\n",
            "         Conv1d-10        [1, 64, 109]          53,312          53,312\n",
            "           ReLU-11        [1, 64, 109]               0               0\n",
            "      MaxPool1d-12         [1, 64, 27]               0               0\n",
            "        Flatten-13           [1, 1728]               0               0\n",
            "         Linear-14            [1, 256]         442,624         442,624\n",
            "           ReLU-15            [1, 256]               0               0\n",
            "        Dropout-16            [1, 256]               0               0\n",
            "         Linear-17             [1, 32]           8,224           8,224\n",
            "           ReLU-18             [1, 32]               0               0\n",
            "        Dropout-19             [1, 32]               0               0\n",
            "         Linear-20              [1, 4]             132             132\n",
            "=======================================================================\n",
            "Total params: 611,812\n",
            "Trainable params: 611,812\n",
            "Non-trainable params: 0\n",
            "-----------------------------------------------------------------------\n"
          ]
        }
      ]
    },
    {
      "cell_type": "code",
      "metadata": {
        "id": "NtxihsdyLwJH",
        "colab": {
          "base_uri": "https://localhost:8080/"
        },
        "outputId": "30457527-d4e8-452d-cb9c-a14079181e76"
      },
      "source": [
        "# check model on one audio file\n",
        "model.eval()\n",
        "\n",
        "output = model(batch_x[:1])\n",
        "output.shape"
      ],
      "execution_count": 53,
      "outputs": [
        {
          "output_type": "execute_result",
          "data": {
            "text/plain": [
              "torch.Size([1, 4])"
            ]
          },
          "metadata": {},
          "execution_count": 53
        }
      ]
    },
    {
      "cell_type": "code",
      "metadata": {
        "id": "ZdWqmNK6MPxy",
        "colab": {
          "base_uri": "https://localhost:8080/"
        },
        "outputId": "78711338-3ef9-49e9-d8b3-e36349eae5a2"
      },
      "source": [
        "# print output\n",
        "output"
      ],
      "execution_count": 54,
      "outputs": [
        {
          "output_type": "execute_result",
          "data": {
            "text/plain": [
              "tensor([[0.1626, 0.0137, 0.0526, 0.0296]], grad_fn=<AddmmBackward0>)"
            ]
          },
          "metadata": {},
          "execution_count": 54
        }
      ]
    },
    {
      "cell_type": "markdown",
      "metadata": {
        "id": "5GOaHxFs-AZJ"
      },
      "source": [
        "#### 2.2 Train the model"
      ]
    },
    {
      "cell_type": "code",
      "metadata": {
        "id": "I_fF1OqaMUSj"
      },
      "source": [
        "# transfer model to GPU\n",
        "model = model.to(\"cuda\")"
      ],
      "execution_count": 55,
      "outputs": []
    },
    {
      "cell_type": "code",
      "metadata": {
        "id": "aQeyQldMMf-m"
      },
      "source": [
        "# define optimization and loss function\n",
        "criterion = CrossEntropyLoss()\n",
        "optimizer = Adam(model.parameters(), lr=0.001)"
      ],
      "execution_count": 56,
      "outputs": []
    },
    {
      "cell_type": "code",
      "metadata": {
        "id": "kJD7et5QMu2v",
        "colab": {
          "base_uri": "https://localhost:8080/"
        },
        "outputId": "8edebde4-3329-4dcd-cd6f-90c435701228"
      },
      "source": [
        "# set model to train\n",
        "model.train()\n",
        "\n",
        "# train model\n",
        "for epoch in range(10):\n",
        "\n",
        "    # initialize variables\n",
        "    epoch_loss = cnt = 0\n",
        "\n",
        "    # loop through the data\n",
        "    for batch_x, batch_y in data_loader:\n",
        "        # get batch images and targets and transfer them to GPU\n",
        "        batch_x = batch_x.to(\"cuda\").type(torch.cuda.FloatTensor)\n",
        "        batch_y = batch_y.to(\"cuda\").type(torch.cuda.LongTensor)\n",
        "\n",
        "        # clear gradients\n",
        "        optimizer.zero_grad()\n",
        "\n",
        "        # pass audio to model\n",
        "        outputs = model(batch_x)\n",
        "\n",
        "        outputs = outputs.squeeze()\n",
        "\n",
        "        # get loss\n",
        "        loss = criterion(outputs, batch_y)\n",
        "\n",
        "        # do a backward pass\n",
        "        loss.backward()\n",
        "\n",
        "        # update gradients\n",
        "        optimizer.step()\n",
        "\n",
        "        # sum loss and get count\n",
        "        epoch_loss += loss.item()\n",
        "        cnt += 1\n",
        "\n",
        "    # take average loss for all batches\n",
        "    epoch_loss /= cnt\n",
        "\n",
        "    # print loss\n",
        "    print(\"Training loss for epoch {} is {:.5f} \".format(epoch + 1, epoch_loss))"
      ],
      "execution_count": 57,
      "outputs": [
        {
          "output_type": "stream",
          "name": "stdout",
          "text": [
            "Training loss for epoch 1 is 1.37482 \n",
            "Training loss for epoch 2 is 1.20215 \n",
            "Training loss for epoch 3 is 0.66354 \n",
            "Training loss for epoch 4 is 0.31259 \n",
            "Training loss for epoch 5 is 0.20343 \n",
            "Training loss for epoch 6 is 0.15133 \n",
            "Training loss for epoch 7 is 0.13464 \n",
            "Training loss for epoch 8 is 0.10818 \n",
            "Training loss for epoch 9 is 0.08311 \n",
            "Training loss for epoch 10 is 0.06500 \n"
          ]
        }
      ]
    },
    {
      "cell_type": "markdown",
      "metadata": {
        "id": "TKhUt41fNOs4"
      },
      "source": [
        "#### 2.3 Get inference"
      ]
    },
    {
      "cell_type": "code",
      "metadata": {
        "id": "ZMCt6SP1NRc9",
        "colab": {
          "base_uri": "https://localhost:8080/"
        },
        "outputId": "ec0655bb-0e7e-45e1-81a2-d41032e3f1db"
      },
      "source": [
        "# check model on one audio file\n",
        "model.eval()\n",
        "\n",
        "output = model(batch_x[:1]).cpu().detach()\n",
        "output.shape"
      ],
      "execution_count": 77,
      "outputs": [
        {
          "output_type": "execute_result",
          "data": {
            "text/plain": [
              "torch.Size([1, 4])"
            ]
          },
          "metadata": {},
          "execution_count": 77
        }
      ]
    },
    {
      "cell_type": "code",
      "metadata": {
        "id": "H1Yc0xrOOKdR",
        "colab": {
          "base_uri": "https://localhost:8080/"
        },
        "outputId": "a5ece85b-3861-4f7f-ddda-9bc53a921535"
      },
      "source": [
        "# output logits\n",
        "output"
      ],
      "execution_count": 78,
      "outputs": [
        {
          "output_type": "execute_result",
          "data": {
            "text/plain": [
              "tensor([[-3.6668, -0.5431, -3.2914,  5.1190]])"
            ]
          },
          "metadata": {},
          "execution_count": 78
        }
      ]
    },
    {
      "cell_type": "code",
      "metadata": {
        "id": "CQOBfM_oOMCi",
        "colab": {
          "base_uri": "https://localhost:8080/"
        },
        "outputId": "b1e2aa1a-a55a-4485-f203-5d052f977bac"
      },
      "source": [
        "# get predicted label\n",
        "output = torch.log_softmax(output, dim=1)\n",
        "_, pred = torch.max(output, dim = 1)\n",
        "pred"
      ],
      "execution_count": 79,
      "outputs": [
        {
          "output_type": "execute_result",
          "data": {
            "text/plain": [
              "tensor([3])"
            ]
          },
          "metadata": {},
          "execution_count": 79
        }
      ]
    },
    {
      "cell_type": "code",
      "metadata": {
        "id": "ul7NvCSrOPn4",
        "colab": {
          "base_uri": "https://localhost:8080/",
          "height": 35
        },
        "outputId": "1fd41401-2700-46d0-9141-b86725aa4b4f"
      },
      "source": [
        "# convert label to class\n",
        "labels_to_classes[pred.numpy()[0]]"
      ],
      "execution_count": 80,
      "outputs": [
        {
          "output_type": "execute_result",
          "data": {
            "text/plain": [
              "'right'"
            ],
            "application/vnd.google.colaboratory.intrinsic+json": {
              "type": "string"
            }
          },
          "metadata": {},
          "execution_count": 80
        }
      ]
    },
    {
      "cell_type": "code",
      "metadata": {
        "id": "W3zZEMClOTlt",
        "colab": {
          "base_uri": "https://localhost:8080/",
          "height": 75
        },
        "outputId": "0c40cee3-27d4-4179-fbc3-abc2b13f1dc7"
      },
      "source": [
        "# visualize audio\n",
        "Audio(batch_x[:1].cpu().detach().numpy()[0, 0, :], rate=8000)"
      ],
      "execution_count": 81,
      "outputs": [
        {
          "output_type": "execute_result",
          "data": {
            "text/plain": [
              "<IPython.lib.display.Audio object>"
            ],
            "text/html": [
              "\n",
              "                <audio  controls=\"controls\" >\n",
              "                    <source src=\"data:audio/wav;base64,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\" type=\"audio/wav\" />\n",
              "                    Your browser does not support the audio element.\n",
              "                </audio>\n",
              "              "
            ]
          },
          "metadata": {},
          "execution_count": 81
        }
      ]
    },
    {
      "cell_type": "code",
      "metadata": {
        "id": "6fzv4tkTOU0D",
        "colab": {
          "base_uri": "https://localhost:8080/"
        },
        "outputId": "b645efa2-06fe-4242-8c14-7aa3096b99ce"
      },
      "source": [
        "# print actual label\n",
        "batch_y[:1], labels_to_classes[batch_y[:1].cpu().numpy()[0]]"
      ],
      "execution_count": 82,
      "outputs": [
        {
          "output_type": "execute_result",
          "data": {
            "text/plain": [
              "(tensor([3], device='cuda:0'), 'right')"
            ]
          },
          "metadata": {},
          "execution_count": 82
        }
      ]
    },
    {
      "cell_type": "code",
      "metadata": {
        "id": "01wGmtV9Os4w"
      },
      "source": [
        "# save model\n",
        "torch.save(model.state_dict(), 'saved_model.pth')"
      ],
      "execution_count": 66,
      "outputs": []
    },
    {
      "cell_type": "code",
      "metadata": {
        "id": "wThIAyRmOz59"
      },
      "source": [],
      "execution_count": null,
      "outputs": []
    }
  ]
}