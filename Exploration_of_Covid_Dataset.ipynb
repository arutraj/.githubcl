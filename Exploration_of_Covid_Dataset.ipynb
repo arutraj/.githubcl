{
  "nbformat": 4,
  "nbformat_minor": 0,
  "metadata": {
    "colab": {
      "provenance": [],
      "collapsed_sections": [
        "Xu8UutdaFZjt",
        "uZ4f5KzrFeS5",
        "JIwKqkmxFgRn",
        "VpRMATadIjo9",
        "4ynoyRfcI3kx",
        "K_yKV6foNWki",
        "aRVIha-LNZTf"
      ],
      "machine_shape": "hm",
      "gpuType": "T4",
      "include_colab_link": true
    },
    "kernelspec": {
      "name": "python3",
      "display_name": "Python 3"
    },
    "language_info": {
      "name": "python"
    },
    "accelerator": "GPU"
  },
  "cells": [
    {
      "cell_type": "markdown",
      "metadata": {
        "id": "view-in-github",
        "colab_type": "text"
      },
      "source": [
        "<a href=\"https://colab.research.google.com/github/arutraj/.githubcl/blob/main/Exploration_of_Covid_Dataset.ipynb\" target=\"_parent\"><img src=\"https://colab.research.google.com/assets/colab-badge.svg\" alt=\"Open In Colab\"/></a>"
      ]
    },
    {
      "cell_type": "markdown",
      "source": [
        "# Install pyspark and customize Colab configuration\n",
        "\n",
        "\n",
        "The pyspark installation will persist until the runtime is recycled."
      ],
      "metadata": {
        "id": "Xu8UutdaFZjt"
      }
    },
    {
      "cell_type": "code",
      "execution_count": 1,
      "metadata": {
        "colab": {
          "base_uri": "https://localhost:8080/",
          "height": 521
        },
        "id": "KxYHzVIJEez0",
        "outputId": "1dcd8603-690d-434b-ae5f-093c034096f5"
      },
      "outputs": [
        {
          "output_type": "stream",
          "name": "stdout",
          "text": [
            "\u001b[33m\r0% [Working]\u001b[0m\r            \rGet:1 https://cloud.r-project.org/bin/linux/ubuntu jammy-cran40/ InRelease [3,626 B]\n",
            "Get:2 https://developer.download.nvidia.com/compute/cuda/repos/ubuntu2204/x86_64  InRelease [1,581 B]\n",
            "Get:3 https://developer.download.nvidia.com/compute/cuda/repos/ubuntu2204/x86_64  Packages [1,032 kB]\n",
            "Get:4 http://security.ubuntu.com/ubuntu jammy-security InRelease [129 kB]\n",
            "Hit:5 http://archive.ubuntu.com/ubuntu jammy InRelease\n",
            "Hit:6 https://ppa.launchpadcontent.net/deadsnakes/ppa/ubuntu jammy InRelease\n",
            "Get:7 http://archive.ubuntu.com/ubuntu jammy-updates InRelease [128 kB]\n",
            "Hit:8 https://ppa.launchpadcontent.net/graphics-drivers/ppa/ubuntu jammy InRelease\n",
            "Ign:9 https://r2u.stat.illinois.edu/ubuntu jammy InRelease\n",
            "Hit:10 https://ppa.launchpadcontent.net/ubuntugis/ppa/ubuntu jammy InRelease\n",
            "Get:11 https://r2u.stat.illinois.edu/ubuntu jammy Release [5,713 B]\n",
            "Get:12 https://r2u.stat.illinois.edu/ubuntu jammy Release.gpg [793 B]\n",
            "Get:13 http://archive.ubuntu.com/ubuntu jammy-backports InRelease [127 kB]\n",
            "Get:14 http://archive.ubuntu.com/ubuntu jammy-updates/main amd64 Packages [2,648 kB]\n",
            "Get:15 https://r2u.stat.illinois.edu/ubuntu jammy/main amd64 Packages [2,596 kB]\n",
            "Get:16 http://archive.ubuntu.com/ubuntu jammy-updates/universe amd64 Packages [1,450 kB]\n",
            "Get:17 https://r2u.stat.illinois.edu/ubuntu jammy/main all Packages [8,403 kB]\n",
            "Fetched 16.5 MB in 5s (3,652 kB/s)\n",
            "Reading package lists... Done\n",
            "Building dependency tree... Done\n",
            "Reading state information... Done\n",
            "50 packages can be upgraded. Run 'apt list --upgradable' to see them.\n",
            "\u001b[1;33mW: \u001b[0mSkipping acquire of configured file 'main/source/Sources' as repository 'https://r2u.stat.illinois.edu/ubuntu jammy InRelease' does not seem to provide it (sources.list entry misspelt?)\u001b[0m\n",
            "tar: spark-3.2.1-bin-hadoop3.2.tgz: Cannot open: No such file or directory\n",
            "tar: Error is not recoverable: exiting now\n",
            "Requirement already satisfied: pyspark in /usr/local/lib/python3.10/dist-packages (3.5.3)\n",
            "Requirement already satisfied: py4j==0.10.9.7 in /usr/local/lib/python3.10/dist-packages (from pyspark) (0.10.9.7)\n",
            "Requirement already satisfied: py4j in /usr/local/lib/python3.10/dist-packages (0.10.9.7)\n"
          ]
        },
        {
          "output_type": "execute_result",
          "data": {
            "text/plain": [
              "'/usr/local/lib/python3.10/dist-packages/pyspark'"
            ],
            "application/vnd.google.colaboratory.intrinsic+json": {
              "type": "string"
            }
          },
          "metadata": {},
          "execution_count": 1
        }
      ],
      "source": [
        "!sudo apt update\n",
        "!apt-get install openjdk-8-jdk-headless -qq > /dev/null\n",
        "#Check this site for the latest download link https://www.apache.org/dyn/closer.lua/spark/spark-3.2.1/spark-3.2.1-bin-hadoop3.2.tgz\n",
        "!wget -q https://dlcdn.apache.org/spark/spark-3.2.1/spark-3.2.1-bin-hadoop3.2.tgz\n",
        "!tar xf spark-3.2.1-bin-hadoop3.2.tgz\n",
        "!pip install -q findspark\n",
        "!pip install pyspark\n",
        "!pip install py4j\n",
        "\n",
        "import os\n",
        "import sys\n",
        "# os.environ[\"JAVA_HOME\"] = \"/usr/lib/jvm/java-8-openjdk-amd64\"\n",
        "# os.environ[\"SPARK_HOME\"] = \"/content/spark-3.2.1-bin-hadoop3.2\"\n",
        "\n",
        "\n",
        "import findspark\n",
        "findspark.init()\n",
        "findspark.find()"
      ]
    },
    {
      "cell_type": "markdown",
      "source": [
        "# Initialize Spark"
      ],
      "metadata": {
        "id": "uZ4f5KzrFeS5"
      }
    },
    {
      "cell_type": "code",
      "source": [
        "import pyspark\n",
        "from pyspark import SparkContext\n",
        "\n",
        "from pyspark.sql import DataFrame, SparkSession\n",
        "from typing import List\n",
        "import pyspark.sql.types as T\n",
        "import pyspark.sql.functions as F\n",
        "\n",
        "spark= SparkSession \\\n",
        "       .builder \\\n",
        "       .appName(\"Our First Spark Example\") \\\n",
        "       .getOrCreate()\n",
        "\n",
        "sc = spark.sparkContext\n",
        "spark"
      ],
      "metadata": {
        "colab": {
          "base_uri": "https://localhost:8080/",
          "height": 219
        },
        "id": "t0Bv7bTXFZ_4",
        "outputId": "09034220-3ed6-4bfe-8123-9fd7979c9928"
      },
      "execution_count": 2,
      "outputs": [
        {
          "output_type": "execute_result",
          "data": {
            "text/plain": [
              "<pyspark.sql.session.SparkSession at 0x784382b151b0>"
            ],
            "text/html": [
              "\n",
              "            <div>\n",
              "                <p><b>SparkSession - in-memory</b></p>\n",
              "                \n",
              "        <div>\n",
              "            <p><b>SparkContext</b></p>\n",
              "\n",
              "            <p><a href=\"http://c5e835dde9be:4040\">Spark UI</a></p>\n",
              "\n",
              "            <dl>\n",
              "              <dt>Version</dt>\n",
              "                <dd><code>v3.5.3</code></dd>\n",
              "              <dt>Master</dt>\n",
              "                <dd><code>local[*]</code></dd>\n",
              "              <dt>AppName</dt>\n",
              "                <dd><code>Our First Spark Example</code></dd>\n",
              "            </dl>\n",
              "        </div>\n",
              "        \n",
              "            </div>\n",
              "        "
            ]
          },
          "metadata": {},
          "execution_count": 2
        }
      ]
    },
    {
      "cell_type": "markdown",
      "source": [
        "# Load Covid Dataset"
      ],
      "metadata": {
        "id": "JIwKqkmxFgRn"
      }
    },
    {
      "cell_type": "code",
      "source": [
        "# Importing the requests library for handling HTTP requests\n",
        "import requests\n",
        "\n",
        "# Specifying the path to the raw CSV file on GitHub\n",
        "path = \"https://raw.githubusercontent.com/owid/covid-19-data/master/public/data/owid-covid-data.csv\"\n",
        "\n",
        "# Sending a GET request to the specified URL to retrieve the content of the CSV file\n",
        "req = requests.get(path)\n",
        "\n",
        "# Storing the content of the CSV file\n",
        "url_content = req.content\n",
        "\n",
        "# Specifying the name for the local CSV file to be saved\n",
        "csv_file_name = 'owid-covid-data.csv'\n",
        "\n",
        "# Opening the local CSV file in binary write mode\n",
        "csv_file = open(csv_file_name, 'wb')\n",
        "\n",
        "# Writing the content of the retrieved CSV file to the local file\n",
        "csv_file.write(url_content)\n",
        "\n",
        "# Closing the local CSV file\n",
        "csv_file.close()\n",
        "\n",
        "# Using Apache Spark to read the CSV file into a DataFrame\n",
        "df = spark.read.csv('/content/'+csv_file_name, header=True, inferSchema=True)\n"
      ],
      "metadata": {
        "id": "Ujyv8nMvFfuP"
      },
      "execution_count": 3,
      "outputs": []
    },
    {
      "cell_type": "code",
      "source": [
        "df.count()"
      ],
      "metadata": {
        "id": "01RChpcSTwlO",
        "outputId": "e77b8d19-8767-449c-9664-502b626c3770",
        "colab": {
          "base_uri": "https://localhost:8080/"
        }
      },
      "execution_count": 6,
      "outputs": [
        {
          "output_type": "execute_result",
          "data": {
            "text/plain": [
              "429435"
            ]
          },
          "metadata": {},
          "execution_count": 6
        }
      ]
    },
    {
      "cell_type": "code",
      "source": [
        "df.show()"
      ],
      "metadata": {
        "colab": {
          "base_uri": "https://localhost:8080/"
        },
        "id": "Y4uKoCthIneD",
        "outputId": "d8503b56-1ef9-4591-c7c5-57d35f05e498"
      },
      "execution_count": 4,
      "outputs": [
        {
          "output_type": "stream",
          "name": "stdout",
          "text": [
            "+--------+---------+-----------+----------+-----------+---------+------------------+------------+----------+-------------------+-----------------------+---------------------+------------------------------+------------------------+----------------------+-------------------------------+-----------------+------------+------------------------+-------------+-------------------------+---------------------+---------------------------------+----------------------+----------------------------------+-----------+---------+------------------------+----------------------+------------------+-------------------------------+-------------+--------------+-----------+------------------+-----------------+-----------------------+--------------+----------------+-------------------------+------------------------------+-----------------------------+-----------------------------------+--------------------------+-------------------------------------+------------------------------+------------------------------------------+----------------+------------------+----------+-------------+-------------+--------------+---------------+---------------------+-------------------+--------------+------------+----------------------+--------------------------+---------------+-----------------------+----------+------------------------------------+---------------------------+----------------+---------------------------------------+\n",
            "|iso_code|continent|   location|      date|total_cases|new_cases|new_cases_smoothed|total_deaths|new_deaths|new_deaths_smoothed|total_cases_per_million|new_cases_per_million|new_cases_smoothed_per_million|total_deaths_per_million|new_deaths_per_million|new_deaths_smoothed_per_million|reproduction_rate|icu_patients|icu_patients_per_million|hosp_patients|hosp_patients_per_million|weekly_icu_admissions|weekly_icu_admissions_per_million|weekly_hosp_admissions|weekly_hosp_admissions_per_million|total_tests|new_tests|total_tests_per_thousand|new_tests_per_thousand|new_tests_smoothed|new_tests_smoothed_per_thousand|positive_rate|tests_per_case|tests_units|total_vaccinations|people_vaccinated|people_fully_vaccinated|total_boosters|new_vaccinations|new_vaccinations_smoothed|total_vaccinations_per_hundred|people_vaccinated_per_hundred|people_fully_vaccinated_per_hundred|total_boosters_per_hundred|new_vaccinations_smoothed_per_million|new_people_vaccinated_smoothed|new_people_vaccinated_smoothed_per_hundred|stringency_index|population_density|median_age|aged_65_older|aged_70_older|gdp_per_capita|extreme_poverty|cardiovasc_death_rate|diabetes_prevalence|female_smokers|male_smokers|handwashing_facilities|hospital_beds_per_thousand|life_expectancy|human_development_index|population|excess_mortality_cumulative_absolute|excess_mortality_cumulative|excess_mortality|excess_mortality_cumulative_per_million|\n",
            "+--------+---------+-----------+----------+-----------+---------+------------------+------------+----------+-------------------+-----------------------+---------------------+------------------------------+------------------------+----------------------+-------------------------------+-----------------+------------+------------------------+-------------+-------------------------+---------------------+---------------------------------+----------------------+----------------------------------+-----------+---------+------------------------+----------------------+------------------+-------------------------------+-------------+--------------+-----------+------------------+-----------------+-----------------------+--------------+----------------+-------------------------+------------------------------+-----------------------------+-----------------------------------+--------------------------+-------------------------------------+------------------------------+------------------------------------------+----------------+------------------+----------+-------------+-------------+--------------+---------------+---------------------+-------------------+--------------+------------+----------------------+--------------------------+---------------+-----------------------+----------+------------------------------------+---------------------------+----------------+---------------------------------------+\n",
            "|     AFG|     Asia|Afghanistan|2020-01-05|          0|        0|              NULL|           0|         0|               NULL|                    0.0|                  0.0|                          NULL|                     0.0|                   0.0|                           NULL|             NULL|        NULL|                    NULL|         NULL|                     NULL|                 NULL|                             NULL|                  NULL|                              NULL|       NULL|     NULL|                    NULL|                  NULL|              NULL|                           NULL|         NULL|          NULL|       NULL|              NULL|             NULL|                   NULL|          NULL|            NULL|                     NULL|                          NULL|                         NULL|                               NULL|                      NULL|                                 NULL|                          NULL|                                      NULL|             0.0|             54.42|      18.6|         2.58|         1.34|       1803.99|           NULL|               597.03|               9.59|          NULL|        NULL|                 37.75|                       0.5|          64.83|                   0.51|  41128772|                                NULL|                       NULL|            NULL|                                   NULL|\n",
            "|     AFG|     Asia|Afghanistan|2020-01-06|          0|        0|              NULL|           0|         0|               NULL|                    0.0|                  0.0|                          NULL|                     0.0|                   0.0|                           NULL|             NULL|        NULL|                    NULL|         NULL|                     NULL|                 NULL|                             NULL|                  NULL|                              NULL|       NULL|     NULL|                    NULL|                  NULL|              NULL|                           NULL|         NULL|          NULL|       NULL|              NULL|             NULL|                   NULL|          NULL|            NULL|                     NULL|                          NULL|                         NULL|                               NULL|                      NULL|                                 NULL|                          NULL|                                      NULL|             0.0|             54.42|      18.6|         2.58|         1.34|       1803.99|           NULL|               597.03|               9.59|          NULL|        NULL|                 37.75|                       0.5|          64.83|                   0.51|  41128772|                                NULL|                       NULL|            NULL|                                   NULL|\n",
            "|     AFG|     Asia|Afghanistan|2020-01-07|          0|        0|              NULL|           0|         0|               NULL|                    0.0|                  0.0|                          NULL|                     0.0|                   0.0|                           NULL|             NULL|        NULL|                    NULL|         NULL|                     NULL|                 NULL|                             NULL|                  NULL|                              NULL|       NULL|     NULL|                    NULL|                  NULL|              NULL|                           NULL|         NULL|          NULL|       NULL|              NULL|             NULL|                   NULL|          NULL|            NULL|                     NULL|                          NULL|                         NULL|                               NULL|                      NULL|                                 NULL|                          NULL|                                      NULL|             0.0|             54.42|      18.6|         2.58|         1.34|       1803.99|           NULL|               597.03|               9.59|          NULL|        NULL|                 37.75|                       0.5|          64.83|                   0.51|  41128772|                                NULL|                       NULL|            NULL|                                   NULL|\n",
            "|     AFG|     Asia|Afghanistan|2020-01-08|          0|        0|              NULL|           0|         0|               NULL|                    0.0|                  0.0|                          NULL|                     0.0|                   0.0|                           NULL|             NULL|        NULL|                    NULL|         NULL|                     NULL|                 NULL|                             NULL|                  NULL|                              NULL|       NULL|     NULL|                    NULL|                  NULL|              NULL|                           NULL|         NULL|          NULL|       NULL|              NULL|             NULL|                   NULL|          NULL|            NULL|                     NULL|                          NULL|                         NULL|                               NULL|                      NULL|                                 NULL|                          NULL|                                      NULL|             0.0|             54.42|      18.6|         2.58|         1.34|       1803.99|           NULL|               597.03|               9.59|          NULL|        NULL|                 37.75|                       0.5|          64.83|                   0.51|  41128772|                                NULL|                       NULL|            NULL|                                   NULL|\n",
            "|     AFG|     Asia|Afghanistan|2020-01-09|          0|        0|              NULL|           0|         0|               NULL|                    0.0|                  0.0|                          NULL|                     0.0|                   0.0|                           NULL|             NULL|        NULL|                    NULL|         NULL|                     NULL|                 NULL|                             NULL|                  NULL|                              NULL|       NULL|     NULL|                    NULL|                  NULL|              NULL|                           NULL|         NULL|          NULL|       NULL|              NULL|             NULL|                   NULL|          NULL|            NULL|                     NULL|                          NULL|                         NULL|                               NULL|                      NULL|                                 NULL|                          NULL|                                      NULL|             0.0|             54.42|      18.6|         2.58|         1.34|       1803.99|           NULL|               597.03|               9.59|          NULL|        NULL|                 37.75|                       0.5|          64.83|                   0.51|  41128772|                                NULL|                       NULL|            NULL|                                   NULL|\n",
            "|     AFG|     Asia|Afghanistan|2020-01-10|          0|        0|               0.0|           0|         0|                0.0|                    0.0|                  0.0|                           0.0|                     0.0|                   0.0|                            0.0|             NULL|        NULL|                    NULL|         NULL|                     NULL|                 NULL|                             NULL|                  NULL|                              NULL|       NULL|     NULL|                    NULL|                  NULL|              NULL|                           NULL|         NULL|          NULL|       NULL|              NULL|             NULL|                   NULL|          NULL|            NULL|                     NULL|                          NULL|                         NULL|                               NULL|                      NULL|                                 NULL|                          NULL|                                      NULL|             0.0|             54.42|      18.6|         2.58|         1.34|       1803.99|           NULL|               597.03|               9.59|          NULL|        NULL|                 37.75|                       0.5|          64.83|                   0.51|  41128772|                                NULL|                       NULL|            NULL|                                   NULL|\n",
            "|     AFG|     Asia|Afghanistan|2020-01-11|          0|        0|               0.0|           0|         0|                0.0|                    0.0|                  0.0|                           0.0|                     0.0|                   0.0|                            0.0|             NULL|        NULL|                    NULL|         NULL|                     NULL|                 NULL|                             NULL|                  NULL|                              NULL|       NULL|     NULL|                    NULL|                  NULL|              NULL|                           NULL|         NULL|          NULL|       NULL|              NULL|             NULL|                   NULL|          NULL|            NULL|                     NULL|                          NULL|                         NULL|                               NULL|                      NULL|                                 NULL|                          NULL|                                      NULL|             0.0|             54.42|      18.6|         2.58|         1.34|       1803.99|           NULL|               597.03|               9.59|          NULL|        NULL|                 37.75|                       0.5|          64.83|                   0.51|  41128772|                                NULL|                       NULL|            NULL|                                   NULL|\n",
            "|     AFG|     Asia|Afghanistan|2020-01-12|          0|        0|               0.0|           0|         0|                0.0|                    0.0|                  0.0|                           0.0|                     0.0|                   0.0|                            0.0|             NULL|        NULL|                    NULL|         NULL|                     NULL|                 NULL|                             NULL|                  NULL|                              NULL|       NULL|     NULL|                    NULL|                  NULL|              NULL|                           NULL|         NULL|          NULL|       NULL|              NULL|             NULL|                   NULL|          NULL|            NULL|                     NULL|                          NULL|                         NULL|                               NULL|                      NULL|                                 NULL|                          NULL|                                      NULL|             0.0|             54.42|      18.6|         2.58|         1.34|       1803.99|           NULL|               597.03|               9.59|          NULL|        NULL|                 37.75|                       0.5|          64.83|                   0.51|  41128772|                                NULL|                       NULL|            NULL|                                   NULL|\n",
            "|     AFG|     Asia|Afghanistan|2020-01-13|          0|        0|               0.0|           0|         0|                0.0|                    0.0|                  0.0|                           0.0|                     0.0|                   0.0|                            0.0|             NULL|        NULL|                    NULL|         NULL|                     NULL|                 NULL|                             NULL|                  NULL|                              NULL|       NULL|     NULL|                    NULL|                  NULL|              NULL|                           NULL|         NULL|          NULL|       NULL|              NULL|             NULL|                   NULL|          NULL|            NULL|                     NULL|                          NULL|                         NULL|                               NULL|                      NULL|                                 NULL|                          NULL|                                      NULL|             0.0|             54.42|      18.6|         2.58|         1.34|       1803.99|           NULL|               597.03|               9.59|          NULL|        NULL|                 37.75|                       0.5|          64.83|                   0.51|  41128772|                                NULL|                       NULL|            NULL|                                   NULL|\n",
            "|     AFG|     Asia|Afghanistan|2020-01-14|          0|        0|               0.0|           0|         0|                0.0|                    0.0|                  0.0|                           0.0|                     0.0|                   0.0|                            0.0|             NULL|        NULL|                    NULL|         NULL|                     NULL|                 NULL|                             NULL|                  NULL|                              NULL|       NULL|     NULL|                    NULL|                  NULL|              NULL|                           NULL|         NULL|          NULL|       NULL|              NULL|             NULL|                   NULL|          NULL|            NULL|                     NULL|                          NULL|                         NULL|                               NULL|                      NULL|                                 NULL|                          NULL|                                      NULL|             0.0|             54.42|      18.6|         2.58|         1.34|       1803.99|           NULL|               597.03|               9.59|          NULL|        NULL|                 37.75|                       0.5|          64.83|                   0.51|  41128772|                                NULL|                       NULL|            NULL|                                   NULL|\n",
            "|     AFG|     Asia|Afghanistan|2020-01-15|          0|        0|               0.0|           0|         0|                0.0|                    0.0|                  0.0|                           0.0|                     0.0|                   0.0|                            0.0|             NULL|        NULL|                    NULL|         NULL|                     NULL|                 NULL|                             NULL|                  NULL|                              NULL|       NULL|     NULL|                    NULL|                  NULL|              NULL|                           NULL|         NULL|          NULL|       NULL|              NULL|             NULL|                   NULL|          NULL|            NULL|                     NULL|                          NULL|                         NULL|                               NULL|                      NULL|                                 NULL|                          NULL|                                      NULL|             0.0|             54.42|      18.6|         2.58|         1.34|       1803.99|           NULL|               597.03|               9.59|          NULL|        NULL|                 37.75|                       0.5|          64.83|                   0.51|  41128772|                                NULL|                       NULL|            NULL|                                   NULL|\n",
            "|     AFG|     Asia|Afghanistan|2020-01-16|          0|        0|               0.0|           0|         0|                0.0|                    0.0|                  0.0|                           0.0|                     0.0|                   0.0|                            0.0|             NULL|        NULL|                    NULL|         NULL|                     NULL|                 NULL|                             NULL|                  NULL|                              NULL|       NULL|     NULL|                    NULL|                  NULL|              NULL|                           NULL|         NULL|          NULL|       NULL|              NULL|             NULL|                   NULL|          NULL|            NULL|                     NULL|                          NULL|                         NULL|                               NULL|                      NULL|                                 NULL|                          NULL|                                      NULL|             0.0|             54.42|      18.6|         2.58|         1.34|       1803.99|           NULL|               597.03|               9.59|          NULL|        NULL|                 37.75|                       0.5|          64.83|                   0.51|  41128772|                                NULL|                       NULL|            NULL|                                   NULL|\n",
            "|     AFG|     Asia|Afghanistan|2020-01-17|          0|        0|               0.0|           0|         0|                0.0|                    0.0|                  0.0|                           0.0|                     0.0|                   0.0|                            0.0|             NULL|        NULL|                    NULL|         NULL|                     NULL|                 NULL|                             NULL|                  NULL|                              NULL|       NULL|     NULL|                    NULL|                  NULL|              NULL|                           NULL|         NULL|          NULL|       NULL|              NULL|             NULL|                   NULL|          NULL|            NULL|                     NULL|                          NULL|                         NULL|                               NULL|                      NULL|                                 NULL|                          NULL|                                      NULL|             0.0|             54.42|      18.6|         2.58|         1.34|       1803.99|           NULL|               597.03|               9.59|          NULL|        NULL|                 37.75|                       0.5|          64.83|                   0.51|  41128772|                                NULL|                       NULL|            NULL|                                   NULL|\n",
            "|     AFG|     Asia|Afghanistan|2020-01-18|          0|        0|               0.0|           0|         0|                0.0|                    0.0|                  0.0|                           0.0|                     0.0|                   0.0|                            0.0|             NULL|        NULL|                    NULL|         NULL|                     NULL|                 NULL|                             NULL|                  NULL|                              NULL|       NULL|     NULL|                    NULL|                  NULL|              NULL|                           NULL|         NULL|          NULL|       NULL|              NULL|             NULL|                   NULL|          NULL|            NULL|                     NULL|                          NULL|                         NULL|                               NULL|                      NULL|                                 NULL|                          NULL|                                      NULL|             0.0|             54.42|      18.6|         2.58|         1.34|       1803.99|           NULL|               597.03|               9.59|          NULL|        NULL|                 37.75|                       0.5|          64.83|                   0.51|  41128772|                                NULL|                       NULL|            NULL|                                   NULL|\n",
            "|     AFG|     Asia|Afghanistan|2020-01-19|          0|        0|               0.0|           0|         0|                0.0|                    0.0|                  0.0|                           0.0|                     0.0|                   0.0|                            0.0|             NULL|        NULL|                    NULL|         NULL|                     NULL|                 NULL|                             NULL|                  NULL|                              NULL|       NULL|     NULL|                    NULL|                  NULL|              NULL|                           NULL|         NULL|          NULL|       NULL|              NULL|             NULL|                   NULL|          NULL|            NULL|                     NULL|                          NULL|                         NULL|                               NULL|                      NULL|                                 NULL|                          NULL|                                      NULL|             0.0|             54.42|      18.6|         2.58|         1.34|       1803.99|           NULL|               597.03|               9.59|          NULL|        NULL|                 37.75|                       0.5|          64.83|                   0.51|  41128772|                                NULL|                       NULL|            NULL|                                   NULL|\n",
            "|     AFG|     Asia|Afghanistan|2020-01-20|          0|        0|               0.0|           0|         0|                0.0|                    0.0|                  0.0|                           0.0|                     0.0|                   0.0|                            0.0|             NULL|        NULL|                    NULL|         NULL|                     NULL|                 NULL|                             NULL|                  NULL|                              NULL|       NULL|     NULL|                    NULL|                  NULL|              NULL|                           NULL|         NULL|          NULL|       NULL|              NULL|             NULL|                   NULL|          NULL|            NULL|                     NULL|                          NULL|                         NULL|                               NULL|                      NULL|                                 NULL|                          NULL|                                      NULL|             0.0|             54.42|      18.6|         2.58|         1.34|       1803.99|           NULL|               597.03|               9.59|          NULL|        NULL|                 37.75|                       0.5|          64.83|                   0.51|  41128772|                                NULL|                       NULL|            NULL|                                   NULL|\n",
            "|     AFG|     Asia|Afghanistan|2020-01-21|          0|        0|               0.0|           0|         0|                0.0|                    0.0|                  0.0|                           0.0|                     0.0|                   0.0|                            0.0|             NULL|        NULL|                    NULL|         NULL|                     NULL|                 NULL|                             NULL|                  NULL|                              NULL|       NULL|     NULL|                    NULL|                  NULL|              NULL|                           NULL|         NULL|          NULL|       NULL|              NULL|             NULL|                   NULL|          NULL|            NULL|                     NULL|                          NULL|                         NULL|                               NULL|                      NULL|                                 NULL|                          NULL|                                      NULL|             0.0|             54.42|      18.6|         2.58|         1.34|       1803.99|           NULL|               597.03|               9.59|          NULL|        NULL|                 37.75|                       0.5|          64.83|                   0.51|  41128772|                                NULL|                       NULL|            NULL|                                   NULL|\n",
            "|     AFG|     Asia|Afghanistan|2020-01-22|          0|        0|               0.0|           0|         0|                0.0|                    0.0|                  0.0|                           0.0|                     0.0|                   0.0|                            0.0|             NULL|        NULL|                    NULL|         NULL|                     NULL|                 NULL|                             NULL|                  NULL|                              NULL|       NULL|     NULL|                    NULL|                  NULL|              NULL|                           NULL|         NULL|          NULL|       NULL|              NULL|             NULL|                   NULL|          NULL|            NULL|                     NULL|                          NULL|                         NULL|                               NULL|                      NULL|                                 NULL|                          NULL|                                      NULL|             0.0|             54.42|      18.6|         2.58|         1.34|       1803.99|           NULL|               597.03|               9.59|          NULL|        NULL|                 37.75|                       0.5|          64.83|                   0.51|  41128772|                                NULL|                       NULL|            NULL|                                   NULL|\n",
            "|     AFG|     Asia|Afghanistan|2020-01-23|          0|        0|               0.0|           0|         0|                0.0|                    0.0|                  0.0|                           0.0|                     0.0|                   0.0|                            0.0|             NULL|        NULL|                    NULL|         NULL|                     NULL|                 NULL|                             NULL|                  NULL|                              NULL|       NULL|     NULL|                    NULL|                  NULL|              NULL|                           NULL|         NULL|          NULL|       NULL|              NULL|             NULL|                   NULL|          NULL|            NULL|                     NULL|                          NULL|                         NULL|                               NULL|                      NULL|                                 NULL|                          NULL|                                      NULL|             0.0|             54.42|      18.6|         2.58|         1.34|       1803.99|           NULL|               597.03|               9.59|          NULL|        NULL|                 37.75|                       0.5|          64.83|                   0.51|  41128772|                                NULL|                       NULL|            NULL|                                   NULL|\n",
            "|     AFG|     Asia|Afghanistan|2020-01-24|          0|        0|               0.0|           0|         0|                0.0|                    0.0|                  0.0|                           0.0|                     0.0|                   0.0|                            0.0|             NULL|        NULL|                    NULL|         NULL|                     NULL|                 NULL|                             NULL|                  NULL|                              NULL|       NULL|     NULL|                    NULL|                  NULL|              NULL|                           NULL|         NULL|          NULL|       NULL|              NULL|             NULL|                   NULL|          NULL|            NULL|                     NULL|                          NULL|                         NULL|                               NULL|                      NULL|                                 NULL|                          NULL|                                      NULL|             0.0|             54.42|      18.6|         2.58|         1.34|       1803.99|           NULL|               597.03|               9.59|          NULL|        NULL|                 37.75|                       0.5|          64.83|                   0.51|  41128772|                                NULL|                       NULL|            NULL|                                   NULL|\n",
            "+--------+---------+-----------+----------+-----------+---------+------------------+------------+----------+-------------------+-----------------------+---------------------+------------------------------+------------------------+----------------------+-------------------------------+-----------------+------------+------------------------+-------------+-------------------------+---------------------+---------------------------------+----------------------+----------------------------------+-----------+---------+------------------------+----------------------+------------------+-------------------------------+-------------+--------------+-----------+------------------+-----------------+-----------------------+--------------+----------------+-------------------------+------------------------------+-----------------------------+-----------------------------------+--------------------------+-------------------------------------+------------------------------+------------------------------------------+----------------+------------------+----------+-------------+-------------+--------------+---------------+---------------------+-------------------+--------------+------------+----------------------+--------------------------+---------------+-----------------------+----------+------------------------------------+---------------------------+----------------+---------------------------------------+\n",
            "only showing top 20 rows\n",
            "\n"
          ]
        }
      ]
    },
    {
      "cell_type": "markdown",
      "source": [
        "# Lazy Evaluation"
      ],
      "metadata": {
        "id": "VpRMATadIjo9"
      }
    },
    {
      "cell_type": "code",
      "source": [
        "# Filter all rows which have location India\n",
        "df.filter(\"location='India'\")"
      ],
      "metadata": {
        "colab": {
          "base_uri": "https://localhost:8080/"
        },
        "id": "fPxGBPgdFmTh",
        "outputId": "f0133db5-34bf-4a5f-90ba-212d947d90c2"
      },
      "execution_count": 7,
      "outputs": [
        {
          "output_type": "execute_result",
          "data": {
            "text/plain": [
              "DataFrame[iso_code: string, continent: string, location: string, date: date, total_cases: int, new_cases: int, new_cases_smoothed: double, total_deaths: int, new_deaths: int, new_deaths_smoothed: double, total_cases_per_million: double, new_cases_per_million: double, new_cases_smoothed_per_million: double, total_deaths_per_million: double, new_deaths_per_million: double, new_deaths_smoothed_per_million: double, reproduction_rate: double, icu_patients: int, icu_patients_per_million: double, hosp_patients: int, hosp_patients_per_million: double, weekly_icu_admissions: int, weekly_icu_admissions_per_million: double, weekly_hosp_admissions: int, weekly_hosp_admissions_per_million: double, total_tests: bigint, new_tests: int, total_tests_per_thousand: double, new_tests_per_thousand: double, new_tests_smoothed: double, new_tests_smoothed_per_thousand: double, positive_rate: double, tests_per_case: double, tests_units: string, total_vaccinations: bigint, people_vaccinated: bigint, people_fully_vaccinated: bigint, total_boosters: bigint, new_vaccinations: int, new_vaccinations_smoothed: double, total_vaccinations_per_hundred: double, people_vaccinated_per_hundred: double, people_fully_vaccinated_per_hundred: double, total_boosters_per_hundred: double, new_vaccinations_smoothed_per_million: double, new_people_vaccinated_smoothed: double, new_people_vaccinated_smoothed_per_hundred: double, stringency_index: double, population_density: double, median_age: double, aged_65_older: double, aged_70_older: double, gdp_per_capita: double, extreme_poverty: double, cardiovasc_death_rate: double, diabetes_prevalence: double, female_smokers: double, male_smokers: double, handwashing_facilities: double, hospital_beds_per_thousand: double, life_expectancy: double, human_development_index: double, population: bigint, excess_mortality_cumulative_absolute: double, excess_mortality_cumulative: double, excess_mortality: double, excess_mortality_cumulative_per_million: double]"
            ]
          },
          "metadata": {},
          "execution_count": 7
        }
      ]
    },
    {
      "cell_type": "code",
      "source": [
        "# Only once we call count, the expression is evaluated to give result\n",
        "df.filter(\"location='India'\").count()"
      ],
      "metadata": {
        "colab": {
          "base_uri": "https://localhost:8080/"
        },
        "id": "TnGAmIN6IeJ6",
        "outputId": "ad4ec81f-1ced-4b1c-b17d-804a3abcf567"
      },
      "execution_count": 8,
      "outputs": [
        {
          "output_type": "execute_result",
          "data": {
            "text/plain": [
              "1682"
            ]
          },
          "metadata": {},
          "execution_count": 8
        }
      ]
    },
    {
      "cell_type": "markdown",
      "source": [
        "# Broadcast variable"
      ],
      "metadata": {
        "id": "4ynoyRfcI3kx"
      }
    },
    {
      "cell_type": "code",
      "source": [
        "## Initialize a dict of encoding as broadcast variable\n",
        "broadcast_var = sc.broadcast({\"Asia\": 0, \"Europe\": 1, \"Africa\": 2, \"Oceania\": 3, \"North America\": 4, \"South America\": 5})"
      ],
      "metadata": {
        "id": "ciew0a3hJYmm"
      },
      "execution_count": 9,
      "outputs": []
    },
    {
      "cell_type": "code",
      "source": [
        "# select continent column and convert the dataframe into RDD\n",
        "data_rdd = df.select('continent').filter(\"continent is not null\").rdd"
      ],
      "metadata": {
        "id": "KqViuDzcJIyf"
      },
      "execution_count": 10,
      "outputs": []
    },
    {
      "cell_type": "code",
      "source": [
        "# Note there are 6 continents\n",
        "data_rdd.distinct().collect()"
      ],
      "metadata": {
        "colab": {
          "base_uri": "https://localhost:8080/"
        },
        "id": "ZD8cOffjJK7J",
        "outputId": "81f2811c-05db-4d73-ce45-35505eb44941"
      },
      "execution_count": 11,
      "outputs": [
        {
          "output_type": "execute_result",
          "data": {
            "text/plain": [
              "[Row(continent='Africa'),\n",
              " Row(continent='Asia'),\n",
              " Row(continent='Europe'),\n",
              " Row(continent='Oceania'),\n",
              " Row(continent='South America'),\n",
              " Row(continent='North America')]"
            ]
          },
          "metadata": {},
          "execution_count": 11
        }
      ]
    },
    {
      "cell_type": "code",
      "source": [
        "# Function for categorical encoding\n",
        "def encode_continent(x):\n",
        "  return broadcast_var.value[x[0]]"
      ],
      "metadata": {
        "id": "5YNrpkiDK_Yv"
      },
      "execution_count": 12,
      "outputs": []
    },
    {
      "cell_type": "code",
      "source": [
        "data_rdd.map(lambda x: encode_continent(x)).take(5)\n",
        "# see the encoded rdd"
      ],
      "metadata": {
        "colab": {
          "base_uri": "https://localhost:8080/"
        },
        "id": "dTGpd4Z7LJv7",
        "outputId": "2cf03b5c-bef2-475a-aa36-547a0c6e15e8"
      },
      "execution_count": 14,
      "outputs": [
        {
          "output_type": "execute_result",
          "data": {
            "text/plain": [
              "[0, 0, 0, 0, 0]"
            ]
          },
          "metadata": {},
          "execution_count": 14
        }
      ]
    },
    {
      "cell_type": "markdown",
      "source": [
        "# RDD Actions and Transformations"
      ],
      "metadata": {
        "id": "Rp2RjeWlLZHX"
      }
    },
    {
      "cell_type": "markdown",
      "source": [
        "### collect"
      ],
      "metadata": {
        "id": "K_yKV6foNWki"
      }
    },
    {
      "cell_type": "code",
      "source": [
        "# Get all the data on driver in a list\n",
        "data_rdd.collect()"
      ],
      "metadata": {
        "id": "NTPQm2S2LMq8",
        "colab": {
          "base_uri": "https://localhost:8080/"
        },
        "outputId": "febd0e57-0106-4aa3-d329-0b3b9435e687",
        "collapsed": true
      },
      "execution_count": 15,
      "outputs": [
        {
          "output_type": "execute_result",
          "data": {
            "text/plain": [
              "[Row(continent='Asia'),\n",
              " Row(continent='Asia'),\n",
              " Row(continent='Asia'),\n",
              " Row(continent='Asia'),\n",
              " Row(continent='Asia'),\n",
              " Row(continent='Asia'),\n",
              " Row(continent='Asia'),\n",
              " Row(continent='Asia'),\n",
              " Row(continent='Asia'),\n",
              " Row(continent='Asia'),\n",
              " Row(continent='Asia'),\n",
              " Row(continent='Asia'),\n",
              " Row(continent='Asia'),\n",
              " Row(continent='Asia'),\n",
              " Row(continent='Asia'),\n",
              " Row(continent='Asia'),\n",
              " Row(continent='Asia'),\n",
              " Row(continent='Asia'),\n",
              " Row(continent='Asia'),\n",
              " Row(continent='Asia'),\n",
              " Row(continent='Asia'),\n",
              " Row(continent='Asia'),\n",
              " Row(continent='Asia'),\n",
              " Row(continent='Asia'),\n",
              " Row(continent='Asia'),\n",
              " Row(continent='Asia'),\n",
              " Row(continent='Asia'),\n",
              " Row(continent='Asia'),\n",
              " Row(continent='Asia'),\n",
              " Row(continent='Asia'),\n",
              " Row(continent='Asia'),\n",
              " Row(continent='Asia'),\n",
              " Row(continent='Asia'),\n",
              " Row(continent='Asia'),\n",
              " Row(continent='Asia'),\n",
              " Row(continent='Asia'),\n",
              " Row(continent='Asia'),\n",
              " Row(continent='Asia'),\n",
              " Row(continent='Asia'),\n",
              " Row(continent='Asia'),\n",
              " Row(continent='Asia'),\n",
              " Row(continent='Asia'),\n",
              " Row(continent='Asia'),\n",
              " Row(continent='Asia'),\n",
              " Row(continent='Asia'),\n",
              " Row(continent='Asia'),\n",
              " Row(continent='Asia'),\n",
              " Row(continent='Asia'),\n",
              " Row(continent='Asia'),\n",
              " Row(continent='Asia'),\n",
              " Row(continent='Asia'),\n",
              " Row(continent='Asia'),\n",
              " Row(continent='Asia'),\n",
              " Row(continent='Asia'),\n",
              " Row(continent='Asia'),\n",
              " Row(continent='Asia'),\n",
              " Row(continent='Asia'),\n",
              " Row(continent='Asia'),\n",
              " Row(continent='Asia'),\n",
              " Row(continent='Asia'),\n",
              " Row(continent='Asia'),\n",
              " Row(continent='Asia'),\n",
              " Row(continent='Asia'),\n",
              " Row(continent='Asia'),\n",
              " Row(continent='Asia'),\n",
              " Row(continent='Asia'),\n",
              " Row(continent='Asia'),\n",
              " Row(continent='Asia'),\n",
              " Row(continent='Asia'),\n",
              " Row(continent='Asia'),\n",
              " Row(continent='Asia'),\n",
              " Row(continent='Asia'),\n",
              " Row(continent='Asia'),\n",
              " Row(continent='Asia'),\n",
              " Row(continent='Asia'),\n",
              " Row(continent='Asia'),\n",
              " Row(continent='Asia'),\n",
              " Row(continent='Asia'),\n",
              " Row(continent='Asia'),\n",
              " Row(continent='Asia'),\n",
              " Row(continent='Asia'),\n",
              " Row(continent='Asia'),\n",
              " Row(continent='Asia'),\n",
              " Row(continent='Asia'),\n",
              " Row(continent='Asia'),\n",
              " Row(continent='Asia'),\n",
              " Row(continent='Asia'),\n",
              " Row(continent='Asia'),\n",
              " Row(continent='Asia'),\n",
              " Row(continent='Asia'),\n",
              " Row(continent='Asia'),\n",
              " Row(continent='Asia'),\n",
              " Row(continent='Asia'),\n",
              " Row(continent='Asia'),\n",
              " Row(continent='Asia'),\n",
              " Row(continent='Asia'),\n",
              " Row(continent='Asia'),\n",
              " Row(continent='Asia'),\n",
              " Row(continent='Asia'),\n",
              " Row(continent='Asia'),\n",
              " Row(continent='Asia'),\n",
              " Row(continent='Asia'),\n",
              " Row(continent='Asia'),\n",
              " Row(continent='Asia'),\n",
              " Row(continent='Asia'),\n",
              " Row(continent='Asia'),\n",
              " Row(continent='Asia'),\n",
              " Row(continent='Asia'),\n",
              " Row(continent='Asia'),\n",
              " Row(continent='Asia'),\n",
              " Row(continent='Asia'),\n",
              " Row(continent='Asia'),\n",
              " Row(continent='Asia'),\n",
              " Row(continent='Asia'),\n",
              " Row(continent='Asia'),\n",
              " Row(continent='Asia'),\n",
              " Row(continent='Asia'),\n",
              " Row(continent='Asia'),\n",
              " Row(continent='Asia'),\n",
              " Row(continent='Asia'),\n",
              " Row(continent='Asia'),\n",
              " Row(continent='Asia'),\n",
              " Row(continent='Asia'),\n",
              " Row(continent='Asia'),\n",
              " Row(continent='Asia'),\n",
              " Row(continent='Asia'),\n",
              " Row(continent='Asia'),\n",
              " Row(continent='Asia'),\n",
              " Row(continent='Asia'),\n",
              " Row(continent='Asia'),\n",
              " Row(continent='Asia'),\n",
              " Row(continent='Asia'),\n",
              " Row(continent='Asia'),\n",
              " Row(continent='Asia'),\n",
              " Row(continent='Asia'),\n",
              " Row(continent='Asia'),\n",
              " Row(continent='Asia'),\n",
              " Row(continent='Asia'),\n",
              " Row(continent='Asia'),\n",
              " Row(continent='Asia'),\n",
              " Row(continent='Asia'),\n",
              " Row(continent='Asia'),\n",
              " Row(continent='Asia'),\n",
              " Row(continent='Asia'),\n",
              " Row(continent='Asia'),\n",
              " Row(continent='Asia'),\n",
              " Row(continent='Asia'),\n",
              " Row(continent='Asia'),\n",
              " Row(continent='Asia'),\n",
              " Row(continent='Asia'),\n",
              " Row(continent='Asia'),\n",
              " Row(continent='Asia'),\n",
              " Row(continent='Asia'),\n",
              " Row(continent='Asia'),\n",
              " Row(continent='Asia'),\n",
              " Row(continent='Asia'),\n",
              " Row(continent='Asia'),\n",
              " Row(continent='Asia'),\n",
              " Row(continent='Asia'),\n",
              " Row(continent='Asia'),\n",
              " Row(continent='Asia'),\n",
              " Row(continent='Asia'),\n",
              " Row(continent='Asia'),\n",
              " Row(continent='Asia'),\n",
              " Row(continent='Asia'),\n",
              " Row(continent='Asia'),\n",
              " Row(continent='Asia'),\n",
              " Row(continent='Asia'),\n",
              " Row(continent='Asia'),\n",
              " Row(continent='Asia'),\n",
              " Row(continent='Asia'),\n",
              " Row(continent='Asia'),\n",
              " Row(continent='Asia'),\n",
              " Row(continent='Asia'),\n",
              " Row(continent='Asia'),\n",
              " Row(continent='Asia'),\n",
              " Row(continent='Asia'),\n",
              " Row(continent='Asia'),\n",
              " Row(continent='Asia'),\n",
              " Row(continent='Asia'),\n",
              " Row(continent='Asia'),\n",
              " Row(continent='Asia'),\n",
              " Row(continent='Asia'),\n",
              " Row(continent='Asia'),\n",
              " Row(continent='Asia'),\n",
              " Row(continent='Asia'),\n",
              " Row(continent='Asia'),\n",
              " Row(continent='Asia'),\n",
              " Row(continent='Asia'),\n",
              " Row(continent='Asia'),\n",
              " Row(continent='Asia'),\n",
              " Row(continent='Asia'),\n",
              " Row(continent='Asia'),\n",
              " Row(continent='Asia'),\n",
              " Row(continent='Asia'),\n",
              " Row(continent='Asia'),\n",
              " Row(continent='Asia'),\n",
              " Row(continent='Asia'),\n",
              " Row(continent='Asia'),\n",
              " Row(continent='Asia'),\n",
              " Row(continent='Asia'),\n",
              " Row(continent='Asia'),\n",
              " Row(continent='Asia'),\n",
              " Row(continent='Asia'),\n",
              " Row(continent='Asia'),\n",
              " Row(continent='Asia'),\n",
              " Row(continent='Asia'),\n",
              " Row(continent='Asia'),\n",
              " Row(continent='Asia'),\n",
              " Row(continent='Asia'),\n",
              " Row(continent='Asia'),\n",
              " Row(continent='Asia'),\n",
              " Row(continent='Asia'),\n",
              " Row(continent='Asia'),\n",
              " Row(continent='Asia'),\n",
              " Row(continent='Asia'),\n",
              " Row(continent='Asia'),\n",
              " Row(continent='Asia'),\n",
              " Row(continent='Asia'),\n",
              " Row(continent='Asia'),\n",
              " Row(continent='Asia'),\n",
              " Row(continent='Asia'),\n",
              " Row(continent='Asia'),\n",
              " Row(continent='Asia'),\n",
              " Row(continent='Asia'),\n",
              " Row(continent='Asia'),\n",
              " Row(continent='Asia'),\n",
              " Row(continent='Asia'),\n",
              " Row(continent='Asia'),\n",
              " Row(continent='Asia'),\n",
              " Row(continent='Asia'),\n",
              " Row(continent='Asia'),\n",
              " Row(continent='Asia'),\n",
              " Row(continent='Asia'),\n",
              " Row(continent='Asia'),\n",
              " Row(continent='Asia'),\n",
              " Row(continent='Asia'),\n",
              " Row(continent='Asia'),\n",
              " Row(continent='Asia'),\n",
              " Row(continent='Asia'),\n",
              " Row(continent='Asia'),\n",
              " Row(continent='Asia'),\n",
              " Row(continent='Asia'),\n",
              " Row(continent='Asia'),\n",
              " Row(continent='Asia'),\n",
              " Row(continent='Asia'),\n",
              " Row(continent='Asia'),\n",
              " Row(continent='Asia'),\n",
              " Row(continent='Asia'),\n",
              " Row(continent='Asia'),\n",
              " Row(continent='Asia'),\n",
              " Row(continent='Asia'),\n",
              " Row(continent='Asia'),\n",
              " Row(continent='Asia'),\n",
              " Row(continent='Asia'),\n",
              " Row(continent='Asia'),\n",
              " Row(continent='Asia'),\n",
              " Row(continent='Asia'),\n",
              " Row(continent='Asia'),\n",
              " Row(continent='Asia'),\n",
              " Row(continent='Asia'),\n",
              " Row(continent='Asia'),\n",
              " Row(continent='Asia'),\n",
              " Row(continent='Asia'),\n",
              " Row(continent='Asia'),\n",
              " Row(continent='Asia'),\n",
              " Row(continent='Asia'),\n",
              " Row(continent='Asia'),\n",
              " Row(continent='Asia'),\n",
              " Row(continent='Asia'),\n",
              " Row(continent='Asia'),\n",
              " Row(continent='Asia'),\n",
              " Row(continent='Asia'),\n",
              " Row(continent='Asia'),\n",
              " Row(continent='Asia'),\n",
              " Row(continent='Asia'),\n",
              " Row(continent='Asia'),\n",
              " Row(continent='Asia'),\n",
              " Row(continent='Asia'),\n",
              " Row(continent='Asia'),\n",
              " Row(continent='Asia'),\n",
              " Row(continent='Asia'),\n",
              " Row(continent='Asia'),\n",
              " Row(continent='Asia'),\n",
              " Row(continent='Asia'),\n",
              " Row(continent='Asia'),\n",
              " Row(continent='Asia'),\n",
              " Row(continent='Asia'),\n",
              " Row(continent='Asia'),\n",
              " Row(continent='Asia'),\n",
              " Row(continent='Asia'),\n",
              " Row(continent='Asia'),\n",
              " Row(continent='Asia'),\n",
              " Row(continent='Asia'),\n",
              " Row(continent='Asia'),\n",
              " Row(continent='Asia'),\n",
              " Row(continent='Asia'),\n",
              " Row(continent='Asia'),\n",
              " Row(continent='Asia'),\n",
              " Row(continent='Asia'),\n",
              " Row(continent='Asia'),\n",
              " Row(continent='Asia'),\n",
              " Row(continent='Asia'),\n",
              " Row(continent='Asia'),\n",
              " Row(continent='Asia'),\n",
              " Row(continent='Asia'),\n",
              " Row(continent='Asia'),\n",
              " Row(continent='Asia'),\n",
              " Row(continent='Asia'),\n",
              " Row(continent='Asia'),\n",
              " Row(continent='Asia'),\n",
              " Row(continent='Asia'),\n",
              " Row(continent='Asia'),\n",
              " Row(continent='Asia'),\n",
              " Row(continent='Asia'),\n",
              " Row(continent='Asia'),\n",
              " Row(continent='Asia'),\n",
              " Row(continent='Asia'),\n",
              " Row(continent='Asia'),\n",
              " Row(continent='Asia'),\n",
              " Row(continent='Asia'),\n",
              " Row(continent='Asia'),\n",
              " Row(continent='Asia'),\n",
              " Row(continent='Asia'),\n",
              " Row(continent='Asia'),\n",
              " Row(continent='Asia'),\n",
              " Row(continent='Asia'),\n",
              " Row(continent='Asia'),\n",
              " Row(continent='Asia'),\n",
              " Row(continent='Asia'),\n",
              " Row(continent='Asia'),\n",
              " Row(continent='Asia'),\n",
              " Row(continent='Asia'),\n",
              " Row(continent='Asia'),\n",
              " Row(continent='Asia'),\n",
              " Row(continent='Asia'),\n",
              " Row(continent='Asia'),\n",
              " Row(continent='Asia'),\n",
              " Row(continent='Asia'),\n",
              " Row(continent='Asia'),\n",
              " Row(continent='Asia'),\n",
              " Row(continent='Asia'),\n",
              " Row(continent='Asia'),\n",
              " Row(continent='Asia'),\n",
              " Row(continent='Asia'),\n",
              " Row(continent='Asia'),\n",
              " Row(continent='Asia'),\n",
              " Row(continent='Asia'),\n",
              " Row(continent='Asia'),\n",
              " Row(continent='Asia'),\n",
              " Row(continent='Asia'),\n",
              " Row(continent='Asia'),\n",
              " Row(continent='Asia'),\n",
              " Row(continent='Asia'),\n",
              " Row(continent='Asia'),\n",
              " Row(continent='Asia'),\n",
              " Row(continent='Asia'),\n",
              " Row(continent='Asia'),\n",
              " Row(continent='Asia'),\n",
              " Row(continent='Asia'),\n",
              " Row(continent='Asia'),\n",
              " Row(continent='Asia'),\n",
              " Row(continent='Asia'),\n",
              " Row(continent='Asia'),\n",
              " Row(continent='Asia'),\n",
              " Row(continent='Asia'),\n",
              " Row(continent='Asia'),\n",
              " Row(continent='Asia'),\n",
              " Row(continent='Asia'),\n",
              " Row(continent='Asia'),\n",
              " Row(continent='Asia'),\n",
              " Row(continent='Asia'),\n",
              " Row(continent='Asia'),\n",
              " Row(continent='Asia'),\n",
              " Row(continent='Asia'),\n",
              " Row(continent='Asia'),\n",
              " Row(continent='Asia'),\n",
              " Row(continent='Asia'),\n",
              " Row(continent='Asia'),\n",
              " Row(continent='Asia'),\n",
              " Row(continent='Asia'),\n",
              " Row(continent='Asia'),\n",
              " Row(continent='Asia'),\n",
              " Row(continent='Asia'),\n",
              " Row(continent='Asia'),\n",
              " Row(continent='Asia'),\n",
              " Row(continent='Asia'),\n",
              " Row(continent='Asia'),\n",
              " Row(continent='Asia'),\n",
              " Row(continent='Asia'),\n",
              " Row(continent='Asia'),\n",
              " Row(continent='Asia'),\n",
              " Row(continent='Asia'),\n",
              " Row(continent='Asia'),\n",
              " Row(continent='Asia'),\n",
              " Row(continent='Asia'),\n",
              " Row(continent='Asia'),\n",
              " Row(continent='Asia'),\n",
              " Row(continent='Asia'),\n",
              " Row(continent='Asia'),\n",
              " Row(continent='Asia'),\n",
              " Row(continent='Asia'),\n",
              " Row(continent='Asia'),\n",
              " Row(continent='Asia'),\n",
              " Row(continent='Asia'),\n",
              " Row(continent='Asia'),\n",
              " Row(continent='Asia'),\n",
              " Row(continent='Asia'),\n",
              " Row(continent='Asia'),\n",
              " Row(continent='Asia'),\n",
              " Row(continent='Asia'),\n",
              " Row(continent='Asia'),\n",
              " Row(continent='Asia'),\n",
              " Row(continent='Asia'),\n",
              " Row(continent='Asia'),\n",
              " Row(continent='Asia'),\n",
              " Row(continent='Asia'),\n",
              " Row(continent='Asia'),\n",
              " Row(continent='Asia'),\n",
              " Row(continent='Asia'),\n",
              " Row(continent='Asia'),\n",
              " Row(continent='Asia'),\n",
              " Row(continent='Asia'),\n",
              " Row(continent='Asia'),\n",
              " Row(continent='Asia'),\n",
              " Row(continent='Asia'),\n",
              " Row(continent='Asia'),\n",
              " Row(continent='Asia'),\n",
              " Row(continent='Asia'),\n",
              " Row(continent='Asia'),\n",
              " Row(continent='Asia'),\n",
              " Row(continent='Asia'),\n",
              " Row(continent='Asia'),\n",
              " Row(continent='Asia'),\n",
              " Row(continent='Asia'),\n",
              " Row(continent='Asia'),\n",
              " Row(continent='Asia'),\n",
              " Row(continent='Asia'),\n",
              " Row(continent='Asia'),\n",
              " Row(continent='Asia'),\n",
              " Row(continent='Asia'),\n",
              " Row(continent='Asia'),\n",
              " Row(continent='Asia'),\n",
              " Row(continent='Asia'),\n",
              " Row(continent='Asia'),\n",
              " Row(continent='Asia'),\n",
              " Row(continent='Asia'),\n",
              " Row(continent='Asia'),\n",
              " Row(continent='Asia'),\n",
              " Row(continent='Asia'),\n",
              " Row(continent='Asia'),\n",
              " Row(continent='Asia'),\n",
              " Row(continent='Asia'),\n",
              " Row(continent='Asia'),\n",
              " Row(continent='Asia'),\n",
              " Row(continent='Asia'),\n",
              " Row(continent='Asia'),\n",
              " Row(continent='Asia'),\n",
              " Row(continent='Asia'),\n",
              " Row(continent='Asia'),\n",
              " Row(continent='Asia'),\n",
              " Row(continent='Asia'),\n",
              " Row(continent='Asia'),\n",
              " Row(continent='Asia'),\n",
              " Row(continent='Asia'),\n",
              " Row(continent='Asia'),\n",
              " Row(continent='Asia'),\n",
              " Row(continent='Asia'),\n",
              " Row(continent='Asia'),\n",
              " Row(continent='Asia'),\n",
              " Row(continent='Asia'),\n",
              " Row(continent='Asia'),\n",
              " Row(continent='Asia'),\n",
              " Row(continent='Asia'),\n",
              " Row(continent='Asia'),\n",
              " Row(continent='Asia'),\n",
              " Row(continent='Asia'),\n",
              " Row(continent='Asia'),\n",
              " Row(continent='Asia'),\n",
              " Row(continent='Asia'),\n",
              " Row(continent='Asia'),\n",
              " Row(continent='Asia'),\n",
              " Row(continent='Asia'),\n",
              " Row(continent='Asia'),\n",
              " Row(continent='Asia'),\n",
              " Row(continent='Asia'),\n",
              " Row(continent='Asia'),\n",
              " Row(continent='Asia'),\n",
              " Row(continent='Asia'),\n",
              " Row(continent='Asia'),\n",
              " Row(continent='Asia'),\n",
              " Row(continent='Asia'),\n",
              " Row(continent='Asia'),\n",
              " Row(continent='Asia'),\n",
              " Row(continent='Asia'),\n",
              " Row(continent='Asia'),\n",
              " Row(continent='Asia'),\n",
              " Row(continent='Asia'),\n",
              " Row(continent='Asia'),\n",
              " Row(continent='Asia'),\n",
              " Row(continent='Asia'),\n",
              " Row(continent='Asia'),\n",
              " Row(continent='Asia'),\n",
              " Row(continent='Asia'),\n",
              " Row(continent='Asia'),\n",
              " Row(continent='Asia'),\n",
              " Row(continent='Asia'),\n",
              " Row(continent='Asia'),\n",
              " Row(continent='Asia'),\n",
              " Row(continent='Asia'),\n",
              " Row(continent='Asia'),\n",
              " Row(continent='Asia'),\n",
              " Row(continent='Asia'),\n",
              " Row(continent='Asia'),\n",
              " Row(continent='Asia'),\n",
              " Row(continent='Asia'),\n",
              " Row(continent='Asia'),\n",
              " Row(continent='Asia'),\n",
              " Row(continent='Asia'),\n",
              " Row(continent='Asia'),\n",
              " Row(continent='Asia'),\n",
              " Row(continent='Asia'),\n",
              " Row(continent='Asia'),\n",
              " Row(continent='Asia'),\n",
              " Row(continent='Asia'),\n",
              " Row(continent='Asia'),\n",
              " Row(continent='Asia'),\n",
              " Row(continent='Asia'),\n",
              " Row(continent='Asia'),\n",
              " Row(continent='Asia'),\n",
              " Row(continent='Asia'),\n",
              " Row(continent='Asia'),\n",
              " Row(continent='Asia'),\n",
              " Row(continent='Asia'),\n",
              " Row(continent='Asia'),\n",
              " Row(continent='Asia'),\n",
              " Row(continent='Asia'),\n",
              " Row(continent='Asia'),\n",
              " Row(continent='Asia'),\n",
              " Row(continent='Asia'),\n",
              " Row(continent='Asia'),\n",
              " Row(continent='Asia'),\n",
              " Row(continent='Asia'),\n",
              " Row(continent='Asia'),\n",
              " Row(continent='Asia'),\n",
              " Row(continent='Asia'),\n",
              " Row(continent='Asia'),\n",
              " Row(continent='Asia'),\n",
              " Row(continent='Asia'),\n",
              " Row(continent='Asia'),\n",
              " Row(continent='Asia'),\n",
              " Row(continent='Asia'),\n",
              " Row(continent='Asia'),\n",
              " Row(continent='Asia'),\n",
              " Row(continent='Asia'),\n",
              " Row(continent='Asia'),\n",
              " Row(continent='Asia'),\n",
              " Row(continent='Asia'),\n",
              " Row(continent='Asia'),\n",
              " Row(continent='Asia'),\n",
              " Row(continent='Asia'),\n",
              " Row(continent='Asia'),\n",
              " Row(continent='Asia'),\n",
              " Row(continent='Asia'),\n",
              " Row(continent='Asia'),\n",
              " Row(continent='Asia'),\n",
              " Row(continent='Asia'),\n",
              " Row(continent='Asia'),\n",
              " Row(continent='Asia'),\n",
              " Row(continent='Asia'),\n",
              " Row(continent='Asia'),\n",
              " Row(continent='Asia'),\n",
              " Row(continent='Asia'),\n",
              " Row(continent='Asia'),\n",
              " Row(continent='Asia'),\n",
              " Row(continent='Asia'),\n",
              " Row(continent='Asia'),\n",
              " Row(continent='Asia'),\n",
              " Row(continent='Asia'),\n",
              " Row(continent='Asia'),\n",
              " Row(continent='Asia'),\n",
              " Row(continent='Asia'),\n",
              " Row(continent='Asia'),\n",
              " Row(continent='Asia'),\n",
              " Row(continent='Asia'),\n",
              " Row(continent='Asia'),\n",
              " Row(continent='Asia'),\n",
              " Row(continent='Asia'),\n",
              " Row(continent='Asia'),\n",
              " Row(continent='Asia'),\n",
              " Row(continent='Asia'),\n",
              " Row(continent='Asia'),\n",
              " Row(continent='Asia'),\n",
              " Row(continent='Asia'),\n",
              " Row(continent='Asia'),\n",
              " Row(continent='Asia'),\n",
              " Row(continent='Asia'),\n",
              " Row(continent='Asia'),\n",
              " Row(continent='Asia'),\n",
              " Row(continent='Asia'),\n",
              " Row(continent='Asia'),\n",
              " Row(continent='Asia'),\n",
              " Row(continent='Asia'),\n",
              " Row(continent='Asia'),\n",
              " Row(continent='Asia'),\n",
              " Row(continent='Asia'),\n",
              " Row(continent='Asia'),\n",
              " Row(continent='Asia'),\n",
              " Row(continent='Asia'),\n",
              " Row(continent='Asia'),\n",
              " Row(continent='Asia'),\n",
              " Row(continent='Asia'),\n",
              " Row(continent='Asia'),\n",
              " Row(continent='Asia'),\n",
              " Row(continent='Asia'),\n",
              " Row(continent='Asia'),\n",
              " Row(continent='Asia'),\n",
              " Row(continent='Asia'),\n",
              " Row(continent='Asia'),\n",
              " Row(continent='Asia'),\n",
              " Row(continent='Asia'),\n",
              " Row(continent='Asia'),\n",
              " Row(continent='Asia'),\n",
              " Row(continent='Asia'),\n",
              " Row(continent='Asia'),\n",
              " Row(continent='Asia'),\n",
              " Row(continent='Asia'),\n",
              " Row(continent='Asia'),\n",
              " Row(continent='Asia'),\n",
              " Row(continent='Asia'),\n",
              " Row(continent='Asia'),\n",
              " Row(continent='Asia'),\n",
              " Row(continent='Asia'),\n",
              " Row(continent='Asia'),\n",
              " Row(continent='Asia'),\n",
              " Row(continent='Asia'),\n",
              " Row(continent='Asia'),\n",
              " Row(continent='Asia'),\n",
              " Row(continent='Asia'),\n",
              " Row(continent='Asia'),\n",
              " Row(continent='Asia'),\n",
              " Row(continent='Asia'),\n",
              " Row(continent='Asia'),\n",
              " Row(continent='Asia'),\n",
              " Row(continent='Asia'),\n",
              " Row(continent='Asia'),\n",
              " Row(continent='Asia'),\n",
              " Row(continent='Asia'),\n",
              " Row(continent='Asia'),\n",
              " Row(continent='Asia'),\n",
              " Row(continent='Asia'),\n",
              " Row(continent='Asia'),\n",
              " Row(continent='Asia'),\n",
              " Row(continent='Asia'),\n",
              " Row(continent='Asia'),\n",
              " Row(continent='Asia'),\n",
              " Row(continent='Asia'),\n",
              " Row(continent='Asia'),\n",
              " Row(continent='Asia'),\n",
              " Row(continent='Asia'),\n",
              " Row(continent='Asia'),\n",
              " Row(continent='Asia'),\n",
              " Row(continent='Asia'),\n",
              " Row(continent='Asia'),\n",
              " Row(continent='Asia'),\n",
              " Row(continent='Asia'),\n",
              " Row(continent='Asia'),\n",
              " Row(continent='Asia'),\n",
              " Row(continent='Asia'),\n",
              " Row(continent='Asia'),\n",
              " Row(continent='Asia'),\n",
              " Row(continent='Asia'),\n",
              " Row(continent='Asia'),\n",
              " Row(continent='Asia'),\n",
              " Row(continent='Asia'),\n",
              " Row(continent='Asia'),\n",
              " Row(continent='Asia'),\n",
              " Row(continent='Asia'),\n",
              " Row(continent='Asia'),\n",
              " Row(continent='Asia'),\n",
              " Row(continent='Asia'),\n",
              " Row(continent='Asia'),\n",
              " Row(continent='Asia'),\n",
              " Row(continent='Asia'),\n",
              " Row(continent='Asia'),\n",
              " Row(continent='Asia'),\n",
              " Row(continent='Asia'),\n",
              " Row(continent='Asia'),\n",
              " Row(continent='Asia'),\n",
              " Row(continent='Asia'),\n",
              " Row(continent='Asia'),\n",
              " Row(continent='Asia'),\n",
              " Row(continent='Asia'),\n",
              " Row(continent='Asia'),\n",
              " Row(continent='Asia'),\n",
              " Row(continent='Asia'),\n",
              " Row(continent='Asia'),\n",
              " Row(continent='Asia'),\n",
              " Row(continent='Asia'),\n",
              " Row(continent='Asia'),\n",
              " Row(continent='Asia'),\n",
              " Row(continent='Asia'),\n",
              " Row(continent='Asia'),\n",
              " Row(continent='Asia'),\n",
              " Row(continent='Asia'),\n",
              " Row(continent='Asia'),\n",
              " Row(continent='Asia'),\n",
              " Row(continent='Asia'),\n",
              " Row(continent='Asia'),\n",
              " Row(continent='Asia'),\n",
              " Row(continent='Asia'),\n",
              " Row(continent='Asia'),\n",
              " Row(continent='Asia'),\n",
              " Row(continent='Asia'),\n",
              " Row(continent='Asia'),\n",
              " Row(continent='Asia'),\n",
              " Row(continent='Asia'),\n",
              " Row(continent='Asia'),\n",
              " Row(continent='Asia'),\n",
              " Row(continent='Asia'),\n",
              " Row(continent='Asia'),\n",
              " Row(continent='Asia'),\n",
              " Row(continent='Asia'),\n",
              " Row(continent='Asia'),\n",
              " Row(continent='Asia'),\n",
              " Row(continent='Asia'),\n",
              " Row(continent='Asia'),\n",
              " Row(continent='Asia'),\n",
              " Row(continent='Asia'),\n",
              " Row(continent='Asia'),\n",
              " Row(continent='Asia'),\n",
              " Row(continent='Asia'),\n",
              " Row(continent='Asia'),\n",
              " Row(continent='Asia'),\n",
              " Row(continent='Asia'),\n",
              " Row(continent='Asia'),\n",
              " Row(continent='Asia'),\n",
              " Row(continent='Asia'),\n",
              " Row(continent='Asia'),\n",
              " Row(continent='Asia'),\n",
              " Row(continent='Asia'),\n",
              " Row(continent='Asia'),\n",
              " Row(continent='Asia'),\n",
              " Row(continent='Asia'),\n",
              " Row(continent='Asia'),\n",
              " Row(continent='Asia'),\n",
              " Row(continent='Asia'),\n",
              " Row(continent='Asia'),\n",
              " Row(continent='Asia'),\n",
              " Row(continent='Asia'),\n",
              " Row(continent='Asia'),\n",
              " Row(continent='Asia'),\n",
              " Row(continent='Asia'),\n",
              " Row(continent='Asia'),\n",
              " Row(continent='Asia'),\n",
              " Row(continent='Asia'),\n",
              " Row(continent='Asia'),\n",
              " Row(continent='Asia'),\n",
              " Row(continent='Asia'),\n",
              " Row(continent='Asia'),\n",
              " Row(continent='Asia'),\n",
              " Row(continent='Asia'),\n",
              " Row(continent='Asia'),\n",
              " Row(continent='Asia'),\n",
              " Row(continent='Asia'),\n",
              " Row(continent='Asia'),\n",
              " Row(continent='Asia'),\n",
              " Row(continent='Asia'),\n",
              " Row(continent='Asia'),\n",
              " Row(continent='Asia'),\n",
              " Row(continent='Asia'),\n",
              " Row(continent='Asia'),\n",
              " Row(continent='Asia'),\n",
              " Row(continent='Asia'),\n",
              " Row(continent='Asia'),\n",
              " Row(continent='Asia'),\n",
              " Row(continent='Asia'),\n",
              " Row(continent='Asia'),\n",
              " Row(continent='Asia'),\n",
              " Row(continent='Asia'),\n",
              " Row(continent='Asia'),\n",
              " Row(continent='Asia'),\n",
              " Row(continent='Asia'),\n",
              " Row(continent='Asia'),\n",
              " Row(continent='Asia'),\n",
              " Row(continent='Asia'),\n",
              " Row(continent='Asia'),\n",
              " Row(continent='Asia'),\n",
              " Row(continent='Asia'),\n",
              " Row(continent='Asia'),\n",
              " Row(continent='Asia'),\n",
              " Row(continent='Asia'),\n",
              " Row(continent='Asia'),\n",
              " Row(continent='Asia'),\n",
              " Row(continent='Asia'),\n",
              " Row(continent='Asia'),\n",
              " Row(continent='Asia'),\n",
              " Row(continent='Asia'),\n",
              " Row(continent='Asia'),\n",
              " Row(continent='Asia'),\n",
              " Row(continent='Asia'),\n",
              " Row(continent='Asia'),\n",
              " Row(continent='Asia'),\n",
              " Row(continent='Asia'),\n",
              " Row(continent='Asia'),\n",
              " Row(continent='Asia'),\n",
              " Row(continent='Asia'),\n",
              " Row(continent='Asia'),\n",
              " Row(continent='Asia'),\n",
              " Row(continent='Asia'),\n",
              " Row(continent='Asia'),\n",
              " Row(continent='Asia'),\n",
              " Row(continent='Asia'),\n",
              " Row(continent='Asia'),\n",
              " Row(continent='Asia'),\n",
              " Row(continent='Asia'),\n",
              " Row(continent='Asia'),\n",
              " Row(continent='Asia'),\n",
              " Row(continent='Asia'),\n",
              " Row(continent='Asia'),\n",
              " Row(continent='Asia'),\n",
              " Row(continent='Asia'),\n",
              " Row(continent='Asia'),\n",
              " Row(continent='Asia'),\n",
              " Row(continent='Asia'),\n",
              " Row(continent='Asia'),\n",
              " Row(continent='Asia'),\n",
              " Row(continent='Asia'),\n",
              " Row(continent='Asia'),\n",
              " Row(continent='Asia'),\n",
              " Row(continent='Asia'),\n",
              " Row(continent='Asia'),\n",
              " Row(continent='Asia'),\n",
              " Row(continent='Asia'),\n",
              " Row(continent='Asia'),\n",
              " Row(continent='Asia'),\n",
              " Row(continent='Asia'),\n",
              " Row(continent='Asia'),\n",
              " Row(continent='Asia'),\n",
              " Row(continent='Asia'),\n",
              " Row(continent='Asia'),\n",
              " Row(continent='Asia'),\n",
              " Row(continent='Asia'),\n",
              " Row(continent='Asia'),\n",
              " Row(continent='Asia'),\n",
              " Row(continent='Asia'),\n",
              " Row(continent='Asia'),\n",
              " Row(continent='Asia'),\n",
              " Row(continent='Asia'),\n",
              " Row(continent='Asia'),\n",
              " Row(continent='Asia'),\n",
              " Row(continent='Asia'),\n",
              " Row(continent='Asia'),\n",
              " Row(continent='Asia'),\n",
              " Row(continent='Asia'),\n",
              " Row(continent='Asia'),\n",
              " Row(continent='Asia'),\n",
              " Row(continent='Asia'),\n",
              " Row(continent='Asia'),\n",
              " Row(continent='Asia'),\n",
              " Row(continent='Asia'),\n",
              " Row(continent='Asia'),\n",
              " Row(continent='Asia'),\n",
              " Row(continent='Asia'),\n",
              " Row(continent='Asia'),\n",
              " Row(continent='Asia'),\n",
              " Row(continent='Asia'),\n",
              " Row(continent='Asia'),\n",
              " Row(continent='Asia'),\n",
              " Row(continent='Asia'),\n",
              " Row(continent='Asia'),\n",
              " Row(continent='Asia'),\n",
              " Row(continent='Asia'),\n",
              " Row(continent='Asia'),\n",
              " Row(continent='Asia'),\n",
              " Row(continent='Asia'),\n",
              " Row(continent='Asia'),\n",
              " Row(continent='Asia'),\n",
              " Row(continent='Asia'),\n",
              " Row(continent='Asia'),\n",
              " Row(continent='Asia'),\n",
              " Row(continent='Asia'),\n",
              " Row(continent='Asia'),\n",
              " Row(continent='Asia'),\n",
              " Row(continent='Asia'),\n",
              " Row(continent='Asia'),\n",
              " Row(continent='Asia'),\n",
              " Row(continent='Asia'),\n",
              " Row(continent='Asia'),\n",
              " Row(continent='Asia'),\n",
              " Row(continent='Asia'),\n",
              " Row(continent='Asia'),\n",
              " Row(continent='Asia'),\n",
              " Row(continent='Asia'),\n",
              " Row(continent='Asia'),\n",
              " Row(continent='Asia'),\n",
              " Row(continent='Asia'),\n",
              " Row(continent='Asia'),\n",
              " Row(continent='Asia'),\n",
              " Row(continent='Asia'),\n",
              " Row(continent='Asia'),\n",
              " Row(continent='Asia'),\n",
              " Row(continent='Asia'),\n",
              " Row(continent='Asia'),\n",
              " Row(continent='Asia'),\n",
              " Row(continent='Asia'),\n",
              " Row(continent='Asia'),\n",
              " Row(continent='Asia'),\n",
              " Row(continent='Asia'),\n",
              " Row(continent='Asia'),\n",
              " Row(continent='Asia'),\n",
              " Row(continent='Asia'),\n",
              " Row(continent='Asia'),\n",
              " Row(continent='Asia'),\n",
              " Row(continent='Asia'),\n",
              " Row(continent='Asia'),\n",
              " Row(continent='Asia'),\n",
              " Row(continent='Asia'),\n",
              " Row(continent='Asia'),\n",
              " Row(continent='Asia'),\n",
              " Row(continent='Asia'),\n",
              " Row(continent='Asia'),\n",
              " Row(continent='Asia'),\n",
              " Row(continent='Asia'),\n",
              " Row(continent='Asia'),\n",
              " Row(continent='Asia'),\n",
              " Row(continent='Asia'),\n",
              " Row(continent='Asia'),\n",
              " Row(continent='Asia'),\n",
              " Row(continent='Asia'),\n",
              " Row(continent='Asia'),\n",
              " Row(continent='Asia'),\n",
              " Row(continent='Asia'),\n",
              " Row(continent='Asia'),\n",
              " Row(continent='Asia'),\n",
              " Row(continent='Asia'),\n",
              " Row(continent='Asia'),\n",
              " Row(continent='Asia'),\n",
              " Row(continent='Asia'),\n",
              " Row(continent='Asia'),\n",
              " Row(continent='Asia'),\n",
              " Row(continent='Asia'),\n",
              " Row(continent='Asia'),\n",
              " Row(continent='Asia'),\n",
              " Row(continent='Asia'),\n",
              " Row(continent='Asia'),\n",
              " Row(continent='Asia'),\n",
              " Row(continent='Asia'),\n",
              " Row(continent='Asia'),\n",
              " Row(continent='Asia'),\n",
              " Row(continent='Asia'),\n",
              " Row(continent='Asia'),\n",
              " Row(continent='Asia'),\n",
              " Row(continent='Asia'),\n",
              " Row(continent='Asia'),\n",
              " Row(continent='Asia'),\n",
              " Row(continent='Asia'),\n",
              " Row(continent='Asia'),\n",
              " Row(continent='Asia'),\n",
              " Row(continent='Asia'),\n",
              " Row(continent='Asia'),\n",
              " Row(continent='Asia'),\n",
              " Row(continent='Asia'),\n",
              " Row(continent='Asia'),\n",
              " Row(continent='Asia'),\n",
              " Row(continent='Asia'),\n",
              " Row(continent='Asia'),\n",
              " Row(continent='Asia'),\n",
              " Row(continent='Asia'),\n",
              " Row(continent='Asia'),\n",
              " Row(continent='Asia'),\n",
              " Row(continent='Asia'),\n",
              " Row(continent='Asia'),\n",
              " Row(continent='Asia'),\n",
              " Row(continent='Asia'),\n",
              " Row(continent='Asia'),\n",
              " Row(continent='Asia'),\n",
              " Row(continent='Asia'),\n",
              " Row(continent='Asia'),\n",
              " Row(continent='Asia'),\n",
              " Row(continent='Asia'),\n",
              " Row(continent='Asia'),\n",
              " Row(continent='Asia'),\n",
              " Row(continent='Asia'),\n",
              " Row(continent='Asia'),\n",
              " Row(continent='Asia'),\n",
              " Row(continent='Asia'),\n",
              " Row(continent='Asia'),\n",
              " Row(continent='Asia'),\n",
              " Row(continent='Asia'),\n",
              " Row(continent='Asia'),\n",
              " Row(continent='Asia'),\n",
              " Row(continent='Asia'),\n",
              " Row(continent='Asia'),\n",
              " Row(continent='Asia'),\n",
              " Row(continent='Asia'),\n",
              " Row(continent='Asia'),\n",
              " Row(continent='Asia'),\n",
              " Row(continent='Asia'),\n",
              " Row(continent='Asia'),\n",
              " ...]"
            ]
          },
          "metadata": {},
          "execution_count": 15
        }
      ]
    },
    {
      "cell_type": "markdown",
      "source": [
        "### take"
      ],
      "metadata": {
        "id": "aRVIha-LNZTf"
      }
    },
    {
      "cell_type": "code",
      "source": [
        "# Fetch first 5 rows\n",
        "data_rdd.take(5)"
      ],
      "metadata": {
        "colab": {
          "base_uri": "https://localhost:8080/"
        },
        "id": "ODZsTu1WLdxg",
        "outputId": "5b7537fa-4ef9-445c-e7f3-5076a5f57b2e"
      },
      "execution_count": 16,
      "outputs": [
        {
          "output_type": "execute_result",
          "data": {
            "text/plain": [
              "[Row(continent='Asia'),\n",
              " Row(continent='Asia'),\n",
              " Row(continent='Asia'),\n",
              " Row(continent='Asia'),\n",
              " Row(continent='Asia')]"
            ]
          },
          "metadata": {},
          "execution_count": 16
        }
      ]
    },
    {
      "cell_type": "markdown",
      "source": [
        "### count"
      ],
      "metadata": {
        "id": "aDyfMbymNbJd"
      }
    },
    {
      "cell_type": "code",
      "source": [
        "# Count number of rows\n",
        "data_rdd.count()"
      ],
      "metadata": {
        "colab": {
          "base_uri": "https://localhost:8080/"
        },
        "id": "NTod2KH7LlTG",
        "outputId": "0eb10c86-f6bd-4a02-b5c4-89593891d23c"
      },
      "execution_count": 17,
      "outputs": [
        {
          "output_type": "execute_result",
          "data": {
            "text/plain": [
              "402910"
            ]
          },
          "metadata": {},
          "execution_count": 17
        }
      ]
    },
    {
      "cell_type": "code",
      "source": [
        "# function passing\n",
        "data_rdd.map(lambda x: encode_continent(x)).reduce(lambda x, y: x + y)"
      ],
      "metadata": {
        "colab": {
          "base_uri": "https://localhost:8080/"
        },
        "id": "DX9O_fa5LnHy",
        "outputId": "22fd7046-6b8d-4831-b1c6-74835f55f3bd"
      },
      "execution_count": 18,
      "outputs": [
        {
          "output_type": "execute_result",
          "data": {
            "text/plain": [
              "794170"
            ]
          },
          "metadata": {},
          "execution_count": 18
        }
      ]
    },
    {
      "cell_type": "markdown",
      "source": [
        "### caching"
      ],
      "metadata": {
        "id": "tb6vLSndNdPj"
      }
    },
    {
      "cell_type": "code",
      "source": [
        "# Cache the rdd for faster computation\n",
        "data_rdd.cache()"
      ],
      "metadata": {
        "colab": {
          "base_uri": "https://localhost:8080/"
        },
        "id": "ln1E502sLtw-",
        "outputId": "c56ce0c3-34bd-4eca-c58b-1e35c806197b"
      },
      "execution_count": 19,
      "outputs": [
        {
          "output_type": "execute_result",
          "data": {
            "text/plain": [
              "MapPartitionsRDD[40] at javaToPython at NativeMethodAccessorImpl.java:0"
            ]
          },
          "metadata": {},
          "execution_count": 19
        }
      ]
    },
    {
      "cell_type": "code",
      "source": [
        "# Count number of rows\n",
        "data_rdd.count()"
      ],
      "metadata": {
        "colab": {
          "base_uri": "https://localhost:8080/"
        },
        "id": "9VYCx5WaL8Dh",
        "outputId": "4aee19e8-0c36-49ee-8fc1-7aeb0f5c60a3"
      },
      "execution_count": 20,
      "outputs": [
        {
          "output_type": "execute_result",
          "data": {
            "text/plain": [
              "402910"
            ]
          },
          "metadata": {},
          "execution_count": 20
        }
      ]
    },
    {
      "cell_type": "code",
      "source": [
        "# note the difference in run time\n",
        "data_rdd.count()"
      ],
      "metadata": {
        "colab": {
          "base_uri": "https://localhost:8080/"
        },
        "id": "WG6TzU40L9lK",
        "outputId": "efcd9268-509b-47f0-bb6e-034832949651"
      },
      "execution_count": 21,
      "outputs": [
        {
          "output_type": "execute_result",
          "data": {
            "text/plain": [
              "402910"
            ]
          },
          "metadata": {},
          "execution_count": 21
        }
      ]
    },
    {
      "cell_type": "markdown",
      "source": [
        "# Spark Dataframe"
      ],
      "metadata": {
        "id": "VCwoGaV-MHoH"
      }
    },
    {
      "cell_type": "code",
      "source": [
        "df.show()"
      ],
      "metadata": {
        "colab": {
          "base_uri": "https://localhost:8080/"
        },
        "id": "VwcRgHcPMJFC",
        "outputId": "0982dbe4-a344-4286-9945-170429cd2230"
      },
      "execution_count": 22,
      "outputs": [
        {
          "output_type": "stream",
          "name": "stdout",
          "text": [
            "+--------+---------+-----------+----------+-----------+---------+------------------+------------+----------+-------------------+-----------------------+---------------------+------------------------------+------------------------+----------------------+-------------------------------+-----------------+------------+------------------------+-------------+-------------------------+---------------------+---------------------------------+----------------------+----------------------------------+-----------+---------+------------------------+----------------------+------------------+-------------------------------+-------------+--------------+-----------+------------------+-----------------+-----------------------+--------------+----------------+-------------------------+------------------------------+-----------------------------+-----------------------------------+--------------------------+-------------------------------------+------------------------------+------------------------------------------+----------------+------------------+----------+-------------+-------------+--------------+---------------+---------------------+-------------------+--------------+------------+----------------------+--------------------------+---------------+-----------------------+----------+------------------------------------+---------------------------+----------------+---------------------------------------+\n",
            "|iso_code|continent|   location|      date|total_cases|new_cases|new_cases_smoothed|total_deaths|new_deaths|new_deaths_smoothed|total_cases_per_million|new_cases_per_million|new_cases_smoothed_per_million|total_deaths_per_million|new_deaths_per_million|new_deaths_smoothed_per_million|reproduction_rate|icu_patients|icu_patients_per_million|hosp_patients|hosp_patients_per_million|weekly_icu_admissions|weekly_icu_admissions_per_million|weekly_hosp_admissions|weekly_hosp_admissions_per_million|total_tests|new_tests|total_tests_per_thousand|new_tests_per_thousand|new_tests_smoothed|new_tests_smoothed_per_thousand|positive_rate|tests_per_case|tests_units|total_vaccinations|people_vaccinated|people_fully_vaccinated|total_boosters|new_vaccinations|new_vaccinations_smoothed|total_vaccinations_per_hundred|people_vaccinated_per_hundred|people_fully_vaccinated_per_hundred|total_boosters_per_hundred|new_vaccinations_smoothed_per_million|new_people_vaccinated_smoothed|new_people_vaccinated_smoothed_per_hundred|stringency_index|population_density|median_age|aged_65_older|aged_70_older|gdp_per_capita|extreme_poverty|cardiovasc_death_rate|diabetes_prevalence|female_smokers|male_smokers|handwashing_facilities|hospital_beds_per_thousand|life_expectancy|human_development_index|population|excess_mortality_cumulative_absolute|excess_mortality_cumulative|excess_mortality|excess_mortality_cumulative_per_million|\n",
            "+--------+---------+-----------+----------+-----------+---------+------------------+------------+----------+-------------------+-----------------------+---------------------+------------------------------+------------------------+----------------------+-------------------------------+-----------------+------------+------------------------+-------------+-------------------------+---------------------+---------------------------------+----------------------+----------------------------------+-----------+---------+------------------------+----------------------+------------------+-------------------------------+-------------+--------------+-----------+------------------+-----------------+-----------------------+--------------+----------------+-------------------------+------------------------------+-----------------------------+-----------------------------------+--------------------------+-------------------------------------+------------------------------+------------------------------------------+----------------+------------------+----------+-------------+-------------+--------------+---------------+---------------------+-------------------+--------------+------------+----------------------+--------------------------+---------------+-----------------------+----------+------------------------------------+---------------------------+----------------+---------------------------------------+\n",
            "|     AFG|     Asia|Afghanistan|2020-01-05|          0|        0|              NULL|           0|         0|               NULL|                    0.0|                  0.0|                          NULL|                     0.0|                   0.0|                           NULL|             NULL|        NULL|                    NULL|         NULL|                     NULL|                 NULL|                             NULL|                  NULL|                              NULL|       NULL|     NULL|                    NULL|                  NULL|              NULL|                           NULL|         NULL|          NULL|       NULL|              NULL|             NULL|                   NULL|          NULL|            NULL|                     NULL|                          NULL|                         NULL|                               NULL|                      NULL|                                 NULL|                          NULL|                                      NULL|             0.0|             54.42|      18.6|         2.58|         1.34|       1803.99|           NULL|               597.03|               9.59|          NULL|        NULL|                 37.75|                       0.5|          64.83|                   0.51|  41128772|                                NULL|                       NULL|            NULL|                                   NULL|\n",
            "|     AFG|     Asia|Afghanistan|2020-01-06|          0|        0|              NULL|           0|         0|               NULL|                    0.0|                  0.0|                          NULL|                     0.0|                   0.0|                           NULL|             NULL|        NULL|                    NULL|         NULL|                     NULL|                 NULL|                             NULL|                  NULL|                              NULL|       NULL|     NULL|                    NULL|                  NULL|              NULL|                           NULL|         NULL|          NULL|       NULL|              NULL|             NULL|                   NULL|          NULL|            NULL|                     NULL|                          NULL|                         NULL|                               NULL|                      NULL|                                 NULL|                          NULL|                                      NULL|             0.0|             54.42|      18.6|         2.58|         1.34|       1803.99|           NULL|               597.03|               9.59|          NULL|        NULL|                 37.75|                       0.5|          64.83|                   0.51|  41128772|                                NULL|                       NULL|            NULL|                                   NULL|\n",
            "|     AFG|     Asia|Afghanistan|2020-01-07|          0|        0|              NULL|           0|         0|               NULL|                    0.0|                  0.0|                          NULL|                     0.0|                   0.0|                           NULL|             NULL|        NULL|                    NULL|         NULL|                     NULL|                 NULL|                             NULL|                  NULL|                              NULL|       NULL|     NULL|                    NULL|                  NULL|              NULL|                           NULL|         NULL|          NULL|       NULL|              NULL|             NULL|                   NULL|          NULL|            NULL|                     NULL|                          NULL|                         NULL|                               NULL|                      NULL|                                 NULL|                          NULL|                                      NULL|             0.0|             54.42|      18.6|         2.58|         1.34|       1803.99|           NULL|               597.03|               9.59|          NULL|        NULL|                 37.75|                       0.5|          64.83|                   0.51|  41128772|                                NULL|                       NULL|            NULL|                                   NULL|\n",
            "|     AFG|     Asia|Afghanistan|2020-01-08|          0|        0|              NULL|           0|         0|               NULL|                    0.0|                  0.0|                          NULL|                     0.0|                   0.0|                           NULL|             NULL|        NULL|                    NULL|         NULL|                     NULL|                 NULL|                             NULL|                  NULL|                              NULL|       NULL|     NULL|                    NULL|                  NULL|              NULL|                           NULL|         NULL|          NULL|       NULL|              NULL|             NULL|                   NULL|          NULL|            NULL|                     NULL|                          NULL|                         NULL|                               NULL|                      NULL|                                 NULL|                          NULL|                                      NULL|             0.0|             54.42|      18.6|         2.58|         1.34|       1803.99|           NULL|               597.03|               9.59|          NULL|        NULL|                 37.75|                       0.5|          64.83|                   0.51|  41128772|                                NULL|                       NULL|            NULL|                                   NULL|\n",
            "|     AFG|     Asia|Afghanistan|2020-01-09|          0|        0|              NULL|           0|         0|               NULL|                    0.0|                  0.0|                          NULL|                     0.0|                   0.0|                           NULL|             NULL|        NULL|                    NULL|         NULL|                     NULL|                 NULL|                             NULL|                  NULL|                              NULL|       NULL|     NULL|                    NULL|                  NULL|              NULL|                           NULL|         NULL|          NULL|       NULL|              NULL|             NULL|                   NULL|          NULL|            NULL|                     NULL|                          NULL|                         NULL|                               NULL|                      NULL|                                 NULL|                          NULL|                                      NULL|             0.0|             54.42|      18.6|         2.58|         1.34|       1803.99|           NULL|               597.03|               9.59|          NULL|        NULL|                 37.75|                       0.5|          64.83|                   0.51|  41128772|                                NULL|                       NULL|            NULL|                                   NULL|\n",
            "|     AFG|     Asia|Afghanistan|2020-01-10|          0|        0|               0.0|           0|         0|                0.0|                    0.0|                  0.0|                           0.0|                     0.0|                   0.0|                            0.0|             NULL|        NULL|                    NULL|         NULL|                     NULL|                 NULL|                             NULL|                  NULL|                              NULL|       NULL|     NULL|                    NULL|                  NULL|              NULL|                           NULL|         NULL|          NULL|       NULL|              NULL|             NULL|                   NULL|          NULL|            NULL|                     NULL|                          NULL|                         NULL|                               NULL|                      NULL|                                 NULL|                          NULL|                                      NULL|             0.0|             54.42|      18.6|         2.58|         1.34|       1803.99|           NULL|               597.03|               9.59|          NULL|        NULL|                 37.75|                       0.5|          64.83|                   0.51|  41128772|                                NULL|                       NULL|            NULL|                                   NULL|\n",
            "|     AFG|     Asia|Afghanistan|2020-01-11|          0|        0|               0.0|           0|         0|                0.0|                    0.0|                  0.0|                           0.0|                     0.0|                   0.0|                            0.0|             NULL|        NULL|                    NULL|         NULL|                     NULL|                 NULL|                             NULL|                  NULL|                              NULL|       NULL|     NULL|                    NULL|                  NULL|              NULL|                           NULL|         NULL|          NULL|       NULL|              NULL|             NULL|                   NULL|          NULL|            NULL|                     NULL|                          NULL|                         NULL|                               NULL|                      NULL|                                 NULL|                          NULL|                                      NULL|             0.0|             54.42|      18.6|         2.58|         1.34|       1803.99|           NULL|               597.03|               9.59|          NULL|        NULL|                 37.75|                       0.5|          64.83|                   0.51|  41128772|                                NULL|                       NULL|            NULL|                                   NULL|\n",
            "|     AFG|     Asia|Afghanistan|2020-01-12|          0|        0|               0.0|           0|         0|                0.0|                    0.0|                  0.0|                           0.0|                     0.0|                   0.0|                            0.0|             NULL|        NULL|                    NULL|         NULL|                     NULL|                 NULL|                             NULL|                  NULL|                              NULL|       NULL|     NULL|                    NULL|                  NULL|              NULL|                           NULL|         NULL|          NULL|       NULL|              NULL|             NULL|                   NULL|          NULL|            NULL|                     NULL|                          NULL|                         NULL|                               NULL|                      NULL|                                 NULL|                          NULL|                                      NULL|             0.0|             54.42|      18.6|         2.58|         1.34|       1803.99|           NULL|               597.03|               9.59|          NULL|        NULL|                 37.75|                       0.5|          64.83|                   0.51|  41128772|                                NULL|                       NULL|            NULL|                                   NULL|\n",
            "|     AFG|     Asia|Afghanistan|2020-01-13|          0|        0|               0.0|           0|         0|                0.0|                    0.0|                  0.0|                           0.0|                     0.0|                   0.0|                            0.0|             NULL|        NULL|                    NULL|         NULL|                     NULL|                 NULL|                             NULL|                  NULL|                              NULL|       NULL|     NULL|                    NULL|                  NULL|              NULL|                           NULL|         NULL|          NULL|       NULL|              NULL|             NULL|                   NULL|          NULL|            NULL|                     NULL|                          NULL|                         NULL|                               NULL|                      NULL|                                 NULL|                          NULL|                                      NULL|             0.0|             54.42|      18.6|         2.58|         1.34|       1803.99|           NULL|               597.03|               9.59|          NULL|        NULL|                 37.75|                       0.5|          64.83|                   0.51|  41128772|                                NULL|                       NULL|            NULL|                                   NULL|\n",
            "|     AFG|     Asia|Afghanistan|2020-01-14|          0|        0|               0.0|           0|         0|                0.0|                    0.0|                  0.0|                           0.0|                     0.0|                   0.0|                            0.0|             NULL|        NULL|                    NULL|         NULL|                     NULL|                 NULL|                             NULL|                  NULL|                              NULL|       NULL|     NULL|                    NULL|                  NULL|              NULL|                           NULL|         NULL|          NULL|       NULL|              NULL|             NULL|                   NULL|          NULL|            NULL|                     NULL|                          NULL|                         NULL|                               NULL|                      NULL|                                 NULL|                          NULL|                                      NULL|             0.0|             54.42|      18.6|         2.58|         1.34|       1803.99|           NULL|               597.03|               9.59|          NULL|        NULL|                 37.75|                       0.5|          64.83|                   0.51|  41128772|                                NULL|                       NULL|            NULL|                                   NULL|\n",
            "|     AFG|     Asia|Afghanistan|2020-01-15|          0|        0|               0.0|           0|         0|                0.0|                    0.0|                  0.0|                           0.0|                     0.0|                   0.0|                            0.0|             NULL|        NULL|                    NULL|         NULL|                     NULL|                 NULL|                             NULL|                  NULL|                              NULL|       NULL|     NULL|                    NULL|                  NULL|              NULL|                           NULL|         NULL|          NULL|       NULL|              NULL|             NULL|                   NULL|          NULL|            NULL|                     NULL|                          NULL|                         NULL|                               NULL|                      NULL|                                 NULL|                          NULL|                                      NULL|             0.0|             54.42|      18.6|         2.58|         1.34|       1803.99|           NULL|               597.03|               9.59|          NULL|        NULL|                 37.75|                       0.5|          64.83|                   0.51|  41128772|                                NULL|                       NULL|            NULL|                                   NULL|\n",
            "|     AFG|     Asia|Afghanistan|2020-01-16|          0|        0|               0.0|           0|         0|                0.0|                    0.0|                  0.0|                           0.0|                     0.0|                   0.0|                            0.0|             NULL|        NULL|                    NULL|         NULL|                     NULL|                 NULL|                             NULL|                  NULL|                              NULL|       NULL|     NULL|                    NULL|                  NULL|              NULL|                           NULL|         NULL|          NULL|       NULL|              NULL|             NULL|                   NULL|          NULL|            NULL|                     NULL|                          NULL|                         NULL|                               NULL|                      NULL|                                 NULL|                          NULL|                                      NULL|             0.0|             54.42|      18.6|         2.58|         1.34|       1803.99|           NULL|               597.03|               9.59|          NULL|        NULL|                 37.75|                       0.5|          64.83|                   0.51|  41128772|                                NULL|                       NULL|            NULL|                                   NULL|\n",
            "|     AFG|     Asia|Afghanistan|2020-01-17|          0|        0|               0.0|           0|         0|                0.0|                    0.0|                  0.0|                           0.0|                     0.0|                   0.0|                            0.0|             NULL|        NULL|                    NULL|         NULL|                     NULL|                 NULL|                             NULL|                  NULL|                              NULL|       NULL|     NULL|                    NULL|                  NULL|              NULL|                           NULL|         NULL|          NULL|       NULL|              NULL|             NULL|                   NULL|          NULL|            NULL|                     NULL|                          NULL|                         NULL|                               NULL|                      NULL|                                 NULL|                          NULL|                                      NULL|             0.0|             54.42|      18.6|         2.58|         1.34|       1803.99|           NULL|               597.03|               9.59|          NULL|        NULL|                 37.75|                       0.5|          64.83|                   0.51|  41128772|                                NULL|                       NULL|            NULL|                                   NULL|\n",
            "|     AFG|     Asia|Afghanistan|2020-01-18|          0|        0|               0.0|           0|         0|                0.0|                    0.0|                  0.0|                           0.0|                     0.0|                   0.0|                            0.0|             NULL|        NULL|                    NULL|         NULL|                     NULL|                 NULL|                             NULL|                  NULL|                              NULL|       NULL|     NULL|                    NULL|                  NULL|              NULL|                           NULL|         NULL|          NULL|       NULL|              NULL|             NULL|                   NULL|          NULL|            NULL|                     NULL|                          NULL|                         NULL|                               NULL|                      NULL|                                 NULL|                          NULL|                                      NULL|             0.0|             54.42|      18.6|         2.58|         1.34|       1803.99|           NULL|               597.03|               9.59|          NULL|        NULL|                 37.75|                       0.5|          64.83|                   0.51|  41128772|                                NULL|                       NULL|            NULL|                                   NULL|\n",
            "|     AFG|     Asia|Afghanistan|2020-01-19|          0|        0|               0.0|           0|         0|                0.0|                    0.0|                  0.0|                           0.0|                     0.0|                   0.0|                            0.0|             NULL|        NULL|                    NULL|         NULL|                     NULL|                 NULL|                             NULL|                  NULL|                              NULL|       NULL|     NULL|                    NULL|                  NULL|              NULL|                           NULL|         NULL|          NULL|       NULL|              NULL|             NULL|                   NULL|          NULL|            NULL|                     NULL|                          NULL|                         NULL|                               NULL|                      NULL|                                 NULL|                          NULL|                                      NULL|             0.0|             54.42|      18.6|         2.58|         1.34|       1803.99|           NULL|               597.03|               9.59|          NULL|        NULL|                 37.75|                       0.5|          64.83|                   0.51|  41128772|                                NULL|                       NULL|            NULL|                                   NULL|\n",
            "|     AFG|     Asia|Afghanistan|2020-01-20|          0|        0|               0.0|           0|         0|                0.0|                    0.0|                  0.0|                           0.0|                     0.0|                   0.0|                            0.0|             NULL|        NULL|                    NULL|         NULL|                     NULL|                 NULL|                             NULL|                  NULL|                              NULL|       NULL|     NULL|                    NULL|                  NULL|              NULL|                           NULL|         NULL|          NULL|       NULL|              NULL|             NULL|                   NULL|          NULL|            NULL|                     NULL|                          NULL|                         NULL|                               NULL|                      NULL|                                 NULL|                          NULL|                                      NULL|             0.0|             54.42|      18.6|         2.58|         1.34|       1803.99|           NULL|               597.03|               9.59|          NULL|        NULL|                 37.75|                       0.5|          64.83|                   0.51|  41128772|                                NULL|                       NULL|            NULL|                                   NULL|\n",
            "|     AFG|     Asia|Afghanistan|2020-01-21|          0|        0|               0.0|           0|         0|                0.0|                    0.0|                  0.0|                           0.0|                     0.0|                   0.0|                            0.0|             NULL|        NULL|                    NULL|         NULL|                     NULL|                 NULL|                             NULL|                  NULL|                              NULL|       NULL|     NULL|                    NULL|                  NULL|              NULL|                           NULL|         NULL|          NULL|       NULL|              NULL|             NULL|                   NULL|          NULL|            NULL|                     NULL|                          NULL|                         NULL|                               NULL|                      NULL|                                 NULL|                          NULL|                                      NULL|             0.0|             54.42|      18.6|         2.58|         1.34|       1803.99|           NULL|               597.03|               9.59|          NULL|        NULL|                 37.75|                       0.5|          64.83|                   0.51|  41128772|                                NULL|                       NULL|            NULL|                                   NULL|\n",
            "|     AFG|     Asia|Afghanistan|2020-01-22|          0|        0|               0.0|           0|         0|                0.0|                    0.0|                  0.0|                           0.0|                     0.0|                   0.0|                            0.0|             NULL|        NULL|                    NULL|         NULL|                     NULL|                 NULL|                             NULL|                  NULL|                              NULL|       NULL|     NULL|                    NULL|                  NULL|              NULL|                           NULL|         NULL|          NULL|       NULL|              NULL|             NULL|                   NULL|          NULL|            NULL|                     NULL|                          NULL|                         NULL|                               NULL|                      NULL|                                 NULL|                          NULL|                                      NULL|             0.0|             54.42|      18.6|         2.58|         1.34|       1803.99|           NULL|               597.03|               9.59|          NULL|        NULL|                 37.75|                       0.5|          64.83|                   0.51|  41128772|                                NULL|                       NULL|            NULL|                                   NULL|\n",
            "|     AFG|     Asia|Afghanistan|2020-01-23|          0|        0|               0.0|           0|         0|                0.0|                    0.0|                  0.0|                           0.0|                     0.0|                   0.0|                            0.0|             NULL|        NULL|                    NULL|         NULL|                     NULL|                 NULL|                             NULL|                  NULL|                              NULL|       NULL|     NULL|                    NULL|                  NULL|              NULL|                           NULL|         NULL|          NULL|       NULL|              NULL|             NULL|                   NULL|          NULL|            NULL|                     NULL|                          NULL|                         NULL|                               NULL|                      NULL|                                 NULL|                          NULL|                                      NULL|             0.0|             54.42|      18.6|         2.58|         1.34|       1803.99|           NULL|               597.03|               9.59|          NULL|        NULL|                 37.75|                       0.5|          64.83|                   0.51|  41128772|                                NULL|                       NULL|            NULL|                                   NULL|\n",
            "|     AFG|     Asia|Afghanistan|2020-01-24|          0|        0|               0.0|           0|         0|                0.0|                    0.0|                  0.0|                           0.0|                     0.0|                   0.0|                            0.0|             NULL|        NULL|                    NULL|         NULL|                     NULL|                 NULL|                             NULL|                  NULL|                              NULL|       NULL|     NULL|                    NULL|                  NULL|              NULL|                           NULL|         NULL|          NULL|       NULL|              NULL|             NULL|                   NULL|          NULL|            NULL|                     NULL|                          NULL|                         NULL|                               NULL|                      NULL|                                 NULL|                          NULL|                                      NULL|             0.0|             54.42|      18.6|         2.58|         1.34|       1803.99|           NULL|               597.03|               9.59|          NULL|        NULL|                 37.75|                       0.5|          64.83|                   0.51|  41128772|                                NULL|                       NULL|            NULL|                                   NULL|\n",
            "+--------+---------+-----------+----------+-----------+---------+------------------+------------+----------+-------------------+-----------------------+---------------------+------------------------------+------------------------+----------------------+-------------------------------+-----------------+------------+------------------------+-------------+-------------------------+---------------------+---------------------------------+----------------------+----------------------------------+-----------+---------+------------------------+----------------------+------------------+-------------------------------+-------------+--------------+-----------+------------------+-----------------+-----------------------+--------------+----------------+-------------------------+------------------------------+-----------------------------+-----------------------------------+--------------------------+-------------------------------------+------------------------------+------------------------------------------+----------------+------------------+----------+-------------+-------------+--------------+---------------+---------------------+-------------------+--------------+------------+----------------------+--------------------------+---------------+-----------------------+----------+------------------------------------+---------------------------+----------------+---------------------------------------+\n",
            "only showing top 20 rows\n",
            "\n"
          ]
        }
      ]
    },
    {
      "cell_type": "markdown",
      "source": [
        "### groupBy"
      ],
      "metadata": {
        "id": "RF7zqJb_NqQB"
      }
    },
    {
      "cell_type": "code",
      "source": [
        "df.groupBy(\"continent\").count().show()"
      ],
      "metadata": {
        "colab": {
          "base_uri": "https://localhost:8080/"
        },
        "id": "BlyFEvqaMMEe",
        "outputId": "27e91903-53a4-43e9-a474-1d6634850b4b"
      },
      "execution_count": 23,
      "outputs": [
        {
          "output_type": "stream",
          "name": "stdout",
          "text": [
            "+-------------+-----+\n",
            "|    continent|count|\n",
            "+-------------+-----+\n",
            "|       Europe|91031|\n",
            "|       Africa|95419|\n",
            "|         NULL|26525|\n",
            "|North America|68638|\n",
            "|South America|23440|\n",
            "|      Oceania|40183|\n",
            "|         Asia|84199|\n",
            "+-------------+-----+\n",
            "\n"
          ]
        }
      ]
    },
    {
      "cell_type": "markdown",
      "source": [
        "### orderBy"
      ],
      "metadata": {
        "id": "SdlH77ILNrzj"
      }
    },
    {
      "cell_type": "code",
      "source": [
        "df.orderBy(\"continent\", ascending=False).show()"
      ],
      "metadata": {
        "colab": {
          "base_uri": "https://localhost:8080/"
        },
        "id": "f7BVAIp3MYT6",
        "outputId": "c85b1f66-2b4b-4e37-ce58-3a964b346498"
      },
      "execution_count": 24,
      "outputs": [
        {
          "output_type": "stream",
          "name": "stdout",
          "text": [
            "+--------+-------------+----------------+----------+-----------+---------+------------------+------------+----------+-------------------+-----------------------+---------------------+------------------------------+------------------------+----------------------+-------------------------------+-----------------+------------+------------------------+-------------+-------------------------+---------------------+---------------------------------+----------------------+----------------------------------+-----------+---------+------------------------+----------------------+------------------+-------------------------------+-------------+--------------+---------------+------------------+-----------------+-----------------------+--------------+----------------+-------------------------+------------------------------+-----------------------------+-----------------------------------+--------------------------+-------------------------------------+------------------------------+------------------------------------------+----------------+------------------+----------+-------------+-------------+--------------+---------------+---------------------+-------------------+--------------+------------+----------------------+--------------------------+---------------+-----------------------+----------+------------------------------------+---------------------------+----------------+---------------------------------------+\n",
            "|iso_code|    continent|        location|      date|total_cases|new_cases|new_cases_smoothed|total_deaths|new_deaths|new_deaths_smoothed|total_cases_per_million|new_cases_per_million|new_cases_smoothed_per_million|total_deaths_per_million|new_deaths_per_million|new_deaths_smoothed_per_million|reproduction_rate|icu_patients|icu_patients_per_million|hosp_patients|hosp_patients_per_million|weekly_icu_admissions|weekly_icu_admissions_per_million|weekly_hosp_admissions|weekly_hosp_admissions_per_million|total_tests|new_tests|total_tests_per_thousand|new_tests_per_thousand|new_tests_smoothed|new_tests_smoothed_per_thousand|positive_rate|tests_per_case|    tests_units|total_vaccinations|people_vaccinated|people_fully_vaccinated|total_boosters|new_vaccinations|new_vaccinations_smoothed|total_vaccinations_per_hundred|people_vaccinated_per_hundred|people_fully_vaccinated_per_hundred|total_boosters_per_hundred|new_vaccinations_smoothed_per_million|new_people_vaccinated_smoothed|new_people_vaccinated_smoothed_per_hundred|stringency_index|population_density|median_age|aged_65_older|aged_70_older|gdp_per_capita|extreme_poverty|cardiovasc_death_rate|diabetes_prevalence|female_smokers|male_smokers|handwashing_facilities|hospital_beds_per_thousand|life_expectancy|human_development_index|population|excess_mortality_cumulative_absolute|excess_mortality_cumulative|excess_mortality|excess_mortality_cumulative_per_million|\n",
            "+--------+-------------+----------------+----------+-----------+---------+------------------+------------+----------+-------------------+-----------------------+---------------------+------------------------------+------------------------+----------------------+-------------------------------+-----------------+------------+------------------------+-------------+-------------------------+---------------------+---------------------------------+----------------------+----------------------------------+-----------+---------+------------------------+----------------------+------------------+-------------------------------+-------------+--------------+---------------+------------------+-----------------+-----------------------+--------------+----------------+-------------------------+------------------------------+-----------------------------+-----------------------------------+--------------------------+-------------------------------------+------------------------------+------------------------------------------+----------------+------------------+----------+-------------+-------------+--------------+---------------+---------------------+-------------------+--------------+------------+----------------------+--------------------------+---------------+-----------------------+----------+------------------------------------+---------------------------+----------------+---------------------------------------+\n",
            "|     URY|South America|         Uruguay|2020-01-05|          0|        0|              NULL|           0|         0|               NULL|                    0.0|                  0.0|                          NULL|                     0.0|                   0.0|                           NULL|             NULL|        NULL|                    NULL|         NULL|                     NULL|                 NULL|                             NULL|                  NULL|                              NULL|       NULL|     NULL|                    NULL|                  NULL|              NULL|                           NULL|         NULL|          NULL|           NULL|              NULL|             NULL|                   NULL|          NULL|            NULL|                     NULL|                          NULL|                         NULL|                               NULL|                      NULL|                                 NULL|                          NULL|                                      NULL|             0.0|             19.75|      35.6|        14.66|        10.36|      20551.41|            0.1|               160.71|               6.93|          14.0|        19.9|                  NULL|                       2.8|          77.91|                   0.82|   3422796|                                NULL|                       NULL|            NULL|                                   NULL|\n",
            "|     ARG|South America|       Argentina|2020-01-01|       NULL|     NULL|              NULL|        NULL|      NULL|               NULL|                   NULL|                 NULL|                          NULL|                    NULL|                  NULL|                           NULL|             NULL|        NULL|                    NULL|         NULL|                     NULL|                 NULL|                             NULL|                  NULL|                              NULL|          4|        4|                     0.0|                   0.0|              NULL|                           NULL|         NULL|          NULL|tests performed|              NULL|             NULL|                   NULL|          NULL|            NULL|                     NULL|                          NULL|                         NULL|                               NULL|                      NULL|                                 NULL|                          NULL|                                      NULL|             0.0|             16.18|      31.9|         11.2|         7.44|      18933.91|            0.6|               191.03|                5.5|          16.2|        27.7|                  NULL|                       5.0|          76.67|                   0.84|  45510324|                                NULL|                       NULL|            NULL|                                   NULL|\n",
            "|     FLK|South America|Falkland Islands|2020-01-05|          0|        0|              NULL|           0|         0|               NULL|                    0.0|                  0.0|                          NULL|                     0.0|                   0.0|                           NULL|             NULL|        NULL|                    NULL|         NULL|                     NULL|                 NULL|                             NULL|                  NULL|                              NULL|       NULL|     NULL|                    NULL|                  NULL|              NULL|                           NULL|         NULL|          NULL|           NULL|              NULL|             NULL|                   NULL|          NULL|            NULL|                     NULL|                          NULL|                         NULL|                               NULL|                      NULL|                                 NULL|                          NULL|                                      NULL|            NULL|              NULL|      NULL|         NULL|         NULL|          NULL|           NULL|                 NULL|               NULL|          NULL|        NULL|                  NULL|                      NULL|          81.44|                   NULL|      3801|                                NULL|                       NULL|            NULL|                                   NULL|\n",
            "|     ARG|South America|       Argentina|2020-01-21|          0|        0|               0.0|           0|         0|                0.0|                    0.0|                  0.0|                           0.0|                     0.0|                   0.0|                            0.0|             NULL|        NULL|                    NULL|         NULL|                     NULL|                 NULL|                             NULL|                  NULL|                              NULL|        537|        1|                    0.01|                   0.0|              18.0|                            0.0|         0.12|           8.5|tests performed|              NULL|             NULL|                   NULL|          NULL|            NULL|                     NULL|                          NULL|                         NULL|                               NULL|                      NULL|                                 NULL|                          NULL|                                      NULL|             0.0|             16.18|      31.9|         11.2|         7.44|      18933.91|            0.6|               191.03|                5.5|          16.2|        27.7|                  NULL|                       5.0|          76.67|                   0.84|  45510324|                                NULL|                       NULL|            NULL|                                   NULL|\n",
            "|     PRY|South America|        Paraguay|2020-01-05|          0|        0|              NULL|           0|         0|               NULL|                    0.0|                  0.0|                          NULL|                     0.0|                   0.0|                           NULL|             NULL|        NULL|                    NULL|         NULL|                     NULL|                 NULL|                             NULL|                  NULL|                              NULL|       NULL|     NULL|                    NULL|                  NULL|              NULL|                           NULL|         NULL|          NULL|           NULL|              NULL|             NULL|                   NULL|          NULL|            NULL|                     NULL|                          NULL|                         NULL|                               NULL|                      NULL|                                 NULL|                          NULL|                                      NULL|             0.0|             17.14|      26.5|         6.38|         3.83|       8827.01|            1.7|               199.13|               8.27|           5.0|        21.6|                  79.6|                       1.3|          74.25|                   0.73|   6780745|                                NULL|                       NULL|            NULL|                                   NULL|\n",
            "|     ARG|South America|       Argentina|2020-01-02|       NULL|     NULL|              NULL|        NULL|      NULL|               NULL|                   NULL|                 NULL|                          NULL|                    NULL|                  NULL|                           NULL|             NULL|        NULL|                    NULL|         NULL|                     NULL|                 NULL|                             NULL|                  NULL|                              NULL|         99|       95|                     0.0|                   0.0|              NULL|                           NULL|         NULL|          NULL|tests performed|              NULL|             NULL|                   NULL|          NULL|            NULL|                     NULL|                          NULL|                         NULL|                               NULL|                      NULL|                                 NULL|                          NULL|                                      NULL|             0.0|             16.18|      31.9|         11.2|         7.44|      18933.91|            0.6|               191.03|                5.5|          16.2|        27.7|                  NULL|                       5.0|          76.67|                   0.84|  45510324|                                NULL|                       NULL|            NULL|                                   NULL|\n",
            "|     FLK|South America|Falkland Islands|2020-01-25|          0|        0|               0.0|           0|         0|                0.0|                    0.0|                  0.0|                           0.0|                     0.0|                   0.0|                            0.0|             NULL|        NULL|                    NULL|         NULL|                     NULL|                 NULL|                             NULL|                  NULL|                              NULL|       NULL|     NULL|                    NULL|                  NULL|              NULL|                           NULL|         NULL|          NULL|           NULL|              NULL|             NULL|                   NULL|          NULL|            NULL|                     NULL|                          NULL|                         NULL|                               NULL|                      NULL|                                 NULL|                          NULL|                                      NULL|            NULL|              NULL|      NULL|         NULL|         NULL|          NULL|           NULL|                 NULL|               NULL|          NULL|        NULL|                  NULL|                      NULL|          81.44|                   NULL|      3801|                                NULL|                       NULL|            NULL|                                   NULL|\n",
            "|     ARG|South America|       Argentina|2020-01-03|       NULL|     NULL|              NULL|        NULL|      NULL|               NULL|                   NULL|                 NULL|                          NULL|                    NULL|                  NULL|                           NULL|             NULL|        NULL|                    NULL|         NULL|                     NULL|                 NULL|                             NULL|                  NULL|                              NULL|        104|        5|                     0.0|                   0.0|              NULL|                           NULL|         NULL|          NULL|tests performed|              NULL|             NULL|                   NULL|          NULL|            NULL|                     NULL|                          NULL|                         NULL|                               NULL|                      NULL|                                 NULL|                          NULL|                                      NULL|             0.0|             16.18|      31.9|         11.2|         7.44|      18933.91|            0.6|               191.03|                5.5|          16.2|        27.7|                  NULL|                       5.0|          76.67|                   0.84|  45510324|                                NULL|                       NULL|            NULL|                                   NULL|\n",
            "|     SUR|South America|        Suriname|2020-01-05|          0|        0|              NULL|           0|         0|               NULL|                    0.0|                  0.0|                          NULL|                     0.0|                   0.0|                           NULL|             NULL|        NULL|                    NULL|         NULL|                     NULL|                 NULL|                             NULL|                  NULL|                              NULL|       NULL|     NULL|                    NULL|                  NULL|              NULL|                           NULL|         NULL|          NULL|           NULL|              NULL|             NULL|                   NULL|          NULL|            NULL|                     NULL|                          NULL|                         NULL|                               NULL|                      NULL|                                 NULL|                          NULL|                                      NULL|             0.0|              3.61|      29.6|         6.93|         4.23|      13767.12|           NULL|               258.31|              12.54|           7.4|        42.9|                 67.78|                       3.1|          71.68|                   0.74|    618046|                                NULL|                       NULL|            NULL|                                   NULL|\n",
            "|     ARG|South America|       Argentina|2020-01-04|       NULL|     NULL|              NULL|        NULL|      NULL|               NULL|                   NULL|                 NULL|                          NULL|                    NULL|                  NULL|                           NULL|             NULL|        NULL|                    NULL|         NULL|                     NULL|                 NULL|                             NULL|                  NULL|                              NULL|        180|       76|                     0.0|                   0.0|              NULL|                           NULL|         NULL|          NULL|tests performed|              NULL|             NULL|                   NULL|          NULL|            NULL|                     NULL|                          NULL|                         NULL|                               NULL|                      NULL|                                 NULL|                          NULL|                                      NULL|             0.0|             16.18|      31.9|         11.2|         7.44|      18933.91|            0.6|               191.03|                5.5|          16.2|        27.7|                  NULL|                       5.0|          76.67|                   0.84|  45510324|                                NULL|                       NULL|            NULL|                                   NULL|\n",
            "|     FLK|South America|Falkland Islands|2020-01-06|          0|        0|              NULL|           0|         0|               NULL|                    0.0|                  0.0|                          NULL|                     0.0|                   0.0|                           NULL|             NULL|        NULL|                    NULL|         NULL|                     NULL|                 NULL|                             NULL|                  NULL|                              NULL|       NULL|     NULL|                    NULL|                  NULL|              NULL|                           NULL|         NULL|          NULL|           NULL|              NULL|             NULL|                   NULL|          NULL|            NULL|                     NULL|                          NULL|                         NULL|                               NULL|                      NULL|                                 NULL|                          NULL|                                      NULL|            NULL|              NULL|      NULL|         NULL|         NULL|          NULL|           NULL|                 NULL|               NULL|          NULL|        NULL|                  NULL|                      NULL|          81.44|                   NULL|      3801|                                NULL|                       NULL|            NULL|                                   NULL|\n",
            "|     ARG|South America|       Argentina|2020-01-05|          0|        0|              NULL|           0|         0|               NULL|                    0.0|                  0.0|                          NULL|                     0.0|                   0.0|                           NULL|             NULL|        NULL|                    NULL|         NULL|                     NULL|                 NULL|                             NULL|                  NULL|                              NULL|        194|       14|                     0.0|                   0.0|              NULL|                           NULL|         NULL|          NULL|tests performed|              NULL|             NULL|                   NULL|          NULL|            NULL|                     NULL|                          NULL|                         NULL|                               NULL|                      NULL|                                 NULL|                          NULL|                                      NULL|             0.0|             16.18|      31.9|         11.2|         7.44|      18933.91|            0.6|               191.03|                5.5|          16.2|        27.7|                  NULL|                       5.0|          76.67|                   0.84|  45510324|                                NULL|                       NULL|            NULL|                                   NULL|\n",
            "|     PRY|South America|        Paraguay|2020-01-25|          0|        0|               0.0|           0|         0|                0.0|                    0.0|                  0.0|                           0.0|                     0.0|                   0.0|                            0.0|             NULL|        NULL|                    NULL|         NULL|                     NULL|                 NULL|                             NULL|                  NULL|                              NULL|       NULL|     NULL|                    NULL|                  NULL|              NULL|                           NULL|         NULL|          NULL|           NULL|              NULL|             NULL|                   NULL|          NULL|            NULL|                     NULL|                          NULL|                         NULL|                               NULL|                      NULL|                                 NULL|                          NULL|                                      NULL|            5.56|             17.14|      26.5|         6.38|         3.83|       8827.01|            1.7|               199.13|               8.27|           5.0|        21.6|                  79.6|                       1.3|          74.25|                   0.73|   6780745|                                NULL|                       NULL|            NULL|                                   NULL|\n",
            "|     ARG|South America|       Argentina|2020-01-06|          0|        0|              NULL|           0|         0|               NULL|                    0.0|                  0.0|                          NULL|                     0.0|                   0.0|                           NULL|             NULL|        NULL|                    NULL|         NULL|                     NULL|                 NULL|                             NULL|                  NULL|                              NULL|        248|       54|                     0.0|                   0.0|              NULL|                           NULL|         NULL|          NULL|tests performed|              NULL|             NULL|                   NULL|          NULL|            NULL|                     NULL|                          NULL|                         NULL|                               NULL|                      NULL|                                 NULL|                          NULL|                                      NULL|             0.0|             16.18|      31.9|         11.2|         7.44|      18933.91|            0.6|               191.03|                5.5|          16.2|        27.7|                  NULL|                       5.0|          76.67|                   0.84|  45510324|                                NULL|                       NULL|            NULL|                                   NULL|\n",
            "|     FLK|South America|Falkland Islands|2020-01-07|          0|        0|              NULL|           0|         0|               NULL|                    0.0|                  0.0|                          NULL|                     0.0|                   0.0|                           NULL|             NULL|        NULL|                    NULL|         NULL|                     NULL|                 NULL|                             NULL|                  NULL|                              NULL|       NULL|     NULL|                    NULL|                  NULL|              NULL|                           NULL|         NULL|          NULL|           NULL|              NULL|             NULL|                   NULL|          NULL|            NULL|                     NULL|                          NULL|                         NULL|                               NULL|                      NULL|                                 NULL|                          NULL|                                      NULL|            NULL|              NULL|      NULL|         NULL|         NULL|          NULL|           NULL|                 NULL|               NULL|          NULL|        NULL|                  NULL|                      NULL|          81.44|                   NULL|      3801|                                NULL|                       NULL|            NULL|                                   NULL|\n",
            "|     ARG|South America|       Argentina|2020-01-07|          0|        0|              NULL|           0|         0|               NULL|                    0.0|                  0.0|                          NULL|                     0.0|                   0.0|                           NULL|             NULL|        NULL|                    NULL|         NULL|                     NULL|                 NULL|                             NULL|                  NULL|                              NULL|        279|       31|                    0.01|                   0.0|              NULL|                           NULL|         0.17|           6.0|tests performed|              NULL|             NULL|                   NULL|          NULL|            NULL|                     NULL|                          NULL|                         NULL|                               NULL|                      NULL|                                 NULL|                          NULL|                                      NULL|             0.0|             16.18|      31.9|         11.2|         7.44|      18933.91|            0.6|               191.03|                5.5|          16.2|        27.7|                  NULL|                       5.0|          76.67|                   0.84|  45510324|                                NULL|                       NULL|            NULL|                                   NULL|\n",
            "|     CHL|South America|           Chile|2020-01-05|          0|        0|              NULL|           0|         0|               NULL|                    0.0|                  0.0|                          NULL|                     0.0|                   0.0|                           NULL|             NULL|        NULL|                    NULL|         NULL|                     NULL|                 NULL|                             NULL|                  NULL|                              NULL|       NULL|     NULL|                    NULL|                  NULL|              NULL|                           NULL|         NULL|          NULL|           NULL|              NULL|             NULL|                   NULL|          NULL|            NULL|                     NULL|                          NULL|                         NULL|                               NULL|                      NULL|                                 NULL|                          NULL|                                      NULL|             0.0|             24.28|      35.4|        11.09|         6.94|      22767.04|            1.3|               127.99|               8.46|          34.2|        41.5|                  NULL|                      2.11|          80.18|                   0.85|  19603736|                                92.9|                        4.6|             4.6|                                   4.81|\n",
            "|     ARG|South America|       Argentina|2020-01-08|          0|        0|              NULL|           0|         0|               NULL|                    0.0|                  0.0|                          NULL|                     0.0|                   0.0|                           NULL|             NULL|        NULL|                    NULL|         NULL|                     NULL|                 NULL|                             NULL|                  NULL|                              NULL|        284|        5|                    0.01|                   0.0|              40.0|                            0.0|         0.16|           6.1|tests performed|              NULL|             NULL|                   NULL|          NULL|            NULL|                     NULL|                          NULL|                         NULL|                               NULL|                      NULL|                                 NULL|                          NULL|                                      NULL|             0.0|             16.18|      31.9|         11.2|         7.44|      18933.91|            0.6|               191.03|                5.5|          16.2|        27.7|                  NULL|                       5.0|          76.67|                   0.84|  45510324|                                NULL|                       NULL|            NULL|                                   NULL|\n",
            "|     FLK|South America|Falkland Islands|2020-01-08|          0|        0|              NULL|           0|         0|               NULL|                    0.0|                  0.0|                          NULL|                     0.0|                   0.0|                           NULL|             NULL|        NULL|                    NULL|         NULL|                     NULL|                 NULL|                             NULL|                  NULL|                              NULL|       NULL|     NULL|                    NULL|                  NULL|              NULL|                           NULL|         NULL|          NULL|           NULL|              NULL|             NULL|                   NULL|          NULL|            NULL|                     NULL|                          NULL|                         NULL|                               NULL|                      NULL|                                 NULL|                          NULL|                                      NULL|            NULL|              NULL|      NULL|         NULL|         NULL|          NULL|           NULL|                 NULL|               NULL|          NULL|        NULL|                  NULL|                      NULL|          81.44|                   NULL|      3801|                                NULL|                       NULL|            NULL|                                   NULL|\n",
            "|     ARG|South America|       Argentina|2020-01-09|          0|        0|              NULL|           0|         0|               NULL|                    0.0|                  0.0|                          NULL|                     0.0|                   0.0|                           NULL|             NULL|        NULL|                    NULL|         NULL|                     NULL|                 NULL|                             NULL|                  NULL|                              NULL|        285|        1|                    0.01|                   0.0|              27.0|                            0.0|         0.14|           7.1|tests performed|              NULL|             NULL|                   NULL|          NULL|            NULL|                     NULL|                          NULL|                         NULL|                               NULL|                      NULL|                                 NULL|                          NULL|                                      NULL|             0.0|             16.18|      31.9|         11.2|         7.44|      18933.91|            0.6|               191.03|                5.5|          16.2|        27.7|                  NULL|                       5.0|          76.67|                   0.84|  45510324|                                NULL|                       NULL|            NULL|                                   NULL|\n",
            "+--------+-------------+----------------+----------+-----------+---------+------------------+------------+----------+-------------------+-----------------------+---------------------+------------------------------+------------------------+----------------------+-------------------------------+-----------------+------------+------------------------+-------------+-------------------------+---------------------+---------------------------------+----------------------+----------------------------------+-----------+---------+------------------------+----------------------+------------------+-------------------------------+-------------+--------------+---------------+------------------+-----------------+-----------------------+--------------+----------------+-------------------------+------------------------------+-----------------------------+-----------------------------------+--------------------------+-------------------------------------+------------------------------+------------------------------------------+----------------+------------------+----------+-------------+-------------+--------------+---------------+---------------------+-------------------+--------------+------------+----------------------+--------------------------+---------------+-----------------------+----------+------------------------------------+---------------------------+----------------+---------------------------------------+\n",
            "only showing top 20 rows\n",
            "\n"
          ]
        }
      ]
    },
    {
      "cell_type": "code",
      "source": [
        "df.select(\"iso_code\").drop_duplicates().orderBy(\"iso_code\").show()"
      ],
      "metadata": {
        "colab": {
          "base_uri": "https://localhost:8080/"
        },
        "id": "VUQZni1oMgEg",
        "outputId": "59bfeaa2-e611-4157-a88d-ba8996d8775c"
      },
      "execution_count": 25,
      "outputs": [
        {
          "output_type": "stream",
          "name": "stdout",
          "text": [
            "+--------+\n",
            "|iso_code|\n",
            "+--------+\n",
            "|     ABW|\n",
            "|     AFG|\n",
            "|     AGO|\n",
            "|     AIA|\n",
            "|     ALB|\n",
            "|     AND|\n",
            "|     ARE|\n",
            "|     ARG|\n",
            "|     ARM|\n",
            "|     ASM|\n",
            "|     ATG|\n",
            "|     AUS|\n",
            "|     AUT|\n",
            "|     AZE|\n",
            "|     BDI|\n",
            "|     BEL|\n",
            "|     BEN|\n",
            "|     BES|\n",
            "|     BFA|\n",
            "|     BGD|\n",
            "+--------+\n",
            "only showing top 20 rows\n",
            "\n"
          ]
        }
      ]
    },
    {
      "cell_type": "markdown",
      "source": [
        "### rename column"
      ],
      "metadata": {
        "id": "itLd9SivNuBe"
      }
    },
    {
      "cell_type": "code",
      "source": [
        "df.withColumnRenamed(\"location\", \"country\").show()"
      ],
      "metadata": {
        "colab": {
          "base_uri": "https://localhost:8080/"
        },
        "id": "in6e-PdVMlvO",
        "outputId": "5c04e953-f696-4e3b-f25f-ba0f79def9a9"
      },
      "execution_count": 26,
      "outputs": [
        {
          "output_type": "stream",
          "name": "stdout",
          "text": [
            "+--------+---------+-----------+----------+-----------+---------+------------------+------------+----------+-------------------+-----------------------+---------------------+------------------------------+------------------------+----------------------+-------------------------------+-----------------+------------+------------------------+-------------+-------------------------+---------------------+---------------------------------+----------------------+----------------------------------+-----------+---------+------------------------+----------------------+------------------+-------------------------------+-------------+--------------+-----------+------------------+-----------------+-----------------------+--------------+----------------+-------------------------+------------------------------+-----------------------------+-----------------------------------+--------------------------+-------------------------------------+------------------------------+------------------------------------------+----------------+------------------+----------+-------------+-------------+--------------+---------------+---------------------+-------------------+--------------+------------+----------------------+--------------------------+---------------+-----------------------+----------+------------------------------------+---------------------------+----------------+---------------------------------------+\n",
            "|iso_code|continent|    country|      date|total_cases|new_cases|new_cases_smoothed|total_deaths|new_deaths|new_deaths_smoothed|total_cases_per_million|new_cases_per_million|new_cases_smoothed_per_million|total_deaths_per_million|new_deaths_per_million|new_deaths_smoothed_per_million|reproduction_rate|icu_patients|icu_patients_per_million|hosp_patients|hosp_patients_per_million|weekly_icu_admissions|weekly_icu_admissions_per_million|weekly_hosp_admissions|weekly_hosp_admissions_per_million|total_tests|new_tests|total_tests_per_thousand|new_tests_per_thousand|new_tests_smoothed|new_tests_smoothed_per_thousand|positive_rate|tests_per_case|tests_units|total_vaccinations|people_vaccinated|people_fully_vaccinated|total_boosters|new_vaccinations|new_vaccinations_smoothed|total_vaccinations_per_hundred|people_vaccinated_per_hundred|people_fully_vaccinated_per_hundred|total_boosters_per_hundred|new_vaccinations_smoothed_per_million|new_people_vaccinated_smoothed|new_people_vaccinated_smoothed_per_hundred|stringency_index|population_density|median_age|aged_65_older|aged_70_older|gdp_per_capita|extreme_poverty|cardiovasc_death_rate|diabetes_prevalence|female_smokers|male_smokers|handwashing_facilities|hospital_beds_per_thousand|life_expectancy|human_development_index|population|excess_mortality_cumulative_absolute|excess_mortality_cumulative|excess_mortality|excess_mortality_cumulative_per_million|\n",
            "+--------+---------+-----------+----------+-----------+---------+------------------+------------+----------+-------------------+-----------------------+---------------------+------------------------------+------------------------+----------------------+-------------------------------+-----------------+------------+------------------------+-------------+-------------------------+---------------------+---------------------------------+----------------------+----------------------------------+-----------+---------+------------------------+----------------------+------------------+-------------------------------+-------------+--------------+-----------+------------------+-----------------+-----------------------+--------------+----------------+-------------------------+------------------------------+-----------------------------+-----------------------------------+--------------------------+-------------------------------------+------------------------------+------------------------------------------+----------------+------------------+----------+-------------+-------------+--------------+---------------+---------------------+-------------------+--------------+------------+----------------------+--------------------------+---------------+-----------------------+----------+------------------------------------+---------------------------+----------------+---------------------------------------+\n",
            "|     AFG|     Asia|Afghanistan|2020-01-05|          0|        0|              NULL|           0|         0|               NULL|                    0.0|                  0.0|                          NULL|                     0.0|                   0.0|                           NULL|             NULL|        NULL|                    NULL|         NULL|                     NULL|                 NULL|                             NULL|                  NULL|                              NULL|       NULL|     NULL|                    NULL|                  NULL|              NULL|                           NULL|         NULL|          NULL|       NULL|              NULL|             NULL|                   NULL|          NULL|            NULL|                     NULL|                          NULL|                         NULL|                               NULL|                      NULL|                                 NULL|                          NULL|                                      NULL|             0.0|             54.42|      18.6|         2.58|         1.34|       1803.99|           NULL|               597.03|               9.59|          NULL|        NULL|                 37.75|                       0.5|          64.83|                   0.51|  41128772|                                NULL|                       NULL|            NULL|                                   NULL|\n",
            "|     AFG|     Asia|Afghanistan|2020-01-06|          0|        0|              NULL|           0|         0|               NULL|                    0.0|                  0.0|                          NULL|                     0.0|                   0.0|                           NULL|             NULL|        NULL|                    NULL|         NULL|                     NULL|                 NULL|                             NULL|                  NULL|                              NULL|       NULL|     NULL|                    NULL|                  NULL|              NULL|                           NULL|         NULL|          NULL|       NULL|              NULL|             NULL|                   NULL|          NULL|            NULL|                     NULL|                          NULL|                         NULL|                               NULL|                      NULL|                                 NULL|                          NULL|                                      NULL|             0.0|             54.42|      18.6|         2.58|         1.34|       1803.99|           NULL|               597.03|               9.59|          NULL|        NULL|                 37.75|                       0.5|          64.83|                   0.51|  41128772|                                NULL|                       NULL|            NULL|                                   NULL|\n",
            "|     AFG|     Asia|Afghanistan|2020-01-07|          0|        0|              NULL|           0|         0|               NULL|                    0.0|                  0.0|                          NULL|                     0.0|                   0.0|                           NULL|             NULL|        NULL|                    NULL|         NULL|                     NULL|                 NULL|                             NULL|                  NULL|                              NULL|       NULL|     NULL|                    NULL|                  NULL|              NULL|                           NULL|         NULL|          NULL|       NULL|              NULL|             NULL|                   NULL|          NULL|            NULL|                     NULL|                          NULL|                         NULL|                               NULL|                      NULL|                                 NULL|                          NULL|                                      NULL|             0.0|             54.42|      18.6|         2.58|         1.34|       1803.99|           NULL|               597.03|               9.59|          NULL|        NULL|                 37.75|                       0.5|          64.83|                   0.51|  41128772|                                NULL|                       NULL|            NULL|                                   NULL|\n",
            "|     AFG|     Asia|Afghanistan|2020-01-08|          0|        0|              NULL|           0|         0|               NULL|                    0.0|                  0.0|                          NULL|                     0.0|                   0.0|                           NULL|             NULL|        NULL|                    NULL|         NULL|                     NULL|                 NULL|                             NULL|                  NULL|                              NULL|       NULL|     NULL|                    NULL|                  NULL|              NULL|                           NULL|         NULL|          NULL|       NULL|              NULL|             NULL|                   NULL|          NULL|            NULL|                     NULL|                          NULL|                         NULL|                               NULL|                      NULL|                                 NULL|                          NULL|                                      NULL|             0.0|             54.42|      18.6|         2.58|         1.34|       1803.99|           NULL|               597.03|               9.59|          NULL|        NULL|                 37.75|                       0.5|          64.83|                   0.51|  41128772|                                NULL|                       NULL|            NULL|                                   NULL|\n",
            "|     AFG|     Asia|Afghanistan|2020-01-09|          0|        0|              NULL|           0|         0|               NULL|                    0.0|                  0.0|                          NULL|                     0.0|                   0.0|                           NULL|             NULL|        NULL|                    NULL|         NULL|                     NULL|                 NULL|                             NULL|                  NULL|                              NULL|       NULL|     NULL|                    NULL|                  NULL|              NULL|                           NULL|         NULL|          NULL|       NULL|              NULL|             NULL|                   NULL|          NULL|            NULL|                     NULL|                          NULL|                         NULL|                               NULL|                      NULL|                                 NULL|                          NULL|                                      NULL|             0.0|             54.42|      18.6|         2.58|         1.34|       1803.99|           NULL|               597.03|               9.59|          NULL|        NULL|                 37.75|                       0.5|          64.83|                   0.51|  41128772|                                NULL|                       NULL|            NULL|                                   NULL|\n",
            "|     AFG|     Asia|Afghanistan|2020-01-10|          0|        0|               0.0|           0|         0|                0.0|                    0.0|                  0.0|                           0.0|                     0.0|                   0.0|                            0.0|             NULL|        NULL|                    NULL|         NULL|                     NULL|                 NULL|                             NULL|                  NULL|                              NULL|       NULL|     NULL|                    NULL|                  NULL|              NULL|                           NULL|         NULL|          NULL|       NULL|              NULL|             NULL|                   NULL|          NULL|            NULL|                     NULL|                          NULL|                         NULL|                               NULL|                      NULL|                                 NULL|                          NULL|                                      NULL|             0.0|             54.42|      18.6|         2.58|         1.34|       1803.99|           NULL|               597.03|               9.59|          NULL|        NULL|                 37.75|                       0.5|          64.83|                   0.51|  41128772|                                NULL|                       NULL|            NULL|                                   NULL|\n",
            "|     AFG|     Asia|Afghanistan|2020-01-11|          0|        0|               0.0|           0|         0|                0.0|                    0.0|                  0.0|                           0.0|                     0.0|                   0.0|                            0.0|             NULL|        NULL|                    NULL|         NULL|                     NULL|                 NULL|                             NULL|                  NULL|                              NULL|       NULL|     NULL|                    NULL|                  NULL|              NULL|                           NULL|         NULL|          NULL|       NULL|              NULL|             NULL|                   NULL|          NULL|            NULL|                     NULL|                          NULL|                         NULL|                               NULL|                      NULL|                                 NULL|                          NULL|                                      NULL|             0.0|             54.42|      18.6|         2.58|         1.34|       1803.99|           NULL|               597.03|               9.59|          NULL|        NULL|                 37.75|                       0.5|          64.83|                   0.51|  41128772|                                NULL|                       NULL|            NULL|                                   NULL|\n",
            "|     AFG|     Asia|Afghanistan|2020-01-12|          0|        0|               0.0|           0|         0|                0.0|                    0.0|                  0.0|                           0.0|                     0.0|                   0.0|                            0.0|             NULL|        NULL|                    NULL|         NULL|                     NULL|                 NULL|                             NULL|                  NULL|                              NULL|       NULL|     NULL|                    NULL|                  NULL|              NULL|                           NULL|         NULL|          NULL|       NULL|              NULL|             NULL|                   NULL|          NULL|            NULL|                     NULL|                          NULL|                         NULL|                               NULL|                      NULL|                                 NULL|                          NULL|                                      NULL|             0.0|             54.42|      18.6|         2.58|         1.34|       1803.99|           NULL|               597.03|               9.59|          NULL|        NULL|                 37.75|                       0.5|          64.83|                   0.51|  41128772|                                NULL|                       NULL|            NULL|                                   NULL|\n",
            "|     AFG|     Asia|Afghanistan|2020-01-13|          0|        0|               0.0|           0|         0|                0.0|                    0.0|                  0.0|                           0.0|                     0.0|                   0.0|                            0.0|             NULL|        NULL|                    NULL|         NULL|                     NULL|                 NULL|                             NULL|                  NULL|                              NULL|       NULL|     NULL|                    NULL|                  NULL|              NULL|                           NULL|         NULL|          NULL|       NULL|              NULL|             NULL|                   NULL|          NULL|            NULL|                     NULL|                          NULL|                         NULL|                               NULL|                      NULL|                                 NULL|                          NULL|                                      NULL|             0.0|             54.42|      18.6|         2.58|         1.34|       1803.99|           NULL|               597.03|               9.59|          NULL|        NULL|                 37.75|                       0.5|          64.83|                   0.51|  41128772|                                NULL|                       NULL|            NULL|                                   NULL|\n",
            "|     AFG|     Asia|Afghanistan|2020-01-14|          0|        0|               0.0|           0|         0|                0.0|                    0.0|                  0.0|                           0.0|                     0.0|                   0.0|                            0.0|             NULL|        NULL|                    NULL|         NULL|                     NULL|                 NULL|                             NULL|                  NULL|                              NULL|       NULL|     NULL|                    NULL|                  NULL|              NULL|                           NULL|         NULL|          NULL|       NULL|              NULL|             NULL|                   NULL|          NULL|            NULL|                     NULL|                          NULL|                         NULL|                               NULL|                      NULL|                                 NULL|                          NULL|                                      NULL|             0.0|             54.42|      18.6|         2.58|         1.34|       1803.99|           NULL|               597.03|               9.59|          NULL|        NULL|                 37.75|                       0.5|          64.83|                   0.51|  41128772|                                NULL|                       NULL|            NULL|                                   NULL|\n",
            "|     AFG|     Asia|Afghanistan|2020-01-15|          0|        0|               0.0|           0|         0|                0.0|                    0.0|                  0.0|                           0.0|                     0.0|                   0.0|                            0.0|             NULL|        NULL|                    NULL|         NULL|                     NULL|                 NULL|                             NULL|                  NULL|                              NULL|       NULL|     NULL|                    NULL|                  NULL|              NULL|                           NULL|         NULL|          NULL|       NULL|              NULL|             NULL|                   NULL|          NULL|            NULL|                     NULL|                          NULL|                         NULL|                               NULL|                      NULL|                                 NULL|                          NULL|                                      NULL|             0.0|             54.42|      18.6|         2.58|         1.34|       1803.99|           NULL|               597.03|               9.59|          NULL|        NULL|                 37.75|                       0.5|          64.83|                   0.51|  41128772|                                NULL|                       NULL|            NULL|                                   NULL|\n",
            "|     AFG|     Asia|Afghanistan|2020-01-16|          0|        0|               0.0|           0|         0|                0.0|                    0.0|                  0.0|                           0.0|                     0.0|                   0.0|                            0.0|             NULL|        NULL|                    NULL|         NULL|                     NULL|                 NULL|                             NULL|                  NULL|                              NULL|       NULL|     NULL|                    NULL|                  NULL|              NULL|                           NULL|         NULL|          NULL|       NULL|              NULL|             NULL|                   NULL|          NULL|            NULL|                     NULL|                          NULL|                         NULL|                               NULL|                      NULL|                                 NULL|                          NULL|                                      NULL|             0.0|             54.42|      18.6|         2.58|         1.34|       1803.99|           NULL|               597.03|               9.59|          NULL|        NULL|                 37.75|                       0.5|          64.83|                   0.51|  41128772|                                NULL|                       NULL|            NULL|                                   NULL|\n",
            "|     AFG|     Asia|Afghanistan|2020-01-17|          0|        0|               0.0|           0|         0|                0.0|                    0.0|                  0.0|                           0.0|                     0.0|                   0.0|                            0.0|             NULL|        NULL|                    NULL|         NULL|                     NULL|                 NULL|                             NULL|                  NULL|                              NULL|       NULL|     NULL|                    NULL|                  NULL|              NULL|                           NULL|         NULL|          NULL|       NULL|              NULL|             NULL|                   NULL|          NULL|            NULL|                     NULL|                          NULL|                         NULL|                               NULL|                      NULL|                                 NULL|                          NULL|                                      NULL|             0.0|             54.42|      18.6|         2.58|         1.34|       1803.99|           NULL|               597.03|               9.59|          NULL|        NULL|                 37.75|                       0.5|          64.83|                   0.51|  41128772|                                NULL|                       NULL|            NULL|                                   NULL|\n",
            "|     AFG|     Asia|Afghanistan|2020-01-18|          0|        0|               0.0|           0|         0|                0.0|                    0.0|                  0.0|                           0.0|                     0.0|                   0.0|                            0.0|             NULL|        NULL|                    NULL|         NULL|                     NULL|                 NULL|                             NULL|                  NULL|                              NULL|       NULL|     NULL|                    NULL|                  NULL|              NULL|                           NULL|         NULL|          NULL|       NULL|              NULL|             NULL|                   NULL|          NULL|            NULL|                     NULL|                          NULL|                         NULL|                               NULL|                      NULL|                                 NULL|                          NULL|                                      NULL|             0.0|             54.42|      18.6|         2.58|         1.34|       1803.99|           NULL|               597.03|               9.59|          NULL|        NULL|                 37.75|                       0.5|          64.83|                   0.51|  41128772|                                NULL|                       NULL|            NULL|                                   NULL|\n",
            "|     AFG|     Asia|Afghanistan|2020-01-19|          0|        0|               0.0|           0|         0|                0.0|                    0.0|                  0.0|                           0.0|                     0.0|                   0.0|                            0.0|             NULL|        NULL|                    NULL|         NULL|                     NULL|                 NULL|                             NULL|                  NULL|                              NULL|       NULL|     NULL|                    NULL|                  NULL|              NULL|                           NULL|         NULL|          NULL|       NULL|              NULL|             NULL|                   NULL|          NULL|            NULL|                     NULL|                          NULL|                         NULL|                               NULL|                      NULL|                                 NULL|                          NULL|                                      NULL|             0.0|             54.42|      18.6|         2.58|         1.34|       1803.99|           NULL|               597.03|               9.59|          NULL|        NULL|                 37.75|                       0.5|          64.83|                   0.51|  41128772|                                NULL|                       NULL|            NULL|                                   NULL|\n",
            "|     AFG|     Asia|Afghanistan|2020-01-20|          0|        0|               0.0|           0|         0|                0.0|                    0.0|                  0.0|                           0.0|                     0.0|                   0.0|                            0.0|             NULL|        NULL|                    NULL|         NULL|                     NULL|                 NULL|                             NULL|                  NULL|                              NULL|       NULL|     NULL|                    NULL|                  NULL|              NULL|                           NULL|         NULL|          NULL|       NULL|              NULL|             NULL|                   NULL|          NULL|            NULL|                     NULL|                          NULL|                         NULL|                               NULL|                      NULL|                                 NULL|                          NULL|                                      NULL|             0.0|             54.42|      18.6|         2.58|         1.34|       1803.99|           NULL|               597.03|               9.59|          NULL|        NULL|                 37.75|                       0.5|          64.83|                   0.51|  41128772|                                NULL|                       NULL|            NULL|                                   NULL|\n",
            "|     AFG|     Asia|Afghanistan|2020-01-21|          0|        0|               0.0|           0|         0|                0.0|                    0.0|                  0.0|                           0.0|                     0.0|                   0.0|                            0.0|             NULL|        NULL|                    NULL|         NULL|                     NULL|                 NULL|                             NULL|                  NULL|                              NULL|       NULL|     NULL|                    NULL|                  NULL|              NULL|                           NULL|         NULL|          NULL|       NULL|              NULL|             NULL|                   NULL|          NULL|            NULL|                     NULL|                          NULL|                         NULL|                               NULL|                      NULL|                                 NULL|                          NULL|                                      NULL|             0.0|             54.42|      18.6|         2.58|         1.34|       1803.99|           NULL|               597.03|               9.59|          NULL|        NULL|                 37.75|                       0.5|          64.83|                   0.51|  41128772|                                NULL|                       NULL|            NULL|                                   NULL|\n",
            "|     AFG|     Asia|Afghanistan|2020-01-22|          0|        0|               0.0|           0|         0|                0.0|                    0.0|                  0.0|                           0.0|                     0.0|                   0.0|                            0.0|             NULL|        NULL|                    NULL|         NULL|                     NULL|                 NULL|                             NULL|                  NULL|                              NULL|       NULL|     NULL|                    NULL|                  NULL|              NULL|                           NULL|         NULL|          NULL|       NULL|              NULL|             NULL|                   NULL|          NULL|            NULL|                     NULL|                          NULL|                         NULL|                               NULL|                      NULL|                                 NULL|                          NULL|                                      NULL|             0.0|             54.42|      18.6|         2.58|         1.34|       1803.99|           NULL|               597.03|               9.59|          NULL|        NULL|                 37.75|                       0.5|          64.83|                   0.51|  41128772|                                NULL|                       NULL|            NULL|                                   NULL|\n",
            "|     AFG|     Asia|Afghanistan|2020-01-23|          0|        0|               0.0|           0|         0|                0.0|                    0.0|                  0.0|                           0.0|                     0.0|                   0.0|                            0.0|             NULL|        NULL|                    NULL|         NULL|                     NULL|                 NULL|                             NULL|                  NULL|                              NULL|       NULL|     NULL|                    NULL|                  NULL|              NULL|                           NULL|         NULL|          NULL|       NULL|              NULL|             NULL|                   NULL|          NULL|            NULL|                     NULL|                          NULL|                         NULL|                               NULL|                      NULL|                                 NULL|                          NULL|                                      NULL|             0.0|             54.42|      18.6|         2.58|         1.34|       1803.99|           NULL|               597.03|               9.59|          NULL|        NULL|                 37.75|                       0.5|          64.83|                   0.51|  41128772|                                NULL|                       NULL|            NULL|                                   NULL|\n",
            "|     AFG|     Asia|Afghanistan|2020-01-24|          0|        0|               0.0|           0|         0|                0.0|                    0.0|                  0.0|                           0.0|                     0.0|                   0.0|                            0.0|             NULL|        NULL|                    NULL|         NULL|                     NULL|                 NULL|                             NULL|                  NULL|                              NULL|       NULL|     NULL|                    NULL|                  NULL|              NULL|                           NULL|         NULL|          NULL|       NULL|              NULL|             NULL|                   NULL|          NULL|            NULL|                     NULL|                          NULL|                         NULL|                               NULL|                      NULL|                                 NULL|                          NULL|                                      NULL|             0.0|             54.42|      18.6|         2.58|         1.34|       1803.99|           NULL|               597.03|               9.59|          NULL|        NULL|                 37.75|                       0.5|          64.83|                   0.51|  41128772|                                NULL|                       NULL|            NULL|                                   NULL|\n",
            "+--------+---------+-----------+----------+-----------+---------+------------------+------------+----------+-------------------+-----------------------+---------------------+------------------------------+------------------------+----------------------+-------------------------------+-----------------+------------+------------------------+-------------+-------------------------+---------------------+---------------------------------+----------------------+----------------------------------+-----------+---------+------------------------+----------------------+------------------+-------------------------------+-------------+--------------+-----------+------------------+-----------------+-----------------------+--------------+----------------+-------------------------+------------------------------+-----------------------------+-----------------------------------+--------------------------+-------------------------------------+------------------------------+------------------------------------------+----------------+------------------+----------+-------------+-------------+--------------+---------------+---------------------+-------------------+--------------+------------+----------------------+--------------------------+---------------+-----------------------+----------+------------------------------------+---------------------------+----------------+---------------------------------------+\n",
            "only showing top 20 rows\n",
            "\n"
          ]
        }
      ]
    },
    {
      "cell_type": "markdown",
      "source": [
        "# Find number of null rows in total deaths"
      ],
      "metadata": {
        "id": "0jBlXfXtNx_6"
      }
    },
    {
      "cell_type": "code",
      "source": [
        "from pyspark.sql.functions import col, sum, avg"
      ],
      "metadata": {
        "id": "XMZ1AQpzODxo"
      },
      "execution_count": 27,
      "outputs": []
    },
    {
      "cell_type": "code",
      "source": [
        "df.select(sum(col(\"total_deaths\").isNull().cast(\"int\")).alias(\"NullCount\"))"
      ],
      "metadata": {
        "id": "c0Fs7n9MXrSe",
        "outputId": "2c45b516-20fc-46f8-b0d3-580732c4d88f",
        "colab": {
          "base_uri": "https://localhost:8080/"
        }
      },
      "execution_count": 33,
      "outputs": [
        {
          "output_type": "execute_result",
          "data": {
            "text/plain": [
              "DataFrame[NullCount: bigint]"
            ]
          },
          "metadata": {},
          "execution_count": 33
        }
      ]
    },
    {
      "cell_type": "code",
      "source": [
        "# Method1\n",
        "df.select(sum(col(\"total_deaths\").isNull().cast(\"int\")).alias(\"NullCount\")).show()"
      ],
      "metadata": {
        "colab": {
          "base_uri": "https://localhost:8080/"
        },
        "id": "-xpsJ3cGMzj9",
        "outputId": "2b923bbb-9bc9-48b2-b8db-c4a8234879b4"
      },
      "execution_count": 34,
      "outputs": [
        {
          "output_type": "stream",
          "name": "stdout",
          "text": [
            "+---------+\n",
            "|NullCount|\n",
            "+---------+\n",
            "|    17631|\n",
            "+---------+\n",
            "\n"
          ]
        }
      ]
    },
    {
      "cell_type": "code",
      "source": [
        "# Method2\n",
        "df.filter(\"total_deaths IS NULL\").count()"
      ],
      "metadata": {
        "colab": {
          "base_uri": "https://localhost:8080/"
        },
        "id": "Y91XzHNZN5t-",
        "outputId": "17e7aaf1-2bec-431d-b3b8-bdfdd269db8f"
      },
      "execution_count": 29,
      "outputs": [
        {
          "output_type": "execute_result",
          "data": {
            "text/plain": [
              "17631"
            ]
          },
          "metadata": {},
          "execution_count": 29
        }
      ]
    },
    {
      "cell_type": "markdown",
      "source": [
        "# Find average number of deaths per location"
      ],
      "metadata": {
        "id": "DyzbQ37vOmZR"
      }
    },
    {
      "cell_type": "code",
      "source": [
        "#Method1\n",
        "df.groupBy(\"location\").agg(sum(\"total_deaths\").alias(\"total_deaths\")).select(avg(col(\"total_deaths\")).alias(\"AverageDeaths\")).show()"
      ],
      "metadata": {
        "colab": {
          "base_uri": "https://localhost:8080/"
        },
        "id": "b5wObTsBOood",
        "outputId": "541d8c56-8809-4b85-f8e6-6325ab58dfd8"
      },
      "execution_count": 30,
      "outputs": [
        {
          "output_type": "stream",
          "name": "stdout",
          "text": [
            "+--------------------+\n",
            "|       AverageDeaths|\n",
            "+--------------------+\n",
            "|1.3602852734146342E8|\n",
            "+--------------------+\n",
            "\n"
          ]
        }
      ]
    },
    {
      "cell_type": "code",
      "source": [
        "df.groupBy(\"location\").agg(avg(col(\"total_deaths\")).alias(\"AverageDeathsperLocation\")).orderBy(\"AverageDeathsperLocation\", ascending=False).show()"
      ],
      "metadata": {
        "id": "DvwZoBboYL0G",
        "outputId": "ebf9821d-7028-46a1-dc43-5b295895f397",
        "colab": {
          "base_uri": "https://localhost:8080/"
        }
      },
      "execution_count": 35,
      "outputs": [
        {
          "output_type": "stream",
          "name": "stdout",
          "text": [
            "+--------------------+------------------------+\n",
            "|            location|AverageDeathsperLocation|\n",
            "+--------------------+------------------------+\n",
            "|               World|      4784922.9301075265|\n",
            "|High-income count...|       1973653.174432497|\n",
            "|Upper-middle-inco...|      1950755.4677419355|\n",
            "|              Europe|       1410457.609916368|\n",
            "|       North America|      1123438.5167264037|\n",
            "|                Asia|      1069536.9653524493|\n",
            "|       South America|       983825.7897252091|\n",
            "| European Union (27)|       852482.2956989247|\n",
            "|Lower-middle-inco...|       827846.0722819594|\n",
            "|       United States|       777909.9964157706|\n",
            "|              Brazil|      505097.67144563916|\n",
            "|               India|      380320.23178016726|\n",
            "|              Russia|      256931.14994026284|\n",
            "|              Mexico|       251657.1714456392|\n",
            "|              Africa|      183366.67562724015|\n",
            "|                Peru|      169138.48207885303|\n",
            "|      United Kingdom|       165832.2616487455|\n",
            "|               Italy|       135473.0310633214|\n",
            "|              France|      117994.49641577061|\n",
            "|             Germany|      113734.65770609319|\n",
            "+--------------------+------------------------+\n",
            "only showing top 20 rows\n",
            "\n"
          ]
        }
      ]
    },
    {
      "cell_type": "code",
      "source": [
        "#Method2\n",
        "df.groupBy(\"location\").agg(sum(\"total_deaths\").alias(\"total_deaths\")).selectExpr(\"avg(total_deaths) AS AverageDeaths\").show()"
      ],
      "metadata": {
        "colab": {
          "base_uri": "https://localhost:8080/"
        },
        "id": "MdAqjYv5O49q",
        "outputId": "85e0e8d0-b48a-46d3-e49a-679d4db4a4ac"
      },
      "execution_count": 31,
      "outputs": [
        {
          "output_type": "stream",
          "name": "stdout",
          "text": [
            "+--------------------+\n",
            "|       AverageDeaths|\n",
            "+--------------------+\n",
            "|1.3602852734146342E8|\n",
            "+--------------------+\n",
            "\n"
          ]
        }
      ]
    },
    {
      "cell_type": "markdown",
      "source": [
        "---\n",
        "\n"
      ],
      "metadata": {
        "id": "aoVfU19ePKVP"
      }
    }
  ]
}