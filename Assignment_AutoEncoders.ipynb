{
  "nbformat": 4,
  "nbformat_minor": 0,
  "metadata": {
    "colab": {
      "provenance": [],
      "gpuType": "T4",
      "include_colab_link": true
    },
    "kernelspec": {
      "name": "python3",
      "display_name": "Python 3"
    },
    "language_info": {
      "name": "python"
    },
    "accelerator": "GPU"
  },
  "cells": [
    {
      "cell_type": "markdown",
      "metadata": {
        "id": "view-in-github",
        "colab_type": "text"
      },
      "source": [
        "<a href=\"https://colab.research.google.com/github/arutraj/.githubcl/blob/main/Assignment_AutoEncoders.ipynb\" target=\"_parent\"><img src=\"https://colab.research.google.com/assets/colab-badge.svg\" alt=\"Open In Colab\"/></a>"
      ]
    },
    {
      "cell_type": "markdown",
      "source": [
        "# AutoEncoders for Supervised Anomaly Detection"
      ],
      "metadata": {
        "id": "MfW9kk5f4AuK"
      }
    },
    {
      "cell_type": "markdown",
      "source": [
        "## Anomaly Detection: Detecting the Unusual"
      ],
      "metadata": {
        "id": "nB7_BZcs5z1N"
      }
    },
    {
      "cell_type": "markdown",
      "source": [
        "Anomaly detection is a crucial task in various domains, where the objective is to identify rare and abnormal instances that deviate significantly from the expected or normal behavior. It plays a vital role in fraud detection, network security, system monitoring, and predictive maintenance."
      ],
      "metadata": {
        "id": "P27H9Eq1582q"
      }
    },
    {
      "cell_type": "markdown",
      "source": [
        "## Autoencoders for Unsupervised Anomaly Detection"
      ],
      "metadata": {
        "id": "N7hWLq-N5_D1"
      }
    },
    {
      "cell_type": "markdown",
      "source": [
        "In the unsupervised setting, autoencoders are trained to reconstruct the input data accurately. The idea is that the model learns to encode the normal instances in a compressed representation and then decodes them back to their original form. Anomalies, being different from the normal patterns, are expected to have higher reconstruction errors. By setting a suitable threshold on the reconstruction error, anomalies can be identified."
      ],
      "metadata": {
        "id": "siq27OcB6HNH"
      }
    },
    {
      "cell_type": "markdown",
      "source": [
        "## Incorporating Supervision with Autoencoder Features"
      ],
      "metadata": {
        "id": "hhGw6NaZ6MVB"
      }
    },
    {
      "cell_type": "markdown",
      "source": [
        "**In this exercise, we will explore a different approach by incorporating supervision into the anomaly detection process. We will still employ autoencoders, but instead of relying solely on the reconstruction error for anomaly detection, we will leverage the learned features from the encoder part of the autoencoder and utilize them to learn a supervised classifier to detect anomalies.**\n",
        "\n",
        "In this exercise you will:\n",
        "\n",
        "\n",
        "\n",
        "*   Learn how to train AutoEncoders on Relational Data.\n",
        "*   Learn how compressed representations from an AutoEncoder can help achieve performance comparable to original dimensions on downstream task.\n",
        "*   Learn how to use AutoEncoder for Supervised Anomaly Detection tasks.\n",
        "\n",
        "\n",
        "\n"
      ],
      "metadata": {
        "id": "hDXh3_La6RDg"
      }
    },
    {
      "cell_type": "markdown",
      "source": [
        "*This notebook is designed to help you guide how to approach this assignment.*\n",
        "\n",
        "<i><font color='blue'>Some parts of the notebook are left as exercise for you and are the corresponding headers are marked in blue</font></i>"
      ],
      "metadata": {
        "id": "tYt0_TB7FKo8"
      }
    },
    {
      "cell_type": "markdown",
      "source": [
        "# Exploring the Dataset"
      ],
      "metadata": {
        "id": "kHaTng5d7K24"
      }
    },
    {
      "cell_type": "markdown",
      "source": [
        "* Create a directory called **kdd-data** in the root (**My Drive**) of your Google Drive.\n",
        "* Upload the provided **kdd-data.zip** to this **kdd-data** directory."
      ],
      "metadata": {
        "id": "Zz7p4g7b9DGK"
      }
    },
    {
      "cell_type": "markdown",
      "source": [
        "## Importing the required libraries"
      ],
      "metadata": {
        "id": "BivsqqG_BSgx"
      }
    },
    {
      "cell_type": "code",
      "source": [
        "import pandas as pd\n",
        "import numpy as np\n",
        "from sklearn.preprocessing import MinMaxScaler\n",
        "from tensorflow.keras import layers, Model, models\n",
        "from sklearn.metrics import classification_report, confusion_matrix\n",
        "from google.colab import drive\n",
        "from sklearn.model_selection import train_test_split\n",
        "from sklearn.preprocessing import OneHotEncoder\n",
        "import matplotlib.pyplot as plt\n",
        "from tensorflow.keras.optimizers import Adam\n",
        "import seaborn as sns"
      ],
      "metadata": {
        "id": "iNr-OF6nBhK2"
      },
      "execution_count": 1,
      "outputs": []
    },
    {
      "cell_type": "markdown",
      "source": [
        "## Mount the Google Drive"
      ],
      "metadata": {
        "id": "xGd8eaou92DF"
      }
    },
    {
      "cell_type": "markdown",
      "source": [
        "After mounting the drive, the **kdd-data.zip** should appear at the following path in the left (**Files**) pane in Colab: **/content/gdrive/MyDrive/kdd-data/kdd-data.zip.**\n",
        "\n",
        "If it doesn't, make sure you recheck and follow the steps mentioned above."
      ],
      "metadata": {
        "id": "IYTxeU8i984x"
      }
    },
    {
      "cell_type": "code",
      "source": [
        "drive.mount('/content/gdrive', force_remount=True)"
      ],
      "metadata": {
        "id": "7cOyH6GVgoKo"
      },
      "execution_count": null,
      "outputs": []
    },
    {
      "cell_type": "markdown",
      "source": [
        "## Upzip the Data Zip Archive"
      ],
      "metadata": {
        "id": "aX4dL2KP-mPV"
      }
    },
    {
      "cell_type": "code",
      "source": [
        "#!unzip /content/gdrive/MyDrive/kdd-data/kdd-data.zip -d /content/gdrive/MyDrive/kdd-data/\n",
        "!unzip /content/kddcup.data_10_percent.zip"
      ],
      "metadata": {
        "id": "GXcTRi7Agy4c",
        "outputId": "b674b1ab-a5da-452a-c388-51caaeb0a0ba",
        "colab": {
          "base_uri": "https://localhost:8080/"
        }
      },
      "execution_count": 2,
      "outputs": [
        {
          "output_type": "stream",
          "name": "stdout",
          "text": [
            "Archive:  /content/kddcup.data_10_percent.zip\n",
            "   creating: kddcup.data_10_percent/\n",
            "  inflating: __MACOSX/._kddcup.data_10_percent  \n",
            "  inflating: kddcup.data_10_percent/kddcup.data_10_percent  \n",
            "  inflating: __MACOSX/kddcup.data_10_percent/._kddcup.data_10_percent  \n"
          ]
        }
      ]
    },
    {
      "cell_type": "markdown",
      "source": [
        "The uncompressed data should now be available under **/content/gdrive/MyDrive/kdd-data/**"
      ],
      "metadata": {
        "id": "IZryxw5v-shw"
      }
    },
    {
      "cell_type": "markdown",
      "source": [
        "## Description of the KDD Cup 1999 Data"
      ],
      "metadata": {
        "id": "9yF_dfax-4XD"
      }
    },
    {
      "cell_type": "markdown",
      "source": [
        "The KDD Cup 1999 dataset is a widely used benchmark dataset in the field of anomaly detection and network security. It was created as part of the Third International Knowledge Discovery and Data Mining Tools Competition, held in 1999.\n",
        "\n",
        "The dataset contains a large set of network traffic data captured from various sources, simulating a network environment. It includes a wide range of features that represent different aspects of network connections, such as duration, protocol type, service, flag, source and destination bytes, and more.\n",
        "\n",
        "The primary goal of the KDD Cup 1999 dataset is to classify network connections as either \"normal\" or \"anomalous.\"\n",
        "\n",
        "The dataset includes a categorical label column called \"label,\" which categorizes network connections into various attack types, such as \"normal,\" \"dos\" (denial-of-service), \"probe\" (scanning and probing), \"r2l\" (unauthorized access from a remote machine), and \"u2r\" (unauthorized access to local root privileges)."
      ],
      "metadata": {
        "id": "kdMvHerC_QSs"
      }
    },
    {
      "cell_type": "markdown",
      "source": [
        "## Loading the dataset"
      ],
      "metadata": {
        "id": "L9bBdDel_zz5"
      }
    },
    {
      "cell_type": "markdown",
      "source": [
        "The KDD Dataset contains around 5 million instances of network traffic data. Each instance represents a network connection with various features and a corresponding label.\n",
        "\n",
        "Due to the resource limitations in Colab, we will utilize a smaller subset of the data by using a 10% split (kddcup.data_10_percent) for training our models. This subset will allow us to work within the resource constraints while still providing enough data for training and evaluation.\n",
        "\n",
        "The description of the dataset, along with the features is available [here](https://kdd.ics.uci.edu/databases/kddcup99/task.html)."
      ],
      "metadata": {
        "id": "xn2oA8S1_64x"
      }
    },
    {
      "cell_type": "markdown",
      "source": [
        "The dataset file doesn't contain any header. Therefore loading the header information about the dataset as described [here](https://kdd.ics.uci.edu/databases/kddcup99/kddcup.names)."
      ],
      "metadata": {
        "id": "4Nx73A03CQUK"
      }
    },
    {
      "cell_type": "code",
      "source": [
        "# Load the KDD Cup 1999 dataset\n",
        "\n",
        "data = pd.read_csv('/content/kddcup.data_10_percent/kddcup.data_10_percent', header=None)"
      ],
      "metadata": {
        "id": "cz9dsBtl_zJp"
      },
      "execution_count": 16,
      "outputs": []
    },
    {
      "cell_type": "code",
      "source": [
        "# Define the column names\n",
        "column_names = [\"duration\", \"protocol_type\", \"service\", \"flag\", \"src_bytes\",\n",
        "                \"dst_bytes\", \"land\", \"wrong_fragment\", \"urgent\", \"hot\",\n",
        "                \"num_failed_logins\", \"logged_in\", \"num_compromised\",\n",
        "                \"root_shell\", \"su_attempted\", \"num_root\", \"num_file_creations\",\n",
        "                \"num_shells\", \"num_access_files\", \"num_outbound_cmds\",\n",
        "                \"is_host_login\", \"is_guest_login\", \"count\", \"srv_count\",\n",
        "                \"serror_rate\", \"srv_serror_rate\", \"rerror_rate\", \"srv_rerror_rate\",\n",
        "                \"same_srv_rate\", \"diff_srv_rate\", \"srv_diff_host_rate\",\n",
        "                \"dst_host_count\", \"dst_host_srv_count\", \"dst_host_same_srv_rate\",\n",
        "                \"dst_host_diff_srv_rate\", \"dst_host_same_src_port_rate\",\n",
        "                \"dst_host_srv_diff_host_rate\", \"dst_host_serror_rate\",\n",
        "                \"dst_host_srv_serror_rate\", \"dst_host_rerror_rate\",\n",
        "                \"dst_host_srv_rerror_rate\", \"label\"]\n",
        "\n",
        "# Assign the column names to the dataset\n",
        "data.columns = column_names"
      ],
      "metadata": {
        "id": "ehmK5ZWImYq8"
      },
      "execution_count": 17,
      "outputs": []
    },
    {
      "cell_type": "code",
      "source": [
        "data.shape"
      ],
      "metadata": {
        "id": "ZH7aQ7Rqx5O4",
        "outputId": "bcf3aacc-917d-45ec-8913-c52bb482c23b",
        "colab": {
          "base_uri": "https://localhost:8080/"
        }
      },
      "execution_count": 18,
      "outputs": [
        {
          "output_type": "execute_result",
          "data": {
            "text/plain": [
              "(494021, 42)"
            ]
          },
          "metadata": {},
          "execution_count": 18
        }
      ]
    },
    {
      "cell_type": "markdown",
      "source": [
        "## Checkout the first few rows of the dataset"
      ],
      "metadata": {
        "id": "S6INqNJVD-N7"
      }
    },
    {
      "cell_type": "code",
      "source": [
        "pd.set_option('display.max_columns', None)\n",
        "data.head()"
      ],
      "metadata": {
        "id": "P0IFECBrEHoi",
        "outputId": "47cb7a99-af47-4b3a-e7a4-aee458a879e0",
        "colab": {
          "base_uri": "https://localhost:8080/",
          "height": 226
        }
      },
      "execution_count": 19,
      "outputs": [
        {
          "output_type": "execute_result",
          "data": {
            "text/plain": [
              "   duration protocol_type service flag  src_bytes  dst_bytes  land  \\\n",
              "0         0           tcp    http   SF        181       5450     0   \n",
              "1         0           tcp    http   SF        239        486     0   \n",
              "2         0           tcp    http   SF        235       1337     0   \n",
              "3         0           tcp    http   SF        219       1337     0   \n",
              "4         0           tcp    http   SF        217       2032     0   \n",
              "\n",
              "   wrong_fragment  urgent  hot  num_failed_logins  logged_in  num_compromised  \\\n",
              "0               0       0    0                  0          1                0   \n",
              "1               0       0    0                  0          1                0   \n",
              "2               0       0    0                  0          1                0   \n",
              "3               0       0    0                  0          1                0   \n",
              "4               0       0    0                  0          1                0   \n",
              "\n",
              "   root_shell  su_attempted  num_root  num_file_creations  num_shells  \\\n",
              "0           0             0         0                   0           0   \n",
              "1           0             0         0                   0           0   \n",
              "2           0             0         0                   0           0   \n",
              "3           0             0         0                   0           0   \n",
              "4           0             0         0                   0           0   \n",
              "\n",
              "   num_access_files  num_outbound_cmds  is_host_login  is_guest_login  count  \\\n",
              "0                 0                  0              0               0      8   \n",
              "1                 0                  0              0               0      8   \n",
              "2                 0                  0              0               0      8   \n",
              "3                 0                  0              0               0      6   \n",
              "4                 0                  0              0               0      6   \n",
              "\n",
              "   srv_count  serror_rate  srv_serror_rate  rerror_rate  srv_rerror_rate  \\\n",
              "0          8          0.0              0.0          0.0              0.0   \n",
              "1          8          0.0              0.0          0.0              0.0   \n",
              "2          8          0.0              0.0          0.0              0.0   \n",
              "3          6          0.0              0.0          0.0              0.0   \n",
              "4          6          0.0              0.0          0.0              0.0   \n",
              "\n",
              "   same_srv_rate  diff_srv_rate  srv_diff_host_rate  dst_host_count  \\\n",
              "0            1.0            0.0                 0.0               9   \n",
              "1            1.0            0.0                 0.0              19   \n",
              "2            1.0            0.0                 0.0              29   \n",
              "3            1.0            0.0                 0.0              39   \n",
              "4            1.0            0.0                 0.0              49   \n",
              "\n",
              "   dst_host_srv_count  dst_host_same_srv_rate  dst_host_diff_srv_rate  \\\n",
              "0                   9                     1.0                     0.0   \n",
              "1                  19                     1.0                     0.0   \n",
              "2                  29                     1.0                     0.0   \n",
              "3                  39                     1.0                     0.0   \n",
              "4                  49                     1.0                     0.0   \n",
              "\n",
              "   dst_host_same_src_port_rate  dst_host_srv_diff_host_rate  \\\n",
              "0                         0.11                          0.0   \n",
              "1                         0.05                          0.0   \n",
              "2                         0.03                          0.0   \n",
              "3                         0.03                          0.0   \n",
              "4                         0.02                          0.0   \n",
              "\n",
              "   dst_host_serror_rate  dst_host_srv_serror_rate  dst_host_rerror_rate  \\\n",
              "0                   0.0                       0.0                   0.0   \n",
              "1                   0.0                       0.0                   0.0   \n",
              "2                   0.0                       0.0                   0.0   \n",
              "3                   0.0                       0.0                   0.0   \n",
              "4                   0.0                       0.0                   0.0   \n",
              "\n",
              "   dst_host_srv_rerror_rate    label  \n",
              "0                       0.0  normal.  \n",
              "1                       0.0  normal.  \n",
              "2                       0.0  normal.  \n",
              "3                       0.0  normal.  \n",
              "4                       0.0  normal.  "
            ],
            "text/html": [
              "\n",
              "  <div id=\"df-ae4ae433-2b9d-4313-a694-3a58594855ba\" class=\"colab-df-container\">\n",
              "    <div>\n",
              "<style scoped>\n",
              "    .dataframe tbody tr th:only-of-type {\n",
              "        vertical-align: middle;\n",
              "    }\n",
              "\n",
              "    .dataframe tbody tr th {\n",
              "        vertical-align: top;\n",
              "    }\n",
              "\n",
              "    .dataframe thead th {\n",
              "        text-align: right;\n",
              "    }\n",
              "</style>\n",
              "<table border=\"1\" class=\"dataframe\">\n",
              "  <thead>\n",
              "    <tr style=\"text-align: right;\">\n",
              "      <th></th>\n",
              "      <th>duration</th>\n",
              "      <th>protocol_type</th>\n",
              "      <th>service</th>\n",
              "      <th>flag</th>\n",
              "      <th>src_bytes</th>\n",
              "      <th>dst_bytes</th>\n",
              "      <th>land</th>\n",
              "      <th>wrong_fragment</th>\n",
              "      <th>urgent</th>\n",
              "      <th>hot</th>\n",
              "      <th>num_failed_logins</th>\n",
              "      <th>logged_in</th>\n",
              "      <th>num_compromised</th>\n",
              "      <th>root_shell</th>\n",
              "      <th>su_attempted</th>\n",
              "      <th>num_root</th>\n",
              "      <th>num_file_creations</th>\n",
              "      <th>num_shells</th>\n",
              "      <th>num_access_files</th>\n",
              "      <th>num_outbound_cmds</th>\n",
              "      <th>is_host_login</th>\n",
              "      <th>is_guest_login</th>\n",
              "      <th>count</th>\n",
              "      <th>srv_count</th>\n",
              "      <th>serror_rate</th>\n",
              "      <th>srv_serror_rate</th>\n",
              "      <th>rerror_rate</th>\n",
              "      <th>srv_rerror_rate</th>\n",
              "      <th>same_srv_rate</th>\n",
              "      <th>diff_srv_rate</th>\n",
              "      <th>srv_diff_host_rate</th>\n",
              "      <th>dst_host_count</th>\n",
              "      <th>dst_host_srv_count</th>\n",
              "      <th>dst_host_same_srv_rate</th>\n",
              "      <th>dst_host_diff_srv_rate</th>\n",
              "      <th>dst_host_same_src_port_rate</th>\n",
              "      <th>dst_host_srv_diff_host_rate</th>\n",
              "      <th>dst_host_serror_rate</th>\n",
              "      <th>dst_host_srv_serror_rate</th>\n",
              "      <th>dst_host_rerror_rate</th>\n",
              "      <th>dst_host_srv_rerror_rate</th>\n",
              "      <th>label</th>\n",
              "    </tr>\n",
              "  </thead>\n",
              "  <tbody>\n",
              "    <tr>\n",
              "      <th>0</th>\n",
              "      <td>0</td>\n",
              "      <td>tcp</td>\n",
              "      <td>http</td>\n",
              "      <td>SF</td>\n",
              "      <td>181</td>\n",
              "      <td>5450</td>\n",
              "      <td>0</td>\n",
              "      <td>0</td>\n",
              "      <td>0</td>\n",
              "      <td>0</td>\n",
              "      <td>0</td>\n",
              "      <td>1</td>\n",
              "      <td>0</td>\n",
              "      <td>0</td>\n",
              "      <td>0</td>\n",
              "      <td>0</td>\n",
              "      <td>0</td>\n",
              "      <td>0</td>\n",
              "      <td>0</td>\n",
              "      <td>0</td>\n",
              "      <td>0</td>\n",
              "      <td>0</td>\n",
              "      <td>8</td>\n",
              "      <td>8</td>\n",
              "      <td>0.0</td>\n",
              "      <td>0.0</td>\n",
              "      <td>0.0</td>\n",
              "      <td>0.0</td>\n",
              "      <td>1.0</td>\n",
              "      <td>0.0</td>\n",
              "      <td>0.0</td>\n",
              "      <td>9</td>\n",
              "      <td>9</td>\n",
              "      <td>1.0</td>\n",
              "      <td>0.0</td>\n",
              "      <td>0.11</td>\n",
              "      <td>0.0</td>\n",
              "      <td>0.0</td>\n",
              "      <td>0.0</td>\n",
              "      <td>0.0</td>\n",
              "      <td>0.0</td>\n",
              "      <td>normal.</td>\n",
              "    </tr>\n",
              "    <tr>\n",
              "      <th>1</th>\n",
              "      <td>0</td>\n",
              "      <td>tcp</td>\n",
              "      <td>http</td>\n",
              "      <td>SF</td>\n",
              "      <td>239</td>\n",
              "      <td>486</td>\n",
              "      <td>0</td>\n",
              "      <td>0</td>\n",
              "      <td>0</td>\n",
              "      <td>0</td>\n",
              "      <td>0</td>\n",
              "      <td>1</td>\n",
              "      <td>0</td>\n",
              "      <td>0</td>\n",
              "      <td>0</td>\n",
              "      <td>0</td>\n",
              "      <td>0</td>\n",
              "      <td>0</td>\n",
              "      <td>0</td>\n",
              "      <td>0</td>\n",
              "      <td>0</td>\n",
              "      <td>0</td>\n",
              "      <td>8</td>\n",
              "      <td>8</td>\n",
              "      <td>0.0</td>\n",
              "      <td>0.0</td>\n",
              "      <td>0.0</td>\n",
              "      <td>0.0</td>\n",
              "      <td>1.0</td>\n",
              "      <td>0.0</td>\n",
              "      <td>0.0</td>\n",
              "      <td>19</td>\n",
              "      <td>19</td>\n",
              "      <td>1.0</td>\n",
              "      <td>0.0</td>\n",
              "      <td>0.05</td>\n",
              "      <td>0.0</td>\n",
              "      <td>0.0</td>\n",
              "      <td>0.0</td>\n",
              "      <td>0.0</td>\n",
              "      <td>0.0</td>\n",
              "      <td>normal.</td>\n",
              "    </tr>\n",
              "    <tr>\n",
              "      <th>2</th>\n",
              "      <td>0</td>\n",
              "      <td>tcp</td>\n",
              "      <td>http</td>\n",
              "      <td>SF</td>\n",
              "      <td>235</td>\n",
              "      <td>1337</td>\n",
              "      <td>0</td>\n",
              "      <td>0</td>\n",
              "      <td>0</td>\n",
              "      <td>0</td>\n",
              "      <td>0</td>\n",
              "      <td>1</td>\n",
              "      <td>0</td>\n",
              "      <td>0</td>\n",
              "      <td>0</td>\n",
              "      <td>0</td>\n",
              "      <td>0</td>\n",
              "      <td>0</td>\n",
              "      <td>0</td>\n",
              "      <td>0</td>\n",
              "      <td>0</td>\n",
              "      <td>0</td>\n",
              "      <td>8</td>\n",
              "      <td>8</td>\n",
              "      <td>0.0</td>\n",
              "      <td>0.0</td>\n",
              "      <td>0.0</td>\n",
              "      <td>0.0</td>\n",
              "      <td>1.0</td>\n",
              "      <td>0.0</td>\n",
              "      <td>0.0</td>\n",
              "      <td>29</td>\n",
              "      <td>29</td>\n",
              "      <td>1.0</td>\n",
              "      <td>0.0</td>\n",
              "      <td>0.03</td>\n",
              "      <td>0.0</td>\n",
              "      <td>0.0</td>\n",
              "      <td>0.0</td>\n",
              "      <td>0.0</td>\n",
              "      <td>0.0</td>\n",
              "      <td>normal.</td>\n",
              "    </tr>\n",
              "    <tr>\n",
              "      <th>3</th>\n",
              "      <td>0</td>\n",
              "      <td>tcp</td>\n",
              "      <td>http</td>\n",
              "      <td>SF</td>\n",
              "      <td>219</td>\n",
              "      <td>1337</td>\n",
              "      <td>0</td>\n",
              "      <td>0</td>\n",
              "      <td>0</td>\n",
              "      <td>0</td>\n",
              "      <td>0</td>\n",
              "      <td>1</td>\n",
              "      <td>0</td>\n",
              "      <td>0</td>\n",
              "      <td>0</td>\n",
              "      <td>0</td>\n",
              "      <td>0</td>\n",
              "      <td>0</td>\n",
              "      <td>0</td>\n",
              "      <td>0</td>\n",
              "      <td>0</td>\n",
              "      <td>0</td>\n",
              "      <td>6</td>\n",
              "      <td>6</td>\n",
              "      <td>0.0</td>\n",
              "      <td>0.0</td>\n",
              "      <td>0.0</td>\n",
              "      <td>0.0</td>\n",
              "      <td>1.0</td>\n",
              "      <td>0.0</td>\n",
              "      <td>0.0</td>\n",
              "      <td>39</td>\n",
              "      <td>39</td>\n",
              "      <td>1.0</td>\n",
              "      <td>0.0</td>\n",
              "      <td>0.03</td>\n",
              "      <td>0.0</td>\n",
              "      <td>0.0</td>\n",
              "      <td>0.0</td>\n",
              "      <td>0.0</td>\n",
              "      <td>0.0</td>\n",
              "      <td>normal.</td>\n",
              "    </tr>\n",
              "    <tr>\n",
              "      <th>4</th>\n",
              "      <td>0</td>\n",
              "      <td>tcp</td>\n",
              "      <td>http</td>\n",
              "      <td>SF</td>\n",
              "      <td>217</td>\n",
              "      <td>2032</td>\n",
              "      <td>0</td>\n",
              "      <td>0</td>\n",
              "      <td>0</td>\n",
              "      <td>0</td>\n",
              "      <td>0</td>\n",
              "      <td>1</td>\n",
              "      <td>0</td>\n",
              "      <td>0</td>\n",
              "      <td>0</td>\n",
              "      <td>0</td>\n",
              "      <td>0</td>\n",
              "      <td>0</td>\n",
              "      <td>0</td>\n",
              "      <td>0</td>\n",
              "      <td>0</td>\n",
              "      <td>0</td>\n",
              "      <td>6</td>\n",
              "      <td>6</td>\n",
              "      <td>0.0</td>\n",
              "      <td>0.0</td>\n",
              "      <td>0.0</td>\n",
              "      <td>0.0</td>\n",
              "      <td>1.0</td>\n",
              "      <td>0.0</td>\n",
              "      <td>0.0</td>\n",
              "      <td>49</td>\n",
              "      <td>49</td>\n",
              "      <td>1.0</td>\n",
              "      <td>0.0</td>\n",
              "      <td>0.02</td>\n",
              "      <td>0.0</td>\n",
              "      <td>0.0</td>\n",
              "      <td>0.0</td>\n",
              "      <td>0.0</td>\n",
              "      <td>0.0</td>\n",
              "      <td>normal.</td>\n",
              "    </tr>\n",
              "  </tbody>\n",
              "</table>\n",
              "</div>\n",
              "    <div class=\"colab-df-buttons\">\n",
              "\n",
              "  <div class=\"colab-df-container\">\n",
              "    <button class=\"colab-df-convert\" onclick=\"convertToInteractive('df-ae4ae433-2b9d-4313-a694-3a58594855ba')\"\n",
              "            title=\"Convert this dataframe to an interactive table.\"\n",
              "            style=\"display:none;\">\n",
              "\n",
              "  <svg xmlns=\"http://www.w3.org/2000/svg\" height=\"24px\" viewBox=\"0 -960 960 960\">\n",
              "    <path d=\"M120-120v-720h720v720H120Zm60-500h600v-160H180v160Zm220 220h160v-160H400v160Zm0 220h160v-160H400v160ZM180-400h160v-160H180v160Zm440 0h160v-160H620v160ZM180-180h160v-160H180v160Zm440 0h160v-160H620v160Z\"/>\n",
              "  </svg>\n",
              "    </button>\n",
              "\n",
              "  <style>\n",
              "    .colab-df-container {\n",
              "      display:flex;\n",
              "      gap: 12px;\n",
              "    }\n",
              "\n",
              "    .colab-df-convert {\n",
              "      background-color: #E8F0FE;\n",
              "      border: none;\n",
              "      border-radius: 50%;\n",
              "      cursor: pointer;\n",
              "      display: none;\n",
              "      fill: #1967D2;\n",
              "      height: 32px;\n",
              "      padding: 0 0 0 0;\n",
              "      width: 32px;\n",
              "    }\n",
              "\n",
              "    .colab-df-convert:hover {\n",
              "      background-color: #E2EBFA;\n",
              "      box-shadow: 0px 1px 2px rgba(60, 64, 67, 0.3), 0px 1px 3px 1px rgba(60, 64, 67, 0.15);\n",
              "      fill: #174EA6;\n",
              "    }\n",
              "\n",
              "    .colab-df-buttons div {\n",
              "      margin-bottom: 4px;\n",
              "    }\n",
              "\n",
              "    [theme=dark] .colab-df-convert {\n",
              "      background-color: #3B4455;\n",
              "      fill: #D2E3FC;\n",
              "    }\n",
              "\n",
              "    [theme=dark] .colab-df-convert:hover {\n",
              "      background-color: #434B5C;\n",
              "      box-shadow: 0px 1px 3px 1px rgba(0, 0, 0, 0.15);\n",
              "      filter: drop-shadow(0px 1px 2px rgba(0, 0, 0, 0.3));\n",
              "      fill: #FFFFFF;\n",
              "    }\n",
              "  </style>\n",
              "\n",
              "    <script>\n",
              "      const buttonEl =\n",
              "        document.querySelector('#df-ae4ae433-2b9d-4313-a694-3a58594855ba button.colab-df-convert');\n",
              "      buttonEl.style.display =\n",
              "        google.colab.kernel.accessAllowed ? 'block' : 'none';\n",
              "\n",
              "      async function convertToInteractive(key) {\n",
              "        const element = document.querySelector('#df-ae4ae433-2b9d-4313-a694-3a58594855ba');\n",
              "        const dataTable =\n",
              "          await google.colab.kernel.invokeFunction('convertToInteractive',\n",
              "                                                    [key], {});\n",
              "        if (!dataTable) return;\n",
              "\n",
              "        const docLinkHtml = 'Like what you see? Visit the ' +\n",
              "          '<a target=\"_blank\" href=https://colab.research.google.com/notebooks/data_table.ipynb>data table notebook</a>'\n",
              "          + ' to learn more about interactive tables.';\n",
              "        element.innerHTML = '';\n",
              "        dataTable['output_type'] = 'display_data';\n",
              "        await google.colab.output.renderOutput(dataTable, element);\n",
              "        const docLink = document.createElement('div');\n",
              "        docLink.innerHTML = docLinkHtml;\n",
              "        element.appendChild(docLink);\n",
              "      }\n",
              "    </script>\n",
              "  </div>\n",
              "\n",
              "\n",
              "<div id=\"df-db5f858a-3aa8-4701-9465-f2e0fc18cd21\">\n",
              "  <button class=\"colab-df-quickchart\" onclick=\"quickchart('df-db5f858a-3aa8-4701-9465-f2e0fc18cd21')\"\n",
              "            title=\"Suggest charts\"\n",
              "            style=\"display:none;\">\n",
              "\n",
              "<svg xmlns=\"http://www.w3.org/2000/svg\" height=\"24px\"viewBox=\"0 0 24 24\"\n",
              "     width=\"24px\">\n",
              "    <g>\n",
              "        <path d=\"M19 3H5c-1.1 0-2 .9-2 2v14c0 1.1.9 2 2 2h14c1.1 0 2-.9 2-2V5c0-1.1-.9-2-2-2zM9 17H7v-7h2v7zm4 0h-2V7h2v10zm4 0h-2v-4h2v4z\"/>\n",
              "    </g>\n",
              "</svg>\n",
              "  </button>\n",
              "\n",
              "<style>\n",
              "  .colab-df-quickchart {\n",
              "      --bg-color: #E8F0FE;\n",
              "      --fill-color: #1967D2;\n",
              "      --hover-bg-color: #E2EBFA;\n",
              "      --hover-fill-color: #174EA6;\n",
              "      --disabled-fill-color: #AAA;\n",
              "      --disabled-bg-color: #DDD;\n",
              "  }\n",
              "\n",
              "  [theme=dark] .colab-df-quickchart {\n",
              "      --bg-color: #3B4455;\n",
              "      --fill-color: #D2E3FC;\n",
              "      --hover-bg-color: #434B5C;\n",
              "      --hover-fill-color: #FFFFFF;\n",
              "      --disabled-bg-color: #3B4455;\n",
              "      --disabled-fill-color: #666;\n",
              "  }\n",
              "\n",
              "  .colab-df-quickchart {\n",
              "    background-color: var(--bg-color);\n",
              "    border: none;\n",
              "    border-radius: 50%;\n",
              "    cursor: pointer;\n",
              "    display: none;\n",
              "    fill: var(--fill-color);\n",
              "    height: 32px;\n",
              "    padding: 0;\n",
              "    width: 32px;\n",
              "  }\n",
              "\n",
              "  .colab-df-quickchart:hover {\n",
              "    background-color: var(--hover-bg-color);\n",
              "    box-shadow: 0 1px 2px rgba(60, 64, 67, 0.3), 0 1px 3px 1px rgba(60, 64, 67, 0.15);\n",
              "    fill: var(--button-hover-fill-color);\n",
              "  }\n",
              "\n",
              "  .colab-df-quickchart-complete:disabled,\n",
              "  .colab-df-quickchart-complete:disabled:hover {\n",
              "    background-color: var(--disabled-bg-color);\n",
              "    fill: var(--disabled-fill-color);\n",
              "    box-shadow: none;\n",
              "  }\n",
              "\n",
              "  .colab-df-spinner {\n",
              "    border: 2px solid var(--fill-color);\n",
              "    border-color: transparent;\n",
              "    border-bottom-color: var(--fill-color);\n",
              "    animation:\n",
              "      spin 1s steps(1) infinite;\n",
              "  }\n",
              "\n",
              "  @keyframes spin {\n",
              "    0% {\n",
              "      border-color: transparent;\n",
              "      border-bottom-color: var(--fill-color);\n",
              "      border-left-color: var(--fill-color);\n",
              "    }\n",
              "    20% {\n",
              "      border-color: transparent;\n",
              "      border-left-color: var(--fill-color);\n",
              "      border-top-color: var(--fill-color);\n",
              "    }\n",
              "    30% {\n",
              "      border-color: transparent;\n",
              "      border-left-color: var(--fill-color);\n",
              "      border-top-color: var(--fill-color);\n",
              "      border-right-color: var(--fill-color);\n",
              "    }\n",
              "    40% {\n",
              "      border-color: transparent;\n",
              "      border-right-color: var(--fill-color);\n",
              "      border-top-color: var(--fill-color);\n",
              "    }\n",
              "    60% {\n",
              "      border-color: transparent;\n",
              "      border-right-color: var(--fill-color);\n",
              "    }\n",
              "    80% {\n",
              "      border-color: transparent;\n",
              "      border-right-color: var(--fill-color);\n",
              "      border-bottom-color: var(--fill-color);\n",
              "    }\n",
              "    90% {\n",
              "      border-color: transparent;\n",
              "      border-bottom-color: var(--fill-color);\n",
              "    }\n",
              "  }\n",
              "</style>\n",
              "\n",
              "  <script>\n",
              "    async function quickchart(key) {\n",
              "      const quickchartButtonEl =\n",
              "        document.querySelector('#' + key + ' button');\n",
              "      quickchartButtonEl.disabled = true;  // To prevent multiple clicks.\n",
              "      quickchartButtonEl.classList.add('colab-df-spinner');\n",
              "      try {\n",
              "        const charts = await google.colab.kernel.invokeFunction(\n",
              "            'suggestCharts', [key], {});\n",
              "      } catch (error) {\n",
              "        console.error('Error during call to suggestCharts:', error);\n",
              "      }\n",
              "      quickchartButtonEl.classList.remove('colab-df-spinner');\n",
              "      quickchartButtonEl.classList.add('colab-df-quickchart-complete');\n",
              "    }\n",
              "    (() => {\n",
              "      let quickchartButtonEl =\n",
              "        document.querySelector('#df-db5f858a-3aa8-4701-9465-f2e0fc18cd21 button');\n",
              "      quickchartButtonEl.style.display =\n",
              "        google.colab.kernel.accessAllowed ? 'block' : 'none';\n",
              "    })();\n",
              "  </script>\n",
              "</div>\n",
              "\n",
              "    </div>\n",
              "  </div>\n"
            ],
            "application/vnd.google.colaboratory.intrinsic+json": {
              "type": "dataframe",
              "variable_name": "data"
            }
          },
          "metadata": {},
          "execution_count": 19
        }
      ]
    },
    {
      "cell_type": "markdown",
      "source": [
        "## Label Fequency"
      ],
      "metadata": {
        "id": "iJ22YjxfH7CX"
      }
    },
    {
      "cell_type": "markdown",
      "source": [
        "<font color='blue'>Create a Bar Plot to check the frequency for each label in the dataset</font>"
      ],
      "metadata": {
        "id": "J8J48Wv2ICVe"
      }
    },
    {
      "cell_type": "code",
      "source": [
        "data['label'].value_counts(normalize=True)"
      ],
      "metadata": {
        "id": "MI2REAuDvwcw",
        "outputId": "89c71ced-33ec-4bd5-bbbd-e9994f7be863",
        "colab": {
          "base_uri": "https://localhost:8080/",
          "height": 836
        }
      },
      "execution_count": 20,
      "outputs": [
        {
          "output_type": "execute_result",
          "data": {
            "text/plain": [
              "label\n",
              "smurf.              0.568377\n",
              "neptune.            0.216997\n",
              "normal.             0.196911\n",
              "back.               0.004459\n",
              "satan.              0.003216\n",
              "ipsweep.            0.002524\n",
              "portsweep.          0.002105\n",
              "warezclient.        0.002065\n",
              "teardrop.           0.001982\n",
              "pod.                0.000534\n",
              "nmap.               0.000468\n",
              "guess_passwd.       0.000107\n",
              "buffer_overflow.    0.000061\n",
              "land.               0.000043\n",
              "warezmaster.        0.000040\n",
              "imap.               0.000024\n",
              "rootkit.            0.000020\n",
              "loadmodule.         0.000018\n",
              "ftp_write.          0.000016\n",
              "multihop.           0.000014\n",
              "phf.                0.000008\n",
              "perl.               0.000006\n",
              "spy.                0.000004\n",
              "Name: proportion, dtype: float64"
            ],
            "text/html": [
              "<div>\n",
              "<style scoped>\n",
              "    .dataframe tbody tr th:only-of-type {\n",
              "        vertical-align: middle;\n",
              "    }\n",
              "\n",
              "    .dataframe tbody tr th {\n",
              "        vertical-align: top;\n",
              "    }\n",
              "\n",
              "    .dataframe thead th {\n",
              "        text-align: right;\n",
              "    }\n",
              "</style>\n",
              "<table border=\"1\" class=\"dataframe\">\n",
              "  <thead>\n",
              "    <tr style=\"text-align: right;\">\n",
              "      <th></th>\n",
              "      <th>proportion</th>\n",
              "    </tr>\n",
              "    <tr>\n",
              "      <th>label</th>\n",
              "      <th></th>\n",
              "    </tr>\n",
              "  </thead>\n",
              "  <tbody>\n",
              "    <tr>\n",
              "      <th>smurf.</th>\n",
              "      <td>0.568377</td>\n",
              "    </tr>\n",
              "    <tr>\n",
              "      <th>neptune.</th>\n",
              "      <td>0.216997</td>\n",
              "    </tr>\n",
              "    <tr>\n",
              "      <th>normal.</th>\n",
              "      <td>0.196911</td>\n",
              "    </tr>\n",
              "    <tr>\n",
              "      <th>back.</th>\n",
              "      <td>0.004459</td>\n",
              "    </tr>\n",
              "    <tr>\n",
              "      <th>satan.</th>\n",
              "      <td>0.003216</td>\n",
              "    </tr>\n",
              "    <tr>\n",
              "      <th>ipsweep.</th>\n",
              "      <td>0.002524</td>\n",
              "    </tr>\n",
              "    <tr>\n",
              "      <th>portsweep.</th>\n",
              "      <td>0.002105</td>\n",
              "    </tr>\n",
              "    <tr>\n",
              "      <th>warezclient.</th>\n",
              "      <td>0.002065</td>\n",
              "    </tr>\n",
              "    <tr>\n",
              "      <th>teardrop.</th>\n",
              "      <td>0.001982</td>\n",
              "    </tr>\n",
              "    <tr>\n",
              "      <th>pod.</th>\n",
              "      <td>0.000534</td>\n",
              "    </tr>\n",
              "    <tr>\n",
              "      <th>nmap.</th>\n",
              "      <td>0.000468</td>\n",
              "    </tr>\n",
              "    <tr>\n",
              "      <th>guess_passwd.</th>\n",
              "      <td>0.000107</td>\n",
              "    </tr>\n",
              "    <tr>\n",
              "      <th>buffer_overflow.</th>\n",
              "      <td>0.000061</td>\n",
              "    </tr>\n",
              "    <tr>\n",
              "      <th>land.</th>\n",
              "      <td>0.000043</td>\n",
              "    </tr>\n",
              "    <tr>\n",
              "      <th>warezmaster.</th>\n",
              "      <td>0.000040</td>\n",
              "    </tr>\n",
              "    <tr>\n",
              "      <th>imap.</th>\n",
              "      <td>0.000024</td>\n",
              "    </tr>\n",
              "    <tr>\n",
              "      <th>rootkit.</th>\n",
              "      <td>0.000020</td>\n",
              "    </tr>\n",
              "    <tr>\n",
              "      <th>loadmodule.</th>\n",
              "      <td>0.000018</td>\n",
              "    </tr>\n",
              "    <tr>\n",
              "      <th>ftp_write.</th>\n",
              "      <td>0.000016</td>\n",
              "    </tr>\n",
              "    <tr>\n",
              "      <th>multihop.</th>\n",
              "      <td>0.000014</td>\n",
              "    </tr>\n",
              "    <tr>\n",
              "      <th>phf.</th>\n",
              "      <td>0.000008</td>\n",
              "    </tr>\n",
              "    <tr>\n",
              "      <th>perl.</th>\n",
              "      <td>0.000006</td>\n",
              "    </tr>\n",
              "    <tr>\n",
              "      <th>spy.</th>\n",
              "      <td>0.000004</td>\n",
              "    </tr>\n",
              "  </tbody>\n",
              "</table>\n",
              "</div><br><label><b>dtype:</b> float64</label>"
            ]
          },
          "metadata": {},
          "execution_count": 20
        }
      ]
    },
    {
      "cell_type": "code",
      "source": [
        "# def plot_value_count(data):\n",
        "def plot_value_count(data):\n",
        "\n",
        "  # Count the occurrences of each label\n",
        "  label_counts = data['label'].value_counts()\n",
        "\n",
        "  # Create a bar plot\n",
        "  plt.figure(figsize=(12, 6))\n",
        "  label_counts.plot(kind='bar')\n",
        "  plt.xlabel('Label')\n",
        "  plt.ylabel('Count')\n",
        "  plt.title('Count of Each Label in KDD Cup 1999 Dataset')\n",
        "  plt.xticks(rotation=45)\n",
        "  plt.show()\n",
        "\n",
        "plot_value_count(data)\n",
        "\n",
        "# plot_value_count(data)"
      ],
      "metadata": {
        "id": "b5oSnbRmITZ2",
        "outputId": "3daa769e-e644-442b-c9fc-80deac2260eb",
        "colab": {
          "base_uri": "https://localhost:8080/",
          "height": 639
        }
      },
      "execution_count": 21,
      "outputs": [
        {
          "output_type": "display_data",
          "data": {
            "text/plain": [
              "<Figure size 1200x600 with 1 Axes>"
            ],
            "image/png": "[encoded data removed]"
          },
          "metadata": {}
        }
      ]
    },
    {
      "cell_type": "markdown",
      "source": [
        "### All classes except \"normal.\" in this dataset are considered attacks. They can be considered anomalies in our case."
      ],
      "metadata": {
        "id": "12eUlsptInrP"
      }
    },
    {
      "cell_type": "markdown",
      "source": [
        "Since our goal is to classify the network traffic as \"normal\" or \"anomalous\", we just need to convert the remaining classes into these two, and project this as a binary classification problem.\n",
        "\n",
        "<font color='blue'>Convert all \"normal\" labels to a value \"0\", while all other labels to a value \"1\". Update the same \"label\" column in the \"data\" dataframe with the new values.</font>"
      ],
      "metadata": {
        "id": "9weWMT_YI1Mo"
      }
    },
    {
      "cell_type": "code",
      "source": [
        "# data[\"label\"] =\n",
        "data[\"label\"] = data[\"label\"].apply(lambda x: 0 if x == \"normal.\" else 1)"
      ],
      "metadata": {
        "id": "3kxF1mNeJ0K2"
      },
      "execution_count": 22,
      "outputs": []
    },
    {
      "cell_type": "markdown",
      "source": [
        "Let's look at the label frequency now"
      ],
      "metadata": {
        "id": "Q4O2ak8HKenq"
      }
    },
    {
      "cell_type": "code",
      "source": [
        "# the \"label\" column in the data df should contain the two labels \"0\" and \"1\" now.\n",
        "plot_value_count(data)"
      ],
      "metadata": {
        "id": "CDj6YYT8KjOQ",
        "outputId": "c37f6431-2d24-4520-92b2-bf24930c7173",
        "colab": {
          "base_uri": "https://localhost:8080/",
          "height": 566
        }
      },
      "execution_count": 23,
      "outputs": [
        {
          "output_type": "display_data",
          "data": {
            "text/plain": [
              "<Figure size 1200x600 with 1 Axes>"
            ],
            "image/png": "[encoded data removed]"
          },
          "metadata": {}
        }
      ]
    },
    {
      "cell_type": "markdown",
      "source": [
        "Since we have the labels available for anomalous and non amomalous datapoints, this dataset is a good candidate for supervised anomaly detection.\n",
        "\n",
        "Note that anomaly detection datasets usually have \"less\" anomalous data points than non-anomalous dataset, however, this is not the case in this dataset, even without binarizing the labels. Since, the dataset has **significant** number of anomalous datapoints, this also makes it a good candidate for Supervised Anomaly Detection."
      ],
      "metadata": {
        "id": "kjQJvOSEMYtO"
      }
    },
    {
      "cell_type": "markdown",
      "source": [
        "## Splitting the dataset before Preprocessing"
      ],
      "metadata": {
        "id": "SfC8q3thNkW9"
      }
    },
    {
      "cell_type": "code",
      "source": [
        "data.label.value_counts(normalize=True)"
      ],
      "metadata": {
        "id": "Fm-zLsNPzMn7",
        "outputId": "2f9b096e-9464-409b-e5d5-b3793ced7ec4",
        "colab": {
          "base_uri": "https://localhost:8080/",
          "height": 178
        }
      },
      "execution_count": 28,
      "outputs": [
        {
          "output_type": "execute_result",
          "data": {
            "text/plain": [
              "label\n",
              "1    0.803089\n",
              "0    0.196911\n",
              "Name: proportion, dtype: float64"
            ],
            "text/html": [
              "<div>\n",
              "<style scoped>\n",
              "    .dataframe tbody tr th:only-of-type {\n",
              "        vertical-align: middle;\n",
              "    }\n",
              "\n",
              "    .dataframe tbody tr th {\n",
              "        vertical-align: top;\n",
              "    }\n",
              "\n",
              "    .dataframe thead th {\n",
              "        text-align: right;\n",
              "    }\n",
              "</style>\n",
              "<table border=\"1\" class=\"dataframe\">\n",
              "  <thead>\n",
              "    <tr style=\"text-align: right;\">\n",
              "      <th></th>\n",
              "      <th>proportion</th>\n",
              "    </tr>\n",
              "    <tr>\n",
              "      <th>label</th>\n",
              "      <th></th>\n",
              "    </tr>\n",
              "  </thead>\n",
              "  <tbody>\n",
              "    <tr>\n",
              "      <th>1</th>\n",
              "      <td>0.803089</td>\n",
              "    </tr>\n",
              "    <tr>\n",
              "      <th>0</th>\n",
              "      <td>0.196911</td>\n",
              "    </tr>\n",
              "  </tbody>\n",
              "</table>\n",
              "</div><br><label><b>dtype:</b> float64</label>"
            ]
          },
          "metadata": {},
          "execution_count": 28
        }
      ]
    },
    {
      "cell_type": "code",
      "source": [
        "# Separate the labels from the features\n",
        "X = data.drop(\"label\", axis=1)\n",
        "y = data[\"label\"]\n",
        "\n",
        "X_train, X_test, y_train, y_test = train_test_split(X, y, test_size=0.2, random_state=42)"
      ],
      "metadata": {
        "id": "kuVGcOydOomv"
      },
      "execution_count": 24,
      "outputs": []
    },
    {
      "cell_type": "markdown",
      "source": [
        "## Processing the Categorical Features"
      ],
      "metadata": {
        "id": "PKSm4baCGeSG"
      }
    },
    {
      "cell_type": "markdown",
      "source": [
        "Let's look at the dataset description and figure out all the categorical features available in the dataset.\n",
        "\n",
        "\n",
        "\n"
      ],
      "metadata": {
        "id": "UGwAQ5oWGTRF"
      }
    },
    {
      "cell_type": "code",
      "source": [
        "categorical_features = [\"protocol_type\", \"service\", \"flag\"]"
      ],
      "metadata": {
        "id": "Jqb6_XdzGoTp"
      },
      "execution_count": 25,
      "outputs": []
    },
    {
      "cell_type": "markdown",
      "source": [
        "<font color='blue'>Now convert the categorical features in One Hot representation. The code should update the X_train and X_test dataframes, with the one hot encoded features, and the original features dropped.</font>"
      ],
      "metadata": {
        "id": "4G3zPAeGGs50"
      }
    },
    {
      "cell_type": "code",
      "source": [
        "# Initialize the OneHotEncoder\n",
        "encoder = OneHotEncoder(sparse=False, handle_unknown='ignore')\n",
        "\n",
        "categorical_data_train = X_train[categorical_features]\n",
        "categorical_data_test = X_test[categorical_features]\n",
        "\n",
        "# Fit and transform the categorical features for training data\n",
        "one_hot_data_train = encoder.fit_transform(categorical_data_train)\n",
        "\n",
        "# Transform the categorical features for test data\n",
        "one_hot_data_test = encoder.transform(categorical_data_test)\n",
        "\n",
        "# Create DataFrames with the one-hot encoded features\n",
        "one_hot_df_train = pd.DataFrame(one_hot_data_train, columns=encoder.get_feature_names_out(categorical_features))\n",
        "one_hot_df_test = pd.DataFrame(one_hot_data_test, columns=encoder.get_feature_names_out(categorical_features))\n",
        "\n",
        "# Drop the original categorical features\n",
        "X_train = X_train.drop(categorical_features, axis=1)\n",
        "X_test = X_test.drop(categorical_features, axis=1)\n",
        "\n",
        "# Concatenate the one-hot encoded features with the original datasets\n",
        "X_train = pd.concat([X_train.reset_index(drop=True), one_hot_df_train], axis=1)\n",
        "X_test = pd.concat([X_test.reset_index(drop=True), one_hot_df_test], axis=1)"
      ],
      "metadata": {
        "id": "qWuNhKaAS2OD",
        "outputId": "2ba1c057-37ae-4e72-a864-5b62ac85a142",
        "colab": {
          "base_uri": "https://localhost:8080/"
        }
      },
      "execution_count": 26,
      "outputs": [
        {
          "output_type": "stream",
          "name": "stderr",
          "text": [
            "/usr/local/lib/python3.10/dist-packages/sklearn/preprocessing/_encoders.py:975: FutureWarning: `sparse` was renamed to `sparse_output` in version 1.2 and will be removed in 1.4. `sparse_output` is ignored unless you leave `sparse` to its default value.\n",
            "  warnings.warn(\n"
          ]
        }
      ]
    },
    {
      "cell_type": "markdown",
      "source": [
        "Let's look at the new shape of our encoded dataset"
      ],
      "metadata": {
        "id": "Bulzib4CTmgA"
      }
    },
    {
      "cell_type": "code",
      "source": [
        "print(X_train.shape)\n",
        "print(X_test.shape)"
      ],
      "metadata": {
        "id": "1mgK2mCtTbAl",
        "outputId": "43a624fa-ddf1-4ae2-801f-2a73e4576063",
        "colab": {
          "base_uri": "https://localhost:8080/"
        }
      },
      "execution_count": 27,
      "outputs": [
        {
          "output_type": "stream",
          "name": "stdout",
          "text": [
            "(395216, 117)\n",
            "(98805, 117)\n"
          ]
        }
      ]
    },
    {
      "cell_type": "markdown",
      "source": [
        "## Normalizing the Continous Features"
      ],
      "metadata": {
        "id": "dKQM3IsjYfOZ"
      }
    },
    {
      "cell_type": "markdown",
      "source": [
        "The continous (non-categorical) features in the KDD dataset have different scales. This can be a problem for our models. Let's normalize these features."
      ],
      "metadata": {
        "id": "Q4oF4tqwaIjE"
      }
    },
    {
      "cell_type": "code",
      "source": [
        "continuous_features = [x for x in column_names if x not in categorical_features and x !='label']\n",
        "print('Total number of non-categorical features: ', len(continuous_features))"
      ],
      "metadata": {
        "id": "bTeTyAK4ZK2Q",
        "outputId": "362f6aff-141e-4ed4-d053-896d234e4a94",
        "colab": {
          "base_uri": "https://localhost:8080/"
        }
      },
      "execution_count": 29,
      "outputs": [
        {
          "output_type": "stream",
          "name": "stdout",
          "text": [
            "Total number of non-categorical features:  38\n"
          ]
        }
      ]
    },
    {
      "cell_type": "markdown",
      "source": [
        "<font color='blue'>Write code to normalize the non categorical features in the dataset. The code should update X_train and X_test dataframes.</font>"
      ],
      "metadata": {
        "id": "pefF9SIVaUpS"
      }
    },
    {
      "cell_type": "code",
      "source": [
        "# Initialize the MinMaxScaler\n",
        "scaler = MinMaxScaler()\n",
        "\n",
        "# Fit and transform the continuous features in X_train\n",
        "X_train[continuous_features] = scaler.fit_transform(X_train[continuous_features])\n",
        "\n",
        "# Transform the continuous features in X_test\n",
        "X_test[continuous_features] = scaler.transform(X_test[continuous_features])\n",
        "\n",
        "# Display the normalized datasets\n",
        "print(\"Normalized Training Data:\")\n",
        "print(X_train.head())\n",
        "print(\"\\nNormalized Test Data:\")\n",
        "print(X_test.head())"
      ],
      "metadata": {
        "id": "7MkFUU-NaoU8",
        "outputId": "404555a6-b87d-4cc7-b5d7-9f9be6ed0e23",
        "colab": {
          "base_uri": "https://localhost:8080/"
        }
      },
      "execution_count": 30,
      "outputs": [
        {
          "output_type": "stream",
          "name": "stdout",
          "text": [
            "Normalized Training Data:\n",
            "   duration  src_bytes  dst_bytes  land  wrong_fragment  urgent  hot  \\\n",
            "0       0.0   0.000001        0.0   0.0             0.0     0.0  0.0   \n",
            "1       0.0   0.000000        0.0   0.0             0.0     0.0  0.0   \n",
            "2       0.0   0.000000        0.0   0.0             0.0     0.0  0.0   \n",
            "3       0.0   0.000000        0.0   0.0             0.0     0.0  0.0   \n",
            "4       0.0   0.000000        0.0   0.0             0.0     0.0  0.0   \n",
            "\n",
            "   num_failed_logins  logged_in  num_compromised  root_shell  su_attempted  \\\n",
            "0                0.0        0.0              0.0         0.0           0.0   \n",
            "1                0.0        0.0              0.0         0.0           0.0   \n",
            "2                0.0        0.0              0.0         0.0           0.0   \n",
            "3                0.0        0.0              0.0         0.0           0.0   \n",
            "4                0.0        0.0              0.0         0.0           0.0   \n",
            "\n",
            "   num_root  num_file_creations  num_shells  num_access_files  \\\n",
            "0       0.0                 0.0         0.0               0.0   \n",
            "1       0.0                 0.0         0.0               0.0   \n",
            "2       0.0                 0.0         0.0               0.0   \n",
            "3       0.0                 0.0         0.0               0.0   \n",
            "4       0.0                 0.0         0.0               0.0   \n",
            "\n",
            "   num_outbound_cmds  is_host_login  is_guest_login     count  srv_count  \\\n",
            "0                0.0            0.0             0.0  1.000000   1.000000   \n",
            "1                0.0            0.0             0.0  0.430528   0.019569   \n",
            "2                0.0            0.0             0.0  0.577299   0.046967   \n",
            "3                0.0            0.0             0.0  0.001957   0.001957   \n",
            "4                0.0            0.0             0.0  0.217221   0.013699   \n",
            "\n",
            "   serror_rate  srv_serror_rate  rerror_rate  srv_rerror_rate  same_srv_rate  \\\n",
            "0          0.0              0.0          0.0              0.0           1.00   \n",
            "1          1.0              1.0          0.0              0.0           0.05   \n",
            "2          1.0              1.0          0.0              0.0           0.08   \n",
            "3          0.0              0.0          1.0              1.0           1.00   \n",
            "4          0.0              0.0          1.0              1.0           0.06   \n",
            "\n",
            "   diff_srv_rate  srv_diff_host_rate  dst_host_count  dst_host_srv_count  \\\n",
            "0           0.00                 0.0        1.000000            1.000000   \n",
            "1           0.06                 0.0        1.000000            0.039216   \n",
            "2           0.05                 0.0        1.000000            0.094118   \n",
            "3           0.00                 0.0        0.031373            0.031373   \n",
            "4           0.07                 0.0        1.000000            0.027451   \n",
            "\n",
            "   dst_host_same_srv_rate  dst_host_diff_srv_rate  \\\n",
            "0                    1.00                    0.00   \n",
            "1                    0.04                    0.07   \n",
            "2                    0.09                    0.05   \n",
            "3                    1.00                    0.00   \n",
            "4                    0.03                    0.07   \n",
            "\n",
            "   dst_host_same_src_port_rate  dst_host_srv_diff_host_rate  \\\n",
            "0                         1.00                          0.0   \n",
            "1                         0.00                          0.0   \n",
            "2                         0.00                          0.0   \n",
            "3                         0.12                          0.0   \n",
            "4                         0.00                          0.0   \n",
            "\n",
            "   dst_host_serror_rate  dst_host_srv_serror_rate  dst_host_rerror_rate  \\\n",
            "0                   0.0                       0.0                   0.0   \n",
            "1                   1.0                       1.0                   0.0   \n",
            "2                   1.0                       1.0                   0.0   \n",
            "3                   0.0                       0.0                   1.0   \n",
            "4                   0.0                       0.0                   1.0   \n",
            "\n",
            "   dst_host_srv_rerror_rate  protocol_type_icmp  protocol_type_tcp  \\\n",
            "0                       0.0                 1.0                0.0   \n",
            "1                       0.0                 0.0                1.0   \n",
            "2                       0.0                 0.0                1.0   \n",
            "3                       1.0                 0.0                1.0   \n",
            "4                       1.0                 0.0                1.0   \n",
            "\n",
            "   protocol_type_udp  service_IRC  service_X11  service_Z39_50  service_auth  \\\n",
            "0                0.0          0.0          0.0             0.0           0.0   \n",
            "1                0.0          0.0          0.0             0.0           0.0   \n",
            "2                0.0          0.0          0.0             0.0           0.0   \n",
            "3                0.0          0.0          0.0             0.0           0.0   \n",
            "4                0.0          0.0          0.0             0.0           0.0   \n",
            "\n",
            "   service_bgp  service_courier  service_csnet_ns  service_ctf  \\\n",
            "0          0.0              0.0               0.0          0.0   \n",
            "1          0.0              0.0               0.0          0.0   \n",
            "2          0.0              0.0               0.0          0.0   \n",
            "3          0.0              0.0               0.0          0.0   \n",
            "4          0.0              0.0               0.0          0.0   \n",
            "\n",
            "   service_daytime  service_discard  service_domain  service_domain_u  \\\n",
            "0              0.0              0.0             0.0               0.0   \n",
            "1              0.0              0.0             0.0               0.0   \n",
            "2              0.0              0.0             0.0               0.0   \n",
            "3              0.0              0.0             0.0               0.0   \n",
            "4              0.0              0.0             0.0               0.0   \n",
            "\n",
            "   service_echo  service_eco_i  service_ecr_i  service_efs  service_exec  \\\n",
            "0           0.0            0.0            1.0          0.0           0.0   \n",
            "1           0.0            0.0            0.0          0.0           0.0   \n",
            "2           0.0            0.0            0.0          0.0           0.0   \n",
            "3           0.0            0.0            0.0          0.0           0.0   \n",
            "4           0.0            0.0            0.0          0.0           0.0   \n",
            "\n",
            "   service_finger  service_ftp  service_ftp_data  service_gopher  \\\n",
            "0             0.0          0.0               0.0             0.0   \n",
            "1             0.0          0.0               0.0             0.0   \n",
            "2             0.0          0.0               0.0             0.0   \n",
            "3             0.0          0.0               0.0             0.0   \n",
            "4             0.0          0.0               0.0             0.0   \n",
            "\n",
            "   service_hostnames  service_http  service_http_443  service_imap4  \\\n",
            "0                0.0           0.0               0.0            0.0   \n",
            "1                0.0           0.0               0.0            0.0   \n",
            "2                0.0           0.0               0.0            0.0   \n",
            "3                0.0           1.0               0.0            0.0   \n",
            "4                0.0           0.0               0.0            0.0   \n",
            "\n",
            "   service_iso_tsap  service_klogin  service_kshell  service_ldap  \\\n",
            "0               0.0             0.0             0.0           0.0   \n",
            "1               0.0             0.0             0.0           0.0   \n",
            "2               0.0             0.0             0.0           0.0   \n",
            "3               0.0             0.0             0.0           0.0   \n",
            "4               0.0             0.0             0.0           0.0   \n",
            "\n",
            "   service_link  service_login  service_mtp  service_name  \\\n",
            "0           0.0            0.0          0.0           0.0   \n",
            "1           0.0            0.0          0.0           0.0   \n",
            "2           0.0            0.0          0.0           0.0   \n",
            "3           0.0            0.0          0.0           0.0   \n",
            "4           0.0            0.0          0.0           0.0   \n",
            "\n",
            "   service_netbios_dgm  service_netbios_ns  service_netbios_ssn  \\\n",
            "0                  0.0                 0.0                  0.0   \n",
            "1                  0.0                 0.0                  0.0   \n",
            "2                  0.0                 0.0                  0.0   \n",
            "3                  0.0                 0.0                  0.0   \n",
            "4                  0.0                 0.0                  0.0   \n",
            "\n",
            "   service_netstat  service_nnsp  service_nntp  service_ntp_u  service_other  \\\n",
            "0              0.0           0.0           0.0            0.0            0.0   \n",
            "1              0.0           0.0           0.0            0.0            0.0   \n",
            "2              0.0           0.0           0.0            0.0            0.0   \n",
            "3              0.0           0.0           0.0            0.0            0.0   \n",
            "4              0.0           0.0           0.0            0.0            0.0   \n",
            "\n",
            "   service_pm_dump  service_pop_2  service_pop_3  service_printer  \\\n",
            "0              0.0            0.0            0.0              0.0   \n",
            "1              0.0            0.0            0.0              0.0   \n",
            "2              0.0            0.0            0.0              0.0   \n",
            "3              0.0            0.0            0.0              0.0   \n",
            "4              0.0            0.0            0.0              0.0   \n",
            "\n",
            "   service_private  service_red_i  service_remote_job  service_rje  \\\n",
            "0              0.0            0.0                 0.0          0.0   \n",
            "1              1.0            0.0                 0.0          0.0   \n",
            "2              1.0            0.0                 0.0          0.0   \n",
            "3              0.0            0.0                 0.0          0.0   \n",
            "4              1.0            0.0                 0.0          0.0   \n",
            "\n",
            "   service_shell  service_smtp  service_sql_net  service_ssh  service_sunrpc  \\\n",
            "0            0.0           0.0              0.0          0.0             0.0   \n",
            "1            0.0           0.0              0.0          0.0             0.0   \n",
            "2            0.0           0.0              0.0          0.0             0.0   \n",
            "3            0.0           0.0              0.0          0.0             0.0   \n",
            "4            0.0           0.0              0.0          0.0             0.0   \n",
            "\n",
            "   service_supdup  service_systat  service_telnet  service_tim_i  \\\n",
            "0             0.0             0.0             0.0            0.0   \n",
            "1             0.0             0.0             0.0            0.0   \n",
            "2             0.0             0.0             0.0            0.0   \n",
            "3             0.0             0.0             0.0            0.0   \n",
            "4             0.0             0.0             0.0            0.0   \n",
            "\n",
            "   service_time  service_urh_i  service_urp_i  service_uucp  \\\n",
            "0           0.0            0.0            0.0           0.0   \n",
            "1           0.0            0.0            0.0           0.0   \n",
            "2           0.0            0.0            0.0           0.0   \n",
            "3           0.0            0.0            0.0           0.0   \n",
            "4           0.0            0.0            0.0           0.0   \n",
            "\n",
            "   service_uucp_path  service_vmnet  service_whois  flag_OTH  flag_REJ  \\\n",
            "0                0.0            0.0            0.0       0.0       0.0   \n",
            "1                0.0            0.0            0.0       0.0       0.0   \n",
            "2                0.0            0.0            0.0       0.0       0.0   \n",
            "3                0.0            0.0            0.0       0.0       1.0   \n",
            "4                0.0            0.0            0.0       0.0       1.0   \n",
            "\n",
            "   flag_RSTO  flag_RSTOS0  flag_RSTR  flag_S0  flag_S1  flag_S2  flag_S3  \\\n",
            "0        0.0          0.0        0.0      0.0      0.0      0.0      0.0   \n",
            "1        0.0          0.0        0.0      1.0      0.0      0.0      0.0   \n",
            "2        0.0          0.0        0.0      1.0      0.0      0.0      0.0   \n",
            "3        0.0          0.0        0.0      0.0      0.0      0.0      0.0   \n",
            "4        0.0          0.0        0.0      0.0      0.0      0.0      0.0   \n",
            "\n",
            "   flag_SF  flag_SH  \n",
            "0      1.0      0.0  \n",
            "1      0.0      0.0  \n",
            "2      0.0      0.0  \n",
            "3      0.0      0.0  \n",
            "4      0.0      0.0  \n",
            "\n",
            "Normalized Test Data:\n",
            "   duration     src_bytes  dst_bytes  land  wrong_fragment  urgent  hot  \\\n",
            "0       0.0  1.488371e-06   0.000000   0.0             0.0     0.0  0.0   \n",
            "1       0.0  1.488371e-06   0.000000   0.0             0.0     0.0  0.0   \n",
            "2       0.0  1.488371e-06   0.000000   0.0             0.0     0.0  0.0   \n",
            "3       0.0  4.975658e-07   0.001051   0.0             0.0     0.0  0.0   \n",
            "4       0.0  0.000000e+00   0.000000   0.0             0.0     0.0  0.0   \n",
            "\n",
            "   num_failed_logins  logged_in  num_compromised  root_shell  su_attempted  \\\n",
            "0                0.0        0.0              0.0         0.0           0.0   \n",
            "1                0.0        0.0              0.0         0.0           0.0   \n",
            "2                0.0        0.0              0.0         0.0           0.0   \n",
            "3                0.0        1.0              0.0         0.0           0.0   \n",
            "4                0.0        0.0              0.0         0.0           0.0   \n",
            "\n",
            "   num_root  num_file_creations  num_shells  num_access_files  \\\n",
            "0       0.0                 0.0         0.0               0.0   \n",
            "1       0.0                 0.0         0.0               0.0   \n",
            "2       0.0                 0.0         0.0               0.0   \n",
            "3       0.0                 0.0         0.0               0.0   \n",
            "4       0.0                 0.0         0.0               0.0   \n",
            "\n",
            "   num_outbound_cmds  is_host_login  is_guest_login     count  srv_count  \\\n",
            "0                0.0            0.0             0.0  1.000000   1.000000   \n",
            "1                0.0            0.0             0.0  1.000000   1.000000   \n",
            "2                0.0            0.0             0.0  1.000000   1.000000   \n",
            "3                0.0            0.0             0.0  0.011742   0.011742   \n",
            "4                0.0            0.0             0.0  0.508806   0.003914   \n",
            "\n",
            "   serror_rate  srv_serror_rate  rerror_rate  srv_rerror_rate  same_srv_rate  \\\n",
            "0          0.0              0.0          0.0              0.0           1.00   \n",
            "1          0.0              0.0          0.0              0.0           1.00   \n",
            "2          0.0              0.0          0.0              0.0           1.00   \n",
            "3          0.0              0.0          0.0              0.0           1.00   \n",
            "4          1.0              1.0          0.0              0.0           0.01   \n",
            "\n",
            "   diff_srv_rate  srv_diff_host_rate  dst_host_count  dst_host_srv_count  \\\n",
            "0           0.00                 0.0        1.000000            1.000000   \n",
            "1           0.00                 0.0        1.000000            1.000000   \n",
            "2           0.00                 0.0        1.000000            1.000000   \n",
            "3           0.00                 0.0        0.396078            1.000000   \n",
            "4           0.06                 0.0        1.000000            0.007843   \n",
            "\n",
            "   dst_host_same_srv_rate  dst_host_diff_srv_rate  \\\n",
            "0                    1.00                    0.00   \n",
            "1                    1.00                    0.00   \n",
            "2                    1.00                    0.00   \n",
            "3                    1.00                    0.00   \n",
            "4                    0.01                    0.07   \n",
            "\n",
            "   dst_host_same_src_port_rate  dst_host_srv_diff_host_rate  \\\n",
            "0                         1.00                         0.00   \n",
            "1                         1.00                         0.00   \n",
            "2                         1.00                         0.00   \n",
            "3                         0.01                         0.02   \n",
            "4                         0.00                         0.00   \n",
            "\n",
            "   dst_host_serror_rate  dst_host_srv_serror_rate  dst_host_rerror_rate  \\\n",
            "0                   0.0                       0.0                   0.0   \n",
            "1                   0.0                       0.0                   0.0   \n",
            "2                   0.0                       0.0                   0.0   \n",
            "3                   0.0                       0.0                   0.0   \n",
            "4                   1.0                       1.0                   0.0   \n",
            "\n",
            "   dst_host_srv_rerror_rate  protocol_type_icmp  protocol_type_tcp  \\\n",
            "0                       0.0                 1.0                0.0   \n",
            "1                       0.0                 1.0                0.0   \n",
            "2                       0.0                 1.0                0.0   \n",
            "3                       0.0                 0.0                1.0   \n",
            "4                       0.0                 0.0                1.0   \n",
            "\n",
            "   protocol_type_udp  service_IRC  service_X11  service_Z39_50  service_auth  \\\n",
            "0                0.0          0.0          0.0             0.0           0.0   \n",
            "1                0.0          0.0          0.0             0.0           0.0   \n",
            "2                0.0          0.0          0.0             0.0           0.0   \n",
            "3                0.0          0.0          0.0             0.0           0.0   \n",
            "4                0.0          0.0          0.0             0.0           0.0   \n",
            "\n",
            "   service_bgp  service_courier  service_csnet_ns  service_ctf  \\\n",
            "0          0.0              0.0               0.0          0.0   \n",
            "1          0.0              0.0               0.0          0.0   \n",
            "2          0.0              0.0               0.0          0.0   \n",
            "3          0.0              0.0               0.0          0.0   \n",
            "4          0.0              0.0               0.0          0.0   \n",
            "\n",
            "   service_daytime  service_discard  service_domain  service_domain_u  \\\n",
            "0              0.0              0.0             0.0               0.0   \n",
            "1              0.0              0.0             0.0               0.0   \n",
            "2              0.0              0.0             0.0               0.0   \n",
            "3              0.0              0.0             0.0               0.0   \n",
            "4              0.0              0.0             0.0               0.0   \n",
            "\n",
            "   service_echo  service_eco_i  service_ecr_i  service_efs  service_exec  \\\n",
            "0           0.0            0.0            1.0          0.0           0.0   \n",
            "1           0.0            0.0            1.0          0.0           0.0   \n",
            "2           0.0            0.0            1.0          0.0           0.0   \n",
            "3           0.0            0.0            0.0          0.0           0.0   \n",
            "4           0.0            0.0            0.0          0.0           0.0   \n",
            "\n",
            "   service_finger  service_ftp  service_ftp_data  service_gopher  \\\n",
            "0             0.0          0.0               0.0             0.0   \n",
            "1             0.0          0.0               0.0             0.0   \n",
            "2             0.0          0.0               0.0             0.0   \n",
            "3             0.0          0.0               0.0             0.0   \n",
            "4             0.0          0.0               0.0             0.0   \n",
            "\n",
            "   service_hostnames  service_http  service_http_443  service_imap4  \\\n",
            "0                0.0           0.0               0.0            0.0   \n",
            "1                0.0           0.0               0.0            0.0   \n",
            "2                0.0           0.0               0.0            0.0   \n",
            "3                0.0           1.0               0.0            0.0   \n",
            "4                0.0           0.0               0.0            0.0   \n",
            "\n",
            "   service_iso_tsap  service_klogin  service_kshell  service_ldap  \\\n",
            "0               0.0             0.0             0.0           0.0   \n",
            "1               0.0             0.0             0.0           0.0   \n",
            "2               0.0             0.0             0.0           0.0   \n",
            "3               0.0             0.0             0.0           0.0   \n",
            "4               0.0             0.0             0.0           0.0   \n",
            "\n",
            "   service_link  service_login  service_mtp  service_name  \\\n",
            "0           0.0            0.0          0.0           0.0   \n",
            "1           0.0            0.0          0.0           0.0   \n",
            "2           0.0            0.0          0.0           0.0   \n",
            "3           0.0            0.0          0.0           0.0   \n",
            "4           0.0            0.0          0.0           0.0   \n",
            "\n",
            "   service_netbios_dgm  service_netbios_ns  service_netbios_ssn  \\\n",
            "0                  0.0                 0.0                  0.0   \n",
            "1                  0.0                 0.0                  0.0   \n",
            "2                  0.0                 0.0                  0.0   \n",
            "3                  0.0                 0.0                  0.0   \n",
            "4                  0.0                 0.0                  0.0   \n",
            "\n",
            "   service_netstat  service_nnsp  service_nntp  service_ntp_u  service_other  \\\n",
            "0              0.0           0.0           0.0            0.0            0.0   \n",
            "1              0.0           0.0           0.0            0.0            0.0   \n",
            "2              0.0           0.0           0.0            0.0            0.0   \n",
            "3              0.0           0.0           0.0            0.0            0.0   \n",
            "4              0.0           0.0           0.0            0.0            0.0   \n",
            "\n",
            "   service_pm_dump  service_pop_2  service_pop_3  service_printer  \\\n",
            "0              0.0            0.0            0.0              0.0   \n",
            "1              0.0            0.0            0.0              0.0   \n",
            "2              0.0            0.0            0.0              0.0   \n",
            "3              0.0            0.0            0.0              0.0   \n",
            "4              0.0            0.0            0.0              0.0   \n",
            "\n",
            "   service_private  service_red_i  service_remote_job  service_rje  \\\n",
            "0              0.0            0.0                 0.0          0.0   \n",
            "1              0.0            0.0                 0.0          0.0   \n",
            "2              0.0            0.0                 0.0          0.0   \n",
            "3              0.0            0.0                 0.0          0.0   \n",
            "4              1.0            0.0                 0.0          0.0   \n",
            "\n",
            "   service_shell  service_smtp  service_sql_net  service_ssh  service_sunrpc  \\\n",
            "0            0.0           0.0              0.0          0.0             0.0   \n",
            "1            0.0           0.0              0.0          0.0             0.0   \n",
            "2            0.0           0.0              0.0          0.0             0.0   \n",
            "3            0.0           0.0              0.0          0.0             0.0   \n",
            "4            0.0           0.0              0.0          0.0             0.0   \n",
            "\n",
            "   service_supdup  service_systat  service_telnet  service_tim_i  \\\n",
            "0             0.0             0.0             0.0            0.0   \n",
            "1             0.0             0.0             0.0            0.0   \n",
            "2             0.0             0.0             0.0            0.0   \n",
            "3             0.0             0.0             0.0            0.0   \n",
            "4             0.0             0.0             0.0            0.0   \n",
            "\n",
            "   service_time  service_urh_i  service_urp_i  service_uucp  \\\n",
            "0           0.0            0.0            0.0           0.0   \n",
            "1           0.0            0.0            0.0           0.0   \n",
            "2           0.0            0.0            0.0           0.0   \n",
            "3           0.0            0.0            0.0           0.0   \n",
            "4           0.0            0.0            0.0           0.0   \n",
            "\n",
            "   service_uucp_path  service_vmnet  service_whois  flag_OTH  flag_REJ  \\\n",
            "0                0.0            0.0            0.0       0.0       0.0   \n",
            "1                0.0            0.0            0.0       0.0       0.0   \n",
            "2                0.0            0.0            0.0       0.0       0.0   \n",
            "3                0.0            0.0            0.0       0.0       0.0   \n",
            "4                0.0            0.0            0.0       0.0       0.0   \n",
            "\n",
            "   flag_RSTO  flag_RSTOS0  flag_RSTR  flag_S0  flag_S1  flag_S2  flag_S3  \\\n",
            "0        0.0          0.0        0.0      0.0      0.0      0.0      0.0   \n",
            "1        0.0          0.0        0.0      0.0      0.0      0.0      0.0   \n",
            "2        0.0          0.0        0.0      0.0      0.0      0.0      0.0   \n",
            "3        0.0          0.0        0.0      0.0      0.0      0.0      0.0   \n",
            "4        0.0          0.0        0.0      1.0      0.0      0.0      0.0   \n",
            "\n",
            "   flag_SF  flag_SH  \n",
            "0      1.0      0.0  \n",
            "1      1.0      0.0  \n",
            "2      1.0      0.0  \n",
            "3      1.0      0.0  \n",
            "4      0.0      0.0  \n"
          ]
        }
      ]
    },
    {
      "cell_type": "markdown",
      "source": [
        "# Modelling"
      ],
      "metadata": {
        "id": "0vyiQ4XAc3y-"
      }
    },
    {
      "cell_type": "markdown",
      "source": [
        "## AutoEncoder"
      ],
      "metadata": {
        "id": "49MIf0SSdB5V"
      }
    },
    {
      "cell_type": "markdown",
      "source": [
        "Now that the train and test data is ready. Let's design an AutoEncoder."
      ],
      "metadata": {
        "id": "l4VHAFwwc7wo"
      }
    },
    {
      "cell_type": "markdown",
      "source": [
        "### Encoder"
      ],
      "metadata": {
        "id": "s5Sek2yedE0h"
      }
    },
    {
      "cell_type": "markdown",
      "source": [
        "<font color='blue'>Design an Encoder. Take any aribitrary number of Dense Layers, with arbitrary number of neurons in each layers. The output dimensions should be significantly less than the number of dimensions in the Training Dataset. Feel free to try out various architectures here and use the one yeilding best results. The encoder should be an object of \"Model\" class</font>"
      ],
      "metadata": {
        "id": "nxoke-JcdINk"
      }
    },
    {
      "cell_type": "code",
      "source": [
        "# Define/Initialize the input dimension\n",
        "input_dim = X_train.shape[1]\n",
        "\n",
        "# Define the latent space dimension\n",
        "encoding_dim = 4\n",
        "# Define the layers of the Encoder\n",
        "input_data = layers.Input(shape=(input_dim,))\n",
        "\n",
        "encoded = layers.Dense(64, activation='relu')(input_data)\n",
        "encoded = layers.Dense(32, activation='relu')(encoded)\n",
        "encoded = layers.Dense(encoding_dim, activation='relu')(encoded)\n",
        "\n",
        "# Initialize the encoder Model using the above created architecture\n",
        "encoder = Model(input_data, encoded)\n",
        "\n",
        "# Print encoder summary\n",
        "encoder.summary()"
      ],
      "metadata": {
        "id": "UZ2ZJTuydxhp",
        "outputId": "559ceb11-8839-46ea-88ec-b7aa412a7252",
        "colab": {
          "base_uri": "https://localhost:8080/",
          "height": 267
        }
      },
      "execution_count": 31,
      "outputs": [
        {
          "output_type": "display_data",
          "data": {
            "text/plain": [
              "\u001b[1mModel: \"functional\"\u001b[0m\n"
            ],
            "text/html": [
              "<pre style=\"white-space:pre;overflow-x:auto;line-height:normal;font-family:Menlo,'DejaVu Sans Mono',consolas,'Courier New',monospace\"><span style=\"font-weight: bold\">Model: \"functional\"</span>\n",
              "</pre>\n"
            ]
          },
          "metadata": {}
        },
        {
          "output_type": "display_data",
          "data": {
            "text/plain": [
              "┏━━━━━━━━━━━━━━━━━━━━━━━━━━━━━━━━━━━━━━┳━━━━━━━━━━━━━━━━━━━━━━━━━━━━━┳━━━━━━━━━━━━━━━━━┓\n",
              "┃\u001b[1m \u001b[0m\u001b[1mLayer (type)                        \u001b[0m\u001b[1m \u001b[0m┃\u001b[1m \u001b[0m\u001b[1mOutput Shape               \u001b[0m\u001b[1m \u001b[0m┃\u001b[1m \u001b[0m\u001b[1m        Param #\u001b[0m\u001b[1m \u001b[0m┃\n",
              "┡━━━━━━━━━━━━━━━━━━━━━━━━━━━━━━━━━━━━━━╇━━━━━━━━━━━━━━━━━━━━━━━━━━━━━╇━━━━━━━━━━━━━━━━━┩\n",
              "│ input_layer (\u001b[38;5;33mInputLayer\u001b[0m)             │ (\u001b[38;5;45mNone\u001b[0m, \u001b[38;5;34m117\u001b[0m)                 │               \u001b[38;5;34m0\u001b[0m │\n",
              "├──────────────────────────────────────┼─────────────────────────────┼─────────────────┤\n",
              "│ dense (\u001b[38;5;33mDense\u001b[0m)                        │ (\u001b[38;5;45mNone\u001b[0m, \u001b[38;5;34m64\u001b[0m)                  │           \u001b[38;5;34m7,552\u001b[0m │\n",
              "├──────────────────────────────────────┼─────────────────────────────┼─────────────────┤\n",
              "│ dense_1 (\u001b[38;5;33mDense\u001b[0m)                      │ (\u001b[38;5;45mNone\u001b[0m, \u001b[38;5;34m32\u001b[0m)                  │           \u001b[38;5;34m2,080\u001b[0m │\n",
              "├──────────────────────────────────────┼─────────────────────────────┼─────────────────┤\n",
              "│ dense_2 (\u001b[38;5;33mDense\u001b[0m)                      │ (\u001b[38;5;45mNone\u001b[0m, \u001b[38;5;34m4\u001b[0m)                   │             \u001b[38;5;34m132\u001b[0m │\n",
              "└──────────────────────────────────────┴─────────────────────────────┴─────────────────┘\n"
            ],
            "text/html": [
              "<pre style=\"white-space:pre;overflow-x:auto;line-height:normal;font-family:Menlo,'DejaVu Sans Mono',consolas,'Courier New',monospace\">┏━━━━━━━━━━━━━━━━━━━━━━━━━━━━━━━━━━━━━━┳━━━━━━━━━━━━━━━━━━━━━━━━━━━━━┳━━━━━━━━━━━━━━━━━┓\n",
              "┃<span style=\"font-weight: bold\"> Layer (type)                         </span>┃<span style=\"font-weight: bold\"> Output Shape                </span>┃<span style=\"font-weight: bold\">         Param # </span>┃\n",
              "┡━━━━━━━━━━━━━━━━━━━━━━━━━━━━━━━━━━━━━━╇━━━━━━━━━━━━━━━━━━━━━━━━━━━━━╇━━━━━━━━━━━━━━━━━┩\n",
              "│ input_layer (<span style=\"color: #0087ff; text-decoration-color: #0087ff\">InputLayer</span>)             │ (<span style=\"color: #00d7ff; text-decoration-color: #00d7ff\">None</span>, <span style=\"color: #00af00; text-decoration-color: #00af00\">117</span>)                 │               <span style=\"color: #00af00; text-decoration-color: #00af00\">0</span> │\n",
              "├──────────────────────────────────────┼─────────────────────────────┼─────────────────┤\n",
              "│ dense (<span style=\"color: #0087ff; text-decoration-color: #0087ff\">Dense</span>)                        │ (<span style=\"color: #00d7ff; text-decoration-color: #00d7ff\">None</span>, <span style=\"color: #00af00; text-decoration-color: #00af00\">64</span>)                  │           <span style=\"color: #00af00; text-decoration-color: #00af00\">7,552</span> │\n",
              "├──────────────────────────────────────┼─────────────────────────────┼─────────────────┤\n",
              "│ dense_1 (<span style=\"color: #0087ff; text-decoration-color: #0087ff\">Dense</span>)                      │ (<span style=\"color: #00d7ff; text-decoration-color: #00d7ff\">None</span>, <span style=\"color: #00af00; text-decoration-color: #00af00\">32</span>)                  │           <span style=\"color: #00af00; text-decoration-color: #00af00\">2,080</span> │\n",
              "├──────────────────────────────────────┼─────────────────────────────┼─────────────────┤\n",
              "│ dense_2 (<span style=\"color: #0087ff; text-decoration-color: #0087ff\">Dense</span>)                      │ (<span style=\"color: #00d7ff; text-decoration-color: #00d7ff\">None</span>, <span style=\"color: #00af00; text-decoration-color: #00af00\">4</span>)                   │             <span style=\"color: #00af00; text-decoration-color: #00af00\">132</span> │\n",
              "└──────────────────────────────────────┴─────────────────────────────┴─────────────────┘\n",
              "</pre>\n"
            ]
          },
          "metadata": {}
        },
        {
          "output_type": "display_data",
          "data": {
            "text/plain": [
              "\u001b[1m Total params: \u001b[0m\u001b[38;5;34m9,764\u001b[0m (38.14 KB)\n"
            ],
            "text/html": [
              "<pre style=\"white-space:pre;overflow-x:auto;line-height:normal;font-family:Menlo,'DejaVu Sans Mono',consolas,'Courier New',monospace\"><span style=\"font-weight: bold\"> Total params: </span><span style=\"color: #00af00; text-decoration-color: #00af00\">9,764</span> (38.14 KB)\n",
              "</pre>\n"
            ]
          },
          "metadata": {}
        },
        {
          "output_type": "display_data",
          "data": {
            "text/plain": [
              "\u001b[1m Trainable params: \u001b[0m\u001b[38;5;34m9,764\u001b[0m (38.14 KB)\n"
            ],
            "text/html": [
              "<pre style=\"white-space:pre;overflow-x:auto;line-height:normal;font-family:Menlo,'DejaVu Sans Mono',consolas,'Courier New',monospace\"><span style=\"font-weight: bold\"> Trainable params: </span><span style=\"color: #00af00; text-decoration-color: #00af00\">9,764</span> (38.14 KB)\n",
              "</pre>\n"
            ]
          },
          "metadata": {}
        },
        {
          "output_type": "display_data",
          "data": {
            "text/plain": [
              "\u001b[1m Non-trainable params: \u001b[0m\u001b[38;5;34m0\u001b[0m (0.00 B)\n"
            ],
            "text/html": [
              "<pre style=\"white-space:pre;overflow-x:auto;line-height:normal;font-family:Menlo,'DejaVu Sans Mono',consolas,'Courier New',monospace\"><span style=\"font-weight: bold\"> Non-trainable params: </span><span style=\"color: #00af00; text-decoration-color: #00af00\">0</span> (0.00 B)\n",
              "</pre>\n"
            ]
          },
          "metadata": {}
        }
      ]
    },
    {
      "cell_type": "markdown",
      "source": [
        "<font color='blue'>Design the decoder. The architecture of the Decoder should complement the Encoder. The decoder should be an object of \"Model\" class</font>"
      ],
      "metadata": {
        "id": "29gOB601epYA"
      }
    },
    {
      "cell_type": "code",
      "source": [
        "# Define the layers of the Decoder\n",
        "encoded_input = layers.Input(shape=(encoding_dim,))\n",
        "decoded = layers.Dense(32, activation='relu')(encoded_input)\n",
        "decoded = layers.Dense(64, activation='relu')(decoded)\n",
        "decoded = layers.Dense(input_dim, activation='sigmoid')(decoded)\n",
        "\n",
        "# Initialize the Decoder Model using the above created architecture\n",
        "decoder = Model(encoded_input, decoded)\n",
        "\n",
        "# Print decoder summary\n",
        "decoder.summary()"
      ],
      "metadata": {
        "id": "kW-RzGEGemwJ",
        "outputId": "97e2a067-c736-4f0f-fd77-237f42b695f5",
        "colab": {
          "base_uri": "https://localhost:8080/",
          "height": 267
        }
      },
      "execution_count": 32,
      "outputs": [
        {
          "output_type": "display_data",
          "data": {
            "text/plain": [
              "\u001b[1mModel: \"functional_1\"\u001b[0m\n"
            ],
            "text/html": [
              "<pre style=\"white-space:pre;overflow-x:auto;line-height:normal;font-family:Menlo,'DejaVu Sans Mono',consolas,'Courier New',monospace\"><span style=\"font-weight: bold\">Model: \"functional_1\"</span>\n",
              "</pre>\n"
            ]
          },
          "metadata": {}
        },
        {
          "output_type": "display_data",
          "data": {
            "text/plain": [
              "┏━━━━━━━━━━━━━━━━━━━━━━━━━━━━━━━━━━━━━━┳━━━━━━━━━━━━━━━━━━━━━━━━━━━━━┳━━━━━━━━━━━━━━━━━┓\n",
              "┃\u001b[1m \u001b[0m\u001b[1mLayer (type)                        \u001b[0m\u001b[1m \u001b[0m┃\u001b[1m \u001b[0m\u001b[1mOutput Shape               \u001b[0m\u001b[1m \u001b[0m┃\u001b[1m \u001b[0m\u001b[1m        Param #\u001b[0m\u001b[1m \u001b[0m┃\n",
              "┡━━━━━━━━━━━━━━━━━━━━━━━━━━━━━━━━━━━━━━╇━━━━━━━━━━━━━━━━━━━━━━━━━━━━━╇━━━━━━━━━━━━━━━━━┩\n",
              "│ input_layer_1 (\u001b[38;5;33mInputLayer\u001b[0m)           │ (\u001b[38;5;45mNone\u001b[0m, \u001b[38;5;34m4\u001b[0m)                   │               \u001b[38;5;34m0\u001b[0m │\n",
              "├──────────────────────────────────────┼─────────────────────────────┼─────────────────┤\n",
              "│ dense_3 (\u001b[38;5;33mDense\u001b[0m)                      │ (\u001b[38;5;45mNone\u001b[0m, \u001b[38;5;34m32\u001b[0m)                  │             \u001b[38;5;34m160\u001b[0m │\n",
              "├──────────────────────────────────────┼─────────────────────────────┼─────────────────┤\n",
              "│ dense_4 (\u001b[38;5;33mDense\u001b[0m)                      │ (\u001b[38;5;45mNone\u001b[0m, \u001b[38;5;34m64\u001b[0m)                  │           \u001b[38;5;34m2,112\u001b[0m │\n",
              "├──────────────────────────────────────┼─────────────────────────────┼─────────────────┤\n",
              "│ dense_5 (\u001b[38;5;33mDense\u001b[0m)                      │ (\u001b[38;5;45mNone\u001b[0m, \u001b[38;5;34m117\u001b[0m)                 │           \u001b[38;5;34m7,605\u001b[0m │\n",
              "└──────────────────────────────────────┴─────────────────────────────┴─────────────────┘\n"
            ],
            "text/html": [
              "<pre style=\"white-space:pre;overflow-x:auto;line-height:normal;font-family:Menlo,'DejaVu Sans Mono',consolas,'Courier New',monospace\">┏━━━━━━━━━━━━━━━━━━━━━━━━━━━━━━━━━━━━━━┳━━━━━━━━━━━━━━━━━━━━━━━━━━━━━┳━━━━━━━━━━━━━━━━━┓\n",
              "┃<span style=\"font-weight: bold\"> Layer (type)                         </span>┃<span style=\"font-weight: bold\"> Output Shape                </span>┃<span style=\"font-weight: bold\">         Param # </span>┃\n",
              "┡━━━━━━━━━━━━━━━━━━━━━━━━━━━━━━━━━━━━━━╇━━━━━━━━━━━━━━━━━━━━━━━━━━━━━╇━━━━━━━━━━━━━━━━━┩\n",
              "│ input_layer_1 (<span style=\"color: #0087ff; text-decoration-color: #0087ff\">InputLayer</span>)           │ (<span style=\"color: #00d7ff; text-decoration-color: #00d7ff\">None</span>, <span style=\"color: #00af00; text-decoration-color: #00af00\">4</span>)                   │               <span style=\"color: #00af00; text-decoration-color: #00af00\">0</span> │\n",
              "├──────────────────────────────────────┼─────────────────────────────┼─────────────────┤\n",
              "│ dense_3 (<span style=\"color: #0087ff; text-decoration-color: #0087ff\">Dense</span>)                      │ (<span style=\"color: #00d7ff; text-decoration-color: #00d7ff\">None</span>, <span style=\"color: #00af00; text-decoration-color: #00af00\">32</span>)                  │             <span style=\"color: #00af00; text-decoration-color: #00af00\">160</span> │\n",
              "├──────────────────────────────────────┼─────────────────────────────┼─────────────────┤\n",
              "│ dense_4 (<span style=\"color: #0087ff; text-decoration-color: #0087ff\">Dense</span>)                      │ (<span style=\"color: #00d7ff; text-decoration-color: #00d7ff\">None</span>, <span style=\"color: #00af00; text-decoration-color: #00af00\">64</span>)                  │           <span style=\"color: #00af00; text-decoration-color: #00af00\">2,112</span> │\n",
              "├──────────────────────────────────────┼─────────────────────────────┼─────────────────┤\n",
              "│ dense_5 (<span style=\"color: #0087ff; text-decoration-color: #0087ff\">Dense</span>)                      │ (<span style=\"color: #00d7ff; text-decoration-color: #00d7ff\">None</span>, <span style=\"color: #00af00; text-decoration-color: #00af00\">117</span>)                 │           <span style=\"color: #00af00; text-decoration-color: #00af00\">7,605</span> │\n",
              "└──────────────────────────────────────┴─────────────────────────────┴─────────────────┘\n",
              "</pre>\n"
            ]
          },
          "metadata": {}
        },
        {
          "output_type": "display_data",
          "data": {
            "text/plain": [
              "\u001b[1m Total params: \u001b[0m\u001b[38;5;34m9,877\u001b[0m (38.58 KB)\n"
            ],
            "text/html": [
              "<pre style=\"white-space:pre;overflow-x:auto;line-height:normal;font-family:Menlo,'DejaVu Sans Mono',consolas,'Courier New',monospace\"><span style=\"font-weight: bold\"> Total params: </span><span style=\"color: #00af00; text-decoration-color: #00af00\">9,877</span> (38.58 KB)\n",
              "</pre>\n"
            ]
          },
          "metadata": {}
        },
        {
          "output_type": "display_data",
          "data": {
            "text/plain": [
              "\u001b[1m Trainable params: \u001b[0m\u001b[38;5;34m9,877\u001b[0m (38.58 KB)\n"
            ],
            "text/html": [
              "<pre style=\"white-space:pre;overflow-x:auto;line-height:normal;font-family:Menlo,'DejaVu Sans Mono',consolas,'Courier New',monospace\"><span style=\"font-weight: bold\"> Trainable params: </span><span style=\"color: #00af00; text-decoration-color: #00af00\">9,877</span> (38.58 KB)\n",
              "</pre>\n"
            ]
          },
          "metadata": {}
        },
        {
          "output_type": "display_data",
          "data": {
            "text/plain": [
              "\u001b[1m Non-trainable params: \u001b[0m\u001b[38;5;34m0\u001b[0m (0.00 B)\n"
            ],
            "text/html": [
              "<pre style=\"white-space:pre;overflow-x:auto;line-height:normal;font-family:Menlo,'DejaVu Sans Mono',consolas,'Courier New',monospace\"><span style=\"font-weight: bold\"> Non-trainable params: </span><span style=\"color: #00af00; text-decoration-color: #00af00\">0</span> (0.00 B)\n",
              "</pre>\n"
            ]
          },
          "metadata": {}
        }
      ]
    },
    {
      "cell_type": "markdown",
      "source": [
        "<font color='blue'>Combine encoder and decoder to produce the final model.</font>"
      ],
      "metadata": {
        "id": "tclDerz9fI8q"
      }
    },
    {
      "cell_type": "code",
      "source": [
        "# Combine encoder and decoder models to create the Autoencoder model\n",
        "autoencoder_encoded = encoder(input_data)\n",
        "autoencoder_decoded = decoder(autoencoder_encoded)\n",
        "autoencoder = Model(input_data, autoencoder_decoded)\n",
        "\n",
        "autoencoder.summary()"
      ],
      "metadata": {
        "id": "7LfDFKm9fOQ5",
        "outputId": "9e86e03b-cdf2-4a90-c287-b84d408e982f",
        "colab": {
          "base_uri": "https://localhost:8080/",
          "height": 234
        }
      },
      "execution_count": 33,
      "outputs": [
        {
          "output_type": "display_data",
          "data": {
            "text/plain": [
              "\u001b[1mModel: \"functional_2\"\u001b[0m\n"
            ],
            "text/html": [
              "<pre style=\"white-space:pre;overflow-x:auto;line-height:normal;font-family:Menlo,'DejaVu Sans Mono',consolas,'Courier New',monospace\"><span style=\"font-weight: bold\">Model: \"functional_2\"</span>\n",
              "</pre>\n"
            ]
          },
          "metadata": {}
        },
        {
          "output_type": "display_data",
          "data": {
            "text/plain": [
              "┏━━━━━━━━━━━━━━━━━━━━━━━━━━━━━━━━━━━━━━┳━━━━━━━━━━━━━━━━━━━━━━━━━━━━━┳━━━━━━━━━━━━━━━━━┓\n",
              "┃\u001b[1m \u001b[0m\u001b[1mLayer (type)                        \u001b[0m\u001b[1m \u001b[0m┃\u001b[1m \u001b[0m\u001b[1mOutput Shape               \u001b[0m\u001b[1m \u001b[0m┃\u001b[1m \u001b[0m\u001b[1m        Param #\u001b[0m\u001b[1m \u001b[0m┃\n",
              "┡━━━━━━━━━━━━━━━━━━━━━━━━━━━━━━━━━━━━━━╇━━━━━━━━━━━━━━━━━━━━━━━━━━━━━╇━━━━━━━━━━━━━━━━━┩\n",
              "│ input_layer (\u001b[38;5;33mInputLayer\u001b[0m)             │ (\u001b[38;5;45mNone\u001b[0m, \u001b[38;5;34m117\u001b[0m)                 │               \u001b[38;5;34m0\u001b[0m │\n",
              "├──────────────────────────────────────┼─────────────────────────────┼─────────────────┤\n",
              "│ functional (\u001b[38;5;33mFunctional\u001b[0m)              │ (\u001b[38;5;45mNone\u001b[0m, \u001b[38;5;34m4\u001b[0m)                   │           \u001b[38;5;34m9,764\u001b[0m │\n",
              "├──────────────────────────────────────┼─────────────────────────────┼─────────────────┤\n",
              "│ functional_1 (\u001b[38;5;33mFunctional\u001b[0m)            │ (\u001b[38;5;45mNone\u001b[0m, \u001b[38;5;34m117\u001b[0m)                 │           \u001b[38;5;34m9,877\u001b[0m │\n",
              "└──────────────────────────────────────┴─────────────────────────────┴─────────────────┘\n"
            ],
            "text/html": [
              "<pre style=\"white-space:pre;overflow-x:auto;line-height:normal;font-family:Menlo,'DejaVu Sans Mono',consolas,'Courier New',monospace\">┏━━━━━━━━━━━━━━━━━━━━━━━━━━━━━━━━━━━━━━┳━━━━━━━━━━━━━━━━━━━━━━━━━━━━━┳━━━━━━━━━━━━━━━━━┓\n",
              "┃<span style=\"font-weight: bold\"> Layer (type)                         </span>┃<span style=\"font-weight: bold\"> Output Shape                </span>┃<span style=\"font-weight: bold\">         Param # </span>┃\n",
              "┡━━━━━━━━━━━━━━━━━━━━━━━━━━━━━━━━━━━━━━╇━━━━━━━━━━━━━━━━━━━━━━━━━━━━━╇━━━━━━━━━━━━━━━━━┩\n",
              "│ input_layer (<span style=\"color: #0087ff; text-decoration-color: #0087ff\">InputLayer</span>)             │ (<span style=\"color: #00d7ff; text-decoration-color: #00d7ff\">None</span>, <span style=\"color: #00af00; text-decoration-color: #00af00\">117</span>)                 │               <span style=\"color: #00af00; text-decoration-color: #00af00\">0</span> │\n",
              "├──────────────────────────────────────┼─────────────────────────────┼─────────────────┤\n",
              "│ functional (<span style=\"color: #0087ff; text-decoration-color: #0087ff\">Functional</span>)              │ (<span style=\"color: #00d7ff; text-decoration-color: #00d7ff\">None</span>, <span style=\"color: #00af00; text-decoration-color: #00af00\">4</span>)                   │           <span style=\"color: #00af00; text-decoration-color: #00af00\">9,764</span> │\n",
              "├──────────────────────────────────────┼─────────────────────────────┼─────────────────┤\n",
              "│ functional_1 (<span style=\"color: #0087ff; text-decoration-color: #0087ff\">Functional</span>)            │ (<span style=\"color: #00d7ff; text-decoration-color: #00d7ff\">None</span>, <span style=\"color: #00af00; text-decoration-color: #00af00\">117</span>)                 │           <span style=\"color: #00af00; text-decoration-color: #00af00\">9,877</span> │\n",
              "└──────────────────────────────────────┴─────────────────────────────┴─────────────────┘\n",
              "</pre>\n"
            ]
          },
          "metadata": {}
        },
        {
          "output_type": "display_data",
          "data": {
            "text/plain": [
              "\u001b[1m Total params: \u001b[0m\u001b[38;5;34m19,641\u001b[0m (76.72 KB)\n"
            ],
            "text/html": [
              "<pre style=\"white-space:pre;overflow-x:auto;line-height:normal;font-family:Menlo,'DejaVu Sans Mono',consolas,'Courier New',monospace\"><span style=\"font-weight: bold\"> Total params: </span><span style=\"color: #00af00; text-decoration-color: #00af00\">19,641</span> (76.72 KB)\n",
              "</pre>\n"
            ]
          },
          "metadata": {}
        },
        {
          "output_type": "display_data",
          "data": {
            "text/plain": [
              "\u001b[1m Trainable params: \u001b[0m\u001b[38;5;34m19,641\u001b[0m (76.72 KB)\n"
            ],
            "text/html": [
              "<pre style=\"white-space:pre;overflow-x:auto;line-height:normal;font-family:Menlo,'DejaVu Sans Mono',consolas,'Courier New',monospace\"><span style=\"font-weight: bold\"> Trainable params: </span><span style=\"color: #00af00; text-decoration-color: #00af00\">19,641</span> (76.72 KB)\n",
              "</pre>\n"
            ]
          },
          "metadata": {}
        },
        {
          "output_type": "display_data",
          "data": {
            "text/plain": [
              "\u001b[1m Non-trainable params: \u001b[0m\u001b[38;5;34m0\u001b[0m (0.00 B)\n"
            ],
            "text/html": [
              "<pre style=\"white-space:pre;overflow-x:auto;line-height:normal;font-family:Menlo,'DejaVu Sans Mono',consolas,'Courier New',monospace\"><span style=\"font-weight: bold\"> Non-trainable params: </span><span style=\"color: #00af00; text-decoration-color: #00af00\">0</span> (0.00 B)\n",
              "</pre>\n"
            ]
          },
          "metadata": {}
        }
      ]
    },
    {
      "cell_type": "markdown",
      "source": [
        "<font color='blue'>Compile and Train the AutoEncoder on X_train. Feel free to try out various hyperparameters, and/or try various hyperparameter search techniques.</font>"
      ],
      "metadata": {
        "id": "XvZSkYWugrBk"
      }
    },
    {
      "cell_type": "code",
      "source": [
        "# Compile the autoencoder\n",
        "autoencoder.compile(optimizer=Adam(learning_rate=1e-5), loss='mse')\n",
        "\n",
        "# Train the autoencoder\n",
        "history = autoencoder.fit(X_train, X_train, epochs=5, batch_size=256, validation_data=(X_test, X_test))"
      ],
      "metadata": {
        "id": "-MIr16cahAXO",
        "outputId": "60781965-4542-4238-d959-bb8bc6007973",
        "colab": {
          "base_uri": "https://localhost:8080/"
        }
      },
      "execution_count": 35,
      "outputs": [
        {
          "output_type": "stream",
          "name": "stdout",
          "text": [
            "Epoch 1/5\n",
            "\u001b[1m1544/1544\u001b[0m \u001b[32m━━━━━━━━━━━━━━━━━━━━\u001b[0m\u001b[37m\u001b[0m \u001b[1m10s\u001b[0m 4ms/step - loss: 0.2372 - val_loss: 0.1446\n",
            "Epoch 2/5\n",
            "\u001b[1m1544/1544\u001b[0m \u001b[32m━━━━━━━━━━━━━━━━━━━━\u001b[0m\u001b[37m\u001b[0m \u001b[1m6s\u001b[0m 3ms/step - loss: 0.1068 - val_loss: 0.0408\n",
            "Epoch 3/5\n",
            "\u001b[1m1544/1544\u001b[0m \u001b[32m━━━━━━━━━━━━━━━━━━━━\u001b[0m\u001b[37m\u001b[0m \u001b[1m4s\u001b[0m 2ms/step - loss: 0.0365 - val_loss: 0.0293\n",
            "Epoch 4/5\n",
            "\u001b[1m1544/1544\u001b[0m \u001b[32m━━━━━━━━━━━━━━━━━━━━\u001b[0m\u001b[37m\u001b[0m \u001b[1m10s\u001b[0m 6ms/step - loss: 0.0284 - val_loss: 0.0252\n",
            "Epoch 5/5\n",
            "\u001b[1m1544/1544\u001b[0m \u001b[32m━━━━━━━━━━━━━━━━━━━━\u001b[0m\u001b[37m\u001b[0m \u001b[1m4s\u001b[0m 3ms/step - loss: 0.0241 - val_loss: 0.0196\n"
          ]
        }
      ]
    },
    {
      "cell_type": "markdown",
      "source": [
        "<font color='blue'>Create a plot to visualize the training and validation loss</font>"
      ],
      "metadata": {
        "id": "FWTA1n4gh5gm"
      }
    },
    {
      "cell_type": "code",
      "source": [
        "# Access the loss history\n",
        "train_loss = history.history['loss']\n",
        "val_loss = history.history['val_loss']\n",
        "\n",
        "# Plot the training and validation loss curves\n",
        "epochs = range(1, len(train_loss) + 1)\n",
        "plt.plot(epochs, train_loss, 'b-', label='Training Loss')\n",
        "plt.plot(epochs, val_loss, 'r-', label='Validation Loss')\n",
        "plt.title('Training and Validation Loss')\n",
        "plt.xlabel('Epochs')\n",
        "plt.ylabel('Loss')\n",
        "plt.legend()\n",
        "plt.show()\n",
        ""
      ],
      "metadata": {
        "id": "NuHcM2lViD4V",
        "outputId": "c6ebb5a8-987d-4f5b-ea57-0795b8e5b24b",
        "colab": {
          "base_uri": "https://localhost:8080/",
          "height": 472
        }
      },
      "execution_count": 36,
      "outputs": [
        {
          "output_type": "display_data",
          "data": {
            "text/plain": [
              "<Figure size 640x480 with 1 Axes>"
            ],
            "image/png": "[encoded data removed]"
          },
          "metadata": {}
        }
      ]
    },
    {
      "cell_type": "markdown",
      "source": [
        "## Classifier"
      ],
      "metadata": {
        "id": "09pwYNPDicsO"
      }
    },
    {
      "cell_type": "markdown",
      "source": [
        "The AutoEncoder can now give us a latent space from the Encoder, with the features representing the maximum information from the original set of 117 features. The task is to build a classifier, use this latent space from the AutoEncoder as input features to the classifier, and see if the classifier can predict network attacks accurately."
      ],
      "metadata": {
        "id": "OhYgTXTOie0K"
      }
    },
    {
      "cell_type": "markdown",
      "source": [
        "<font color='blue'> Build a classifier here. You are free to use any architecture i.e. non-neural models such as Logistic Regression, Decision Trees, Random Forest etc. or a Sequential Feed Forward Neural Network. </font>"
      ],
      "metadata": {
        "id": "JYH-LVA8jJHt"
      }
    },
    {
      "cell_type": "code",
      "source": [
        "# Use the following function definition for the classifier. Feel free to add more hyperparameters to the function parameters, if needed.\n",
        "# def get_classifier(input_dimension, lr):\n",
        "def get_classifier(input_dimension, lr):\n",
        "  classifier = models.Sequential()\n",
        "  classifier.add(layers.Dense(64, activation='relu', input_dim=input_dimension))\n",
        "  classifier.add(layers.Dense(32, activation='relu'))\n",
        "  classifier.add(layers.Dense(1, activation='sigmoid'))\n",
        "  classifier.compile(optimizer=Adam(learning_rate=lr), loss='binary_crossentropy', metrics=['accuracy'])\n",
        "\n",
        "  return classifier"
      ],
      "metadata": {
        "id": "JFyjJ0Unj3C9"
      },
      "execution_count": 38,
      "outputs": []
    },
    {
      "cell_type": "markdown",
      "source": [
        "### Classification on the non-autoencoded dataset"
      ],
      "metadata": {
        "id": "1ktA705slP47"
      }
    },
    {
      "cell_type": "markdown",
      "source": [
        "<font color='blue'>Train the classifier on the original data first - i.e. on X_train. You do not need to worry about the AutoEncoder's output in this exercise.</font>"
      ],
      "metadata": {
        "id": "ZjC7DsrhkKYv"
      }
    },
    {
      "cell_type": "code",
      "source": [
        "# Get the classifier object using the above function defintion\n",
        "classifier = get_classifier(input_dim, 1e-5)\n",
        "\n",
        "# Train the classifier model on the raw features. Use X_test as validation data\n",
        "classifier.fit(X_train, y_train, epochs=5, batch_size=256, shuffle=True, validation_data=(X_test, y_test))"
      ],
      "metadata": {
        "id": "KfdEE5JtkZNM",
        "outputId": "25c4de94-ea61-4e46-ba43-fa065353a624",
        "colab": {
          "base_uri": "https://localhost:8080/"
        }
      },
      "execution_count": 39,
      "outputs": [
        {
          "output_type": "stream",
          "name": "stderr",
          "text": [
            "/usr/local/lib/python3.10/dist-packages/keras/src/layers/core/dense.py:87: UserWarning: Do not pass an `input_shape`/`input_dim` argument to a layer. When using Sequential models, prefer using an `Input(shape)` object as the first layer in the model instead.\n",
            "  super().__init__(activity_regularizer=activity_regularizer, **kwargs)\n"
          ]
        },
        {
          "output_type": "stream",
          "name": "stdout",
          "text": [
            "Epoch 1/5\n",
            "\u001b[1m1544/1544\u001b[0m \u001b[32m━━━━━━━━━━━━━━━━━━━━\u001b[0m\u001b[37m\u001b[0m \u001b[1m6s\u001b[0m 3ms/step - accuracy: 0.3868 - loss: 0.7334 - val_accuracy: 0.9846 - val_loss: 0.5309\n",
            "Epoch 2/5\n",
            "\u001b[1m1544/1544\u001b[0m \u001b[32m━━━━━━━━━━━━━━━━━━━━\u001b[0m\u001b[37m\u001b[0m \u001b[1m8s\u001b[0m 2ms/step - accuracy: 0.9864 - loss: 0.4795 - val_accuracy: 0.9865 - val_loss: 0.3480\n",
            "Epoch 3/5\n",
            "\u001b[1m1544/1544\u001b[0m \u001b[32m━━━━━━━━━━━━━━━━━━━━\u001b[0m\u001b[37m\u001b[0m \u001b[1m5s\u001b[0m 2ms/step - accuracy: 0.9873 - loss: 0.3099 - val_accuracy: 0.9869 - val_loss: 0.2069\n",
            "Epoch 4/5\n",
            "\u001b[1m1544/1544\u001b[0m \u001b[32m━━━━━━━━━━━━━━━━━━━━\u001b[0m\u001b[37m\u001b[0m \u001b[1m6s\u001b[0m 2ms/step - accuracy: 0.9880 - loss: 0.1677 - val_accuracy: 0.9872 - val_loss: 0.0987\n",
            "Epoch 5/5\n",
            "\u001b[1m1544/1544\u001b[0m \u001b[32m━━━━━━━━━━━━━━━━━━━━\u001b[0m\u001b[37m\u001b[0m \u001b[1m3s\u001b[0m 2ms/step - accuracy: 0.9877 - loss: 0.0869 - val_accuracy: 0.9890 - val_loss: 0.0621\n"
          ]
        },
        {
          "output_type": "execute_result",
          "data": {
            "text/plain": [
              "<keras.src.callbacks.history.History at 0x7aac93142d10>"
            ]
          },
          "metadata": {},
          "execution_count": 39
        }
      ]
    },
    {
      "cell_type": "markdown",
      "source": [
        "<font color='blue'>Generate predictions on the X_test, Generate Classification Report and plot confusion matrix</font>"
      ],
      "metadata": {
        "id": "acGpNZzzkmWr"
      }
    },
    {
      "cell_type": "code",
      "source": [
        "# Predict on the test set\n",
        "y_pred = classifier.predict(X_test)\n",
        "y_pred = np.where(y_pred > 0.5, 1, 0)\n",
        "\n",
        "# Evaluate the classifier by generating the classification report.\n",
        "print(\"Classifier Metrics:\")\n",
        "print(classification_report(y_test, y_pred))\n"
      ],
      "metadata": {
        "id": "OuQ_DpHY2Ipk",
        "outputId": "35dd4bba-1d5e-45a2-b6e4-480cd4e9a5fe",
        "colab": {
          "base_uri": "https://localhost:8080/"
        }
      },
      "execution_count": 40,
      "outputs": [
        {
          "output_type": "stream",
          "name": "stdout",
          "text": [
            "\u001b[1m3088/3088\u001b[0m \u001b[32m━━━━━━━━━━━━━━━━━━━━\u001b[0m\u001b[37m\u001b[0m \u001b[1m6s\u001b[0m 2ms/step\n",
            "Classifier Metrics:\n",
            "              precision    recall  f1-score   support\n",
            "\n",
            "           0       0.96      0.98      0.97     19353\n",
            "           1       1.00      0.99      0.99     79452\n",
            "\n",
            "    accuracy                           0.99     98805\n",
            "   macro avg       0.98      0.99      0.98     98805\n",
            "weighted avg       0.99      0.99      0.99     98805\n",
            "\n"
          ]
        }
      ]
    },
    {
      "cell_type": "code",
      "source": [
        "# Generate the confusion matrix\n",
        "cm = confusion_matrix(y_test, y_pred)\n",
        "# Plot the confusion matrix\n",
        "plt.figure(figsize=(8, 6))\n",
        "sns.heatmap(cm, annot=True, fmt=\"d\", cmap=\"Blues\", cbar=False,\n",
        "            xticklabels=[\"Normal\", \"Anomaly\"], yticklabels=[\"Normal\", \"Anomaly\"])\n",
        "plt.xlabel(\"Predicted\")\n",
        "plt.ylabel(\"True\")\n",
        "plt.title(\"Confusion Matrix\")\n",
        "plt.show()"
      ],
      "metadata": {
        "id": "e2MnT6EilLS3",
        "outputId": "6410a226-3989-4da9-e431-aee4663fe95c",
        "colab": {
          "base_uri": "https://localhost:8080/",
          "height": 564
        }
      },
      "execution_count": 41,
      "outputs": [
        {
          "output_type": "display_data",
          "data": {
            "text/plain": [
              "<Figure size 800x600 with 1 Axes>"
            ],
            "image/png": "[encoded data removed]"
          },
          "metadata": {}
        }
      ]
    },
    {
      "cell_type": "markdown",
      "source": [
        "### Classification on the Autoencoded dataset"
      ],
      "metadata": {
        "id": "dlFej2OhlcjB"
      }
    },
    {
      "cell_type": "markdown",
      "source": [
        "<font color='blue'>Write code to generate latent representations for X_train and X_test from the Encoder component of the AutoEncoder</font>"
      ],
      "metadata": {
        "id": "S4KY-pDylfUz"
      }
    },
    {
      "cell_type": "code",
      "source": [
        "# Obtain the encoded features on X_train\n",
        "encoded_train_features = encoder.predict(X_train)\n",
        "\n",
        "# Obtain the encoded features on X_test\n",
        "encoded_test_features = encoder.predict(X_test)"
      ],
      "metadata": {
        "id": "k70e-Q8X3L8b",
        "outputId": "501fe5a7-3929-4115-af2c-c4366b9d6994",
        "colab": {
          "base_uri": "https://localhost:8080/"
        }
      },
      "execution_count": 42,
      "outputs": [
        {
          "output_type": "stream",
          "name": "stdout",
          "text": [
            "\u001b[1m12351/12351\u001b[0m \u001b[32m━━━━━━━━━━━━━━━━━━━━\u001b[0m\u001b[37m\u001b[0m \u001b[1m16s\u001b[0m 1ms/step\n",
            "\u001b[1m3088/3088\u001b[0m \u001b[32m━━━━━━━━━━━━━━━━━━━━\u001b[0m\u001b[37m\u001b[0m \u001b[1m4s\u001b[0m 1ms/step\n"
          ]
        }
      ]
    },
    {
      "cell_type": "markdown",
      "source": [
        "<font color='blue'>Now train the classifier on these latent representations. You should try out various hyperparameters which your classifier can take in order to achieve the best performance.</font>"
      ],
      "metadata": {
        "id": "N_3VvBcSmYBP"
      }
    },
    {
      "cell_type": "code",
      "source": [
        "# Get the classifier object using the above function defintion\n",
        "classifier=get_classifier(encoding_dim, 3e-5)\n",
        "\n",
        "# Train the classifier model on the encoded features obtained from the AutoEncoder. Use encoded features obtained for X_test as validation data.\n",
        "classifier.fit(encoded_train_features, y_train, epochs=5, batch_size=256, validation_data=(encoded_test_features, y_test))"
      ],
      "metadata": {
        "id": "ODRyM9lkmVMg"
      },
      "execution_count": null,
      "outputs": []
    },
    {
      "cell_type": "markdown",
      "source": [
        "<font color='blue'>Generate predictions on the X_test, Generate Classification Report and plot confusion matrix.</font>"
      ],
      "metadata": {
        "id": "n2Z7mXI0mnmu"
      }
    },
    {
      "cell_type": "code",
      "source": [
        "# Predict on the test set\n",
        "y_pred = classifier.predict(encoded_test_features)\n",
        "y_pred = np.where(y_pred > 0.5, 1, 0)\n",
        "# Evaluate the classifier\n",
        "print(\"Classifier Metrics:\")\n",
        "print(classification_report(y_test, y_pred))"
      ],
      "metadata": {
        "id": "QqYc3CSnqfQy"
      },
      "execution_count": null,
      "outputs": []
    },
    {
      "cell_type": "code",
      "source": [
        "# Calculate the confusion matrix\n",
        "cm = confusion_matrix(y_test, y_pred)\n",
        "# Plot the confusion matrix\n",
        "plt.figure(figsize=(8, 6))\n",
        "sns.heatmap(cm, annot=True, fmt=\"d\", cmap=\"Blues\", cbar=False,\n",
        "            xticklabels=[\"Normal\", \"Anomaly\"], yticklabels=[\"Normal\", \"Anomaly\"])\n",
        "plt.xlabel(\"Predicted\")\n",
        "plt.ylabel(\"True\")\n",
        "plt.title(\"Confusion Matrix\")\n",
        "plt.show()"
      ],
      "metadata": {
        "id": "JMVhwI0cqU8d"
      },
      "execution_count": null,
      "outputs": []
    },
    {
      "cell_type": "markdown",
      "source": [
        "#Summary"
      ],
      "metadata": {
        "id": "zZhxfzyumthP"
      }
    },
    {
      "cell_type": "markdown",
      "source": [
        "<font color='blue'>Summarize your observations when training the classifier on the Raw Features vs training it on the encoded features.\n",
        "\n",
        "Compare and Summarize the results of the two approaches.</font>"
      ],
      "metadata": {
        "id": "Jkf2wQjSmvoL"
      }
    }
  ]
}