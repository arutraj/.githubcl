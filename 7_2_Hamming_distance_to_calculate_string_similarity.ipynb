{
  "nbformat": 4,
  "nbformat_minor": 0,
  "metadata": {
    "colab": {
      "provenance": [],
      "include_colab_link": true
    },
    "kernelspec": {
      "name": "python3",
      "display_name": "Python 3"
    }
  },
  "cells": [
    {
      "cell_type": "markdown",
      "metadata": {
        "id": "view-in-github",
        "colab_type": "text"
      },
      "source": [
        "<a href=\"https://colab.research.google.com/github/arutraj/.githubcl/blob/main/7_2_Hamming_distance_to_calculate_string_similarity.ipynb\" target=\"_parent\"><img src=\"https://colab.research.google.com/assets/colab-badge.svg\" alt=\"Open In Colab\"/></a>"
      ]
    },
    {
      "cell_type": "code",
      "metadata": {
        "id": "3xwSbEIots4Y"
      },
      "source": [
        "# importing the library\n",
        "from scipy.spatial import distance"
      ],
      "execution_count": 1,
      "outputs": []
    },
    {
      "cell_type": "code",
      "metadata": {
        "id": "KBqIt51XuIlg"
      },
      "source": [
        "# defining two strings\n",
        "string_1 = 'scientist'\n",
        "string_2 = 'science  '"
      ],
      "execution_count": 15,
      "outputs": []
    },
    {
      "cell_type": "code",
      "metadata": {
        "id": "LYQ44f5tuQR7",
        "colab": {
          "base_uri": "https://localhost:8080/"
        },
        "outputId": "332bd947-b955-454a-aa4d-8cc6560ffeaf"
      },
      "source": [
        "# computing the normalized hamming distance\n",
        "hamming_distance = distance.hamming(list(string_1), list(string_2))\n",
        "print('Normalized Hamming Distance b/w', string_1, 'and', string_2, 'is: ', hamming_distance)"
      ],
      "execution_count": 16,
      "outputs": [
        {
          "output_type": "stream",
          "name": "stdout",
          "text": [
            "Normalized Hamming Distance b/w scientist and science   is:  0.4444444444444444\n"
          ]
        }
      ]
    },
    {
      "cell_type": "code",
      "metadata": {
        "id": "Qa0LrdkfuWPp",
        "colab": {
          "base_uri": "https://localhost:8080/"
        },
        "outputId": "d97a0e53-acc9-4d45-fb87-c1e6e341dcb8"
      },
      "source": [
        "# original hamming distance\n",
        "print('Hamming Distance b/w', string_1, 'and', string_2, 'is: ', hamming_distance * len(string_1))"
      ],
      "execution_count": 17,
      "outputs": [
        {
          "output_type": "stream",
          "name": "stdout",
          "text": [
            "Hamming Distance b/w scientist and science   is:  4.0\n"
          ]
        }
      ]
    },
    {
      "cell_type": "code",
      "metadata": {
        "id": "uYdcba5PNyWa"
      },
      "source": [],
      "execution_count": null,
      "outputs": []
    }
  ]
}