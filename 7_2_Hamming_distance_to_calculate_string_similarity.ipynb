{
  "nbformat": 4,
  "nbformat_minor": 0,
  "metadata": {
    "colab": {
      "provenance": [],
      "include_colab_link": true
    },
    "kernelspec": {
      "name": "python3",
      "display_name": "Python 3"
    }
  },
  "cells": [
    {
      "cell_type": "markdown",
      "metadata": {
        "id": "view-in-github",
        "colab_type": "text"
      },
      "source": [
        "<a href=\"https://colab.research.google.com/github/arutraj/.githubcl/blob/main/7_2_Hamming_distance_to_calculate_string_similarity.ipynb\" target=\"_parent\"><img src=\"https://colab.research.google.com/assets/colab-badge.svg\" alt=\"Open In Colab\"/></a>"
      ]
    },
    {
      "cell_type": "code",
      "metadata": {
        "id": "3xwSbEIots4Y"
      },
      "source": [
        "# importing the library\n",
        "from scipy.spatial import distance"
      ],
      "execution_count": 1,
      "outputs": []
    },
    {
      "cell_type": "code",
      "metadata": {
        "id": "KBqIt51XuIlg"
      },
      "source": [
        "# defining two strings\n",
        "string_1 = 'text'\n",
        "string_2 = 'test'"
      ],
      "execution_count": 4,
      "outputs": []
    },
    {
      "cell_type": "code",
      "metadata": {
        "id": "LYQ44f5tuQR7",
        "colab": {
          "base_uri": "https://localhost:8080/"
        },
        "outputId": "d9930163-3ebe-4ab5-fbb8-87ee2fe1ef2f"
      },
      "source": [
        "# computing the normalized hamming distance\n",
        "hamming_distance = distance.hamming(list(string_1), list(string_2))\n",
        "print('Normalized Hamming Distance b/w', string_1, 'and', string_2, 'is: ', hamming_distance)"
      ],
      "execution_count": 5,
      "outputs": [
        {
          "output_type": "stream",
          "name": "stdout",
          "text": [
            "Normalized Hamming Distance b/w text and test is:  0.25\n"
          ]
        }
      ]
    },
    {
      "cell_type": "code",
      "metadata": {
        "id": "Qa0LrdkfuWPp",
        "colab": {
          "base_uri": "https://localhost:8080/"
        },
        "outputId": "55f0cd73-8bcf-4970-f04d-7bd149503e43"
      },
      "source": [
        "# original hamming distance\n",
        "print('Hamming Distance b/w', string_1, 'and', string_2, 'is: ', hamming_distance * len(string_1))"
      ],
      "execution_count": 6,
      "outputs": [
        {
          "output_type": "stream",
          "name": "stdout",
          "text": [
            "Hamming Distance b/w text and test is:  1.0\n"
          ]
        }
      ]
    },
    {
      "cell_type": "code",
      "metadata": {
        "id": "uYdcba5PNyWa"
      },
      "source": [],
      "execution_count": null,
      "outputs": []
    }
  ]
}