{
  "cells": [
    {
      "cell_type": "markdown",
      "metadata": {
        "id": "view-in-github",
        "colab_type": "text"
      },
      "source": [
        "<a href=\"https://colab.research.google.com/github/arutraj/.githubcl/blob/main/RL_1_Assignment.ipynb\" target=\"_parent\"><img src=\"https://colab.research.google.com/assets/colab-badge.svg\" alt=\"Open In Colab\"/></a>"
      ]
    },
    {
      "cell_type": "markdown",
      "id": "34ac95bc-13d6-4df7-b638-b32a885a8fba",
      "metadata": {
        "id": "34ac95bc-13d6-4df7-b638-b32a885a8fba"
      },
      "source": [
        "#  Reinforcement Learning Fundamentals Assignment\n",
        "\n",
        "Here you will use tabular Q-learning to develop a policy for the [Cart Pole](https://gymnasium.farama.org/environments/classic_control/cart_pole/) environment in Gymnasium. In the Cart Pole problem, the aim is to keep a vertical pole balanced on top of a cart. You can apply forces to move the cart right or left, which affects the position and velocity of the cart, as well as the angle and angular velocity of the pole.\n",
        "\n",
        "To complete the assignment, please do the following:\n",
        "1. Read the [Cart Pole documentation](https://gymnasium.farama.org/environments/classic_control/cart_pole/) to get an understanding of the states, actions, and rewards associated with this environment.\n",
        "2. Propose a method for discretizing the state space. This problem has a continuous state space, unlike the Blackjack environment that we worked with previously. This presents a challenge, since tabular Q-learning requires the problem to have a finite state space. We will address this by mapping the each of the problem's continuous states to a state in an approximate finite state space. When selecting your finite state space, you will need to strike the right balance between using an apporoximation that is sufficiently granular to be accurate, but not so granular that the resulting state space is too large to effectively implement tabular Q-learning.\n",
        "3. Implement tabular Q-learning to compute a policy for the Cart Pole problem. You may reuse code from the Blackjack notebook that we used in class.\n",
        "4. Simulate your policy in the Cart Pole environment. Can you keep the pole balanced for at least 500 time steps?"
      ]
    },
    {
      "cell_type": "markdown",
      "id": "a8f2b8c8-e457-4034-9bd3-89f369b58322",
      "metadata": {
        "id": "a8f2b8c8-e457-4034-9bd3-89f369b58322"
      },
      "source": [
        "---\n",
        "\n",
        "Before you get started, we will set up and demonstrate the Cart Pole environment."
      ]
    },
    {
      "cell_type": "code",
      "execution_count": 1,
      "id": "b38fb31e-3002-4add-a92f-b35e1a3220f8",
      "metadata": {
        "id": "b38fb31e-3002-4add-a92f-b35e1a3220f8",
        "colab": {
          "base_uri": "https://localhost:8080/"
        },
        "outputId": "24c91706-af03-4bbc-89b5-ed735642b9a2"
      },
      "outputs": [
        {
          "output_type": "stream",
          "name": "stdout",
          "text": [
            "Collecting gymnasium\n",
            "  Downloading gymnasium-0.29.1-py3-none-any.whl.metadata (10 kB)\n",
            "Requirement already satisfied: numpy>=1.21.0 in /usr/local/lib/python3.10/dist-packages (from gymnasium) (1.26.4)\n",
            "Requirement already satisfied: cloudpickle>=1.2.0 in /usr/local/lib/python3.10/dist-packages (from gymnasium) (2.2.1)\n",
            "Requirement already satisfied: typing-extensions>=4.3.0 in /usr/local/lib/python3.10/dist-packages (from gymnasium) (4.12.2)\n",
            "Collecting farama-notifications>=0.0.1 (from gymnasium)\n",
            "  Downloading Farama_Notifications-0.0.4-py3-none-any.whl.metadata (558 bytes)\n",
            "Downloading gymnasium-0.29.1-py3-none-any.whl (953 kB)\n",
            "\u001b[2K   \u001b[90m━━━━━━━━━━━━━━━━━━━━━━━━━━━━━━━━━━━━━━━━\u001b[0m \u001b[32m953.9/953.9 kB\u001b[0m \u001b[31m11.8 MB/s\u001b[0m eta \u001b[36m0:00:00\u001b[0m\n",
            "\u001b[?25hDownloading Farama_Notifications-0.0.4-py3-none-any.whl (2.5 kB)\n",
            "Installing collected packages: farama-notifications, gymnasium\n",
            "Successfully installed farama-notifications-0.0.4 gymnasium-0.29.1\n",
            "Requirement already satisfied: gymnasium[classic-control] in /usr/local/lib/python3.10/dist-packages (0.29.1)\n",
            "Requirement already satisfied: numpy>=1.21.0 in /usr/local/lib/python3.10/dist-packages (from gymnasium[classic-control]) (1.26.4)\n",
            "Requirement already satisfied: cloudpickle>=1.2.0 in /usr/local/lib/python3.10/dist-packages (from gymnasium[classic-control]) (2.2.1)\n",
            "Requirement already satisfied: typing-extensions>=4.3.0 in /usr/local/lib/python3.10/dist-packages (from gymnasium[classic-control]) (4.12.2)\n",
            "Requirement already satisfied: farama-notifications>=0.0.1 in /usr/local/lib/python3.10/dist-packages (from gymnasium[classic-control]) (0.0.4)\n",
            "Requirement already satisfied: pygame>=2.1.3 in /usr/local/lib/python3.10/dist-packages (from gymnasium[classic-control]) (2.6.0)\n"
          ]
        }
      ],
      "source": [
        "!pip install gymnasium\n",
        "!pip install gymnasium[classic-control]"
      ]
    },
    {
      "cell_type": "code",
      "execution_count": 2,
      "id": "aabe4efe-ef3b-4cfb-8d94-4b401a893984",
      "metadata": {
        "id": "aabe4efe-ef3b-4cfb-8d94-4b401a893984"
      },
      "outputs": [],
      "source": [
        "import gymnasium as gym\n",
        "import numpy as np\n",
        "import random\n",
        "\n",
        "from IPython import display\n",
        "import matplotlib.pyplot as plt"
      ]
    },
    {
      "cell_type": "markdown",
      "id": "977807da-4451-4037-a551-6a2df0e123b5",
      "metadata": {
        "id": "977807da-4451-4037-a551-6a2df0e123b5"
      },
      "source": [
        "Here we simulate the environment with the following simple heuristic policy:\n",
        "- If the pole is leaning to the left, push the cart to the left\n",
        "- If the pole is leaning to the right, push the cart to the right\n",
        "\n",
        "As you can see, this policy is actually unstable. The pole will quickly fall and the cart will run off the screen.\n",
        "\n",
        "**NOTE:** The animations of the environment can look glitchy if you run them directly in Colab. Run the notebook locally to see smoother animations."
      ]
    },
    {
      "cell_type": "code",
      "execution_count": 3,
      "id": "c8ca4b64-14e9-42bb-afc3-e323e3fc8ef4",
      "metadata": {
        "id": "c8ca4b64-14e9-42bb-afc3-e323e3fc8ef4",
        "colab": {
          "base_uri": "https://localhost:8080/",
          "height": 396
        },
        "outputId": "4fabb08a-e380-406e-9d73-d3c711f00a7f"
      },
      "outputs": [
        {
          "output_type": "display_data",
          "data": {
            "text/plain": [
              "<Figure size 640x480 with 1 Axes>"
            ],
            "image/png": "[encoded data removed]"
          },
          "metadata": {}
        }
      ],
      "source": [
        "env = gym.make(\"CartPole-v1\", render_mode=\"rgb_array\")\n",
        "\n",
        "obs = env.reset()[0]\n",
        "plt.imshow(env.render())\n",
        "plt.show()\n",
        "\n",
        "for i in range(250):\n",
        "\n",
        "    if obs[2] < 0:\n",
        "        action=0\n",
        "    else:\n",
        "        action=1\n",
        "\n",
        "    obs, reward, done, info, other = env.step(action)\n",
        "\n",
        "    display.clear_output(wait=True)\n",
        "    plt.imshow(env.render())\n",
        "    plt.show()\n",
        "\n",
        "env.close()"
      ]
    },
    {
      "cell_type": "markdown",
      "id": "718d663e-a973-495c-9bec-fd8c35175b5b",
      "metadata": {
        "id": "718d663e-a973-495c-9bec-fd8c35175b5b"
      },
      "source": [
        "---"
      ]
    },
    {
      "cell_type": "markdown",
      "id": "8899b524-b67c-48bc-a24a-6073ea48085c",
      "metadata": {
        "id": "8899b524-b67c-48bc-a24a-6073ea48085c"
      },
      "source": [
        "Describe the discretization that you used here."
      ]
    },
    {
      "cell_type": "code",
      "execution_count": null,
      "id": "87663d5f-7033-4ec9-b065-4bcde6071b55",
      "metadata": {
        "id": "87663d5f-7033-4ec9-b065-4bcde6071b55"
      },
      "outputs": [],
      "source": [
        "# Implement your Q-learning code here.\n",
        "#Step 1: Select action A in the state S on the basis of the epsilon-greedy algorithm.\n",
        "\n",
        "##Step 2: Apply action A to the environment, and observe the reward R and the next state S'.\n",
        "\n",
        "#Step 3: Update the action value function:   If the next state S' is not the terminal state (S’ is the state that ends the episode)\n",
        "#(1) \\begin{align*}         Q(S,A)& \\leftarrow Q(S,A) +\\alpha \\Big(R+\\gamma Q_{\\text{max}}-Q(S,A) \\Big) \\\\Q_{\\text{max}} & =\\text{max}_{a} Q(S',a) \\end{align*}\n",
        "\n",
        "#– If the next state S' is the terminal state then Q(S',A')=0 by definition, and consequently, update the action value function as follows\n",
        "#(2) \\begin{align*}         Q(S,A)& \\leftarrow Q(S,A) +\\alpha \\Big(R-Q(S,A) \\Big) \\\\\\end{align*}\n",
        "\n",
        "\n",
        "#Step 4: Set S=S’ (the current state to the next state) and start again from Step 1.\n",
        "#https://github.com/AleksandarHaber/Q-Learning-Algorithm-in-Python-with-Cart-Pole-OpenAI-Gym--Gymnasium-Environment?tab=readme-ov-file#\n",
        "#https://colab.research.google.com/github/udacity/deep-learning/blob/master/reinforcement/Q-learning-cart.ipynb"
      ]
    },
    {
      "cell_type": "code",
      "execution_count": null,
      "id": "b1eacdc6-5588-4d29-816a-678d213ae9df",
      "metadata": {
        "id": "b1eacdc6-5588-4d29-816a-678d213ae9df"
      },
      "outputs": [],
      "source": [
        "# Implement the simulation of your policy here."
      ]
    },
    {
      "cell_type": "code",
      "execution_count": null,
      "id": "fb5db01f-ad4e-465e-8086-c4f1cdf107f4",
      "metadata": {
        "id": "fb5db01f-ad4e-465e-8086-c4f1cdf107f4"
      },
      "outputs": [],
      "source": []
    }
  ],
  "metadata": {
    "kernelspec": {
      "display_name": "Python 3",
      "name": "python3"
    },
    "language_info": {
      "codemirror_mode": {
        "name": "ipython",
        "version": 3
      },
      "file_extension": ".py",
      "mimetype": "text/x-python",
      "name": "python",
      "nbconvert_exporter": "python",
      "pygments_lexer": "ipython3",
      "version": "3.11.4"
    },
    "colab": {
      "provenance": [],
      "machine_shape": "hm",
      "gpuType": "T4",
      "include_colab_link": true
    },
    "accelerator": "GPU"
  },
  "nbformat": 4,
  "nbformat_minor": 5
}