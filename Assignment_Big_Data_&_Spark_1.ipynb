{
  "nbformat": 4,
  "nbformat_minor": 0,
  "metadata": {
    "colab": {
      "provenance": [],
      "collapsed_sections": [
        "hc4RCb5aSLRn",
        "09tFpzozSQOb",
        "Ml31Nz9vSVcu"
      ],
      "machine_shape": "hm",
      "gpuType": "T4",
      "include_colab_link": true
    },
    "kernelspec": {
      "name": "python3",
      "display_name": "Python 3"
    },
    "language_info": {
      "name": "python"
    },
    "accelerator": "GPU"
  },
  "cells": [
    {
      "cell_type": "markdown",
      "metadata": {
        "id": "view-in-github",
        "colab_type": "text"
      },
      "source": [
        "<a href=\"https://colab.research.google.com/github/arutraj/.githubcl/blob/main/Assignment_Big_Data_%26_Spark_1.ipynb\" target=\"_parent\"><img src=\"https://colab.research.google.com/assets/colab-badge.svg\" alt=\"Open In Colab\"/></a>"
      ]
    },
    {
      "cell_type": "markdown",
      "source": [
        "# Install pyspark and customize Colab configuration\n",
        "\n",
        "\n",
        "The pyspark installation will persist until the runtime is recycled."
      ],
      "metadata": {
        "id": "hc4RCb5aSLRn"
      }
    },
    {
      "cell_type": "code",
      "execution_count": 1,
      "metadata": {
        "colab": {
          "base_uri": "https://localhost:8080/",
          "height": 538
        },
        "id": "x94ufk58SBs_",
        "outputId": "4e6978f7-4d94-4137-d30f-f292a40bc821"
      },
      "outputs": [
        {
          "output_type": "stream",
          "name": "stdout",
          "text": [
            "\u001b[33m\r0% [Working]\u001b[0m\r            \rHit:1 http://archive.ubuntu.com/ubuntu jammy InRelease\n",
            "\u001b[33m\r0% [Connecting to security.ubuntu.com (185.125.190.82)] [Waiting for headers] [\u001b[0m\r                                                                               \rGet:2 http://archive.ubuntu.com/ubuntu jammy-updates InRelease [128 kB]\n",
            "\r                                                                               \rGet:3 https://cloud.r-project.org/bin/linux/ubuntu jammy-cran40/ InRelease [3,626 B]\n",
            "Get:4 https://developer.download.nvidia.com/compute/cuda/repos/ubuntu2204/x86_64  InRelease [1,581 B]\n",
            "Get:5 http://security.ubuntu.com/ubuntu jammy-security InRelease [129 kB]\n",
            "Ign:6 https://r2u.stat.illinois.edu/ubuntu jammy InRelease\n",
            "Get:7 http://archive.ubuntu.com/ubuntu jammy-backports InRelease [127 kB]\n",
            "Get:8 https://r2u.stat.illinois.edu/ubuntu jammy Release [5,713 B]\n",
            "Get:9 https://r2u.stat.illinois.edu/ubuntu jammy Release.gpg [793 B]\n",
            "Hit:10 https://ppa.launchpadcontent.net/deadsnakes/ppa/ubuntu jammy InRelease\n",
            "Get:11 https://developer.download.nvidia.com/compute/cuda/repos/ubuntu2204/x86_64  Packages [1,032 kB]\n",
            "Hit:12 https://ppa.launchpadcontent.net/graphics-drivers/ppa/ubuntu jammy InRelease\n",
            "Get:13 http://archive.ubuntu.com/ubuntu jammy-updates/main amd64 Packages [2,648 kB]\n",
            "Hit:14 https://ppa.launchpadcontent.net/ubuntugis/ppa/ubuntu jammy InRelease\n",
            "Get:15 http://archive.ubuntu.com/ubuntu jammy-updates/universe amd64 Packages [1,450 kB]\n",
            "Get:16 https://r2u.stat.illinois.edu/ubuntu jammy/main all Packages [8,403 kB]\n",
            "Get:17 http://security.ubuntu.com/ubuntu jammy-security/main amd64 Packages [2,372 kB]\n",
            "Get:18 https://r2u.stat.illinois.edu/ubuntu jammy/main amd64 Packages [2,596 kB]\n",
            "Fetched 18.9 MB in 2s (9,841 kB/s)\n",
            "Reading package lists... Done\n",
            "Building dependency tree... Done\n",
            "Reading state information... Done\n",
            "50 packages can be upgraded. Run 'apt list --upgradable' to see them.\n",
            "\u001b[1;33mW: \u001b[0mSkipping acquire of configured file 'main/source/Sources' as repository 'https://r2u.stat.illinois.edu/ubuntu jammy InRelease' does not seem to provide it (sources.list entry misspelt?)\u001b[0m\n",
            "tar: spark-3.2.1-bin-hadoop3.2.tgz: Cannot open: No such file or directory\n",
            "tar: Error is not recoverable: exiting now\n",
            "Requirement already satisfied: pyspark in /usr/local/lib/python3.10/dist-packages (3.5.3)\n",
            "Requirement already satisfied: py4j==0.10.9.7 in /usr/local/lib/python3.10/dist-packages (from pyspark) (0.10.9.7)\n",
            "Requirement already satisfied: py4j in /usr/local/lib/python3.10/dist-packages (0.10.9.7)\n"
          ]
        },
        {
          "output_type": "execute_result",
          "data": {
            "text/plain": [
              "'/usr/local/lib/python3.10/dist-packages/pyspark'"
            ],
            "application/vnd.google.colaboratory.intrinsic+json": {
              "type": "string"
            }
          },
          "metadata": {},
          "execution_count": 1
        }
      ],
      "source": [
        "!sudo apt update\n",
        "!apt-get install openjdk-8-jdk-headless -qq > /dev/null\n",
        "#Check this site for the latest download link https://www.apache.org/dyn/closer.lua/spark/spark-3.2.1/spark-3.2.1-bin-hadoop3.2.tgz\n",
        "!wget -q https://dlcdn.apache.org/spark/spark-3.2.1/spark-3.2.1-bin-hadoop3.2.tgz\n",
        "!tar xf spark-3.2.1-bin-hadoop3.2.tgz\n",
        "!pip install -q findspark\n",
        "!pip install pyspark\n",
        "!pip install py4j\n",
        "\n",
        "import os\n",
        "import sys\n",
        "# os.environ[\"JAVA_HOME\"] = \"/usr/lib/jvm/java-8-openjdk-amd64\"\n",
        "# os.environ[\"SPARK_HOME\"] = \"/content/spark-3.2.1-bin-hadoop3.2\"\n",
        "\n",
        "\n",
        "import findspark\n",
        "findspark.init()\n",
        "findspark.find()"
      ]
    },
    {
      "cell_type": "markdown",
      "source": [
        "# Initialize Spark"
      ],
      "metadata": {
        "id": "09tFpzozSQOb"
      }
    },
    {
      "cell_type": "code",
      "source": [
        "from pyspark import SparkContext\n",
        "\n",
        "# Create a SparkContext\n",
        "sc = SparkContext(\"local\", \"RDD Transformation\")\n"
      ],
      "metadata": {
        "id": "mAdK6j7X4BsH"
      },
      "execution_count": null,
      "outputs": []
    },
    {
      "cell_type": "code",
      "source": [
        "# Create an RDD\n",
        "#data = sc.parallelize([(1, 'a'), (2, 'b'), (3, 'c'), (4, 'd'), (5, 'e')])\n",
        "data = sc.parallelize([1, 2, 3, 4, 5])"
      ],
      "metadata": {
        "id": "HZvTfeRj4NZ-"
      },
      "execution_count": 7,
      "outputs": []
    },
    {
      "cell_type": "code",
      "source": [
        "# Perform transformations\n",
        "#result_rdd = data.filter(lambda x: x[0] % 2 == 0).map(lambda x: (x[0] * 2, x[1]))\n",
        "result_rdd = data.map(lambda x: x * 2).filter(lambda x: x > 3)"
      ],
      "metadata": {
        "id": "GDUjtbMe4SVW"
      },
      "execution_count": 8,
      "outputs": []
    },
    {
      "cell_type": "code",
      "source": [
        "# Print the output\n",
        "print(result_rdd.collect())"
      ],
      "metadata": {
        "id": "84VoW_wH4ZdF",
        "outputId": "da8c7002-3878-42f2-d0cb-d1dfaabb64dc",
        "colab": {
          "base_uri": "https://localhost:8080/"
        }
      },
      "execution_count": 9,
      "outputs": [
        {
          "output_type": "stream",
          "name": "stdout",
          "text": [
            "[4, 6, 8, 10]\n"
          ]
        }
      ]
    },
    {
      "cell_type": "code",
      "source": [
        "import pyspark\n",
        "from pyspark import SparkContext\n",
        "\n",
        "from pyspark.sql import DataFrame, SparkSession\n",
        "from typing import List\n",
        "import pyspark.sql.types as T\n",
        "import pyspark.sql.functions as F\n",
        "\n",
        "spark= SparkSession \\\n",
        "       .builder \\\n",
        "       .appName(\"Our First Spark Example\") \\\n",
        "       .getOrCreate()\n",
        "\n",
        "sc = spark.sparkContext\n",
        "spark"
      ],
      "metadata": {
        "colab": {
          "base_uri": "https://localhost:8080/",
          "height": 367
        },
        "id": "O0gRmAjaSNxn",
        "outputId": "28525a4f-df89-4ff6-aebd-426e12f437f5"
      },
      "execution_count": null,
      "outputs": [
        {
          "output_type": "execute_result",
          "data": {
            "text/plain": [
              "<pyspark.sql.session.SparkSession at 0x7ff90c101270>"
            ],
            "text/html": [
              "\n",
              "            <div>\n",
              "                <p><b>SparkSession - in-memory</b></p>\n",
              "                \n",
              "        <div>\n",
              "            <p><b>SparkContext</b></p>\n",
              "\n",
              "            <p><a href=\"http://67c7162ecedd:4040\">Spark UI</a></p>\n",
              "\n",
              "            <dl>\n",
              "              <dt>Version</dt>\n",
              "                <dd><code>v3.5.0</code></dd>\n",
              "              <dt>Master</dt>\n",
              "                <dd><code>local[*]</code></dd>\n",
              "              <dt>AppName</dt>\n",
              "                <dd><code>Our First Spark Example</code></dd>\n",
              "            </dl>\n",
              "        </div>\n",
              "        \n",
              "            </div>\n",
              "        "
            ]
          },
          "metadata": {},
          "execution_count": 2
        }
      ]
    },
    {
      "cell_type": "markdown",
      "source": [
        "# Load Covid Dataset"
      ],
      "metadata": {
        "id": "Ml31Nz9vSVcu"
      }
    },
    {
      "cell_type": "code",
      "source": [
        "import requests\n",
        "path = \"https://raw.githubusercontent.com/owid/covid-19-data/master/public/data/owid-covid-data.csv\"\n",
        "req = requests.get(path)\n",
        "url_content = req.content\n",
        "\n",
        "csv_file_name = 'owid-covid-data.csv'\n",
        "csv_file = open(csv_file_name, 'wb')\n",
        "\n",
        "csv_file.write(url_content)\n",
        "csv_file.close()\n",
        "\n",
        "df = spark.read.csv('/content/'+csv_file_name, header=True, inferSchema=True)"
      ],
      "metadata": {
        "id": "Yo2RZc0wSSmA"
      },
      "execution_count": null,
      "outputs": []
    },
    {
      "cell_type": "markdown",
      "source": [
        "# Questions"
      ],
      "metadata": {
        "id": "E7tJQHrwS4KC"
      }
    },
    {
      "cell_type": "markdown",
      "source": [
        "The World Health Organization (WHO) designated COVID-19, caused by the SARS-CoV-2 virus, as a pandemic on March 11, as the rapid surge in cases threatened to strain healthcare systems worldwide, particularly evident in regions like Italy where demand for ICU beds exceeded capacity.\n",
        "\n",
        "In Brazil, the first case of SARS-CoV-2 was reported on February 26, initially limited to imported cases but quickly transitioning to local and then community transmission, prompting the federal government to declare nationwide community transmission by March 20.\n",
        "\n",
        "By March 27, São Paulo state had documented 1,223 confirmed COVID-19 cases and 68 deaths, while the city of São Paulo, home to approximately 12 million people and the Hospital Israelita Albert Einstein, reported 477 confirmed cases and 30 deaths by March 23. In response, both the state and city implemented quarantine and social distancing measures, effective at least until early April, to mitigate the virus's spread.\n",
        "\n",
        "One of the motivations for this assignment is the fact that in the context of an overwhelmed health system with the possible limitation to perform tests for the detection of SARS-CoV-2, how can scalable data analytics help the system to tackle pandemics like Covid."
      ],
      "metadata": {
        "id": "4du6LhBuFJmS"
      }
    },
    {
      "cell_type": "code",
      "source": [
        "df.show()"
      ],
      "metadata": {
        "colab": {
          "base_uri": "https://localhost:8080/"
        },
        "id": "fNioQ9JPTA_9",
        "outputId": "9c53e490-bfb4-47ae-84db-834030827787"
      },
      "execution_count": null,
      "outputs": [
        {
          "output_type": "stream",
          "name": "stdout",
          "text": [
            "+--------+---------+-----------+----------+-----------+---------+------------------+------------+----------+-------------------+-----------------------+---------------------+------------------------------+------------------------+----------------------+-------------------------------+-----------------+------------+------------------------+-------------+-------------------------+---------------------+---------------------------------+----------------------+----------------------------------+-----------+---------+------------------------+----------------------+------------------+-------------------------------+-------------+--------------+-----------+------------------+-----------------+-----------------------+--------------+----------------+-------------------------+------------------------------+-----------------------------+-----------------------------------+--------------------------+-------------------------------------+------------------------------+------------------------------------------+----------------+------------------+----------+-------------+-------------+--------------+---------------+---------------------+-------------------+--------------+------------+----------------------+--------------------------+---------------+-----------------------+-----------+------------------------------------+---------------------------+----------------+---------------------------------------+\n",
            "|iso_code|continent|   location|      date|total_cases|new_cases|new_cases_smoothed|total_deaths|new_deaths|new_deaths_smoothed|total_cases_per_million|new_cases_per_million|new_cases_smoothed_per_million|total_deaths_per_million|new_deaths_per_million|new_deaths_smoothed_per_million|reproduction_rate|icu_patients|icu_patients_per_million|hosp_patients|hosp_patients_per_million|weekly_icu_admissions|weekly_icu_admissions_per_million|weekly_hosp_admissions|weekly_hosp_admissions_per_million|total_tests|new_tests|total_tests_per_thousand|new_tests_per_thousand|new_tests_smoothed|new_tests_smoothed_per_thousand|positive_rate|tests_per_case|tests_units|total_vaccinations|people_vaccinated|people_fully_vaccinated|total_boosters|new_vaccinations|new_vaccinations_smoothed|total_vaccinations_per_hundred|people_vaccinated_per_hundred|people_fully_vaccinated_per_hundred|total_boosters_per_hundred|new_vaccinations_smoothed_per_million|new_people_vaccinated_smoothed|new_people_vaccinated_smoothed_per_hundred|stringency_index|population_density|median_age|aged_65_older|aged_70_older|gdp_per_capita|extreme_poverty|cardiovasc_death_rate|diabetes_prevalence|female_smokers|male_smokers|handwashing_facilities|hospital_beds_per_thousand|life_expectancy|human_development_index| population|excess_mortality_cumulative_absolute|excess_mortality_cumulative|excess_mortality|excess_mortality_cumulative_per_million|\n",
            "+--------+---------+-----------+----------+-----------+---------+------------------+------------+----------+-------------------+-----------------------+---------------------+------------------------------+------------------------+----------------------+-------------------------------+-----------------+------------+------------------------+-------------+-------------------------+---------------------+---------------------------------+----------------------+----------------------------------+-----------+---------+------------------------+----------------------+------------------+-------------------------------+-------------+--------------+-----------+------------------+-----------------+-----------------------+--------------+----------------+-------------------------+------------------------------+-----------------------------+-----------------------------------+--------------------------+-------------------------------------+------------------------------+------------------------------------------+----------------+------------------+----------+-------------+-------------+--------------+---------------+---------------------+-------------------+--------------+------------+----------------------+--------------------------+---------------+-----------------------+-----------+------------------------------------+---------------------------+----------------+---------------------------------------+\n",
            "|     AFG|     Asia|Afghanistan|2020-01-05|       NULL|      0.0|              NULL|        NULL|       0.0|               NULL|                   NULL|                  0.0|                          NULL|                    NULL|                   0.0|                           NULL|             NULL|        NULL|                    NULL|         NULL|                     NULL|                 NULL|                             NULL|                  NULL|                              NULL|       NULL|     NULL|                    NULL|                  NULL|              NULL|                           NULL|         NULL|          NULL|       NULL|              NULL|             NULL|                   NULL|          NULL|            NULL|                     NULL|                          NULL|                         NULL|                               NULL|                      NULL|                                 NULL|                          NULL|                                      NULL|             0.0|            54.422|      18.6|        2.581|        1.337|      1803.987|           NULL|              597.029|               9.59|          NULL|        NULL|                37.746|                       0.5|          64.83|                  0.511|4.1128772E7|                                NULL|                       NULL|            NULL|                                   NULL|\n",
            "|     AFG|     Asia|Afghanistan|2020-01-12|       NULL|      0.0|              NULL|        NULL|       0.0|               NULL|                   NULL|                  0.0|                          NULL|                    NULL|                   0.0|                           NULL|             NULL|        NULL|                    NULL|         NULL|                     NULL|                 NULL|                             NULL|                  NULL|                              NULL|       NULL|     NULL|                    NULL|                  NULL|              NULL|                           NULL|         NULL|          NULL|       NULL|              NULL|             NULL|                   NULL|          NULL|            NULL|                     NULL|                          NULL|                         NULL|                               NULL|                      NULL|                                 NULL|                          NULL|                                      NULL|             0.0|            54.422|      18.6|        2.581|        1.337|      1803.987|           NULL|              597.029|               9.59|          NULL|        NULL|                37.746|                       0.5|          64.83|                  0.511|4.1128772E7|                                NULL|                       NULL|            NULL|                                   NULL|\n",
            "|     AFG|     Asia|Afghanistan|2020-01-19|       NULL|      0.0|              NULL|        NULL|       0.0|               NULL|                   NULL|                  0.0|                          NULL|                    NULL|                   0.0|                           NULL|             NULL|        NULL|                    NULL|         NULL|                     NULL|                 NULL|                             NULL|                  NULL|                              NULL|       NULL|     NULL|                    NULL|                  NULL|              NULL|                           NULL|         NULL|          NULL|       NULL|              NULL|             NULL|                   NULL|          NULL|            NULL|                     NULL|                          NULL|                         NULL|                               NULL|                      NULL|                                 NULL|                          NULL|                                      NULL|             0.0|            54.422|      18.6|        2.581|        1.337|      1803.987|           NULL|              597.029|               9.59|          NULL|        NULL|                37.746|                       0.5|          64.83|                  0.511|4.1128772E7|                                NULL|                       NULL|            NULL|                                   NULL|\n",
            "|     AFG|     Asia|Afghanistan|2020-01-26|       NULL|      0.0|              NULL|        NULL|       0.0|               NULL|                   NULL|                  0.0|                          NULL|                    NULL|                   0.0|                           NULL|             NULL|        NULL|                    NULL|         NULL|                     NULL|                 NULL|                             NULL|                  NULL|                              NULL|       NULL|     NULL|                    NULL|                  NULL|              NULL|                           NULL|         NULL|          NULL|       NULL|              NULL|             NULL|                   NULL|          NULL|            NULL|                     NULL|                          NULL|                         NULL|                               NULL|                      NULL|                                 NULL|                          NULL|                                      NULL|             0.0|            54.422|      18.6|        2.581|        1.337|      1803.987|           NULL|              597.029|               9.59|          NULL|        NULL|                37.746|                       0.5|          64.83|                  0.511|4.1128772E7|                                NULL|                       NULL|            NULL|                                   NULL|\n",
            "|     AFG|     Asia|Afghanistan|2020-02-02|       NULL|      0.0|              NULL|        NULL|       0.0|               NULL|                   NULL|                  0.0|                          NULL|                    NULL|                   0.0|                           NULL|             NULL|        NULL|                    NULL|         NULL|                     NULL|                 NULL|                             NULL|                  NULL|                              NULL|       NULL|     NULL|                    NULL|                  NULL|              NULL|                           NULL|         NULL|          NULL|       NULL|              NULL|             NULL|                   NULL|          NULL|            NULL|                     NULL|                          NULL|                         NULL|                               NULL|                      NULL|                                 NULL|                          NULL|                                      NULL|             0.0|            54.422|      18.6|        2.581|        1.337|      1803.987|           NULL|              597.029|               9.59|          NULL|        NULL|                37.746|                       0.5|          64.83|                  0.511|4.1128772E7|                                NULL|                       NULL|            NULL|                                   NULL|\n",
            "|     AFG|     Asia|Afghanistan|2020-02-09|       NULL|      0.0|               0.0|        NULL|       0.0|                0.0|                   NULL|                  0.0|                           0.0|                    NULL|                   0.0|                            0.0|             NULL|        NULL|                    NULL|         NULL|                     NULL|                 NULL|                             NULL|                  NULL|                              NULL|       NULL|     NULL|                    NULL|                  NULL|              NULL|                           NULL|         NULL|          NULL|       NULL|              NULL|             NULL|                   NULL|          NULL|            NULL|                     NULL|                          NULL|                         NULL|                               NULL|                      NULL|                                 NULL|                          NULL|                                      NULL|             0.0|            54.422|      18.6|        2.581|        1.337|      1803.987|           NULL|              597.029|               9.59|          NULL|        NULL|                37.746|                       0.5|          64.83|                  0.511|4.1128772E7|                                NULL|                       NULL|            NULL|                                   NULL|\n",
            "|     AFG|     Asia|Afghanistan|2020-02-16|       NULL|      0.0|               0.0|        NULL|       0.0|                0.0|                   NULL|                  0.0|                           0.0|                    NULL|                   0.0|                            0.0|             NULL|        NULL|                    NULL|         NULL|                     NULL|                 NULL|                             NULL|                  NULL|                              NULL|       NULL|     NULL|                    NULL|                  NULL|              NULL|                           NULL|         NULL|          NULL|       NULL|              NULL|             NULL|                   NULL|          NULL|            NULL|                     NULL|                          NULL|                         NULL|                               NULL|                      NULL|                                 NULL|                          NULL|                                      NULL|             0.0|            54.422|      18.6|        2.581|        1.337|      1803.987|           NULL|              597.029|               9.59|          NULL|        NULL|                37.746|                       0.5|          64.83|                  0.511|4.1128772E7|                                NULL|                       NULL|            NULL|                                   NULL|\n",
            "|     AFG|     Asia|Afghanistan|2020-02-23|       NULL|      0.0|               0.0|        NULL|       0.0|                0.0|                   NULL|                  0.0|                           0.0|                    NULL|                   0.0|                            0.0|             NULL|        NULL|                    NULL|         NULL|                     NULL|                 NULL|                             NULL|                  NULL|                              NULL|       NULL|     NULL|                    NULL|                  NULL|              NULL|                           NULL|         NULL|          NULL|       NULL|              NULL|             NULL|                   NULL|          NULL|            NULL|                     NULL|                          NULL|                         NULL|                               NULL|                      NULL|                                 NULL|                          NULL|                                      NULL|            8.33|            54.422|      18.6|        2.581|        1.337|      1803.987|           NULL|              597.029|               9.59|          NULL|        NULL|                37.746|                       0.5|          64.83|                  0.511|4.1128772E7|                                NULL|                       NULL|            NULL|                                   NULL|\n",
            "|     AFG|     Asia|Afghanistan|2020-03-01|        1.0|      1.0|             0.143|        NULL|       0.0|                0.0|                  0.024|                0.024|                         0.003|                    NULL|                   0.0|                            0.0|             NULL|        NULL|                    NULL|         NULL|                     NULL|                 NULL|                             NULL|                  NULL|                              NULL|       NULL|     NULL|                    NULL|                  NULL|              NULL|                           NULL|         NULL|          NULL|       NULL|              NULL|             NULL|                   NULL|          NULL|            NULL|                     NULL|                          NULL|                         NULL|                               NULL|                      NULL|                                 NULL|                          NULL|                                      NULL|           27.78|            54.422|      18.6|        2.581|        1.337|      1803.987|           NULL|              597.029|               9.59|          NULL|        NULL|                37.746|                       0.5|          64.83|                  0.511|4.1128772E7|                                NULL|                       NULL|            NULL|                                   NULL|\n",
            "|     AFG|     Asia|Afghanistan|2020-03-08|        1.0|      0.0|             0.143|        NULL|       0.0|                0.0|                  0.024|                  0.0|                         0.003|                    NULL|                   0.0|                            0.0|             NULL|        NULL|                    NULL|         NULL|                     NULL|                 NULL|                             NULL|                  NULL|                              NULL|       NULL|     NULL|                    NULL|                  NULL|              NULL|                           NULL|         NULL|          NULL|       NULL|              NULL|             NULL|                   NULL|          NULL|            NULL|                     NULL|                          NULL|                         NULL|                               NULL|                      NULL|                                 NULL|                          NULL|                                      NULL|           27.78|            54.422|      18.6|        2.581|        1.337|      1803.987|           NULL|              597.029|               9.59|          NULL|        NULL|                37.746|                       0.5|          64.83|                  0.511|4.1128772E7|                                NULL|                       NULL|            NULL|                                   NULL|\n",
            "|     AFG|     Asia|Afghanistan|2020-03-15|        7.0|      6.0|               1.0|        NULL|       0.0|                0.0|                   0.17|                0.146|                         0.024|                    NULL|                   0.0|                            0.0|             NULL|        NULL|                    NULL|         NULL|                     NULL|                 NULL|                             NULL|                  NULL|                              NULL|       NULL|     NULL|                    NULL|                  NULL|              NULL|                           NULL|         NULL|          NULL|       NULL|              NULL|             NULL|                   NULL|          NULL|            NULL|                     NULL|                          NULL|                         NULL|                               NULL|                      NULL|                                 NULL|                          NULL|                                      NULL|           38.89|            54.422|      18.6|        2.581|        1.337|      1803.987|           NULL|              597.029|               9.59|          NULL|        NULL|                37.746|                       0.5|          64.83|                  0.511|4.1128772E7|                                NULL|                       NULL|            NULL|                                   NULL|\n",
            "|     AFG|     Asia|Afghanistan|2020-03-22|       24.0|     17.0|             3.429|        NULL|       0.0|                0.0|                  0.584|                0.413|                         0.083|                    NULL|                   0.0|                            0.0|             NULL|        NULL|                    NULL|         NULL|                     NULL|                 NULL|                             NULL|                  NULL|                              NULL|       NULL|     NULL|                    NULL|                  NULL|              NULL|                           NULL|         NULL|          NULL|       NULL|              NULL|             NULL|                   NULL|          NULL|            NULL|                     NULL|                          NULL|                         NULL|                               NULL|                      NULL|                                 NULL|                          NULL|                                      NULL|           41.67|            54.422|      18.6|        2.581|        1.337|      1803.987|           NULL|              597.029|               9.59|          NULL|        NULL|                37.746|                       0.5|          64.83|                  0.511|4.1128772E7|                                NULL|                       NULL|            NULL|                                   NULL|\n",
            "|     AFG|     Asia|Afghanistan|2020-03-29|       91.0|     67.0|              13.0|         2.0|       2.0|              0.286|                  2.213|                1.629|                         0.316|                   0.049|                 0.049|                          0.007|             1.51|        NULL|                    NULL|         NULL|                     NULL|                 NULL|                             NULL|                  NULL|                              NULL|       NULL|     NULL|                    NULL|                  NULL|              NULL|                           NULL|         NULL|          NULL|       NULL|              NULL|             NULL|                   NULL|          NULL|            NULL|                     NULL|                          NULL|                         NULL|                               NULL|                      NULL|                                 NULL|                          NULL|                                      NULL|           67.59|            54.422|      18.6|        2.581|        1.337|      1803.987|           NULL|              597.029|               9.59|          NULL|        NULL|                37.746|                       0.5|          64.83|                  0.511|4.1128772E7|                                NULL|                       NULL|            NULL|                                   NULL|\n",
            "|     AFG|     Asia|Afghanistan|2020-03-30|       NULL|     NULL|              NULL|        NULL|      NULL|               NULL|                   NULL|                 NULL|                          NULL|                    NULL|                  NULL|                           NULL|             1.51|        NULL|                    NULL|         NULL|                     NULL|                 NULL|                             NULL|                  NULL|                              NULL|       NULL|     NULL|                    NULL|                  NULL|              NULL|                           NULL|         NULL|          NULL|       NULL|              NULL|             NULL|                   NULL|          NULL|            NULL|                     NULL|                          NULL|                         NULL|                               NULL|                      NULL|                                 NULL|                          NULL|                                      NULL|           67.59|            54.422|      18.6|        2.581|        1.337|      1803.987|           NULL|              597.029|               9.59|          NULL|        NULL|                37.746|                       0.5|          64.83|                  0.511|4.1128772E7|                                NULL|                       NULL|            NULL|                                   NULL|\n",
            "|     AFG|     Asia|Afghanistan|2020-03-31|       NULL|     NULL|              NULL|        NULL|      NULL|               NULL|                   NULL|                 NULL|                          NULL|                    NULL|                  NULL|                           NULL|             1.52|        NULL|                    NULL|         NULL|                     NULL|                 NULL|                             NULL|                  NULL|                              NULL|       NULL|     NULL|                    NULL|                  NULL|              NULL|                           NULL|         NULL|          NULL|       NULL|              NULL|             NULL|                   NULL|          NULL|            NULL|                     NULL|                          NULL|                         NULL|                               NULL|                      NULL|                                 NULL|                          NULL|                                      NULL|           67.59|            54.422|      18.6|        2.581|        1.337|      1803.987|           NULL|              597.029|               9.59|          NULL|        NULL|                37.746|                       0.5|          64.83|                  0.511|4.1128772E7|                                NULL|                       NULL|            NULL|                                   NULL|\n",
            "|     AFG|     Asia|Afghanistan|2020-04-01|       NULL|     NULL|              NULL|        NULL|      NULL|               NULL|                   NULL|                 NULL|                          NULL|                    NULL|                  NULL|                           NULL|             1.51|        NULL|                    NULL|         NULL|                     NULL|                 NULL|                             NULL|                  NULL|                              NULL|       NULL|     NULL|                    NULL|                  NULL|              NULL|                           NULL|         NULL|          NULL|       NULL|              NULL|             NULL|                   NULL|          NULL|            NULL|                     NULL|                          NULL|                         NULL|                               NULL|                      NULL|                                 NULL|                          NULL|                                      NULL|           67.59|            54.422|      18.6|        2.581|        1.337|      1803.987|           NULL|              597.029|               9.59|          NULL|        NULL|                37.746|                       0.5|          64.83|                  0.511|4.1128772E7|                                NULL|                       NULL|            NULL|                                   NULL|\n",
            "|     AFG|     Asia|Afghanistan|2020-04-02|       NULL|     NULL|              NULL|        NULL|      NULL|               NULL|                   NULL|                 NULL|                          NULL|                    NULL|                  NULL|                           NULL|             1.51|        NULL|                    NULL|         NULL|                     NULL|                 NULL|                             NULL|                  NULL|                              NULL|       NULL|     NULL|                    NULL|                  NULL|              NULL|                           NULL|         NULL|          NULL|       NULL|              NULL|             NULL|                   NULL|          NULL|            NULL|                     NULL|                          NULL|                         NULL|                               NULL|                      NULL|                                 NULL|                          NULL|                                      NULL|           67.59|            54.422|      18.6|        2.581|        1.337|      1803.987|           NULL|              597.029|               9.59|          NULL|        NULL|                37.746|                       0.5|          64.83|                  0.511|4.1128772E7|                                NULL|                       NULL|            NULL|                                   NULL|\n",
            "|     AFG|     Asia|Afghanistan|2020-04-03|       NULL|     NULL|              NULL|        NULL|      NULL|               NULL|                   NULL|                 NULL|                          NULL|                    NULL|                  NULL|                           NULL|              1.5|        NULL|                    NULL|         NULL|                     NULL|                 NULL|                             NULL|                  NULL|                              NULL|       NULL|     NULL|                    NULL|                  NULL|              NULL|                           NULL|         NULL|          NULL|       NULL|              NULL|             NULL|                   NULL|          NULL|            NULL|                     NULL|                          NULL|                         NULL|                               NULL|                      NULL|                                 NULL|                          NULL|                                      NULL|           67.59|            54.422|      18.6|        2.581|        1.337|      1803.987|           NULL|              597.029|               9.59|          NULL|        NULL|                37.746|                       0.5|          64.83|                  0.511|4.1128772E7|                                NULL|                       NULL|            NULL|                                   NULL|\n",
            "|     AFG|     Asia|Afghanistan|2020-04-04|       NULL|     NULL|              NULL|        NULL|      NULL|               NULL|                   NULL|                 NULL|                          NULL|                    NULL|                  NULL|                           NULL|             1.49|        NULL|                    NULL|         NULL|                     NULL|                 NULL|                             NULL|                  NULL|                              NULL|       NULL|     NULL|                    NULL|                  NULL|              NULL|                           NULL|         NULL|          NULL|       NULL|              NULL|             NULL|                   NULL|          NULL|            NULL|                     NULL|                          NULL|                         NULL|                               NULL|                      NULL|                                 NULL|                          NULL|                                      NULL|           67.59|            54.422|      18.6|        2.581|        1.337|      1803.987|           NULL|              597.029|               9.59|          NULL|        NULL|                37.746|                       0.5|          64.83|                  0.511|4.1128772E7|                                NULL|                       NULL|            NULL|                                   NULL|\n",
            "|     AFG|     Asia|Afghanistan|2020-04-05|      274.0|    183.0|            39.143|         5.0|       3.0|              0.714|                  6.662|                4.449|                         0.952|                   0.122|                 0.073|                          0.017|             1.49|        NULL|                    NULL|         NULL|                     NULL|                 NULL|                             NULL|                  NULL|                              NULL|       NULL|     NULL|                    NULL|                  NULL|              NULL|                           NULL|         NULL|          NULL|       NULL|              NULL|             NULL|                   NULL|          NULL|            NULL|                     NULL|                          NULL|                         NULL|                               NULL|                      NULL|                                 NULL|                          NULL|                                      NULL|            78.7|            54.422|      18.6|        2.581|        1.337|      1803.987|           NULL|              597.029|               9.59|          NULL|        NULL|                37.746|                       0.5|          64.83|                  0.511|4.1128772E7|                                NULL|                       NULL|            NULL|                                   NULL|\n",
            "+--------+---------+-----------+----------+-----------+---------+------------------+------------+----------+-------------------+-----------------------+---------------------+------------------------------+------------------------+----------------------+-------------------------------+-----------------+------------+------------------------+-------------+-------------------------+---------------------+---------------------------------+----------------------+----------------------------------+-----------+---------+------------------------+----------------------+------------------+-------------------------------+-------------+--------------+-----------+------------------+-----------------+-----------------------+--------------+----------------+-------------------------+------------------------------+-----------------------------+-----------------------------------+--------------------------+-------------------------------------+------------------------------+------------------------------------------+----------------+------------------+----------+-------------+-------------+--------------+---------------+---------------------+-------------------+--------------+------------+----------------------+--------------------------+---------------+-----------------------+-----------+------------------------------------+---------------------------+----------------+---------------------------------------+\n",
            "only showing top 20 rows\n",
            "\n"
          ]
        }
      ]
    },
    {
      "cell_type": "markdown",
      "source": [
        "1. How many records are there in the COVID-19 dataset?"
      ],
      "metadata": {
        "id": "sIi1WqeqS5IX"
      }
    },
    {
      "cell_type": "code",
      "source": [
        "# Solution"
      ],
      "metadata": {
        "id": "qtsAfJgWTRof"
      },
      "execution_count": null,
      "outputs": []
    },
    {
      "cell_type": "markdown",
      "source": [
        "2. Find the list of distinct locations mentioned in the dataset"
      ],
      "metadata": {
        "id": "31tytXXbTUFR"
      }
    },
    {
      "cell_type": "code",
      "source": [
        "# Solution"
      ],
      "metadata": {
        "id": "tlr6wEdjTS9P"
      },
      "execution_count": null,
      "outputs": []
    },
    {
      "cell_type": "markdown",
      "source": [
        "3. What is the total number of confirmed cases reported across all countries?"
      ],
      "metadata": {
        "id": "w0rfwsfqTY8G"
      }
    },
    {
      "cell_type": "code",
      "source": [
        "# Solution"
      ],
      "metadata": {
        "id": "SXf-nHiQTYdS"
      },
      "execution_count": null,
      "outputs": []
    },
    {
      "cell_type": "markdown",
      "source": [
        "4. Determine the country with the highest number of reported deaths."
      ],
      "metadata": {
        "id": "sLsrZjaTTfXY"
      }
    },
    {
      "cell_type": "code",
      "source": [
        "# Solution"
      ],
      "metadata": {
        "id": "-ViT__7FTewU"
      },
      "execution_count": null,
      "outputs": []
    },
    {
      "cell_type": "markdown",
      "source": [
        "5. Calculate the average number of confirmed cases reported per day globally."
      ],
      "metadata": {
        "id": "2dIb6s5QTf3y"
      }
    },
    {
      "cell_type": "code",
      "source": [
        "# Solution"
      ],
      "metadata": {
        "id": "ZI-XwJiOT3-h"
      },
      "execution_count": null,
      "outputs": []
    },
    {
      "cell_type": "markdown",
      "source": [
        "6. Identify the countries that have reported zero deaths."
      ],
      "metadata": {
        "id": "YYbxtTa3TgTs"
      }
    },
    {
      "cell_type": "code",
      "source": [
        "# Solution"
      ],
      "metadata": {
        "id": "qFqld8LyT8ag"
      },
      "execution_count": null,
      "outputs": []
    },
    {
      "cell_type": "markdown",
      "source": [
        "7. Find the most recent date for which data is available in the dataset."
      ],
      "metadata": {
        "id": "kDrrwfzqT-dx"
      }
    },
    {
      "cell_type": "code",
      "source": [
        "# Solution"
      ],
      "metadata": {
        "id": "kzPR1yX5T9ON"
      },
      "execution_count": null,
      "outputs": []
    },
    {
      "cell_type": "markdown",
      "source": [
        "8. List the top 5 countries with the highest number of confirmed cases."
      ],
      "metadata": {
        "id": "i3hCuBeUUAPF"
      }
    },
    {
      "cell_type": "code",
      "source": [
        "# Solution"
      ],
      "metadata": {
        "id": "eg-uWPGPT92g"
      },
      "execution_count": null,
      "outputs": []
    },
    {
      "cell_type": "markdown",
      "source": [
        "9. Calculate the percentage of total deaths contributed by each country to the overall death toll."
      ],
      "metadata": {
        "id": "TG6_gP0JUA7U"
      }
    },
    {
      "cell_type": "code",
      "source": [
        "# Solution"
      ],
      "metadata": {
        "id": "YZaF-m2GT-Ho"
      },
      "execution_count": null,
      "outputs": []
    },
    {
      "cell_type": "markdown",
      "source": [
        "10. Identify the continents with the highest average mortality rates (deaths divided by total cases) across all countries."
      ],
      "metadata": {
        "id": "lICXSC6sUBpH"
      }
    },
    {
      "cell_type": "code",
      "source": [
        "# Solution"
      ],
      "metadata": {
        "id": "qq3skjHBUCOZ"
      },
      "execution_count": null,
      "outputs": []
    },
    {
      "cell_type": "markdown",
      "source": [
        "\n",
        "\n",
        "---\n",
        "\n"
      ],
      "metadata": {
        "id": "7e9HkReeUC1p"
      }
    }
  ]
}