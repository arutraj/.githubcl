{
  "cells": [
    {
      "cell_type": "markdown",
      "metadata": {
        "id": "view-in-github",
        "colab_type": "text"
      },
      "source": [
        "<a href=\"https://colab.research.google.com/github/arutraj/.githubcl/blob/main/7_Word_Embeddings_Implementation.ipynb\" target=\"_parent\"><img src=\"https://colab.research.google.com/assets/colab-badge.svg\" alt=\"Open In Colab\"/></a>"
      ]
    },
    {
      "cell_type": "markdown",
      "metadata": {
        "id": "ioxxjp1taeon"
      },
      "source": [
        "# Table of Contents\n",
        "\n",
        "### I. Download Pre-trained Word Embeddings\n",
        "> ##### 1. Google's pre-trained Word2Vec\n",
        "> ##### 2. Stanford NLP's pretrained GloVe\n",
        "> ##### 3. Facebook's fastText\n",
        "### II. Comparing Word Embedding Models\n",
        "> ##### 1. Loading embeddings into Gensim\n",
        "> ##### 2. Word representations\n",
        "> ##### 3. Top similar words\n",
        "> ##### 4. Contextual Relationship Between Words\n",
        "### III. Train Word2Vec model from scratch\n",
        "> ##### 1. Load Dataset\n",
        "> ##### 2. Create Embeddings"
      ]
    },
    {
      "cell_type": "markdown",
      "metadata": {
        "id": "zFI1M59XbDmW"
      },
      "source": [
        "# I. Download Pre-trained Word Embeddings"
      ]
    },
    {
      "cell_type": "code",
      "execution_count": 1,
      "metadata": {
        "colab": {
          "base_uri": "https://localhost:8080/"
        },
        "id": "D5MCfzeK447B",
        "outputId": "7ad94f5d-8a79-4e39-82ed-08d2f15f33b2"
      },
      "outputs": [
        {
          "output_type": "stream",
          "name": "stdout",
          "text": [
            "Mounted at /content/drive\n"
          ]
        }
      ],
      "source": [
        "# mount drive\n",
        "from google.colab import drive\n",
        "drive.mount('/content/drive')"
      ]
    },
    {
      "cell_type": "markdown",
      "metadata": {
        "id": "ANoAQX2KzH9D"
      },
      "source": [
        "Download models from here : https://developer.syn.co.in/tutorial/bot/oscova/pretrained-vectors.html#word2vec-and-glove-models"
      ]
    },
    {
      "cell_type": "markdown",
      "metadata": {
        "id": "59xpITSy5RC0"
      },
      "source": [
        "##1. Google's pre-trained Word2Vec\n",
        "\n",
        "Google has released a pre-trained Word2Vec model that has the advantage of being trained on **Google's News data set of 3 million words**. You can __download__ the word2vec embeddings from this [link](https://drive.google.com/file/d/0B7XkCwpI5KDYNlNUTTlSS21pQmM/edit?usp=sharing).\n",
        "\n",
        "__Installation__\n",
        "\n",
        " - Make sure you have downloaded it in the same folder where this Jupyter notebook is residing.\n",
        "\n",
        " - Once you have finished downloading, you need to decompress the file and store in the same directory as the jupyter notebook"
      ]
    },
    {
      "cell_type": "code",
      "execution_count": 14,
      "metadata": {
        "colab": {
          "base_uri": "https://localhost:8080/"
        },
        "id": "V1cbSQX15E5V",
        "outputId": "63321bf5-5e39-4f2a-d1ae-3d06a15743dd",
        "collapsed": true
      },
      "outputs": [
        {
          "output_type": "stream",
          "name": "stdout",
          "text": [
            "\n",
            "gzip: /content/GoogleNews-vectors-negative300.bin.gz: not in gzip format\n"
          ]
        }
      ],
      "source": [
        "#!wget \"https://s3.amazonaws.com/dl4j-distribution/GoogleNews-vectors-negative300.bin.gz\"\n",
        "#!gunzip GoogleNews-vectors-negative300.bin.gz\n",
        "!gunzip /content/GoogleNews-vectors-negative300.bin.gz"
      ]
    },
    {
      "cell_type": "markdown",
      "metadata": {
        "id": "SazJWDWn5726"
      },
      "source": [
        "##2. Stanford NLP's pretrained GloVe\n",
        "\n",
        "Stanford NLP's GloVe is trained on different datasets. Smallest is trained on Wikipedia and Gigawords dataset containing **6 Billion tokens and a vocabulary of around 400,000 words**.\n",
        "\n",
        "__Installation__\n",
        "\n",
        " - Download the GloVe model from [Glove6B.zip](http://nlp.stanford.edu/data/glove.6B.zip).\n",
        "\n",
        " - Extract the zip file and store in the same sirectory as the jupyter notebook\n",
        " - Once you have extracted the file, you will see that there are multiple text files\n",
        "     1. **glove.6B.50d.txt**  - Contains 50 dimension vectors for each word of the vocabulary.\n",
        "     2. **glove.6B.100d.txt** - Contains 100 dimension vectors for each word of the vocabulary.\n",
        "     3. **glove.6B.200d.txt** - Contains 200 dimension vectors for each word of the vocabulary.\n",
        "     4. **glove.6B.300d.txt** - Contains 300 dimension vectors for each word of the vocabulary."
      ]
    },
    {
      "cell_type": "code",
      "execution_count": 2,
      "metadata": {
        "colab": {
          "base_uri": "https://localhost:8080/"
        },
        "id": "4npNox1B5a5v",
        "outputId": "1c121f60-a547-4a27-95d3-ecf61e0c5959"
      },
      "outputs": [
        {
          "output_type": "stream",
          "name": "stdout",
          "text": [
            "--2024-08-03 01:23:04--  http://nlp.stanford.edu/data/glove.6B.zip\n",
            "Resolving nlp.stanford.edu (nlp.stanford.edu)... 171.64.67.140\n",
            "Connecting to nlp.stanford.edu (nlp.stanford.edu)|171.64.67.140|:80... connected.\n",
            "HTTP request sent, awaiting response... 302 Found\n",
            "Location: https://nlp.stanford.edu/data/glove.6B.zip [following]\n",
            "--2024-08-03 01:23:04--  https://nlp.stanford.edu/data/glove.6B.zip\n",
            "Connecting to nlp.stanford.edu (nlp.stanford.edu)|171.64.67.140|:443... connected.\n",
            "HTTP request sent, awaiting response... 301 Moved Permanently\n",
            "Location: https://downloads.cs.stanford.edu/nlp/data/glove.6B.zip [following]\n",
            "--2024-08-03 01:23:04--  https://downloads.cs.stanford.edu/nlp/data/glove.6B.zip\n",
            "Resolving downloads.cs.stanford.edu (downloads.cs.stanford.edu)... 171.64.64.22\n",
            "Connecting to downloads.cs.stanford.edu (downloads.cs.stanford.edu)|171.64.64.22|:443... connected.\n",
            "HTTP request sent, awaiting response... 200 OK\n",
            "Length: 862182613 (822M) [application/zip]\n",
            "Saving to: ‘glove.6B.zip’\n",
            "\n",
            "glove.6B.zip        100%[===================>] 822.24M  5.00MB/s    in 2m 39s  \n",
            "\n",
            "2024-08-03 01:25:43 (5.18 MB/s) - ‘glove.6B.zip’ saved [862182613/862182613]\n",
            "\n",
            "Archive:  glove.6B.zip\n",
            "  inflating: glove.6B.50d.txt        \n",
            "  inflating: glove.6B.100d.txt       \n",
            "  inflating: glove.6B.200d.txt       \n",
            "  inflating: glove.6B.300d.txt       \n"
          ]
        }
      ],
      "source": [
        "!wget \"http://nlp.stanford.edu/data/glove.6B.zip\"\n",
        "!unzip glove.6B.zip"
      ]
    },
    {
      "cell_type": "markdown",
      "metadata": {
        "id": "So11SWqz-RO_"
      },
      "source": [
        "##3. Facebook's fastText\n",
        "\n",
        "Facebook's fastText pre-trained model is trained on Wikipedia, UMBC webbase corpus and statmt.org news datasets. It contains around **16 Billion tokens and has a vocabulary of around 1 million words.**\n",
        "\n",
        "__Installation__\n",
        "\n",
        " - Download the embeddings from this [link](https://fasttext.cc/docs/en/english-vectors.html)\n",
        "\n",
        " - Since we are working with wiki-news-300d-1M.vec, we recommend you to do so as well\n",
        "\n",
        " - Once you have finished downloading, you need to decompress the file and store in the same directory as the jupyter notebook"
      ]
    },
    {
      "cell_type": "code",
      "execution_count": 3,
      "metadata": {
        "colab": {
          "base_uri": "https://localhost:8080/"
        },
        "id": "7SvbJOEY-PPS",
        "outputId": "b0500fff-5e58-401a-f5ab-29fe41a87cda"
      },
      "outputs": [
        {
          "output_type": "stream",
          "name": "stdout",
          "text": [
            "--2024-08-03 01:26:26--  https://dl.fbaipublicfiles.com/fasttext/vectors-english/wiki-news-300d-1M.vec.zip\n",
            "Resolving dl.fbaipublicfiles.com (dl.fbaipublicfiles.com)... 13.226.210.78, 13.226.210.15, 13.226.210.25, ...\n",
            "Connecting to dl.fbaipublicfiles.com (dl.fbaipublicfiles.com)|13.226.210.78|:443... connected.\n",
            "HTTP request sent, awaiting response... 200 OK\n",
            "Length: 681808098 (650M) [application/zip]\n",
            "Saving to: ‘wiki-news-300d-1M.vec.zip’\n",
            "\n",
            "wiki-news-300d-1M.v 100%[===================>] 650.22M  83.6MB/s    in 6.9s    \n",
            "\n",
            "2024-08-03 01:26:33 (94.6 MB/s) - ‘wiki-news-300d-1M.vec.zip’ saved [681808098/681808098]\n",
            "\n",
            "Archive:  wiki-news-300d-1M.vec.zip\n",
            "  inflating: wiki-news-300d-1M.vec   \n"
          ]
        }
      ],
      "source": [
        "!wget \"https://dl.fbaipublicfiles.com/fasttext/vectors-english/wiki-news-300d-1M.vec.zip\"\n",
        "!unzip wiki-news-300d-1M.vec.zip"
      ]
    },
    {
      "cell_type": "markdown",
      "metadata": {
        "id": "LMniqsal-jGu"
      },
      "source": [
        "#II. Comparing word embedding models"
      ]
    },
    {
      "cell_type": "code",
      "execution_count": 4,
      "metadata": {
        "id": "vaUFbw5o-k3O"
      },
      "outputs": [],
      "source": [
        "# Importing libraries\n",
        "from gensim.models import KeyedVectors\n",
        "from gensim.scripts.glove2word2vec import glove2word2vec"
      ]
    },
    {
      "cell_type": "markdown",
      "metadata": {
        "id": "YnPMO3dpQnwj"
      },
      "source": [
        "##1. Loading embeddings into Gensim"
      ]
    },
    {
      "cell_type": "code",
      "execution_count": 5,
      "metadata": {
        "id": "0wbzyjaB-q5k"
      },
      "outputs": [],
      "source": [
        "# Path to word2vec bin file\n",
        "file_path = \"/content/drive/MyDrive/AnalyticsVidya/NLP/GoogleNews-vectors-negative300.bin\"\n",
        "\n",
        "# Load into gensim\n",
        "w2vec = KeyedVectors.load_word2vec_format(file_path, binary=True)"
      ]
    },
    {
      "cell_type": "code",
      "execution_count": 6,
      "metadata": {
        "colab": {
          "base_uri": "https://localhost:8080/"
        },
        "id": "6hTPMMwy-8XW",
        "outputId": "5b6f52dd-8961-4bb3-c1e7-34e62f188129"
      },
      "outputs": [
        {
          "output_type": "stream",
          "name": "stderr",
          "text": [
            "<ipython-input-6-8b7af539c1cf>:8: DeprecationWarning: Call to deprecated `glove2word2vec` (KeyedVectors.load_word2vec_format(.., binary=False, no_header=True) loads GLoVE text vectors.).\n",
            "  glove2word2vec(glove_input_file, glove_word2vec_output_file)\n"
          ]
        }
      ],
      "source": [
        "# Path to glove file\n",
        "glove_input_file = '/content/glove.6B.300d.txt'\n",
        "\n",
        "# Path to Word2Vec format output file\n",
        "glove_word2vec_output_file = '/content/glove.6B.300d.word2vec.txt'\n",
        "\n",
        "# Save in Word2vec format\n",
        "glove2word2vec(glove_input_file, glove_word2vec_output_file)\n",
        "\n",
        "# Load into gensim\n",
        "glove = KeyedVectors.load_word2vec_format(glove_word2vec_output_file, binary=False)"
      ]
    },
    {
      "cell_type": "code",
      "execution_count": 7,
      "metadata": {
        "id": "Dlkd13w0_V2u"
      },
      "outputs": [],
      "source": [
        "# Path to fasttext vector file\n",
        "file_path = '/content/wiki-news-300d-1M.vec'\n",
        "\n",
        "# Load into gensim\n",
        "ft = KeyedVectors.load_word2vec_format(file_path, binary=False)"
      ]
    },
    {
      "cell_type": "markdown",
      "metadata": {
        "id": "TSIDVCk2QljC"
      },
      "source": [
        "##2. Word representations"
      ]
    },
    {
      "cell_type": "code",
      "execution_count": 8,
      "metadata": {
        "colab": {
          "base_uri": "https://localhost:8080/"
        },
        "id": "VO5vm-gG_dgm",
        "outputId": "3e79da8f-286d-46f0-fd37-fce8c203de7d"
      },
      "outputs": [
        {
          "output_type": "execute_result",
          "data": {
            "text/plain": [
              "array([ 1.25976562e-01,  2.97851562e-02,  8.60595703e-03,  1.39648438e-01,\n",
              "       -2.56347656e-02, -3.61328125e-02,  1.11816406e-01, -1.98242188e-01,\n",
              "        5.12695312e-02,  3.63281250e-01, -2.42187500e-01, -3.02734375e-01,\n",
              "       -1.77734375e-01, -2.49023438e-02, -1.67968750e-01, -1.69921875e-01,\n",
              "        3.46679688e-02,  5.21850586e-03,  4.63867188e-02,  1.28906250e-01,\n",
              "        1.36718750e-01,  1.12792969e-01,  5.95703125e-02,  1.36718750e-01,\n",
              "        1.01074219e-01, -1.76757812e-01, -2.51953125e-01,  5.98144531e-02,\n",
              "        3.41796875e-01, -3.11279297e-02,  1.04492188e-01,  6.17675781e-02,\n",
              "        1.24511719e-01,  4.00390625e-01, -3.22265625e-01,  8.39843750e-02,\n",
              "        3.90625000e-02,  5.85937500e-03,  7.03125000e-02,  1.72851562e-01,\n",
              "        1.38671875e-01, -2.31445312e-01,  2.83203125e-01,  1.42578125e-01,\n",
              "        3.41796875e-01, -2.39257812e-02, -1.09863281e-01,  3.32031250e-02,\n",
              "       -5.46875000e-02,  1.53198242e-02, -1.62109375e-01,  1.58203125e-01,\n",
              "       -2.59765625e-01,  2.01416016e-02, -1.63085938e-01,  1.35803223e-03,\n",
              "       -1.44531250e-01, -5.68847656e-02,  4.29687500e-02, -2.46582031e-02,\n",
              "        1.85546875e-01,  4.47265625e-01,  9.58251953e-03,  1.31835938e-01,\n",
              "        9.86328125e-02, -1.85546875e-01, -1.00097656e-01, -1.33789062e-01,\n",
              "       -1.25000000e-01,  2.83203125e-01,  1.23046875e-01,  5.32226562e-02,\n",
              "       -1.77734375e-01,  8.59375000e-02, -2.18505859e-02,  2.05078125e-02,\n",
              "       -1.39648438e-01,  2.51464844e-02,  1.38671875e-01, -1.05468750e-01,\n",
              "        1.38671875e-01,  8.88671875e-02, -7.51953125e-02, -2.13623047e-02,\n",
              "        1.72851562e-01,  4.63867188e-02, -2.65625000e-01,  8.91113281e-03,\n",
              "        1.49414062e-01,  3.78417969e-02,  2.38281250e-01, -1.24511719e-01,\n",
              "       -2.17773438e-01, -1.81640625e-01,  2.97851562e-02,  5.71289062e-02,\n",
              "       -2.89306641e-02,  1.24511719e-02,  9.66796875e-02, -2.31445312e-01,\n",
              "        5.81054688e-02,  6.68945312e-02,  7.08007812e-02, -3.08593750e-01,\n",
              "       -2.14843750e-01,  1.45507812e-01, -4.27734375e-01, -9.39941406e-03,\n",
              "        1.54296875e-01, -7.66601562e-02,  2.89062500e-01,  2.77343750e-01,\n",
              "       -4.86373901e-04, -1.36718750e-01,  3.24218750e-01, -2.46093750e-01,\n",
              "       -3.03649902e-03, -2.11914062e-01,  1.25000000e-01,  2.69531250e-01,\n",
              "        2.04101562e-01,  8.25195312e-02, -2.01171875e-01, -1.60156250e-01,\n",
              "       -3.78417969e-02, -1.20117188e-01,  1.15234375e-01, -4.10156250e-02,\n",
              "       -3.95507812e-02, -8.98437500e-02,  6.34765625e-03,  2.03125000e-01,\n",
              "        1.86523438e-01,  2.73437500e-01,  6.29882812e-02,  1.41601562e-01,\n",
              "       -9.81445312e-02,  1.38671875e-01,  1.82617188e-01,  1.73828125e-01,\n",
              "        1.73828125e-01, -2.37304688e-01,  1.78710938e-01,  6.34765625e-02,\n",
              "        2.36328125e-01, -2.08984375e-01,  8.74023438e-02, -1.66015625e-01,\n",
              "       -7.91015625e-02,  2.43164062e-01, -8.88671875e-02,  1.26953125e-01,\n",
              "       -2.16796875e-01, -1.73828125e-01, -3.59375000e-01, -8.25195312e-02,\n",
              "       -6.49414062e-02,  5.07812500e-02,  1.35742188e-01, -7.47070312e-02,\n",
              "       -1.64062500e-01,  1.15356445e-02,  4.45312500e-01, -2.15820312e-01,\n",
              "       -1.11328125e-01, -1.92382812e-01,  1.70898438e-01, -1.25000000e-01,\n",
              "        2.65502930e-03,  1.92382812e-01, -1.74804688e-01,  1.39648438e-01,\n",
              "        2.92968750e-01,  1.13281250e-01,  5.95703125e-02, -6.39648438e-02,\n",
              "        9.96093750e-02, -2.72216797e-02,  1.96533203e-02,  4.27246094e-02,\n",
              "       -2.46093750e-01,  6.39648438e-02, -2.25585938e-01, -1.68945312e-01,\n",
              "        2.89916992e-03,  8.20312500e-02,  3.41796875e-01,  4.32128906e-02,\n",
              "        1.32812500e-01,  1.42578125e-01,  7.61718750e-02,  5.98144531e-02,\n",
              "       -1.19140625e-01,  2.74658203e-03, -6.29882812e-02, -2.72216797e-02,\n",
              "       -4.82177734e-03, -8.20312500e-02, -2.49023438e-02, -4.00390625e-01,\n",
              "       -1.06933594e-01,  4.24804688e-02,  7.76367188e-02, -1.16699219e-01,\n",
              "        7.37304688e-02, -9.22851562e-02,  1.07910156e-01,  1.58203125e-01,\n",
              "        4.24804688e-02,  1.26953125e-01,  3.61328125e-02,  2.67578125e-01,\n",
              "       -1.01074219e-01, -3.02734375e-01, -5.76171875e-02,  5.05371094e-02,\n",
              "        5.26428223e-04, -2.07031250e-01, -1.38671875e-01, -8.97216797e-03,\n",
              "       -2.78320312e-02, -1.41601562e-01,  2.07031250e-01, -1.58203125e-01,\n",
              "        1.27929688e-01,  1.49414062e-01, -2.24609375e-02, -8.44726562e-02,\n",
              "        1.22558594e-01,  2.15820312e-01, -2.13867188e-01, -3.12500000e-01,\n",
              "       -3.73046875e-01,  4.08935547e-03,  1.07421875e-01,  1.06933594e-01,\n",
              "        7.32421875e-02,  8.97216797e-03, -3.88183594e-02, -1.29882812e-01,\n",
              "        1.49414062e-01, -2.14843750e-01, -1.83868408e-03,  9.91210938e-02,\n",
              "        1.57226562e-01, -1.14257812e-01, -2.05078125e-01,  9.91210938e-02,\n",
              "        3.69140625e-01, -1.97265625e-01,  3.54003906e-02,  1.09375000e-01,\n",
              "        1.31835938e-01,  1.66992188e-01,  2.35351562e-01,  1.04980469e-01,\n",
              "       -4.96093750e-01, -1.64062500e-01, -1.56250000e-01, -5.22460938e-02,\n",
              "        1.03027344e-01,  2.43164062e-01, -1.88476562e-01,  5.07812500e-02,\n",
              "       -9.37500000e-02, -6.68945312e-02,  2.27050781e-02,  7.61718750e-02,\n",
              "        2.89062500e-01,  3.10546875e-01, -5.37109375e-02,  2.28515625e-01,\n",
              "        2.51464844e-02,  6.78710938e-02, -1.21093750e-01, -2.15820312e-01,\n",
              "       -2.73437500e-01, -3.07617188e-02, -3.37890625e-01,  1.53320312e-01,\n",
              "        2.33398438e-01, -2.08007812e-01,  3.73046875e-01,  8.20312500e-02,\n",
              "        2.51953125e-01, -7.61718750e-02, -4.66308594e-02, -2.23388672e-02,\n",
              "        2.99072266e-02, -5.93261719e-02, -4.66918945e-03, -2.44140625e-01,\n",
              "       -2.09960938e-01, -2.87109375e-01, -4.54101562e-02, -1.77734375e-01,\n",
              "       -2.79296875e-01, -8.59375000e-02,  9.13085938e-02,  2.51953125e-01],\n",
              "      dtype=float32)"
            ]
          },
          "metadata": {},
          "execution_count": 8
        }
      ],
      "source": [
        "# Word2vec representation\n",
        "w2vec['king']"
      ]
    },
    {
      "cell_type": "code",
      "execution_count": 9,
      "metadata": {
        "colab": {
          "base_uri": "https://localhost:8080/"
        },
        "id": "GXE4723o_mB6",
        "outputId": "69d6568c-5198-4169-a94f-bfbeb91153af",
        "collapsed": true
      },
      "outputs": [
        {
          "output_type": "execute_result",
          "data": {
            "text/plain": [
              "array([ 0.0033901, -0.34614  ,  0.28144  ,  0.48382  ,  0.59469  ,\n",
              "        0.012965 ,  0.53982  ,  0.48233  ,  0.21463  , -1.0249   ,\n",
              "       -0.34788  , -0.79001  , -0.15084  ,  0.61374  ,  0.042811 ,\n",
              "        0.19323  ,  0.25462  ,  0.32528  ,  0.05698  ,  0.063253 ,\n",
              "       -0.49439  ,  0.47337  , -0.16761  ,  0.045594 ,  0.30451  ,\n",
              "       -0.35416  , -0.34583  , -0.20118  ,  0.25511  ,  0.091111 ,\n",
              "        0.014651 , -0.017541 , -0.23854  ,  0.48215  , -0.9145   ,\n",
              "       -0.36235  ,  0.34736  ,  0.028639 , -0.027065 , -0.036481 ,\n",
              "       -0.067391 , -0.23452  , -0.13772  ,  0.33951  ,  0.13415  ,\n",
              "       -0.1342   ,  0.47856  , -0.1842   ,  0.10705  , -0.45834  ,\n",
              "       -0.36085  , -0.22595  ,  0.32881  , -0.13643  ,  0.23128  ,\n",
              "        0.34269  ,  0.42344  ,  0.47057  ,  0.479    ,  0.074639 ,\n",
              "        0.3344   ,  0.10714  , -0.13289  ,  0.58734  ,  0.38616  ,\n",
              "       -0.52238  , -0.22028  , -0.072322 ,  0.32269  ,  0.44226  ,\n",
              "       -0.037382 ,  0.18324  ,  0.058082 ,  0.26938  ,  0.36202  ,\n",
              "        0.13983  ,  0.016815 , -0.34426  ,  0.4827   ,  0.2108   ,\n",
              "        0.75618  , -0.13092  , -0.025741 ,  0.43391  ,  0.33893  ,\n",
              "       -0.16438  ,  0.26817  ,  0.68774  ,  0.311    , -0.2509   ,\n",
              "        0.0027749, -0.39809  , -0.43399  ,  0.049531 , -0.42686  ,\n",
              "       -0.094679 ,  0.56925  ,  0.28742  , -0.015721 , -0.059162 ,\n",
              "        0.1912   , -0.59814  ,  0.65486  , -0.31363  ,  0.16881  ,\n",
              "        0.10862  ,  0.075316 ,  0.34093  , -0.14706  ,  0.8359   ,\n",
              "        0.39697  ,  0.52358  , -0.0096367, -0.14406  ,  0.37783  ,\n",
              "       -0.596    , -0.063192 , -0.85297  , -0.3098   , -1.0587   ,\n",
              "       -1.025    ,  0.4508   , -0.73324  , -1.2461   , -0.028488 ,\n",
              "        0.20299  ,  0.00259  ,  0.31995  ,  0.35744  ,  0.28533  ,\n",
              "        0.228    ,  0.50956  , -0.35942  ,  0.32683  ,  0.046264 ,\n",
              "       -0.86896  , -0.2707   , -0.15454  , -0.32152  ,  0.31121  ,\n",
              "        0.44134  ,  0.85189  ,  0.21065  , -0.13741  , -0.15359  ,\n",
              "       -0.059722 ,  0.027375 ,  0.23724  , -0.39197  , -0.66065  ,\n",
              "        0.23587  ,  0.032384 , -0.64043  ,  0.55004  ,  0.29597  ,\n",
              "        0.14989  ,  0.46079  , -0.26561  , -0.1607   , -0.36328  ,\n",
              "        1.0782   ,  0.31375  ,  0.1149   ,  0.20248  ,  0.032748 ,\n",
              "        0.41082  , -0.082536 ,  0.36606  ,  0.18771  ,  0.75415  ,\n",
              "        0.079648 ,  0.24181  , -0.60319  , -0.37296  , -0.047767 ,\n",
              "        0.45008  , -0.21135  ,  0.022251 , -0.084325 ,  0.18644  ,\n",
              "       -0.14682  ,  0.56571  , -0.30995  ,  0.17423  , -0.41122  ,\n",
              "       -0.84772  , -0.71114  ,  0.69895  , -0.13008  , -0.34195  ,\n",
              "       -0.30501  , -0.12646  ,  0.29957  , -0.43488  ,  0.31935  ,\n",
              "        0.2817   , -0.20631  , -0.48877  ,  0.34477  ,  0.03907  ,\n",
              "        1.6198   , -0.6352   , -0.0037675, -0.41271  ,  0.30704  ,\n",
              "       -0.50486  ,  0.036385 , -0.046386 , -0.12004  ,  0.010029 ,\n",
              "       -0.49116  ,  0.041486 ,  0.002979 , -0.57694  , -0.42088  ,\n",
              "       -0.063218 ,  0.0034244, -0.25093  , -0.39689  , -0.36984  ,\n",
              "        0.32689  ,  0.01385  ,  0.23634  , -0.055199 , -0.58453  ,\n",
              "        0.13211  ,  0.50943  ,  0.25198  , -0.0088309, -0.21273  ,\n",
              "       -0.48423  ,  0.5234   , -0.32832  , -0.013821 ,  0.15812  ,\n",
              "        0.46696  ,  0.036822 , -0.090878 ,  0.18854  ,  0.20794  ,\n",
              "       -0.42682  ,  0.59705  ,  0.53109  ,  0.19185  , -0.16392  ,\n",
              "        0.064956 , -0.36009  , -0.59882  , -0.28134  ,  0.1017   ,\n",
              "        0.02601  ,  0.44298  , -0.31922  , -0.22432  ,  0.7828   ,\n",
              "        0.041307 ,  0.1742   ,  0.27777  ,  0.43792  , -0.84324  ,\n",
              "        0.27012  , -0.21547  ,  0.52408  , -0.19426  , -0.21878  ,\n",
              "       -0.20713  ,  0.092994 , -0.15804  ,  0.28716  , -0.11911  ,\n",
              "       -0.20688  , -0.36482  ,  0.68548  , -0.10394  , -0.49974  ,\n",
              "       -0.47038  , -1.2953   , -0.46236  ,  0.44467  ,  0.13337  ,\n",
              "        0.88762  , -0.26494  ,  0.080676 , -0.20625  , -0.51232  ,\n",
              "        0.31112  ,  0.062035 ,  0.30302  , -0.33344  , -0.20924  ,\n",
              "       -0.17348  , -0.43434  , -0.45743  , -0.077803 , -0.33248  ,\n",
              "       -0.078633 ,  0.82182  ,  0.082088 , -0.68795  ,  0.30266  ],\n",
              "      dtype=float32)"
            ]
          },
          "metadata": {},
          "execution_count": 9
        }
      ],
      "source": [
        "# Glove embeddings\n",
        "glove['king']"
      ]
    },
    {
      "cell_type": "code",
      "execution_count": 10,
      "metadata": {
        "colab": {
          "base_uri": "https://localhost:8080/"
        },
        "id": "o5agA1cMCnkr",
        "outputId": "e28ed955-18a4-4dcd-92a7-c1f46304c8d3",
        "collapsed": true
      },
      "outputs": [
        {
          "output_type": "execute_result",
          "data": {
            "text/plain": [
              "array([ 1.082e-01,  4.450e-02, -3.840e-02,  1.100e-03, -8.880e-02,\n",
              "        7.130e-02, -6.960e-02, -4.770e-02,  7.100e-03, -4.080e-02,\n",
              "       -7.070e-02, -2.660e-02,  5.000e-02, -8.240e-02,  8.480e-02,\n",
              "       -1.627e-01, -8.510e-02, -2.950e-02,  1.534e-01, -1.828e-01,\n",
              "       -2.208e-01,  2.430e-02, -9.210e-02, -1.089e-01, -1.009e-01,\n",
              "       -1.190e-02,  3.770e-02,  2.038e-01,  7.200e-02,  2.020e-02,\n",
              "        2.798e-01,  1.150e-02, -1.510e-02,  1.037e-01,  4.000e-04,\n",
              "       -1.040e-02,  1.960e-02,  1.265e-01,  8.280e-02, -1.369e-01,\n",
              "        1.070e-01,  1.270e-01, -3.490e-02, -6.830e-02, -1.140e-02,\n",
              "        3.370e-02,  1.260e-02,  7.920e-02,  4.400e-02, -2.530e-02,\n",
              "        4.890e-02, -7.850e-02, -6.259e-01, -9.720e-02,  1.654e-01,\n",
              "       -5.780e-02, -4.370e-02,  4.090e-02, -1.820e-02, -1.891e-01,\n",
              "        2.770e-02, -1.460e-02, -5.310e-02,  4.260e-02,  4.900e-03,\n",
              "        4.000e-03,  1.423e-01, -9.750e-02, -3.500e-03,  9.630e-02,\n",
              "       -1.900e-03, -1.466e-01, -1.662e-01,  6.650e-02, -1.500e-01,\n",
              "       -1.267e-01,  2.670e-02, -1.560e-01, -1.442e-01,  1.515e-01,\n",
              "        2.420e-02, -6.080e-02,  9.180e-02, -2.407e-01, -4.110e-02,\n",
              "       -1.420e-02,  6.550e-02, -3.590e-02,  1.459e-01,  9.400e-02,\n",
              "        1.590e-02,  6.380e-02, -1.077e-01, -5.170e-02, -1.370e-02,\n",
              "        5.120e-02, -2.750e-02, -5.070e-02,  6.900e-03,  3.660e-02,\n",
              "       -1.529e-01, -1.813e-01,  3.390e-02, -8.510e-02, -5.400e-02,\n",
              "        1.180e-01,  1.039e-01,  6.190e-02, -2.350e-02, -1.150e-02,\n",
              "        1.648e-01,  9.360e-02, -5.000e-03, -9.790e-02, -5.890e-02,\n",
              "       -7.210e-02, -1.586e-01,  2.270e-02, -4.460e-02, -3.398e-01,\n",
              "       -2.840e-02, -2.507e-01,  4.510e-02, -1.226e-01,  8.000e-02,\n",
              "        2.365e-01,  7.560e-02, -8.530e-02,  1.157e-01,  2.780e-02,\n",
              "        7.100e-02, -1.314e-01, -4.630e-02,  4.270e-02, -5.050e-02,\n",
              "       -2.490e-02,  1.182e-01,  4.810e-02, -1.085e-01, -1.600e-02,\n",
              "        3.900e-03, -3.860e-02,  1.551e-01,  2.695e-01,  7.070e-02,\n",
              "       -8.420e-02,  1.167e-01,  8.450e-02, -1.040e-02,  2.060e-02,\n",
              "        4.690e-02,  5.700e-03,  8.970e-02,  7.230e-02,  2.220e-02,\n",
              "        7.270e-02,  6.420e-02, -2.350e-02, -2.160e-02, -6.010e-02,\n",
              "        5.370e-02, -2.842e-01, -1.047e-01,  1.733e-01,  2.100e-03,\n",
              "       -1.050e-02,  1.143e-01,  2.150e-02,  7.400e-03, -5.040e-02,\n",
              "       -4.900e-03,  1.190e-02, -2.700e-02,  1.450e-02,  9.670e-02,\n",
              "        9.030e-02,  3.145e-01,  1.222e-01,  9.850e-02,  2.126e-01,\n",
              "       -1.030e-01,  7.930e-02, -7.870e-02, -5.930e-02,  7.390e-02,\n",
              "       -6.960e-02, -8.180e-02,  3.200e-02, -1.808e-01,  4.770e-02,\n",
              "        8.250e-02, -1.270e-02,  1.445e-01, -6.050e-02, -5.130e-02,\n",
              "        9.450e-02, -1.030e-01,  4.750e-02,  9.820e-02,  2.402e-01,\n",
              "        8.600e-03, -2.410e-02, -3.320e-02,  4.300e-02, -4.170e-02,\n",
              "        1.990e-02, -5.280e-02, -6.300e-02,  3.470e-02,  5.800e-02,\n",
              "       -2.600e-02,  1.113e-01,  9.890e-02, -3.800e-03, -1.272e-01,\n",
              "       -9.790e-02,  4.500e-03,  6.100e-03, -3.980e-02, -8.500e-03,\n",
              "       -3.500e-03, -1.191e-01, -9.490e-02,  1.230e-02,  1.705e-01,\n",
              "       -2.065e-01,  5.500e-02,  4.530e-02,  4.240e-02, -5.780e-02,\n",
              "       -3.480e-02, -1.770e-02,  3.437e-01, -6.590e-02,  9.240e-02,\n",
              "       -1.122e-01, -1.588e-01,  1.068e-01, -3.029e-01,  1.800e-03,\n",
              "        3.170e-02,  1.857e-01,  3.600e-02,  8.290e-02,  2.240e-02,\n",
              "        9.340e-02, -4.750e-02,  1.719e-01,  1.500e-03,  4.849e-01,\n",
              "       -2.280e-02, -9.020e-02,  4.650e-02, -1.087e-01,  1.374e-01,\n",
              "        1.150e-02, -1.246e-01,  5.090e-02,  1.578e-01, -1.667e-01,\n",
              "       -3.400e-02,  4.690e-02,  5.680e-02,  1.599e-01, -3.915e-01,\n",
              "        3.560e-02,  2.870e-02, -2.275e-01, -1.378e-01, -2.650e-02,\n",
              "       -1.115e-01,  1.804e-01,  7.960e-02, -9.870e-02,  9.050e-02,\n",
              "        3.556e-01,  2.400e-02,  2.460e-02,  2.830e-02,  6.090e-02,\n",
              "       -2.270e-02, -4.690e-02, -5.350e-02,  4.400e-02,  1.021e-01,\n",
              "       -1.398e-01,  5.370e-02, -2.549e-01,  8.270e-02, -1.011e-01,\n",
              "        4.700e-03, -7.120e-02,  1.442e-01, -7.000e-02,  1.230e-02,\n",
              "        3.440e-02, -5.700e-02,  1.580e-02,  5.440e-02,  2.560e-02],\n",
              "      dtype=float32)"
            ]
          },
          "metadata": {},
          "execution_count": 10
        }
      ],
      "source": [
        "# fastText embeddings\n",
        "ft['king']"
      ]
    },
    {
      "cell_type": "markdown",
      "metadata": {
        "id": "1yRP03FKQjWZ"
      },
      "source": [
        "##3. Top similar words"
      ]
    },
    {
      "cell_type": "code",
      "execution_count": 11,
      "metadata": {
        "colab": {
          "base_uri": "https://localhost:8080/"
        },
        "id": "nIQiAcPUCojF",
        "outputId": "b8977cd0-0c4a-45cb-b44b-1e806f2fe91d"
      },
      "outputs": [
        {
          "output_type": "execute_result",
          "data": {
            "text/plain": [
              "[('kings', 0.7138045430183411),\n",
              " ('queen', 0.6510956883430481),\n",
              " ('monarch', 0.6413194537162781),\n",
              " ('crown_prince', 0.6204220056533813),\n",
              " ('prince', 0.6159993410110474)]"
            ]
          },
          "metadata": {},
          "execution_count": 11
        }
      ],
      "source": [
        "# Top similar words\n",
        "w2vec.most_similar(['king'], topn=5)"
      ]
    },
    {
      "cell_type": "code",
      "execution_count": 12,
      "metadata": {
        "colab": {
          "base_uri": "https://localhost:8080/"
        },
        "id": "hHwCfEwaCqjt",
        "outputId": "dded1a13-089f-4359-b9a6-2adb58045d31"
      },
      "outputs": [
        {
          "output_type": "execute_result",
          "data": {
            "text/plain": [
              "[('queen', 0.6336469054222107),\n",
              " ('prince', 0.6196622848510742),\n",
              " ('monarch', 0.5899620652198792),\n",
              " ('kingdom', 0.5791266560554504),\n",
              " ('throne', 0.5606487989425659)]"
            ]
          },
          "metadata": {},
          "execution_count": 12
        }
      ],
      "source": [
        "# Top similar words\n",
        "glove.most_similar(['king'], topn=5)"
      ]
    },
    {
      "cell_type": "code",
      "execution_count": 13,
      "metadata": {
        "colab": {
          "base_uri": "https://localhost:8080/"
        },
        "id": "pay88k-3Cr3t",
        "outputId": "e1d5b280-4a5a-4f8d-b723-666027a5c583"
      },
      "outputs": [
        {
          "output_type": "execute_result",
          "data": {
            "text/plain": [
              "[('kings', 0.7969563603401184),\n",
              " ('queen', 0.763853907585144),\n",
              " ('monarch', 0.739997148513794),\n",
              " ('King', 0.728195309638977),\n",
              " ('prince', 0.7132730484008789)]"
            ]
          },
          "metadata": {},
          "execution_count": 13
        }
      ],
      "source": [
        "# Top similar words\n",
        "ft.most_similar(['king'], topn=5)"
      ]
    },
    {
      "cell_type": "markdown",
      "metadata": {
        "id": "nA1zvQFOQhJ0"
      },
      "source": [
        "##4. Contextual Relationship Between Words"
      ]
    },
    {
      "cell_type": "markdown",
      "metadata": {
        "id": "qXqy78adkjyV"
      },
      "source": [
        "Example: airplane - fly + drive = car"
      ]
    },
    {
      "cell_type": "code",
      "execution_count": 14,
      "metadata": {
        "colab": {
          "base_uri": "https://localhost:8080/"
        },
        "id": "ovzXEe2HCtJN",
        "outputId": "46d93210-4c41-4461-aa52-bd51b231e45a"
      },
      "outputs": [
        {
          "output_type": "execute_result",
          "data": {
            "text/plain": [
              "[('car', 0.511200487613678),\n",
              " ('drives', 0.47777244448661804),\n",
              " ('automobile', 0.45616626739501953),\n",
              " ('vehicle', 0.44856154918670654),\n",
              " ('SUV', 0.44360119104385376)]"
            ]
          },
          "metadata": {},
          "execution_count": 14
        }
      ],
      "source": [
        "# airplane - fly + drive\n",
        "w2vec.most_similar(positive=['airplane', 'drive'], negative=['fly'], topn=5)"
      ]
    },
    {
      "cell_type": "code",
      "execution_count": 15,
      "metadata": {
        "colab": {
          "base_uri": "https://localhost:8080/"
        },
        "id": "Auvg3wK0Cu9p",
        "outputId": "8f2d51a8-5d64-41de-974a-8a0406a9c9ae"
      },
      "outputs": [
        {
          "output_type": "execute_result",
          "data": {
            "text/plain": [
              "[('car', 0.5835879445075989),\n",
              " ('drives', 0.5498395562171936),\n",
              " ('vehicle', 0.5255967378616333),\n",
              " ('truck', 0.48848605155944824),\n",
              " ('automobile', 0.47820839285850525)]"
            ]
          },
          "metadata": {},
          "execution_count": 15
        }
      ],
      "source": [
        "# airplane - fly + drive\n",
        "glove.most_similar(positive=['airplane', 'drive'], negative=['fly'], topn=5)"
      ]
    },
    {
      "cell_type": "code",
      "execution_count": 16,
      "metadata": {
        "colab": {
          "base_uri": "https://localhost:8080/"
        },
        "id": "1bFxHuJeCwMz",
        "outputId": "74b4bbce-b9d5-4ae7-9302-b2b19fdf1e40"
      },
      "outputs": [
        {
          "output_type": "execute_result",
          "data": {
            "text/plain": [
              "[('automobile', 0.6070601344108582),\n",
              " ('car', 0.6051998138427734),\n",
              " ('drives', 0.5803263783454895),\n",
              " ('automobiles', 0.557213544845581),\n",
              " ('vehicle', 0.5500436425209045)]"
            ]
          },
          "metadata": {},
          "execution_count": 16
        }
      ],
      "source": [
        "# airplane - fly + drive\n",
        "ft.most_similar(positive=['airplane', 'drive'], negative=['fly'], topn=5)"
      ]
    },
    {
      "cell_type": "markdown",
      "metadata": {
        "id": "-R66mzqlDocT"
      },
      "source": [
        "# III. Train Word2Vec model from scratch"
      ]
    },
    {
      "cell_type": "markdown",
      "metadata": {
        "id": "HVfsN1foawyH"
      },
      "source": [
        "##1. Load Dataset"
      ]
    },
    {
      "cell_type": "code",
      "execution_count": 17,
      "metadata": {
        "id": "Tv8N9vjXbcTe"
      },
      "outputs": [],
      "source": [
        "import pandas as pd\n",
        "import numpy as np\n",
        "from gensim.models import Word2Vec"
      ]
    },
    {
      "cell_type": "code",
      "execution_count": 18,
      "metadata": {
        "colab": {
          "base_uri": "https://localhost:8080/",
          "height": 434
        },
        "id": "g4HXvksgbrQO",
        "outputId": "46f707e1-8b91-40f4-d93f-d62adcb80dd6"
      },
      "outputs": [
        {
          "output_type": "execute_result",
          "data": {
            "text/plain": [
              "                                                text favorited  favoriteCount  \\\n",
              "0  RT @rssurjewala: Critical question: Was PayTM ...     False            0.0   \n",
              "1  RT @Hemant_80: Did you vote on #Demonetization...     False            0.0   \n",
              "2  RT @roshankar: Former FinSec, RBI Dy Governor,...     False            0.0   \n",
              "3  RT @ANI_news: Gurugram (Haryana): Post office ...     False            0.0   \n",
              "4  RT @satishacharya: Reddy Wedding! @mail_today ...     False            0.0   \n",
              "\n",
              "  replyToSN              created truncated  replyToSID            id  \\\n",
              "0       NaN  2016-11-23 18:40:30     False         NaN  8.014957e+17   \n",
              "1       NaN  2016-11-23 18:40:29     False         NaN  8.014957e+17   \n",
              "2       NaN  2016-11-23 18:40:03     False         NaN  8.014955e+17   \n",
              "3       NaN  2016-11-23 18:39:59     False         NaN  8.014955e+17   \n",
              "4       NaN  2016-11-23 18:39:39     False         NaN  8.014954e+17   \n",
              "\n",
              "   replyToUID                                       statusSource  \\\n",
              "0         NaN  <a href=\"http://twitter.com/download/android\" ...   \n",
              "1         NaN  <a href=\"http://twitter.com/download/android\" ...   \n",
              "2         NaN  <a href=\"http://twitter.com/download/android\" ...   \n",
              "3         NaN  <a href=\"http://twitter.com/download/android\" ...   \n",
              "4         NaN  <a href=\"http://cpimharyana.com\" rel=\"nofollow...   \n",
              "\n",
              "        screenName  retweetCount isRetweet retweeted  \n",
              "0  HASHTAGFARZIWAL         331.0      True     False  \n",
              "1   PRAMODKAUSHIK9          66.0      True     False  \n",
              "2  rahulja13034944          12.0      True     False  \n",
              "3        deeptiyvd         338.0      True     False  \n",
              "4        CPIMBadli         120.0      True     False  "
            ],
            "text/html": [
              "\n",
              "  <div id=\"df-c4e2f4d6-5967-4ab1-ae72-a410f1e20c82\" class=\"colab-df-container\">\n",
              "    <div>\n",
              "<style scoped>\n",
              "    .dataframe tbody tr th:only-of-type {\n",
              "        vertical-align: middle;\n",
              "    }\n",
              "\n",
              "    .dataframe tbody tr th {\n",
              "        vertical-align: top;\n",
              "    }\n",
              "\n",
              "    .dataframe thead th {\n",
              "        text-align: right;\n",
              "    }\n",
              "</style>\n",
              "<table border=\"1\" class=\"dataframe\">\n",
              "  <thead>\n",
              "    <tr style=\"text-align: right;\">\n",
              "      <th></th>\n",
              "      <th>text</th>\n",
              "      <th>favorited</th>\n",
              "      <th>favoriteCount</th>\n",
              "      <th>replyToSN</th>\n",
              "      <th>created</th>\n",
              "      <th>truncated</th>\n",
              "      <th>replyToSID</th>\n",
              "      <th>id</th>\n",
              "      <th>replyToUID</th>\n",
              "      <th>statusSource</th>\n",
              "      <th>screenName</th>\n",
              "      <th>retweetCount</th>\n",
              "      <th>isRetweet</th>\n",
              "      <th>retweeted</th>\n",
              "    </tr>\n",
              "  </thead>\n",
              "  <tbody>\n",
              "    <tr>\n",
              "      <th>0</th>\n",
              "      <td>RT @rssurjewala: Critical question: Was PayTM ...</td>\n",
              "      <td>False</td>\n",
              "      <td>0.0</td>\n",
              "      <td>NaN</td>\n",
              "      <td>2016-11-23 18:40:30</td>\n",
              "      <td>False</td>\n",
              "      <td>NaN</td>\n",
              "      <td>8.014957e+17</td>\n",
              "      <td>NaN</td>\n",
              "      <td>&lt;a href=\"http://twitter.com/download/android\" ...</td>\n",
              "      <td>HASHTAGFARZIWAL</td>\n",
              "      <td>331.0</td>\n",
              "      <td>True</td>\n",
              "      <td>False</td>\n",
              "    </tr>\n",
              "    <tr>\n",
              "      <th>1</th>\n",
              "      <td>RT @Hemant_80: Did you vote on #Demonetization...</td>\n",
              "      <td>False</td>\n",
              "      <td>0.0</td>\n",
              "      <td>NaN</td>\n",
              "      <td>2016-11-23 18:40:29</td>\n",
              "      <td>False</td>\n",
              "      <td>NaN</td>\n",
              "      <td>8.014957e+17</td>\n",
              "      <td>NaN</td>\n",
              "      <td>&lt;a href=\"http://twitter.com/download/android\" ...</td>\n",
              "      <td>PRAMODKAUSHIK9</td>\n",
              "      <td>66.0</td>\n",
              "      <td>True</td>\n",
              "      <td>False</td>\n",
              "    </tr>\n",
              "    <tr>\n",
              "      <th>2</th>\n",
              "      <td>RT @roshankar: Former FinSec, RBI Dy Governor,...</td>\n",
              "      <td>False</td>\n",
              "      <td>0.0</td>\n",
              "      <td>NaN</td>\n",
              "      <td>2016-11-23 18:40:03</td>\n",
              "      <td>False</td>\n",
              "      <td>NaN</td>\n",
              "      <td>8.014955e+17</td>\n",
              "      <td>NaN</td>\n",
              "      <td>&lt;a href=\"http://twitter.com/download/android\" ...</td>\n",
              "      <td>rahulja13034944</td>\n",
              "      <td>12.0</td>\n",
              "      <td>True</td>\n",
              "      <td>False</td>\n",
              "    </tr>\n",
              "    <tr>\n",
              "      <th>3</th>\n",
              "      <td>RT @ANI_news: Gurugram (Haryana): Post office ...</td>\n",
              "      <td>False</td>\n",
              "      <td>0.0</td>\n",
              "      <td>NaN</td>\n",
              "      <td>2016-11-23 18:39:59</td>\n",
              "      <td>False</td>\n",
              "      <td>NaN</td>\n",
              "      <td>8.014955e+17</td>\n",
              "      <td>NaN</td>\n",
              "      <td>&lt;a href=\"http://twitter.com/download/android\" ...</td>\n",
              "      <td>deeptiyvd</td>\n",
              "      <td>338.0</td>\n",
              "      <td>True</td>\n",
              "      <td>False</td>\n",
              "    </tr>\n",
              "    <tr>\n",
              "      <th>4</th>\n",
              "      <td>RT @satishacharya: Reddy Wedding! @mail_today ...</td>\n",
              "      <td>False</td>\n",
              "      <td>0.0</td>\n",
              "      <td>NaN</td>\n",
              "      <td>2016-11-23 18:39:39</td>\n",
              "      <td>False</td>\n",
              "      <td>NaN</td>\n",
              "      <td>8.014954e+17</td>\n",
              "      <td>NaN</td>\n",
              "      <td>&lt;a href=\"http://cpimharyana.com\" rel=\"nofollow...</td>\n",
              "      <td>CPIMBadli</td>\n",
              "      <td>120.0</td>\n",
              "      <td>True</td>\n",
              "      <td>False</td>\n",
              "    </tr>\n",
              "  </tbody>\n",
              "</table>\n",
              "</div>\n",
              "    <div class=\"colab-df-buttons\">\n",
              "\n",
              "  <div class=\"colab-df-container\">\n",
              "    <button class=\"colab-df-convert\" onclick=\"convertToInteractive('df-c4e2f4d6-5967-4ab1-ae72-a410f1e20c82')\"\n",
              "            title=\"Convert this dataframe to an interactive table.\"\n",
              "            style=\"display:none;\">\n",
              "\n",
              "  <svg xmlns=\"http://www.w3.org/2000/svg\" height=\"24px\" viewBox=\"0 -960 960 960\">\n",
              "    <path d=\"M120-120v-720h720v720H120Zm60-500h600v-160H180v160Zm220 220h160v-160H400v160Zm0 220h160v-160H400v160ZM180-400h160v-160H180v160Zm440 0h160v-160H620v160ZM180-180h160v-160H180v160Zm440 0h160v-160H620v160Z\"/>\n",
              "  </svg>\n",
              "    </button>\n",
              "\n",
              "  <style>\n",
              "    .colab-df-container {\n",
              "      display:flex;\n",
              "      gap: 12px;\n",
              "    }\n",
              "\n",
              "    .colab-df-convert {\n",
              "      background-color: #E8F0FE;\n",
              "      border: none;\n",
              "      border-radius: 50%;\n",
              "      cursor: pointer;\n",
              "      display: none;\n",
              "      fill: #1967D2;\n",
              "      height: 32px;\n",
              "      padding: 0 0 0 0;\n",
              "      width: 32px;\n",
              "    }\n",
              "\n",
              "    .colab-df-convert:hover {\n",
              "      background-color: #E2EBFA;\n",
              "      box-shadow: 0px 1px 2px rgba(60, 64, 67, 0.3), 0px 1px 3px 1px rgba(60, 64, 67, 0.15);\n",
              "      fill: #174EA6;\n",
              "    }\n",
              "\n",
              "    .colab-df-buttons div {\n",
              "      margin-bottom: 4px;\n",
              "    }\n",
              "\n",
              "    [theme=dark] .colab-df-convert {\n",
              "      background-color: #3B4455;\n",
              "      fill: #D2E3FC;\n",
              "    }\n",
              "\n",
              "    [theme=dark] .colab-df-convert:hover {\n",
              "      background-color: #434B5C;\n",
              "      box-shadow: 0px 1px 3px 1px rgba(0, 0, 0, 0.15);\n",
              "      filter: drop-shadow(0px 1px 2px rgba(0, 0, 0, 0.3));\n",
              "      fill: #FFFFFF;\n",
              "    }\n",
              "  </style>\n",
              "\n",
              "    <script>\n",
              "      const buttonEl =\n",
              "        document.querySelector('#df-c4e2f4d6-5967-4ab1-ae72-a410f1e20c82 button.colab-df-convert');\n",
              "      buttonEl.style.display =\n",
              "        google.colab.kernel.accessAllowed ? 'block' : 'none';\n",
              "\n",
              "      async function convertToInteractive(key) {\n",
              "        const element = document.querySelector('#df-c4e2f4d6-5967-4ab1-ae72-a410f1e20c82');\n",
              "        const dataTable =\n",
              "          await google.colab.kernel.invokeFunction('convertToInteractive',\n",
              "                                                    [key], {});\n",
              "        if (!dataTable) return;\n",
              "\n",
              "        const docLinkHtml = 'Like what you see? Visit the ' +\n",
              "          '<a target=\"_blank\" href=https://colab.research.google.com/notebooks/data_table.ipynb>data table notebook</a>'\n",
              "          + ' to learn more about interactive tables.';\n",
              "        element.innerHTML = '';\n",
              "        dataTable['output_type'] = 'display_data';\n",
              "        await google.colab.output.renderOutput(dataTable, element);\n",
              "        const docLink = document.createElement('div');\n",
              "        docLink.innerHTML = docLinkHtml;\n",
              "        element.appendChild(docLink);\n",
              "      }\n",
              "    </script>\n",
              "  </div>\n",
              "\n",
              "\n",
              "<div id=\"df-2cf52bad-1f3e-41bf-a3e4-8118db24fec9\">\n",
              "  <button class=\"colab-df-quickchart\" onclick=\"quickchart('df-2cf52bad-1f3e-41bf-a3e4-8118db24fec9')\"\n",
              "            title=\"Suggest charts\"\n",
              "            style=\"display:none;\">\n",
              "\n",
              "<svg xmlns=\"http://www.w3.org/2000/svg\" height=\"24px\"viewBox=\"0 0 24 24\"\n",
              "     width=\"24px\">\n",
              "    <g>\n",
              "        <path d=\"M19 3H5c-1.1 0-2 .9-2 2v14c0 1.1.9 2 2 2h14c1.1 0 2-.9 2-2V5c0-1.1-.9-2-2-2zM9 17H7v-7h2v7zm4 0h-2V7h2v10zm4 0h-2v-4h2v4z\"/>\n",
              "    </g>\n",
              "</svg>\n",
              "  </button>\n",
              "\n",
              "<style>\n",
              "  .colab-df-quickchart {\n",
              "      --bg-color: #E8F0FE;\n",
              "      --fill-color: #1967D2;\n",
              "      --hover-bg-color: #E2EBFA;\n",
              "      --hover-fill-color: #174EA6;\n",
              "      --disabled-fill-color: #AAA;\n",
              "      --disabled-bg-color: #DDD;\n",
              "  }\n",
              "\n",
              "  [theme=dark] .colab-df-quickchart {\n",
              "      --bg-color: #3B4455;\n",
              "      --fill-color: #D2E3FC;\n",
              "      --hover-bg-color: #434B5C;\n",
              "      --hover-fill-color: #FFFFFF;\n",
              "      --disabled-bg-color: #3B4455;\n",
              "      --disabled-fill-color: #666;\n",
              "  }\n",
              "\n",
              "  .colab-df-quickchart {\n",
              "    background-color: var(--bg-color);\n",
              "    border: none;\n",
              "    border-radius: 50%;\n",
              "    cursor: pointer;\n",
              "    display: none;\n",
              "    fill: var(--fill-color);\n",
              "    height: 32px;\n",
              "    padding: 0;\n",
              "    width: 32px;\n",
              "  }\n",
              "\n",
              "  .colab-df-quickchart:hover {\n",
              "    background-color: var(--hover-bg-color);\n",
              "    box-shadow: 0 1px 2px rgba(60, 64, 67, 0.3), 0 1px 3px 1px rgba(60, 64, 67, 0.15);\n",
              "    fill: var(--button-hover-fill-color);\n",
              "  }\n",
              "\n",
              "  .colab-df-quickchart-complete:disabled,\n",
              "  .colab-df-quickchart-complete:disabled:hover {\n",
              "    background-color: var(--disabled-bg-color);\n",
              "    fill: var(--disabled-fill-color);\n",
              "    box-shadow: none;\n",
              "  }\n",
              "\n",
              "  .colab-df-spinner {\n",
              "    border: 2px solid var(--fill-color);\n",
              "    border-color: transparent;\n",
              "    border-bottom-color: var(--fill-color);\n",
              "    animation:\n",
              "      spin 1s steps(1) infinite;\n",
              "  }\n",
              "\n",
              "  @keyframes spin {\n",
              "    0% {\n",
              "      border-color: transparent;\n",
              "      border-bottom-color: var(--fill-color);\n",
              "      border-left-color: var(--fill-color);\n",
              "    }\n",
              "    20% {\n",
              "      border-color: transparent;\n",
              "      border-left-color: var(--fill-color);\n",
              "      border-top-color: var(--fill-color);\n",
              "    }\n",
              "    30% {\n",
              "      border-color: transparent;\n",
              "      border-left-color: var(--fill-color);\n",
              "      border-top-color: var(--fill-color);\n",
              "      border-right-color: var(--fill-color);\n",
              "    }\n",
              "    40% {\n",
              "      border-color: transparent;\n",
              "      border-right-color: var(--fill-color);\n",
              "      border-top-color: var(--fill-color);\n",
              "    }\n",
              "    60% {\n",
              "      border-color: transparent;\n",
              "      border-right-color: var(--fill-color);\n",
              "    }\n",
              "    80% {\n",
              "      border-color: transparent;\n",
              "      border-right-color: var(--fill-color);\n",
              "      border-bottom-color: var(--fill-color);\n",
              "    }\n",
              "    90% {\n",
              "      border-color: transparent;\n",
              "      border-bottom-color: var(--fill-color);\n",
              "    }\n",
              "  }\n",
              "</style>\n",
              "\n",
              "  <script>\n",
              "    async function quickchart(key) {\n",
              "      const quickchartButtonEl =\n",
              "        document.querySelector('#' + key + ' button');\n",
              "      quickchartButtonEl.disabled = true;  // To prevent multiple clicks.\n",
              "      quickchartButtonEl.classList.add('colab-df-spinner');\n",
              "      try {\n",
              "        const charts = await google.colab.kernel.invokeFunction(\n",
              "            'suggestCharts', [key], {});\n",
              "      } catch (error) {\n",
              "        console.error('Error during call to suggestCharts:', error);\n",
              "      }\n",
              "      quickchartButtonEl.classList.remove('colab-df-spinner');\n",
              "      quickchartButtonEl.classList.add('colab-df-quickchart-complete');\n",
              "    }\n",
              "    (() => {\n",
              "      let quickchartButtonEl =\n",
              "        document.querySelector('#df-2cf52bad-1f3e-41bf-a3e4-8118db24fec9 button');\n",
              "      quickchartButtonEl.style.display =\n",
              "        google.colab.kernel.accessAllowed ? 'block' : 'none';\n",
              "    })();\n",
              "  </script>\n",
              "</div>\n",
              "\n",
              "    </div>\n",
              "  </div>\n"
            ],
            "application/vnd.google.colaboratory.intrinsic+json": {
              "type": "dataframe",
              "variable_name": "df",
              "summary": "{\n  \"name\": \"df\",\n  \"rows\": 5157,\n  \"fields\": [\n    {\n      \"column\": \"text\",\n      \"properties\": {\n        \"dtype\": \"string\",\n        \"num_unique_values\": 5154,\n        \"samples\": [\n          \"RT @Stupidosaur: @wikileaks Some US thugs,whom I tried to approach as friends during demonetization, spoke about radicalization option fo I\\u0085\",\n          \"RT @coomarashish: C-Voter on #Demonetization:\\r\\nOnly 22% happy with implementation, when asked to mark the same, 66% says 'Good'.\\r\\n@manakgupta\\u0085\",\n          \"RT @RNTata2000: Some further thoughts on implementation of demonetization program. https://t.co/RZdicKvFS7\"\n        ],\n        \"semantic_type\": \"\",\n        \"description\": \"\"\n      }\n    },\n    {\n      \"column\": \"favorited\",\n      \"properties\": {\n        \"dtype\": \"category\",\n        \"num_unique_values\": 1,\n        \"samples\": [\n          false\n        ],\n        \"semantic_type\": \"\",\n        \"description\": \"\"\n      }\n    },\n    {\n      \"column\": \"favoriteCount\",\n      \"properties\": {\n        \"dtype\": \"number\",\n        \"std\": 48.42003858954878,\n        \"min\": 0.0,\n        \"max\": 3166.0,\n        \"num_unique_values\": 83,\n        \"samples\": [\n          34.0\n        ],\n        \"semantic_type\": \"\",\n        \"description\": \"\"\n      }\n    },\n    {\n      \"column\": \"replyToSN\",\n      \"properties\": {\n        \"dtype\": \"category\",\n        \"num_unique_values\": 673,\n        \"samples\": [\n          \"anshud2843\"\n        ],\n        \"semantic_type\": \"\",\n        \"description\": \"\"\n      }\n    },\n    {\n      \"column\": \"created\",\n      \"properties\": {\n        \"dtype\": \"object\",\n        \"num_unique_values\": 5033,\n        \"samples\": [\n          \"2016-11-22 13:38:31\"\n        ],\n        \"semantic_type\": \"\",\n        \"description\": \"\"\n      }\n    },\n    {\n      \"column\": \"truncated\",\n      \"properties\": {\n        \"dtype\": \"category\",\n        \"num_unique_values\": 2,\n        \"samples\": [\n          true\n        ],\n        \"semantic_type\": \"\",\n        \"description\": \"\"\n      }\n    },\n    {\n      \"column\": \"replyToSID\",\n      \"properties\": {\n        \"dtype\": \"number\",\n        \"std\": 3.889768390001894e+16,\n        \"min\": 22096326007.0,\n        \"max\": 8.554541262760837e+17,\n        \"num_unique_values\": 831,\n        \"samples\": [\n          8.531224284735488e+17\n        ],\n        \"semantic_type\": \"\",\n        \"description\": \"\"\n      }\n    },\n    {\n      \"column\": \"id\",\n      \"properties\": {\n        \"dtype\": \"number\",\n        \"std\": 2.6201990319359636e+16,\n        \"min\": 8.010168078259405e+17,\n        \"max\": 8.554728794078167e+17,\n        \"num_unique_values\": 5147,\n        \"samples\": [\n          8.013257466732913e+17\n        ],\n        \"semantic_type\": \"\",\n        \"description\": \"\"\n      }\n    },\n    {\n      \"column\": \"replyToUID\",\n      \"properties\": {\n        \"dtype\": \"number\",\n        \"std\": 1.8030978071111197e+17,\n        \"min\": 1917731.0,\n        \"max\": 8.542509997662413e+17,\n        \"num_unique_values\": 673,\n        \"samples\": [\n          1602416263.0\n        ],\n        \"semantic_type\": \"\",\n        \"description\": \"\"\n      }\n    },\n    {\n      \"column\": \"statusSource\",\n      \"properties\": {\n        \"dtype\": \"category\",\n        \"num_unique_values\": 117,\n        \"samples\": [\n          \"<a href=\\\"http://bitcoinagile.com\\\" rel=\\\"nofollow\\\">bitcoinagile</a>\"\n        ],\n        \"semantic_type\": \"\",\n        \"description\": \"\"\n      }\n    },\n    {\n      \"column\": \"screenName\",\n      \"properties\": {\n        \"dtype\": \"string\",\n        \"num_unique_values\": 3975,\n        \"samples\": [\n          \"becca_savory\"\n        ],\n        \"semantic_type\": \"\",\n        \"description\": \"\"\n      }\n    },\n    {\n      \"column\": \"retweetCount\",\n      \"properties\": {\n        \"dtype\": \"number\",\n        \"std\": 134.5214697389906,\n        \"min\": 0.0,\n        \"max\": 5170.0,\n        \"num_unique_values\": 217,\n        \"samples\": [\n          1104.0\n        ],\n        \"semantic_type\": \"\",\n        \"description\": \"\"\n      }\n    },\n    {\n      \"column\": \"isRetweet\",\n      \"properties\": {\n        \"dtype\": \"category\",\n        \"num_unique_values\": 2,\n        \"samples\": [\n          false\n        ],\n        \"semantic_type\": \"\",\n        \"description\": \"\"\n      }\n    },\n    {\n      \"column\": \"retweeted\",\n      \"properties\": {\n        \"dtype\": \"category\",\n        \"num_unique_values\": 1,\n        \"samples\": [\n          false\n        ],\n        \"semantic_type\": \"\",\n        \"description\": \"\"\n      }\n    }\n  ]\n}"
            }
          },
          "metadata": {},
          "execution_count": 18
        }
      ],
      "source": [
        "# Load the dataset\n",
        "df = pd.read_csv('/content/tweets.csv')\n",
        "df.head()"
      ]
    },
    {
      "cell_type": "code",
      "execution_count": 19,
      "metadata": {
        "colab": {
          "base_uri": "https://localhost:8080/",
          "height": 206
        },
        "id": "mOUFInxjdOsZ",
        "outputId": "19f1da39-0d90-4d59-e401-583a136b7760"
      },
      "outputs": [
        {
          "output_type": "execute_result",
          "data": {
            "text/plain": [
              "                                                text\n",
              "0  RT @rssurjewala: Critical question: Was PayTM ...\n",
              "1  RT @Hemant_80: Did you vote on #Demonetization...\n",
              "2  RT @roshankar: Former FinSec, RBI Dy Governor,...\n",
              "3  RT @ANI_news: Gurugram (Haryana): Post office ...\n",
              "4  RT @satishacharya: Reddy Wedding! @mail_today ..."
            ],
            "text/html": [
              "\n",
              "  <div id=\"df-0cc2bd05-917b-4b2b-bc2f-786ede803a82\" class=\"colab-df-container\">\n",
              "    <div>\n",
              "<style scoped>\n",
              "    .dataframe tbody tr th:only-of-type {\n",
              "        vertical-align: middle;\n",
              "    }\n",
              "\n",
              "    .dataframe tbody tr th {\n",
              "        vertical-align: top;\n",
              "    }\n",
              "\n",
              "    .dataframe thead th {\n",
              "        text-align: right;\n",
              "    }\n",
              "</style>\n",
              "<table border=\"1\" class=\"dataframe\">\n",
              "  <thead>\n",
              "    <tr style=\"text-align: right;\">\n",
              "      <th></th>\n",
              "      <th>text</th>\n",
              "    </tr>\n",
              "  </thead>\n",
              "  <tbody>\n",
              "    <tr>\n",
              "      <th>0</th>\n",
              "      <td>RT @rssurjewala: Critical question: Was PayTM ...</td>\n",
              "    </tr>\n",
              "    <tr>\n",
              "      <th>1</th>\n",
              "      <td>RT @Hemant_80: Did you vote on #Demonetization...</td>\n",
              "    </tr>\n",
              "    <tr>\n",
              "      <th>2</th>\n",
              "      <td>RT @roshankar: Former FinSec, RBI Dy Governor,...</td>\n",
              "    </tr>\n",
              "    <tr>\n",
              "      <th>3</th>\n",
              "      <td>RT @ANI_news: Gurugram (Haryana): Post office ...</td>\n",
              "    </tr>\n",
              "    <tr>\n",
              "      <th>4</th>\n",
              "      <td>RT @satishacharya: Reddy Wedding! @mail_today ...</td>\n",
              "    </tr>\n",
              "  </tbody>\n",
              "</table>\n",
              "</div>\n",
              "    <div class=\"colab-df-buttons\">\n",
              "\n",
              "  <div class=\"colab-df-container\">\n",
              "    <button class=\"colab-df-convert\" onclick=\"convertToInteractive('df-0cc2bd05-917b-4b2b-bc2f-786ede803a82')\"\n",
              "            title=\"Convert this dataframe to an interactive table.\"\n",
              "            style=\"display:none;\">\n",
              "\n",
              "  <svg xmlns=\"http://www.w3.org/2000/svg\" height=\"24px\" viewBox=\"0 -960 960 960\">\n",
              "    <path d=\"M120-120v-720h720v720H120Zm60-500h600v-160H180v160Zm220 220h160v-160H400v160Zm0 220h160v-160H400v160ZM180-400h160v-160H180v160Zm440 0h160v-160H620v160ZM180-180h160v-160H180v160Zm440 0h160v-160H620v160Z\"/>\n",
              "  </svg>\n",
              "    </button>\n",
              "\n",
              "  <style>\n",
              "    .colab-df-container {\n",
              "      display:flex;\n",
              "      gap: 12px;\n",
              "    }\n",
              "\n",
              "    .colab-df-convert {\n",
              "      background-color: #E8F0FE;\n",
              "      border: none;\n",
              "      border-radius: 50%;\n",
              "      cursor: pointer;\n",
              "      display: none;\n",
              "      fill: #1967D2;\n",
              "      height: 32px;\n",
              "      padding: 0 0 0 0;\n",
              "      width: 32px;\n",
              "    }\n",
              "\n",
              "    .colab-df-convert:hover {\n",
              "      background-color: #E2EBFA;\n",
              "      box-shadow: 0px 1px 2px rgba(60, 64, 67, 0.3), 0px 1px 3px 1px rgba(60, 64, 67, 0.15);\n",
              "      fill: #174EA6;\n",
              "    }\n",
              "\n",
              "    .colab-df-buttons div {\n",
              "      margin-bottom: 4px;\n",
              "    }\n",
              "\n",
              "    [theme=dark] .colab-df-convert {\n",
              "      background-color: #3B4455;\n",
              "      fill: #D2E3FC;\n",
              "    }\n",
              "\n",
              "    [theme=dark] .colab-df-convert:hover {\n",
              "      background-color: #434B5C;\n",
              "      box-shadow: 0px 1px 3px 1px rgba(0, 0, 0, 0.15);\n",
              "      filter: drop-shadow(0px 1px 2px rgba(0, 0, 0, 0.3));\n",
              "      fill: #FFFFFF;\n",
              "    }\n",
              "  </style>\n",
              "\n",
              "    <script>\n",
              "      const buttonEl =\n",
              "        document.querySelector('#df-0cc2bd05-917b-4b2b-bc2f-786ede803a82 button.colab-df-convert');\n",
              "      buttonEl.style.display =\n",
              "        google.colab.kernel.accessAllowed ? 'block' : 'none';\n",
              "\n",
              "      async function convertToInteractive(key) {\n",
              "        const element = document.querySelector('#df-0cc2bd05-917b-4b2b-bc2f-786ede803a82');\n",
              "        const dataTable =\n",
              "          await google.colab.kernel.invokeFunction('convertToInteractive',\n",
              "                                                    [key], {});\n",
              "        if (!dataTable) return;\n",
              "\n",
              "        const docLinkHtml = 'Like what you see? Visit the ' +\n",
              "          '<a target=\"_blank\" href=https://colab.research.google.com/notebooks/data_table.ipynb>data table notebook</a>'\n",
              "          + ' to learn more about interactive tables.';\n",
              "        element.innerHTML = '';\n",
              "        dataTable['output_type'] = 'display_data';\n",
              "        await google.colab.output.renderOutput(dataTable, element);\n",
              "        const docLink = document.createElement('div');\n",
              "        docLink.innerHTML = docLinkHtml;\n",
              "        element.appendChild(docLink);\n",
              "      }\n",
              "    </script>\n",
              "  </div>\n",
              "\n",
              "\n",
              "<div id=\"df-ecfff5ba-f425-4a59-814a-8f1b4d196206\">\n",
              "  <button class=\"colab-df-quickchart\" onclick=\"quickchart('df-ecfff5ba-f425-4a59-814a-8f1b4d196206')\"\n",
              "            title=\"Suggest charts\"\n",
              "            style=\"display:none;\">\n",
              "\n",
              "<svg xmlns=\"http://www.w3.org/2000/svg\" height=\"24px\"viewBox=\"0 0 24 24\"\n",
              "     width=\"24px\">\n",
              "    <g>\n",
              "        <path d=\"M19 3H5c-1.1 0-2 .9-2 2v14c0 1.1.9 2 2 2h14c1.1 0 2-.9 2-2V5c0-1.1-.9-2-2-2zM9 17H7v-7h2v7zm4 0h-2V7h2v10zm4 0h-2v-4h2v4z\"/>\n",
              "    </g>\n",
              "</svg>\n",
              "  </button>\n",
              "\n",
              "<style>\n",
              "  .colab-df-quickchart {\n",
              "      --bg-color: #E8F0FE;\n",
              "      --fill-color: #1967D2;\n",
              "      --hover-bg-color: #E2EBFA;\n",
              "      --hover-fill-color: #174EA6;\n",
              "      --disabled-fill-color: #AAA;\n",
              "      --disabled-bg-color: #DDD;\n",
              "  }\n",
              "\n",
              "  [theme=dark] .colab-df-quickchart {\n",
              "      --bg-color: #3B4455;\n",
              "      --fill-color: #D2E3FC;\n",
              "      --hover-bg-color: #434B5C;\n",
              "      --hover-fill-color: #FFFFFF;\n",
              "      --disabled-bg-color: #3B4455;\n",
              "      --disabled-fill-color: #666;\n",
              "  }\n",
              "\n",
              "  .colab-df-quickchart {\n",
              "    background-color: var(--bg-color);\n",
              "    border: none;\n",
              "    border-radius: 50%;\n",
              "    cursor: pointer;\n",
              "    display: none;\n",
              "    fill: var(--fill-color);\n",
              "    height: 32px;\n",
              "    padding: 0;\n",
              "    width: 32px;\n",
              "  }\n",
              "\n",
              "  .colab-df-quickchart:hover {\n",
              "    background-color: var(--hover-bg-color);\n",
              "    box-shadow: 0 1px 2px rgba(60, 64, 67, 0.3), 0 1px 3px 1px rgba(60, 64, 67, 0.15);\n",
              "    fill: var(--button-hover-fill-color);\n",
              "  }\n",
              "\n",
              "  .colab-df-quickchart-complete:disabled,\n",
              "  .colab-df-quickchart-complete:disabled:hover {\n",
              "    background-color: var(--disabled-bg-color);\n",
              "    fill: var(--disabled-fill-color);\n",
              "    box-shadow: none;\n",
              "  }\n",
              "\n",
              "  .colab-df-spinner {\n",
              "    border: 2px solid var(--fill-color);\n",
              "    border-color: transparent;\n",
              "    border-bottom-color: var(--fill-color);\n",
              "    animation:\n",
              "      spin 1s steps(1) infinite;\n",
              "  }\n",
              "\n",
              "  @keyframes spin {\n",
              "    0% {\n",
              "      border-color: transparent;\n",
              "      border-bottom-color: var(--fill-color);\n",
              "      border-left-color: var(--fill-color);\n",
              "    }\n",
              "    20% {\n",
              "      border-color: transparent;\n",
              "      border-left-color: var(--fill-color);\n",
              "      border-top-color: var(--fill-color);\n",
              "    }\n",
              "    30% {\n",
              "      border-color: transparent;\n",
              "      border-left-color: var(--fill-color);\n",
              "      border-top-color: var(--fill-color);\n",
              "      border-right-color: var(--fill-color);\n",
              "    }\n",
              "    40% {\n",
              "      border-color: transparent;\n",
              "      border-right-color: var(--fill-color);\n",
              "      border-top-color: var(--fill-color);\n",
              "    }\n",
              "    60% {\n",
              "      border-color: transparent;\n",
              "      border-right-color: var(--fill-color);\n",
              "    }\n",
              "    80% {\n",
              "      border-color: transparent;\n",
              "      border-right-color: var(--fill-color);\n",
              "      border-bottom-color: var(--fill-color);\n",
              "    }\n",
              "    90% {\n",
              "      border-color: transparent;\n",
              "      border-bottom-color: var(--fill-color);\n",
              "    }\n",
              "  }\n",
              "</style>\n",
              "\n",
              "  <script>\n",
              "    async function quickchart(key) {\n",
              "      const quickchartButtonEl =\n",
              "        document.querySelector('#' + key + ' button');\n",
              "      quickchartButtonEl.disabled = true;  // To prevent multiple clicks.\n",
              "      quickchartButtonEl.classList.add('colab-df-spinner');\n",
              "      try {\n",
              "        const charts = await google.colab.kernel.invokeFunction(\n",
              "            'suggestCharts', [key], {});\n",
              "      } catch (error) {\n",
              "        console.error('Error during call to suggestCharts:', error);\n",
              "      }\n",
              "      quickchartButtonEl.classList.remove('colab-df-spinner');\n",
              "      quickchartButtonEl.classList.add('colab-df-quickchart-complete');\n",
              "    }\n",
              "    (() => {\n",
              "      let quickchartButtonEl =\n",
              "        document.querySelector('#df-ecfff5ba-f425-4a59-814a-8f1b4d196206 button');\n",
              "      quickchartButtonEl.style.display =\n",
              "        google.colab.kernel.accessAllowed ? 'block' : 'none';\n",
              "    })();\n",
              "  </script>\n",
              "</div>\n",
              "\n",
              "    </div>\n",
              "  </div>\n"
            ],
            "application/vnd.google.colaboratory.intrinsic+json": {
              "type": "dataframe",
              "variable_name": "df",
              "summary": "{\n  \"name\": \"df\",\n  \"rows\": 5157,\n  \"fields\": [\n    {\n      \"column\": \"text\",\n      \"properties\": {\n        \"dtype\": \"string\",\n        \"num_unique_values\": 5154,\n        \"samples\": [\n          \"RT @Stupidosaur: @wikileaks Some US thugs,whom I tried to approach as friends during demonetization, spoke about radicalization option fo I\\u0085\",\n          \"RT @coomarashish: C-Voter on #Demonetization:\\r\\nOnly 22% happy with implementation, when asked to mark the same, 66% says 'Good'.\\r\\n@manakgupta\\u0085\",\n          \"RT @RNTata2000: Some further thoughts on implementation of demonetization program. https://t.co/RZdicKvFS7\"\n        ],\n        \"semantic_type\": \"\",\n        \"description\": \"\"\n      }\n    }\n  ]\n}"
            }
          },
          "metadata": {},
          "execution_count": 19
        }
      ],
      "source": [
        "# Dropping irrelevant columns\n",
        "df.drop(df.columns[1:],axis=1,inplace=True)\n",
        "df.head()"
      ]
    },
    {
      "cell_type": "code",
      "execution_count": null,
      "metadata": {
        "id": "0FVIEZz0DEMi"
      },
      "outputs": [],
      "source": []
    },
    {
      "cell_type": "markdown",
      "metadata": {
        "id": "BsbooUR89rJM"
      },
      "source": [
        "##2. Create Embeddings"
      ]
    },
    {
      "cell_type": "code",
      "execution_count": 20,
      "metadata": {
        "id": "jMqQapFEChjE"
      },
      "outputs": [],
      "source": [
        "# Import relevant libraries\n",
        "import re\n",
        "import spacy\n",
        "\n",
        "# Load English language model\n",
        "nlp = spacy.load('en_core_web_sm')"
      ]
    },
    {
      "cell_type": "code",
      "execution_count": 21,
      "metadata": {
        "id": "fvqTmX4L95cs"
      },
      "outputs": [],
      "source": [
        "# 22\n",
        "# Preprocessing function\n",
        "def clean(text):\n",
        "\n",
        "    # Lowercase\n",
        "    text = text.lower()\n",
        "\n",
        "    # Remove non-alphanumeric words\n",
        "    text = ' '.join(re.compile(r'[^a-zA-Z0-9]+').split(text))\n",
        "\n",
        "    # Create spacy object\n",
        "    doc = nlp(text)\n",
        "\n",
        "    # List to store clean text\n",
        "    filtered_text = []\n",
        "\n",
        "    # Iterate over document and save word lemmas\n",
        "    for token in doc:\n",
        "        filtered_text.append(token.lemma_)\n",
        "\n",
        "    return \" \".join(word for word in filtered_text)"
      ]
    },
    {
      "cell_type": "code",
      "execution_count": 22,
      "metadata": {
        "id": "tsvppgG-CXvD"
      },
      "outputs": [],
      "source": [
        "# Apply the function\n",
        "df['text_clean'] = df['text'].apply(clean)"
      ]
    },
    {
      "cell_type": "code",
      "execution_count": 23,
      "metadata": {
        "colab": {
          "base_uri": "https://localhost:8080/",
          "height": 206
        },
        "id": "skpIQ7fmCl4n",
        "outputId": "935faf9e-5f10-4271-e4f8-95478baa52a1"
      },
      "outputs": [
        {
          "output_type": "execute_result",
          "data": {
            "text/plain": [
              "                                                text  \\\n",
              "0  RT @rssurjewala: Critical question: Was PayTM ...   \n",
              "1  RT @Hemant_80: Did you vote on #Demonetization...   \n",
              "2  RT @roshankar: Former FinSec, RBI Dy Governor,...   \n",
              "3  RT @ANI_news: Gurugram (Haryana): Post office ...   \n",
              "4  RT @satishacharya: Reddy Wedding! @mail_today ...   \n",
              "\n",
              "                                          text_clean  \n",
              "0  rt rssurjewala critical question be paytm info...  \n",
              "1  rt hemant 80 do you vote on demonetization on ...  \n",
              "2  rt roshankar former finsec rbi dy governor cbd...  \n",
              "3  rt ani news gurugram haryana post office emplo...  \n",
              "4  rt satishacharya reddy wedding mail today cart...  "
            ],
            "text/html": [
              "\n",
              "  <div id=\"df-41a4412a-3c97-4d08-978f-6838a76d0589\" class=\"colab-df-container\">\n",
              "    <div>\n",
              "<style scoped>\n",
              "    .dataframe tbody tr th:only-of-type {\n",
              "        vertical-align: middle;\n",
              "    }\n",
              "\n",
              "    .dataframe tbody tr th {\n",
              "        vertical-align: top;\n",
              "    }\n",
              "\n",
              "    .dataframe thead th {\n",
              "        text-align: right;\n",
              "    }\n",
              "</style>\n",
              "<table border=\"1\" class=\"dataframe\">\n",
              "  <thead>\n",
              "    <tr style=\"text-align: right;\">\n",
              "      <th></th>\n",
              "      <th>text</th>\n",
              "      <th>text_clean</th>\n",
              "    </tr>\n",
              "  </thead>\n",
              "  <tbody>\n",
              "    <tr>\n",
              "      <th>0</th>\n",
              "      <td>RT @rssurjewala: Critical question: Was PayTM ...</td>\n",
              "      <td>rt rssurjewala critical question be paytm info...</td>\n",
              "    </tr>\n",
              "    <tr>\n",
              "      <th>1</th>\n",
              "      <td>RT @Hemant_80: Did you vote on #Demonetization...</td>\n",
              "      <td>rt hemant 80 do you vote on demonetization on ...</td>\n",
              "    </tr>\n",
              "    <tr>\n",
              "      <th>2</th>\n",
              "      <td>RT @roshankar: Former FinSec, RBI Dy Governor,...</td>\n",
              "      <td>rt roshankar former finsec rbi dy governor cbd...</td>\n",
              "    </tr>\n",
              "    <tr>\n",
              "      <th>3</th>\n",
              "      <td>RT @ANI_news: Gurugram (Haryana): Post office ...</td>\n",
              "      <td>rt ani news gurugram haryana post office emplo...</td>\n",
              "    </tr>\n",
              "    <tr>\n",
              "      <th>4</th>\n",
              "      <td>RT @satishacharya: Reddy Wedding! @mail_today ...</td>\n",
              "      <td>rt satishacharya reddy wedding mail today cart...</td>\n",
              "    </tr>\n",
              "  </tbody>\n",
              "</table>\n",
              "</div>\n",
              "    <div class=\"colab-df-buttons\">\n",
              "\n",
              "  <div class=\"colab-df-container\">\n",
              "    <button class=\"colab-df-convert\" onclick=\"convertToInteractive('df-41a4412a-3c97-4d08-978f-6838a76d0589')\"\n",
              "            title=\"Convert this dataframe to an interactive table.\"\n",
              "            style=\"display:none;\">\n",
              "\n",
              "  <svg xmlns=\"http://www.w3.org/2000/svg\" height=\"24px\" viewBox=\"0 -960 960 960\">\n",
              "    <path d=\"M120-120v-720h720v720H120Zm60-500h600v-160H180v160Zm220 220h160v-160H400v160Zm0 220h160v-160H400v160ZM180-400h160v-160H180v160Zm440 0h160v-160H620v160ZM180-180h160v-160H180v160Zm440 0h160v-160H620v160Z\"/>\n",
              "  </svg>\n",
              "    </button>\n",
              "\n",
              "  <style>\n",
              "    .colab-df-container {\n",
              "      display:flex;\n",
              "      gap: 12px;\n",
              "    }\n",
              "\n",
              "    .colab-df-convert {\n",
              "      background-color: #E8F0FE;\n",
              "      border: none;\n",
              "      border-radius: 50%;\n",
              "      cursor: pointer;\n",
              "      display: none;\n",
              "      fill: #1967D2;\n",
              "      height: 32px;\n",
              "      padding: 0 0 0 0;\n",
              "      width: 32px;\n",
              "    }\n",
              "\n",
              "    .colab-df-convert:hover {\n",
              "      background-color: #E2EBFA;\n",
              "      box-shadow: 0px 1px 2px rgba(60, 64, 67, 0.3), 0px 1px 3px 1px rgba(60, 64, 67, 0.15);\n",
              "      fill: #174EA6;\n",
              "    }\n",
              "\n",
              "    .colab-df-buttons div {\n",
              "      margin-bottom: 4px;\n",
              "    }\n",
              "\n",
              "    [theme=dark] .colab-df-convert {\n",
              "      background-color: #3B4455;\n",
              "      fill: #D2E3FC;\n",
              "    }\n",
              "\n",
              "    [theme=dark] .colab-df-convert:hover {\n",
              "      background-color: #434B5C;\n",
              "      box-shadow: 0px 1px 3px 1px rgba(0, 0, 0, 0.15);\n",
              "      filter: drop-shadow(0px 1px 2px rgba(0, 0, 0, 0.3));\n",
              "      fill: #FFFFFF;\n",
              "    }\n",
              "  </style>\n",
              "\n",
              "    <script>\n",
              "      const buttonEl =\n",
              "        document.querySelector('#df-41a4412a-3c97-4d08-978f-6838a76d0589 button.colab-df-convert');\n",
              "      buttonEl.style.display =\n",
              "        google.colab.kernel.accessAllowed ? 'block' : 'none';\n",
              "\n",
              "      async function convertToInteractive(key) {\n",
              "        const element = document.querySelector('#df-41a4412a-3c97-4d08-978f-6838a76d0589');\n",
              "        const dataTable =\n",
              "          await google.colab.kernel.invokeFunction('convertToInteractive',\n",
              "                                                    [key], {});\n",
              "        if (!dataTable) return;\n",
              "\n",
              "        const docLinkHtml = 'Like what you see? Visit the ' +\n",
              "          '<a target=\"_blank\" href=https://colab.research.google.com/notebooks/data_table.ipynb>data table notebook</a>'\n",
              "          + ' to learn more about interactive tables.';\n",
              "        element.innerHTML = '';\n",
              "        dataTable['output_type'] = 'display_data';\n",
              "        await google.colab.output.renderOutput(dataTable, element);\n",
              "        const docLink = document.createElement('div');\n",
              "        docLink.innerHTML = docLinkHtml;\n",
              "        element.appendChild(docLink);\n",
              "      }\n",
              "    </script>\n",
              "  </div>\n",
              "\n",
              "\n",
              "<div id=\"df-c7b4a30b-a782-4fc7-8dcf-53878cfdf2e4\">\n",
              "  <button class=\"colab-df-quickchart\" onclick=\"quickchart('df-c7b4a30b-a782-4fc7-8dcf-53878cfdf2e4')\"\n",
              "            title=\"Suggest charts\"\n",
              "            style=\"display:none;\">\n",
              "\n",
              "<svg xmlns=\"http://www.w3.org/2000/svg\" height=\"24px\"viewBox=\"0 0 24 24\"\n",
              "     width=\"24px\">\n",
              "    <g>\n",
              "        <path d=\"M19 3H5c-1.1 0-2 .9-2 2v14c0 1.1.9 2 2 2h14c1.1 0 2-.9 2-2V5c0-1.1-.9-2-2-2zM9 17H7v-7h2v7zm4 0h-2V7h2v10zm4 0h-2v-4h2v4z\"/>\n",
              "    </g>\n",
              "</svg>\n",
              "  </button>\n",
              "\n",
              "<style>\n",
              "  .colab-df-quickchart {\n",
              "      --bg-color: #E8F0FE;\n",
              "      --fill-color: #1967D2;\n",
              "      --hover-bg-color: #E2EBFA;\n",
              "      --hover-fill-color: #174EA6;\n",
              "      --disabled-fill-color: #AAA;\n",
              "      --disabled-bg-color: #DDD;\n",
              "  }\n",
              "\n",
              "  [theme=dark] .colab-df-quickchart {\n",
              "      --bg-color: #3B4455;\n",
              "      --fill-color: #D2E3FC;\n",
              "      --hover-bg-color: #434B5C;\n",
              "      --hover-fill-color: #FFFFFF;\n",
              "      --disabled-bg-color: #3B4455;\n",
              "      --disabled-fill-color: #666;\n",
              "  }\n",
              "\n",
              "  .colab-df-quickchart {\n",
              "    background-color: var(--bg-color);\n",
              "    border: none;\n",
              "    border-radius: 50%;\n",
              "    cursor: pointer;\n",
              "    display: none;\n",
              "    fill: var(--fill-color);\n",
              "    height: 32px;\n",
              "    padding: 0;\n",
              "    width: 32px;\n",
              "  }\n",
              "\n",
              "  .colab-df-quickchart:hover {\n",
              "    background-color: var(--hover-bg-color);\n",
              "    box-shadow: 0 1px 2px rgba(60, 64, 67, 0.3), 0 1px 3px 1px rgba(60, 64, 67, 0.15);\n",
              "    fill: var(--button-hover-fill-color);\n",
              "  }\n",
              "\n",
              "  .colab-df-quickchart-complete:disabled,\n",
              "  .colab-df-quickchart-complete:disabled:hover {\n",
              "    background-color: var(--disabled-bg-color);\n",
              "    fill: var(--disabled-fill-color);\n",
              "    box-shadow: none;\n",
              "  }\n",
              "\n",
              "  .colab-df-spinner {\n",
              "    border: 2px solid var(--fill-color);\n",
              "    border-color: transparent;\n",
              "    border-bottom-color: var(--fill-color);\n",
              "    animation:\n",
              "      spin 1s steps(1) infinite;\n",
              "  }\n",
              "\n",
              "  @keyframes spin {\n",
              "    0% {\n",
              "      border-color: transparent;\n",
              "      border-bottom-color: var(--fill-color);\n",
              "      border-left-color: var(--fill-color);\n",
              "    }\n",
              "    20% {\n",
              "      border-color: transparent;\n",
              "      border-left-color: var(--fill-color);\n",
              "      border-top-color: var(--fill-color);\n",
              "    }\n",
              "    30% {\n",
              "      border-color: transparent;\n",
              "      border-left-color: var(--fill-color);\n",
              "      border-top-color: var(--fill-color);\n",
              "      border-right-color: var(--fill-color);\n",
              "    }\n",
              "    40% {\n",
              "      border-color: transparent;\n",
              "      border-right-color: var(--fill-color);\n",
              "      border-top-color: var(--fill-color);\n",
              "    }\n",
              "    60% {\n",
              "      border-color: transparent;\n",
              "      border-right-color: var(--fill-color);\n",
              "    }\n",
              "    80% {\n",
              "      border-color: transparent;\n",
              "      border-right-color: var(--fill-color);\n",
              "      border-bottom-color: var(--fill-color);\n",
              "    }\n",
              "    90% {\n",
              "      border-color: transparent;\n",
              "      border-bottom-color: var(--fill-color);\n",
              "    }\n",
              "  }\n",
              "</style>\n",
              "\n",
              "  <script>\n",
              "    async function quickchart(key) {\n",
              "      const quickchartButtonEl =\n",
              "        document.querySelector('#' + key + ' button');\n",
              "      quickchartButtonEl.disabled = true;  // To prevent multiple clicks.\n",
              "      quickchartButtonEl.classList.add('colab-df-spinner');\n",
              "      try {\n",
              "        const charts = await google.colab.kernel.invokeFunction(\n",
              "            'suggestCharts', [key], {});\n",
              "      } catch (error) {\n",
              "        console.error('Error during call to suggestCharts:', error);\n",
              "      }\n",
              "      quickchartButtonEl.classList.remove('colab-df-spinner');\n",
              "      quickchartButtonEl.classList.add('colab-df-quickchart-complete');\n",
              "    }\n",
              "    (() => {\n",
              "      let quickchartButtonEl =\n",
              "        document.querySelector('#df-c7b4a30b-a782-4fc7-8dcf-53878cfdf2e4 button');\n",
              "      quickchartButtonEl.style.display =\n",
              "        google.colab.kernel.accessAllowed ? 'block' : 'none';\n",
              "    })();\n",
              "  </script>\n",
              "</div>\n",
              "\n",
              "    </div>\n",
              "  </div>\n"
            ],
            "application/vnd.google.colaboratory.intrinsic+json": {
              "type": "dataframe",
              "variable_name": "df",
              "summary": "{\n  \"name\": \"df\",\n  \"rows\": 5157,\n  \"fields\": [\n    {\n      \"column\": \"text\",\n      \"properties\": {\n        \"dtype\": \"string\",\n        \"num_unique_values\": 5154,\n        \"samples\": [\n          \"RT @Stupidosaur: @wikileaks Some US thugs,whom I tried to approach as friends during demonetization, spoke about radicalization option fo I\\u0085\",\n          \"RT @coomarashish: C-Voter on #Demonetization:\\r\\nOnly 22% happy with implementation, when asked to mark the same, 66% says 'Good'.\\r\\n@manakgupta\\u0085\",\n          \"RT @RNTata2000: Some further thoughts on implementation of demonetization program. https://t.co/RZdicKvFS7\"\n        ],\n        \"semantic_type\": \"\",\n        \"description\": \"\"\n      }\n    },\n    {\n      \"column\": \"text_clean\",\n      \"properties\": {\n        \"dtype\": \"string\",\n        \"num_unique_values\": 5142,\n        \"samples\": [\n          \"  thesuniljain I think comparison between feb 16 and feb 17 be what matter from pov of demonetization and of course it be staggering\",\n          \"  doddleoddle with the recent demonetization of popular yt channel do you still think there can be honesty when s be involve\",\n          \"  demonetization apply sir https t co aqywrzafif\"\n        ],\n        \"semantic_type\": \"\",\n        \"description\": \"\"\n      }\n    }\n  ]\n}"
            }
          },
          "metadata": {},
          "execution_count": 23
        }
      ],
      "source": [
        "# 24\n",
        "# Print data\n",
        "df.head()"
      ]
    },
    {
      "cell_type": "code",
      "execution_count": 24,
      "metadata": {
        "id": "0I6NxbxG9qXW"
      },
      "outputs": [],
      "source": [
        "# Break docs into separate sentences\n",
        "def sents(doc):\n",
        "\n",
        "    # Split into individual sentences\n",
        "    text = re.split('[.?]\\s+',doc)\n",
        "    # List to save the sentences\n",
        "    clean_sent = []\n",
        "\n",
        "    # Iterate over the sentences\n",
        "    for sent in text:\n",
        "        if len(sent)!=0:\n",
        "            # Remove leading and trailing whitespaces\n",
        "            sent = sent.strip()\n",
        "            # Tokenize sentences\n",
        "            clean_sent.append([word for word in sent.split()])\n",
        "    # Return list of sentences in a single document\n",
        "    return clean_sent"
      ]
    },
    {
      "cell_type": "code",
      "execution_count": 25,
      "metadata": {
        "id": "qZiXbyUyDY_p"
      },
      "outputs": [],
      "source": [
        "# Apply the function\n",
        "df['text_sents'] = df['text_clean'].apply(sents)"
      ]
    },
    {
      "cell_type": "code",
      "execution_count": 26,
      "metadata": {
        "colab": {
          "base_uri": "https://localhost:8080/",
          "height": 206
        },
        "id": "16Q7dCSoEBtM",
        "outputId": "7852e490-f417-41e3-b8da-3eeebaf30d87"
      },
      "outputs": [
        {
          "output_type": "execute_result",
          "data": {
            "text/plain": [
              "                                                text  \\\n",
              "0  RT @rssurjewala: Critical question: Was PayTM ...   \n",
              "1  RT @Hemant_80: Did you vote on #Demonetization...   \n",
              "2  RT @roshankar: Former FinSec, RBI Dy Governor,...   \n",
              "3  RT @ANI_news: Gurugram (Haryana): Post office ...   \n",
              "4  RT @satishacharya: Reddy Wedding! @mail_today ...   \n",
              "\n",
              "                                          text_clean  \\\n",
              "0  rt rssurjewala critical question be paytm info...   \n",
              "1  rt hemant 80 do you vote on demonetization on ...   \n",
              "2  rt roshankar former finsec rbi dy governor cbd...   \n",
              "3  rt ani news gurugram haryana post office emplo...   \n",
              "4  rt satishacharya reddy wedding mail today cart...   \n",
              "\n",
              "                                          text_sents  \n",
              "0  [[rt, rssurjewala, critical, question, be, pay...  \n",
              "1  [[rt, hemant, 80, do, you, vote, on, demonetiz...  \n",
              "2  [[rt, roshankar, former, finsec, rbi, dy, gove...  \n",
              "3  [[rt, ani, news, gurugram, haryana, post, offi...  \n",
              "4  [[rt, satishacharya, reddy, wedding, mail, tod...  "
            ],
            "text/html": [
              "\n",
              "  <div id=\"df-c73ed7a3-319c-4a9c-ac1d-a5ae53d860ba\" class=\"colab-df-container\">\n",
              "    <div>\n",
              "<style scoped>\n",
              "    .dataframe tbody tr th:only-of-type {\n",
              "        vertical-align: middle;\n",
              "    }\n",
              "\n",
              "    .dataframe tbody tr th {\n",
              "        vertical-align: top;\n",
              "    }\n",
              "\n",
              "    .dataframe thead th {\n",
              "        text-align: right;\n",
              "    }\n",
              "</style>\n",
              "<table border=\"1\" class=\"dataframe\">\n",
              "  <thead>\n",
              "    <tr style=\"text-align: right;\">\n",
              "      <th></th>\n",
              "      <th>text</th>\n",
              "      <th>text_clean</th>\n",
              "      <th>text_sents</th>\n",
              "    </tr>\n",
              "  </thead>\n",
              "  <tbody>\n",
              "    <tr>\n",
              "      <th>0</th>\n",
              "      <td>RT @rssurjewala: Critical question: Was PayTM ...</td>\n",
              "      <td>rt rssurjewala critical question be paytm info...</td>\n",
              "      <td>[[rt, rssurjewala, critical, question, be, pay...</td>\n",
              "    </tr>\n",
              "    <tr>\n",
              "      <th>1</th>\n",
              "      <td>RT @Hemant_80: Did you vote on #Demonetization...</td>\n",
              "      <td>rt hemant 80 do you vote on demonetization on ...</td>\n",
              "      <td>[[rt, hemant, 80, do, you, vote, on, demonetiz...</td>\n",
              "    </tr>\n",
              "    <tr>\n",
              "      <th>2</th>\n",
              "      <td>RT @roshankar: Former FinSec, RBI Dy Governor,...</td>\n",
              "      <td>rt roshankar former finsec rbi dy governor cbd...</td>\n",
              "      <td>[[rt, roshankar, former, finsec, rbi, dy, gove...</td>\n",
              "    </tr>\n",
              "    <tr>\n",
              "      <th>3</th>\n",
              "      <td>RT @ANI_news: Gurugram (Haryana): Post office ...</td>\n",
              "      <td>rt ani news gurugram haryana post office emplo...</td>\n",
              "      <td>[[rt, ani, news, gurugram, haryana, post, offi...</td>\n",
              "    </tr>\n",
              "    <tr>\n",
              "      <th>4</th>\n",
              "      <td>RT @satishacharya: Reddy Wedding! @mail_today ...</td>\n",
              "      <td>rt satishacharya reddy wedding mail today cart...</td>\n",
              "      <td>[[rt, satishacharya, reddy, wedding, mail, tod...</td>\n",
              "    </tr>\n",
              "  </tbody>\n",
              "</table>\n",
              "</div>\n",
              "    <div class=\"colab-df-buttons\">\n",
              "\n",
              "  <div class=\"colab-df-container\">\n",
              "    <button class=\"colab-df-convert\" onclick=\"convertToInteractive('df-c73ed7a3-319c-4a9c-ac1d-a5ae53d860ba')\"\n",
              "            title=\"Convert this dataframe to an interactive table.\"\n",
              "            style=\"display:none;\">\n",
              "\n",
              "  <svg xmlns=\"http://www.w3.org/2000/svg\" height=\"24px\" viewBox=\"0 -960 960 960\">\n",
              "    <path d=\"M120-120v-720h720v720H120Zm60-500h600v-160H180v160Zm220 220h160v-160H400v160Zm0 220h160v-160H400v160ZM180-400h160v-160H180v160Zm440 0h160v-160H620v160ZM180-180h160v-160H180v160Zm440 0h160v-160H620v160Z\"/>\n",
              "  </svg>\n",
              "    </button>\n",
              "\n",
              "  <style>\n",
              "    .colab-df-container {\n",
              "      display:flex;\n",
              "      gap: 12px;\n",
              "    }\n",
              "\n",
              "    .colab-df-convert {\n",
              "      background-color: #E8F0FE;\n",
              "      border: none;\n",
              "      border-radius: 50%;\n",
              "      cursor: pointer;\n",
              "      display: none;\n",
              "      fill: #1967D2;\n",
              "      height: 32px;\n",
              "      padding: 0 0 0 0;\n",
              "      width: 32px;\n",
              "    }\n",
              "\n",
              "    .colab-df-convert:hover {\n",
              "      background-color: #E2EBFA;\n",
              "      box-shadow: 0px 1px 2px rgba(60, 64, 67, 0.3), 0px 1px 3px 1px rgba(60, 64, 67, 0.15);\n",
              "      fill: #174EA6;\n",
              "    }\n",
              "\n",
              "    .colab-df-buttons div {\n",
              "      margin-bottom: 4px;\n",
              "    }\n",
              "\n",
              "    [theme=dark] .colab-df-convert {\n",
              "      background-color: #3B4455;\n",
              "      fill: #D2E3FC;\n",
              "    }\n",
              "\n",
              "    [theme=dark] .colab-df-convert:hover {\n",
              "      background-color: #434B5C;\n",
              "      box-shadow: 0px 1px 3px 1px rgba(0, 0, 0, 0.15);\n",
              "      filter: drop-shadow(0px 1px 2px rgba(0, 0, 0, 0.3));\n",
              "      fill: #FFFFFF;\n",
              "    }\n",
              "  </style>\n",
              "\n",
              "    <script>\n",
              "      const buttonEl =\n",
              "        document.querySelector('#df-c73ed7a3-319c-4a9c-ac1d-a5ae53d860ba button.colab-df-convert');\n",
              "      buttonEl.style.display =\n",
              "        google.colab.kernel.accessAllowed ? 'block' : 'none';\n",
              "\n",
              "      async function convertToInteractive(key) {\n",
              "        const element = document.querySelector('#df-c73ed7a3-319c-4a9c-ac1d-a5ae53d860ba');\n",
              "        const dataTable =\n",
              "          await google.colab.kernel.invokeFunction('convertToInteractive',\n",
              "                                                    [key], {});\n",
              "        if (!dataTable) return;\n",
              "\n",
              "        const docLinkHtml = 'Like what you see? Visit the ' +\n",
              "          '<a target=\"_blank\" href=https://colab.research.google.com/notebooks/data_table.ipynb>data table notebook</a>'\n",
              "          + ' to learn more about interactive tables.';\n",
              "        element.innerHTML = '';\n",
              "        dataTable['output_type'] = 'display_data';\n",
              "        await google.colab.output.renderOutput(dataTable, element);\n",
              "        const docLink = document.createElement('div');\n",
              "        docLink.innerHTML = docLinkHtml;\n",
              "        element.appendChild(docLink);\n",
              "      }\n",
              "    </script>\n",
              "  </div>\n",
              "\n",
              "\n",
              "<div id=\"df-e52ec109-7fca-4b59-8b47-b26e35bbbb5a\">\n",
              "  <button class=\"colab-df-quickchart\" onclick=\"quickchart('df-e52ec109-7fca-4b59-8b47-b26e35bbbb5a')\"\n",
              "            title=\"Suggest charts\"\n",
              "            style=\"display:none;\">\n",
              "\n",
              "<svg xmlns=\"http://www.w3.org/2000/svg\" height=\"24px\"viewBox=\"0 0 24 24\"\n",
              "     width=\"24px\">\n",
              "    <g>\n",
              "        <path d=\"M19 3H5c-1.1 0-2 .9-2 2v14c0 1.1.9 2 2 2h14c1.1 0 2-.9 2-2V5c0-1.1-.9-2-2-2zM9 17H7v-7h2v7zm4 0h-2V7h2v10zm4 0h-2v-4h2v4z\"/>\n",
              "    </g>\n",
              "</svg>\n",
              "  </button>\n",
              "\n",
              "<style>\n",
              "  .colab-df-quickchart {\n",
              "      --bg-color: #E8F0FE;\n",
              "      --fill-color: #1967D2;\n",
              "      --hover-bg-color: #E2EBFA;\n",
              "      --hover-fill-color: #174EA6;\n",
              "      --disabled-fill-color: #AAA;\n",
              "      --disabled-bg-color: #DDD;\n",
              "  }\n",
              "\n",
              "  [theme=dark] .colab-df-quickchart {\n",
              "      --bg-color: #3B4455;\n",
              "      --fill-color: #D2E3FC;\n",
              "      --hover-bg-color: #434B5C;\n",
              "      --hover-fill-color: #FFFFFF;\n",
              "      --disabled-bg-color: #3B4455;\n",
              "      --disabled-fill-color: #666;\n",
              "  }\n",
              "\n",
              "  .colab-df-quickchart {\n",
              "    background-color: var(--bg-color);\n",
              "    border: none;\n",
              "    border-radius: 50%;\n",
              "    cursor: pointer;\n",
              "    display: none;\n",
              "    fill: var(--fill-color);\n",
              "    height: 32px;\n",
              "    padding: 0;\n",
              "    width: 32px;\n",
              "  }\n",
              "\n",
              "  .colab-df-quickchart:hover {\n",
              "    background-color: var(--hover-bg-color);\n",
              "    box-shadow: 0 1px 2px rgba(60, 64, 67, 0.3), 0 1px 3px 1px rgba(60, 64, 67, 0.15);\n",
              "    fill: var(--button-hover-fill-color);\n",
              "  }\n",
              "\n",
              "  .colab-df-quickchart-complete:disabled,\n",
              "  .colab-df-quickchart-complete:disabled:hover {\n",
              "    background-color: var(--disabled-bg-color);\n",
              "    fill: var(--disabled-fill-color);\n",
              "    box-shadow: none;\n",
              "  }\n",
              "\n",
              "  .colab-df-spinner {\n",
              "    border: 2px solid var(--fill-color);\n",
              "    border-color: transparent;\n",
              "    border-bottom-color: var(--fill-color);\n",
              "    animation:\n",
              "      spin 1s steps(1) infinite;\n",
              "  }\n",
              "\n",
              "  @keyframes spin {\n",
              "    0% {\n",
              "      border-color: transparent;\n",
              "      border-bottom-color: var(--fill-color);\n",
              "      border-left-color: var(--fill-color);\n",
              "    }\n",
              "    20% {\n",
              "      border-color: transparent;\n",
              "      border-left-color: var(--fill-color);\n",
              "      border-top-color: var(--fill-color);\n",
              "    }\n",
              "    30% {\n",
              "      border-color: transparent;\n",
              "      border-left-color: var(--fill-color);\n",
              "      border-top-color: var(--fill-color);\n",
              "      border-right-color: var(--fill-color);\n",
              "    }\n",
              "    40% {\n",
              "      border-color: transparent;\n",
              "      border-right-color: var(--fill-color);\n",
              "      border-top-color: var(--fill-color);\n",
              "    }\n",
              "    60% {\n",
              "      border-color: transparent;\n",
              "      border-right-color: var(--fill-color);\n",
              "    }\n",
              "    80% {\n",
              "      border-color: transparent;\n",
              "      border-right-color: var(--fill-color);\n",
              "      border-bottom-color: var(--fill-color);\n",
              "    }\n",
              "    90% {\n",
              "      border-color: transparent;\n",
              "      border-bottom-color: var(--fill-color);\n",
              "    }\n",
              "  }\n",
              "</style>\n",
              "\n",
              "  <script>\n",
              "    async function quickchart(key) {\n",
              "      const quickchartButtonEl =\n",
              "        document.querySelector('#' + key + ' button');\n",
              "      quickchartButtonEl.disabled = true;  // To prevent multiple clicks.\n",
              "      quickchartButtonEl.classList.add('colab-df-spinner');\n",
              "      try {\n",
              "        const charts = await google.colab.kernel.invokeFunction(\n",
              "            'suggestCharts', [key], {});\n",
              "      } catch (error) {\n",
              "        console.error('Error during call to suggestCharts:', error);\n",
              "      }\n",
              "      quickchartButtonEl.classList.remove('colab-df-spinner');\n",
              "      quickchartButtonEl.classList.add('colab-df-quickchart-complete');\n",
              "    }\n",
              "    (() => {\n",
              "      let quickchartButtonEl =\n",
              "        document.querySelector('#df-e52ec109-7fca-4b59-8b47-b26e35bbbb5a button');\n",
              "      quickchartButtonEl.style.display =\n",
              "        google.colab.kernel.accessAllowed ? 'block' : 'none';\n",
              "    })();\n",
              "  </script>\n",
              "</div>\n",
              "\n",
              "    </div>\n",
              "  </div>\n"
            ],
            "application/vnd.google.colaboratory.intrinsic+json": {
              "type": "dataframe",
              "variable_name": "df",
              "summary": "{\n  \"name\": \"df\",\n  \"rows\": 5157,\n  \"fields\": [\n    {\n      \"column\": \"text\",\n      \"properties\": {\n        \"dtype\": \"string\",\n        \"num_unique_values\": 5154,\n        \"samples\": [\n          \"RT @Stupidosaur: @wikileaks Some US thugs,whom I tried to approach as friends during demonetization, spoke about radicalization option fo I\\u0085\",\n          \"RT @coomarashish: C-Voter on #Demonetization:\\r\\nOnly 22% happy with implementation, when asked to mark the same, 66% says 'Good'.\\r\\n@manakgupta\\u0085\",\n          \"RT @RNTata2000: Some further thoughts on implementation of demonetization program. https://t.co/RZdicKvFS7\"\n        ],\n        \"semantic_type\": \"\",\n        \"description\": \"\"\n      }\n    },\n    {\n      \"column\": \"text_clean\",\n      \"properties\": {\n        \"dtype\": \"string\",\n        \"num_unique_values\": 5142,\n        \"samples\": [\n          \"  thesuniljain I think comparison between feb 16 and feb 17 be what matter from pov of demonetization and of course it be staggering\",\n          \"  doddleoddle with the recent demonetization of popular yt channel do you still think there can be honesty when s be involve\",\n          \"  demonetization apply sir https t co aqywrzafif\"\n        ],\n        \"semantic_type\": \"\",\n        \"description\": \"\"\n      }\n    },\n    {\n      \"column\": \"text_sents\",\n      \"properties\": {\n        \"dtype\": \"object\",\n        \"semantic_type\": \"\",\n        \"description\": \"\"\n      }\n    }\n  ]\n}"
            }
          },
          "metadata": {},
          "execution_count": 26
        }
      ],
      "source": [
        "# Print output\n",
        "df.head()"
      ]
    },
    {
      "cell_type": "code",
      "execution_count": 28,
      "metadata": {
        "colab": {
          "base_uri": "https://localhost:8080/"
        },
        "id": "xa0X3FJ5ZIxn",
        "outputId": "ad8b2c6b-4e01-4ee1-8ef4-289cc9de2aad",
        "collapsed": true
      },
      "outputs": [
        {
          "output_type": "execute_result",
          "data": {
            "text/plain": [
              "[['rt',\n",
              "  'roshankar',\n",
              "  'former',\n",
              "  'finsec',\n",
              "  'rbi',\n",
              "  'dy',\n",
              "  'governor',\n",
              "  'cbdt',\n",
              "  'chair',\n",
              "  'harvard',\n",
              "  'professor',\n",
              "  'lambaste',\n",
              "  'demonetization',\n",
              "  'if',\n",
              "  'not',\n",
              "  'for',\n",
              "  'aam',\n",
              "  'aadmi',\n",
              "  'listen',\n",
              "  'to',\n",
              "  'th']]"
            ]
          },
          "metadata": {},
          "execution_count": 28
        }
      ],
      "source": [
        "# Sample sentence\n",
        "df.loc[2,'text_sents']"
      ]
    },
    {
      "cell_type": "code",
      "execution_count": 29,
      "metadata": {
        "id": "dN9amem2EIvv"
      },
      "outputs": [],
      "source": [
        "# Combine all sentences into a single list for word embedding training\n",
        "combined_sent = []\n",
        "for i in range(len(df)):\n",
        "    combined_sent += df.loc[i,'text_sents']"
      ]
    },
    {
      "cell_type": "code",
      "execution_count": 30,
      "metadata": {
        "id": "qvK0fUSnEBe_"
      },
      "outputs": [],
      "source": [
        "# Create word2vec model\n",
        "model = Word2Vec(combined_sent, vector_size=100, window=2, sg=0, min_count=5, workers=1)\n",
        "# Save model\n",
        "# model.save(r'/word_vec3.bin')"
      ]
    },
    {
      "cell_type": "code",
      "execution_count": 31,
      "metadata": {
        "colab": {
          "base_uri": "https://localhost:8080/"
        },
        "id": "E0iDSaymEugW",
        "outputId": "ecacfe25-c3fb-4c4f-a10f-48c57c5481ca"
      },
      "outputs": [
        {
          "output_type": "execute_result",
          "data": {
            "text/plain": [
              "array([-0.02754054,  0.16052178,  0.05712555,  0.14088231, -0.02010597,\n",
              "       -0.4330258 ,  0.15890515,  0.5537399 , -0.44242775, -0.24847883,\n",
              "       -0.08436187, -0.4814396 , -0.01283252,  0.12943247,  0.10277826,\n",
              "       -0.26738325,  0.17479949, -0.2931855 , -0.15519771, -0.83086485,\n",
              "        0.32769918,  0.0567171 ,  0.24379413, -0.6202791 , -0.1109392 ,\n",
              "       -0.08876536, -0.20185862, -0.36074582, -0.13027784,  0.25747943,\n",
              "        0.26371956, -0.09523165,  0.2604141 , -0.3521417 , -0.2590483 ,\n",
              "        0.52436495,  0.0236279 , -0.20560113, -0.26361057, -0.7474145 ,\n",
              "        0.16785295, -0.323971  ,  0.19714673,  0.27362373,  0.36755815,\n",
              "       -0.1183477 , -0.5807419 , -0.1112928 ,  0.15974249,  0.10592769,\n",
              "       -0.09118494, -0.25422937,  0.05314321,  0.02989964, -0.30875322,\n",
              "       -0.08642396,  0.15033762,  0.01657899, -0.55670357, -0.1214347 ,\n",
              "        0.25554168,  0.07016635,  0.26148704, -0.21671309, -0.3805588 ,\n",
              "        0.22985356,  0.02651777,  0.43240866, -0.4517475 ,  0.02267358,\n",
              "       -0.24959376,  0.15310062,  0.33724627,  0.14434154,  0.40230995,\n",
              "        0.05378518,  0.0370269 , -0.06040282, -0.13341953,  0.04747137,\n",
              "        0.02708313,  0.11858937, -0.37326935,  0.41721156, -0.0228122 ,\n",
              "       -0.00397812,  0.18020597,  0.15571915,  0.3471499 ,  0.23986074,\n",
              "        0.41179356,  0.4186471 , -0.14412814,  0.10380039,  0.6289717 ,\n",
              "        0.44194698, -0.1603251 , -0.5073396 ,  0.18908499, -0.2161087 ],\n",
              "      dtype=float32)"
            ]
          },
          "metadata": {},
          "execution_count": 31
        }
      ],
      "source": [
        "# Word vector rerpesentation\n",
        "model.wv.get_vector('demonetization')"
      ]
    },
    {
      "cell_type": "code",
      "execution_count": 32,
      "metadata": {
        "colab": {
          "base_uri": "https://localhost:8080/"
        },
        "id": "xv0WZwP7ETIl",
        "outputId": "9fbf9751-b805-48e9-f63d-02e060e6bc6a"
      },
      "outputs": [
        {
          "output_type": "execute_result",
          "data": {
            "text/plain": [
              "[('demonetization', 0.9999999403953552),\n",
              " ('digital', 0.9893613457679749),\n",
              " ('effect', 0.988767683506012),\n",
              " ('on', 0.9887349009513855),\n",
              " ('about', 0.9885606169700623),\n",
              " ('more', 0.9885531067848206),\n",
              " ('against', 0.98691326379776),\n",
              " ('bank', 0.9843961596488953),\n",
              " ('india', 0.9832715392112732),\n",
              " ('economy', 0.9820733666419983)]"
            ]
          },
          "metadata": {},
          "execution_count": 32
        }
      ],
      "source": [
        "# Simlar word\n",
        "model.wv.most_similar(model.wv.get_vector('demonetization'),topn=10)"
      ]
    },
    {
      "cell_type": "code",
      "execution_count": 33,
      "metadata": {
        "colab": {
          "base_uri": "https://localhost:8080/"
        },
        "id": "9_S5LySiF7Z6",
        "outputId": "dfb3ba28-803c-453c-dd94-20d5f6fcc135"
      },
      "outputs": [
        {
          "output_type": "execute_result",
          "data": {
            "text/plain": [
              "[('india', 1.0),\n",
              " ('an', 0.9881612658500671),\n",
              " ('demonetization', 0.9832715392112732),\n",
              " ('article', 0.9803057909011841),\n",
              " ('digital', 0.9776921272277832),\n",
              " ('system', 0.9738833904266357),\n",
              " ('education', 0.9734907746315002),\n",
              " ('on', 0.9700151085853577),\n",
              " ('like', 0.9678308367729187),\n",
              " ('move', 0.9654936790466309)]"
            ]
          },
          "metadata": {},
          "execution_count": 33
        }
      ],
      "source": [
        "# Simlar word\n",
        "model.wv.most_similar(model.wv.get_vector('india'),topn=10)"
      ]
    },
    {
      "cell_type": "code",
      "execution_count": 34,
      "metadata": {
        "colab": {
          "base_uri": "https://localhost:8080/"
        },
        "outputId": "5d2164e4-1659-4a46-9407-1fbc3200f477",
        "id": "S77Da5tTzH9K"
      },
      "outputs": [
        {
          "output_type": "execute_result",
          "data": {
            "text/plain": [
              "[('economy', 1.0),\n",
              " ('effect', 0.9968200922012329),\n",
              " ('against', 0.996390700340271),\n",
              " ('catalyze', 0.9962177276611328),\n",
              " ('bank', 0.9958115220069885),\n",
              " ('gov', 0.9957634806632996),\n",
              " ('late', 0.9956380128860474),\n",
              " ('crunch', 0.9956159591674805),\n",
              " ('more', 0.9955056309700012),\n",
              " ('gujarat', 0.9947516322135925)]"
            ]
          },
          "metadata": {},
          "execution_count": 34
        }
      ],
      "source": [
        "# Simlar word\n",
        "model.wv.most_similar(model.wv.get_vector('economy'),topn=10)"
      ]
    },
    {
      "cell_type": "code",
      "execution_count": 35,
      "metadata": {
        "colab": {
          "base_uri": "https://localhost:8080/",
          "height": 304
        },
        "outputId": "19195cbb-7a2c-4a69-93c4-f3b516f1792a",
        "id": "JeX4w1kKzH9K"
      },
      "outputs": [
        {
          "output_type": "error",
          "ename": "KeyError",
          "evalue": "\"Key 'flood' not present\"",
          "traceback": [
            "\u001b[0;31m---------------------------------------------------------------------------\u001b[0m",
            "\u001b[0;31mKeyError\u001b[0m                                  Traceback (most recent call last)",
            "\u001b[0;32m<ipython-input-35-9c4f36467422>\u001b[0m in \u001b[0;36m<cell line: 2>\u001b[0;34m()\u001b[0m\n\u001b[1;32m      1\u001b[0m \u001b[0;31m# Simlar word\u001b[0m\u001b[0;34m\u001b[0m\u001b[0;34m\u001b[0m\u001b[0m\n\u001b[0;32m----> 2\u001b[0;31m \u001b[0mmodel\u001b[0m\u001b[0;34m.\u001b[0m\u001b[0mwv\u001b[0m\u001b[0;34m.\u001b[0m\u001b[0mmost_similar\u001b[0m\u001b[0;34m(\u001b[0m\u001b[0mmodel\u001b[0m\u001b[0;34m.\u001b[0m\u001b[0mwv\u001b[0m\u001b[0;34m.\u001b[0m\u001b[0mget_vector\u001b[0m\u001b[0;34m(\u001b[0m\u001b[0;34m'flood'\u001b[0m\u001b[0;34m)\u001b[0m\u001b[0;34m,\u001b[0m\u001b[0mtopn\u001b[0m\u001b[0;34m=\u001b[0m\u001b[0;36m10\u001b[0m\u001b[0;34m)\u001b[0m\u001b[0;34m\u001b[0m\u001b[0;34m\u001b[0m\u001b[0m\n\u001b[0m",
            "\u001b[0;32m/usr/local/lib/python3.10/dist-packages/gensim/models/keyedvectors.py\u001b[0m in \u001b[0;36mget_vector\u001b[0;34m(self, key, norm)\u001b[0m\n\u001b[1;32m    444\u001b[0m \u001b[0;34m\u001b[0m\u001b[0m\n\u001b[1;32m    445\u001b[0m         \"\"\"\n\u001b[0;32m--> 446\u001b[0;31m         \u001b[0mindex\u001b[0m \u001b[0;34m=\u001b[0m \u001b[0mself\u001b[0m\u001b[0;34m.\u001b[0m\u001b[0mget_index\u001b[0m\u001b[0;34m(\u001b[0m\u001b[0mkey\u001b[0m\u001b[0;34m)\u001b[0m\u001b[0;34m\u001b[0m\u001b[0;34m\u001b[0m\u001b[0m\n\u001b[0m\u001b[1;32m    447\u001b[0m         \u001b[0;32mif\u001b[0m \u001b[0mnorm\u001b[0m\u001b[0;34m:\u001b[0m\u001b[0;34m\u001b[0m\u001b[0;34m\u001b[0m\u001b[0m\n\u001b[1;32m    448\u001b[0m             \u001b[0mself\u001b[0m\u001b[0;34m.\u001b[0m\u001b[0mfill_norms\u001b[0m\u001b[0;34m(\u001b[0m\u001b[0;34m)\u001b[0m\u001b[0;34m\u001b[0m\u001b[0;34m\u001b[0m\u001b[0m\n",
            "\u001b[0;32m/usr/local/lib/python3.10/dist-packages/gensim/models/keyedvectors.py\u001b[0m in \u001b[0;36mget_index\u001b[0;34m(self, key, default)\u001b[0m\n\u001b[1;32m    418\u001b[0m             \u001b[0;32mreturn\u001b[0m \u001b[0mdefault\u001b[0m\u001b[0;34m\u001b[0m\u001b[0;34m\u001b[0m\u001b[0m\n\u001b[1;32m    419\u001b[0m         \u001b[0;32melse\u001b[0m\u001b[0;34m:\u001b[0m\u001b[0;34m\u001b[0m\u001b[0;34m\u001b[0m\u001b[0m\n\u001b[0;32m--> 420\u001b[0;31m             \u001b[0;32mraise\u001b[0m \u001b[0mKeyError\u001b[0m\u001b[0;34m(\u001b[0m\u001b[0;34mf\"Key '{key}' not present\"\u001b[0m\u001b[0;34m)\u001b[0m\u001b[0;34m\u001b[0m\u001b[0;34m\u001b[0m\u001b[0m\n\u001b[0m\u001b[1;32m    421\u001b[0m \u001b[0;34m\u001b[0m\u001b[0m\n\u001b[1;32m    422\u001b[0m     \u001b[0;32mdef\u001b[0m \u001b[0mget_vector\u001b[0m\u001b[0;34m(\u001b[0m\u001b[0mself\u001b[0m\u001b[0;34m,\u001b[0m \u001b[0mkey\u001b[0m\u001b[0;34m,\u001b[0m \u001b[0mnorm\u001b[0m\u001b[0;34m=\u001b[0m\u001b[0;32mFalse\u001b[0m\u001b[0;34m)\u001b[0m\u001b[0;34m:\u001b[0m\u001b[0;34m\u001b[0m\u001b[0;34m\u001b[0m\u001b[0m\n",
            "\u001b[0;31mKeyError\u001b[0m: \"Key 'flood' not present\""
          ]
        }
      ],
      "source": [
        "# Simlar word\n",
        "model.wv.most_similar(model.wv.get_vector('flood'),topn=10)"
      ]
    },
    {
      "cell_type": "code",
      "execution_count": null,
      "metadata": {
        "id": "ZSu-7n13zH9K"
      },
      "outputs": [],
      "source": []
    }
  ],
  "metadata": {
    "colab": {
      "collapsed_sections": [
        "zFI1M59XbDmW"
      ],
      "provenance": [],
      "gpuType": "T4",
      "include_colab_link": true
    },
    "kernelspec": {
      "display_name": "Python 3",
      "name": "python3"
    },
    "language_info": {
      "codemirror_mode": {
        "name": "ipython",
        "version": 3
      },
      "file_extension": ".py",
      "mimetype": "text/x-python",
      "name": "python",
      "nbconvert_exporter": "python",
      "pygments_lexer": "ipython3",
      "version": "3.11.5"
    },
    "accelerator": "GPU"
  },
  "nbformat": 4,
  "nbformat_minor": 0
}