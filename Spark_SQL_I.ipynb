{
  "nbformat": 4,
  "nbformat_minor": 0,
  "metadata": {
    "colab": {
      "provenance": [],
      "collapsed_sections": [
        "Xu8UutdaFZjt",
        "uZ4f5KzrFeS5",
        "JIwKqkmxFgRn",
        "VpRMATadIjo9",
        "vjQ2TFfRfJEj"
      ],
      "machine_shape": "hm",
      "gpuType": "T4",
      "include_colab_link": true
    },
    "kernelspec": {
      "name": "python3",
      "display_name": "Python 3"
    },
    "language_info": {
      "name": "python"
    },
    "accelerator": "GPU"
  },
  "cells": [
    {
      "cell_type": "markdown",
      "metadata": {
        "id": "view-in-github",
        "colab_type": "text"
      },
      "source": [
        "<a href=\"https://colab.research.google.com/github/arutraj/.githubcl/blob/main/Spark_SQL_I.ipynb\" target=\"_parent\"><img src=\"https://colab.research.google.com/assets/colab-badge.svg\" alt=\"Open In Colab\"/></a>"
      ]
    },
    {
      "cell_type": "markdown",
      "source": [
        "# Install pyspark and customize Colab configuration\n",
        "\n",
        "\n",
        "The pyspark installation will persist until the runtime is recycled."
      ],
      "metadata": {
        "id": "Xu8UutdaFZjt"
      }
    },
    {
      "cell_type": "code",
      "execution_count": 1,
      "metadata": {
        "id": "KxYHzVIJEez0",
        "outputId": "f01dc969-ba90-4622-bc0e-17a111c50a67",
        "colab": {
          "base_uri": "https://localhost:8080/",
          "height": 541
        }
      },
      "outputs": [
        {
          "output_type": "stream",
          "name": "stdout",
          "text": [
            "\u001b[33m\r0% [Working]\u001b[0m\r            \rGet:1 https://cloud.r-project.org/bin/linux/ubuntu jammy-cran40/ InRelease [3,626 B]\n",
            "\u001b[33m\r0% [Connecting to archive.ubuntu.com (185.125.190.83)] [Connecting to security.\u001b[0m\u001b[33m\r0% [Connecting to archive.ubuntu.com (185.125.190.83)] [Connecting to security.\u001b[0m\r                                                                               \rGet:2 https://developer.download.nvidia.com/compute/cuda/repos/ubuntu2204/x86_64  InRelease [1,581 B]\n",
            "Get:3 https://developer.download.nvidia.com/compute/cuda/repos/ubuntu2204/x86_64  Packages [1,071 kB]\n",
            "Hit:4 http://archive.ubuntu.com/ubuntu jammy InRelease\n",
            "Get:5 http://security.ubuntu.com/ubuntu jammy-security InRelease [129 kB]\n",
            "Get:6 http://archive.ubuntu.com/ubuntu jammy-updates InRelease [128 kB]\n",
            "Hit:7 https://ppa.launchpadcontent.net/deadsnakes/ppa/ubuntu jammy InRelease\n",
            "Hit:8 https://ppa.launchpadcontent.net/graphics-drivers/ppa/ubuntu jammy InRelease\n",
            "Ign:9 https://r2u.stat.illinois.edu/ubuntu jammy InRelease\n",
            "Hit:10 https://ppa.launchpadcontent.net/ubuntugis/ppa/ubuntu jammy InRelease\n",
            "Get:11 https://r2u.stat.illinois.edu/ubuntu jammy Release [5,713 B]\n",
            "Get:12 http://archive.ubuntu.com/ubuntu jammy-backports InRelease [127 kB]\n",
            "Get:13 https://r2u.stat.illinois.edu/ubuntu jammy Release.gpg [793 B]\n",
            "Get:14 http://archive.ubuntu.com/ubuntu jammy-updates/main amd64 Packages [2,654 kB]\n",
            "Get:15 https://r2u.stat.illinois.edu/ubuntu jammy/main amd64 Packages [2,601 kB]\n",
            "Get:16 http://archive.ubuntu.com/ubuntu jammy-updates/universe amd64 Packages [1,450 kB]\n",
            "Get:17 https://r2u.stat.illinois.edu/ubuntu jammy/main all Packages [8,425 kB]\n",
            "Fetched 16.6 MB in 5s (3,590 kB/s)\n",
            "Reading package lists... Done\n",
            "Building dependency tree... Done\n",
            "Reading state information... Done\n",
            "50 packages can be upgraded. Run 'apt list --upgradable' to see them.\n",
            "\u001b[1;33mW: \u001b[0mSkipping acquire of configured file 'main/source/Sources' as repository 'https://r2u.stat.illinois.edu/ubuntu jammy InRelease' does not seem to provide it (sources.list entry misspelt?)\u001b[0m\n",
            "tar: spark-3.2.1-bin-hadoop3.2.tgz: Cannot open: No such file or directory\n",
            "tar: Error is not recoverable: exiting now\n",
            "Requirement already satisfied: pyspark in /usr/local/lib/python3.10/dist-packages (3.5.3)\n",
            "Requirement already satisfied: py4j==0.10.9.7 in /usr/local/lib/python3.10/dist-packages (from pyspark) (0.10.9.7)\n",
            "Requirement already satisfied: py4j in /usr/local/lib/python3.10/dist-packages (0.10.9.7)\n"
          ]
        },
        {
          "output_type": "execute_result",
          "data": {
            "text/plain": [
              "'/usr/local/lib/python3.10/dist-packages/pyspark'"
            ],
            "application/vnd.google.colaboratory.intrinsic+json": {
              "type": "string"
            }
          },
          "metadata": {},
          "execution_count": 1
        }
      ],
      "source": [
        "!sudo apt update\n",
        "!apt-get install openjdk-8-jdk-headless -qq > /dev/null\n",
        "#Check this site for the latest download link https://www.apache.org/dyn/closer.lua/spark/spark-3.2.1/spark-3.2.1-bin-hadoop3.2.tgz\n",
        "!wget -q https://dlcdn.apache.org/spark/spark-3.2.1/spark-3.2.1-bin-hadoop3.2.tgz\n",
        "!tar xf spark-3.2.1-bin-hadoop3.2.tgz\n",
        "!pip install -q findspark\n",
        "!pip install pyspark\n",
        "!pip install py4j\n",
        "\n",
        "import os\n",
        "import sys\n",
        "# os.environ[\"JAVA_HOME\"] = \"/usr/lib/jvm/java-8-openjdk-amd64\"\n",
        "# os.environ[\"SPARK_HOME\"] = \"/content/spark-3.2.1-bin-hadoop3.2\"\n",
        "\n",
        "\n",
        "import findspark\n",
        "findspark.init()\n",
        "findspark.find()"
      ]
    },
    {
      "cell_type": "markdown",
      "source": [
        "# Initialize Spark"
      ],
      "metadata": {
        "id": "uZ4f5KzrFeS5"
      }
    },
    {
      "cell_type": "code",
      "source": [
        "import pyspark\n",
        "from pyspark import SparkContext\n",
        "\n",
        "from pyspark.sql import DataFrame, SparkSession\n",
        "from typing import List\n",
        "import pyspark.sql.types as T\n",
        "import pyspark.sql.functions as F\n",
        "\n",
        "spark= SparkSession \\\n",
        "       .builder \\\n",
        "       .appName(\"Our First Spark Example\") \\\n",
        "       .getOrCreate()\n",
        "\n",
        "sc = spark.sparkContext\n",
        "spark"
      ],
      "metadata": {
        "id": "t0Bv7bTXFZ_4",
        "outputId": "cd07af52-4444-4e58-fb9f-424e32952ff0",
        "colab": {
          "base_uri": "https://localhost:8080/",
          "height": 219
        }
      },
      "execution_count": 2,
      "outputs": [
        {
          "output_type": "execute_result",
          "data": {
            "text/plain": [
              "<pyspark.sql.session.SparkSession at 0x7815a2accb50>"
            ],
            "text/html": [
              "\n",
              "            <div>\n",
              "                <p><b>SparkSession - in-memory</b></p>\n",
              "                \n",
              "        <div>\n",
              "            <p><b>SparkContext</b></p>\n",
              "\n",
              "            <p><a href=\"http://88b96f52498d:4040\">Spark UI</a></p>\n",
              "\n",
              "            <dl>\n",
              "              <dt>Version</dt>\n",
              "                <dd><code>v3.5.3</code></dd>\n",
              "              <dt>Master</dt>\n",
              "                <dd><code>local[*]</code></dd>\n",
              "              <dt>AppName</dt>\n",
              "                <dd><code>Our First Spark Example</code></dd>\n",
              "            </dl>\n",
              "        </div>\n",
              "        \n",
              "            </div>\n",
              "        "
            ]
          },
          "metadata": {},
          "execution_count": 2
        }
      ]
    },
    {
      "cell_type": "markdown",
      "source": [
        "# Load Cars Dataset"
      ],
      "metadata": {
        "id": "JIwKqkmxFgRn"
      }
    },
    {
      "cell_type": "code",
      "source": [
        "!wget https://jacobceles.github.io/knowledge_repo/colab_and_pyspark/cars.csv"
      ],
      "metadata": {
        "id": "WAUV8oBDbY8G",
        "outputId": "87ba0e65-cb2e-4883-bcb1-48cb971c6ac6",
        "colab": {
          "base_uri": "https://localhost:8080/"
        }
      },
      "execution_count": 3,
      "outputs": [
        {
          "output_type": "stream",
          "name": "stdout",
          "text": [
            "--2024-10-27 16:56:29--  https://jacobceles.github.io/knowledge_repo/colab_and_pyspark/cars.csv\n",
            "Resolving jacobceles.github.io (jacobceles.github.io)... 185.199.108.153, 185.199.109.153, 185.199.110.153, ...\n",
            "Connecting to jacobceles.github.io (jacobceles.github.io)|185.199.108.153|:443... connected.\n",
            "HTTP request sent, awaiting response... 301 Moved Permanently\n",
            "Location: https://jacobcelestine.com/knowledge_repo/colab_and_pyspark/cars.csv [following]\n",
            "--2024-10-27 16:56:29--  https://jacobcelestine.com/knowledge_repo/colab_and_pyspark/cars.csv\n",
            "Resolving jacobcelestine.com (jacobcelestine.com)... 185.199.108.153, 185.199.109.153, 185.199.110.153, ...\n",
            "Connecting to jacobcelestine.com (jacobcelestine.com)|185.199.108.153|:443... connected.\n",
            "HTTP request sent, awaiting response... 200 OK\n",
            "Length: 22608 (22K) [text/csv]\n",
            "Saving to: ‘cars.csv’\n",
            "\n",
            "cars.csv            100%[===================>]  22.08K  --.-KB/s    in 0s      \n",
            "\n",
            "2024-10-27 16:56:29 (170 MB/s) - ‘cars.csv’ saved [22608/22608]\n",
            "\n"
          ]
        }
      ]
    },
    {
      "cell_type": "code",
      "source": [
        "# Using Apache Spark to read the CSV file into a DataFrame\n",
        "df = df = spark.read.csv('cars.csv', header=True, sep=\";\")\n",
        "df.createOrReplaceTempView(\"cars\")"
      ],
      "metadata": {
        "id": "Ujyv8nMvFfuP"
      },
      "execution_count": 4,
      "outputs": []
    },
    {
      "cell_type": "code",
      "source": [
        "df.show()"
      ],
      "metadata": {
        "id": "Y4uKoCthIneD",
        "outputId": "24e028c2-fc04-49cc-8b7d-eedaefbfa3f6",
        "colab": {
          "base_uri": "https://localhost:8080/"
        }
      },
      "execution_count": 5,
      "outputs": [
        {
          "output_type": "stream",
          "name": "stdout",
          "text": [
            "+--------------------+----+---------+------------+----------+------+------------+-----+------+\n",
            "|                 Car| MPG|Cylinders|Displacement|Horsepower|Weight|Acceleration|Model|Origin|\n",
            "+--------------------+----+---------+------------+----------+------+------------+-----+------+\n",
            "|Chevrolet Chevell...|18.0|        8|       307.0|     130.0| 3504.|        12.0|   70|    US|\n",
            "|   Buick Skylark 320|15.0|        8|       350.0|     165.0| 3693.|        11.5|   70|    US|\n",
            "|  Plymouth Satellite|18.0|        8|       318.0|     150.0| 3436.|        11.0|   70|    US|\n",
            "|       AMC Rebel SST|16.0|        8|       304.0|     150.0| 3433.|        12.0|   70|    US|\n",
            "|         Ford Torino|17.0|        8|       302.0|     140.0| 3449.|        10.5|   70|    US|\n",
            "|    Ford Galaxie 500|15.0|        8|       429.0|     198.0| 4341.|        10.0|   70|    US|\n",
            "|    Chevrolet Impala|14.0|        8|       454.0|     220.0| 4354.|         9.0|   70|    US|\n",
            "|   Plymouth Fury iii|14.0|        8|       440.0|     215.0| 4312.|         8.5|   70|    US|\n",
            "|    Pontiac Catalina|14.0|        8|       455.0|     225.0| 4425.|        10.0|   70|    US|\n",
            "|  AMC Ambassador DPL|15.0|        8|       390.0|     190.0| 3850.|         8.5|   70|    US|\n",
            "|Citroen DS-21 Pallas|   0|        4|       133.0|     115.0| 3090.|        17.5|   70|Europe|\n",
            "|Chevrolet Chevell...|   0|        8|       350.0|     165.0| 4142.|        11.5|   70|    US|\n",
            "|    Ford Torino (sw)|   0|        8|       351.0|     153.0| 4034.|        11.0|   70|    US|\n",
            "|Plymouth Satellit...|   0|        8|       383.0|     175.0| 4166.|        10.5|   70|    US|\n",
            "|  AMC Rebel SST (sw)|   0|        8|       360.0|     175.0| 3850.|        11.0|   70|    US|\n",
            "| Dodge Challenger SE|15.0|        8|       383.0|     170.0| 3563.|        10.0|   70|    US|\n",
            "|  Plymouth 'Cuda 340|14.0|        8|       340.0|     160.0| 3609.|         8.0|   70|    US|\n",
            "|Ford Mustang Boss...|   0|        8|       302.0|     140.0| 3353.|         8.0|   70|    US|\n",
            "|Chevrolet Monte C...|15.0|        8|       400.0|     150.0| 3761.|         9.5|   70|    US|\n",
            "|Buick Estate Wago...|14.0|        8|       455.0|     225.0| 3086.|        10.0|   70|    US|\n",
            "+--------------------+----+---------+------------+----------+------+------------+-----+------+\n",
            "only showing top 20 rows\n",
            "\n"
          ]
        }
      ]
    },
    {
      "cell_type": "markdown",
      "source": [
        "\n",
        "# Data Types"
      ],
      "metadata": {
        "id": "VpRMATadIjo9"
      }
    },
    {
      "cell_type": "code",
      "source": [
        "spark.sql(\"DESC cars\").show()\n",
        "\n",
        "# This dataset has all string attributes"
      ],
      "metadata": {
        "id": "fPxGBPgdFmTh",
        "outputId": "fc5b65ca-fea2-4143-8c38-7f96df33094f",
        "colab": {
          "base_uri": "https://localhost:8080/"
        }
      },
      "execution_count": 6,
      "outputs": [
        {
          "output_type": "stream",
          "name": "stdout",
          "text": [
            "+------------+---------+-------+\n",
            "|    col_name|data_type|comment|\n",
            "+------------+---------+-------+\n",
            "|         Car|   string|   NULL|\n",
            "|         MPG|   string|   NULL|\n",
            "|   Cylinders|   string|   NULL|\n",
            "|Displacement|   string|   NULL|\n",
            "|  Horsepower|   string|   NULL|\n",
            "|      Weight|   string|   NULL|\n",
            "|Acceleration|   string|   NULL|\n",
            "|       Model|   string|   NULL|\n",
            "|      Origin|   string|   NULL|\n",
            "+------------+---------+-------+\n",
            "\n"
          ]
        }
      ]
    },
    {
      "cell_type": "code",
      "source": [
        "# Casting MPG column to double datatype and checking\n",
        "spark.sql(\"SELECT CAST(MPG AS DOUBLE) AS MPG_double, * FROM cars\").show()\n",
        "spark.sql(\"SELECT CAST(MPG AS DOUBLE) AS MPG_double, * FROM cars\").printSchema()"
      ],
      "metadata": {
        "id": "Kz-g1yZEeEzx",
        "outputId": "edadf4f8-56f9-44fe-cbff-2a91047f3217",
        "colab": {
          "base_uri": "https://localhost:8080/"
        }
      },
      "execution_count": 7,
      "outputs": [
        {
          "output_type": "stream",
          "name": "stdout",
          "text": [
            "+----------+--------------------+----+---------+------------+----------+------+------------+-----+------+\n",
            "|MPG_double|                 Car| MPG|Cylinders|Displacement|Horsepower|Weight|Acceleration|Model|Origin|\n",
            "+----------+--------------------+----+---------+------------+----------+------+------------+-----+------+\n",
            "|      18.0|Chevrolet Chevell...|18.0|        8|       307.0|     130.0| 3504.|        12.0|   70|    US|\n",
            "|      15.0|   Buick Skylark 320|15.0|        8|       350.0|     165.0| 3693.|        11.5|   70|    US|\n",
            "|      18.0|  Plymouth Satellite|18.0|        8|       318.0|     150.0| 3436.|        11.0|   70|    US|\n",
            "|      16.0|       AMC Rebel SST|16.0|        8|       304.0|     150.0| 3433.|        12.0|   70|    US|\n",
            "|      17.0|         Ford Torino|17.0|        8|       302.0|     140.0| 3449.|        10.5|   70|    US|\n",
            "|      15.0|    Ford Galaxie 500|15.0|        8|       429.0|     198.0| 4341.|        10.0|   70|    US|\n",
            "|      14.0|    Chevrolet Impala|14.0|        8|       454.0|     220.0| 4354.|         9.0|   70|    US|\n",
            "|      14.0|   Plymouth Fury iii|14.0|        8|       440.0|     215.0| 4312.|         8.5|   70|    US|\n",
            "|      14.0|    Pontiac Catalina|14.0|        8|       455.0|     225.0| 4425.|        10.0|   70|    US|\n",
            "|      15.0|  AMC Ambassador DPL|15.0|        8|       390.0|     190.0| 3850.|         8.5|   70|    US|\n",
            "|       0.0|Citroen DS-21 Pallas|   0|        4|       133.0|     115.0| 3090.|        17.5|   70|Europe|\n",
            "|       0.0|Chevrolet Chevell...|   0|        8|       350.0|     165.0| 4142.|        11.5|   70|    US|\n",
            "|       0.0|    Ford Torino (sw)|   0|        8|       351.0|     153.0| 4034.|        11.0|   70|    US|\n",
            "|       0.0|Plymouth Satellit...|   0|        8|       383.0|     175.0| 4166.|        10.5|   70|    US|\n",
            "|       0.0|  AMC Rebel SST (sw)|   0|        8|       360.0|     175.0| 3850.|        11.0|   70|    US|\n",
            "|      15.0| Dodge Challenger SE|15.0|        8|       383.0|     170.0| 3563.|        10.0|   70|    US|\n",
            "|      14.0|  Plymouth 'Cuda 340|14.0|        8|       340.0|     160.0| 3609.|         8.0|   70|    US|\n",
            "|       0.0|Ford Mustang Boss...|   0|        8|       302.0|     140.0| 3353.|         8.0|   70|    US|\n",
            "|      15.0|Chevrolet Monte C...|15.0|        8|       400.0|     150.0| 3761.|         9.5|   70|    US|\n",
            "|      14.0|Buick Estate Wago...|14.0|        8|       455.0|     225.0| 3086.|        10.0|   70|    US|\n",
            "+----------+--------------------+----+---------+------------+----------+------+------------+-----+------+\n",
            "only showing top 20 rows\n",
            "\n",
            "root\n",
            " |-- MPG_double: double (nullable = true)\n",
            " |-- Car: string (nullable = true)\n",
            " |-- MPG: string (nullable = true)\n",
            " |-- Cylinders: string (nullable = true)\n",
            " |-- Displacement: string (nullable = true)\n",
            " |-- Horsepower: string (nullable = true)\n",
            " |-- Weight: string (nullable = true)\n",
            " |-- Acceleration: string (nullable = true)\n",
            " |-- Model: string (nullable = true)\n",
            " |-- Origin: string (nullable = true)\n",
            "\n"
          ]
        }
      ]
    },
    {
      "cell_type": "code",
      "source": [
        "# Adding array column\n",
        "spark.sql(\"SELECT *, ARRAY(Horsepower, Weight) AS hp_weight FROM cars\").show()\n",
        "spark.sql(\"SELECT *, ARRAY(Horsepower, Weight) AS hp_weight FROM cars\").printSchema()"
      ],
      "metadata": {
        "id": "TnGAmIN6IeJ6",
        "outputId": "70225e65-047b-48cd-c5ea-e246f5ccdbdf",
        "colab": {
          "base_uri": "https://localhost:8080/"
        }
      },
      "execution_count": 13,
      "outputs": [
        {
          "output_type": "stream",
          "name": "stdout",
          "text": [
            "+--------------------+----+---------+------------+----------+------+------------+-----+------+--------------+\n",
            "|                 Car| MPG|Cylinders|Displacement|Horsepower|Weight|Acceleration|Model|Origin|     hp_weight|\n",
            "+--------------------+----+---------+------------+----------+------+------------+-----+------+--------------+\n",
            "|Chevrolet Chevell...|18.0|        8|       307.0|     130.0| 3504.|        12.0|   70|    US|[130.0, 3504.]|\n",
            "|   Buick Skylark 320|15.0|        8|       350.0|     165.0| 3693.|        11.5|   70|    US|[165.0, 3693.]|\n",
            "|  Plymouth Satellite|18.0|        8|       318.0|     150.0| 3436.|        11.0|   70|    US|[150.0, 3436.]|\n",
            "|       AMC Rebel SST|16.0|        8|       304.0|     150.0| 3433.|        12.0|   70|    US|[150.0, 3433.]|\n",
            "|         Ford Torino|17.0|        8|       302.0|     140.0| 3449.|        10.5|   70|    US|[140.0, 3449.]|\n",
            "|    Ford Galaxie 500|15.0|        8|       429.0|     198.0| 4341.|        10.0|   70|    US|[198.0, 4341.]|\n",
            "|    Chevrolet Impala|14.0|        8|       454.0|     220.0| 4354.|         9.0|   70|    US|[220.0, 4354.]|\n",
            "|   Plymouth Fury iii|14.0|        8|       440.0|     215.0| 4312.|         8.5|   70|    US|[215.0, 4312.]|\n",
            "|    Pontiac Catalina|14.0|        8|       455.0|     225.0| 4425.|        10.0|   70|    US|[225.0, 4425.]|\n",
            "|  AMC Ambassador DPL|15.0|        8|       390.0|     190.0| 3850.|         8.5|   70|    US|[190.0, 3850.]|\n",
            "|Citroen DS-21 Pallas|   0|        4|       133.0|     115.0| 3090.|        17.5|   70|Europe|[115.0, 3090.]|\n",
            "|Chevrolet Chevell...|   0|        8|       350.0|     165.0| 4142.|        11.5|   70|    US|[165.0, 4142.]|\n",
            "|    Ford Torino (sw)|   0|        8|       351.0|     153.0| 4034.|        11.0|   70|    US|[153.0, 4034.]|\n",
            "|Plymouth Satellit...|   0|        8|       383.0|     175.0| 4166.|        10.5|   70|    US|[175.0, 4166.]|\n",
            "|  AMC Rebel SST (sw)|   0|        8|       360.0|     175.0| 3850.|        11.0|   70|    US|[175.0, 3850.]|\n",
            "| Dodge Challenger SE|15.0|        8|       383.0|     170.0| 3563.|        10.0|   70|    US|[170.0, 3563.]|\n",
            "|  Plymouth 'Cuda 340|14.0|        8|       340.0|     160.0| 3609.|         8.0|   70|    US|[160.0, 3609.]|\n",
            "|Ford Mustang Boss...|   0|        8|       302.0|     140.0| 3353.|         8.0|   70|    US|[140.0, 3353.]|\n",
            "|Chevrolet Monte C...|15.0|        8|       400.0|     150.0| 3761.|         9.5|   70|    US|[150.0, 3761.]|\n",
            "|Buick Estate Wago...|14.0|        8|       455.0|     225.0| 3086.|        10.0|   70|    US|[225.0, 3086.]|\n",
            "+--------------------+----+---------+------------+----------+------+------------+-----+------+--------------+\n",
            "only showing top 20 rows\n",
            "\n",
            "root\n",
            " |-- Car: string (nullable = true)\n",
            " |-- MPG: string (nullable = true)\n",
            " |-- Cylinders: string (nullable = true)\n",
            " |-- Displacement: string (nullable = true)\n",
            " |-- Horsepower: string (nullable = true)\n",
            " |-- Weight: string (nullable = true)\n",
            " |-- Acceleration: string (nullable = true)\n",
            " |-- Model: string (nullable = true)\n",
            " |-- Origin: string (nullable = true)\n",
            " |-- hp_weight: array (nullable = false)\n",
            " |    |-- element: string (containsNull = true)\n",
            "\n"
          ]
        }
      ]
    },
    {
      "cell_type": "markdown",
      "source": [
        "\n",
        "# Literals"
      ],
      "metadata": {
        "id": "vjQ2TFfRfJEj"
      }
    },
    {
      "cell_type": "code",
      "source": [
        "# Adding literal in Origin column\n",
        "spark.sql(\"SELECT *, CONCAT(origin, '_Origin') AS country FROM cars\").show()\n",
        "spark.sql(\"SELECT *, CONCAT(origin, '_Origin') AS country FROM cars\").printSchema()"
      ],
      "metadata": {
        "id": "YhvjztcNfJ5V",
        "outputId": "48c27a66-b673-423f-f97b-da930cbec7c5",
        "colab": {
          "base_uri": "https://localhost:8080/"
        }
      },
      "execution_count": 12,
      "outputs": [
        {
          "output_type": "stream",
          "name": "stdout",
          "text": [
            "+--------------------+----+---------+------------+----------+------+------------+-----+------+-------------+\n",
            "|                 Car| MPG|Cylinders|Displacement|Horsepower|Weight|Acceleration|Model|Origin|      country|\n",
            "+--------------------+----+---------+------------+----------+------+------------+-----+------+-------------+\n",
            "|Chevrolet Chevell...|18.0|        8|       307.0|     130.0| 3504.|        12.0|   70|    US|    US_Origin|\n",
            "|   Buick Skylark 320|15.0|        8|       350.0|     165.0| 3693.|        11.5|   70|    US|    US_Origin|\n",
            "|  Plymouth Satellite|18.0|        8|       318.0|     150.0| 3436.|        11.0|   70|    US|    US_Origin|\n",
            "|       AMC Rebel SST|16.0|        8|       304.0|     150.0| 3433.|        12.0|   70|    US|    US_Origin|\n",
            "|         Ford Torino|17.0|        8|       302.0|     140.0| 3449.|        10.5|   70|    US|    US_Origin|\n",
            "|    Ford Galaxie 500|15.0|        8|       429.0|     198.0| 4341.|        10.0|   70|    US|    US_Origin|\n",
            "|    Chevrolet Impala|14.0|        8|       454.0|     220.0| 4354.|         9.0|   70|    US|    US_Origin|\n",
            "|   Plymouth Fury iii|14.0|        8|       440.0|     215.0| 4312.|         8.5|   70|    US|    US_Origin|\n",
            "|    Pontiac Catalina|14.0|        8|       455.0|     225.0| 4425.|        10.0|   70|    US|    US_Origin|\n",
            "|  AMC Ambassador DPL|15.0|        8|       390.0|     190.0| 3850.|         8.5|   70|    US|    US_Origin|\n",
            "|Citroen DS-21 Pallas|   0|        4|       133.0|     115.0| 3090.|        17.5|   70|Europe|Europe_Origin|\n",
            "|Chevrolet Chevell...|   0|        8|       350.0|     165.0| 4142.|        11.5|   70|    US|    US_Origin|\n",
            "|    Ford Torino (sw)|   0|        8|       351.0|     153.0| 4034.|        11.0|   70|    US|    US_Origin|\n",
            "|Plymouth Satellit...|   0|        8|       383.0|     175.0| 4166.|        10.5|   70|    US|    US_Origin|\n",
            "|  AMC Rebel SST (sw)|   0|        8|       360.0|     175.0| 3850.|        11.0|   70|    US|    US_Origin|\n",
            "| Dodge Challenger SE|15.0|        8|       383.0|     170.0| 3563.|        10.0|   70|    US|    US_Origin|\n",
            "|  Plymouth 'Cuda 340|14.0|        8|       340.0|     160.0| 3609.|         8.0|   70|    US|    US_Origin|\n",
            "|Ford Mustang Boss...|   0|        8|       302.0|     140.0| 3353.|         8.0|   70|    US|    US_Origin|\n",
            "|Chevrolet Monte C...|15.0|        8|       400.0|     150.0| 3761.|         9.5|   70|    US|    US_Origin|\n",
            "|Buick Estate Wago...|14.0|        8|       455.0|     225.0| 3086.|        10.0|   70|    US|    US_Origin|\n",
            "+--------------------+----+---------+------------+----------+------+------------+-----+------+-------------+\n",
            "only showing top 20 rows\n",
            "\n",
            "root\n",
            " |-- Car: string (nullable = true)\n",
            " |-- MPG: string (nullable = true)\n",
            " |-- Cylinders: string (nullable = true)\n",
            " |-- Displacement: string (nullable = true)\n",
            " |-- Horsepower: string (nullable = true)\n",
            " |-- Weight: string (nullable = true)\n",
            " |-- Acceleration: string (nullable = true)\n",
            " |-- Model: string (nullable = true)\n",
            " |-- Origin: string (nullable = true)\n",
            " |-- country: string (nullable = true)\n",
            "\n"
          ]
        }
      ]
    },
    {
      "cell_type": "markdown",
      "source": [
        "# Data Defintion Statements(DDL)"
      ],
      "metadata": {
        "id": "I-yoL6zPf-lS"
      }
    },
    {
      "cell_type": "code",
      "source": [
        "# 1. Create Database\n",
        "spark.sql(\"CREATE DATABASE IF NOT EXISTS mycar\")"
      ],
      "metadata": {
        "id": "g_fxqSD3gCMT",
        "outputId": "193a5743-3131-4e8b-ae18-e6e08eaed8d6",
        "colab": {
          "base_uri": "https://localhost:8080/"
        }
      },
      "execution_count": 19,
      "outputs": [
        {
          "output_type": "execute_result",
          "data": {
            "text/plain": [
              "DataFrame[]"
            ]
          },
          "metadata": {},
          "execution_count": 19
        }
      ]
    },
    {
      "cell_type": "code",
      "source": [
        "# 2. Show all databases\n",
        "spark.sql(\"SHOW DATABASES\").show()"
      ],
      "metadata": {
        "id": "-dU44RvWgGAf",
        "outputId": "b373134d-fe1a-43d5-d0f2-3a69a889c2e2",
        "colab": {
          "base_uri": "https://localhost:8080/"
        }
      },
      "execution_count": 20,
      "outputs": [
        {
          "output_type": "stream",
          "name": "stdout",
          "text": [
            "+---------+\n",
            "|namespace|\n",
            "+---------+\n",
            "|  default|\n",
            "|   my_car|\n",
            "|    mycar|\n",
            "+---------+\n",
            "\n"
          ]
        }
      ]
    },
    {
      "cell_type": "code",
      "source": [
        "# 3. Use my_car databases\n",
        "spark.sql(\"USE DATABASE my_car\").show()"
      ],
      "metadata": {
        "id": "QKhMG3pSga6f",
        "outputId": "2700cf06-9560-4e74-dff9-c6c6ae56be9b",
        "colab": {
          "base_uri": "https://localhost:8080/"
        }
      },
      "execution_count": 14,
      "outputs": [
        {
          "output_type": "stream",
          "name": "stdout",
          "text": [
            "++\n",
            "||\n",
            "++\n",
            "++\n",
            "\n"
          ]
        }
      ]
    },
    {
      "cell_type": "code",
      "source": [
        "# 4. Create table\n",
        "spark.sql(\"\"\"\n",
        "  CREATE TABLE alcars (name STRING, MPG DOUBLE) USING CSV\n",
        "\"\"\").show()"
      ],
      "metadata": {
        "id": "KbGEfn58gPyW",
        "outputId": "fc9cec30-fced-453e-80b2-c647d25c17f1",
        "colab": {
          "base_uri": "https://localhost:8080/"
        }
      },
      "execution_count": 21,
      "outputs": [
        {
          "output_type": "stream",
          "name": "stdout",
          "text": [
            "++\n",
            "||\n",
            "++\n",
            "++\n",
            "\n"
          ]
        }
      ]
    },
    {
      "cell_type": "code",
      "source": [
        "# 5. Show tables\n",
        "spark.sql(\"SHOW TABLES\").show()"
      ],
      "metadata": {
        "id": "xPI9vQTIgi9X",
        "outputId": "38735de9-7aeb-4f8e-b08e-c646dfdf106d",
        "colab": {
          "base_uri": "https://localhost:8080/"
        }
      },
      "execution_count": 22,
      "outputs": [
        {
          "output_type": "stream",
          "name": "stdout",
          "text": [
            "+---------+---------+-----------+\n",
            "|namespace|tableName|isTemporary|\n",
            "+---------+---------+-----------+\n",
            "|   my_car|   alcars|      false|\n",
            "|   my_car| all_cars|      false|\n",
            "|         |     cars|       true|\n",
            "+---------+---------+-----------+\n",
            "\n"
          ]
        }
      ]
    },
    {
      "cell_type": "markdown",
      "source": [
        "\n",
        "\n",
        "---\n",
        "\n"
      ],
      "metadata": {
        "id": "WvEIxO65rZdd"
      }
    }
  ]
}