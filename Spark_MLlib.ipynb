{
  "nbformat": 4,
  "nbformat_minor": 0,
  "metadata": {
    "colab": {
      "provenance": [],
      "collapsed_sections": [
        "Xu8UutdaFZjt",
        "uZ4f5KzrFeS5",
        "JIwKqkmxFgRn"
      ],
      "machine_shape": "hm",
      "gpuType": "T4",
      "include_colab_link": true
    },
    "kernelspec": {
      "name": "python3",
      "display_name": "Python 3"
    },
    "language_info": {
      "name": "python"
    },
    "accelerator": "GPU"
  },
  "cells": [
    {
      "cell_type": "markdown",
      "metadata": {
        "id": "view-in-github",
        "colab_type": "text"
      },
      "source": [
        "<a href=\"https://colab.research.google.com/github/arutraj/.githubcl/blob/main/Spark_MLlib.ipynb\" target=\"_parent\"><img src=\"https://colab.research.google.com/assets/colab-badge.svg\" alt=\"Open In Colab\"/></a>"
      ]
    },
    {
      "cell_type": "markdown",
      "source": [
        "# Install pyspark and customize Colab configuration\n",
        "\n",
        "\n",
        "The pyspark installation will persist until the runtime is recycled."
      ],
      "metadata": {
        "id": "Xu8UutdaFZjt"
      }
    },
    {
      "cell_type": "code",
      "execution_count": 1,
      "metadata": {
        "id": "KxYHzVIJEez0",
        "outputId": "ce8c2d6b-4f27-45ca-c9cf-fec80654d6ce",
        "colab": {
          "base_uri": "https://localhost:8080/",
          "height": 749
        }
      },
      "outputs": [
        {
          "output_type": "stream",
          "name": "stdout",
          "text": [
            "\u001b[33m\r0% [Working]\u001b[0m\r            \rHit:1 http://archive.ubuntu.com/ubuntu jammy InRelease\n",
            "\u001b[33m\r0% [Waiting for headers] [Connected to cloud.r-project.org (18.239.18.61)] [Con\u001b[0m\r                                                                               \rGet:2 http://archive.ubuntu.com/ubuntu jammy-updates InRelease [128 kB]\n",
            "\r                                                                               \rGet:3 http://security.ubuntu.com/ubuntu jammy-security InRelease [129 kB]\n",
            "\r                                                                               \rGet:4 https://cloud.r-project.org/bin/linux/ubuntu jammy-cran40/ InRelease [3,626 B]\n",
            "\u001b[33m\r0% [2 InRelease 46.0 kB/128 kB 36%] [Connecting to r2u.stat.illinois.edu (192.1\u001b[0m\u001b[33m\r0% [Connecting to r2u.stat.illinois.edu (192.17.190.167)] [Waiting for headers]\u001b[0m\r                                                                               \rGet:5 http://archive.ubuntu.com/ubuntu jammy-backports InRelease [127 kB]\n",
            "\u001b[33m\r0% [5 InRelease 14.2 kB/127 kB 11%] [Connecting to r2u.stat.illinois.edu (192.1\u001b[0m\u001b[33m\r0% [Connected to r2u.stat.illinois.edu (192.17.190.167)] [Waiting for headers] \u001b[0m\r                                                                               \rGet:6 https://developer.download.nvidia.com/compute/cuda/repos/ubuntu2204/x86_64  InRelease [1,581 B]\n",
            "\u001b[33m\r                                                                               \r0% [Connected to r2u.stat.illinois.edu (192.17.190.167)] [Waiting for headers]\u001b[0m\r                                                                              \rHit:7 https://ppa.launchpadcontent.net/deadsnakes/ppa/ubuntu jammy InRelease\n",
            "\u001b[33m\r                                                                              \r0% [Connected to r2u.stat.illinois.edu (192.17.190.167)]\u001b[0m\r                                                        \rHit:8 https://ppa.launchpadcontent.net/graphics-drivers/ppa/ubuntu jammy InRelease\n",
            "Hit:9 https://ppa.launchpadcontent.net/ubuntugis/ppa/ubuntu jammy InRelease\n",
            "Ign:10 https://r2u.stat.illinois.edu/ubuntu jammy InRelease\n",
            "Get:11 http://archive.ubuntu.com/ubuntu jammy-updates/main amd64 Packages [2,654 kB]\n",
            "Get:12 https://r2u.stat.illinois.edu/ubuntu jammy Release [5,713 B]\n",
            "Get:13 http://archive.ubuntu.com/ubuntu jammy-updates/universe amd64 Packages [1,450 kB]\n",
            "Get:14 https://r2u.stat.illinois.edu/ubuntu jammy Release.gpg [793 B]\n",
            "Get:15 https://developer.download.nvidia.com/compute/cuda/repos/ubuntu2204/x86_64  Packages [1,071 kB]\n",
            "Get:16 https://r2u.stat.illinois.edu/ubuntu jammy/main amd64 Packages [2,601 kB]\n",
            "Get:17 https://r2u.stat.illinois.edu/ubuntu jammy/main all Packages [8,425 kB]\n",
            "Fetched 16.6 MB in 3s (5,857 kB/s)\n",
            "Reading package lists... Done\n",
            "Building dependency tree... Done\n",
            "Reading state information... Done\n",
            "50 packages can be upgraded. Run 'apt list --upgradable' to see them.\n",
            "\u001b[1;33mW: \u001b[0mSkipping acquire of configured file 'main/source/Sources' as repository 'https://r2u.stat.illinois.edu/ubuntu jammy InRelease' does not seem to provide it (sources.list entry misspelt?)\u001b[0m\n",
            "tar: spark-3.2.1-bin-hadoop3.2.tgz: Cannot open: No such file or directory\n",
            "tar: Error is not recoverable: exiting now\n",
            "Requirement already satisfied: pyspark in /usr/local/lib/python3.10/dist-packages (3.5.3)\n",
            "Requirement already satisfied: py4j==0.10.9.7 in /usr/local/lib/python3.10/dist-packages (from pyspark) (0.10.9.7)\n",
            "Requirement already satisfied: py4j in /usr/local/lib/python3.10/dist-packages (0.10.9.7)\n",
            "Collecting ucimlrepo\n",
            "  Downloading ucimlrepo-0.0.7-py3-none-any.whl.metadata (5.5 kB)\n",
            "Requirement already satisfied: pandas>=1.0.0 in /usr/local/lib/python3.10/dist-packages (from ucimlrepo) (2.2.2)\n",
            "Requirement already satisfied: certifi>=2020.12.5 in /usr/local/lib/python3.10/dist-packages (from ucimlrepo) (2024.8.30)\n",
            "Requirement already satisfied: numpy>=1.22.4 in /usr/local/lib/python3.10/dist-packages (from pandas>=1.0.0->ucimlrepo) (1.26.4)\n",
            "Requirement already satisfied: python-dateutil>=2.8.2 in /usr/local/lib/python3.10/dist-packages (from pandas>=1.0.0->ucimlrepo) (2.8.2)\n",
            "Requirement already satisfied: pytz>=2020.1 in /usr/local/lib/python3.10/dist-packages (from pandas>=1.0.0->ucimlrepo) (2024.2)\n",
            "Requirement already satisfied: tzdata>=2022.7 in /usr/local/lib/python3.10/dist-packages (from pandas>=1.0.0->ucimlrepo) (2024.2)\n",
            "Requirement already satisfied: six>=1.5 in /usr/local/lib/python3.10/dist-packages (from python-dateutil>=2.8.2->pandas>=1.0.0->ucimlrepo) (1.16.0)\n",
            "Downloading ucimlrepo-0.0.7-py3-none-any.whl (8.0 kB)\n",
            "Installing collected packages: ucimlrepo\n",
            "Successfully installed ucimlrepo-0.0.7\n"
          ]
        },
        {
          "output_type": "execute_result",
          "data": {
            "text/plain": [
              "'/usr/local/lib/python3.10/dist-packages/pyspark'"
            ],
            "application/vnd.google.colaboratory.intrinsic+json": {
              "type": "string"
            }
          },
          "metadata": {},
          "execution_count": 1
        }
      ],
      "source": [
        "!sudo apt update\n",
        "!apt-get install openjdk-8-jdk-headless -qq > /dev/null\n",
        "#Check this site for the latest download link https://www.apache.org/dyn/closer.lua/spark/spark-3.2.1/spark-3.2.1-bin-hadoop3.2.tgz\n",
        "!wget -q https://dlcdn.apache.org/spark/spark-3.2.1/spark-3.2.1-bin-hadoop3.2.tgz\n",
        "!tar xf spark-3.2.1-bin-hadoop3.2.tgz\n",
        "!pip install -q findspark\n",
        "!pip install pyspark\n",
        "!pip install py4j\n",
        "!pip install ucimlrepo\n",
        "\n",
        "import os\n",
        "import sys\n",
        "# os.environ[\"JAVA_HOME\"] = \"/usr/lib/jvm/java-8-openjdk-amd64\"\n",
        "# os.environ[\"SPARK_HOME\"] = \"/content/spark-3.2.1-bin-hadoop3.2\"\n",
        "\n",
        "\n",
        "import findspark\n",
        "findspark.init()\n",
        "findspark.find()"
      ]
    },
    {
      "cell_type": "markdown",
      "source": [
        "# Initialize Spark"
      ],
      "metadata": {
        "id": "uZ4f5KzrFeS5"
      }
    },
    {
      "cell_type": "code",
      "source": [
        "import pyspark\n",
        "from pyspark import SparkContext\n",
        "\n",
        "from pyspark.sql import DataFrame, SparkSession\n",
        "from typing import List\n",
        "import pyspark.sql.types as T\n",
        "import pyspark.sql.functions as F\n",
        "\n",
        "spark= SparkSession \\\n",
        "       .builder \\\n",
        "       .appName(\"Our First Spark Example\") \\\n",
        "       .getOrCreate()\n",
        "\n",
        "sc = spark.sparkContext\n",
        "spark"
      ],
      "metadata": {
        "id": "t0Bv7bTXFZ_4",
        "outputId": "2f3873aa-3114-4058-bd3a-b8c892a49f33",
        "colab": {
          "base_uri": "https://localhost:8080/",
          "height": 219
        }
      },
      "execution_count": 2,
      "outputs": [
        {
          "output_type": "execute_result",
          "data": {
            "text/plain": [
              "<pyspark.sql.session.SparkSession at 0x7d33aad04a00>"
            ],
            "text/html": [
              "\n",
              "            <div>\n",
              "                <p><b>SparkSession - in-memory</b></p>\n",
              "                \n",
              "        <div>\n",
              "            <p><b>SparkContext</b></p>\n",
              "\n",
              "            <p><a href=\"http://6bd114535533:4040\">Spark UI</a></p>\n",
              "\n",
              "            <dl>\n",
              "              <dt>Version</dt>\n",
              "                <dd><code>v3.5.3</code></dd>\n",
              "              <dt>Master</dt>\n",
              "                <dd><code>local[*]</code></dd>\n",
              "              <dt>AppName</dt>\n",
              "                <dd><code>Our First Spark Example</code></dd>\n",
              "            </dl>\n",
              "        </div>\n",
              "        \n",
              "            </div>\n",
              "        "
            ]
          },
          "metadata": {},
          "execution_count": 2
        }
      ]
    },
    {
      "cell_type": "markdown",
      "source": [
        "# Load Bank Dataset"
      ],
      "metadata": {
        "id": "JIwKqkmxFgRn"
      }
    },
    {
      "cell_type": "code",
      "source": [
        "import pandas as pd\n",
        "from ucimlrepo import fetch_ucirepo\n",
        "\n",
        "# fetch dataset\n",
        "bank_marketing = fetch_ucirepo(id=222)\n",
        "\n",
        "# data (as pandas dataframes)\n",
        "dataset_X = bank_marketing.data.features\n",
        "dataset_y = bank_marketing.data.targets\n",
        "\n",
        "dataset = pd.concat([dataset_X, dataset_y], axis=1)\n",
        "dataset.rename(columns={\"y\": \"deposit\"}, inplace=True)\n",
        "\n",
        "sdf = spark.createDataFrame(dataset)\n",
        "sdf.createOrReplaceTempView(\"bank_data\")"
      ],
      "metadata": {
        "id": "WAUV8oBDbY8G"
      },
      "execution_count": 7,
      "outputs": []
    },
    {
      "cell_type": "code",
      "source": [
        "sdf.show()"
      ],
      "metadata": {
        "id": "Y4uKoCthIneD",
        "outputId": "a01343b9-5ea2-4dba-9174-9ff75d87cfcd",
        "colab": {
          "base_uri": "https://localhost:8080/"
        }
      },
      "execution_count": 8,
      "outputs": [
        {
          "output_type": "stream",
          "name": "stdout",
          "text": [
            "+---+------------+--------+---------+-------+-------+-------+----+-------+-----------+-----+--------+--------+-----+--------+--------+-------+\n",
            "|age|         job| marital|education|default|balance|housing|loan|contact|day_of_week|month|duration|campaign|pdays|previous|poutcome|deposit|\n",
            "+---+------------+--------+---------+-------+-------+-------+----+-------+-----------+-----+--------+--------+-----+--------+--------+-------+\n",
            "| 58|  management| married| tertiary|     no|   2143|    yes|  no|    NaN|          5|  may|     261|       1|   -1|       0|     NaN|     no|\n",
            "| 44|  technician|  single|secondary|     no|     29|    yes|  no|    NaN|          5|  may|     151|       1|   -1|       0|     NaN|     no|\n",
            "| 33|entrepreneur| married|secondary|     no|      2|    yes| yes|    NaN|          5|  may|      76|       1|   -1|       0|     NaN|     no|\n",
            "| 47| blue-collar| married|      NaN|     no|   1506|    yes|  no|    NaN|          5|  may|      92|       1|   -1|       0|     NaN|     no|\n",
            "| 33|         NaN|  single|      NaN|     no|      1|     no|  no|    NaN|          5|  may|     198|       1|   -1|       0|     NaN|     no|\n",
            "| 35|  management| married| tertiary|     no|    231|    yes|  no|    NaN|          5|  may|     139|       1|   -1|       0|     NaN|     no|\n",
            "| 28|  management|  single| tertiary|     no|    447|    yes| yes|    NaN|          5|  may|     217|       1|   -1|       0|     NaN|     no|\n",
            "| 42|entrepreneur|divorced| tertiary|    yes|      2|    yes|  no|    NaN|          5|  may|     380|       1|   -1|       0|     NaN|     no|\n",
            "| 58|     retired| married|  primary|     no|    121|    yes|  no|    NaN|          5|  may|      50|       1|   -1|       0|     NaN|     no|\n",
            "| 43|  technician|  single|secondary|     no|    593|    yes|  no|    NaN|          5|  may|      55|       1|   -1|       0|     NaN|     no|\n",
            "| 41|      admin.|divorced|secondary|     no|    270|    yes|  no|    NaN|          5|  may|     222|       1|   -1|       0|     NaN|     no|\n",
            "| 29|      admin.|  single|secondary|     no|    390|    yes|  no|    NaN|          5|  may|     137|       1|   -1|       0|     NaN|     no|\n",
            "| 53|  technician| married|secondary|     no|      6|    yes|  no|    NaN|          5|  may|     517|       1|   -1|       0|     NaN|     no|\n",
            "| 58|  technician| married|      NaN|     no|     71|    yes|  no|    NaN|          5|  may|      71|       1|   -1|       0|     NaN|     no|\n",
            "| 57|    services| married|secondary|     no|    162|    yes|  no|    NaN|          5|  may|     174|       1|   -1|       0|     NaN|     no|\n",
            "| 51|     retired| married|  primary|     no|    229|    yes|  no|    NaN|          5|  may|     353|       1|   -1|       0|     NaN|     no|\n",
            "| 45|      admin.|  single|      NaN|     no|     13|    yes|  no|    NaN|          5|  may|      98|       1|   -1|       0|     NaN|     no|\n",
            "| 57| blue-collar| married|  primary|     no|     52|    yes|  no|    NaN|          5|  may|      38|       1|   -1|       0|     NaN|     no|\n",
            "| 60|     retired| married|  primary|     no|     60|    yes|  no|    NaN|          5|  may|     219|       1|   -1|       0|     NaN|     no|\n",
            "| 33|    services| married|secondary|     no|      0|    yes|  no|    NaN|          5|  may|      54|       1|   -1|       0|     NaN|     no|\n",
            "+---+------------+--------+---------+-------+-------+-------+----+-------+-----------+-----+--------+--------+-----+--------+--------+-------+\n",
            "only showing top 20 rows\n",
            "\n"
          ]
        }
      ]
    },
    {
      "cell_type": "code",
      "source": [
        "# Define python function to calculate power to weight ratio\n",
        "def get_power_weight_ratio(hp, weight):\n",
        "  return float(hp) / float(weight)\n",
        "\n",
        "# Register UDF to be used with SQL\n",
        "spark.udf.register(\"get_power_weight_ratio\", get_power_weight_ratio, T.DoubleType())\n",
        "\n",
        "# Using UDF to create a new column and sorting in descending orders\n",
        "spark.sql(\"SELECT *, ROUND(get_power_weight_ratio(Horsepower, Weight), 4) AS power_weight_ratio FROM cars ORDER BY power_weight_ratio DESC\").show()"
      ],
      "metadata": {
        "id": "F_gagBZsyf8M",
        "collapsed": true,
        "outputId": "4089c46d-2710-40c7-91a6-eaaacd7bda49",
        "colab": {
          "base_uri": "https://localhost:8080/",
          "height": 497
        }
      },
      "execution_count": 5,
      "outputs": [
        {
          "output_type": "error",
          "ename": "AnalysisException",
          "evalue": "[UNRESOLVED_COLUMN.WITH_SUGGESTION] A column or function parameter with name `Horsepower` cannot be resolved. Did you mean one of the following? [`deposit`, `poutcome`, `previous`, `age`, `balance`].; line 1 pos 39;\n'Sort ['power_weight_ratio DESC NULLS LAST], true\n+- 'Project [age#0L, job#1, marital#2, education#3, default#4, balance#5L, housing#6, loan#7, contact#8, day_of_week#9L, month#10, duration#11L, campaign#12L, pdays#13L, previous#14L, poutcome#15, deposit#16, 'ROUND('get_power_weight_ratio('Horsepower, 'Weight), 4) AS power_weight_ratio#103]\n   +- SubqueryAlias cars\n      +- View (`cars`, [age#0L,job#1,marital#2,education#3,default#4,balance#5L,housing#6,loan#7,contact#8,day_of_week#9L,month#10,duration#11L,campaign#12L,pdays#13L,previous#14L,poutcome#15,deposit#16])\n         +- LogicalRDD [age#0L, job#1, marital#2, education#3, default#4, balance#5L, housing#6, loan#7, contact#8, day_of_week#9L, month#10, duration#11L, campaign#12L, pdays#13L, previous#14L, poutcome#15, deposit#16], false\n",
          "traceback": [
            "\u001b[0;31m---------------------------------------------------------------------------\u001b[0m",
            "\u001b[0;31mAnalysisException\u001b[0m                         Traceback (most recent call last)",
            "\u001b[0;32m<ipython-input-5-f12e7edf12bb>\u001b[0m in \u001b[0;36m<cell line: 9>\u001b[0;34m()\u001b[0m\n\u001b[1;32m      7\u001b[0m \u001b[0;34m\u001b[0m\u001b[0m\n\u001b[1;32m      8\u001b[0m \u001b[0;31m# Using UDF to create a new column and sorting in descending orders\u001b[0m\u001b[0;34m\u001b[0m\u001b[0;34m\u001b[0m\u001b[0m\n\u001b[0;32m----> 9\u001b[0;31m \u001b[0mspark\u001b[0m\u001b[0;34m.\u001b[0m\u001b[0msql\u001b[0m\u001b[0;34m(\u001b[0m\u001b[0;34m\"SELECT *, ROUND(get_power_weight_ratio(Horsepower, Weight), 4) AS power_weight_ratio FROM cars ORDER BY power_weight_ratio DESC\"\u001b[0m\u001b[0;34m)\u001b[0m\u001b[0;34m.\u001b[0m\u001b[0mshow\u001b[0m\u001b[0;34m(\u001b[0m\u001b[0;34m)\u001b[0m\u001b[0;34m\u001b[0m\u001b[0;34m\u001b[0m\u001b[0m\n\u001b[0m",
            "\u001b[0;32m/usr/local/lib/python3.10/dist-packages/pyspark/sql/session.py\u001b[0m in \u001b[0;36msql\u001b[0;34m(self, sqlQuery, args, **kwargs)\u001b[0m\n\u001b[1;32m   1629\u001b[0m                     \u001b[0;34m[\u001b[0m\u001b[0m_to_java_column\u001b[0m\u001b[0;34m(\u001b[0m\u001b[0mlit\u001b[0m\u001b[0;34m(\u001b[0m\u001b[0mv\u001b[0m\u001b[0;34m)\u001b[0m\u001b[0;34m)\u001b[0m \u001b[0;32mfor\u001b[0m \u001b[0mv\u001b[0m \u001b[0;32min\u001b[0m \u001b[0;34m(\u001b[0m\u001b[0margs\u001b[0m \u001b[0;32mor\u001b[0m \u001b[0;34m[\u001b[0m\u001b[0;34m]\u001b[0m\u001b[0;34m)\u001b[0m\u001b[0;34m]\u001b[0m\u001b[0;34m\u001b[0m\u001b[0;34m\u001b[0m\u001b[0m\n\u001b[1;32m   1630\u001b[0m                 )\n\u001b[0;32m-> 1631\u001b[0;31m             \u001b[0;32mreturn\u001b[0m \u001b[0mDataFrame\u001b[0m\u001b[0;34m(\u001b[0m\u001b[0mself\u001b[0m\u001b[0;34m.\u001b[0m\u001b[0m_jsparkSession\u001b[0m\u001b[0;34m.\u001b[0m\u001b[0msql\u001b[0m\u001b[0;34m(\u001b[0m\u001b[0msqlQuery\u001b[0m\u001b[0;34m,\u001b[0m \u001b[0mlitArgs\u001b[0m\u001b[0;34m)\u001b[0m\u001b[0;34m,\u001b[0m \u001b[0mself\u001b[0m\u001b[0;34m)\u001b[0m\u001b[0;34m\u001b[0m\u001b[0;34m\u001b[0m\u001b[0m\n\u001b[0m\u001b[1;32m   1632\u001b[0m         \u001b[0;32mfinally\u001b[0m\u001b[0;34m:\u001b[0m\u001b[0;34m\u001b[0m\u001b[0;34m\u001b[0m\u001b[0m\n\u001b[1;32m   1633\u001b[0m             \u001b[0;32mif\u001b[0m \u001b[0mlen\u001b[0m\u001b[0;34m(\u001b[0m\u001b[0mkwargs\u001b[0m\u001b[0;34m)\u001b[0m \u001b[0;34m>\u001b[0m \u001b[0;36m0\u001b[0m\u001b[0;34m:\u001b[0m\u001b[0;34m\u001b[0m\u001b[0;34m\u001b[0m\u001b[0m\n",
            "\u001b[0;32m/usr/local/lib/python3.10/dist-packages/py4j/java_gateway.py\u001b[0m in \u001b[0;36m__call__\u001b[0;34m(self, *args)\u001b[0m\n\u001b[1;32m   1320\u001b[0m \u001b[0;34m\u001b[0m\u001b[0m\n\u001b[1;32m   1321\u001b[0m         \u001b[0manswer\u001b[0m \u001b[0;34m=\u001b[0m \u001b[0mself\u001b[0m\u001b[0;34m.\u001b[0m\u001b[0mgateway_client\u001b[0m\u001b[0;34m.\u001b[0m\u001b[0msend_command\u001b[0m\u001b[0;34m(\u001b[0m\u001b[0mcommand\u001b[0m\u001b[0;34m)\u001b[0m\u001b[0;34m\u001b[0m\u001b[0;34m\u001b[0m\u001b[0m\n\u001b[0;32m-> 1322\u001b[0;31m         return_value = get_return_value(\n\u001b[0m\u001b[1;32m   1323\u001b[0m             answer, self.gateway_client, self.target_id, self.name)\n\u001b[1;32m   1324\u001b[0m \u001b[0;34m\u001b[0m\u001b[0m\n",
            "\u001b[0;32m/usr/local/lib/python3.10/dist-packages/pyspark/errors/exceptions/captured.py\u001b[0m in \u001b[0;36mdeco\u001b[0;34m(*a, **kw)\u001b[0m\n\u001b[1;32m    183\u001b[0m                 \u001b[0;31m# Hide where the exception came from that shows a non-Pythonic\u001b[0m\u001b[0;34m\u001b[0m\u001b[0;34m\u001b[0m\u001b[0m\n\u001b[1;32m    184\u001b[0m                 \u001b[0;31m# JVM exception message.\u001b[0m\u001b[0;34m\u001b[0m\u001b[0;34m\u001b[0m\u001b[0m\n\u001b[0;32m--> 185\u001b[0;31m                 \u001b[0;32mraise\u001b[0m \u001b[0mconverted\u001b[0m \u001b[0;32mfrom\u001b[0m \u001b[0;32mNone\u001b[0m\u001b[0;34m\u001b[0m\u001b[0;34m\u001b[0m\u001b[0m\n\u001b[0m\u001b[1;32m    186\u001b[0m             \u001b[0;32melse\u001b[0m\u001b[0;34m:\u001b[0m\u001b[0;34m\u001b[0m\u001b[0;34m\u001b[0m\u001b[0m\n\u001b[1;32m    187\u001b[0m                 \u001b[0;32mraise\u001b[0m\u001b[0;34m\u001b[0m\u001b[0;34m\u001b[0m\u001b[0m\n",
            "\u001b[0;31mAnalysisException\u001b[0m: [UNRESOLVED_COLUMN.WITH_SUGGESTION] A column or function parameter with name `Horsepower` cannot be resolved. Did you mean one of the following? [`deposit`, `poutcome`, `previous`, `age`, `balance`].; line 1 pos 39;\n'Sort ['power_weight_ratio DESC NULLS LAST], true\n+- 'Project [age#0L, job#1, marital#2, education#3, default#4, balance#5L, housing#6, loan#7, contact#8, day_of_week#9L, month#10, duration#11L, campaign#12L, pdays#13L, previous#14L, poutcome#15, deposit#16, 'ROUND('get_power_weight_ratio('Horsepower, 'Weight), 4) AS power_weight_ratio#103]\n   +- SubqueryAlias cars\n      +- View (`cars`, [age#0L,job#1,marital#2,education#3,default#4,balance#5L,housing#6,loan#7,contact#8,day_of_week#9L,month#10,duration#11L,campaign#12L,pdays#13L,previous#14L,poutcome#15,deposit#16])\n         +- LogicalRDD [age#0L, job#1, marital#2, education#3, default#4, balance#5L, housing#6, loan#7, contact#8, day_of_week#9L, month#10, duration#11L, campaign#12L, pdays#13L, previous#14L, poutcome#15, deposit#16], false\n"
          ]
        }
      ]
    },
    {
      "cell_type": "markdown",
      "source": [
        "# Supervised Machine Learning"
      ],
      "metadata": {
        "id": "49DQgnZI0Fvo"
      }
    },
    {
      "cell_type": "code",
      "source": [
        "# Checking the data imbalance\n",
        "sdf.groupBy('deposit').agg(F.count('*').alias(\"count\")).show()"
      ],
      "metadata": {
        "id": "ZURqKJBY0J5k",
        "outputId": "5aacd3b0-0954-4d1a-e7a9-3e116cbdd177",
        "colab": {
          "base_uri": "https://localhost:8080/"
        }
      },
      "execution_count": 9,
      "outputs": [
        {
          "output_type": "stream",
          "name": "stdout",
          "text": [
            "+-------+-----+\n",
            "|deposit|count|\n",
            "+-------+-----+\n",
            "|     no|39922|\n",
            "|    yes| 5289|\n",
            "+-------+-----+\n",
            "\n"
          ]
        }
      ]
    },
    {
      "cell_type": "code",
      "source": [
        "# Stratified sampling to balance the dataset\n",
        "fractions = {\n",
        "    \"no\": 0.15,\n",
        "    \"yes\": 1.0\n",
        "}\n",
        "\n",
        "sdf = sdf.sampleBy(\"deposit\", fractions, seed=42)"
      ],
      "metadata": {
        "id": "ZWRuI5SD4dNa"
      },
      "execution_count": 10,
      "outputs": []
    },
    {
      "cell_type": "code",
      "source": [
        "# Checking the data imbalance\n",
        "sdf.groupBy('deposit').agg(F.count('*').alias(\"count\")).show()"
      ],
      "metadata": {
        "id": "0GrSYJzt5QMH",
        "outputId": "3d5983a7-077d-40f8-c478-395a204dd43b",
        "colab": {
          "base_uri": "https://localhost:8080/"
        }
      },
      "execution_count": 11,
      "outputs": [
        {
          "output_type": "stream",
          "name": "stdout",
          "text": [
            "+-------+-----+\n",
            "|deposit|count|\n",
            "+-------+-----+\n",
            "|     no| 5973|\n",
            "|    yes| 5289|\n",
            "+-------+-----+\n",
            "\n"
          ]
        }
      ]
    },
    {
      "cell_type": "markdown",
      "source": [
        "### Summary statistics for numeric variables"
      ],
      "metadata": {
        "id": "31nrhtFw5Z5t"
      }
    },
    {
      "cell_type": "code",
      "source": [
        "# statistics for all columns with numerical variables\n",
        "\n",
        "numeric_features = [t[0] for t in sdf.dtypes if t[1] in ['int', 'bigint', 'float', 'double']]\n",
        "sdf.select(numeric_features).describe().toPandas().transpose()"
      ],
      "metadata": {
        "id": "DvzlljP-5b8s",
        "outputId": "165f98f9-6c41-4b42-f668-5fea0313325d",
        "colab": {
          "base_uri": "https://localhost:8080/",
          "height": 300
        }
      },
      "execution_count": 12,
      "outputs": [
        {
          "output_type": "execute_result",
          "data": {
            "text/plain": [
              "                 0                   1                   2      3      4\n",
              "summary      count                mean              stddev    min    max\n",
              "age          11262   41.34833954892559  11.886038147594325     18     95\n",
              "balance      11262  1544.8779968034096   3231.137341840109  -8019  81204\n",
              "day_of_week  11262  15.488012786361216   8.377376396186428      1     31\n",
              "duration     11262   369.2394778902504   345.2136721708763      0   3881\n",
              "campaign     11262   2.513141537915113   2.664956670363362      1     43\n",
              "pdays        11262   50.23654768247203  107.10815307320459     -1    854\n",
              "previous     11262  0.8019889895222874   2.209449144538357      0     58"
            ],
            "text/html": [
              "\n",
              "  <div id=\"df-96987a82-107c-40ce-9211-e20cf0b1b8a4\" class=\"colab-df-container\">\n",
              "    <div>\n",
              "<style scoped>\n",
              "    .dataframe tbody tr th:only-of-type {\n",
              "        vertical-align: middle;\n",
              "    }\n",
              "\n",
              "    .dataframe tbody tr th {\n",
              "        vertical-align: top;\n",
              "    }\n",
              "\n",
              "    .dataframe thead th {\n",
              "        text-align: right;\n",
              "    }\n",
              "</style>\n",
              "<table border=\"1\" class=\"dataframe\">\n",
              "  <thead>\n",
              "    <tr style=\"text-align: right;\">\n",
              "      <th></th>\n",
              "      <th>0</th>\n",
              "      <th>1</th>\n",
              "      <th>2</th>\n",
              "      <th>3</th>\n",
              "      <th>4</th>\n",
              "    </tr>\n",
              "  </thead>\n",
              "  <tbody>\n",
              "    <tr>\n",
              "      <th>summary</th>\n",
              "      <td>count</td>\n",
              "      <td>mean</td>\n",
              "      <td>stddev</td>\n",
              "      <td>min</td>\n",
              "      <td>max</td>\n",
              "    </tr>\n",
              "    <tr>\n",
              "      <th>age</th>\n",
              "      <td>11262</td>\n",
              "      <td>41.34833954892559</td>\n",
              "      <td>11.886038147594325</td>\n",
              "      <td>18</td>\n",
              "      <td>95</td>\n",
              "    </tr>\n",
              "    <tr>\n",
              "      <th>balance</th>\n",
              "      <td>11262</td>\n",
              "      <td>1544.8779968034096</td>\n",
              "      <td>3231.137341840109</td>\n",
              "      <td>-8019</td>\n",
              "      <td>81204</td>\n",
              "    </tr>\n",
              "    <tr>\n",
              "      <th>day_of_week</th>\n",
              "      <td>11262</td>\n",
              "      <td>15.488012786361216</td>\n",
              "      <td>8.377376396186428</td>\n",
              "      <td>1</td>\n",
              "      <td>31</td>\n",
              "    </tr>\n",
              "    <tr>\n",
              "      <th>duration</th>\n",
              "      <td>11262</td>\n",
              "      <td>369.2394778902504</td>\n",
              "      <td>345.2136721708763</td>\n",
              "      <td>0</td>\n",
              "      <td>3881</td>\n",
              "    </tr>\n",
              "    <tr>\n",
              "      <th>campaign</th>\n",
              "      <td>11262</td>\n",
              "      <td>2.513141537915113</td>\n",
              "      <td>2.664956670363362</td>\n",
              "      <td>1</td>\n",
              "      <td>43</td>\n",
              "    </tr>\n",
              "    <tr>\n",
              "      <th>pdays</th>\n",
              "      <td>11262</td>\n",
              "      <td>50.23654768247203</td>\n",
              "      <td>107.10815307320459</td>\n",
              "      <td>-1</td>\n",
              "      <td>854</td>\n",
              "    </tr>\n",
              "    <tr>\n",
              "      <th>previous</th>\n",
              "      <td>11262</td>\n",
              "      <td>0.8019889895222874</td>\n",
              "      <td>2.209449144538357</td>\n",
              "      <td>0</td>\n",
              "      <td>58</td>\n",
              "    </tr>\n",
              "  </tbody>\n",
              "</table>\n",
              "</div>\n",
              "    <div class=\"colab-df-buttons\">\n",
              "\n",
              "  <div class=\"colab-df-container\">\n",
              "    <button class=\"colab-df-convert\" onclick=\"convertToInteractive('df-96987a82-107c-40ce-9211-e20cf0b1b8a4')\"\n",
              "            title=\"Convert this dataframe to an interactive table.\"\n",
              "            style=\"display:none;\">\n",
              "\n",
              "  <svg xmlns=\"http://www.w3.org/2000/svg\" height=\"24px\" viewBox=\"0 -960 960 960\">\n",
              "    <path d=\"M120-120v-720h720v720H120Zm60-500h600v-160H180v160Zm220 220h160v-160H400v160Zm0 220h160v-160H400v160ZM180-400h160v-160H180v160Zm440 0h160v-160H620v160ZM180-180h160v-160H180v160Zm440 0h160v-160H620v160Z\"/>\n",
              "  </svg>\n",
              "    </button>\n",
              "\n",
              "  <style>\n",
              "    .colab-df-container {\n",
              "      display:flex;\n",
              "      gap: 12px;\n",
              "    }\n",
              "\n",
              "    .colab-df-convert {\n",
              "      background-color: #E8F0FE;\n",
              "      border: none;\n",
              "      border-radius: 50%;\n",
              "      cursor: pointer;\n",
              "      display: none;\n",
              "      fill: #1967D2;\n",
              "      height: 32px;\n",
              "      padding: 0 0 0 0;\n",
              "      width: 32px;\n",
              "    }\n",
              "\n",
              "    .colab-df-convert:hover {\n",
              "      background-color: #E2EBFA;\n",
              "      box-shadow: 0px 1px 2px rgba(60, 64, 67, 0.3), 0px 1px 3px 1px rgba(60, 64, 67, 0.15);\n",
              "      fill: #174EA6;\n",
              "    }\n",
              "\n",
              "    .colab-df-buttons div {\n",
              "      margin-bottom: 4px;\n",
              "    }\n",
              "\n",
              "    [theme=dark] .colab-df-convert {\n",
              "      background-color: #3B4455;\n",
              "      fill: #D2E3FC;\n",
              "    }\n",
              "\n",
              "    [theme=dark] .colab-df-convert:hover {\n",
              "      background-color: #434B5C;\n",
              "      box-shadow: 0px 1px 3px 1px rgba(0, 0, 0, 0.15);\n",
              "      filter: drop-shadow(0px 1px 2px rgba(0, 0, 0, 0.3));\n",
              "      fill: #FFFFFF;\n",
              "    }\n",
              "  </style>\n",
              "\n",
              "    <script>\n",
              "      const buttonEl =\n",
              "        document.querySelector('#df-96987a82-107c-40ce-9211-e20cf0b1b8a4 button.colab-df-convert');\n",
              "      buttonEl.style.display =\n",
              "        google.colab.kernel.accessAllowed ? 'block' : 'none';\n",
              "\n",
              "      async function convertToInteractive(key) {\n",
              "        const element = document.querySelector('#df-96987a82-107c-40ce-9211-e20cf0b1b8a4');\n",
              "        const dataTable =\n",
              "          await google.colab.kernel.invokeFunction('convertToInteractive',\n",
              "                                                    [key], {});\n",
              "        if (!dataTable) return;\n",
              "\n",
              "        const docLinkHtml = 'Like what you see? Visit the ' +\n",
              "          '<a target=\"_blank\" href=https://colab.research.google.com/notebooks/data_table.ipynb>data table notebook</a>'\n",
              "          + ' to learn more about interactive tables.';\n",
              "        element.innerHTML = '';\n",
              "        dataTable['output_type'] = 'display_data';\n",
              "        await google.colab.output.renderOutput(dataTable, element);\n",
              "        const docLink = document.createElement('div');\n",
              "        docLink.innerHTML = docLinkHtml;\n",
              "        element.appendChild(docLink);\n",
              "      }\n",
              "    </script>\n",
              "  </div>\n",
              "\n",
              "\n",
              "<div id=\"df-7f2e6ebb-0269-4fa3-85b5-3249ef82ed65\">\n",
              "  <button class=\"colab-df-quickchart\" onclick=\"quickchart('df-7f2e6ebb-0269-4fa3-85b5-3249ef82ed65')\"\n",
              "            title=\"Suggest charts\"\n",
              "            style=\"display:none;\">\n",
              "\n",
              "<svg xmlns=\"http://www.w3.org/2000/svg\" height=\"24px\"viewBox=\"0 0 24 24\"\n",
              "     width=\"24px\">\n",
              "    <g>\n",
              "        <path d=\"M19 3H5c-1.1 0-2 .9-2 2v14c0 1.1.9 2 2 2h14c1.1 0 2-.9 2-2V5c0-1.1-.9-2-2-2zM9 17H7v-7h2v7zm4 0h-2V7h2v10zm4 0h-2v-4h2v4z\"/>\n",
              "    </g>\n",
              "</svg>\n",
              "  </button>\n",
              "\n",
              "<style>\n",
              "  .colab-df-quickchart {\n",
              "      --bg-color: #E8F0FE;\n",
              "      --fill-color: #1967D2;\n",
              "      --hover-bg-color: #E2EBFA;\n",
              "      --hover-fill-color: #174EA6;\n",
              "      --disabled-fill-color: #AAA;\n",
              "      --disabled-bg-color: #DDD;\n",
              "  }\n",
              "\n",
              "  [theme=dark] .colab-df-quickchart {\n",
              "      --bg-color: #3B4455;\n",
              "      --fill-color: #D2E3FC;\n",
              "      --hover-bg-color: #434B5C;\n",
              "      --hover-fill-color: #FFFFFF;\n",
              "      --disabled-bg-color: #3B4455;\n",
              "      --disabled-fill-color: #666;\n",
              "  }\n",
              "\n",
              "  .colab-df-quickchart {\n",
              "    background-color: var(--bg-color);\n",
              "    border: none;\n",
              "    border-radius: 50%;\n",
              "    cursor: pointer;\n",
              "    display: none;\n",
              "    fill: var(--fill-color);\n",
              "    height: 32px;\n",
              "    padding: 0;\n",
              "    width: 32px;\n",
              "  }\n",
              "\n",
              "  .colab-df-quickchart:hover {\n",
              "    background-color: var(--hover-bg-color);\n",
              "    box-shadow: 0 1px 2px rgba(60, 64, 67, 0.3), 0 1px 3px 1px rgba(60, 64, 67, 0.15);\n",
              "    fill: var(--button-hover-fill-color);\n",
              "  }\n",
              "\n",
              "  .colab-df-quickchart-complete:disabled,\n",
              "  .colab-df-quickchart-complete:disabled:hover {\n",
              "    background-color: var(--disabled-bg-color);\n",
              "    fill: var(--disabled-fill-color);\n",
              "    box-shadow: none;\n",
              "  }\n",
              "\n",
              "  .colab-df-spinner {\n",
              "    border: 2px solid var(--fill-color);\n",
              "    border-color: transparent;\n",
              "    border-bottom-color: var(--fill-color);\n",
              "    animation:\n",
              "      spin 1s steps(1) infinite;\n",
              "  }\n",
              "\n",
              "  @keyframes spin {\n",
              "    0% {\n",
              "      border-color: transparent;\n",
              "      border-bottom-color: var(--fill-color);\n",
              "      border-left-color: var(--fill-color);\n",
              "    }\n",
              "    20% {\n",
              "      border-color: transparent;\n",
              "      border-left-color: var(--fill-color);\n",
              "      border-top-color: var(--fill-color);\n",
              "    }\n",
              "    30% {\n",
              "      border-color: transparent;\n",
              "      border-left-color: var(--fill-color);\n",
              "      border-top-color: var(--fill-color);\n",
              "      border-right-color: var(--fill-color);\n",
              "    }\n",
              "    40% {\n",
              "      border-color: transparent;\n",
              "      border-right-color: var(--fill-color);\n",
              "      border-top-color: var(--fill-color);\n",
              "    }\n",
              "    60% {\n",
              "      border-color: transparent;\n",
              "      border-right-color: var(--fill-color);\n",
              "    }\n",
              "    80% {\n",
              "      border-color: transparent;\n",
              "      border-right-color: var(--fill-color);\n",
              "      border-bottom-color: var(--fill-color);\n",
              "    }\n",
              "    90% {\n",
              "      border-color: transparent;\n",
              "      border-bottom-color: var(--fill-color);\n",
              "    }\n",
              "  }\n",
              "</style>\n",
              "\n",
              "  <script>\n",
              "    async function quickchart(key) {\n",
              "      const quickchartButtonEl =\n",
              "        document.querySelector('#' + key + ' button');\n",
              "      quickchartButtonEl.disabled = true;  // To prevent multiple clicks.\n",
              "      quickchartButtonEl.classList.add('colab-df-spinner');\n",
              "      try {\n",
              "        const charts = await google.colab.kernel.invokeFunction(\n",
              "            'suggestCharts', [key], {});\n",
              "      } catch (error) {\n",
              "        console.error('Error during call to suggestCharts:', error);\n",
              "      }\n",
              "      quickchartButtonEl.classList.remove('colab-df-spinner');\n",
              "      quickchartButtonEl.classList.add('colab-df-quickchart-complete');\n",
              "    }\n",
              "    (() => {\n",
              "      let quickchartButtonEl =\n",
              "        document.querySelector('#df-7f2e6ebb-0269-4fa3-85b5-3249ef82ed65 button');\n",
              "      quickchartButtonEl.style.display =\n",
              "        google.colab.kernel.accessAllowed ? 'block' : 'none';\n",
              "    })();\n",
              "  </script>\n",
              "</div>\n",
              "\n",
              "    </div>\n",
              "  </div>\n"
            ],
            "application/vnd.google.colaboratory.intrinsic+json": {
              "type": "dataframe",
              "summary": "{\n  \"name\": \"sdf\",\n  \"rows\": 8,\n  \"fields\": [\n    {\n      \"column\": 0,\n      \"properties\": {\n        \"dtype\": \"category\",\n        \"num_unique_values\": 2,\n        \"samples\": [\n          \"11262\",\n          \"count\"\n        ],\n        \"semantic_type\": \"\",\n        \"description\": \"\"\n      }\n    },\n    {\n      \"column\": 1,\n      \"properties\": {\n        \"dtype\": \"string\",\n        \"num_unique_values\": 8,\n        \"samples\": [\n          \"41.34833954892559\",\n          \"2.513141537915113\"\n        ],\n        \"semantic_type\": \"\",\n        \"description\": \"\"\n      }\n    },\n    {\n      \"column\": 2,\n      \"properties\": {\n        \"dtype\": \"string\",\n        \"num_unique_values\": 8,\n        \"samples\": [\n          \"11.886038147594325\",\n          \"2.664956670363362\"\n        ],\n        \"semantic_type\": \"\",\n        \"description\": \"\"\n      }\n    },\n    {\n      \"column\": 3,\n      \"properties\": {\n        \"dtype\": \"string\",\n        \"num_unique_values\": 6,\n        \"samples\": [\n          \"min\",\n          \"18\"\n        ],\n        \"semantic_type\": \"\",\n        \"description\": \"\"\n      }\n    },\n    {\n      \"column\": 4,\n      \"properties\": {\n        \"dtype\": \"string\",\n        \"num_unique_values\": 8,\n        \"samples\": [\n          \"95\",\n          \"43\"\n        ],\n        \"semantic_type\": \"\",\n        \"description\": \"\"\n      }\n    }\n  ]\n}"
            }
          },
          "metadata": {},
          "execution_count": 12
        }
      ]
    },
    {
      "cell_type": "markdown",
      "source": [
        " - day and month columns are not really useful, we will remove these two columns."
      ],
      "metadata": {
        "id": "lHrw0See51Jv"
      }
    },
    {
      "cell_type": "code",
      "source": [
        "sdf = sdf.select(\n",
        "    'age', 'job', 'marital', 'education', 'default', 'balance', 'housing', 'loan',\n",
        "    'contact', 'duration', 'campaign', 'pdays', 'previous', 'poutcome', 'deposit'\n",
        ")\n",
        "cols = sdf.columns\n",
        "sdf.printSchema()"
      ],
      "metadata": {
        "id": "bmVAJ1rQ51rV",
        "outputId": "c0e19a1c-5c4c-4103-8f0a-de6ce522d65f",
        "colab": {
          "base_uri": "https://localhost:8080/"
        }
      },
      "execution_count": 13,
      "outputs": [
        {
          "output_type": "stream",
          "name": "stdout",
          "text": [
            "root\n",
            " |-- age: long (nullable = true)\n",
            " |-- job: string (nullable = true)\n",
            " |-- marital: string (nullable = true)\n",
            " |-- education: string (nullable = true)\n",
            " |-- default: string (nullable = true)\n",
            " |-- balance: long (nullable = true)\n",
            " |-- housing: string (nullable = true)\n",
            " |-- loan: string (nullable = true)\n",
            " |-- contact: string (nullable = true)\n",
            " |-- duration: long (nullable = true)\n",
            " |-- campaign: long (nullable = true)\n",
            " |-- pdays: long (nullable = true)\n",
            " |-- previous: long (nullable = true)\n",
            " |-- poutcome: string (nullable = true)\n",
            " |-- deposit: string (nullable = true)\n",
            "\n"
          ]
        }
      ]
    },
    {
      "cell_type": "markdown",
      "source": [
        "### Preparing Dataset for Machine Learning"
      ],
      "metadata": {
        "id": "Qvjp5B_25_BD"
      }
    },
    {
      "cell_type": "markdown",
      "source": [
        "The process includes\n",
        "* Category Indexing,\n",
        "* One-Hot Encoding and\n",
        "* VectorAssembler (a feature transformer that merges multiple columns into a vector column)\n",
        "\n",
        "This code indexes each categorical column using the StringIndexer, then converts the indexed categories into one-hot encoded variables.\n",
        "\n",
        "The resulting output has the binary vectors appended to the end of each row. We use the StringIndexer again to encode our labels to label indices.\n",
        "\n",
        "Next, we use the VectorAssembler to combine all the feature columns into a single vector column."
      ],
      "metadata": {
        "id": "22Eb9Z60CruC"
      }
    },
    {
      "cell_type": "code",
      "source": [
        "from pyspark.ml.feature import OneHotEncoder, StringIndexer, VectorAssembler\n",
        "\n",
        "stages = []\n",
        "categoricalColumns = [\n",
        "    'job', 'marital', 'education', 'default', 'housing', 'loan', 'contact', 'poutcome'\n",
        "]\n",
        "\n",
        "for categoricalCol in categoricalColumns:\n",
        "    stringIndexer = StringIndexer(inputCol = categoricalCol, outputCol = categoricalCol + 'Index')\n",
        "    encoder = OneHotEncoder(\n",
        "        inputCols=[stringIndexer.getOutputCol()],\n",
        "        outputCols=[categoricalCol + \"classVec\"]\n",
        "    )\n",
        "    stages += [stringIndexer, encoder]\n",
        "\n",
        "label_stringIdx = StringIndexer(inputCol = 'deposit', outputCol = 'label')\n",
        "stages += [label_stringIdx]\n",
        "numericCols = ['age', 'balance', 'duration', 'campaign', 'pdays', 'previous']\n",
        "assemblerInputs = [c + \"classVec\" for c in categoricalColumns] + numericCols\n",
        "assembler = VectorAssembler(inputCols=assemblerInputs, outputCol=\"features\")\n",
        "stages += [assembler]"
      ],
      "metadata": {
        "id": "D7E1YtUk6FDp"
      },
      "execution_count": 14,
      "outputs": []
    },
    {
      "cell_type": "code",
      "source": [
        "stages"
      ],
      "metadata": {
        "id": "PNpLIvV4g90U",
        "outputId": "161260d0-9b66-487f-ecaa-f3f12aa6fe80",
        "colab": {
          "base_uri": "https://localhost:8080/"
        }
      },
      "execution_count": 21,
      "outputs": [
        {
          "output_type": "execute_result",
          "data": {
            "text/plain": [
              "[StringIndexer_5ce47008fd69,\n",
              " OneHotEncoder_54ef661dd18f,\n",
              " StringIndexer_77396e2aee83,\n",
              " OneHotEncoder_0c5bf2b8981f,\n",
              " StringIndexer_e64e39f9412f,\n",
              " OneHotEncoder_e30909ce90a6,\n",
              " StringIndexer_b8eddfd0e0ee,\n",
              " OneHotEncoder_005aa2c9d103,\n",
              " StringIndexer_2937926a58ce,\n",
              " OneHotEncoder_351e22a5cfeb,\n",
              " StringIndexer_083044ec3d3c,\n",
              " OneHotEncoder_f9698e7e91c6,\n",
              " StringIndexer_4ae7598e4799,\n",
              " OneHotEncoder_38d0b1eafa82,\n",
              " StringIndexer_14acbfd30d4a,\n",
              " OneHotEncoder_82044b8dd6d9,\n",
              " StringIndexer_aa0630451cfb,\n",
              " VectorAssembler_5fde1c5df23e]"
            ]
          },
          "metadata": {},
          "execution_count": 21
        }
      ]
    },
    {
      "cell_type": "markdown",
      "source": [
        "### Pipeline"
      ],
      "metadata": {
        "id": "3KSZ94Cs6Pna"
      }
    },
    {
      "cell_type": "code",
      "source": [
        "from pyspark.ml import Pipeline\n",
        "\n",
        "pipeline = Pipeline(stages = stages)\n",
        "pipelineModel = pipeline.fit(sdf)\n",
        "sdf = pipelineModel.transform(sdf)\n",
        "selectedCols = ['label', 'features'] + cols\n",
        "sdf = sdf.select(selectedCols)\n",
        "sdf.printSchema()"
      ],
      "metadata": {
        "id": "Jy-lZ7lQ6Q0P",
        "outputId": "096c40b2-1ef1-4940-fcb5-0a17d16d650f",
        "colab": {
          "base_uri": "https://localhost:8080/"
        }
      },
      "execution_count": 15,
      "outputs": [
        {
          "output_type": "stream",
          "name": "stdout",
          "text": [
            "root\n",
            " |-- label: double (nullable = false)\n",
            " |-- features: vector (nullable = true)\n",
            " |-- age: long (nullable = true)\n",
            " |-- job: string (nullable = true)\n",
            " |-- marital: string (nullable = true)\n",
            " |-- education: string (nullable = true)\n",
            " |-- default: string (nullable = true)\n",
            " |-- balance: long (nullable = true)\n",
            " |-- housing: string (nullable = true)\n",
            " |-- loan: string (nullable = true)\n",
            " |-- contact: string (nullable = true)\n",
            " |-- duration: long (nullable = true)\n",
            " |-- campaign: long (nullable = true)\n",
            " |-- pdays: long (nullable = true)\n",
            " |-- previous: long (nullable = true)\n",
            " |-- poutcome: string (nullable = true)\n",
            " |-- deposit: string (nullable = true)\n",
            "\n"
          ]
        }
      ]
    },
    {
      "cell_type": "markdown",
      "source": [
        "### Split dataset into train and test set"
      ],
      "metadata": {
        "id": "b2FK412_6Xo0"
      }
    },
    {
      "cell_type": "code",
      "source": [
        "train, test = sdf.randomSplit([0.7, 0.3], seed = 2018)\n",
        "print(\"Training Dataset Count: \" + str(train.count()))\n",
        "print(\"Test Dataset Count: \" + str(test.count()))"
      ],
      "metadata": {
        "id": "PylDFQkA6Zb1",
        "outputId": "c2faf0df-7c44-447f-e29f-9d84a5450263",
        "colab": {
          "base_uri": "https://localhost:8080/"
        }
      },
      "execution_count": 16,
      "outputs": [
        {
          "output_type": "stream",
          "name": "stdout",
          "text": [
            "Training Dataset Count: 7851\n",
            "Test Dataset Count: 3411\n"
          ]
        }
      ]
    },
    {
      "cell_type": "markdown",
      "source": [
        "### Random Forest Classifier"
      ],
      "metadata": {
        "id": "aEHHBjEr6fnr"
      }
    },
    {
      "cell_type": "code",
      "source": [
        "from pyspark.ml.classification import RandomForestClassifier\n",
        "\n",
        "rf = RandomForestClassifier(featuresCol = 'features', labelCol = 'label')\n",
        "rfModel = rf.fit(train)\n",
        "rfPreds = rfModel.transform(test)\n",
        "rfPreds.select('age', 'job', 'label', 'rawPrediction', 'prediction', 'probability').show(10)"
      ],
      "metadata": {
        "id": "HUmtRVYq6j3i",
        "outputId": "f74f82e4-b3bc-403d-ddb3-57d39767de0c",
        "colab": {
          "base_uri": "https://localhost:8080/"
        }
      },
      "execution_count": 17,
      "outputs": [
        {
          "output_type": "stream",
          "name": "stdout",
          "text": [
            "+---+----------+-----+--------------------+----------+--------------------+\n",
            "|age|       job|label|       rawPrediction|prediction|         probability|\n",
            "+---+----------+-----+--------------------+----------+--------------------+\n",
            "| 43|management|  0.0|[16.9351726513819...|       0.0|[0.84675863256909...|\n",
            "| 34|management|  0.0|[16.4043645336822...|       0.0|[0.82021822668411...|\n",
            "| 36|management|  0.0|[15.1300019038857...|       0.0|[0.75650009519428...|\n",
            "| 41|management|  0.0|[16.4766031308205...|       0.0|[0.82383015654102...|\n",
            "| 57|management|  0.0|[16.2459223107413...|       0.0|[0.81229611553706...|\n",
            "| 31|management|  0.0|[16.0345449835063...|       0.0|[0.80172724917531...|\n",
            "| 37|management|  0.0|[17.3418536903619...|       0.0|[0.86709268451809...|\n",
            "| 44|management|  0.0|[16.8915026385632...|       0.0|[0.84457513192816...|\n",
            "| 45|management|  0.0|[8.63884214315815...|       1.0|[0.43194210715790...|\n",
            "| 47|management|  0.0|[16.7745064305459...|       0.0|[0.83872532152729...|\n",
            "+---+----------+-----+--------------------+----------+--------------------+\n",
            "only showing top 10 rows\n",
            "\n"
          ]
        }
      ]
    },
    {
      "cell_type": "markdown",
      "source": [
        "#### Evaluate the Random Forest Classifier"
      ],
      "metadata": {
        "id": "f_7M4M9A6uds"
      }
    },
    {
      "cell_type": "code",
      "source": [
        "from pyspark.ml.evaluation import BinaryClassificationEvaluator\n",
        "\n",
        "rfEval = BinaryClassificationEvaluator()\n",
        "rfROC = rfEval.evaluate(rfPreds, {rfEval.metricName: \"areaUnderROC\"})\n",
        "print(\"Test Area Under ROC: \" + str(rfROC))"
      ],
      "metadata": {
        "id": "jpP92EnO6t0s",
        "outputId": "d220657a-2999-4c1e-acda-3e24a6d8a1f6",
        "colab": {
          "base_uri": "https://localhost:8080/"
        }
      },
      "execution_count": 18,
      "outputs": [
        {
          "output_type": "stream",
          "name": "stdout",
          "text": [
            "Test Area Under ROC: 0.8905965426896236\n"
          ]
        }
      ]
    },
    {
      "cell_type": "markdown",
      "source": [
        "### Gradient-Boosted Tree Classifier"
      ],
      "metadata": {
        "id": "U6nOgGi8Bnxv"
      }
    },
    {
      "cell_type": "code",
      "source": [
        "from pyspark.ml.classification import GBTClassifier\n",
        "\n",
        "gbt = GBTClassifier(maxIter=10)\n",
        "gbtModel = gbt.fit(train)\n",
        "gbtPreds = gbtModel.transform(test)\n",
        "gbtPreds.select('age', 'job', 'label', 'rawPrediction', 'prediction', 'probability').show(10)"
      ],
      "metadata": {
        "id": "IjaHd3FSBlbl",
        "outputId": "92e129f1-22ed-435c-daf5-d1f2eb40237c",
        "colab": {
          "base_uri": "https://localhost:8080/"
        }
      },
      "execution_count": 19,
      "outputs": [
        {
          "output_type": "stream",
          "name": "stdout",
          "text": [
            "+---+----------+-----+--------------------+----------+--------------------+\n",
            "|age|       job|label|       rawPrediction|prediction|         probability|\n",
            "+---+----------+-----+--------------------+----------+--------------------+\n",
            "| 43|management|  0.0|[1.29163386920042...|       0.0|[0.92977692547934...|\n",
            "| 34|management|  0.0|[1.03096110830084...|       0.0|[0.88714676049183...|\n",
            "| 36|management|  0.0|[0.76660223502044...|       0.0|[0.82247468273028...|\n",
            "| 41|management|  0.0|[0.57671821499725...|       0.0|[0.76013803504645...|\n",
            "| 57|management|  0.0|[1.23475128779114...|       0.0|[0.92197598952629...|\n",
            "| 31|management|  0.0|[1.12123782481789...|       0.0|[0.90399952101299...|\n",
            "| 37|management|  0.0|[1.32064356049446...|       0.0|[0.93347194192069...|\n",
            "| 44|management|  0.0|[1.13329281791413...|       0.0|[0.90607160800932...|\n",
            "| 45|management|  0.0|[-0.5381452071238...|       1.0|[0.25420866301427...|\n",
            "| 47|management|  0.0|[1.07923290374290...|       0.0|[0.89645722882976...|\n",
            "+---+----------+-----+--------------------+----------+--------------------+\n",
            "only showing top 10 rows\n",
            "\n"
          ]
        }
      ]
    },
    {
      "cell_type": "markdown",
      "source": [
        "#### Evaluate the Gradient-Boosted Tree Classifier"
      ],
      "metadata": {
        "id": "JfXVmwJxBw_E"
      }
    },
    {
      "cell_type": "code",
      "source": [
        "gbtEval = BinaryClassificationEvaluator()\n",
        "gbtROC = gbtEval.evaluate(gbtPreds, {gbtEval.metricName: \"areaUnderROC\"})\n",
        "print(\"Test Area Under ROC: \" + str(gbtROC))"
      ],
      "metadata": {
        "id": "TXr79Bl5BzCD",
        "outputId": "5807637c-652b-4510-cce8-a238f36bdf3c",
        "colab": {
          "base_uri": "https://localhost:8080/"
        }
      },
      "execution_count": 20,
      "outputs": [
        {
          "output_type": "stream",
          "name": "stdout",
          "text": [
            "Test Area Under ROC: 0.8992009144210671\n"
          ]
        }
      ]
    },
    {
      "cell_type": "markdown",
      "source": [
        "\n",
        "\n",
        "---\n",
        "\n"
      ],
      "metadata": {
        "id": "Y9ttXLJzzvY1"
      }
    }
  ]
}