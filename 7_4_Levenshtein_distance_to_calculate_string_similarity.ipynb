{
  "nbformat": 4,
  "nbformat_minor": 0,
  "metadata": {
    "colab": {
      "provenance": [],
      "include_colab_link": true
    },
    "kernelspec": {
      "name": "python3",
      "display_name": "Python 3"
    }
  },
  "cells": [
    {
      "cell_type": "markdown",
      "metadata": {
        "id": "view-in-github",
        "colab_type": "text"
      },
      "source": [
        "<a href=\"https://colab.research.google.com/github/arutraj/.githubcl/blob/main/7_4_Levenshtein_distance_to_calculate_string_similarity.ipynb\" target=\"_parent\"><img src=\"https://colab.research.google.com/assets/colab-badge.svg\" alt=\"Open In Colab\"/></a>"
      ]
    },
    {
      "cell_type": "code",
      "metadata": {
        "id": "bOb9Q4x75IvZ"
      },
      "source": [
        "# importing library\n",
        "import numpy as np"
      ],
      "execution_count": 20,
      "outputs": []
    },
    {
      "cell_type": "code",
      "metadata": {
        "id": "E60WMhAMoLXz"
      },
      "source": [
        "# defining two strings\n",
        "seq1 = 'text'\n",
        "seq2 = 'test'"
      ],
      "execution_count": 21,
      "outputs": []
    },
    {
      "cell_type": "markdown",
      "metadata": {
        "id": "BEaRTW7Vvmwv"
      },
      "source": [
        "![](https://drive.google.com/uc?export=view&id=1ev-00rhE1Waiy9VbdR2KpO_ML4JnosWj)"
      ]
    },
    {
      "cell_type": "code",
      "metadata": {
        "id": "716_OkwioLdt",
        "colab": {
          "base_uri": "https://localhost:8080/"
        },
        "outputId": "e346c632-0c09-4cd8-9087-53d280466394"
      },
      "source": [
        "# size of matrix\n",
        "size_x = len(seq1) + 1\n",
        "size_y = len(seq2) + 1\n",
        "# creating a matrix with all zeros\n",
        "matrix = np.zeros((size_x, size_y))\n",
        "\n",
        "# printing the matrix\n",
        "matrix"
      ],
      "execution_count": 22,
      "outputs": [
        {
          "output_type": "execute_result",
          "data": {
            "text/plain": [
              "array([[0., 0., 0., 0., 0.],\n",
              "       [0., 0., 0., 0., 0.],\n",
              "       [0., 0., 0., 0., 0.],\n",
              "       [0., 0., 0., 0., 0.],\n",
              "       [0., 0., 0., 0., 0.]])"
            ]
          },
          "metadata": {},
          "execution_count": 22
        }
      ]
    },
    {
      "cell_type": "code",
      "metadata": {
        "id": "lLypPFt-ucDq",
        "colab": {
          "base_uri": "https://localhost:8080/"
        },
        "outputId": "edc2fa00-d208-4cfb-d543-4048409df800"
      },
      "source": [
        "# filling the first column of the matrix with the index of characters from first string\n",
        "for x in range(size_x):\n",
        "    matrix [x, 0] = x\n",
        "# filling the first row of the matrix with the index of characters from second string\n",
        "for y in range(size_y):\n",
        "    matrix [0, y] = y\n",
        "\n",
        "# printing the matrix\n",
        "matrix"
      ],
      "execution_count": 23,
      "outputs": [
        {
          "output_type": "execute_result",
          "data": {
            "text/plain": [
              "array([[0., 1., 2., 3., 4.],\n",
              "       [1., 0., 0., 0., 0.],\n",
              "       [2., 0., 0., 0., 0.],\n",
              "       [3., 0., 0., 0., 0.],\n",
              "       [4., 0., 0., 0., 0.]])"
            ]
          },
          "metadata": {},
          "execution_count": 23
        }
      ]
    },
    {
      "cell_type": "code",
      "metadata": {
        "id": "1IILe4PLvV9R",
        "colab": {
          "base_uri": "https://localhost:8080/"
        },
        "outputId": "c2a9fc27-5370-4478-cccc-8dc626f0d4d6"
      },
      "source": [
        "# for each column\n",
        "for x in range(1, size_x):\n",
        "    # for each row\n",
        "    for y in range(1, size_y):\n",
        "        # check if the characters are same\n",
        "        if seq1[x-1] == seq2[y-1]:\n",
        "            # fill the element with the minimum of (diagonal value, first corresponding value + 1, second corresponding value + 1)\n",
        "            matrix [x,y] = min(\n",
        "                matrix[x-1, y-1],\n",
        "                matrix[x-1, y] + 1,\n",
        "                matrix[x, y-1] + 1\n",
        "            )\n",
        "        # if characters are not same\n",
        "        else:\n",
        "            # fill the element with the minimum of corresponding values + 1\n",
        "            matrix [x,y] = min(\n",
        "                matrix[x-1,y] + 1,\n",
        "                matrix[x-1,y-1] + 1,\n",
        "                matrix[x,y-1] + 1\n",
        "            )\n",
        "\n",
        "# final matrix\n",
        "matrix"
      ],
      "execution_count": 24,
      "outputs": [
        {
          "output_type": "execute_result",
          "data": {
            "text/plain": [
              "array([[0., 1., 2., 3., 4.],\n",
              "       [1., 0., 1., 2., 3.],\n",
              "       [2., 1., 0., 1., 2.],\n",
              "       [3., 2., 1., 1., 2.],\n",
              "       [4., 3., 2., 2., 1.]])"
            ]
          },
          "metadata": {},
          "execution_count": 24
        }
      ]
    },
    {
      "cell_type": "code",
      "metadata": {
        "id": "yLMKrZbNveUB",
        "colab": {
          "base_uri": "https://localhost:8080/"
        },
        "outputId": "1c9f22d0-d196-4857-b57e-760ee329ada7"
      },
      "source": [
        "# levenshtein distance\n",
        "matrix[size_x - 1, size_y - 1]"
      ],
      "execution_count": 25,
      "outputs": [
        {
          "output_type": "execute_result",
          "data": {
            "text/plain": [
              "1.0"
            ]
          },
          "metadata": {},
          "execution_count": 25
        }
      ]
    },
    {
      "cell_type": "code",
      "metadata": {
        "id": "3xwSbEIots4Y"
      },
      "source": [
        "# defining the function to calculate levenshtein distance between two strings\n",
        "def levenshtein_distance(seq1, seq2):\n",
        "\n",
        "    # size of matrix\n",
        "    size_x = len(seq1) + 1\n",
        "    size_y = len(seq2) + 1\n",
        "    # creating a matrix with all zeros\n",
        "    matrix = np.zeros((size_x, size_y))\n",
        "\n",
        "    # filling the first column of the matrix with the index of characters from first string\n",
        "    for x in range(size_x):\n",
        "        matrix [x, 0] = x\n",
        "    # filling the first row of the matrix with the index of characters from second string\n",
        "    for y in range(size_y):\n",
        "        matrix [0, y] = y\n",
        "\n",
        "    # for each column\n",
        "    for x in range(1, size_x):\n",
        "        # for each row\n",
        "        for y in range(1, size_y):\n",
        "            # check if the characters are same\n",
        "            if seq1[x-1] == seq2[y-1]:\n",
        "                # fill the element with the minimum of (diagonal value, first corresponding value + 1, second corresponding value + 1)\n",
        "                matrix [x,y] = min(\n",
        "                    matrix[x-1, y-1],\n",
        "                    matrix[x-1, y] + 1,\n",
        "                    matrix[x, y-1] + 1\n",
        "                )\n",
        "            # if characters are not same\n",
        "            else:\n",
        "                # fill the element with the minimum of corresponding values + 1\n",
        "                matrix [x,y] = min(\n",
        "                    matrix[x-1,y] + 1,\n",
        "                    matrix[x-1,y-1] + 1,\n",
        "                    matrix[x,y-1] + 1\n",
        "                )\n",
        "\n",
        "    # printing the final matrix\n",
        "    print (matrix)\n",
        "\n",
        "    # returning the levenshtein distance\n",
        "    return (matrix[size_x - 1, size_y - 1])"
      ],
      "execution_count": 26,
      "outputs": []
    },
    {
      "cell_type": "code",
      "metadata": {
        "id": "pHmF5JBMkjlm"
      },
      "source": [
        "# defining two sequences\n",
        "seq1 = 'scientist'\n",
        "seq2 = 'science'"
      ],
      "execution_count": 27,
      "outputs": []
    },
    {
      "cell_type": "code",
      "metadata": {
        "id": "hq7_c-Mz3dQt",
        "colab": {
          "base_uri": "https://localhost:8080/"
        },
        "outputId": "2ce6caec-4983-47a8-a18e-e675c361e1de"
      },
      "source": [
        "levenshtein_distance(seq1, seq2)"
      ],
      "execution_count": 28,
      "outputs": [
        {
          "output_type": "stream",
          "name": "stdout",
          "text": [
            "[[0. 1. 2. 3. 4. 5. 6. 7.]\n",
            " [1. 0. 1. 2. 3. 4. 5. 6.]\n",
            " [2. 1. 0. 1. 2. 3. 4. 5.]\n",
            " [3. 2. 1. 0. 1. 2. 3. 4.]\n",
            " [4. 3. 2. 1. 0. 1. 2. 3.]\n",
            " [5. 4. 3. 2. 1. 0. 1. 2.]\n",
            " [6. 5. 4. 3. 2. 1. 1. 2.]\n",
            " [7. 6. 5. 4. 3. 2. 2. 2.]\n",
            " [8. 7. 6. 5. 4. 3. 3. 3.]\n",
            " [9. 8. 7. 6. 5. 4. 4. 4.]]\n"
          ]
        },
        {
          "output_type": "execute_result",
          "data": {
            "text/plain": [
              "4.0"
            ]
          },
          "metadata": {},
          "execution_count": 28
        }
      ]
    },
    {
      "cell_type": "code",
      "metadata": {
        "id": "KUxVdN8rSIln"
      },
      "source": [
        "# defining two sequences\n",
        "seq1 = 'learning'\n",
        "seq2 = 'learnt'"
      ],
      "execution_count": 29,
      "outputs": []
    },
    {
      "cell_type": "code",
      "source": [
        "levenshtein_distance(seq1, seq2)"
      ],
      "metadata": {
        "colab": {
          "base_uri": "https://localhost:8080/"
        },
        "id": "rJkUEBC_SWFA",
        "outputId": "2b6d4e4a-4dd5-4223-e66f-b6def2013a46"
      },
      "execution_count": 30,
      "outputs": [
        {
          "output_type": "stream",
          "name": "stdout",
          "text": [
            "[[0. 1. 2. 3. 4. 5. 6.]\n",
            " [1. 0. 1. 2. 3. 4. 5.]\n",
            " [2. 1. 0. 1. 2. 3. 4.]\n",
            " [3. 2. 1. 0. 1. 2. 3.]\n",
            " [4. 3. 2. 1. 0. 1. 2.]\n",
            " [5. 4. 3. 2. 1. 0. 1.]\n",
            " [6. 5. 4. 3. 2. 1. 1.]\n",
            " [7. 6. 5. 4. 3. 2. 2.]\n",
            " [8. 7. 6. 5. 4. 3. 3.]]\n"
          ]
        },
        {
          "output_type": "execute_result",
          "data": {
            "text/plain": [
              "3.0"
            ]
          },
          "metadata": {},
          "execution_count": 30
        }
      ]
    }
  ]
}