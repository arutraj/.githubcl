{
  "nbformat": 4,
  "nbformat_minor": 0,
  "metadata": {
    "colab": {
      "provenance": [],
      "include_colab_link": true
    },
    "kernelspec": {
      "name": "python3",
      "display_name": "Python 3"
    },
    "accelerator": "GPU",
    "widgets": {
      "application/vnd.jupyter.widget-state+json": {
        "b3072179c8d8407ab6b9817065fa1ffc": {
          "model_module": "@jupyter-widgets/controls",
          "model_name": "HBoxModel",
          "model_module_version": "1.5.0",
          "state": {
            "_dom_classes": [],
            "_model_module": "@jupyter-widgets/controls",
            "_model_module_version": "1.5.0",
            "_model_name": "HBoxModel",
            "_view_count": null,
            "_view_module": "@jupyter-widgets/controls",
            "_view_module_version": "1.5.0",
            "_view_name": "HBoxView",
            "box_style": "",
            "children": [
              "IPY_MODEL_e76d5130e6da4f7e99a2dcb19e76e808",
              "IPY_MODEL_44964f1f99b540d48e3478a7e2f2936a",
              "IPY_MODEL_faa45765781b4a85b1dcbb90fd88a73d"
            ],
            "layout": "IPY_MODEL_f999b907f38744119223a2410d079327"
          }
        },
        "e76d5130e6da4f7e99a2dcb19e76e808": {
          "model_module": "@jupyter-widgets/controls",
          "model_name": "HTMLModel",
          "model_module_version": "1.5.0",
          "state": {
            "_dom_classes": [],
            "_model_module": "@jupyter-widgets/controls",
            "_model_module_version": "1.5.0",
            "_model_name": "HTMLModel",
            "_view_count": null,
            "_view_module": "@jupyter-widgets/controls",
            "_view_module_version": "1.5.0",
            "_view_name": "HTMLView",
            "description": "",
            "description_tooltip": null,
            "layout": "IPY_MODEL_7f9aaf6f4c684954ac172253379ddf0c",
            "placeholder": "​",
            "style": "IPY_MODEL_b6992f5d15994e2dbd8d3ffdd62776fc",
            "value": "100%"
          }
        },
        "44964f1f99b540d48e3478a7e2f2936a": {
          "model_module": "@jupyter-widgets/controls",
          "model_name": "FloatProgressModel",
          "model_module_version": "1.5.0",
          "state": {
            "_dom_classes": [],
            "_model_module": "@jupyter-widgets/controls",
            "_model_module_version": "1.5.0",
            "_model_name": "FloatProgressModel",
            "_view_count": null,
            "_view_module": "@jupyter-widgets/controls",
            "_view_module_version": "1.5.0",
            "_view_name": "ProgressView",
            "bar_style": "success",
            "description": "",
            "description_tooltip": null,
            "layout": "IPY_MODEL_5174e36da9fa4e0aa89d0a47f2c68a42",
            "max": 64776,
            "min": 0,
            "orientation": "horizontal",
            "style": "IPY_MODEL_8a2069647f7644a0bd56412820bd211e",
            "value": 64776
          }
        },
        "faa45765781b4a85b1dcbb90fd88a73d": {
          "model_module": "@jupyter-widgets/controls",
          "model_name": "HTMLModel",
          "model_module_version": "1.5.0",
          "state": {
            "_dom_classes": [],
            "_model_module": "@jupyter-widgets/controls",
            "_model_module_version": "1.5.0",
            "_model_name": "HTMLModel",
            "_view_count": null,
            "_view_module": "@jupyter-widgets/controls",
            "_view_module_version": "1.5.0",
            "_view_name": "HTMLView",
            "description": "",
            "description_tooltip": null,
            "layout": "IPY_MODEL_070467dede46424ea4a852ad873f0c45",
            "placeholder": "​",
            "style": "IPY_MODEL_8ec7646033c4499db2d573cb2a79d242",
            "value": " 64776/64776 [00:21&lt;00:00, 3156.96it/s]"
          }
        },
        "f999b907f38744119223a2410d079327": {
          "model_module": "@jupyter-widgets/base",
          "model_name": "LayoutModel",
          "model_module_version": "1.2.0",
          "state": {
            "_model_module": "@jupyter-widgets/base",
            "_model_module_version": "1.2.0",
            "_model_name": "LayoutModel",
            "_view_count": null,
            "_view_module": "@jupyter-widgets/base",
            "_view_module_version": "1.2.0",
            "_view_name": "LayoutView",
            "align_content": null,
            "align_items": null,
            "align_self": null,
            "border": null,
            "bottom": null,
            "display": null,
            "flex": null,
            "flex_flow": null,
            "grid_area": null,
            "grid_auto_columns": null,
            "grid_auto_flow": null,
            "grid_auto_rows": null,
            "grid_column": null,
            "grid_gap": null,
            "grid_row": null,
            "grid_template_areas": null,
            "grid_template_columns": null,
            "grid_template_rows": null,
            "height": null,
            "justify_content": null,
            "justify_items": null,
            "left": null,
            "margin": null,
            "max_height": null,
            "max_width": null,
            "min_height": null,
            "min_width": null,
            "object_fit": null,
            "object_position": null,
            "order": null,
            "overflow": null,
            "overflow_x": null,
            "overflow_y": null,
            "padding": null,
            "right": null,
            "top": null,
            "visibility": null,
            "width": null
          }
        },
        "7f9aaf6f4c684954ac172253379ddf0c": {
          "model_module": "@jupyter-widgets/base",
          "model_name": "LayoutModel",
          "model_module_version": "1.2.0",
          "state": {
            "_model_module": "@jupyter-widgets/base",
            "_model_module_version": "1.2.0",
            "_model_name": "LayoutModel",
            "_view_count": null,
            "_view_module": "@jupyter-widgets/base",
            "_view_module_version": "1.2.0",
            "_view_name": "LayoutView",
            "align_content": null,
            "align_items": null,
            "align_self": null,
            "border": null,
            "bottom": null,
            "display": null,
            "flex": null,
            "flex_flow": null,
            "grid_area": null,
            "grid_auto_columns": null,
            "grid_auto_flow": null,
            "grid_auto_rows": null,
            "grid_column": null,
            "grid_gap": null,
            "grid_row": null,
            "grid_template_areas": null,
            "grid_template_columns": null,
            "grid_template_rows": null,
            "height": null,
            "justify_content": null,
            "justify_items": null,
            "left": null,
            "margin": null,
            "max_height": null,
            "max_width": null,
            "min_height": null,
            "min_width": null,
            "object_fit": null,
            "object_position": null,
            "order": null,
            "overflow": null,
            "overflow_x": null,
            "overflow_y": null,
            "padding": null,
            "right": null,
            "top": null,
            "visibility": null,
            "width": null
          }
        },
        "b6992f5d15994e2dbd8d3ffdd62776fc": {
          "model_module": "@jupyter-widgets/controls",
          "model_name": "DescriptionStyleModel",
          "model_module_version": "1.5.0",
          "state": {
            "_model_module": "@jupyter-widgets/controls",
            "_model_module_version": "1.5.0",
            "_model_name": "DescriptionStyleModel",
            "_view_count": null,
            "_view_module": "@jupyter-widgets/base",
            "_view_module_version": "1.2.0",
            "_view_name": "StyleView",
            "description_width": ""
          }
        },
        "5174e36da9fa4e0aa89d0a47f2c68a42": {
          "model_module": "@jupyter-widgets/base",
          "model_name": "LayoutModel",
          "model_module_version": "1.2.0",
          "state": {
            "_model_module": "@jupyter-widgets/base",
            "_model_module_version": "1.2.0",
            "_model_name": "LayoutModel",
            "_view_count": null,
            "_view_module": "@jupyter-widgets/base",
            "_view_module_version": "1.2.0",
            "_view_name": "LayoutView",
            "align_content": null,
            "align_items": null,
            "align_self": null,
            "border": null,
            "bottom": null,
            "display": null,
            "flex": null,
            "flex_flow": null,
            "grid_area": null,
            "grid_auto_columns": null,
            "grid_auto_flow": null,
            "grid_auto_rows": null,
            "grid_column": null,
            "grid_gap": null,
            "grid_row": null,
            "grid_template_areas": null,
            "grid_template_columns": null,
            "grid_template_rows": null,
            "height": null,
            "justify_content": null,
            "justify_items": null,
            "left": null,
            "margin": null,
            "max_height": null,
            "max_width": null,
            "min_height": null,
            "min_width": null,
            "object_fit": null,
            "object_position": null,
            "order": null,
            "overflow": null,
            "overflow_x": null,
            "overflow_y": null,
            "padding": null,
            "right": null,
            "top": null,
            "visibility": null,
            "width": null
          }
        },
        "8a2069647f7644a0bd56412820bd211e": {
          "model_module": "@jupyter-widgets/controls",
          "model_name": "ProgressStyleModel",
          "model_module_version": "1.5.0",
          "state": {
            "_model_module": "@jupyter-widgets/controls",
            "_model_module_version": "1.5.0",
            "_model_name": "ProgressStyleModel",
            "_view_count": null,
            "_view_module": "@jupyter-widgets/base",
            "_view_module_version": "1.2.0",
            "_view_name": "StyleView",
            "bar_color": null,
            "description_width": ""
          }
        },
        "070467dede46424ea4a852ad873f0c45": {
          "model_module": "@jupyter-widgets/base",
          "model_name": "LayoutModel",
          "model_module_version": "1.2.0",
          "state": {
            "_model_module": "@jupyter-widgets/base",
            "_model_module_version": "1.2.0",
            "_model_name": "LayoutModel",
            "_view_count": null,
            "_view_module": "@jupyter-widgets/base",
            "_view_module_version": "1.2.0",
            "_view_name": "LayoutView",
            "align_content": null,
            "align_items": null,
            "align_self": null,
            "border": null,
            "bottom": null,
            "display": null,
            "flex": null,
            "flex_flow": null,
            "grid_area": null,
            "grid_auto_columns": null,
            "grid_auto_flow": null,
            "grid_auto_rows": null,
            "grid_column": null,
            "grid_gap": null,
            "grid_row": null,
            "grid_template_areas": null,
            "grid_template_columns": null,
            "grid_template_rows": null,
            "height": null,
            "justify_content": null,
            "justify_items": null,
            "left": null,
            "margin": null,
            "max_height": null,
            "max_width": null,
            "min_height": null,
            "min_width": null,
            "object_fit": null,
            "object_position": null,
            "order": null,
            "overflow": null,
            "overflow_x": null,
            "overflow_y": null,
            "padding": null,
            "right": null,
            "top": null,
            "visibility": null,
            "width": null
          }
        },
        "8ec7646033c4499db2d573cb2a79d242": {
          "model_module": "@jupyter-widgets/controls",
          "model_name": "DescriptionStyleModel",
          "model_module_version": "1.5.0",
          "state": {
            "_model_module": "@jupyter-widgets/controls",
            "_model_module_version": "1.5.0",
            "_model_name": "DescriptionStyleModel",
            "_view_count": null,
            "_view_module": "@jupyter-widgets/base",
            "_view_module_version": "1.2.0",
            "_view_name": "StyleView",
            "description_width": ""
          }
        }
      }
    }
  },
  "cells": [
    {
      "cell_type": "markdown",
      "metadata": {
        "id": "view-in-github",
        "colab_type": "text"
      },
      "source": [
        "<a href=\"https://colab.research.google.com/github/arutraj/.githubcl/blob/main/Text_Generation_using_Neural_Language_Model.ipynb\" target=\"_parent\"><img src=\"https://colab.research.google.com/assets/colab-badge.svg\" alt=\"Open In Colab\"/></a>"
      ]
    },
    {
      "cell_type": "markdown",
      "metadata": {
        "id": "w2p_bqZM3WYu"
      },
      "source": [
        "# Table of Contents\n",
        "\n",
        "1. Import Libraries\n",
        "2. Load Dataset\n",
        "3. Preprocessing and Exploring Text Data\n",
        "  \n",
        "  3.1 Text Cleaning\n",
        "  \n",
        "  3.2 Finding Word Count\n",
        "\n",
        "  3.3 Find and Replace Rare Words with \"Unknown\" Token\n",
        "\n",
        "4. Data Preparation\n",
        "\n",
        "  4.1 Prepare Sequences\n",
        "\n",
        "  4.2 Create Token-Integer Mappings\n",
        "\n",
        "  4.3 Split Data into Train and Validation Sets\n",
        "\n",
        "  4.4 Pad Sequences\n",
        "\n",
        "  4.5 Convert Text Sequences to Integer Sequences\n",
        "5. Model Building\n",
        "\n",
        "  5.1 Define Model Architecture\n",
        "  \n",
        "  5.2 Start Model Training\n",
        "6. Text Generation"
      ]
    },
    {
      "cell_type": "markdown",
      "metadata": {
        "id": "sZoPOnsX8uPS"
      },
      "source": [
        "# 1. Import Libraries"
      ]
    },
    {
      "cell_type": "code",
      "metadata": {
        "id": "Z_CCxOEI4iZK"
      },
      "source": [
        "import pandas as pd\n",
        "import numpy as np\n",
        "import pickle\n",
        "import re\n",
        "import random\n",
        "from tqdm import tqdm_notebook\n",
        "\n",
        "import torch\n",
        "from torch import nn\n",
        "import torch.nn.functional as F"
      ],
      "execution_count": null,
      "outputs": []
    },
    {
      "cell_type": "code",
      "metadata": {
        "id": "ypl18CrLFmt6",
        "colab": {
          "base_uri": "https://localhost:8080/"
        },
        "outputId": "ce155aa4-0d59-45ae-fc2c-94ccdf97c207"
      },
      "source": [
        "# reproducing same results\n",
        "SEED = 2019\n",
        "\n",
        "# torch\n",
        "torch.manual_seed(SEED)"
      ],
      "execution_count": null,
      "outputs": [
        {
          "output_type": "execute_result",
          "data": {
            "text/plain": [
              "<torch._C.Generator at 0x7edad6f020b0>"
            ]
          },
          "metadata": {},
          "execution_count": 2
        }
      ]
    },
    {
      "cell_type": "markdown",
      "metadata": {
        "id": "5_5gPvXxWjru"
      },
      "source": [
        "# 2. Load Dataset"
      ]
    },
    {
      "cell_type": "code",
      "source": [
        "from google.colab import drive\n",
        "drive.mount('/content/drive')"
      ],
      "metadata": {
        "colab": {
          "base_uri": "https://localhost:8080/"
        },
        "id": "1-rFi6awX3Km",
        "outputId": "8ca5673c-652d-4e46-e27e-df5603ed6bd9"
      },
      "execution_count": null,
      "outputs": [
        {
          "output_type": "stream",
          "name": "stdout",
          "text": [
            "Mounted at /content/drive\n"
          ]
        }
      ]
    },
    {
      "cell_type": "code",
      "source": [
        "!unzip /content/drive/MyDrive/AnalyticsVidya/NLP_DL/Dailogdataset-200908-140809.zip"
      ],
      "metadata": {
        "colab": {
          "base_uri": "https://localhost:8080/"
        },
        "id": "sHmuPXUCYSLJ",
        "outputId": "e3ebaf40-1bdb-4c42-b647-a97cd91781e6"
      },
      "execution_count": null,
      "outputs": [
        {
          "output_type": "stream",
          "name": "stdout",
          "text": [
            "Archive:  /content/drive/MyDrive/AnalyticsVidya/NLP_DL/Dailogdataset-200908-140809.zip\n",
            "  inflating: Dailog-dataset.dialogs_dataset  \n"
          ]
        }
      ]
    },
    {
      "cell_type": "code",
      "metadata": {
        "id": "RTcAv8MwCUep"
      },
      "source": [
        "# open text file and read in data\n",
        "with open(\"/content/Dailog-dataset.dialogs_dataset\", \"rb\") as f:\n",
        "  dialogs = pickle.load(f)"
      ],
      "execution_count": null,
      "outputs": []
    },
    {
      "cell_type": "markdown",
      "metadata": {
        "id": "OqP9ohFb3-fM"
      },
      "source": [
        "Note: This is a subset of the Taskmaster dataset available under the Creative Commons Attribution 4.0 License. A full copy of the license can be found at https://creativecommons.org/licenses/by/4.0/. You can access the full dataset from [here](https://github.com/google-research-datasets/Taskmaster/tree/master/TM-1-2019).  "
      ]
    },
    {
      "cell_type": "code",
      "metadata": {
        "id": "81_SXWZlE6Zb",
        "colab": {
          "base_uri": "https://localhost:8080/"
        },
        "outputId": "0059f037-4b38-4d4f-cbba-eac3a6df32f0"
      },
      "source": [
        "# number of text sequences\n",
        "len(dialogs)"
      ],
      "execution_count": null,
      "outputs": [
        {
          "output_type": "execute_result",
          "data": {
            "text/plain": [
              "64776"
            ]
          },
          "metadata": {},
          "execution_count": 7
        }
      ]
    },
    {
      "cell_type": "code",
      "metadata": {
        "id": "zSyAzbttAqP2",
        "colab": {
          "base_uri": "https://localhost:8080/"
        },
        "outputId": "9123bf58-4823-4c64-9396-1e4b9f7de99f"
      },
      "source": [
        "# print 10 random dialogs\n",
        "random.sample(dialogs, 10)"
      ],
      "execution_count": null,
      "outputs": [
        {
          "output_type": "execute_result",
          "data": {
            "text/plain": [
              "[\"Hi Assistant, i'd like to order movie tickets for AMC Sunrise please\",\n",
              " 'Can you order a cafe mocha?',\n",
              " 'Ok, I know what I want',\n",
              " 'We would also like reclining seats',\n",
              " 'well i am pretty sure it will pass it, how much does it cost to get it done ?',\n",
              " 'Yes, add extra cheese',\n",
              " ' Olive Lane in Greenacres, WA',\n",
              " \"It wouldn't hurt to get the care package stuff done while we're at it\",\n",
              " ' Can you put in an order for pickup?',\n",
              " 'A Venti please']"
            ]
          },
          "metadata": {},
          "execution_count": 9
        }
      ]
    },
    {
      "cell_type": "markdown",
      "metadata": {
        "id": "kGGTGRUDW9I3"
      },
      "source": [
        "# 3. Preprocessing and Exploring Text Data"
      ]
    },
    {
      "cell_type": "markdown",
      "metadata": {
        "id": "crvUl_ngM8sb"
      },
      "source": [
        "## 3.1 Text Cleaning"
      ]
    },
    {
      "cell_type": "code",
      "metadata": {
        "id": "kUuUKZgUFhkl"
      },
      "source": [
        "# text cleaning\n",
        "dialogs_clean = []\n",
        "\n",
        "for i in dialogs:\n",
        "  # remove everything except alphabets\n",
        "  i = re.sub(\"[^a-zA-Z' ]\", \"\", i)\n",
        "  # convert text to lowercase\n",
        "  i = i.lower()\n",
        "  # add cleaned text to the list\n",
        "  dialogs_clean.append(i)"
      ],
      "execution_count": null,
      "outputs": []
    },
    {
      "cell_type": "code",
      "metadata": {
        "id": "DgZwFK1eSjkN",
        "colab": {
          "base_uri": "https://localhost:8080/"
        },
        "outputId": "983a2e82-6a69-4af5-afa7-b0a89163e5c4"
      },
      "source": [
        "random.sample(dialogs_clean, 10)"
      ],
      "execution_count": null,
      "outputs": [
        {
          "output_type": "execute_result",
          "data": {
            "text/plain": [
              "['no the regal cinema showing sounds good',\n",
              " 'okay did you book it',\n",
              " 'i like to order a pizza',\n",
              " 'no any care is fine',\n",
              " 'really well i guess i have to choose something else',\n",
              " 'i need to order some pizza',\n",
              " ' is the time the same',\n",
              " \"oh that's too bad\",\n",
              " 'no thats all',\n",
              " \"i have a laemmle's card from when i lived in l\"]"
            ]
          },
          "metadata": {},
          "execution_count": 11
        }
      ]
    },
    {
      "cell_type": "markdown",
      "metadata": {
        "id": "mYDzFQVvNA7_"
      },
      "source": [
        "\n",
        "## 3.2 Finding Word Count"
      ]
    },
    {
      "cell_type": "code",
      "metadata": {
        "id": "V1hrCYRp11UI"
      },
      "source": [
        "# get list of all the words\n",
        "all_words = \" \".join(dialogs_clean).split()\n",
        "\n",
        "words_dict = {}\n",
        "\n",
        "# add word-count pair to the dictionary\n",
        "for word in all_words:\n",
        "  # check if the word is already in dictionary\n",
        "  if word in words_dict:\n",
        "    # increment count of word by 1\n",
        "    words_dict[word] = words_dict[word] + 1\n",
        "  else:\n",
        "    # add the word to dictionary with count 1\n",
        "    words_dict[word] = 1"
      ],
      "execution_count": null,
      "outputs": []
    },
    {
      "cell_type": "code",
      "metadata": {
        "id": "gNxSGPubWaqA"
      },
      "source": [
        "# prepare a dataframe\n",
        "words_df = pd.DataFrame({'word':list(words_dict.keys()), 'count':list(words_dict.values())})\n",
        "\n",
        "# sort words by their count in increasing order\n",
        "words_df = words_df.sort_values(by = ['count'])\n",
        "\n",
        "# reset dataframe index\n",
        "words_df.reset_index(inplace = True, drop=True)"
      ],
      "execution_count": null,
      "outputs": []
    },
    {
      "cell_type": "code",
      "metadata": {
        "id": "KVPbPsSWo-Ak",
        "colab": {
          "base_uri": "https://localhost:8080/"
        },
        "outputId": "8cba7c54-8263-474e-e538-5eae3e3cb349"
      },
      "source": [
        "# vocabulary size\n",
        "len(words_df)"
      ],
      "execution_count": null,
      "outputs": [
        {
          "output_type": "execute_result",
          "data": {
            "text/plain": [
              "11147"
            ]
          },
          "metadata": {},
          "execution_count": 14
        }
      ]
    },
    {
      "cell_type": "code",
      "metadata": {
        "id": "JTwmmOiEXBHt",
        "colab": {
          "base_uri": "https://localhost:8080/",
          "height": 206
        },
        "outputId": "9fae5273-edf4-4807-aa1a-96a6fe6cedcf"
      },
      "source": [
        "words_df.head()"
      ],
      "execution_count": null,
      "outputs": [
        {
          "output_type": "execute_result",
          "data": {
            "text/plain": [
              "          word  count\n",
              "0  uppermiddle      1\n",
              "1       shoots      1\n",
              "2        geesh      1\n",
              "3       andrea      1\n",
              "4      precice      1"
            ],
            "text/html": [
              "\n",
              "  <div id=\"df-5026c1de-0c01-48be-8d54-9affe1036df3\" class=\"colab-df-container\">\n",
              "    <div>\n",
              "<style scoped>\n",
              "    .dataframe tbody tr th:only-of-type {\n",
              "        vertical-align: middle;\n",
              "    }\n",
              "\n",
              "    .dataframe tbody tr th {\n",
              "        vertical-align: top;\n",
              "    }\n",
              "\n",
              "    .dataframe thead th {\n",
              "        text-align: right;\n",
              "    }\n",
              "</style>\n",
              "<table border=\"1\" class=\"dataframe\">\n",
              "  <thead>\n",
              "    <tr style=\"text-align: right;\">\n",
              "      <th></th>\n",
              "      <th>word</th>\n",
              "      <th>count</th>\n",
              "    </tr>\n",
              "  </thead>\n",
              "  <tbody>\n",
              "    <tr>\n",
              "      <th>0</th>\n",
              "      <td>uppermiddle</td>\n",
              "      <td>1</td>\n",
              "    </tr>\n",
              "    <tr>\n",
              "      <th>1</th>\n",
              "      <td>shoots</td>\n",
              "      <td>1</td>\n",
              "    </tr>\n",
              "    <tr>\n",
              "      <th>2</th>\n",
              "      <td>geesh</td>\n",
              "      <td>1</td>\n",
              "    </tr>\n",
              "    <tr>\n",
              "      <th>3</th>\n",
              "      <td>andrea</td>\n",
              "      <td>1</td>\n",
              "    </tr>\n",
              "    <tr>\n",
              "      <th>4</th>\n",
              "      <td>precice</td>\n",
              "      <td>1</td>\n",
              "    </tr>\n",
              "  </tbody>\n",
              "</table>\n",
              "</div>\n",
              "    <div class=\"colab-df-buttons\">\n",
              "\n",
              "  <div class=\"colab-df-container\">\n",
              "    <button class=\"colab-df-convert\" onclick=\"convertToInteractive('df-5026c1de-0c01-48be-8d54-9affe1036df3')\"\n",
              "            title=\"Convert this dataframe to an interactive table.\"\n",
              "            style=\"display:none;\">\n",
              "\n",
              "  <svg xmlns=\"http://www.w3.org/2000/svg\" height=\"24px\" viewBox=\"0 -960 960 960\">\n",
              "    <path d=\"M120-120v-720h720v720H120Zm60-500h600v-160H180v160Zm220 220h160v-160H400v160Zm0 220h160v-160H400v160ZM180-400h160v-160H180v160Zm440 0h160v-160H620v160ZM180-180h160v-160H180v160Zm440 0h160v-160H620v160Z\"/>\n",
              "  </svg>\n",
              "    </button>\n",
              "\n",
              "  <style>\n",
              "    .colab-df-container {\n",
              "      display:flex;\n",
              "      gap: 12px;\n",
              "    }\n",
              "\n",
              "    .colab-df-convert {\n",
              "      background-color: #E8F0FE;\n",
              "      border: none;\n",
              "      border-radius: 50%;\n",
              "      cursor: pointer;\n",
              "      display: none;\n",
              "      fill: #1967D2;\n",
              "      height: 32px;\n",
              "      padding: 0 0 0 0;\n",
              "      width: 32px;\n",
              "    }\n",
              "\n",
              "    .colab-df-convert:hover {\n",
              "      background-color: #E2EBFA;\n",
              "      box-shadow: 0px 1px 2px rgba(60, 64, 67, 0.3), 0px 1px 3px 1px rgba(60, 64, 67, 0.15);\n",
              "      fill: #174EA6;\n",
              "    }\n",
              "\n",
              "    .colab-df-buttons div {\n",
              "      margin-bottom: 4px;\n",
              "    }\n",
              "\n",
              "    [theme=dark] .colab-df-convert {\n",
              "      background-color: #3B4455;\n",
              "      fill: #D2E3FC;\n",
              "    }\n",
              "\n",
              "    [theme=dark] .colab-df-convert:hover {\n",
              "      background-color: #434B5C;\n",
              "      box-shadow: 0px 1px 3px 1px rgba(0, 0, 0, 0.15);\n",
              "      filter: drop-shadow(0px 1px 2px rgba(0, 0, 0, 0.3));\n",
              "      fill: #FFFFFF;\n",
              "    }\n",
              "  </style>\n",
              "\n",
              "    <script>\n",
              "      const buttonEl =\n",
              "        document.querySelector('#df-5026c1de-0c01-48be-8d54-9affe1036df3 button.colab-df-convert');\n",
              "      buttonEl.style.display =\n",
              "        google.colab.kernel.accessAllowed ? 'block' : 'none';\n",
              "\n",
              "      async function convertToInteractive(key) {\n",
              "        const element = document.querySelector('#df-5026c1de-0c01-48be-8d54-9affe1036df3');\n",
              "        const dataTable =\n",
              "          await google.colab.kernel.invokeFunction('convertToInteractive',\n",
              "                                                    [key], {});\n",
              "        if (!dataTable) return;\n",
              "\n",
              "        const docLinkHtml = 'Like what you see? Visit the ' +\n",
              "          '<a target=\"_blank\" href=https://colab.research.google.com/notebooks/data_table.ipynb>data table notebook</a>'\n",
              "          + ' to learn more about interactive tables.';\n",
              "        element.innerHTML = '';\n",
              "        dataTable['output_type'] = 'display_data';\n",
              "        await google.colab.output.renderOutput(dataTable, element);\n",
              "        const docLink = document.createElement('div');\n",
              "        docLink.innerHTML = docLinkHtml;\n",
              "        element.appendChild(docLink);\n",
              "      }\n",
              "    </script>\n",
              "  </div>\n",
              "\n",
              "\n",
              "<div id=\"df-1f7103c1-0585-45c8-80d6-17db425169e6\">\n",
              "  <button class=\"colab-df-quickchart\" onclick=\"quickchart('df-1f7103c1-0585-45c8-80d6-17db425169e6')\"\n",
              "            title=\"Suggest charts\"\n",
              "            style=\"display:none;\">\n",
              "\n",
              "<svg xmlns=\"http://www.w3.org/2000/svg\" height=\"24px\"viewBox=\"0 0 24 24\"\n",
              "     width=\"24px\">\n",
              "    <g>\n",
              "        <path d=\"M19 3H5c-1.1 0-2 .9-2 2v14c0 1.1.9 2 2 2h14c1.1 0 2-.9 2-2V5c0-1.1-.9-2-2-2zM9 17H7v-7h2v7zm4 0h-2V7h2v10zm4 0h-2v-4h2v4z\"/>\n",
              "    </g>\n",
              "</svg>\n",
              "  </button>\n",
              "\n",
              "<style>\n",
              "  .colab-df-quickchart {\n",
              "      --bg-color: #E8F0FE;\n",
              "      --fill-color: #1967D2;\n",
              "      --hover-bg-color: #E2EBFA;\n",
              "      --hover-fill-color: #174EA6;\n",
              "      --disabled-fill-color: #AAA;\n",
              "      --disabled-bg-color: #DDD;\n",
              "  }\n",
              "\n",
              "  [theme=dark] .colab-df-quickchart {\n",
              "      --bg-color: #3B4455;\n",
              "      --fill-color: #D2E3FC;\n",
              "      --hover-bg-color: #434B5C;\n",
              "      --hover-fill-color: #FFFFFF;\n",
              "      --disabled-bg-color: #3B4455;\n",
              "      --disabled-fill-color: #666;\n",
              "  }\n",
              "\n",
              "  .colab-df-quickchart {\n",
              "    background-color: var(--bg-color);\n",
              "    border: none;\n",
              "    border-radius: 50%;\n",
              "    cursor: pointer;\n",
              "    display: none;\n",
              "    fill: var(--fill-color);\n",
              "    height: 32px;\n",
              "    padding: 0;\n",
              "    width: 32px;\n",
              "  }\n",
              "\n",
              "  .colab-df-quickchart:hover {\n",
              "    background-color: var(--hover-bg-color);\n",
              "    box-shadow: 0 1px 2px rgba(60, 64, 67, 0.3), 0 1px 3px 1px rgba(60, 64, 67, 0.15);\n",
              "    fill: var(--button-hover-fill-color);\n",
              "  }\n",
              "\n",
              "  .colab-df-quickchart-complete:disabled,\n",
              "  .colab-df-quickchart-complete:disabled:hover {\n",
              "    background-color: var(--disabled-bg-color);\n",
              "    fill: var(--disabled-fill-color);\n",
              "    box-shadow: none;\n",
              "  }\n",
              "\n",
              "  .colab-df-spinner {\n",
              "    border: 2px solid var(--fill-color);\n",
              "    border-color: transparent;\n",
              "    border-bottom-color: var(--fill-color);\n",
              "    animation:\n",
              "      spin 1s steps(1) infinite;\n",
              "  }\n",
              "\n",
              "  @keyframes spin {\n",
              "    0% {\n",
              "      border-color: transparent;\n",
              "      border-bottom-color: var(--fill-color);\n",
              "      border-left-color: var(--fill-color);\n",
              "    }\n",
              "    20% {\n",
              "      border-color: transparent;\n",
              "      border-left-color: var(--fill-color);\n",
              "      border-top-color: var(--fill-color);\n",
              "    }\n",
              "    30% {\n",
              "      border-color: transparent;\n",
              "      border-left-color: var(--fill-color);\n",
              "      border-top-color: var(--fill-color);\n",
              "      border-right-color: var(--fill-color);\n",
              "    }\n",
              "    40% {\n",
              "      border-color: transparent;\n",
              "      border-right-color: var(--fill-color);\n",
              "      border-top-color: var(--fill-color);\n",
              "    }\n",
              "    60% {\n",
              "      border-color: transparent;\n",
              "      border-right-color: var(--fill-color);\n",
              "    }\n",
              "    80% {\n",
              "      border-color: transparent;\n",
              "      border-right-color: var(--fill-color);\n",
              "      border-bottom-color: var(--fill-color);\n",
              "    }\n",
              "    90% {\n",
              "      border-color: transparent;\n",
              "      border-bottom-color: var(--fill-color);\n",
              "    }\n",
              "  }\n",
              "</style>\n",
              "\n",
              "  <script>\n",
              "    async function quickchart(key) {\n",
              "      const quickchartButtonEl =\n",
              "        document.querySelector('#' + key + ' button');\n",
              "      quickchartButtonEl.disabled = true;  // To prevent multiple clicks.\n",
              "      quickchartButtonEl.classList.add('colab-df-spinner');\n",
              "      try {\n",
              "        const charts = await google.colab.kernel.invokeFunction(\n",
              "            'suggestCharts', [key], {});\n",
              "      } catch (error) {\n",
              "        console.error('Error during call to suggestCharts:', error);\n",
              "      }\n",
              "      quickchartButtonEl.classList.remove('colab-df-spinner');\n",
              "      quickchartButtonEl.classList.add('colab-df-quickchart-complete');\n",
              "    }\n",
              "    (() => {\n",
              "      let quickchartButtonEl =\n",
              "        document.querySelector('#df-1f7103c1-0585-45c8-80d6-17db425169e6 button');\n",
              "      quickchartButtonEl.style.display =\n",
              "        google.colab.kernel.accessAllowed ? 'block' : 'none';\n",
              "    })();\n",
              "  </script>\n",
              "</div>\n",
              "\n",
              "    </div>\n",
              "  </div>\n"
            ],
            "application/vnd.google.colaboratory.intrinsic+json": {
              "type": "dataframe",
              "variable_name": "words_df",
              "summary": "{\n  \"name\": \"words_df\",\n  \"rows\": 11147,\n  \"fields\": [\n    {\n      \"column\": \"word\",\n      \"properties\": {\n        \"dtype\": \"string\",\n        \"num_unique_values\": 11147,\n        \"samples\": [\n          \"electronic\",\n          \"baseline\",\n          \"notify\"\n        ],\n        \"semantic_type\": \"\",\n        \"description\": \"\"\n      }\n    },\n    {\n      \"column\": \"count\",\n      \"properties\": {\n        \"dtype\": \"number\",\n        \"std\": 424,\n        \"min\": 1,\n        \"max\": 19654,\n        \"num_unique_values\": 430,\n        \"samples\": [\n          7709,\n          76,\n          199\n        ],\n        \"semantic_type\": \"\",\n        \"description\": \"\"\n      }\n    }\n  ]\n}"
            }
          },
          "metadata": {},
          "execution_count": 15
        }
      ]
    },
    {
      "cell_type": "code",
      "metadata": {
        "id": "EWJEto8TMPiq",
        "colab": {
          "base_uri": "https://localhost:8080/",
          "height": 206
        },
        "outputId": "e9efbefe-7105-4283-970e-7ec256715c9d"
      },
      "source": [
        "words_df.tail()"
      ],
      "execution_count": null,
      "outputs": [
        {
          "output_type": "execute_result",
          "data": {
            "text/plain": [
              "      word  count\n",
              "11142  you  11909\n",
              "11143    a  13380\n",
              "11144   to  14000\n",
              "11145  the  15406\n",
              "11146    i  19654"
            ],
            "text/html": [
              "\n",
              "  <div id=\"df-821da83e-acd2-47be-ae1d-29db1bd0a138\" class=\"colab-df-container\">\n",
              "    <div>\n",
              "<style scoped>\n",
              "    .dataframe tbody tr th:only-of-type {\n",
              "        vertical-align: middle;\n",
              "    }\n",
              "\n",
              "    .dataframe tbody tr th {\n",
              "        vertical-align: top;\n",
              "    }\n",
              "\n",
              "    .dataframe thead th {\n",
              "        text-align: right;\n",
              "    }\n",
              "</style>\n",
              "<table border=\"1\" class=\"dataframe\">\n",
              "  <thead>\n",
              "    <tr style=\"text-align: right;\">\n",
              "      <th></th>\n",
              "      <th>word</th>\n",
              "      <th>count</th>\n",
              "    </tr>\n",
              "  </thead>\n",
              "  <tbody>\n",
              "    <tr>\n",
              "      <th>11142</th>\n",
              "      <td>you</td>\n",
              "      <td>11909</td>\n",
              "    </tr>\n",
              "    <tr>\n",
              "      <th>11143</th>\n",
              "      <td>a</td>\n",
              "      <td>13380</td>\n",
              "    </tr>\n",
              "    <tr>\n",
              "      <th>11144</th>\n",
              "      <td>to</td>\n",
              "      <td>14000</td>\n",
              "    </tr>\n",
              "    <tr>\n",
              "      <th>11145</th>\n",
              "      <td>the</td>\n",
              "      <td>15406</td>\n",
              "    </tr>\n",
              "    <tr>\n",
              "      <th>11146</th>\n",
              "      <td>i</td>\n",
              "      <td>19654</td>\n",
              "    </tr>\n",
              "  </tbody>\n",
              "</table>\n",
              "</div>\n",
              "    <div class=\"colab-df-buttons\">\n",
              "\n",
              "  <div class=\"colab-df-container\">\n",
              "    <button class=\"colab-df-convert\" onclick=\"convertToInteractive('df-821da83e-acd2-47be-ae1d-29db1bd0a138')\"\n",
              "            title=\"Convert this dataframe to an interactive table.\"\n",
              "            style=\"display:none;\">\n",
              "\n",
              "  <svg xmlns=\"http://www.w3.org/2000/svg\" height=\"24px\" viewBox=\"0 -960 960 960\">\n",
              "    <path d=\"M120-120v-720h720v720H120Zm60-500h600v-160H180v160Zm220 220h160v-160H400v160Zm0 220h160v-160H400v160ZM180-400h160v-160H180v160Zm440 0h160v-160H620v160ZM180-180h160v-160H180v160Zm440 0h160v-160H620v160Z\"/>\n",
              "  </svg>\n",
              "    </button>\n",
              "\n",
              "  <style>\n",
              "    .colab-df-container {\n",
              "      display:flex;\n",
              "      gap: 12px;\n",
              "    }\n",
              "\n",
              "    .colab-df-convert {\n",
              "      background-color: #E8F0FE;\n",
              "      border: none;\n",
              "      border-radius: 50%;\n",
              "      cursor: pointer;\n",
              "      display: none;\n",
              "      fill: #1967D2;\n",
              "      height: 32px;\n",
              "      padding: 0 0 0 0;\n",
              "      width: 32px;\n",
              "    }\n",
              "\n",
              "    .colab-df-convert:hover {\n",
              "      background-color: #E2EBFA;\n",
              "      box-shadow: 0px 1px 2px rgba(60, 64, 67, 0.3), 0px 1px 3px 1px rgba(60, 64, 67, 0.15);\n",
              "      fill: #174EA6;\n",
              "    }\n",
              "\n",
              "    .colab-df-buttons div {\n",
              "      margin-bottom: 4px;\n",
              "    }\n",
              "\n",
              "    [theme=dark] .colab-df-convert {\n",
              "      background-color: #3B4455;\n",
              "      fill: #D2E3FC;\n",
              "    }\n",
              "\n",
              "    [theme=dark] .colab-df-convert:hover {\n",
              "      background-color: #434B5C;\n",
              "      box-shadow: 0px 1px 3px 1px rgba(0, 0, 0, 0.15);\n",
              "      filter: drop-shadow(0px 1px 2px rgba(0, 0, 0, 0.3));\n",
              "      fill: #FFFFFF;\n",
              "    }\n",
              "  </style>\n",
              "\n",
              "    <script>\n",
              "      const buttonEl =\n",
              "        document.querySelector('#df-821da83e-acd2-47be-ae1d-29db1bd0a138 button.colab-df-convert');\n",
              "      buttonEl.style.display =\n",
              "        google.colab.kernel.accessAllowed ? 'block' : 'none';\n",
              "\n",
              "      async function convertToInteractive(key) {\n",
              "        const element = document.querySelector('#df-821da83e-acd2-47be-ae1d-29db1bd0a138');\n",
              "        const dataTable =\n",
              "          await google.colab.kernel.invokeFunction('convertToInteractive',\n",
              "                                                    [key], {});\n",
              "        if (!dataTable) return;\n",
              "\n",
              "        const docLinkHtml = 'Like what you see? Visit the ' +\n",
              "          '<a target=\"_blank\" href=https://colab.research.google.com/notebooks/data_table.ipynb>data table notebook</a>'\n",
              "          + ' to learn more about interactive tables.';\n",
              "        element.innerHTML = '';\n",
              "        dataTable['output_type'] = 'display_data';\n",
              "        await google.colab.output.renderOutput(dataTable, element);\n",
              "        const docLink = document.createElement('div');\n",
              "        docLink.innerHTML = docLinkHtml;\n",
              "        element.appendChild(docLink);\n",
              "      }\n",
              "    </script>\n",
              "  </div>\n",
              "\n",
              "\n",
              "<div id=\"df-d32b11b5-7382-402c-83af-63cd7dbf0341\">\n",
              "  <button class=\"colab-df-quickchart\" onclick=\"quickchart('df-d32b11b5-7382-402c-83af-63cd7dbf0341')\"\n",
              "            title=\"Suggest charts\"\n",
              "            style=\"display:none;\">\n",
              "\n",
              "<svg xmlns=\"http://www.w3.org/2000/svg\" height=\"24px\"viewBox=\"0 0 24 24\"\n",
              "     width=\"24px\">\n",
              "    <g>\n",
              "        <path d=\"M19 3H5c-1.1 0-2 .9-2 2v14c0 1.1.9 2 2 2h14c1.1 0 2-.9 2-2V5c0-1.1-.9-2-2-2zM9 17H7v-7h2v7zm4 0h-2V7h2v10zm4 0h-2v-4h2v4z\"/>\n",
              "    </g>\n",
              "</svg>\n",
              "  </button>\n",
              "\n",
              "<style>\n",
              "  .colab-df-quickchart {\n",
              "      --bg-color: #E8F0FE;\n",
              "      --fill-color: #1967D2;\n",
              "      --hover-bg-color: #E2EBFA;\n",
              "      --hover-fill-color: #174EA6;\n",
              "      --disabled-fill-color: #AAA;\n",
              "      --disabled-bg-color: #DDD;\n",
              "  }\n",
              "\n",
              "  [theme=dark] .colab-df-quickchart {\n",
              "      --bg-color: #3B4455;\n",
              "      --fill-color: #D2E3FC;\n",
              "      --hover-bg-color: #434B5C;\n",
              "      --hover-fill-color: #FFFFFF;\n",
              "      --disabled-bg-color: #3B4455;\n",
              "      --disabled-fill-color: #666;\n",
              "  }\n",
              "\n",
              "  .colab-df-quickchart {\n",
              "    background-color: var(--bg-color);\n",
              "    border: none;\n",
              "    border-radius: 50%;\n",
              "    cursor: pointer;\n",
              "    display: none;\n",
              "    fill: var(--fill-color);\n",
              "    height: 32px;\n",
              "    padding: 0;\n",
              "    width: 32px;\n",
              "  }\n",
              "\n",
              "  .colab-df-quickchart:hover {\n",
              "    background-color: var(--hover-bg-color);\n",
              "    box-shadow: 0 1px 2px rgba(60, 64, 67, 0.3), 0 1px 3px 1px rgba(60, 64, 67, 0.15);\n",
              "    fill: var(--button-hover-fill-color);\n",
              "  }\n",
              "\n",
              "  .colab-df-quickchart-complete:disabled,\n",
              "  .colab-df-quickchart-complete:disabled:hover {\n",
              "    background-color: var(--disabled-bg-color);\n",
              "    fill: var(--disabled-fill-color);\n",
              "    box-shadow: none;\n",
              "  }\n",
              "\n",
              "  .colab-df-spinner {\n",
              "    border: 2px solid var(--fill-color);\n",
              "    border-color: transparent;\n",
              "    border-bottom-color: var(--fill-color);\n",
              "    animation:\n",
              "      spin 1s steps(1) infinite;\n",
              "  }\n",
              "\n",
              "  @keyframes spin {\n",
              "    0% {\n",
              "      border-color: transparent;\n",
              "      border-bottom-color: var(--fill-color);\n",
              "      border-left-color: var(--fill-color);\n",
              "    }\n",
              "    20% {\n",
              "      border-color: transparent;\n",
              "      border-left-color: var(--fill-color);\n",
              "      border-top-color: var(--fill-color);\n",
              "    }\n",
              "    30% {\n",
              "      border-color: transparent;\n",
              "      border-left-color: var(--fill-color);\n",
              "      border-top-color: var(--fill-color);\n",
              "      border-right-color: var(--fill-color);\n",
              "    }\n",
              "    40% {\n",
              "      border-color: transparent;\n",
              "      border-right-color: var(--fill-color);\n",
              "      border-top-color: var(--fill-color);\n",
              "    }\n",
              "    60% {\n",
              "      border-color: transparent;\n",
              "      border-right-color: var(--fill-color);\n",
              "    }\n",
              "    80% {\n",
              "      border-color: transparent;\n",
              "      border-right-color: var(--fill-color);\n",
              "      border-bottom-color: var(--fill-color);\n",
              "    }\n",
              "    90% {\n",
              "      border-color: transparent;\n",
              "      border-bottom-color: var(--fill-color);\n",
              "    }\n",
              "  }\n",
              "</style>\n",
              "\n",
              "  <script>\n",
              "    async function quickchart(key) {\n",
              "      const quickchartButtonEl =\n",
              "        document.querySelector('#' + key + ' button');\n",
              "      quickchartButtonEl.disabled = true;  // To prevent multiple clicks.\n",
              "      quickchartButtonEl.classList.add('colab-df-spinner');\n",
              "      try {\n",
              "        const charts = await google.colab.kernel.invokeFunction(\n",
              "            'suggestCharts', [key], {});\n",
              "      } catch (error) {\n",
              "        console.error('Error during call to suggestCharts:', error);\n",
              "      }\n",
              "      quickchartButtonEl.classList.remove('colab-df-spinner');\n",
              "      quickchartButtonEl.classList.add('colab-df-quickchart-complete');\n",
              "    }\n",
              "    (() => {\n",
              "      let quickchartButtonEl =\n",
              "        document.querySelector('#df-d32b11b5-7382-402c-83af-63cd7dbf0341 button');\n",
              "      quickchartButtonEl.style.display =\n",
              "        google.colab.kernel.accessAllowed ? 'block' : 'none';\n",
              "    })();\n",
              "  </script>\n",
              "</div>\n",
              "\n",
              "    </div>\n",
              "  </div>\n"
            ],
            "application/vnd.google.colaboratory.intrinsic+json": {
              "type": "dataframe",
              "summary": "{\n  \"name\": \"words_df\",\n  \"rows\": 5,\n  \"fields\": [\n    {\n      \"column\": \"word\",\n      \"properties\": {\n        \"dtype\": \"string\",\n        \"num_unique_values\": 5,\n        \"samples\": [\n          \"a\",\n          \"i\",\n          \"to\"\n        ],\n        \"semantic_type\": \"\",\n        \"description\": \"\"\n      }\n    },\n    {\n      \"column\": \"count\",\n      \"properties\": {\n        \"dtype\": \"number\",\n        \"std\": 2954,\n        \"min\": 11909,\n        \"max\": 19654,\n        \"num_unique_values\": 5,\n        \"samples\": [\n          13380,\n          19654,\n          14000\n        ],\n        \"semantic_type\": \"\",\n        \"description\": \"\"\n      }\n    }\n  ]\n}"
            }
          },
          "metadata": {},
          "execution_count": 17
        }
      ]
    },
    {
      "cell_type": "markdown",
      "metadata": {
        "id": "nTcWd-pYFRob"
      },
      "source": [
        "## 3.3 Find and Replace Rare Words with \"Unknown\" Token"
      ]
    },
    {
      "cell_type": "code",
      "metadata": {
        "id": "1iC4ztG3XIP3"
      },
      "source": [
        "# user specified threshold value\n",
        "rare_thresh = 4\n",
        "\n",
        "# get percentage of rare words in the vocabulary\n",
        "rare_words_count = len(words_df[words_df['count'] < rare_thresh]['word'])\n",
        "total_words = len(words_df)\n",
        "rare_dist = rare_words_count / total_words\n",
        "\n",
        "# coverage percentage of rare words in the corpus\n",
        "rare_cover = words_df[words_df['count'] < rare_thresh]['count'].sum()/words_df['count'].sum()"
      ],
      "execution_count": null,
      "outputs": []
    },
    {
      "cell_type": "code",
      "source": [
        "rare_words_count"
      ],
      "metadata": {
        "colab": {
          "base_uri": "https://localhost:8080/"
        },
        "id": "uR1_jmINpU1Q",
        "outputId": "c295ec8d-7900-49b8-bbe0-67bc5bf65982"
      },
      "execution_count": null,
      "outputs": [
        {
          "output_type": "execute_result",
          "data": {
            "text/plain": [
              "7695"
            ]
          },
          "metadata": {},
          "execution_count": 33
        }
      ]
    },
    {
      "cell_type": "code",
      "metadata": {
        "id": "helYHQ4BXNK9",
        "colab": {
          "base_uri": "https://localhost:8080/"
        },
        "outputId": "b97fbee0-244e-4c0f-8608-c05a72f1ffd5"
      },
      "source": [
        "print(f\"Rare words distribution in the vocabulary: {rare_dist*100:.2f}\")\n",
        "print(f\"Rare words coverage in the corpus: {rare_cover*100:.2f}\")"
      ],
      "execution_count": null,
      "outputs": [
        {
          "output_type": "stream",
          "name": "stdout",
          "text": [
            "Rare words distribution in the vocabulary: 69.03\n",
            "Rare words coverage in the corpus: 2.27\n"
          ]
        }
      ]
    },
    {
      "cell_type": "code",
      "metadata": {
        "id": "yJhbRQllXQJk"
      },
      "source": [
        "# extract rare words in a list\n",
        "rare_words = words_df[words_df['count'] < rare_thresh]['word'].tolist()"
      ],
      "execution_count": null,
      "outputs": []
    },
    {
      "cell_type": "markdown",
      "metadata": {
        "id": "178uBVztqTDa"
      },
      "source": [
        "Let's see the technique that we will use to replace the rare words/tokens in the dataset with a special token known as the unknown token (\"\\<unk\\>\")"
      ]
    },
    {
      "cell_type": "code",
      "metadata": {
        "id": "H5tSChzyoOJT",
        "colab": {
          "base_uri": "https://localhost:8080/"
        },
        "outputId": "4046c7bb-92dd-4426-dbd5-b3a623065987"
      },
      "source": [
        "## example\n",
        "# specify rare words\n",
        "r_words = [\"day\", \"book\"]\n",
        "\n",
        "# build pattern\n",
        "pattern = \"\"\n",
        "for i in r_words:\n",
        "  pattern+= \"{}|\".format(i)\n",
        "\n",
        "print(pattern)"
      ],
      "execution_count": null,
      "outputs": [
        {
          "output_type": "stream",
          "name": "stdout",
          "text": [
            "day|book|\n"
          ]
        }
      ]
    },
    {
      "cell_type": "code",
      "metadata": {
        "id": "xZAMqmwPowZj",
        "colab": {
          "base_uri": "https://localhost:8080/"
        },
        "outputId": "d2dad030-02a3-4427-fd8c-d90bd6d37552"
      },
      "source": [
        "# removing the last element which is \"|\"\n",
        "pattern = pattern[:-1]\n",
        "print(pattern)"
      ],
      "execution_count": null,
      "outputs": [
        {
          "output_type": "stream",
          "name": "stdout",
          "text": [
            "day|book\n"
          ]
        }
      ]
    },
    {
      "cell_type": "code",
      "metadata": {
        "id": "UV1K1ibbo3XI",
        "colab": {
          "base_uri": "https://localhost:8080/"
        },
        "outputId": "0f0a2e93-996b-4277-d5b8-e46dc71943c6"
      },
      "source": [
        "# replace the rare words with the <unk> token\n",
        "sents = [\"it has been a long day\", \"this book is a must read\"]\n",
        "\n",
        "for d in sents:\n",
        "  text = re.sub(pattern, \" <unk> \", d)\n",
        "  print(text)"
      ],
      "execution_count": null,
      "outputs": [
        {
          "output_type": "stream",
          "name": "stdout",
          "text": [
            "it has been a long  <unk> \n",
            "this  <unk>  is a must read\n"
          ]
        }
      ]
    },
    {
      "cell_type": "code",
      "metadata": {
        "id": "hEn-L1_8YBjl",
        "colab": {
          "base_uri": "https://localhost:8080/",
          "height": 101,
          "referenced_widgets": [
            "b3072179c8d8407ab6b9817065fa1ffc",
            "e76d5130e6da4f7e99a2dcb19e76e808",
            "44964f1f99b540d48e3478a7e2f2936a",
            "faa45765781b4a85b1dcbb90fd88a73d",
            "f999b907f38744119223a2410d079327",
            "7f9aaf6f4c684954ac172253379ddf0c",
            "b6992f5d15994e2dbd8d3ffdd62776fc",
            "5174e36da9fa4e0aa89d0a47f2c68a42",
            "8a2069647f7644a0bd56412820bd211e",
            "070467dede46424ea4a852ad873f0c45",
            "8ec7646033c4499db2d573cb2a79d242"
          ]
        },
        "outputId": "0a302131-ecfa-496b-c808-0e751b5d90ec"
      },
      "source": [
        "# create a text pattern from the rare words, like \"word1 | word2 | word3...\"\n",
        "pattern = \"\"\n",
        "for i in rare_words:\n",
        "  pattern+= \" {} |\".format(i)\n",
        "\n",
        "# removing the last element which is \"|\"\n",
        "pattern = pattern[:-1]\n",
        "\n",
        "# empty list\n",
        "dialogs_clean_v2 = []\n",
        "\n",
        "# replace the rare words with the <unk> token\n",
        "for d in tqdm_notebook(dialogs_clean):\n",
        "  text = re.sub(pattern, \" <unk> \", d)\n",
        "  dialogs_clean_v2.append(text)"
      ],
      "execution_count": null,
      "outputs": [
        {
          "output_type": "stream",
          "name": "stderr",
          "text": [
            "<ipython-input-26-846b16966f4e>:13: TqdmDeprecationWarning: This function will be removed in tqdm==5.0.0\n",
            "Please use `tqdm.notebook.tqdm` instead of `tqdm.tqdm_notebook`\n",
            "  for d in tqdm_notebook(dialogs_clean):\n"
          ]
        },
        {
          "output_type": "display_data",
          "data": {
            "text/plain": [
              "  0%|          | 0/64776 [00:00<?, ?it/s]"
            ],
            "application/vnd.jupyter.widget-view+json": {
              "version_major": 2,
              "version_minor": 0,
              "model_id": "b3072179c8d8407ab6b9817065fa1ffc"
            }
          },
          "metadata": {}
        }
      ]
    },
    {
      "cell_type": "code",
      "metadata": {
        "id": "SoQwO5FAZSP1",
        "colab": {
          "base_uri": "https://localhost:8080/"
        },
        "outputId": "7cf0e31b-e5a8-4332-dc65-e4b0e4b79fe8"
      },
      "source": [
        "dialogs_clean_v2[520:530]"
      ],
      "execution_count": null,
      "outputs": [
        {
          "output_type": "execute_result",
          "data": {
            "text/plain": [
              "['does it serve traditional chinese dessert',\n",
              " 'how much extra time to reach <unk> ',\n",
              " 'ok lets reserve a table for dinner at hakkasan',\n",
              " 'hello i need to get a car please',\n",
              " 'holiday inn <unk> parkconv <unk> convention center drive <unk> park il',\n",
              " 'bowling alley <unk> highway <unk> park il',\n",
              " 'what types of cars does uber have',\n",
              " \"what's the price difference\",\n",
              " 'ok get me the cheapest please',\n",
              " 'ok then get me the next level']"
            ]
          },
          "metadata": {},
          "execution_count": 27
        }
      ]
    },
    {
      "cell_type": "markdown",
      "metadata": {
        "id": "waTukoy1AbVT"
      },
      "source": [
        "# 4. Data Preparation"
      ]
    },
    {
      "cell_type": "markdown",
      "metadata": {
        "id": "8SvIJQ0brBWW"
      },
      "source": [
        "## 4.1 Prepare Sequences"
      ]
    },
    {
      "cell_type": "code",
      "metadata": {
        "id": "H5BYGcwBF7hX",
        "colab": {
          "base_uri": "https://localhost:8080/",
          "height": 447
        },
        "outputId": "783acc72-146d-437b-8023-af331b7f3c48"
      },
      "source": [
        "# capture length of all the sequences\n",
        "text_word_count = []\n",
        "for i in dialogs_clean_v2:\n",
        "  text_word_count.append(len(i.split()))\n",
        "\n",
        "# plot the sequence lengths\n",
        "pd.Series(text_word_count).hist(bins = 30,range=(0,30))"
      ],
      "execution_count": null,
      "outputs": [
        {
          "output_type": "execute_result",
          "data": {
            "text/plain": [
              "<Axes: >"
            ]
          },
          "metadata": {},
          "execution_count": 35
        },
        {
          "output_type": "display_data",
          "data": {
            "text/plain": [
              "<Figure size 640x480 with 1 Axes>"
            ],
            "image/png": "[encoded data removed]"
          },
          "metadata": {}
        }
      ]
    },
    {
      "cell_type": "code",
      "metadata": {
        "id": "uw8F6bfwjBeo"
      },
      "source": [
        "# function to create sequences of equal length\n",
        "def create_seq(text, seq_len = 5):\n",
        "\n",
        "  sequences = []\n",
        "\n",
        "  if len(text.split()) > seq_len:\n",
        "    for i in range(seq_len, len(text.split())):\n",
        "      # select sequence of tokens\n",
        "      seq = text.split()[i-seq_len:i+1]\n",
        "      # append sequence to the list\n",
        "      sequences.append(\" \".join(seq))\n",
        "\n",
        "    return sequences\n",
        "\n",
        "  else:\n",
        "\n",
        "    return [text]"
      ],
      "execution_count": null,
      "outputs": []
    },
    {
      "cell_type": "code",
      "metadata": {
        "id": "p0psJCgo9QtH"
      },
      "source": [
        "# create sequences of equal length\n",
        "seqs = [create_seq(i) for i in dialogs_clean_v2]"
      ],
      "execution_count": null,
      "outputs": []
    },
    {
      "cell_type": "code",
      "metadata": {
        "id": "LCrf5t5vCI6I",
        "colab": {
          "base_uri": "https://localhost:8080/"
        },
        "outputId": "5e0afa2b-b7c9-4799-e280-51729fd70f13"
      },
      "source": [
        "seqs[:10]"
      ],
      "execution_count": null,
      "outputs": [
        {
          "output_type": "execute_result",
          "data": {
            "text/plain": [
              "[[\"hi i'm looking to book a\",\n",
              "  \"i'm looking to book a table\",\n",
              "  'looking to book a table for',\n",
              "  'to book a table for korean',\n",
              "  'book a table for korean fod'],\n",
              " ['somewhere in southern nyc maybe the',\n",
              "  'in southern nyc maybe the east',\n",
              "  'southern nyc maybe the east village'],\n",
              " [\"we don't want to sit at\",\n",
              "  \"don't want to sit at the\",\n",
              "  'want to sit at the bar',\n",
              "  'to sit at the bar but',\n",
              "  'sit at the bar but anywhere',\n",
              "  'at the bar but anywhere else',\n",
              "  'the bar but anywhere else is',\n",
              "  'bar but anywhere else is fine'],\n",
              " ['what times are available'],\n",
              " [\"yikes we can't do those times\"],\n",
              " ['let me check'],\n",
              " [\"great let's book that\"],\n",
              " [\"no that's it just book\"],\n",
              " ['hi i would like to see',\n",
              "  'i would like to see if',\n",
              "  'would like to see if the',\n",
              "  'like to see if the movie',\n",
              "  'to see if the movie what',\n",
              "  'see if the movie what men',\n",
              "  'if the movie what men want',\n",
              "  'the movie what men want is',\n",
              "  'movie what men want is playing',\n",
              "  'what men want is playing here'],\n",
              " ['yes for me and a friend',\n",
              "  'for me and a friend so',\n",
              "  'me and a friend so two',\n",
              "  'and a friend so two tickets',\n",
              "  'a friend so two tickets please']]"
            ]
          },
          "metadata": {},
          "execution_count": 38
        }
      ]
    },
    {
      "cell_type": "code",
      "metadata": {
        "id": "S4O3-S6PA78w"
      },
      "source": [
        "# merge list-of-lists into a single list\n",
        "seqs = sum(seqs, [])"
      ],
      "execution_count": null,
      "outputs": []
    },
    {
      "cell_type": "code",
      "metadata": {
        "id": "dwmBsxuqxPRq",
        "colab": {
          "base_uri": "https://localhost:8080/"
        },
        "outputId": "ac594bec-09fb-4111-eb13-b702fdeee860"
      },
      "source": [
        "seqs[:15]"
      ],
      "execution_count": null,
      "outputs": [
        {
          "output_type": "execute_result",
          "data": {
            "text/plain": [
              "[\"hi i'm looking to book a\",\n",
              " \"i'm looking to book a table\",\n",
              " 'looking to book a table for',\n",
              " 'to book a table for korean',\n",
              " 'book a table for korean fod',\n",
              " 'somewhere in southern nyc maybe the',\n",
              " 'in southern nyc maybe the east',\n",
              " 'southern nyc maybe the east village',\n",
              " \"we don't want to sit at\",\n",
              " \"don't want to sit at the\",\n",
              " 'want to sit at the bar',\n",
              " 'to sit at the bar but',\n",
              " 'sit at the bar but anywhere',\n",
              " 'at the bar but anywhere else',\n",
              " 'the bar but anywhere else is']"
            ]
          },
          "metadata": {},
          "execution_count": 41
        }
      ]
    },
    {
      "cell_type": "code",
      "metadata": {
        "id": "cNW5MIpTDufa",
        "colab": {
          "base_uri": "https://localhost:8080/"
        },
        "outputId": "c9f521e7-d20d-407e-9dd6-c13d0b85a787"
      },
      "source": [
        "# count of sequences\n",
        "len(seqs)"
      ],
      "execution_count": null,
      "outputs": [
        {
          "output_type": "execute_result",
          "data": {
            "text/plain": [
              "205346"
            ]
          },
          "metadata": {},
          "execution_count": 42
        }
      ]
    },
    {
      "cell_type": "code",
      "metadata": {
        "id": "M0dppnffaEgG"
      },
      "source": [
        "# create input and target sequences (x and y)\n",
        "x = []\n",
        "y = []\n",
        "\n",
        "for s in seqs:\n",
        "  x.append(\" \".join(s.split()[:-1]))\n",
        "  y.append(\" \".join(s.split()[1:]))"
      ],
      "execution_count": null,
      "outputs": []
    },
    {
      "cell_type": "code",
      "metadata": {
        "id": "27XKPYgLwuOF",
        "colab": {
          "base_uri": "https://localhost:8080/"
        },
        "outputId": "5639ade7-758d-42c8-e647-be7e5d54fdef"
      },
      "source": [
        "x[0], y[0]"
      ],
      "execution_count": null,
      "outputs": [
        {
          "output_type": "execute_result",
          "data": {
            "text/plain": [
              "(\"hi i'm looking to book\", \"i'm looking to book a\")"
            ]
          },
          "metadata": {},
          "execution_count": 44
        }
      ]
    },
    {
      "cell_type": "code",
      "metadata": {
        "id": "rVge-c6WHUx1",
        "colab": {
          "base_uri": "https://localhost:8080/"
        },
        "outputId": "05efeccf-302f-4e51-ad7f-159d741665b9"
      },
      "source": [
        "x[88543], y[88543]"
      ],
      "execution_count": null,
      "outputs": [
        {
          "output_type": "execute_result",
          "data": {
            "text/plain": [
              "('to drive to several locations', 'drive to several locations do')"
            ]
          },
          "metadata": {},
          "execution_count": 45
        }
      ]
    },
    {
      "cell_type": "markdown",
      "metadata": {
        "id": "IzR5aG9wrZJ5"
      },
      "source": [
        "## 4.2 Create Token-Integer Mappings"
      ]
    },
    {
      "cell_type": "code",
      "metadata": {
        "id": "CSgaezAI60ht"
      },
      "source": [
        "# create integer-to-token mapping\n",
        "int2token = {}\n",
        "cnt = 1\n",
        "\n",
        "for w in set(\" \".join(dialogs_clean_v2).split()):\n",
        "  int2token[cnt] = w\n",
        "  cnt+= 1\n",
        "\n",
        "# create token-to-integer mapping\n",
        "token2int = {t: i for i, t in int2token.items()}"
      ],
      "execution_count": null,
      "outputs": []
    },
    {
      "cell_type": "code",
      "metadata": {
        "id": "j5TSElOk_OQf",
        "colab": {
          "base_uri": "https://localhost:8080/",
          "height": 35
        },
        "outputId": "46bc5c8b-f3b5-4121-e064-227a46ca8979"
      },
      "source": [
        "#token2int[\"can\"], int2token[1127]\n",
        "#token2int[\"can\"]\n",
        "int2token[1127]"
      ],
      "execution_count": null,
      "outputs": [
        {
          "output_type": "execute_result",
          "data": {
            "text/plain": [
              "'required'"
            ],
            "application/vnd.google.colaboratory.intrinsic+json": {
              "type": "string"
            }
          },
          "metadata": {},
          "execution_count": 50
        }
      ]
    },
    {
      "cell_type": "markdown",
      "metadata": {
        "id": "KQOk80iBr51V"
      },
      "source": [
        "## 4.3 Split Data into Train and Validation Sets"
      ]
    },
    {
      "cell_type": "code",
      "metadata": {
        "id": "Jn6a1aXvAcRl"
      },
      "source": [
        "# train-validation split\n",
        "# input sequences\n",
        "x_tr = x[:150000]\n",
        "x_val = x[150000:]\n",
        "\n",
        "# target sequences\n",
        "y_tr = y[:150000]\n",
        "y_val = y[150000:]"
      ],
      "execution_count": 53,
      "outputs": []
    },
    {
      "cell_type": "markdown",
      "metadata": {
        "id": "YIfKsjE3sxgu"
      },
      "source": [
        "## 4.4 Pad Sequences"
      ]
    },
    {
      "cell_type": "code",
      "metadata": {
        "id": "QlG-sd79sNjH",
        "colab": {
          "base_uri": "https://localhost:8080/",
          "height": 447
        },
        "outputId": "2a91ddde-1f5d-4b9c-ab07-a6c68dac3b8f"
      },
      "source": [
        "# plot sequence length in train set\n",
        "text_word_count = []\n",
        "\n",
        "for i in x_tr:\n",
        "  text_word_count.append(len(i.split()))\n",
        "\n",
        "pd.Series(text_word_count).hist(bins = 70,range=(0,30))"
      ],
      "execution_count": null,
      "outputs": [
        {
          "output_type": "execute_result",
          "data": {
            "text/plain": [
              "<Axes: >"
            ]
          },
          "metadata": {},
          "execution_count": 52
        },
        {
          "output_type": "display_data",
          "data": {
            "text/plain": [
              "<Figure size 640x480 with 1 Axes>"
            ],
            "image/png": "[encoded data removed]"
          },
          "metadata": {}
        }
      ]
    },
    {
      "cell_type": "code",
      "metadata": {
        "id": "2umo7Mns5NKl"
      },
      "source": [
        "# based on the plot above\n",
        "max_text_len = 5\n",
        "\n",
        "# function to perform padding\n",
        "def pad_sequence(seq, n):\n",
        "\n",
        "  # split input sequence into tokens\n",
        "  seq = seq.split()\n",
        "\n",
        "  # check if no. of tokens in input sequence is less than 'n'\n",
        "  if len(seq) < n:\n",
        "    for i in range(n - len(seq)):\n",
        "      seq.append(\"<pad>\")\n",
        "\n",
        "  return \" \".join(seq)\n",
        "\n",
        "# pad text sequences (train set)\n",
        "x_tr_padded = [pad_sequence(s, max_text_len) for s in x_tr]\n",
        "y_tr_padded = [pad_sequence(s, max_text_len) for s in y_tr]\n",
        "\n",
        "# pad text sequences (validation set)\n",
        "x_val_padded = [pad_sequence(s, max_text_len) for s in x_val]\n",
        "y_val_padded = [pad_sequence(s, max_text_len) for s in y_val]"
      ],
      "execution_count": 54,
      "outputs": []
    },
    {
      "cell_type": "code",
      "metadata": {
        "id": "gxwn3NyD-HBD",
        "colab": {
          "base_uri": "https://localhost:8080/"
        },
        "outputId": "5cac68aa-cd1d-4259-a9fd-2dd55f5f6bb3"
      },
      "source": [
        "x_tr_padded[:20]"
      ],
      "execution_count": 55,
      "outputs": [
        {
          "output_type": "execute_result",
          "data": {
            "text/plain": [
              "[\"hi i'm looking to book\",\n",
              " \"i'm looking to book a\",\n",
              " 'looking to book a table',\n",
              " 'to book a table for',\n",
              " 'book a table for korean',\n",
              " 'somewhere in southern nyc maybe',\n",
              " 'in southern nyc maybe the',\n",
              " 'southern nyc maybe the east',\n",
              " \"we don't want to sit\",\n",
              " \"don't want to sit at\",\n",
              " 'want to sit at the',\n",
              " 'to sit at the bar',\n",
              " 'sit at the bar but',\n",
              " 'at the bar but anywhere',\n",
              " 'the bar but anywhere else',\n",
              " 'bar but anywhere else is',\n",
              " 'what times are <pad> <pad>',\n",
              " \"yikes we can't do those\",\n",
              " 'let me <pad> <pad> <pad>',\n",
              " \"great let's book <pad> <pad>\"]"
            ]
          },
          "metadata": {},
          "execution_count": 55
        }
      ]
    },
    {
      "cell_type": "code",
      "metadata": {
        "id": "PPEGI_Xf-ne_",
        "colab": {
          "base_uri": "https://localhost:8080/"
        },
        "outputId": "9538cbeb-0558-4f28-d834-b840300e82cb"
      },
      "source": [
        "y_tr_padded[:20]"
      ],
      "execution_count": 56,
      "outputs": [
        {
          "output_type": "execute_result",
          "data": {
            "text/plain": [
              "[\"i'm looking to book a\",\n",
              " 'looking to book a table',\n",
              " 'to book a table for',\n",
              " 'book a table for korean',\n",
              " 'a table for korean fod',\n",
              " 'in southern nyc maybe the',\n",
              " 'southern nyc maybe the east',\n",
              " 'nyc maybe the east village',\n",
              " \"don't want to sit at\",\n",
              " 'want to sit at the',\n",
              " 'to sit at the bar',\n",
              " 'sit at the bar but',\n",
              " 'at the bar but anywhere',\n",
              " 'the bar but anywhere else',\n",
              " 'bar but anywhere else is',\n",
              " 'but anywhere else is fine',\n",
              " 'times are available <pad> <pad>',\n",
              " \"we can't do those times\",\n",
              " 'me check <pad> <pad> <pad>',\n",
              " \"let's book that <pad> <pad>\"]"
            ]
          },
          "metadata": {},
          "execution_count": 56
        }
      ]
    },
    {
      "cell_type": "code",
      "metadata": {
        "id": "mlUnd9v_-4ad",
        "colab": {
          "base_uri": "https://localhost:8080/"
        },
        "outputId": "ff9434f8-8857-4c8a-e941-58fa7d743166"
      },
      "source": [
        "# update mapping dictionaries\n",
        "int2token[0] = \"<pad>\"\n",
        "token2int[\"<pad>\"] = 0\n",
        "\n",
        "# set vocabulary size\n",
        "vocab_size = len(int2token)\n",
        "vocab_size"
      ],
      "execution_count": 58,
      "outputs": [
        {
          "output_type": "execute_result",
          "data": {
            "text/plain": [
              "6502"
            ]
          },
          "metadata": {},
          "execution_count": 58
        }
      ]
    },
    {
      "cell_type": "markdown",
      "metadata": {
        "id": "pLqEIRavtMpY"
      },
      "source": [
        "## 4.5 Convert Text Sequences to Integer Sequences"
      ]
    },
    {
      "cell_type": "code",
      "metadata": {
        "id": "HVxwznePACXC"
      },
      "source": [
        "# function to create integer sequences\n",
        "def get_integer_seq(seq):\n",
        "  return [token2int[w] for w in seq.split()]"
      ],
      "execution_count": 59,
      "outputs": []
    },
    {
      "cell_type": "code",
      "metadata": {
        "id": "r7QVnobNARnr"
      },
      "source": [
        "# convert text sequences to integer sequences\n",
        "x_tr_int = [get_integer_seq(i) for i in x_tr_padded]\n",
        "y_tr_int = [get_integer_seq(i) for i in y_tr_padded]\n",
        "\n",
        "x_val_int = [get_integer_seq(i) for i in x_val_padded]\n",
        "y_val_int = [get_integer_seq(i) for i in y_val_padded]"
      ],
      "execution_count": 60,
      "outputs": []
    },
    {
      "cell_type": "code",
      "metadata": {
        "id": "qo8g1L_FwAOC",
        "colab": {
          "base_uri": "https://localhost:8080/"
        },
        "outputId": "88fa28e8-cf5d-4e17-c5f0-f6ea5cc0faef"
      },
      "source": [
        "x_tr_int[:10]"
      ],
      "execution_count": 61,
      "outputs": [
        {
          "output_type": "execute_result",
          "data": {
            "text/plain": [
              "[[1181, 4743, 5430, 529, 4666],\n",
              " [4743, 5430, 529, 4666, 965],\n",
              " [5430, 529, 4666, 965, 3764],\n",
              " [529, 4666, 965, 3764, 91],\n",
              " [4666, 965, 3764, 91, 6199],\n",
              " [4553, 6339, 3126, 4500, 2329],\n",
              " [6339, 3126, 4500, 2329, 2633],\n",
              " [3126, 4500, 2329, 2633, 2409],\n",
              " [46, 917, 1669, 529, 927],\n",
              " [917, 1669, 529, 927, 554]]"
            ]
          },
          "metadata": {},
          "execution_count": 61
        }
      ]
    },
    {
      "cell_type": "code",
      "metadata": {
        "id": "yGa_ORxZwDkw",
        "colab": {
          "base_uri": "https://localhost:8080/"
        },
        "outputId": "36d1f14a-2fa3-496b-a4ae-fbe0672c8e07"
      },
      "source": [
        "y_tr_int[:10]"
      ],
      "execution_count": 65,
      "outputs": [
        {
          "output_type": "execute_result",
          "data": {
            "text/plain": [
              "[[4743, 5430, 529, 4666, 965],\n",
              " [5430, 529, 4666, 965, 3764],\n",
              " [529, 4666, 965, 3764, 91],\n",
              " [4666, 965, 3764, 91, 6199],\n",
              " [965, 3764, 91, 6199, 6413],\n",
              " [6339, 3126, 4500, 2329, 2633],\n",
              " [3126, 4500, 2329, 2633, 2409],\n",
              " [4500, 2329, 2633, 2409, 2115],\n",
              " [917, 1669, 529, 927, 554],\n",
              " [1669, 529, 927, 554, 2633]]"
            ]
          },
          "metadata": {},
          "execution_count": 65
        }
      ]
    },
    {
      "cell_type": "code",
      "metadata": {
        "id": "eLntLMs5NwGi",
        "colab": {
          "base_uri": "https://localhost:8080/"
        },
        "outputId": "07ef3598-ae67-44f5-85af-665906809cb3"
      },
      "source": [
        "# convert lists into numpy arrays\n",
        "x_tr_int = np.array(x_tr_int)\n",
        "y_tr_int = np.array(y_tr_int)\n",
        "\n",
        "x_val_int = np.array(x_val_int)\n",
        "y_val_int = np.array(y_val_int)\n",
        "\n",
        "x_tr_int.shape, y_tr_int.shape, x_val_int.shape, y_val_int.shape"
      ],
      "execution_count": 67,
      "outputs": [
        {
          "output_type": "execute_result",
          "data": {
            "text/plain": [
              "((150000, 5), (150000, 5), (55346, 5), (55346, 5))"
            ]
          },
          "metadata": {},
          "execution_count": 67
        }
      ]
    },
    {
      "cell_type": "markdown",
      "metadata": {
        "id": "-Y3bZcFywH33"
      },
      "source": [
        "# 5. Model Building"
      ]
    },
    {
      "cell_type": "markdown",
      "metadata": {
        "id": "tCh2prnryopJ"
      },
      "source": [
        "## 5.1 Define Model Architecture"
      ]
    },
    {
      "cell_type": "code",
      "metadata": {
        "id": "ldcidFnPRsOM"
      },
      "source": [
        "# define model architecture\n",
        "\n",
        "## embedding layer:\n",
        "##    input dim = vocab_size,\n",
        "##    ouput dim = 200\n",
        "\n",
        "## LSTM layer:\n",
        "##    input dim = 200\n",
        "##    hidden units = 256\n",
        "##    layers = 2\n",
        "##    output dim = 256\n",
        "\n",
        "## Dropout Layer\n",
        "##    input dim = 256\n",
        "##    output dim = 256\n",
        "\n",
        "## fully connected layer\n",
        "##    input dim = 256\n",
        "##    ouput dim = vocab_size\n",
        "\n",
        "class WordLSTM(nn.Module):\n",
        "\n",
        "  def __init__(self, n_hidden=256, n_layers=2, drop_prob=0.3, lr=0.001):\n",
        "    super().__init__()\n",
        "    self.drop_prob = drop_prob\n",
        "    self.n_layers = n_layers\n",
        "    self.n_hidden = n_hidden\n",
        "    self.lr = lr\n",
        "\n",
        "    self.emb_layer = nn.Embedding(vocab_size, 200)\n",
        "\n",
        "    ## define the LSTM\n",
        "    # input data is of shape (batch size, sequence length, no. of features)...\n",
        "    # ...therefore we need batch_first=True\n",
        "    self.lstm = nn.LSTM(200, n_hidden, n_layers, batch_first=True)\n",
        "\n",
        "    ## define a dropout layer\n",
        "    self.dropout = nn.Dropout(drop_prob)\n",
        "\n",
        "    ## define the fully-connected layer\n",
        "    self.fc = nn.Linear(n_hidden, vocab_size)\n",
        "\n",
        "  def forward(self, x, hidden):\n",
        "    ''' Forward pass through the network.\n",
        "        These inputs are x, and the hidden/cell state is `hidden`. '''\n",
        "\n",
        "    ## pass input through embedding layer\n",
        "    embedded = self.emb_layer(x)\n",
        "\n",
        "    ## Get the outputs and the new hidden state from the lstm\n",
        "    lstm_output, hidden = self.lstm(embedded, hidden)\n",
        "\n",
        "    ## pass through a dropout layer\n",
        "    out = self.dropout(lstm_output)\n",
        "\n",
        "    ## reshape the tensor to the shape (batch-size*sequence length, hidden units)\n",
        "    out = out.reshape(-1, self.n_hidden)\n",
        "\n",
        "    ## put \"out\" through the fully-connected layer\n",
        "    out = self.fc(out)\n",
        "\n",
        "    # return the final output and the hidden state\n",
        "    return out, hidden\n",
        "\n",
        "\n",
        "  def init_hidden(self, batch_size):\n",
        "    ''' Initializes hidden state '''\n",
        "    # Create two new tensors with sizes n_layers x batch_size x n_hidden,\n",
        "    # initialized to zero, for hidden state and cell state of LSTM\n",
        "    weight = next(self.parameters()).data\n",
        "\n",
        "    if (torch.cuda.is_available()):\n",
        "      hidden = (weight.new(self.n_layers, batch_size, self.n_hidden).zero_().cuda(),\n",
        "                weight.new(self.n_layers, batch_size, self.n_hidden).zero_().cuda())\n",
        "    else:\n",
        "      hidden = (weight.new(self.n_layers, batch_size, self.n_hidden).zero_(),\n",
        "                weight.new(self.n_layers, batch_size, self.n_hidden).zero_())\n",
        "\n",
        "    return hidden"
      ],
      "execution_count": 68,
      "outputs": []
    },
    {
      "cell_type": "code",
      "metadata": {
        "id": "LQq72w9ADLn_",
        "colab": {
          "base_uri": "https://localhost:8080/"
        },
        "outputId": "d894e0cf-b832-43e2-8a2e-34325370136f"
      },
      "source": [
        "# define and print the net\n",
        "net = WordLSTM()\n",
        "print(net)"
      ],
      "execution_count": 69,
      "outputs": [
        {
          "output_type": "stream",
          "name": "stdout",
          "text": [
            "WordLSTM(\n",
            "  (emb_layer): Embedding(6502, 200)\n",
            "  (lstm): LSTM(200, 256, num_layers=2, batch_first=True)\n",
            "  (dropout): Dropout(p=0.3, inplace=False)\n",
            "  (fc): Linear(in_features=256, out_features=6502, bias=True)\n",
            ")\n"
          ]
        }
      ]
    },
    {
      "cell_type": "code",
      "metadata": {
        "id": "2pRtYvAVFCKB"
      },
      "source": [
        "# function to generate batches\n",
        "def get_batches(arr_x, arr_y, batch_size):\n",
        "  # iterate through the arrays\n",
        "  prv = 0\n",
        "\n",
        "  for n in range(batch_size, arr_x.shape[0], batch_size):\n",
        "    # batch of input sequences\n",
        "    x = arr_x[prv:n,:]\n",
        "\n",
        "    # batch of target sequences\n",
        "    y = arr_y[prv:n,:]\n",
        "\n",
        "    prv = n\n",
        "\n",
        "    yield x, y"
      ],
      "execution_count": 70,
      "outputs": []
    },
    {
      "cell_type": "markdown",
      "metadata": {
        "id": "HpV3vbVeytW1"
      },
      "source": [
        "## 5.2 Start Model Training"
      ]
    },
    {
      "cell_type": "code",
      "metadata": {
        "id": "QHMBy8HQ2GhY"
      },
      "source": [
        "def train(net, epochs=10, batch_size=32, lr=0.001, print_every=32):\n",
        "\n",
        "  # set initial loss to infinite\n",
        "  best_valid_loss = float('inf')\n",
        "\n",
        "  # optimizer\n",
        "  opt = torch.optim.Adam(net.parameters(), lr=lr)\n",
        "\n",
        "  # loss function\n",
        "  criterion = nn.CrossEntropyLoss()\n",
        "\n",
        "  if(torch.cuda.is_available()):\n",
        "    # push model to GPU\n",
        "    net.cuda()\n",
        "\n",
        "  counter = 0\n",
        "\n",
        "  net.train()\n",
        "\n",
        "  for e in range(epochs):\n",
        "\n",
        "\n",
        "    # iterate over batches\n",
        "    for x, y in get_batches(x_tr_int, y_tr_int, batch_size):\n",
        "      counter+= 1\n",
        "\n",
        "      # convert arrays to tensors\n",
        "      inputs, targets = torch.from_numpy(x), torch.from_numpy(y)\n",
        "\n",
        "      if(torch.cuda.is_available()):\n",
        "        # push tensors to GPU\n",
        "        inputs, targets = inputs.cuda(), targets.cuda()\n",
        "\n",
        "      # initialize hidden state\n",
        "      h = net.init_hidden(batch_size)\n",
        "\n",
        "      # set accumulated gradients to zero\n",
        "      net.zero_grad()\n",
        "\n",
        "      # get the output from the model\n",
        "      output, h = net(inputs, h)\n",
        "\n",
        "      # calculate the loss and perform backprop\n",
        "      loss = criterion(output, targets.view(-1))\n",
        "      loss.backward()\n",
        "\n",
        "      opt.step()\n",
        "\n",
        "      if counter % print_every == 0:\n",
        "        # Get validation loss\n",
        "\n",
        "        val_losses = []\n",
        "\n",
        "        net.eval()\n",
        "        for x, y in get_batches(x_val_int, y_val_int, batch_size):\n",
        "\n",
        "          x, y = torch.from_numpy(x), torch.from_numpy(y)\n",
        "\n",
        "          val_h = net.init_hidden(batch_size)\n",
        "\n",
        "          inputs, targets = x, y\n",
        "          if(torch.cuda.is_available()):\n",
        "            inputs, targets = inputs.cuda(), targets.cuda()\n",
        "\n",
        "          output, val_h = net(inputs, val_h)\n",
        "\n",
        "          val_loss = criterion(output, targets.view(-1))\n",
        "          val_losses.append(val_loss.item())\n",
        "\n",
        "        #save the best model\n",
        "        if np.mean(val_losses) < best_valid_loss:\n",
        "          best_valid_loss = np.mean(val_losses)\n",
        "          torch.save(net.state_dict(), 'saved_weights.pt')\n",
        "\n",
        "        net.train()\n",
        "\n",
        "\n",
        "        print(\"Epoch: {}/{}...\".format(e+1, epochs),\n",
        "              \"Step: {}...\".format(counter),\n",
        "              \"Loss: {:.4f}...\".format(loss.item()),\n",
        "              \"ppl: {:.4f} \".format(np.exp(np.mean(val_losses))),\n",
        "              \"Val Loss: {:.4f}\".format(np.mean(val_losses)))"
      ],
      "execution_count": 71,
      "outputs": []
    },
    {
      "cell_type": "code",
      "metadata": {
        "id": "sbGexKELaTNb",
        "colab": {
          "base_uri": "https://localhost:8080/"
        },
        "outputId": "db039340-fd4e-47ad-9bfb-26c0f8e8223e"
      },
      "source": [
        "# specify batch size\n",
        "batch_size = 64\n",
        "\n",
        "# train the model\n",
        "train(net, batch_size = batch_size, epochs=10)"
      ],
      "execution_count": 72,
      "outputs": [
        {
          "output_type": "stream",
          "name": "stdout",
          "text": [
            "Epoch: 1/10... Step: 32... Loss: 6.4115... ppl: 683.1585  Val Loss: 6.5267\n",
            "Epoch: 1/10... Step: 64... Loss: 5.6310... ppl: 339.5502  Val Loss: 5.8276\n",
            "Epoch: 1/10... Step: 96... Loss: 6.0186... ppl: 271.4157  Val Loss: 5.6037\n",
            "Epoch: 1/10... Step: 128... Loss: 5.1933... ppl: 232.4919  Val Loss: 5.4489\n",
            "Epoch: 1/10... Step: 160... Loss: 6.0857... ppl: 204.7125  Val Loss: 5.3216\n",
            "Epoch: 1/10... Step: 192... Loss: 5.6407... ppl: 179.3537  Val Loss: 5.1894\n",
            "Epoch: 1/10... Step: 224... Loss: 5.1064... ppl: 161.6366  Val Loss: 5.0854\n",
            "Epoch: 1/10... Step: 256... Loss: 4.2228... ppl: 148.2659  Val Loss: 4.9990\n",
            "Epoch: 1/10... Step: 288... Loss: 4.8358... ppl: 136.8164  Val Loss: 4.9186\n",
            "Epoch: 1/10... Step: 320... Loss: 4.9430... ppl: 128.1777  Val Loss: 4.8534\n",
            "Epoch: 1/10... Step: 352... Loss: 4.3278... ppl: 119.9245  Val Loss: 4.7869\n",
            "Epoch: 1/10... Step: 384... Loss: 4.9837... ppl: 112.0380  Val Loss: 4.7188\n",
            "Epoch: 1/10... Step: 416... Loss: 4.8321... ppl: 107.4076  Val Loss: 4.6766\n",
            "Epoch: 1/10... Step: 448... Loss: 4.4722... ppl: 103.0896  Val Loss: 4.6356\n",
            "Epoch: 1/10... Step: 480... Loss: 4.2099... ppl: 99.1333  Val Loss: 4.5965\n",
            "Epoch: 1/10... Step: 512... Loss: 4.5435... ppl: 95.5408  Val Loss: 4.5596\n",
            "Epoch: 1/10... Step: 544... Loss: 4.7522... ppl: 91.7387  Val Loss: 4.5189\n",
            "Epoch: 1/10... Step: 576... Loss: 5.5452... ppl: 88.8688  Val Loss: 4.4872\n",
            "Epoch: 1/10... Step: 608... Loss: 4.3904... ppl: 86.4132  Val Loss: 4.4591\n",
            "Epoch: 1/10... Step: 640... Loss: 4.4049... ppl: 83.4741  Val Loss: 4.4245\n",
            "Epoch: 1/10... Step: 672... Loss: 4.4699... ppl: 81.8309  Val Loss: 4.4047\n",
            "Epoch: 1/10... Step: 704... Loss: 4.1863... ppl: 79.2738  Val Loss: 4.3729\n",
            "Epoch: 1/10... Step: 736... Loss: 4.8072... ppl: 77.9165  Val Loss: 4.3556\n",
            "Epoch: 1/10... Step: 768... Loss: 3.8825... ppl: 75.2820  Val Loss: 4.3212\n",
            "Epoch: 1/10... Step: 800... Loss: 4.1965... ppl: 73.9266  Val Loss: 4.3031\n",
            "Epoch: 1/10... Step: 832... Loss: 4.7622... ppl: 72.6534  Val Loss: 4.2857\n",
            "Epoch: 1/10... Step: 864... Loss: 3.9993... ppl: 71.2084  Val Loss: 4.2656\n",
            "Epoch: 1/10... Step: 896... Loss: 4.3471... ppl: 69.7972  Val Loss: 4.2456\n",
            "Epoch: 1/10... Step: 928... Loss: 4.3755... ppl: 67.9051  Val Loss: 4.2181\n",
            "Epoch: 1/10... Step: 960... Loss: 4.0899... ppl: 67.6125  Val Loss: 4.2138\n",
            "Epoch: 1/10... Step: 992... Loss: 3.8003... ppl: 65.8258  Val Loss: 4.1870\n",
            "Epoch: 1/10... Step: 1024... Loss: 3.7123... ppl: 64.6395  Val Loss: 4.1688\n",
            "Epoch: 1/10... Step: 1056... Loss: 4.2468... ppl: 63.6921  Val Loss: 4.1541\n",
            "Epoch: 1/10... Step: 1088... Loss: 3.4204... ppl: 62.4224  Val Loss: 4.1339\n",
            "Epoch: 1/10... Step: 1120... Loss: 4.1441... ppl: 61.7200  Val Loss: 4.1226\n",
            "Epoch: 1/10... Step: 1152... Loss: 3.1530... ppl: 61.1532  Val Loss: 4.1134\n",
            "Epoch: 1/10... Step: 1184... Loss: 3.9736... ppl: 60.2291  Val Loss: 4.0982\n",
            "Epoch: 1/10... Step: 1216... Loss: 3.8160... ppl: 59.6070  Val Loss: 4.0878\n",
            "Epoch: 1/10... Step: 1248... Loss: 4.1349... ppl: 58.5382  Val Loss: 4.0697\n",
            "Epoch: 1/10... Step: 1280... Loss: 4.2464... ppl: 57.6433  Val Loss: 4.0543\n",
            "Epoch: 1/10... Step: 1312... Loss: 4.8068... ppl: 57.6971  Val Loss: 4.0552\n",
            "Epoch: 1/10... Step: 1344... Loss: 3.8682... ppl: 56.9636  Val Loss: 4.0424\n",
            "Epoch: 1/10... Step: 1376... Loss: 4.2468... ppl: 55.7186  Val Loss: 4.0203\n",
            "Epoch: 1/10... Step: 1408... Loss: 3.6543... ppl: 55.2445  Val Loss: 4.0118\n",
            "Epoch: 1/10... Step: 1440... Loss: 4.0734... ppl: 54.5982  Val Loss: 4.0000\n",
            "Epoch: 1/10... Step: 1472... Loss: 3.4062... ppl: 54.3147  Val Loss: 3.9948\n",
            "Epoch: 1/10... Step: 1504... Loss: 4.1492... ppl: 54.1252  Val Loss: 3.9913\n",
            "Epoch: 1/10... Step: 1536... Loss: 4.8659... ppl: 53.7581  Val Loss: 3.9845\n",
            "Epoch: 1/10... Step: 1568... Loss: 3.9183... ppl: 52.5737  Val Loss: 3.9622\n",
            "Epoch: 1/10... Step: 1600... Loss: 3.6725... ppl: 52.1479  Val Loss: 3.9541\n",
            "Epoch: 1/10... Step: 1632... Loss: 5.2556... ppl: 51.3193  Val Loss: 3.9381\n",
            "Epoch: 1/10... Step: 1664... Loss: 4.0920... ppl: 50.9900  Val Loss: 3.9316\n",
            "Epoch: 1/10... Step: 1696... Loss: 3.6400... ppl: 50.7308  Val Loss: 3.9265\n",
            "Epoch: 1/10... Step: 1728... Loss: 3.7207... ppl: 50.1782  Val Loss: 3.9156\n",
            "Epoch: 1/10... Step: 1760... Loss: 4.4754... ppl: 49.9237  Val Loss: 3.9105\n",
            "Epoch: 1/10... Step: 1792... Loss: 3.3903... ppl: 49.4093  Val Loss: 3.9001\n",
            "Epoch: 1/10... Step: 1824... Loss: 4.3153... ppl: 49.8579  Val Loss: 3.9092\n",
            "Epoch: 1/10... Step: 1856... Loss: 5.8270... ppl: 48.6354  Val Loss: 3.8844\n",
            "Epoch: 1/10... Step: 1888... Loss: 3.6031... ppl: 48.1046  Val Loss: 3.8734\n",
            "Epoch: 1/10... Step: 1920... Loss: 3.5498... ppl: 47.6835  Val Loss: 3.8646\n",
            "Epoch: 1/10... Step: 1952... Loss: 2.9859... ppl: 47.4509  Val Loss: 3.8597\n",
            "Epoch: 1/10... Step: 1984... Loss: 2.9436... ppl: 47.3732  Val Loss: 3.8581\n",
            "Epoch: 1/10... Step: 2016... Loss: 3.5063... ppl: 46.7128  Val Loss: 3.8440\n",
            "Epoch: 1/10... Step: 2048... Loss: 4.1272... ppl: 46.4017  Val Loss: 3.8373\n",
            "Epoch: 1/10... Step: 2080... Loss: 3.8409... ppl: 46.1770  Val Loss: 3.8325\n",
            "Epoch: 1/10... Step: 2112... Loss: 4.7517... ppl: 46.2400  Val Loss: 3.8338\n",
            "Epoch: 1/10... Step: 2144... Loss: 3.4754... ppl: 45.8210  Val Loss: 3.8247\n",
            "Epoch: 1/10... Step: 2176... Loss: 5.1806... ppl: 45.6198  Val Loss: 3.8203\n",
            "Epoch: 1/10... Step: 2208... Loss: 4.1649... ppl: 45.4533  Val Loss: 3.8167\n",
            "Epoch: 1/10... Step: 2240... Loss: 3.5760... ppl: 45.2619  Val Loss: 3.8125\n",
            "Epoch: 1/10... Step: 2272... Loss: 3.8527... ppl: 44.5983  Val Loss: 3.7977\n",
            "Epoch: 1/10... Step: 2304... Loss: 3.3155... ppl: 44.2234  Val Loss: 3.7893\n",
            "Epoch: 1/10... Step: 2336... Loss: 4.2405... ppl: 44.1229  Val Loss: 3.7870\n",
            "Epoch: 2/10... Step: 2368... Loss: 3.2284... ppl: 44.1661  Val Loss: 3.7880\n",
            "Epoch: 2/10... Step: 2400... Loss: 3.3622... ppl: 44.0105  Val Loss: 3.7844\n",
            "Epoch: 2/10... Step: 2432... Loss: 3.8987... ppl: 44.2807  Val Loss: 3.7905\n",
            "Epoch: 2/10... Step: 2464... Loss: 4.1396... ppl: 43.9465  Val Loss: 3.7830\n",
            "Epoch: 2/10... Step: 2496... Loss: 4.0337... ppl: 43.4211  Val Loss: 3.7709\n",
            "Epoch: 2/10... Step: 2528... Loss: 3.5864... ppl: 43.3643  Val Loss: 3.7696\n",
            "Epoch: 2/10... Step: 2560... Loss: 5.3286... ppl: 43.1013  Val Loss: 3.7636\n",
            "Epoch: 2/10... Step: 2592... Loss: 4.0091... ppl: 43.0774  Val Loss: 3.7630\n",
            "Epoch: 2/10... Step: 2624... Loss: 3.1178... ppl: 42.9114  Val Loss: 3.7591\n",
            "Epoch: 2/10... Step: 2656... Loss: 3.8021... ppl: 42.7435  Val Loss: 3.7552\n",
            "Epoch: 2/10... Step: 2688... Loss: 3.3960... ppl: 42.4356  Val Loss: 3.7480\n",
            "Epoch: 2/10... Step: 2720... Loss: 3.6900... ppl: 41.9657  Val Loss: 3.7369\n",
            "Epoch: 2/10... Step: 2752... Loss: 3.5553... ppl: 42.1215  Val Loss: 3.7406\n",
            "Epoch: 2/10... Step: 2784... Loss: 4.2310... ppl: 42.1514  Val Loss: 3.7413\n",
            "Epoch: 2/10... Step: 2816... Loss: 4.0618... ppl: 42.0687  Val Loss: 3.7393\n",
            "Epoch: 2/10... Step: 2848... Loss: 3.5858... ppl: 41.6059  Val Loss: 3.7282\n",
            "Epoch: 2/10... Step: 2880... Loss: 4.1222... ppl: 41.5718  Val Loss: 3.7274\n",
            "Epoch: 2/10... Step: 2912... Loss: 3.2071... ppl: 41.3983  Val Loss: 3.7232\n",
            "Epoch: 2/10... Step: 2944... Loss: 3.2764... ppl: 41.3739  Val Loss: 3.7226\n",
            "Epoch: 2/10... Step: 2976... Loss: 3.3677... ppl: 41.0602  Val Loss: 3.7150\n",
            "Epoch: 2/10... Step: 3008... Loss: 4.1704... ppl: 40.9475  Val Loss: 3.7123\n",
            "Epoch: 2/10... Step: 3040... Loss: 3.5265... ppl: 40.8108  Val Loss: 3.7089\n",
            "Epoch: 2/10... Step: 3072... Loss: 3.6329... ppl: 40.6340  Val Loss: 3.7046\n",
            "Epoch: 2/10... Step: 3104... Loss: 3.7209... ppl: 40.4496  Val Loss: 3.7001\n",
            "Epoch: 2/10... Step: 3136... Loss: 4.1281... ppl: 40.3051  Val Loss: 3.6965\n",
            "Epoch: 2/10... Step: 3168... Loss: 3.4707... ppl: 40.2601  Val Loss: 3.6954\n",
            "Epoch: 2/10... Step: 3200... Loss: 3.7803... ppl: 40.4225  Val Loss: 3.6994\n",
            "Epoch: 2/10... Step: 3232... Loss: 4.2717... ppl: 40.0898  Val Loss: 3.6911\n",
            "Epoch: 2/10... Step: 3264... Loss: 2.8885... ppl: 39.7417  Val Loss: 3.6824\n",
            "Epoch: 2/10... Step: 3296... Loss: 4.2176... ppl: 39.8092  Val Loss: 3.6841\n",
            "Epoch: 2/10... Step: 3328... Loss: 4.0420... ppl: 39.5605  Val Loss: 3.6778\n",
            "Epoch: 2/10... Step: 3360... Loss: 3.6901... ppl: 39.2819  Val Loss: 3.6708\n",
            "Epoch: 2/10... Step: 3392... Loss: 3.2197... ppl: 39.6333  Val Loss: 3.6797\n",
            "Epoch: 2/10... Step: 3424... Loss: 4.2873... ppl: 39.2096  Val Loss: 3.6689\n",
            "Epoch: 2/10... Step: 3456... Loss: 3.4656... ppl: 39.0683  Val Loss: 3.6653\n",
            "Epoch: 2/10... Step: 3488... Loss: 3.7251... ppl: 39.1971  Val Loss: 3.6686\n",
            "Epoch: 2/10... Step: 3520... Loss: 3.4497... ppl: 38.8111  Val Loss: 3.6587\n",
            "Epoch: 2/10... Step: 3552... Loss: 3.9581... ppl: 38.9203  Val Loss: 3.6615\n",
            "Epoch: 2/10... Step: 3584... Loss: 2.9796... ppl: 38.7231  Val Loss: 3.6564\n",
            "Epoch: 2/10... Step: 3616... Loss: 3.6113... ppl: 38.4876  Val Loss: 3.6503\n",
            "Epoch: 2/10... Step: 3648... Loss: 3.1386... ppl: 38.6738  Val Loss: 3.6552\n",
            "Epoch: 2/10... Step: 3680... Loss: 3.6884... ppl: 38.5741  Val Loss: 3.6526\n",
            "Epoch: 2/10... Step: 3712... Loss: 3.4768... ppl: 38.4339  Val Loss: 3.6489\n",
            "Epoch: 2/10... Step: 3744... Loss: 3.4160... ppl: 38.1576  Val Loss: 3.6417\n",
            "Epoch: 2/10... Step: 3776... Loss: 4.0030... ppl: 38.2619  Val Loss: 3.6445\n",
            "Epoch: 2/10... Step: 3808... Loss: 5.0329... ppl: 38.0538  Val Loss: 3.6390\n",
            "Epoch: 2/10... Step: 3840... Loss: 4.3119... ppl: 38.2773  Val Loss: 3.6449\n",
            "Epoch: 2/10... Step: 3872... Loss: 3.9265... ppl: 37.9957  Val Loss: 3.6375\n",
            "Epoch: 2/10... Step: 3904... Loss: 2.9603... ppl: 37.7885  Val Loss: 3.6320\n",
            "Epoch: 2/10... Step: 3936... Loss: 3.7587... ppl: 37.8983  Val Loss: 3.6349\n",
            "Epoch: 2/10... Step: 3968... Loss: 3.9701... ppl: 37.4655  Val Loss: 3.6234\n",
            "Epoch: 2/10... Step: 4000... Loss: 3.7120... ppl: 37.4627  Val Loss: 3.6233\n",
            "Epoch: 2/10... Step: 4032... Loss: 4.2046... ppl: 37.4357  Val Loss: 3.6226\n",
            "Epoch: 2/10... Step: 4064... Loss: 3.7269... ppl: 37.2415  Val Loss: 3.6174\n",
            "Epoch: 2/10... Step: 4096... Loss: 3.4892... ppl: 37.2627  Val Loss: 3.6180\n",
            "Epoch: 2/10... Step: 4128... Loss: 2.8928... ppl: 37.2655  Val Loss: 3.6181\n",
            "Epoch: 2/10... Step: 4160... Loss: 2.9464... ppl: 37.3555  Val Loss: 3.6205\n",
            "Epoch: 2/10... Step: 4192... Loss: 3.4311... ppl: 37.0590  Val Loss: 3.6125\n",
            "Epoch: 2/10... Step: 4224... Loss: 3.2775... ppl: 36.7545  Val Loss: 3.6043\n",
            "Epoch: 2/10... Step: 4256... Loss: 3.3987... ppl: 36.8560  Val Loss: 3.6070\n",
            "Epoch: 2/10... Step: 4288... Loss: 3.3847... ppl: 36.7016  Val Loss: 3.6028\n",
            "Epoch: 2/10... Step: 4320... Loss: 2.8987... ppl: 36.6675  Val Loss: 3.6019\n",
            "Epoch: 2/10... Step: 4352... Loss: 3.0413... ppl: 36.7142  Val Loss: 3.6032\n",
            "Epoch: 2/10... Step: 4384... Loss: 3.1624... ppl: 36.5772  Val Loss: 3.5994\n",
            "Epoch: 2/10... Step: 4416... Loss: 3.9097... ppl: 36.4684  Val Loss: 3.5964\n",
            "Epoch: 2/10... Step: 4448... Loss: 2.9603... ppl: 36.6088  Val Loss: 3.6003\n",
            "Epoch: 2/10... Step: 4480... Loss: 4.4297... ppl: 36.4758  Val Loss: 3.5966\n",
            "Epoch: 2/10... Step: 4512... Loss: 3.2048... ppl: 36.3120  Val Loss: 3.5921\n",
            "Epoch: 2/10... Step: 4544... Loss: 3.5263... ppl: 36.2706  Val Loss: 3.5910\n",
            "Epoch: 2/10... Step: 4576... Loss: 2.8579... ppl: 36.2517  Val Loss: 3.5905\n",
            "Epoch: 2/10... Step: 4608... Loss: 2.9446... ppl: 36.3065  Val Loss: 3.5920\n",
            "Epoch: 2/10... Step: 4640... Loss: 3.6999... ppl: 36.1152  Val Loss: 3.5867\n",
            "Epoch: 2/10... Step: 4672... Loss: 3.5313... ppl: 36.0185  Val Loss: 3.5840\n",
            "Epoch: 3/10... Step: 4704... Loss: 3.0397... ppl: 35.9194  Val Loss: 3.5813\n",
            "Epoch: 3/10... Step: 4736... Loss: 4.1899... ppl: 36.1857  Val Loss: 3.5887\n",
            "Epoch: 3/10... Step: 4768... Loss: 3.1206... ppl: 36.0502  Val Loss: 3.5849\n",
            "Epoch: 3/10... Step: 4800... Loss: 2.6638... ppl: 36.1589  Val Loss: 3.5879\n",
            "Epoch: 3/10... Step: 4832... Loss: 3.3125... ppl: 35.9918  Val Loss: 3.5833\n",
            "Epoch: 3/10... Step: 4864... Loss: 3.7229... ppl: 35.9098  Val Loss: 3.5810\n",
            "Epoch: 3/10... Step: 4896... Loss: 2.5280... ppl: 35.9379  Val Loss: 3.5818\n",
            "Epoch: 3/10... Step: 4928... Loss: 2.0828... ppl: 35.8493  Val Loss: 3.5793\n",
            "Epoch: 3/10... Step: 4960... Loss: 3.2597... ppl: 35.9578  Val Loss: 3.5823\n",
            "Epoch: 3/10... Step: 4992... Loss: 3.3679... ppl: 36.3002  Val Loss: 3.5918\n",
            "Epoch: 3/10... Step: 5024... Loss: 3.4849... ppl: 35.8972  Val Loss: 3.5807\n",
            "Epoch: 3/10... Step: 5056... Loss: 3.0927... ppl: 35.6409  Val Loss: 3.5735\n",
            "Epoch: 3/10... Step: 5088... Loss: 2.8177... ppl: 35.6757  Val Loss: 3.5745\n",
            "Epoch: 3/10... Step: 5120... Loss: 3.7343... ppl: 35.7977  Val Loss: 3.5779\n",
            "Epoch: 3/10... Step: 5152... Loss: 2.9174... ppl: 35.8297  Val Loss: 3.5788\n",
            "Epoch: 3/10... Step: 5184... Loss: 2.9042... ppl: 35.7691  Val Loss: 3.5771\n",
            "Epoch: 3/10... Step: 5216... Loss: 2.9560... ppl: 35.5028  Val Loss: 3.5696\n",
            "Epoch: 3/10... Step: 5248... Loss: 3.0667... ppl: 35.4684  Val Loss: 3.5686\n",
            "Epoch: 3/10... Step: 5280... Loss: 3.3035... ppl: 35.6918  Val Loss: 3.5749\n",
            "Epoch: 3/10... Step: 5312... Loss: 3.5994... ppl: 35.4570  Val Loss: 3.5683\n",
            "Epoch: 3/10... Step: 5344... Loss: 3.7054... ppl: 35.3993  Val Loss: 3.5667\n",
            "Epoch: 3/10... Step: 5376... Loss: 3.9960... ppl: 35.3933  Val Loss: 3.5665\n",
            "Epoch: 3/10... Step: 5408... Loss: 3.7593... ppl: 35.4023  Val Loss: 3.5668\n",
            "Epoch: 3/10... Step: 5440... Loss: 4.4371... ppl: 35.4569  Val Loss: 3.5683\n",
            "Epoch: 3/10... Step: 5472... Loss: 3.7432... ppl: 35.0980  Val Loss: 3.5581\n",
            "Epoch: 3/10... Step: 5504... Loss: 3.6319... ppl: 35.2903  Val Loss: 3.5636\n",
            "Epoch: 3/10... Step: 5536... Loss: 3.2017... ppl: 35.4157  Val Loss: 3.5672\n",
            "Epoch: 3/10... Step: 5568... Loss: 3.0972... ppl: 35.2009  Val Loss: 3.5611\n",
            "Epoch: 3/10... Step: 5600... Loss: 3.3575... ppl: 35.1772  Val Loss: 3.5604\n",
            "Epoch: 3/10... Step: 5632... Loss: 3.4377... ppl: 35.2191  Val Loss: 3.5616\n",
            "Epoch: 3/10... Step: 5664... Loss: 3.1716... ppl: 35.1884  Val Loss: 3.5607\n",
            "Epoch: 3/10... Step: 5696... Loss: 3.6557... ppl: 34.9551  Val Loss: 3.5541\n",
            "Epoch: 3/10... Step: 5728... Loss: 3.2258... ppl: 35.2367  Val Loss: 3.5621\n",
            "Epoch: 3/10... Step: 5760... Loss: 3.7753... ppl: 34.9523  Val Loss: 3.5540\n",
            "Epoch: 3/10... Step: 5792... Loss: 4.0197... ppl: 34.8068  Val Loss: 3.5498\n",
            "Epoch: 3/10... Step: 5824... Loss: 3.1718... ppl: 34.9044  Val Loss: 3.5526\n",
            "Epoch: 3/10... Step: 5856... Loss: 3.3991... ppl: 34.7205  Val Loss: 3.5473\n",
            "Epoch: 3/10... Step: 5888... Loss: 3.0805... ppl: 34.7642  Val Loss: 3.5486\n",
            "Epoch: 3/10... Step: 5920... Loss: 3.5439... ppl: 34.7384  Val Loss: 3.5478\n",
            "Epoch: 3/10... Step: 5952... Loss: 3.8619... ppl: 34.5676  Val Loss: 3.5429\n",
            "Epoch: 3/10... Step: 5984... Loss: 3.2095... ppl: 34.6464  Val Loss: 3.5452\n",
            "Epoch: 3/10... Step: 6016... Loss: 3.7689... ppl: 34.6477  Val Loss: 3.5452\n",
            "Epoch: 3/10... Step: 6048... Loss: 3.3878... ppl: 34.8116  Val Loss: 3.5500\n",
            "Epoch: 3/10... Step: 6080... Loss: 2.8177... ppl: 34.4548  Val Loss: 3.5396\n",
            "Epoch: 3/10... Step: 6112... Loss: 3.3643... ppl: 34.4442  Val Loss: 3.5393\n",
            "Epoch: 3/10... Step: 6144... Loss: 3.0728... ppl: 34.4186  Val Loss: 3.5386\n",
            "Epoch: 3/10... Step: 6176... Loss: 3.2314... ppl: 34.4449  Val Loss: 3.5394\n",
            "Epoch: 3/10... Step: 6208... Loss: 3.4042... ppl: 34.5058  Val Loss: 3.5411\n",
            "Epoch: 3/10... Step: 6240... Loss: 2.7543... ppl: 34.4302  Val Loss: 3.5389\n",
            "Epoch: 3/10... Step: 6272... Loss: 2.6993... ppl: 34.6511  Val Loss: 3.5453\n",
            "Epoch: 3/10... Step: 6304... Loss: 3.1271... ppl: 34.2663  Val Loss: 3.5342\n",
            "Epoch: 3/10... Step: 6336... Loss: 3.4479... ppl: 34.2093  Val Loss: 3.5325\n",
            "Epoch: 3/10... Step: 6368... Loss: 3.1016... ppl: 34.2332  Val Loss: 3.5332\n",
            "Epoch: 3/10... Step: 6400... Loss: 3.5886... ppl: 34.2344  Val Loss: 3.5332\n",
            "Epoch: 3/10... Step: 6432... Loss: 3.7350... ppl: 34.1530  Val Loss: 3.5309\n",
            "Epoch: 3/10... Step: 6464... Loss: 3.6178... ppl: 34.3477  Val Loss: 3.5365\n",
            "Epoch: 3/10... Step: 6496... Loss: 2.7508... ppl: 34.1984  Val Loss: 3.5322\n",
            "Epoch: 3/10... Step: 6528... Loss: 3.0740... ppl: 34.1938  Val Loss: 3.5320\n",
            "Epoch: 3/10... Step: 6560... Loss: 3.3185... ppl: 34.0282  Val Loss: 3.5272\n",
            "Epoch: 3/10... Step: 6592... Loss: 2.6084... ppl: 34.1686  Val Loss: 3.5313\n",
            "Epoch: 3/10... Step: 6624... Loss: 3.6797... ppl: 33.9011  Val Loss: 3.5234\n",
            "Epoch: 3/10... Step: 6656... Loss: 2.9951... ppl: 33.8877  Val Loss: 3.5231\n",
            "Epoch: 3/10... Step: 6688... Loss: 2.7800... ppl: 34.0935  Val Loss: 3.5291\n",
            "Epoch: 3/10... Step: 6720... Loss: 2.4803... ppl: 33.9697  Val Loss: 3.5255\n",
            "Epoch: 3/10... Step: 6752... Loss: 3.5263... ppl: 33.8461  Val Loss: 3.5218\n",
            "Epoch: 3/10... Step: 6784... Loss: 3.2682... ppl: 33.9970  Val Loss: 3.5263\n",
            "Epoch: 3/10... Step: 6816... Loss: 2.8544... ppl: 33.9798  Val Loss: 3.5258\n",
            "Epoch: 3/10... Step: 6848... Loss: 2.8549... ppl: 33.7900  Val Loss: 3.5202\n",
            "Epoch: 3/10... Step: 6880... Loss: 2.9296... ppl: 33.9875  Val Loss: 3.5260\n",
            "Epoch: 3/10... Step: 6912... Loss: 4.1643... ppl: 33.8875  Val Loss: 3.5230\n",
            "Epoch: 3/10... Step: 6944... Loss: 3.1773... ppl: 34.1833  Val Loss: 3.5317\n",
            "Epoch: 3/10... Step: 6976... Loss: 3.5042... ppl: 33.8998  Val Loss: 3.5234\n",
            "Epoch: 3/10... Step: 7008... Loss: 3.4638... ppl: 33.7745  Val Loss: 3.5197\n",
            "Epoch: 4/10... Step: 7040... Loss: 3.4155... ppl: 33.7062  Val Loss: 3.5177\n",
            "Epoch: 4/10... Step: 7072... Loss: 2.9821... ppl: 34.0332  Val Loss: 3.5273\n",
            "Epoch: 4/10... Step: 7104... Loss: 3.3192... ppl: 33.7186  Val Loss: 3.5180\n",
            "Epoch: 4/10... Step: 7136... Loss: 2.8251... ppl: 33.8822  Val Loss: 3.5229\n",
            "Epoch: 4/10... Step: 7168... Loss: 3.4762... ppl: 33.9544  Val Loss: 3.5250\n",
            "Epoch: 4/10... Step: 7200... Loss: 2.7053... ppl: 33.8187  Val Loss: 3.5210\n",
            "Epoch: 4/10... Step: 7232... Loss: 2.9753... ppl: 33.9366  Val Loss: 3.5245\n",
            "Epoch: 4/10... Step: 7264... Loss: 4.2725... ppl: 33.9399  Val Loss: 3.5246\n",
            "Epoch: 4/10... Step: 7296... Loss: 3.4368... ppl: 34.0277  Val Loss: 3.5272\n",
            "Epoch: 4/10... Step: 7328... Loss: 2.6409... ppl: 34.2781  Val Loss: 3.5345\n",
            "Epoch: 4/10... Step: 7360... Loss: 2.8331... ppl: 34.1143  Val Loss: 3.5297\n",
            "Epoch: 4/10... Step: 7392... Loss: 3.2602... ppl: 33.9006  Val Loss: 3.5234\n",
            "Epoch: 4/10... Step: 7424... Loss: 2.8310... ppl: 33.7297  Val Loss: 3.5184\n",
            "Epoch: 4/10... Step: 7456... Loss: 2.6920... ppl: 33.9426  Val Loss: 3.5247\n",
            "Epoch: 4/10... Step: 7488... Loss: 3.5151... ppl: 34.0704  Val Loss: 3.5284\n",
            "Epoch: 4/10... Step: 7520... Loss: 1.9787... ppl: 34.1626  Val Loss: 3.5311\n",
            "Epoch: 4/10... Step: 7552... Loss: 3.1732... ppl: 33.8723  Val Loss: 3.5226\n",
            "Epoch: 4/10... Step: 7584... Loss: 2.5855... ppl: 33.8593  Val Loss: 3.5222\n",
            "Epoch: 4/10... Step: 7616... Loss: 2.9551... ppl: 33.9505  Val Loss: 3.5249\n",
            "Epoch: 4/10... Step: 7648... Loss: 3.4611... ppl: 33.9293  Val Loss: 3.5243\n",
            "Epoch: 4/10... Step: 7680... Loss: 2.8261... ppl: 33.8541  Val Loss: 3.5221\n",
            "Epoch: 4/10... Step: 7712... Loss: 2.7271... ppl: 33.8370  Val Loss: 3.5216\n",
            "Epoch: 4/10... Step: 7744... Loss: 3.2940... ppl: 33.8722  Val Loss: 3.5226\n",
            "Epoch: 4/10... Step: 7776... Loss: 3.7772... ppl: 34.0280  Val Loss: 3.5272\n",
            "Epoch: 4/10... Step: 7808... Loss: 3.4865... ppl: 33.6840  Val Loss: 3.5170\n",
            "Epoch: 4/10... Step: 7840... Loss: 2.1569... ppl: 33.8498  Val Loss: 3.5219\n",
            "Epoch: 4/10... Step: 7872... Loss: 3.8269... ppl: 33.8791  Val Loss: 3.5228\n",
            "Epoch: 4/10... Step: 7904... Loss: 2.2403... ppl: 33.7611  Val Loss: 3.5193\n",
            "Epoch: 4/10... Step: 7936... Loss: 3.1327... ppl: 33.7729  Val Loss: 3.5197\n",
            "Epoch: 4/10... Step: 7968... Loss: 3.9164... ppl: 33.6657  Val Loss: 3.5165\n",
            "Epoch: 4/10... Step: 8000... Loss: 3.0043... ppl: 33.8730  Val Loss: 3.5226\n",
            "Epoch: 4/10... Step: 8032... Loss: 3.2004... ppl: 33.7318  Val Loss: 3.5184\n",
            "Epoch: 4/10... Step: 8064... Loss: 2.5137... ppl: 33.9573  Val Loss: 3.5251\n",
            "Epoch: 4/10... Step: 8096... Loss: 3.0092... ppl: 33.8078  Val Loss: 3.5207\n",
            "Epoch: 4/10... Step: 8128... Loss: 2.3555... ppl: 33.5339  Val Loss: 3.5126\n",
            "Epoch: 4/10... Step: 8160... Loss: 2.9679... ppl: 33.6700  Val Loss: 3.5166\n",
            "Epoch: 4/10... Step: 8192... Loss: 3.3447... ppl: 33.6691  Val Loss: 3.5166\n",
            "Epoch: 4/10... Step: 8224... Loss: 3.0309... ppl: 33.4906  Val Loss: 3.5113\n",
            "Epoch: 4/10... Step: 8256... Loss: 2.6958... ppl: 33.5753  Val Loss: 3.5138\n",
            "Epoch: 4/10... Step: 8288... Loss: 3.0638... ppl: 33.5305  Val Loss: 3.5125\n",
            "Epoch: 4/10... Step: 8320... Loss: 3.1421... ppl: 33.3975  Val Loss: 3.5085\n",
            "Epoch: 4/10... Step: 8352... Loss: 2.9440... ppl: 33.3632  Val Loss: 3.5075\n",
            "Epoch: 4/10... Step: 8384... Loss: 2.5541... ppl: 33.6233  Val Loss: 3.5152\n",
            "Epoch: 4/10... Step: 8416... Loss: 2.7480... ppl: 33.4209  Val Loss: 3.5092\n",
            "Epoch: 4/10... Step: 8448... Loss: 4.1686... ppl: 33.3548  Val Loss: 3.5072\n",
            "Epoch: 4/10... Step: 8480... Loss: 2.8597... ppl: 33.4153  Val Loss: 3.5090\n",
            "Epoch: 4/10... Step: 8512... Loss: 2.4866... ppl: 33.3765  Val Loss: 3.5079\n",
            "Epoch: 4/10... Step: 8544... Loss: 3.1451... ppl: 33.5488  Val Loss: 3.5130\n",
            "Epoch: 4/10... Step: 8576... Loss: 2.8999... ppl: 33.5476  Val Loss: 3.5130\n",
            "Epoch: 4/10... Step: 8608... Loss: 3.3827... ppl: 33.5923  Val Loss: 3.5143\n",
            "Epoch: 4/10... Step: 8640... Loss: 3.2106... ppl: 33.4379  Val Loss: 3.5097\n",
            "Epoch: 4/10... Step: 8672... Loss: 2.7045... ppl: 33.3400  Val Loss: 3.5068\n",
            "Epoch: 4/10... Step: 8704... Loss: 3.6857... ppl: 33.3033  Val Loss: 3.5057\n",
            "Epoch: 4/10... Step: 8736... Loss: 2.8926... ppl: 33.3801  Val Loss: 3.5080\n",
            "Epoch: 4/10... Step: 8768... Loss: 2.6831... ppl: 33.3492  Val Loss: 3.5070\n",
            "Epoch: 4/10... Step: 8800... Loss: 3.4414... ppl: 33.4391  Val Loss: 3.5097\n",
            "Epoch: 4/10... Step: 8832... Loss: 2.9253... ppl: 33.4112  Val Loss: 3.5089\n",
            "Epoch: 4/10... Step: 8864... Loss: 3.1035... ppl: 33.5420  Val Loss: 3.5128\n",
            "Epoch: 4/10... Step: 8896... Loss: 2.7191... ppl: 33.3532  Val Loss: 3.5072\n",
            "Epoch: 4/10... Step: 8928... Loss: 2.7605... ppl: 33.3929  Val Loss: 3.5083\n",
            "Epoch: 4/10... Step: 8960... Loss: 2.4059... ppl: 33.2271  Val Loss: 3.5034\n",
            "Epoch: 4/10... Step: 8992... Loss: 3.0471... ppl: 33.1869  Val Loss: 3.5022\n",
            "Epoch: 4/10... Step: 9024... Loss: 3.4157... ppl: 33.4413  Val Loss: 3.5098\n",
            "Epoch: 4/10... Step: 9056... Loss: 3.0251... ppl: 33.3264  Val Loss: 3.5063\n",
            "Epoch: 4/10... Step: 9088... Loss: 3.4065... ppl: 33.2910  Val Loss: 3.5053\n",
            "Epoch: 4/10... Step: 9120... Loss: 2.5780... ppl: 33.3918  Val Loss: 3.5083\n",
            "Epoch: 4/10... Step: 9152... Loss: 2.9154... ppl: 33.4476  Val Loss: 3.5100\n",
            "Epoch: 4/10... Step: 9184... Loss: 3.4088... ppl: 33.2177  Val Loss: 3.5031\n",
            "Epoch: 4/10... Step: 9216... Loss: 2.4400... ppl: 33.4004  Val Loss: 3.5086\n",
            "Epoch: 4/10... Step: 9248... Loss: 3.7572... ppl: 33.3226  Val Loss: 3.5062\n",
            "Epoch: 4/10... Step: 9280... Loss: 2.6227... ppl: 33.8831  Val Loss: 3.5229\n",
            "Epoch: 4/10... Step: 9312... Loss: 3.4476... ppl: 33.4119  Val Loss: 3.5089\n",
            "Epoch: 4/10... Step: 9344... Loss: 3.3411... ppl: 33.2300  Val Loss: 3.5035\n",
            "Epoch: 5/10... Step: 9376... Loss: 1.9784... ppl: 33.2419  Val Loss: 3.5038\n",
            "Epoch: 5/10... Step: 9408... Loss: 3.2542... ppl: 33.5263  Val Loss: 3.5123\n",
            "Epoch: 5/10... Step: 9440... Loss: 2.8497... ppl: 33.2588  Val Loss: 3.5043\n",
            "Epoch: 5/10... Step: 9472... Loss: 2.8110... ppl: 33.3565  Val Loss: 3.5073\n",
            "Epoch: 5/10... Step: 9504... Loss: 3.0761... ppl: 33.4682  Val Loss: 3.5106\n",
            "Epoch: 5/10... Step: 9536... Loss: 2.1973... ppl: 33.3069  Val Loss: 3.5058\n",
            "Epoch: 5/10... Step: 9568... Loss: 1.7666... ppl: 33.4960  Val Loss: 3.5114\n",
            "Epoch: 5/10... Step: 9600... Loss: 3.1076... ppl: 33.5077  Val Loss: 3.5118\n",
            "Epoch: 5/10... Step: 9632... Loss: 3.0522... ppl: 33.6885  Val Loss: 3.5172\n",
            "Epoch: 5/10... Step: 9664... Loss: 3.2484... ppl: 33.7634  Val Loss: 3.5194\n",
            "Epoch: 5/10... Step: 9696... Loss: 2.2598... ppl: 33.7922  Val Loss: 3.5202\n",
            "Epoch: 5/10... Step: 9728... Loss: 3.1837... ppl: 33.5540  Val Loss: 3.5132\n",
            "Epoch: 5/10... Step: 9760... Loss: 2.4233... ppl: 33.2725  Val Loss: 3.5047\n",
            "Epoch: 5/10... Step: 9792... Loss: 3.4227... ppl: 33.5423  Val Loss: 3.5128\n",
            "Epoch: 5/10... Step: 9824... Loss: 3.1897... ppl: 33.6453  Val Loss: 3.5159\n",
            "Epoch: 5/10... Step: 9856... Loss: 2.0598... ppl: 34.0608  Val Loss: 3.5281\n",
            "Epoch: 5/10... Step: 9888... Loss: 3.1813... ppl: 33.6771  Val Loss: 3.5168\n",
            "Epoch: 5/10... Step: 9920... Loss: 2.9404... ppl: 33.7035  Val Loss: 3.5176\n",
            "Epoch: 5/10... Step: 9952... Loss: 3.2376... ppl: 33.5750  Val Loss: 3.5138\n",
            "Epoch: 5/10... Step: 9984... Loss: 3.0825... ppl: 33.7606  Val Loss: 3.5193\n",
            "Epoch: 5/10... Step: 10016... Loss: 2.7482... ppl: 33.8056  Val Loss: 3.5206\n",
            "Epoch: 5/10... Step: 10048... Loss: 2.6964... ppl: 33.7329  Val Loss: 3.5185\n",
            "Epoch: 5/10... Step: 10080... Loss: 2.9312... ppl: 33.8007  Val Loss: 3.5205\n",
            "Epoch: 5/10... Step: 10112... Loss: 3.8539... ppl: 33.8775  Val Loss: 3.5228\n",
            "Epoch: 5/10... Step: 10144... Loss: 2.7616... ppl: 33.5920  Val Loss: 3.5143\n",
            "Epoch: 5/10... Step: 10176... Loss: 2.4244... ppl: 33.6795  Val Loss: 3.5169\n",
            "Epoch: 5/10... Step: 10208... Loss: 3.2191... ppl: 33.7500  Val Loss: 3.5190\n",
            "Epoch: 5/10... Step: 10240... Loss: 3.1225... ppl: 33.6771  Val Loss: 3.5168\n",
            "Epoch: 5/10... Step: 10272... Loss: 3.5405... ppl: 33.6433  Val Loss: 3.5158\n",
            "Epoch: 5/10... Step: 10304... Loss: 3.7224... ppl: 33.5537  Val Loss: 3.5131\n",
            "Epoch: 5/10... Step: 10336... Loss: 2.9513... ppl: 33.7290  Val Loss: 3.5184\n",
            "Epoch: 5/10... Step: 10368... Loss: 2.8399... ppl: 33.7066  Val Loss: 3.5177\n",
            "Epoch: 5/10... Step: 10400... Loss: 3.0165... ppl: 33.6827  Val Loss: 3.5170\n",
            "Epoch: 5/10... Step: 10432... Loss: 3.0350... ppl: 33.8769  Val Loss: 3.5227\n",
            "Epoch: 5/10... Step: 10464... Loss: 3.0435... ppl: 33.5359  Val Loss: 3.5126\n",
            "Epoch: 5/10... Step: 10496... Loss: 2.6137... ppl: 33.5928  Val Loss: 3.5143\n",
            "Epoch: 5/10... Step: 10528... Loss: 3.2534... ppl: 33.6731  Val Loss: 3.5167\n",
            "Epoch: 5/10... Step: 10560... Loss: 3.5640... ppl: 33.4035  Val Loss: 3.5087\n",
            "Epoch: 5/10... Step: 10592... Loss: 2.9156... ppl: 33.4722  Val Loss: 3.5107\n",
            "Epoch: 5/10... Step: 10624... Loss: 3.0048... ppl: 33.5579  Val Loss: 3.5133\n",
            "Epoch: 5/10... Step: 10656... Loss: 2.9319... ppl: 33.4017  Val Loss: 3.5086\n",
            "Epoch: 5/10... Step: 10688... Loss: 2.9169... ppl: 33.4158  Val Loss: 3.5090\n",
            "Epoch: 5/10... Step: 10720... Loss: 2.8904... ppl: 33.6190  Val Loss: 3.5151\n",
            "Epoch: 5/10... Step: 10752... Loss: 2.6272... ppl: 33.6015  Val Loss: 3.5146\n",
            "Epoch: 5/10... Step: 10784... Loss: 3.5340... ppl: 33.4500  Val Loss: 3.5101\n",
            "Epoch: 5/10... Step: 10816... Loss: 3.0216... ppl: 33.6411  Val Loss: 3.5157\n",
            "Epoch: 5/10... Step: 10848... Loss: 3.4374... ppl: 33.4820  Val Loss: 3.5110\n",
            "Epoch: 5/10... Step: 10880... Loss: 2.8064... ppl: 33.5446  Val Loss: 3.5129\n",
            "Epoch: 5/10... Step: 10912... Loss: 2.3965... ppl: 33.6182  Val Loss: 3.5151\n",
            "Epoch: 5/10... Step: 10944... Loss: 3.1179... ppl: 33.5480  Val Loss: 3.5130\n",
            "Epoch: 5/10... Step: 10976... Loss: 3.0708... ppl: 33.6093  Val Loss: 3.5148\n",
            "Epoch: 5/10... Step: 11008... Loss: 3.2233... ppl: 33.4207  Val Loss: 3.5092\n",
            "Epoch: 5/10... Step: 11040... Loss: 3.6172... ppl: 33.4141  Val Loss: 3.5090\n",
            "Epoch: 5/10... Step: 11072... Loss: 3.5408... ppl: 33.5226  Val Loss: 3.5122\n",
            "Epoch: 5/10... Step: 11104... Loss: 3.1099... ppl: 33.4181  Val Loss: 3.5091\n",
            "Epoch: 5/10... Step: 11136... Loss: 3.5936... ppl: 33.4506  Val Loss: 3.5101\n",
            "Epoch: 5/10... Step: 11168... Loss: 2.4341... ppl: 33.5647  Val Loss: 3.5135\n",
            "Epoch: 5/10... Step: 11200... Loss: 2.9055... ppl: 33.7575  Val Loss: 3.5192\n",
            "Epoch: 5/10... Step: 11232... Loss: 2.7874... ppl: 33.4786  Val Loss: 3.5109\n",
            "Epoch: 5/10... Step: 11264... Loss: 2.1333... ppl: 33.4538  Val Loss: 3.5102\n",
            "Epoch: 5/10... Step: 11296... Loss: 2.6059... ppl: 33.5144  Val Loss: 3.5120\n",
            "Epoch: 5/10... Step: 11328... Loss: 3.5565... ppl: 33.3147  Val Loss: 3.5060\n",
            "Epoch: 5/10... Step: 11360... Loss: 2.7504... ppl: 33.6140  Val Loss: 3.5149\n",
            "Epoch: 5/10... Step: 11392... Loss: 2.6227... ppl: 33.5069  Val Loss: 3.5118\n",
            "Epoch: 5/10... Step: 11424... Loss: 3.6034... ppl: 33.4694  Val Loss: 3.5106\n",
            "Epoch: 5/10... Step: 11456... Loss: 2.1088... ppl: 33.5734  Val Loss: 3.5137\n",
            "Epoch: 5/10... Step: 11488... Loss: 2.7497... ppl: 33.6383  Val Loss: 3.5157\n",
            "Epoch: 5/10... Step: 11520... Loss: 2.2563... ppl: 33.4788  Val Loss: 3.5109\n",
            "Epoch: 5/10... Step: 11552... Loss: 3.7912... ppl: 33.4905  Val Loss: 3.5113\n",
            "Epoch: 5/10... Step: 11584... Loss: 2.9286... ppl: 33.4869  Val Loss: 3.5112\n",
            "Epoch: 5/10... Step: 11616... Loss: 2.3874... ppl: 33.8796  Val Loss: 3.5228\n",
            "Epoch: 5/10... Step: 11648... Loss: 2.7855... ppl: 33.8007  Val Loss: 3.5205\n",
            "Epoch: 5/10... Step: 11680... Loss: 3.1243... ppl: 33.4990  Val Loss: 3.5115\n",
            "Epoch: 5/10... Step: 11712... Loss: 3.1174... ppl: 33.5262  Val Loss: 3.5123\n",
            "Epoch: 6/10... Step: 11744... Loss: 3.5609... ppl: 33.7155  Val Loss: 3.5180\n",
            "Epoch: 6/10... Step: 11776... Loss: 2.8468... ppl: 33.6752  Val Loss: 3.5168\n",
            "Epoch: 6/10... Step: 11808... Loss: 2.6381... ppl: 33.6426  Val Loss: 3.5158\n",
            "Epoch: 6/10... Step: 11840... Loss: 3.3934... ppl: 33.6511  Val Loss: 3.5160\n",
            "Epoch: 6/10... Step: 11872... Loss: 2.8622... ppl: 33.6033  Val Loss: 3.5146\n",
            "Epoch: 6/10... Step: 11904... Loss: 2.9915... ppl: 33.7290  Val Loss: 3.5184\n",
            "Epoch: 6/10... Step: 11936... Loss: 2.9957... ppl: 33.8412  Val Loss: 3.5217\n",
            "Epoch: 6/10... Step: 11968... Loss: 2.7067... ppl: 33.9235  Val Loss: 3.5241\n",
            "Epoch: 6/10... Step: 12000... Loss: 2.5162... ppl: 33.9701  Val Loss: 3.5255\n",
            "Epoch: 6/10... Step: 12032... Loss: 2.9756... ppl: 34.2897  Val Loss: 3.5348\n",
            "Epoch: 6/10... Step: 12064... Loss: 2.9589... ppl: 33.9680  Val Loss: 3.5254\n",
            "Epoch: 6/10... Step: 12096... Loss: 3.8049... ppl: 33.6117  Val Loss: 3.5149\n",
            "Epoch: 6/10... Step: 12128... Loss: 2.5284... ppl: 33.7168  Val Loss: 3.5180\n",
            "Epoch: 6/10... Step: 12160... Loss: 2.9572... ppl: 33.9483  Val Loss: 3.5248\n",
            "Epoch: 6/10... Step: 12192... Loss: 2.8049... ppl: 34.2429  Val Loss: 3.5335\n",
            "Epoch: 6/10... Step: 12224... Loss: 2.5499... ppl: 33.9952  Val Loss: 3.5262\n",
            "Epoch: 6/10... Step: 12256... Loss: 2.6262... ppl: 34.0350  Val Loss: 3.5274\n",
            "Epoch: 6/10... Step: 12288... Loss: 2.7761... ppl: 33.9335  Val Loss: 3.5244\n",
            "Epoch: 6/10... Step: 12320... Loss: 2.8777... ppl: 34.1564  Val Loss: 3.5309\n",
            "Epoch: 6/10... Step: 12352... Loss: 2.5982... ppl: 34.2824  Val Loss: 3.5346\n",
            "Epoch: 6/10... Step: 12384... Loss: 3.0090... ppl: 34.1384  Val Loss: 3.5304\n",
            "Epoch: 6/10... Step: 12416... Loss: 2.9083... ppl: 34.2411  Val Loss: 3.5334\n",
            "Epoch: 6/10... Step: 12448... Loss: 2.8885... ppl: 34.1994  Val Loss: 3.5322\n",
            "Epoch: 6/10... Step: 12480... Loss: 2.5508... ppl: 34.1963  Val Loss: 3.5321\n",
            "Epoch: 6/10... Step: 12512... Loss: 2.8507... ppl: 34.0050  Val Loss: 3.5265\n",
            "Epoch: 6/10... Step: 12544... Loss: 2.8786... ppl: 34.1572  Val Loss: 3.5310\n",
            "Epoch: 6/10... Step: 12576... Loss: 2.3994... ppl: 34.3574  Val Loss: 3.5368\n",
            "Epoch: 6/10... Step: 12608... Loss: 3.0798... ppl: 34.1974  Val Loss: 3.5321\n",
            "Epoch: 6/10... Step: 12640... Loss: 2.6007... ppl: 34.0354  Val Loss: 3.5274\n",
            "Epoch: 6/10... Step: 12672... Loss: 3.2314... ppl: 34.2744  Val Loss: 3.5344\n",
            "Epoch: 6/10... Step: 12704... Loss: 2.4485... ppl: 34.1884  Val Loss: 3.5319\n",
            "Epoch: 6/10... Step: 12736... Loss: 3.2792... ppl: 34.1131  Val Loss: 3.5297\n",
            "Epoch: 6/10... Step: 12768... Loss: 2.6031... ppl: 34.5005  Val Loss: 3.5410\n",
            "Epoch: 6/10... Step: 12800... Loss: 2.8368... ppl: 34.1726  Val Loss: 3.5314\n",
            "Epoch: 6/10... Step: 12832... Loss: 2.9103... ppl: 34.1275  Val Loss: 3.5301\n",
            "Epoch: 6/10... Step: 12864... Loss: 2.8777... ppl: 34.3000  Val Loss: 3.5351\n",
            "Epoch: 6/10... Step: 12896... Loss: 3.2691... ppl: 33.9673  Val Loss: 3.5254\n",
            "Epoch: 6/10... Step: 12928... Loss: 2.7122... ppl: 34.0098  Val Loss: 3.5266\n",
            "Epoch: 6/10... Step: 12960... Loss: 2.9547... ppl: 34.0985  Val Loss: 3.5293\n",
            "Epoch: 6/10... Step: 12992... Loss: 3.1014... ppl: 33.9724  Val Loss: 3.5255\n",
            "Epoch: 6/10... Step: 13024... Loss: 2.4515... ppl: 34.0553  Val Loss: 3.5280\n",
            "Epoch: 6/10... Step: 13056... Loss: 2.6506... ppl: 34.1131  Val Loss: 3.5297\n",
            "Epoch: 6/10... Step: 13088... Loss: 2.7008... ppl: 34.2361  Val Loss: 3.5333\n",
            "Epoch: 6/10... Step: 13120... Loss: 3.2102... ppl: 34.0372  Val Loss: 3.5275\n",
            "Epoch: 6/10... Step: 13152... Loss: 2.7299... ppl: 34.3219  Val Loss: 3.5358\n",
            "Epoch: 6/10... Step: 13184... Loss: 3.3232... ppl: 34.1371  Val Loss: 3.5304\n",
            "Epoch: 6/10... Step: 13216... Loss: 3.4583... ppl: 34.0326  Val Loss: 3.5273\n",
            "Epoch: 6/10... Step: 13248... Loss: 3.4415... ppl: 34.1625  Val Loss: 3.5311\n",
            "Epoch: 6/10... Step: 13280... Loss: 3.1793... ppl: 34.1323  Val Loss: 3.5302\n",
            "Epoch: 6/10... Step: 13312... Loss: 2.9368... ppl: 34.1807  Val Loss: 3.5317\n",
            "Epoch: 6/10... Step: 13344... Loss: 2.4926... ppl: 34.1231  Val Loss: 3.5300\n",
            "Epoch: 6/10... Step: 13376... Loss: 2.4843... ppl: 34.0173  Val Loss: 3.5269\n",
            "Epoch: 6/10... Step: 13408... Loss: 2.2394... ppl: 34.1848  Val Loss: 3.5318\n",
            "Epoch: 6/10... Step: 13440... Loss: 3.3499... ppl: 34.1206  Val Loss: 3.5299\n",
            "Epoch: 6/10... Step: 13472... Loss: 3.1113... ppl: 34.0974  Val Loss: 3.5292\n",
            "Epoch: 6/10... Step: 13504... Loss: 2.7835... ppl: 34.3252  Val Loss: 3.5359\n",
            "Epoch: 6/10... Step: 13536... Loss: 3.0831... ppl: 34.3704  Val Loss: 3.5372\n",
            "Epoch: 6/10... Step: 13568... Loss: 2.7662... ppl: 34.2002  Val Loss: 3.5322\n",
            "Epoch: 6/10... Step: 13600... Loss: 2.8079... ppl: 34.0333  Val Loss: 3.5273\n",
            "Epoch: 6/10... Step: 13632... Loss: 3.7158... ppl: 34.3679  Val Loss: 3.5371\n",
            "Epoch: 6/10... Step: 13664... Loss: 2.7463... ppl: 34.0781  Val Loss: 3.5287\n",
            "Epoch: 6/10... Step: 13696... Loss: 3.2518... ppl: 34.1196  Val Loss: 3.5299\n",
            "Epoch: 6/10... Step: 13728... Loss: 2.3959... ppl: 34.3019  Val Loss: 3.5352\n",
            "Epoch: 6/10... Step: 13760... Loss: 3.1882... ppl: 34.1626  Val Loss: 3.5311\n",
            "Epoch: 6/10... Step: 13792... Loss: 3.1321... ppl: 34.3047  Val Loss: 3.5353\n",
            "Epoch: 6/10... Step: 13824... Loss: 2.5304... ppl: 34.4141  Val Loss: 3.5385\n",
            "Epoch: 6/10... Step: 13856... Loss: 3.2930... ppl: 34.3155  Val Loss: 3.5356\n",
            "Epoch: 6/10... Step: 13888... Loss: 2.8110... ppl: 34.1261  Val Loss: 3.5301\n",
            "Epoch: 6/10... Step: 13920... Loss: 3.3549... ppl: 34.2621  Val Loss: 3.5340\n",
            "Epoch: 6/10... Step: 13952... Loss: 2.1620... ppl: 34.4176  Val Loss: 3.5386\n",
            "Epoch: 6/10... Step: 13984... Loss: 2.9775... ppl: 34.5470  Val Loss: 3.5423\n",
            "Epoch: 6/10... Step: 14016... Loss: 2.5624... ppl: 34.2112  Val Loss: 3.5326\n",
            "Epoch: 6/10... Step: 14048... Loss: 2.4583... ppl: 34.0966  Val Loss: 3.5292\n",
            "Epoch: 7/10... Step: 14080... Loss: 2.9812... ppl: 34.2547  Val Loss: 3.5338\n",
            "Epoch: 7/10... Step: 14112... Loss: 2.0646... ppl: 34.5330  Val Loss: 3.5419\n",
            "Epoch: 7/10... Step: 14144... Loss: 2.6593... ppl: 34.2448  Val Loss: 3.5335\n",
            "Epoch: 7/10... Step: 14176... Loss: 2.6671... ppl: 34.4039  Val Loss: 3.5382\n",
            "Epoch: 7/10... Step: 14208... Loss: 2.4510... ppl: 34.3592  Val Loss: 3.5369\n",
            "Epoch: 7/10... Step: 14240... Loss: 2.7815... ppl: 34.3643  Val Loss: 3.5370\n",
            "Epoch: 7/10... Step: 14272... Loss: 2.3068... ppl: 34.5450  Val Loss: 3.5423\n",
            "Epoch: 7/10... Step: 14304... Loss: 2.3025... ppl: 34.5494  Val Loss: 3.5424\n",
            "Epoch: 7/10... Step: 14336... Loss: 2.6560... ppl: 34.6160  Val Loss: 3.5443\n",
            "Epoch: 7/10... Step: 14368... Loss: 3.4181... ppl: 35.0130  Val Loss: 3.5557\n",
            "Epoch: 7/10... Step: 14400... Loss: 2.6958... ppl: 34.8125  Val Loss: 3.5500\n",
            "Epoch: 7/10... Step: 14432... Loss: 2.9299... ppl: 34.4865  Val Loss: 3.5406\n",
            "Epoch: 7/10... Step: 14464... Loss: 3.0479... ppl: 34.3696  Val Loss: 3.5372\n",
            "Epoch: 7/10... Step: 14496... Loss: 3.0435... ppl: 34.7372  Val Loss: 3.5478\n",
            "Epoch: 7/10... Step: 14528... Loss: 2.2498... ppl: 35.0336  Val Loss: 3.5563\n",
            "Epoch: 7/10... Step: 14560... Loss: 2.4191... ppl: 34.9508  Val Loss: 3.5539\n",
            "Epoch: 7/10... Step: 14592... Loss: 2.5316... ppl: 34.6835  Val Loss: 3.5463\n",
            "Epoch: 7/10... Step: 14624... Loss: 2.1506... ppl: 34.6486  Val Loss: 3.5453\n",
            "Epoch: 7/10... Step: 14656... Loss: 3.0226... ppl: 34.8877  Val Loss: 3.5521\n",
            "Epoch: 7/10... Step: 14688... Loss: 2.9503... ppl: 35.0163  Val Loss: 3.5558\n",
            "Epoch: 7/10... Step: 14720... Loss: 3.6166... ppl: 34.9450  Val Loss: 3.5538\n",
            "Epoch: 7/10... Step: 14752... Loss: 3.0110... ppl: 35.1250  Val Loss: 3.5589\n",
            "Epoch: 7/10... Step: 14784... Loss: 2.1647... ppl: 34.9151  Val Loss: 3.5529\n",
            "Epoch: 7/10... Step: 14816... Loss: 2.6965... ppl: 35.0248  Val Loss: 3.5561\n",
            "Epoch: 7/10... Step: 14848... Loss: 2.4309... ppl: 34.7764  Val Loss: 3.5489\n",
            "Epoch: 7/10... Step: 14880... Loss: 2.7504... ppl: 34.9976  Val Loss: 3.5553\n",
            "Epoch: 7/10... Step: 14912... Loss: 2.5191... ppl: 35.0720  Val Loss: 3.5574\n",
            "Epoch: 7/10... Step: 14944... Loss: 2.9942... ppl: 34.8893  Val Loss: 3.5522\n",
            "Epoch: 7/10... Step: 14976... Loss: 2.5894... ppl: 34.7758  Val Loss: 3.5489\n",
            "Epoch: 7/10... Step: 15008... Loss: 2.8910... ppl: 35.0405  Val Loss: 3.5565\n",
            "Epoch: 7/10... Step: 15040... Loss: 2.1453... ppl: 34.9016  Val Loss: 3.5525\n",
            "Epoch: 7/10... Step: 15072... Loss: 3.1303... ppl: 34.8263  Val Loss: 3.5504\n",
            "Epoch: 7/10... Step: 15104... Loss: 2.7548... ppl: 35.2294  Val Loss: 3.5619\n",
            "Epoch: 7/10... Step: 15136... Loss: 3.2610... ppl: 35.1326  Val Loss: 3.5591\n",
            "Epoch: 7/10... Step: 15168... Loss: 2.4421... ppl: 34.8406  Val Loss: 3.5508\n",
            "Epoch: 7/10... Step: 15200... Loss: 2.6922... ppl: 34.9775  Val Loss: 3.5547\n",
            "Epoch: 7/10... Step: 15232... Loss: 3.1243... ppl: 34.8190  Val Loss: 3.5502\n",
            "Epoch: 7/10... Step: 15264... Loss: 2.7926... ppl: 34.7220  Val Loss: 3.5474\n",
            "Epoch: 7/10... Step: 15296... Loss: 2.9272... ppl: 34.8377  Val Loss: 3.5507\n",
            "Epoch: 7/10... Step: 15328... Loss: 2.6580... ppl: 34.6922  Val Loss: 3.5465\n",
            "Epoch: 7/10... Step: 15360... Loss: 2.7383... ppl: 34.8809  Val Loss: 3.5519\n",
            "Epoch: 7/10... Step: 15392... Loss: 2.8131... ppl: 34.8247  Val Loss: 3.5503\n",
            "Epoch: 7/10... Step: 15424... Loss: 2.2417... ppl: 35.1039  Val Loss: 3.5583\n",
            "Epoch: 7/10... Step: 15456... Loss: 3.1720... ppl: 34.9115  Val Loss: 3.5528\n",
            "Epoch: 7/10... Step: 15488... Loss: 2.7697... ppl: 34.9958  Val Loss: 3.5552\n",
            "Epoch: 7/10... Step: 15520... Loss: 3.0195... ppl: 34.9887  Val Loss: 3.5550\n",
            "Epoch: 7/10... Step: 15552... Loss: 2.5626... ppl: 34.7176  Val Loss: 3.5472\n",
            "Epoch: 7/10... Step: 15584... Loss: 3.3110... ppl: 34.9050  Val Loss: 3.5526\n",
            "Epoch: 7/10... Step: 15616... Loss: 2.1631... ppl: 34.9492  Val Loss: 3.5539\n",
            "Epoch: 7/10... Step: 15648... Loss: 2.7708... ppl: 34.9858  Val Loss: 3.5549\n",
            "Epoch: 7/10... Step: 15680... Loss: 2.7168... ppl: 34.9556  Val Loss: 3.5541\n",
            "Epoch: 7/10... Step: 15712... Loss: 2.2469... ppl: 34.7849  Val Loss: 3.5492\n",
            "Epoch: 7/10... Step: 15744... Loss: 2.8301... ppl: 34.9707  Val Loss: 3.5545\n",
            "Epoch: 7/10... Step: 15776... Loss: 2.9248... ppl: 35.0087  Val Loss: 3.5556\n",
            "Epoch: 7/10... Step: 15808... Loss: 3.0640... ppl: 34.8847  Val Loss: 3.5520\n",
            "Epoch: 7/10... Step: 15840... Loss: 3.4753... ppl: 35.1123  Val Loss: 3.5586\n",
            "Epoch: 7/10... Step: 15872... Loss: 3.2197... ppl: 34.9934  Val Loss: 3.5552\n",
            "Epoch: 7/10... Step: 15904... Loss: 2.3873... ppl: 35.0674  Val Loss: 3.5573\n",
            "Epoch: 7/10... Step: 15936... Loss: 2.6573... ppl: 34.9006  Val Loss: 3.5525\n",
            "Epoch: 7/10... Step: 15968... Loss: 1.9819... ppl: 35.2147  Val Loss: 3.5615\n",
            "Epoch: 7/10... Step: 16000... Loss: 2.8064... ppl: 35.0230  Val Loss: 3.5560\n",
            "Epoch: 7/10... Step: 16032... Loss: 2.5557... ppl: 34.8302  Val Loss: 3.5505\n",
            "Epoch: 7/10... Step: 16064... Loss: 2.3110... ppl: 35.2386  Val Loss: 3.5621\n",
            "Epoch: 7/10... Step: 16096... Loss: 2.2016... ppl: 34.9552  Val Loss: 3.5541\n",
            "Epoch: 7/10... Step: 16128... Loss: 2.5725... ppl: 35.0150  Val Loss: 3.5558\n",
            "Epoch: 7/10... Step: 16160... Loss: 2.7543... ppl: 35.2056  Val Loss: 3.5612\n",
            "Epoch: 7/10... Step: 16192... Loss: 2.5671... ppl: 35.3170  Val Loss: 3.5644\n",
            "Epoch: 7/10... Step: 16224... Loss: 3.1336... ppl: 34.9569  Val Loss: 3.5541\n",
            "Epoch: 7/10... Step: 16256... Loss: 2.3831... ppl: 35.1975  Val Loss: 3.5610\n",
            "Epoch: 7/10... Step: 16288... Loss: 2.7995... ppl: 35.1763  Val Loss: 3.5604\n",
            "Epoch: 7/10... Step: 16320... Loss: 2.3222... ppl: 35.6052  Val Loss: 3.5725\n",
            "Epoch: 7/10... Step: 16352... Loss: 2.4907... ppl: 35.2352  Val Loss: 3.5620\n",
            "Epoch: 7/10... Step: 16384... Loss: 3.4326... ppl: 34.9711  Val Loss: 3.5545\n",
            "Epoch: 8/10... Step: 16416... Loss: 3.2400... ppl: 34.9656  Val Loss: 3.5544\n",
            "Epoch: 8/10... Step: 16448... Loss: 2.6126... ppl: 35.5346  Val Loss: 3.5705\n",
            "Epoch: 8/10... Step: 16480... Loss: 2.7012... ppl: 35.1945  Val Loss: 3.5609\n",
            "Epoch: 8/10... Step: 16512... Loss: 1.7171... ppl: 35.2361  Val Loss: 3.5621\n",
            "Epoch: 8/10... Step: 16544... Loss: 2.6795... ppl: 35.4264  Val Loss: 3.5675\n",
            "Epoch: 8/10... Step: 16576... Loss: 2.9280... ppl: 35.2740  Val Loss: 3.5631\n",
            "Epoch: 8/10... Step: 16608... Loss: 2.9687... ppl: 35.4357  Val Loss: 3.5677\n",
            "Epoch: 8/10... Step: 16640... Loss: 2.4196... ppl: 35.5330  Val Loss: 3.5705\n",
            "Epoch: 8/10... Step: 16672... Loss: 2.7488... ppl: 35.5457  Val Loss: 3.5708\n",
            "Epoch: 8/10... Step: 16704... Loss: 2.8085... ppl: 35.9107  Val Loss: 3.5810\n",
            "Epoch: 8/10... Step: 16736... Loss: 3.0346... ppl: 35.8811  Val Loss: 3.5802\n",
            "Epoch: 8/10... Step: 16768... Loss: 2.9213... ppl: 35.3844  Val Loss: 3.5663\n",
            "Epoch: 8/10... Step: 16800... Loss: 2.3142... ppl: 35.1115  Val Loss: 3.5585\n",
            "Epoch: 8/10... Step: 16832... Loss: 2.4047... ppl: 35.4334  Val Loss: 3.5677\n",
            "Epoch: 8/10... Step: 16864... Loss: 2.6370... ppl: 35.7508  Val Loss: 3.5766\n",
            "Epoch: 8/10... Step: 16896... Loss: 2.4181... ppl: 35.8676  Val Loss: 3.5798\n",
            "Epoch: 8/10... Step: 16928... Loss: 2.4709... ppl: 35.5323  Val Loss: 3.5704\n",
            "Epoch: 8/10... Step: 16960... Loss: 2.4311... ppl: 35.5648  Val Loss: 3.5714\n",
            "Epoch: 8/10... Step: 16992... Loss: 2.5837... ppl: 35.6588  Val Loss: 3.5740\n",
            "Epoch: 8/10... Step: 17024... Loss: 2.2771... ppl: 35.8111  Val Loss: 3.5783\n",
            "Epoch: 8/10... Step: 17056... Loss: 2.5339... ppl: 35.9138  Val Loss: 3.5811\n",
            "Epoch: 8/10... Step: 17088... Loss: 3.2813... ppl: 35.9093  Val Loss: 3.5810\n",
            "Epoch: 8/10... Step: 17120... Loss: 2.7261... ppl: 35.9395  Val Loss: 3.5818\n",
            "Epoch: 8/10... Step: 17152... Loss: 3.1282... ppl: 36.1055  Val Loss: 3.5864\n",
            "Epoch: 8/10... Step: 17184... Loss: 2.4964... ppl: 35.7210  Val Loss: 3.5757\n",
            "Epoch: 8/10... Step: 17216... Loss: 2.4140... ppl: 35.8447  Val Loss: 3.5792\n",
            "Epoch: 8/10... Step: 17248... Loss: 2.2941... ppl: 35.9556  Val Loss: 3.5823\n",
            "Epoch: 8/10... Step: 17280... Loss: 2.3599... ppl: 35.8320  Val Loss: 3.5788\n",
            "Epoch: 8/10... Step: 17312... Loss: 3.4294... ppl: 35.6729  Val Loss: 3.5744\n",
            "Epoch: 8/10... Step: 17344... Loss: 2.5515... ppl: 35.8880  Val Loss: 3.5804\n",
            "Epoch: 8/10... Step: 17376... Loss: 2.7467... ppl: 35.9558  Val Loss: 3.5823\n",
            "Epoch: 8/10... Step: 17408... Loss: 2.5358... ppl: 35.9043  Val Loss: 3.5809\n",
            "Epoch: 8/10... Step: 17440... Loss: 2.5972... ppl: 36.1264  Val Loss: 3.5870\n",
            "Epoch: 8/10... Step: 17472... Loss: 2.6337... ppl: 36.1831  Val Loss: 3.5886\n",
            "Epoch: 8/10... Step: 17504... Loss: 2.7439... ppl: 35.6761  Val Loss: 3.5745\n",
            "Epoch: 8/10... Step: 17536... Loss: 2.6355... ppl: 35.8990  Val Loss: 3.5807\n",
            "Epoch: 8/10... Step: 17568... Loss: 2.7836... ppl: 35.9771  Val Loss: 3.5829\n",
            "Epoch: 8/10... Step: 17600... Loss: 2.5319... ppl: 35.5980  Val Loss: 3.5723\n",
            "Epoch: 8/10... Step: 17632... Loss: 2.6738... ppl: 35.6869  Val Loss: 3.5748\n",
            "Epoch: 8/10... Step: 17664... Loss: 2.5890... ppl: 35.5650  Val Loss: 3.5714\n",
            "Epoch: 8/10... Step: 17696... Loss: 3.0215... ppl: 35.7271  Val Loss: 3.5759\n",
            "Epoch: 8/10... Step: 17728... Loss: 3.0837... ppl: 35.5824  Val Loss: 3.5719\n",
            "Epoch: 8/10... Step: 17760... Loss: 2.5893... ppl: 35.9653  Val Loss: 3.5826\n",
            "Epoch: 8/10... Step: 17792... Loss: 2.5467... ppl: 35.9686  Val Loss: 3.5826\n",
            "Epoch: 8/10... Step: 17824... Loss: 2.8364... ppl: 35.7458  Val Loss: 3.5764\n",
            "Epoch: 8/10... Step: 17856... Loss: 2.3890... ppl: 35.9830  Val Loss: 3.5830\n",
            "Epoch: 8/10... Step: 17888... Loss: 2.6841... ppl: 35.7252  Val Loss: 3.5759\n",
            "Epoch: 8/10... Step: 17920... Loss: 2.1832... ppl: 35.7629  Val Loss: 3.5769\n",
            "Epoch: 8/10... Step: 17952... Loss: 2.6498... ppl: 35.8989  Val Loss: 3.5807\n",
            "Epoch: 8/10... Step: 17984... Loss: 2.7078... ppl: 36.0433  Val Loss: 3.5847\n",
            "Epoch: 8/10... Step: 18016... Loss: 2.8113... ppl: 36.0715  Val Loss: 3.5855\n",
            "Epoch: 8/10... Step: 18048... Loss: 2.9949... ppl: 35.7153  Val Loss: 3.5756\n",
            "Epoch: 8/10... Step: 18080... Loss: 3.0328... ppl: 35.8853  Val Loss: 3.5803\n",
            "Epoch: 8/10... Step: 18112... Loss: 2.2686... ppl: 36.0223  Val Loss: 3.5841\n",
            "Epoch: 8/10... Step: 18144... Loss: 3.3602... ppl: 35.8319  Val Loss: 3.5788\n",
            "Epoch: 8/10... Step: 18176... Loss: 2.8897... ppl: 36.0362  Val Loss: 3.5845\n",
            "Epoch: 8/10... Step: 18208... Loss: 2.7521... ppl: 35.9471  Val Loss: 3.5820\n",
            "Epoch: 8/10... Step: 18240... Loss: 2.7973... ppl: 36.0937  Val Loss: 3.5861\n",
            "Epoch: 8/10... Step: 18272... Loss: 1.9908... ppl: 35.9200  Val Loss: 3.5813\n",
            "Epoch: 8/10... Step: 18304... Loss: 2.9501... ppl: 36.0394  Val Loss: 3.5846\n",
            "Epoch: 8/10... Step: 18336... Loss: 3.0575... ppl: 35.9905  Val Loss: 3.5833\n",
            "Epoch: 8/10... Step: 18368... Loss: 2.8787... ppl: 35.7720  Val Loss: 3.5772\n",
            "Epoch: 8/10... Step: 18400... Loss: 2.7435... ppl: 36.2185  Val Loss: 3.5896\n",
            "Epoch: 8/10... Step: 18432... Loss: 3.0475... ppl: 35.9931  Val Loss: 3.5833\n",
            "Epoch: 8/10... Step: 18464... Loss: 2.4341... ppl: 35.8601  Val Loss: 3.5796\n",
            "Epoch: 8/10... Step: 18496... Loss: 2.0793... ppl: 36.3225  Val Loss: 3.5924\n",
            "Epoch: 8/10... Step: 18528... Loss: 2.8968... ppl: 36.3071  Val Loss: 3.5920\n",
            "Epoch: 8/10... Step: 18560... Loss: 2.3041... ppl: 35.9921  Val Loss: 3.5833\n",
            "Epoch: 8/10... Step: 18592... Loss: 2.8538... ppl: 36.1161  Val Loss: 3.5867\n",
            "Epoch: 8/10... Step: 18624... Loss: 2.7842... ppl: 36.0815  Val Loss: 3.5858\n",
            "Epoch: 8/10... Step: 18656... Loss: 3.5186... ppl: 36.7205  Val Loss: 3.6033\n",
            "Epoch: 8/10... Step: 18688... Loss: 2.2354... ppl: 36.3786  Val Loss: 3.5940\n",
            "Epoch: 8/10... Step: 18720... Loss: 2.5369... ppl: 35.9907  Val Loss: 3.5833\n",
            "Epoch: 9/10... Step: 18752... Loss: 2.4420... ppl: 35.9220  Val Loss: 3.5813\n",
            "Epoch: 9/10... Step: 18784... Loss: 2.5139... ppl: 36.3985  Val Loss: 3.5945\n",
            "Epoch: 9/10... Step: 18816... Loss: 2.8333... ppl: 36.2792  Val Loss: 3.5912\n",
            "Epoch: 9/10... Step: 18848... Loss: 2.8310... ppl: 36.1494  Val Loss: 3.5877\n",
            "Epoch: 9/10... Step: 18880... Loss: 2.8845... ppl: 36.4649  Val Loss: 3.5963\n",
            "Epoch: 9/10... Step: 18912... Loss: 2.9182... ppl: 36.2396  Val Loss: 3.5902\n",
            "Epoch: 9/10... Step: 18944... Loss: 2.6725... ppl: 36.3363  Val Loss: 3.5928\n",
            "Epoch: 9/10... Step: 18976... Loss: 2.7796... ppl: 36.4338  Val Loss: 3.5955\n",
            "Epoch: 9/10... Step: 19008... Loss: 3.0641... ppl: 36.5818  Val Loss: 3.5996\n",
            "Epoch: 9/10... Step: 19040... Loss: 2.5135... ppl: 36.7740  Val Loss: 3.6048\n",
            "Epoch: 9/10... Step: 19072... Loss: 2.5222... ppl: 36.9335  Val Loss: 3.6091\n",
            "Epoch: 9/10... Step: 19104... Loss: 2.5590... ppl: 36.5217  Val Loss: 3.5979\n",
            "Epoch: 9/10... Step: 19136... Loss: 1.8830... ppl: 36.0576  Val Loss: 3.5851\n",
            "Epoch: 9/10... Step: 19168... Loss: 2.3708... ppl: 36.2485  Val Loss: 3.5904\n",
            "Epoch: 9/10... Step: 19200... Loss: 3.0238... ppl: 36.6235  Val Loss: 3.6007\n",
            "Epoch: 9/10... Step: 19232... Loss: 2.9092... ppl: 37.0519  Val Loss: 3.6123\n",
            "Epoch: 9/10... Step: 19264... Loss: 2.7071... ppl: 36.7016  Val Loss: 3.6028\n",
            "Epoch: 9/10... Step: 19296... Loss: 3.0574... ppl: 36.5980  Val Loss: 3.6000\n",
            "Epoch: 9/10... Step: 19328... Loss: 2.8628... ppl: 36.5455  Val Loss: 3.5986\n",
            "Epoch: 9/10... Step: 19360... Loss: 2.9128... ppl: 36.7730  Val Loss: 3.6048\n",
            "Epoch: 9/10... Step: 19392... Loss: 2.4006... ppl: 37.0007  Val Loss: 3.6109\n",
            "Epoch: 9/10... Step: 19424... Loss: 2.7692... ppl: 36.9361  Val Loss: 3.6092\n",
            "Epoch: 9/10... Step: 19456... Loss: 2.5512... ppl: 36.9011  Val Loss: 3.6082\n",
            "Epoch: 9/10... Step: 19488... Loss: 2.4646... ppl: 37.0553  Val Loss: 3.6124\n",
            "Epoch: 9/10... Step: 19520... Loss: 2.6004... ppl: 36.8815  Val Loss: 3.6077\n",
            "Epoch: 9/10... Step: 19552... Loss: 2.2067... ppl: 36.8702  Val Loss: 3.6074\n",
            "Epoch: 9/10... Step: 19584... Loss: 2.2732... ppl: 37.0328  Val Loss: 3.6118\n",
            "Epoch: 9/10... Step: 19616... Loss: 2.8472... ppl: 36.9879  Val Loss: 3.6106\n",
            "Epoch: 9/10... Step: 19648... Loss: 2.8848... ppl: 36.7137  Val Loss: 3.6032\n",
            "Epoch: 9/10... Step: 19680... Loss: 2.5869... ppl: 36.7972  Val Loss: 3.6054\n",
            "Epoch: 9/10... Step: 19712... Loss: 2.2593... ppl: 36.9686  Val Loss: 3.6101\n",
            "Epoch: 9/10... Step: 19744... Loss: 1.9720... ppl: 36.9991  Val Loss: 3.6109\n",
            "Epoch: 9/10... Step: 19776... Loss: 3.0203... ppl: 37.1893  Val Loss: 3.6160\n",
            "Epoch: 9/10... Step: 19808... Loss: 2.0640... ppl: 37.3902  Val Loss: 3.6214\n",
            "Epoch: 9/10... Step: 19840... Loss: 2.3568... ppl: 36.8791  Val Loss: 3.6076\n",
            "Epoch: 9/10... Step: 19872... Loss: 2.7945... ppl: 36.9692  Val Loss: 3.6101\n",
            "Epoch: 9/10... Step: 19904... Loss: 2.4998... ppl: 37.2001  Val Loss: 3.6163\n",
            "Epoch: 9/10... Step: 19936... Loss: 2.4655... ppl: 36.7294  Val Loss: 3.6036\n",
            "Epoch: 9/10... Step: 19968... Loss: 2.5180... ppl: 36.7526  Val Loss: 3.6042\n",
            "Epoch: 9/10... Step: 20000... Loss: 3.0427... ppl: 36.7971  Val Loss: 3.6054\n",
            "Epoch: 9/10... Step: 20032... Loss: 2.8315... ppl: 36.7865  Val Loss: 3.6051\n",
            "Epoch: 9/10... Step: 20064... Loss: 2.4562... ppl: 36.7381  Val Loss: 3.6038\n",
            "Epoch: 9/10... Step: 20096... Loss: 2.5482... ppl: 37.0622  Val Loss: 3.6126\n",
            "Epoch: 9/10... Step: 20128... Loss: 2.8043... ppl: 37.2600  Val Loss: 3.6179\n",
            "Epoch: 9/10... Step: 20160... Loss: 2.9508... ppl: 36.9897  Val Loss: 3.6106\n",
            "Epoch: 9/10... Step: 20192... Loss: 2.3065... ppl: 37.1260  Val Loss: 3.6143\n",
            "Epoch: 9/10... Step: 20224... Loss: 2.5221... ppl: 36.9978  Val Loss: 3.6109\n",
            "Epoch: 9/10... Step: 20256... Loss: 2.4042... ppl: 36.7356  Val Loss: 3.6037\n",
            "Epoch: 9/10... Step: 20288... Loss: 2.8618... ppl: 36.8448  Val Loss: 3.6067\n",
            "Epoch: 9/10... Step: 20320... Loss: 2.6778... ppl: 37.0557  Val Loss: 3.6124\n",
            "Epoch: 9/10... Step: 20352... Loss: 2.3564... ppl: 37.0224  Val Loss: 3.6115\n",
            "Epoch: 9/10... Step: 20384... Loss: 2.7410... ppl: 36.8651  Val Loss: 3.6073\n",
            "Epoch: 9/10... Step: 20416... Loss: 2.4836... ppl: 36.8371  Val Loss: 3.6065\n",
            "Epoch: 9/10... Step: 20448... Loss: 2.5380... ppl: 37.0625  Val Loss: 3.6126\n",
            "Epoch: 9/10... Step: 20480... Loss: 2.5055... ppl: 36.9211  Val Loss: 3.6088\n",
            "Epoch: 9/10... Step: 20512... Loss: 2.7599... ppl: 36.8356  Val Loss: 3.6065\n",
            "Epoch: 9/10... Step: 20544... Loss: 2.5441... ppl: 37.0537  Val Loss: 3.6124\n",
            "Epoch: 9/10... Step: 20576... Loss: 2.5770... ppl: 37.3459  Val Loss: 3.6202\n",
            "Epoch: 9/10... Step: 20608... Loss: 2.4880... ppl: 37.0046  Val Loss: 3.6110\n",
            "Epoch: 9/10... Step: 20640... Loss: 2.2912... ppl: 37.1105  Val Loss: 3.6139\n",
            "Epoch: 9/10... Step: 20672... Loss: 2.7631... ppl: 37.1615  Val Loss: 3.6153\n",
            "Epoch: 9/10... Step: 20704... Loss: 2.6750... ppl: 36.8509  Val Loss: 3.6069\n",
            "Epoch: 9/10... Step: 20736... Loss: 2.4461... ppl: 37.2168  Val Loss: 3.6168\n",
            "Epoch: 9/10... Step: 20768... Loss: 2.8225... ppl: 37.2361  Val Loss: 3.6173\n",
            "Epoch: 9/10... Step: 20800... Loss: 2.7769... ppl: 36.9591  Val Loss: 3.6098\n",
            "Epoch: 9/10... Step: 20832... Loss: 2.8645... ppl: 37.3136  Val Loss: 3.6194\n",
            "Epoch: 9/10... Step: 20864... Loss: 2.4372... ppl: 37.4563  Val Loss: 3.6232\n",
            "Epoch: 9/10... Step: 20896... Loss: 2.6503... ppl: 37.1658  Val Loss: 3.6154\n",
            "Epoch: 9/10... Step: 20928... Loss: 2.4607... ppl: 37.0966  Val Loss: 3.6135\n",
            "Epoch: 9/10... Step: 20960... Loss: 2.5990... ppl: 37.0943  Val Loss: 3.6135\n",
            "Epoch: 9/10... Step: 20992... Loss: 2.2471... ppl: 37.5944  Val Loss: 3.6269\n",
            "Epoch: 9/10... Step: 21024... Loss: 2.3151... ppl: 37.6909  Val Loss: 3.6294\n",
            "Epoch: 9/10... Step: 21056... Loss: 2.5661... ppl: 37.1057  Val Loss: 3.6138\n",
            "Epoch: 10/10... Step: 21088... Loss: 2.7649... ppl: 36.9154  Val Loss: 3.6086\n",
            "Epoch: 10/10... Step: 21120... Loss: 2.4902... ppl: 37.3193  Val Loss: 3.6195\n",
            "Epoch: 10/10... Step: 21152... Loss: 2.6735... ppl: 37.4409  Val Loss: 3.6228\n",
            "Epoch: 10/10... Step: 21184... Loss: 2.6400... ppl: 37.2796  Val Loss: 3.6184\n",
            "Epoch: 10/10... Step: 21216... Loss: 2.2820... ppl: 37.4520  Val Loss: 3.6231\n",
            "Epoch: 10/10... Step: 21248... Loss: 2.4324... ppl: 37.3843  Val Loss: 3.6213\n",
            "Epoch: 10/10... Step: 21280... Loss: 3.1455... ppl: 37.4991  Val Loss: 3.6243\n",
            "Epoch: 10/10... Step: 21312... Loss: 2.6739... ppl: 37.5204  Val Loss: 3.6249\n",
            "Epoch: 10/10... Step: 21344... Loss: 2.6533... ppl: 37.6287  Val Loss: 3.6278\n",
            "Epoch: 10/10... Step: 21376... Loss: 2.4184... ppl: 37.6824  Val Loss: 3.6292\n",
            "Epoch: 10/10... Step: 21408... Loss: 2.6150... ppl: 38.0194  Val Loss: 3.6381\n",
            "Epoch: 10/10... Step: 21440... Loss: 2.7958... ppl: 37.4845  Val Loss: 3.6239\n",
            "Epoch: 10/10... Step: 21472... Loss: 2.4395... ppl: 37.1377  Val Loss: 3.6146\n",
            "Epoch: 10/10... Step: 21504... Loss: 2.5704... ppl: 37.0562  Val Loss: 3.6124\n",
            "Epoch: 10/10... Step: 21536... Loss: 2.2776... ppl: 37.4002  Val Loss: 3.6217\n",
            "Epoch: 10/10... Step: 21568... Loss: 2.6652... ppl: 37.9546  Val Loss: 3.6364\n",
            "Epoch: 10/10... Step: 21600... Loss: 2.2280... ppl: 37.9164  Val Loss: 3.6354\n",
            "Epoch: 10/10... Step: 21632... Loss: 2.4197... ppl: 37.8895  Val Loss: 3.6347\n",
            "Epoch: 10/10... Step: 21664... Loss: 2.5588... ppl: 37.6470  Val Loss: 3.6283\n",
            "Epoch: 10/10... Step: 21696... Loss: 3.0000... ppl: 37.9209  Val Loss: 3.6355\n",
            "Epoch: 10/10... Step: 21728... Loss: 2.4223... ppl: 38.1302  Val Loss: 3.6410\n",
            "Epoch: 10/10... Step: 21760... Loss: 2.2204... ppl: 38.0694  Val Loss: 3.6394\n",
            "Epoch: 10/10... Step: 21792... Loss: 2.2971... ppl: 38.3350  Val Loss: 3.6464\n",
            "Epoch: 10/10... Step: 21824... Loss: 2.4001... ppl: 38.1811  Val Loss: 3.6423\n",
            "Epoch: 10/10... Step: 21856... Loss: 2.5894... ppl: 38.0849  Val Loss: 3.6398\n",
            "Epoch: 10/10... Step: 21888... Loss: 2.3494... ppl: 38.0040  Val Loss: 3.6377\n",
            "Epoch: 10/10... Step: 21920... Loss: 3.0155... ppl: 38.1322  Val Loss: 3.6411\n",
            "Epoch: 10/10... Step: 21952... Loss: 2.7274... ppl: 38.3695  Val Loss: 3.6473\n",
            "Epoch: 10/10... Step: 21984... Loss: 1.9918... ppl: 37.8814  Val Loss: 3.6345\n",
            "Epoch: 10/10... Step: 22016... Loss: 2.6580... ppl: 37.8274  Val Loss: 3.6330\n",
            "Epoch: 10/10... Step: 22048... Loss: 2.2216... ppl: 38.1179  Val Loss: 3.6407\n",
            "Epoch: 10/10... Step: 22080... Loss: 2.7408... ppl: 38.1620  Val Loss: 3.6418\n",
            "Epoch: 10/10... Step: 22112... Loss: 2.0615... ppl: 37.9209  Val Loss: 3.6355\n",
            "Epoch: 10/10... Step: 22144... Loss: 2.2794... ppl: 38.4280  Val Loss: 3.6488\n",
            "Epoch: 10/10... Step: 22176... Loss: 2.2457... ppl: 38.1192  Val Loss: 3.6407\n",
            "Epoch: 10/10... Step: 22208... Loss: 2.8335... ppl: 38.0559  Val Loss: 3.6391\n",
            "Epoch: 10/10... Step: 22240... Loss: 2.4994... ppl: 38.4041  Val Loss: 3.6482\n",
            "Epoch: 10/10... Step: 22272... Loss: 2.6683... ppl: 37.8802  Val Loss: 3.6344\n",
            "Epoch: 10/10... Step: 22304... Loss: 2.6496... ppl: 37.7577  Val Loss: 3.6312\n",
            "Epoch: 10/10... Step: 22336... Loss: 2.4251... ppl: 37.9418  Val Loss: 3.6361\n",
            "Epoch: 10/10... Step: 22368... Loss: 3.0641... ppl: 37.8122  Val Loss: 3.6326\n",
            "Epoch: 10/10... Step: 22400... Loss: 2.3992... ppl: 37.7587  Val Loss: 3.6312\n",
            "Epoch: 10/10... Step: 22432... Loss: 2.4236... ppl: 37.9426  Val Loss: 3.6361\n",
            "Epoch: 10/10... Step: 22464... Loss: 1.7669... ppl: 38.3674  Val Loss: 3.6472\n",
            "Epoch: 10/10... Step: 22496... Loss: 2.4035... ppl: 38.1214  Val Loss: 3.6408\n",
            "Epoch: 10/10... Step: 22528... Loss: 2.8326... ppl: 38.4137  Val Loss: 3.6484\n",
            "Epoch: 10/10... Step: 22560... Loss: 2.5596... ppl: 38.1119  Val Loss: 3.6405\n",
            "Epoch: 10/10... Step: 22592... Loss: 2.3722... ppl: 37.7404  Val Loss: 3.6307\n",
            "Epoch: 10/10... Step: 22624... Loss: 2.8923... ppl: 37.8776  Val Loss: 3.6344\n",
            "Epoch: 10/10... Step: 22656... Loss: 2.3788... ppl: 37.9586  Val Loss: 3.6365\n",
            "Epoch: 10/10... Step: 22688... Loss: 2.8568... ppl: 38.0162  Val Loss: 3.6380\n",
            "Epoch: 10/10... Step: 22720... Loss: 2.3860... ppl: 37.9155  Val Loss: 3.6354\n",
            "Epoch: 10/10... Step: 22752... Loss: 2.8809... ppl: 37.9186  Val Loss: 3.6354\n",
            "Epoch: 10/10... Step: 22784... Loss: 2.7122... ppl: 38.1265  Val Loss: 3.6409\n",
            "Epoch: 10/10... Step: 22816... Loss: 2.6270... ppl: 38.1696  Val Loss: 3.6420\n",
            "Epoch: 10/10... Step: 22848... Loss: 2.7653... ppl: 37.9764  Val Loss: 3.6370\n",
            "Epoch: 10/10... Step: 22880... Loss: 2.2053... ppl: 38.1942  Val Loss: 3.6427\n",
            "Epoch: 10/10... Step: 22912... Loss: 1.9075... ppl: 38.3074  Val Loss: 3.6456\n",
            "Epoch: 10/10... Step: 22944... Loss: 2.7780... ppl: 38.1606  Val Loss: 3.6418\n",
            "Epoch: 10/10... Step: 22976... Loss: 2.4685... ppl: 38.1085  Val Loss: 3.6404\n",
            "Epoch: 10/10... Step: 23008... Loss: 2.5858... ppl: 38.3999  Val Loss: 3.6481\n",
            "Epoch: 10/10... Step: 23040... Loss: 2.2243... ppl: 38.1618  Val Loss: 3.6418\n",
            "Epoch: 10/10... Step: 23072... Loss: 2.5263... ppl: 38.2525  Val Loss: 3.6442\n",
            "Epoch: 10/10... Step: 23104... Loss: 2.5156... ppl: 38.4231  Val Loss: 3.6487\n",
            "Epoch: 10/10... Step: 23136... Loss: 2.3969... ppl: 37.9987  Val Loss: 3.6376\n",
            "Epoch: 10/10... Step: 23168... Loss: 2.5455... ppl: 38.2735  Val Loss: 3.6448\n",
            "Epoch: 10/10... Step: 23200... Loss: 2.2306... ppl: 38.5199  Val Loss: 3.6512\n",
            "Epoch: 10/10... Step: 23232... Loss: 2.4169... ppl: 38.4039  Val Loss: 3.6482\n",
            "Epoch: 10/10... Step: 23264... Loss: 2.3606... ppl: 38.2620  Val Loss: 3.6445\n",
            "Epoch: 10/10... Step: 23296... Loss: 2.4793... ppl: 38.2371  Val Loss: 3.6438\n",
            "Epoch: 10/10... Step: 23328... Loss: 2.4560... ppl: 38.5708  Val Loss: 3.6525\n",
            "Epoch: 10/10... Step: 23360... Loss: 3.0091... ppl: 38.8937  Val Loss: 3.6608\n",
            "Epoch: 10/10... Step: 23392... Loss: 2.6885... ppl: 38.4120  Val Loss: 3.6484\n",
            "Epoch: 10/10... Step: 23424... Loss: 2.1186... ppl: 37.9924  Val Loss: 3.6374\n"
          ]
        }
      ]
    },
    {
      "cell_type": "markdown",
      "metadata": {
        "id": "rQ6leiAm0Wmn"
      },
      "source": [
        "# 6. Text Generation"
      ]
    },
    {
      "cell_type": "code",
      "metadata": {
        "id": "FPoIBPQpgqZy",
        "colab": {
          "base_uri": "https://localhost:8080/"
        },
        "outputId": "c55f66fe-349b-4873-f2a1-a578b6a78063"
      },
      "source": [
        "#load weights of best model\n",
        "path = 'saved_weights.pt'\n",
        "net.load_state_dict(torch.load(path))"
      ],
      "execution_count": 73,
      "outputs": [
        {
          "output_type": "execute_result",
          "data": {
            "text/plain": [
              "<All keys matched successfully>"
            ]
          },
          "metadata": {},
          "execution_count": 73
        }
      ]
    },
    {
      "cell_type": "code",
      "metadata": {
        "id": "bch2a0WglQ96"
      },
      "source": [
        "# function to generate one token\n",
        "def predict(net, tkn, h=None):\n",
        "\n",
        "  # tensor inputs\n",
        "  x = np.array([[token2int[tkn]]])\n",
        "  inputs = torch.from_numpy(x)\n",
        "\n",
        "  if(torch.cuda.is_available()):\n",
        "      inputs = inputs.cuda()\n",
        "\n",
        "  # get the output of the model\n",
        "  out, h = net(inputs, h)\n",
        "\n",
        "  # get the token probabilities\n",
        "  p = F.softmax(out, dim=1).data\n",
        "\n",
        "  if(torch.cuda.is_available()):\n",
        "      p = p.cpu()\n",
        "\n",
        "  p = p.numpy()\n",
        "  sampled_token_index = np.argmax(p, axis = 1)[0]\n",
        "\n",
        "  # return the encoded value of the predicted char and the hidden state\n",
        "  return int2token[sampled_token_index], h"
      ],
      "execution_count": 74,
      "outputs": []
    },
    {
      "cell_type": "code",
      "metadata": {
        "id": "EQR-euTiFan9"
      },
      "source": [
        "# function to fetch generated sequence  net =model object\n",
        "def sample(net, size = 2, seed_text='it is'):\n",
        "\n",
        "    if(torch.cuda.is_available()):\n",
        "        net.cuda()\n",
        "\n",
        "    net.eval()\n",
        "\n",
        "    # batch size is 1\n",
        "    h = net.init_hidden(1)\n",
        "\n",
        "    toks = seed_text.split()\n",
        "\n",
        "    # predict next token\n",
        "    for t in toks:\n",
        "      token, h = predict(net, t, h)\n",
        "\n",
        "    toks.append(token)\n",
        "\n",
        "    # predict subsequent tokens\n",
        "    for i in range(size-1):\n",
        "        token, h = predict(net, toks[-1], h)\n",
        "        toks.append(token)\n",
        "\n",
        "    return ' '.join(toks)"
      ],
      "execution_count": 76,
      "outputs": []
    },
    {
      "cell_type": "code",
      "metadata": {
        "id": "VSakRw3SHRv2",
        "colab": {
          "base_uri": "https://localhost:8080/"
        },
        "outputId": "036e9389-0571-483a-b72d-e913093c9aaa"
      },
      "source": [
        "# seed texts\n",
        "seeds = [\"i need to\",\n",
        "         \"how about a cup\",\n",
        "         \"i want to\",\n",
        "         \"can you find\",\n",
        "         \"i'm starving\"]\n",
        "\n",
        "# number of tokens to generate\n",
        "num_toks = 6\n",
        "\n",
        "# text generation\n",
        "for s in seeds:\n",
        "  # get generated text from the model\n",
        "  text_gen = sample(net, num_toks, seed_text=s)\n",
        "  # print the result\n",
        "  print(\"seed text:\", s, \">> output:\",text_gen)\n",
        "  print(\"\\n\")"
      ],
      "execution_count": 84,
      "outputs": [
        {
          "output_type": "stream",
          "name": "stdout",
          "text": [
            "seed text: i need to >> output: i need to get a ride from the airport\n",
            "\n",
            "\n",
            "seed text: how about a cup >> output: how about a cup of coffee from starbucks for me\n",
            "\n",
            "\n",
            "seed text: i want to >> output: i want to order a pizza from pizza hut\n",
            "\n",
            "\n",
            "seed text: can you find >> output: can you find me a restaurant for dinner tonight\n",
            "\n",
            "\n",
            "seed text: i'm starving >> output: i'm starving but i don't want to wait\n",
            "\n",
            "\n"
          ]
        }
      ]
    },
    {
      "cell_type": "code",
      "metadata": {
        "id": "-x61pT-Zodg3"
      },
      "source": [],
      "execution_count": null,
      "outputs": []
    }
  ]
}